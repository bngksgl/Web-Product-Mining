{
 "cells": [
  {
   "cell_type": "code",
   "execution_count": 1,
   "metadata": {
    "collapsed": true
   },
   "outputs": [],
   "source": [
    "import pandas as pd\n",
    "import numpy as np"
   ]
  },
  {
   "cell_type": "code",
   "execution_count": 2,
   "metadata": {},
   "outputs": [
    {
     "data": {
      "text/plain": [
       "['',\n",
       " '/Users/bengikoseoglu/anaconda2/lib/python27.zip',\n",
       " '/Users/bengikoseoglu/anaconda2/lib/python2.7',\n",
       " '/Users/bengikoseoglu/anaconda2/lib/python2.7/plat-darwin',\n",
       " '/Users/bengikoseoglu/anaconda2/lib/python2.7/plat-mac',\n",
       " '/Users/bengikoseoglu/anaconda2/lib/python2.7/plat-mac/lib-scriptpackages',\n",
       " '/Users/bengikoseoglu/anaconda2/lib/python2.7/lib-tk',\n",
       " '/Users/bengikoseoglu/anaconda2/lib/python2.7/lib-old',\n",
       " '/Users/bengikoseoglu/anaconda2/lib/python2.7/lib-dynload',\n",
       " '/Users/bengikoseoglu/anaconda2/lib/python2.7/site-packages',\n",
       " '/Users/bengikoseoglu/anaconda2/lib/python2.7/site-packages/aeosa',\n",
       " '/Users/bengikoseoglu/anaconda2/lib/python2.7/site-packages/IPython/extensions',\n",
       " '/Users/bengikoseoglu/.ipython',\n",
       " '/Users/bengikoseoglu/anaconda2/pkgs',\n",
       " '/Users/bengikoseoglu/anaconda2/pckgs',\n",
       " '/Users/bengikoseoglu',\n",
       " '/Library/Python/2.7/site-packages/']"
      ]
     },
     "execution_count": 2,
     "metadata": {},
     "output_type": "execute_result"
    }
   ],
   "source": [
    "import sys\n",
    "sys.path.append('/Users/bengikoseoglu/anaconda2/pkgs')\n",
    "sys.path.append('/Users/bengikoseoglu/anaconda2/pckgs')\n",
    "sys.path.append('/Users/bengikoseoglu')\n",
    "sys.path.append('/Library/Python/2.7/site-packages/')\n",
    "sys.path"
   ]
  },
  {
   "cell_type": "code",
   "execution_count": 3,
   "metadata": {
    "collapsed": true
   },
   "outputs": [],
   "source": [
    "import pandas as pd\n",
    "import numpy as np\n",
    "import datetime\n",
    "import matplotlib as mpl\n",
    "import matplotlib.pyplot as plt\n",
    "import seaborn as sns\n",
    "from pylab import *\n",
    "import plotly.plotly as py\n",
    "import plotly\n",
    "import plotly.graph_objs as go\n",
    "from pandasql import sqldf\n",
    "pysqldf = lambda q: sqldf(q, globals())"
   ]
  },
  {
   "cell_type": "code",
   "execution_count": 4,
   "metadata": {
    "collapsed": true
   },
   "outputs": [],
   "source": [
    "df=pd.read_excel('cameras_400_3_nocamera.xlsx')"
   ]
  },
  {
   "cell_type": "code",
   "execution_count": 5,
   "metadata": {},
   "outputs": [
    {
     "data": {
      "text/plain": [
       "(418, 19)"
      ]
     },
     "execution_count": 5,
     "metadata": {},
     "output_type": "execute_result"
    }
   ],
   "source": [
    "df.shape"
   ]
  },
  {
   "cell_type": "code",
   "execution_count": 6,
   "metadata": {
    "collapsed": true
   },
   "outputs": [],
   "source": [
    "df=df.rename(columns={'Leaf Node':'Leaf_Node'})"
   ]
  },
  {
   "cell_type": "code",
   "execution_count": 7,
   "metadata": {},
   "outputs": [
    {
     "data": {
      "text/html": [
       "<div>\n",
       "<style>\n",
       "    .dataframe thead tr:only-child th {\n",
       "        text-align: right;\n",
       "    }\n",
       "\n",
       "    .dataframe thead th {\n",
       "        text-align: left;\n",
       "    }\n",
       "\n",
       "    .dataframe tbody tr th {\n",
       "        vertical-align: top;\n",
       "    }\n",
       "</style>\n",
       "<table border=\"1\" class=\"dataframe\">\n",
       "  <thead>\n",
       "    <tr style=\"text-align: right;\">\n",
       "      <th></th>\n",
       "      <th>ID</th>\n",
       "      <th>name</th>\n",
       "      <th>Leaf_Node</th>\n",
       "      <th>priceCurrency</th>\n",
       "      <th>price</th>\n",
       "      <th>brand</th>\n",
       "      <th>itemCondition</th>\n",
       "      <th>availability</th>\n",
       "      <th>Description</th>\n",
       "      <th>image</th>\n",
       "      <th>gtin12</th>\n",
       "      <th>gtin13</th>\n",
       "      <th>gtin14</th>\n",
       "      <th>gtin8</th>\n",
       "      <th>ratingValue</th>\n",
       "      <th>bestRating</th>\n",
       "      <th>reviewCount</th>\n",
       "      <th>Unnamed: 17</th>\n",
       "      <th>Good Examples</th>\n",
       "    </tr>\n",
       "  </thead>\n",
       "  <tbody>\n",
       "    <tr>\n",
       "      <th>0</th>\n",
       "      <td>jessops-f2dd233dd6100c900432fd2902df8cde</td>\n",
       "      <td>Nikon Coolpix P900 Digital Camera</td>\n",
       "      <td>Bridge Cameras</td>\n",
       "      <td>GBP</td>\n",
       "      <td>479</td>\n",
       "      <td>Nikon</td>\n",
       "      <td>NaN</td>\n",
       "      <td>True</td>\n",
       "      <td>NaN</td>\n",
       "      <td>https://i.jessops.com/images/home/homepage/100...</td>\n",
       "      <td>NaN</td>\n",
       "      <td>NaN</td>\n",
       "      <td>NaN</td>\n",
       "      <td>2018-09-08</td>\n",
       "      <td>10</td>\n",
       "      <td>162.0</td>\n",
       "      <td>NaN</td>\n",
       "      <td>NaN</td>\n",
       "      <td>NaN</td>\n",
       "    </tr>\n",
       "    <tr>\n",
       "      <th>1</th>\n",
       "      <td>jessops-ff2be7ba459709194635812c728a17fd</td>\n",
       "      <td>Canon EOS 750D Digital SLR with 18-55mm IS STM...</td>\n",
       "      <td>DSLR</td>\n",
       "      <td>GBP</td>\n",
       "      <td>539</td>\n",
       "      <td>Canon</td>\n",
       "      <td>NaN</td>\n",
       "      <td>True</td>\n",
       "      <td>NaN</td>\n",
       "      <td>https://i.jessops.com/images/home/homepage/100...</td>\n",
       "      <td>NaN</td>\n",
       "      <td>NaN</td>\n",
       "      <td>NaN</td>\n",
       "      <td>2018-02-09</td>\n",
       "      <td>10</td>\n",
       "      <td>361.0</td>\n",
       "      <td>NaN</td>\n",
       "      <td>NaN</td>\n",
       "      <td>NaN</td>\n",
       "    </tr>\n",
       "    <tr>\n",
       "      <th>2</th>\n",
       "      <td>jessops-acfa4e6fdc0962be2da5bc1ed8d44357</td>\n",
       "      <td>Canon EOS 5D Mark IV Digital SLR Body</td>\n",
       "      <td>DSLR</td>\n",
       "      <td>GBP</td>\n",
       "      <td>3249</td>\n",
       "      <td>Canon</td>\n",
       "      <td>NaN</td>\n",
       "      <td>True</td>\n",
       "      <td>NaN</td>\n",
       "      <td>https://i.jessops.com/images/home/homepage/100...</td>\n",
       "      <td>NaN</td>\n",
       "      <td>NaN</td>\n",
       "      <td>NaN</td>\n",
       "      <td>NaT</td>\n",
       "      <td>2018-07-09 00:00:00</td>\n",
       "      <td>10.0</td>\n",
       "      <td>25.0</td>\n",
       "      <td>NaN</td>\n",
       "      <td>NaN</td>\n",
       "    </tr>\n",
       "    <tr>\n",
       "      <th>3</th>\n",
       "      <td>jessops-cabb446087d8428bfa741078869439b8</td>\n",
       "      <td>Canon EOS 7D Mark II Digital SLR Body</td>\n",
       "      <td>DSLR</td>\n",
       "      <td>GBP</td>\n",
       "      <td>1349</td>\n",
       "      <td>Canon</td>\n",
       "      <td>NaN</td>\n",
       "      <td>True</td>\n",
       "      <td>NaN</td>\n",
       "      <td>https://i.jessops.com/images/home/homepage/100...</td>\n",
       "      <td>NaN</td>\n",
       "      <td>NaN</td>\n",
       "      <td>NaN</td>\n",
       "      <td>NaT</td>\n",
       "      <td>2018-04-09 00:00:00</td>\n",
       "      <td>10.0</td>\n",
       "      <td>268.0</td>\n",
       "      <td>NaN</td>\n",
       "      <td>NaN</td>\n",
       "    </tr>\n",
       "    <tr>\n",
       "      <th>4</th>\n",
       "      <td>jessops-8c6e0672aa9297ee8ff4d95fa5e2edc0</td>\n",
       "      <td>Sony A6000 Mirrorless Camera in Black with 16-...</td>\n",
       "      <td>Full Frame Mirrorless Camera</td>\n",
       "      <td>GBP</td>\n",
       "      <td>449</td>\n",
       "      <td>Sony</td>\n",
       "      <td>NaN</td>\n",
       "      <td>True</td>\n",
       "      <td>NaN</td>\n",
       "      <td>https://i.jessops.com/images/home/homepage/100...</td>\n",
       "      <td>NaN</td>\n",
       "      <td>NaN</td>\n",
       "      <td>NaN</td>\n",
       "      <td>NaT</td>\n",
       "      <td>9.0</td>\n",
       "      <td>10.0</td>\n",
       "      <td>107.0</td>\n",
       "      <td>NaN</td>\n",
       "      <td>NaN</td>\n",
       "    </tr>\n",
       "  </tbody>\n",
       "</table>\n",
       "</div>"
      ],
      "text/plain": [
       "                                         ID  \\\n",
       "0  jessops-f2dd233dd6100c900432fd2902df8cde   \n",
       "1  jessops-ff2be7ba459709194635812c728a17fd   \n",
       "2  jessops-acfa4e6fdc0962be2da5bc1ed8d44357   \n",
       "3  jessops-cabb446087d8428bfa741078869439b8   \n",
       "4  jessops-8c6e0672aa9297ee8ff4d95fa5e2edc0   \n",
       "\n",
       "                                                name  \\\n",
       "0                  Nikon Coolpix P900 Digital Camera   \n",
       "1  Canon EOS 750D Digital SLR with 18-55mm IS STM...   \n",
       "2              Canon EOS 5D Mark IV Digital SLR Body   \n",
       "3              Canon EOS 7D Mark II Digital SLR Body   \n",
       "4  Sony A6000 Mirrorless Camera in Black with 16-...   \n",
       "\n",
       "                      Leaf_Node priceCurrency price  brand itemCondition  \\\n",
       "0                Bridge Cameras           GBP   479  Nikon           NaN   \n",
       "1                          DSLR           GBP   539  Canon           NaN   \n",
       "2                          DSLR           GBP  3249  Canon           NaN   \n",
       "3                          DSLR           GBP  1349  Canon           NaN   \n",
       "4  Full Frame Mirrorless Camera           GBP   449   Sony           NaN   \n",
       "\n",
       "  availability Description                                              image  \\\n",
       "0         True         NaN  https://i.jessops.com/images/home/homepage/100...   \n",
       "1         True         NaN  https://i.jessops.com/images/home/homepage/100...   \n",
       "2         True         NaN  https://i.jessops.com/images/home/homepage/100...   \n",
       "3         True         NaN  https://i.jessops.com/images/home/homepage/100...   \n",
       "4         True         NaN  https://i.jessops.com/images/home/homepage/100...   \n",
       "\n",
       "  gtin12  gtin13  gtin14      gtin8          ratingValue  bestRating  \\\n",
       "0    NaN     NaN     NaN 2018-09-08                   10       162.0   \n",
       "1    NaN     NaN     NaN 2018-02-09                   10       361.0   \n",
       "2    NaN     NaN     NaN        NaT  2018-07-09 00:00:00        10.0   \n",
       "3    NaN     NaN     NaN        NaT  2018-04-09 00:00:00        10.0   \n",
       "4    NaN     NaN     NaN        NaT                  9.0        10.0   \n",
       "\n",
       "   reviewCount  Unnamed: 17 Good Examples  \n",
       "0          NaN          NaN           NaN  \n",
       "1          NaN          NaN           NaN  \n",
       "2         25.0          NaN           NaN  \n",
       "3        268.0          NaN           NaN  \n",
       "4        107.0          NaN           NaN  "
      ]
     },
     "execution_count": 7,
     "metadata": {},
     "output_type": "execute_result"
    }
   ],
   "source": [
    "df.head()"
   ]
  },
  {
   "cell_type": "code",
   "execution_count": 8,
   "metadata": {},
   "outputs": [
    {
     "data": {
      "text/plain": [
       "(418, 19)"
      ]
     },
     "execution_count": 8,
     "metadata": {},
     "output_type": "execute_result"
    }
   ],
   "source": [
    "df.shape"
   ]
  },
  {
   "cell_type": "code",
   "execution_count": 9,
   "metadata": {},
   "outputs": [
    {
     "data": {
      "text/plain": [
       "416"
      ]
     },
     "execution_count": 9,
     "metadata": {},
     "output_type": "execute_result"
    }
   ],
   "source": [
    "df.ID.nunique()"
   ]
  },
  {
   "cell_type": "code",
   "execution_count": 10,
   "metadata": {
    "collapsed": true
   },
   "outputs": [],
   "source": [
    "#IN (1, 3, 99)\n",
    "\n",
    "\n",
    "q = \"\"\"\n",
    "SELECT DISTINCT *, (CASE WHEN Leaf_Node IN ('360 Degree Cameras','Common Use Video Cameras','Non 360 Degree Cameras',\n",
    "'Professional Video Cameras','Drone') THEN 'Cam Corders' WHEN Leaf_Node IN ('Not Camera') THEN 'Not Camera' ELSE 'Photo Devices' END) AS parent_node_1, \n",
    "(CASE WHEN Leaf_Node IN ('360 Degree Cameras','Non 360 Degree Cameras','Drone') THEN 'Action Cameras' \n",
    "WHEN Leaf_Node IN ('Bridge Cameras','Digital Compact Cameras','Instant') THEN 'Point & Shoot Cameras' \n",
    "WHEN Leaf_Node IN ('Common Use Video Cameras','Professional Video Cameras') THEN 'Traditional Video Cameras' \n",
    "WHEN Leaf_Node IN ('DSLR') THEN 'DSLR' \n",
    "WHEN Leaf_Node IN ('Not Camera') THEN 'Not Camera'\n",
    "WHEN Leaf_Node IN ('Full Frame Mirrorless Camera','NonFullFrameMirrorlessCamera') THEN 'Mirrorless Cameras' \n",
    "ELSE 'NO CATEGORY'\n",
    "END) AS parent_node_2\n",
    "FROM df\n",
    "\"\"\"\n",
    "df = pysqldf(q)"
   ]
  },
  {
   "cell_type": "code",
   "execution_count": 11,
   "metadata": {},
   "outputs": [
    {
     "data": {
      "text/plain": [
       "(416, 21)"
      ]
     },
     "execution_count": 11,
     "metadata": {},
     "output_type": "execute_result"
    }
   ],
   "source": [
    "df.shape"
   ]
  },
  {
   "cell_type": "code",
   "execution_count": 12,
   "metadata": {},
   "outputs": [
    {
     "data": {
      "text/plain": [
       "array([u'Bridge Cameras', u'DSLR', u'Full Frame Mirrorless Camera',\n",
       "       u'NonFullFrameMirrorlessCamera', u'Digital Compact Cameras',\n",
       "       u'Common Use Video Cameras', u'Instant', u'360 Degree Cameras',\n",
       "       u'Non 360 Degree Cameras', u'Professional Video Cameras', u'Drone',\n",
       "       u'Not Camera'], dtype=object)"
      ]
     },
     "execution_count": 12,
     "metadata": {},
     "output_type": "execute_result"
    }
   ],
   "source": [
    "df.Leaf_Node.unique()"
   ]
  },
  {
   "cell_type": "code",
   "execution_count": 13,
   "metadata": {},
   "outputs": [
    {
     "data": {
      "text/html": [
       "<div>\n",
       "<style>\n",
       "    .dataframe thead tr:only-child th {\n",
       "        text-align: right;\n",
       "    }\n",
       "\n",
       "    .dataframe thead th {\n",
       "        text-align: left;\n",
       "    }\n",
       "\n",
       "    .dataframe tbody tr th {\n",
       "        vertical-align: top;\n",
       "    }\n",
       "</style>\n",
       "<table border=\"1\" class=\"dataframe\">\n",
       "  <thead>\n",
       "    <tr style=\"text-align: right;\">\n",
       "      <th></th>\n",
       "      <th>ID</th>\n",
       "      <th>name</th>\n",
       "      <th>Leaf_Node</th>\n",
       "      <th>priceCurrency</th>\n",
       "      <th>price</th>\n",
       "      <th>brand</th>\n",
       "      <th>itemCondition</th>\n",
       "      <th>availability</th>\n",
       "      <th>Description</th>\n",
       "      <th>image</th>\n",
       "      <th>...</th>\n",
       "      <th>gtin13</th>\n",
       "      <th>gtin14</th>\n",
       "      <th>gtin8</th>\n",
       "      <th>ratingValue</th>\n",
       "      <th>bestRating</th>\n",
       "      <th>reviewCount</th>\n",
       "      <th>Unnamed: 17</th>\n",
       "      <th>Good Examples</th>\n",
       "      <th>parent_node_1</th>\n",
       "      <th>parent_node_2</th>\n",
       "    </tr>\n",
       "  </thead>\n",
       "  <tbody>\n",
       "    <tr>\n",
       "      <th>0</th>\n",
       "      <td>jessops-f2dd233dd6100c900432fd2902df8cde</td>\n",
       "      <td>Nikon Coolpix P900 Digital Camera</td>\n",
       "      <td>Bridge Cameras</td>\n",
       "      <td>GBP</td>\n",
       "      <td>479</td>\n",
       "      <td>Nikon</td>\n",
       "      <td>None</td>\n",
       "      <td>True</td>\n",
       "      <td>None</td>\n",
       "      <td>https://i.jessops.com/images/home/homepage/100...</td>\n",
       "      <td>...</td>\n",
       "      <td>NaN</td>\n",
       "      <td>None</td>\n",
       "      <td>2018-09-08 00:00:00.000000</td>\n",
       "      <td>10</td>\n",
       "      <td>162.0</td>\n",
       "      <td>NaN</td>\n",
       "      <td>None</td>\n",
       "      <td>None</td>\n",
       "      <td>Photo Devices</td>\n",
       "      <td>Point &amp; Shoot Cameras</td>\n",
       "    </tr>\n",
       "    <tr>\n",
       "      <th>1</th>\n",
       "      <td>jessops-ff2be7ba459709194635812c728a17fd</td>\n",
       "      <td>Canon EOS 750D Digital SLR with 18-55mm IS STM...</td>\n",
       "      <td>DSLR</td>\n",
       "      <td>GBP</td>\n",
       "      <td>539</td>\n",
       "      <td>Canon</td>\n",
       "      <td>None</td>\n",
       "      <td>True</td>\n",
       "      <td>None</td>\n",
       "      <td>https://i.jessops.com/images/home/homepage/100...</td>\n",
       "      <td>...</td>\n",
       "      <td>NaN</td>\n",
       "      <td>None</td>\n",
       "      <td>2018-02-09 00:00:00.000000</td>\n",
       "      <td>10</td>\n",
       "      <td>361.0</td>\n",
       "      <td>NaN</td>\n",
       "      <td>None</td>\n",
       "      <td>None</td>\n",
       "      <td>Photo Devices</td>\n",
       "      <td>DSLR</td>\n",
       "    </tr>\n",
       "    <tr>\n",
       "      <th>2</th>\n",
       "      <td>jessops-acfa4e6fdc0962be2da5bc1ed8d44357</td>\n",
       "      <td>Canon EOS 5D Mark IV Digital SLR Body</td>\n",
       "      <td>DSLR</td>\n",
       "      <td>GBP</td>\n",
       "      <td>3249</td>\n",
       "      <td>Canon</td>\n",
       "      <td>None</td>\n",
       "      <td>True</td>\n",
       "      <td>None</td>\n",
       "      <td>https://i.jessops.com/images/home/homepage/100...</td>\n",
       "      <td>...</td>\n",
       "      <td>NaN</td>\n",
       "      <td>None</td>\n",
       "      <td>None</td>\n",
       "      <td>2018-07-09 00:00:00</td>\n",
       "      <td>10.0</td>\n",
       "      <td>25.0</td>\n",
       "      <td>None</td>\n",
       "      <td>None</td>\n",
       "      <td>Photo Devices</td>\n",
       "      <td>DSLR</td>\n",
       "    </tr>\n",
       "    <tr>\n",
       "      <th>3</th>\n",
       "      <td>jessops-cabb446087d8428bfa741078869439b8</td>\n",
       "      <td>Canon EOS 7D Mark II Digital SLR Body</td>\n",
       "      <td>DSLR</td>\n",
       "      <td>GBP</td>\n",
       "      <td>1349</td>\n",
       "      <td>Canon</td>\n",
       "      <td>None</td>\n",
       "      <td>True</td>\n",
       "      <td>None</td>\n",
       "      <td>https://i.jessops.com/images/home/homepage/100...</td>\n",
       "      <td>...</td>\n",
       "      <td>NaN</td>\n",
       "      <td>None</td>\n",
       "      <td>None</td>\n",
       "      <td>2018-04-09 00:00:00</td>\n",
       "      <td>10.0</td>\n",
       "      <td>268.0</td>\n",
       "      <td>None</td>\n",
       "      <td>None</td>\n",
       "      <td>Photo Devices</td>\n",
       "      <td>DSLR</td>\n",
       "    </tr>\n",
       "    <tr>\n",
       "      <th>4</th>\n",
       "      <td>jessops-8c6e0672aa9297ee8ff4d95fa5e2edc0</td>\n",
       "      <td>Sony A6000 Mirrorless Camera in Black with 16-...</td>\n",
       "      <td>Full Frame Mirrorless Camera</td>\n",
       "      <td>GBP</td>\n",
       "      <td>449</td>\n",
       "      <td>Sony</td>\n",
       "      <td>None</td>\n",
       "      <td>True</td>\n",
       "      <td>None</td>\n",
       "      <td>https://i.jessops.com/images/home/homepage/100...</td>\n",
       "      <td>...</td>\n",
       "      <td>NaN</td>\n",
       "      <td>None</td>\n",
       "      <td>None</td>\n",
       "      <td>9.0</td>\n",
       "      <td>10.0</td>\n",
       "      <td>107.0</td>\n",
       "      <td>None</td>\n",
       "      <td>None</td>\n",
       "      <td>Photo Devices</td>\n",
       "      <td>Mirrorless Cameras</td>\n",
       "    </tr>\n",
       "  </tbody>\n",
       "</table>\n",
       "<p>5 rows × 21 columns</p>\n",
       "</div>"
      ],
      "text/plain": [
       "                                         ID  \\\n",
       "0  jessops-f2dd233dd6100c900432fd2902df8cde   \n",
       "1  jessops-ff2be7ba459709194635812c728a17fd   \n",
       "2  jessops-acfa4e6fdc0962be2da5bc1ed8d44357   \n",
       "3  jessops-cabb446087d8428bfa741078869439b8   \n",
       "4  jessops-8c6e0672aa9297ee8ff4d95fa5e2edc0   \n",
       "\n",
       "                                                name  \\\n",
       "0                  Nikon Coolpix P900 Digital Camera   \n",
       "1  Canon EOS 750D Digital SLR with 18-55mm IS STM...   \n",
       "2              Canon EOS 5D Mark IV Digital SLR Body   \n",
       "3              Canon EOS 7D Mark II Digital SLR Body   \n",
       "4  Sony A6000 Mirrorless Camera in Black with 16-...   \n",
       "\n",
       "                      Leaf_Node priceCurrency price  brand itemCondition  \\\n",
       "0                Bridge Cameras           GBP   479  Nikon          None   \n",
       "1                          DSLR           GBP   539  Canon          None   \n",
       "2                          DSLR           GBP  3249  Canon          None   \n",
       "3                          DSLR           GBP  1349  Canon          None   \n",
       "4  Full Frame Mirrorless Camera           GBP   449   Sony          None   \n",
       "\n",
       "  availability Description                                              image  \\\n",
       "0         True        None  https://i.jessops.com/images/home/homepage/100...   \n",
       "1         True        None  https://i.jessops.com/images/home/homepage/100...   \n",
       "2         True        None  https://i.jessops.com/images/home/homepage/100...   \n",
       "3         True        None  https://i.jessops.com/images/home/homepage/100...   \n",
       "4         True        None  https://i.jessops.com/images/home/homepage/100...   \n",
       "\n",
       "           ...           gtin13  gtin14                       gtin8  \\\n",
       "0          ...              NaN    None  2018-09-08 00:00:00.000000   \n",
       "1          ...              NaN    None  2018-02-09 00:00:00.000000   \n",
       "2          ...              NaN    None                        None   \n",
       "3          ...              NaN    None                        None   \n",
       "4          ...              NaN    None                        None   \n",
       "\n",
       "           ratingValue bestRating  reviewCount  Unnamed: 17 Good Examples  \\\n",
       "0                   10      162.0          NaN         None          None   \n",
       "1                   10      361.0          NaN         None          None   \n",
       "2  2018-07-09 00:00:00       10.0         25.0         None          None   \n",
       "3  2018-04-09 00:00:00       10.0        268.0         None          None   \n",
       "4                  9.0       10.0        107.0         None          None   \n",
       "\n",
       "   parent_node_1          parent_node_2  \n",
       "0  Photo Devices  Point & Shoot Cameras  \n",
       "1  Photo Devices                   DSLR  \n",
       "2  Photo Devices                   DSLR  \n",
       "3  Photo Devices                   DSLR  \n",
       "4  Photo Devices     Mirrorless Cameras  \n",
       "\n",
       "[5 rows x 21 columns]"
      ]
     },
     "execution_count": 13,
     "metadata": {},
     "output_type": "execute_result"
    }
   ],
   "source": [
    "df.head()"
   ]
  },
  {
   "cell_type": "code",
   "execution_count": 14,
   "metadata": {},
   "outputs": [
    {
     "data": {
      "text/html": [
       "<div>\n",
       "<style>\n",
       "    .dataframe thead tr:only-child th {\n",
       "        text-align: right;\n",
       "    }\n",
       "\n",
       "    .dataframe thead th {\n",
       "        text-align: left;\n",
       "    }\n",
       "\n",
       "    .dataframe tbody tr th {\n",
       "        vertical-align: top;\n",
       "    }\n",
       "</style>\n",
       "<table border=\"1\" class=\"dataframe\">\n",
       "  <thead>\n",
       "    <tr style=\"text-align: right;\">\n",
       "      <th></th>\n",
       "      <th>parent_node_1</th>\n",
       "      <th>parent_node_2</th>\n",
       "      <th>Leaf_Node</th>\n",
       "      <th>COUNT(ID)</th>\n",
       "    </tr>\n",
       "  </thead>\n",
       "  <tbody>\n",
       "    <tr>\n",
       "      <th>0</th>\n",
       "      <td>Cam Corders</td>\n",
       "      <td>Action Cameras</td>\n",
       "      <td>360 Degree Cameras</td>\n",
       "      <td>21</td>\n",
       "    </tr>\n",
       "    <tr>\n",
       "      <th>1</th>\n",
       "      <td>Cam Corders</td>\n",
       "      <td>Action Cameras</td>\n",
       "      <td>Drone</td>\n",
       "      <td>15</td>\n",
       "    </tr>\n",
       "    <tr>\n",
       "      <th>2</th>\n",
       "      <td>Cam Corders</td>\n",
       "      <td>Action Cameras</td>\n",
       "      <td>Non 360 Degree Cameras</td>\n",
       "      <td>22</td>\n",
       "    </tr>\n",
       "    <tr>\n",
       "      <th>3</th>\n",
       "      <td>Cam Corders</td>\n",
       "      <td>Traditional Video Cameras</td>\n",
       "      <td>Common Use Video Cameras</td>\n",
       "      <td>21</td>\n",
       "    </tr>\n",
       "    <tr>\n",
       "      <th>4</th>\n",
       "      <td>Cam Corders</td>\n",
       "      <td>Traditional Video Cameras</td>\n",
       "      <td>Professional Video Cameras</td>\n",
       "      <td>32</td>\n",
       "    </tr>\n",
       "    <tr>\n",
       "      <th>5</th>\n",
       "      <td>Not Camera</td>\n",
       "      <td>Not Camera</td>\n",
       "      <td>Not Camera</td>\n",
       "      <td>19</td>\n",
       "    </tr>\n",
       "    <tr>\n",
       "      <th>6</th>\n",
       "      <td>Photo Devices</td>\n",
       "      <td>DSLR</td>\n",
       "      <td>DSLR</td>\n",
       "      <td>72</td>\n",
       "    </tr>\n",
       "    <tr>\n",
       "      <th>7</th>\n",
       "      <td>Photo Devices</td>\n",
       "      <td>Mirrorless Cameras</td>\n",
       "      <td>Full Frame Mirrorless Camera</td>\n",
       "      <td>31</td>\n",
       "    </tr>\n",
       "    <tr>\n",
       "      <th>8</th>\n",
       "      <td>Photo Devices</td>\n",
       "      <td>Mirrorless Cameras</td>\n",
       "      <td>NonFullFrameMirrorlessCamera</td>\n",
       "      <td>50</td>\n",
       "    </tr>\n",
       "    <tr>\n",
       "      <th>9</th>\n",
       "      <td>Photo Devices</td>\n",
       "      <td>Point &amp; Shoot Cameras</td>\n",
       "      <td>Bridge Cameras</td>\n",
       "      <td>56</td>\n",
       "    </tr>\n",
       "    <tr>\n",
       "      <th>10</th>\n",
       "      <td>Photo Devices</td>\n",
       "      <td>Point &amp; Shoot Cameras</td>\n",
       "      <td>Digital Compact Cameras</td>\n",
       "      <td>58</td>\n",
       "    </tr>\n",
       "    <tr>\n",
       "      <th>11</th>\n",
       "      <td>Photo Devices</td>\n",
       "      <td>Point &amp; Shoot Cameras</td>\n",
       "      <td>Instant</td>\n",
       "      <td>19</td>\n",
       "    </tr>\n",
       "  </tbody>\n",
       "</table>\n",
       "</div>"
      ],
      "text/plain": [
       "    parent_node_1              parent_node_2                     Leaf_Node  \\\n",
       "0     Cam Corders             Action Cameras            360 Degree Cameras   \n",
       "1     Cam Corders             Action Cameras                         Drone   \n",
       "2     Cam Corders             Action Cameras        Non 360 Degree Cameras   \n",
       "3     Cam Corders  Traditional Video Cameras      Common Use Video Cameras   \n",
       "4     Cam Corders  Traditional Video Cameras    Professional Video Cameras   \n",
       "5      Not Camera                 Not Camera                    Not Camera   \n",
       "6   Photo Devices                       DSLR                          DSLR   \n",
       "7   Photo Devices         Mirrorless Cameras  Full Frame Mirrorless Camera   \n",
       "8   Photo Devices         Mirrorless Cameras  NonFullFrameMirrorlessCamera   \n",
       "9   Photo Devices      Point & Shoot Cameras                Bridge Cameras   \n",
       "10  Photo Devices      Point & Shoot Cameras       Digital Compact Cameras   \n",
       "11  Photo Devices      Point & Shoot Cameras                       Instant   \n",
       "\n",
       "    COUNT(ID)  \n",
       "0          21  \n",
       "1          15  \n",
       "2          22  \n",
       "3          21  \n",
       "4          32  \n",
       "5          19  \n",
       "6          72  \n",
       "7          31  \n",
       "8          50  \n",
       "9          56  \n",
       "10         58  \n",
       "11         19  "
      ]
     },
     "execution_count": 14,
     "metadata": {},
     "output_type": "execute_result"
    }
   ],
   "source": [
    "#IN (1, 3, 99)\n",
    "\n",
    "\n",
    "q = \"\"\"\n",
    "SELECT DISTINCT parent_node_1,parent_node_2,Leaf_Node, COUNT(ID)\n",
    "FROM df\n",
    "GROUP BY parent_node_1,parent_node_2,Leaf_Node\n",
    "\"\"\"\n",
    "a = pysqldf(q)\n",
    "a"
   ]
  },
  {
   "cell_type": "code",
   "execution_count": 15,
   "metadata": {},
   "outputs": [
    {
     "data": {
      "text/plain": [
       "(416, 21)"
      ]
     },
     "execution_count": 15,
     "metadata": {},
     "output_type": "execute_result"
    }
   ],
   "source": [
    "df.shape"
   ]
  },
  {
   "cell_type": "code",
   "execution_count": 16,
   "metadata": {
    "collapsed": true
   },
   "outputs": [],
   "source": [
    "from sklearn.feature_extraction.text import CountVectorizer"
   ]
  },
  {
   "cell_type": "code",
   "execution_count": 17,
   "metadata": {
    "collapsed": true
   },
   "outputs": [],
   "source": [
    "corpus=df['name']"
   ]
  },
  {
   "cell_type": "code",
   "execution_count": 18,
   "metadata": {},
   "outputs": [
    {
     "data": {
      "text/plain": [
       "0                    Nikon Coolpix P900 Digital Camera\n",
       "1    Canon EOS 750D Digital SLR with 18-55mm IS STM...\n",
       "2                Canon EOS 5D Mark IV Digital SLR Body\n",
       "3                Canon EOS 7D Mark II Digital SLR Body\n",
       "4    Sony A6000 Mirrorless Camera in Black with 16-...\n",
       "Name: name, dtype: object"
      ]
     },
     "execution_count": 18,
     "metadata": {},
     "output_type": "execute_result"
    }
   ],
   "source": [
    "corpus.head()"
   ]
  },
  {
   "cell_type": "code",
   "execution_count": 19,
   "metadata": {
    "collapsed": true
   },
   "outputs": [],
   "source": [
    "vectorizer = CountVectorizer()"
   ]
  },
  {
   "cell_type": "code",
   "execution_count": 20,
   "metadata": {},
   "outputs": [
    {
     "data": {
      "text/plain": [
       "CountVectorizer(analyzer=u'word', binary=False, decode_error=u'strict',\n",
       "        dtype=<type 'numpy.int64'>, encoding=u'utf-8', input=u'content',\n",
       "        lowercase=True, max_df=1.0, max_features=None, min_df=1,\n",
       "        ngram_range=(1, 1), preprocessor=None, stop_words=None,\n",
       "        strip_accents=None, token_pattern=u'(?u)\\\\b\\\\w\\\\w+\\\\b',\n",
       "        tokenizer=None, vocabulary=None)"
      ]
     },
     "execution_count": 20,
     "metadata": {},
     "output_type": "execute_result"
    }
   ],
   "source": [
    "vectorizer"
   ]
  },
  {
   "cell_type": "code",
   "execution_count": 21,
   "metadata": {
    "collapsed": true
   },
   "outputs": [],
   "source": [
    "matrix=vectorizer.fit_transform(corpus).todense()"
   ]
  },
  {
   "cell_type": "code",
   "execution_count": 22,
   "metadata": {},
   "outputs": [
    {
     "data": {
      "text/plain": [
       "(416, 875)"
      ]
     },
     "execution_count": 22,
     "metadata": {},
     "output_type": "execute_result"
    }
   ],
   "source": [
    "matrix.shape #291 columns, 121 rows"
   ]
  },
  {
   "cell_type": "code",
   "execution_count": 23,
   "metadata": {
    "collapsed": true
   },
   "outputs": [],
   "source": [
    "vocab=vectorizer.vocabulary_ "
   ]
  },
  {
   "cell_type": "code",
   "execution_count": 24,
   "metadata": {},
   "outputs": [
    {
     "data": {
      "text/plain": [
       "875"
      ]
     },
     "execution_count": 24,
     "metadata": {},
     "output_type": "execute_result"
    }
   ],
   "source": [
    "len(vocab)"
   ]
  },
  {
   "cell_type": "code",
   "execution_count": 25,
   "metadata": {
    "collapsed": true
   },
   "outputs": [],
   "source": [
    "bags_words=pd.DataFrame(matrix, columns=vocab)"
   ]
  },
  {
   "cell_type": "code",
   "execution_count": 26,
   "metadata": {
    "collapsed": true
   },
   "outputs": [],
   "source": [
    "bags_words['ID']=df['ID']\n",
    "bags_words['Parent_node_1']=df['parent_node_1']\n",
    "bags_words['Parent_node_2']=df['parent_node_2']\n",
    "bags_words['Leaf_Node']=df['Leaf_Node']"
   ]
  },
  {
   "cell_type": "code",
   "execution_count": 27,
   "metadata": {},
   "outputs": [
    {
     "data": {
      "text/html": [
       "<div>\n",
       "<style>\n",
       "    .dataframe thead tr:only-child th {\n",
       "        text-align: right;\n",
       "    }\n",
       "\n",
       "    .dataframe thead th {\n",
       "        text-align: left;\n",
       "    }\n",
       "\n",
       "    .dataframe tbody tr th {\n",
       "        vertical-align: top;\n",
       "    }\n",
       "</style>\n",
       "<table border=\"1\" class=\"dataframe\">\n",
       "  <thead>\n",
       "    <tr style=\"text-align: right;\">\n",
       "      <th></th>\n",
       "      <th>cameras</th>\n",
       "      <th>oss</th>\n",
       "      <th>yashica</th>\n",
       "      <th>gz</th>\n",
       "      <th>yellow</th>\n",
       "      <th>32mm</th>\n",
       "      <th>012</th>\n",
       "      <th>gb</th>\n",
       "      <th>go</th>\n",
       "      <th>z212</th>\n",
       "      <th>...</th>\n",
       "      <th>hx400</th>\n",
       "      <th>karma</th>\n",
       "      <th>fz43</th>\n",
       "      <th>deluxe</th>\n",
       "      <th>cpt</th>\n",
       "      <th>dvr</th>\n",
       "      <th>ID</th>\n",
       "      <th>Parent_node_1</th>\n",
       "      <th>Parent_node_2</th>\n",
       "      <th>Leaf_Node</th>\n",
       "    </tr>\n",
       "  </thead>\n",
       "  <tbody>\n",
       "    <tr>\n",
       "      <th>0</th>\n",
       "      <td>0</td>\n",
       "      <td>0</td>\n",
       "      <td>0</td>\n",
       "      <td>0</td>\n",
       "      <td>0</td>\n",
       "      <td>0</td>\n",
       "      <td>0</td>\n",
       "      <td>0</td>\n",
       "      <td>0</td>\n",
       "      <td>0</td>\n",
       "      <td>...</td>\n",
       "      <td>0</td>\n",
       "      <td>0</td>\n",
       "      <td>0</td>\n",
       "      <td>0</td>\n",
       "      <td>0</td>\n",
       "      <td>0</td>\n",
       "      <td>jessops-f2dd233dd6100c900432fd2902df8cde</td>\n",
       "      <td>Photo Devices</td>\n",
       "      <td>Point &amp; Shoot Cameras</td>\n",
       "      <td>Bridge Cameras</td>\n",
       "    </tr>\n",
       "    <tr>\n",
       "      <th>1</th>\n",
       "      <td>0</td>\n",
       "      <td>0</td>\n",
       "      <td>0</td>\n",
       "      <td>0</td>\n",
       "      <td>0</td>\n",
       "      <td>0</td>\n",
       "      <td>0</td>\n",
       "      <td>0</td>\n",
       "      <td>0</td>\n",
       "      <td>0</td>\n",
       "      <td>...</td>\n",
       "      <td>0</td>\n",
       "      <td>0</td>\n",
       "      <td>0</td>\n",
       "      <td>0</td>\n",
       "      <td>0</td>\n",
       "      <td>0</td>\n",
       "      <td>jessops-ff2be7ba459709194635812c728a17fd</td>\n",
       "      <td>Photo Devices</td>\n",
       "      <td>DSLR</td>\n",
       "      <td>DSLR</td>\n",
       "    </tr>\n",
       "    <tr>\n",
       "      <th>2</th>\n",
       "      <td>0</td>\n",
       "      <td>0</td>\n",
       "      <td>0</td>\n",
       "      <td>0</td>\n",
       "      <td>0</td>\n",
       "      <td>0</td>\n",
       "      <td>0</td>\n",
       "      <td>0</td>\n",
       "      <td>0</td>\n",
       "      <td>0</td>\n",
       "      <td>...</td>\n",
       "      <td>0</td>\n",
       "      <td>0</td>\n",
       "      <td>0</td>\n",
       "      <td>0</td>\n",
       "      <td>0</td>\n",
       "      <td>0</td>\n",
       "      <td>jessops-acfa4e6fdc0962be2da5bc1ed8d44357</td>\n",
       "      <td>Photo Devices</td>\n",
       "      <td>DSLR</td>\n",
       "      <td>DSLR</td>\n",
       "    </tr>\n",
       "    <tr>\n",
       "      <th>3</th>\n",
       "      <td>0</td>\n",
       "      <td>0</td>\n",
       "      <td>0</td>\n",
       "      <td>0</td>\n",
       "      <td>0</td>\n",
       "      <td>0</td>\n",
       "      <td>0</td>\n",
       "      <td>0</td>\n",
       "      <td>0</td>\n",
       "      <td>0</td>\n",
       "      <td>...</td>\n",
       "      <td>0</td>\n",
       "      <td>0</td>\n",
       "      <td>0</td>\n",
       "      <td>0</td>\n",
       "      <td>0</td>\n",
       "      <td>0</td>\n",
       "      <td>jessops-cabb446087d8428bfa741078869439b8</td>\n",
       "      <td>Photo Devices</td>\n",
       "      <td>DSLR</td>\n",
       "      <td>DSLR</td>\n",
       "    </tr>\n",
       "    <tr>\n",
       "      <th>4</th>\n",
       "      <td>0</td>\n",
       "      <td>0</td>\n",
       "      <td>0</td>\n",
       "      <td>0</td>\n",
       "      <td>0</td>\n",
       "      <td>0</td>\n",
       "      <td>0</td>\n",
       "      <td>0</td>\n",
       "      <td>0</td>\n",
       "      <td>0</td>\n",
       "      <td>...</td>\n",
       "      <td>0</td>\n",
       "      <td>0</td>\n",
       "      <td>1</td>\n",
       "      <td>0</td>\n",
       "      <td>0</td>\n",
       "      <td>0</td>\n",
       "      <td>jessops-8c6e0672aa9297ee8ff4d95fa5e2edc0</td>\n",
       "      <td>Photo Devices</td>\n",
       "      <td>Mirrorless Cameras</td>\n",
       "      <td>Full Frame Mirrorless Camera</td>\n",
       "    </tr>\n",
       "  </tbody>\n",
       "</table>\n",
       "<p>5 rows × 879 columns</p>\n",
       "</div>"
      ],
      "text/plain": [
       "   cameras  oss  yashica  gz  yellow  32mm  012  gb  go  z212  \\\n",
       "0        0    0        0   0       0     0    0   0   0     0   \n",
       "1        0    0        0   0       0     0    0   0   0     0   \n",
       "2        0    0        0   0       0     0    0   0   0     0   \n",
       "3        0    0        0   0       0     0    0   0   0     0   \n",
       "4        0    0        0   0       0     0    0   0   0     0   \n",
       "\n",
       "               ...               hx400  karma  fz43  deluxe  cpt  dvr  \\\n",
       "0              ...                   0      0     0       0    0    0   \n",
       "1              ...                   0      0     0       0    0    0   \n",
       "2              ...                   0      0     0       0    0    0   \n",
       "3              ...                   0      0     0       0    0    0   \n",
       "4              ...                   0      0     1       0    0    0   \n",
       "\n",
       "                                         ID  Parent_node_1  \\\n",
       "0  jessops-f2dd233dd6100c900432fd2902df8cde  Photo Devices   \n",
       "1  jessops-ff2be7ba459709194635812c728a17fd  Photo Devices   \n",
       "2  jessops-acfa4e6fdc0962be2da5bc1ed8d44357  Photo Devices   \n",
       "3  jessops-cabb446087d8428bfa741078869439b8  Photo Devices   \n",
       "4  jessops-8c6e0672aa9297ee8ff4d95fa5e2edc0  Photo Devices   \n",
       "\n",
       "           Parent_node_2                     Leaf_Node  \n",
       "0  Point & Shoot Cameras                Bridge Cameras  \n",
       "1                   DSLR                          DSLR  \n",
       "2                   DSLR                          DSLR  \n",
       "3                   DSLR                          DSLR  \n",
       "4     Mirrorless Cameras  Full Frame Mirrorless Camera  \n",
       "\n",
       "[5 rows x 879 columns]"
      ]
     },
     "execution_count": 27,
     "metadata": {},
     "output_type": "execute_result"
    }
   ],
   "source": [
    "bags_words.head()"
   ]
  },
  {
   "cell_type": "code",
   "execution_count": 28,
   "metadata": {},
   "outputs": [
    {
     "data": {
      "text/plain": [
       "(416, 879)"
      ]
     },
     "execution_count": 28,
     "metadata": {},
     "output_type": "execute_result"
    }
   ],
   "source": [
    "bags_words.shape"
   ]
  },
  {
   "cell_type": "code",
   "execution_count": 29,
   "metadata": {},
   "outputs": [
    {
     "data": {
      "text/plain": [
       "array([u'Photo Devices', u'Cam Corders', u'Not Camera'], dtype=object)"
      ]
     },
     "execution_count": 29,
     "metadata": {},
     "output_type": "execute_result"
    }
   ],
   "source": [
    "bags_words.Parent_node_1.unique()"
   ]
  },
  {
   "cell_type": "code",
   "execution_count": 30,
   "metadata": {},
   "outputs": [
    {
     "data": {
      "text/plain": [
       "array([u'Point & Shoot Cameras', u'DSLR', u'Mirrorless Cameras',\n",
       "       u'Traditional Video Cameras', u'Action Cameras', u'Not Camera'], dtype=object)"
      ]
     },
     "execution_count": 30,
     "metadata": {},
     "output_type": "execute_result"
    }
   ],
   "source": [
    "bags_words.Parent_node_2.unique()"
   ]
  },
  {
   "cell_type": "code",
   "execution_count": 31,
   "metadata": {},
   "outputs": [
    {
     "data": {
      "text/plain": [
       "(416, 879)"
      ]
     },
     "execution_count": 31,
     "metadata": {},
     "output_type": "execute_result"
    }
   ],
   "source": [
    "bags_words.shape"
   ]
  },
  {
   "cell_type": "markdown",
   "metadata": {},
   "source": [
    "# Modeling"
   ]
  },
  {
   "cell_type": "code",
   "execution_count": 32,
   "metadata": {
    "collapsed": true
   },
   "outputs": [],
   "source": [
    "from sklearn.metrics import confusion_matrix\n",
    "from sklearn.utils.multiclass import unique_labels\n",
    "from sklearn.metrics import confusion_matrix\n",
    "from sklearn.metrics import classification_report\n",
    "from sklearn.metrics import accuracy_score\n",
    "from sklearn.metrics import log_loss\n",
    "from sklearn.metrics import roc_auc_score\n",
    "\n",
    "def confusion_matrix_report(y_true, y_pred):\n",
    "    cm, labels = confusion_matrix(y_true, y_pred), unique_labels(y_true, y_pred)\n",
    "    column_width = max([len(str(x)) for x in labels] + [5])  # 5 is value length\n",
    "    report = \" \" * column_width + \" \" + \"{:_^{}}\".format(\"Prediction\", column_width * len(labels))+ \"\\n\"\n",
    "    report += \" \" * column_width + \" \".join([\"{:>{}}\".format(label, column_width) for label in labels]) + \"\\n\"\n",
    "    for i, label1 in enumerate(labels):\n",
    "        report += \"{:>{}}\".format(label1, column_width) + \" \".join([\"{:{}d}\".format(cm[i, j], column_width) for j in range(len(labels))]) + \"\\n\"\n",
    "    return report\n",
    "    \n",
    "def analytics(y_true, y_pred):#target of the test data #predictions as 0,1 #model (knnclassifier) #data_test\n",
    "    print(\"Confusion Matrix:\")\n",
    "    print(confusion_matrix_report(y_true, y_pred))\n",
    "    print(\"Accuracy Score:\")\n",
    "    print(accuracy_score(y_true, y_pred))\n",
    "    print()\n",
    "    print(\"Classification Report:\")\n",
    "    print(classification_report(y_true, y_pred))\n",
    "    #print(\"AUC Score:\")\n",
    "    #print(AUC(target_test, model, data_test))"
   ]
  },
  {
   "cell_type": "markdown",
   "metadata": {},
   "source": [
    "## 1. Modeling with only Bags of Words:"
   ]
  },
  {
   "cell_type": "markdown",
   "metadata": {},
   "source": [
    "# Modeling with Logistic Regression with F Classification"
   ]
  },
  {
   "cell_type": "markdown",
   "metadata": {},
   "source": [
    "### Level 1"
   ]
  },
  {
   "cell_type": "code",
   "execution_count": 33,
   "metadata": {
    "collapsed": true
   },
   "outputs": [],
   "source": [
    "df_model=df[['ID','priceCurrency','price','brand']]\n",
    "brand_dummies=pd.get_dummies(df_model['brand'])\n",
    "pricecur_dummies=pd.get_dummies(df_model['priceCurrency'])\n",
    "df_model=pd.concat([df_model,brand_dummies,pricecur_dummies],axis=1) #pd.concat([df1, df4], axis=1\n",
    "bags=bags_words.copy()\n",
    "model2=df_model.merge(bags,on='ID',how='inner')\n",
    "model2=model2.drop(['priceCurrency','brand'],axis=1)\n",
    "a=model2['price'].str.split(',', 1, expand=True)\n",
    "a=a.drop([206])\n",
    "a=a.astype(float)\n",
    "model2['price']=a[0]\n",
    "median(model2['price'].dropna())\n",
    "# filling missing values with median\n",
    "model2['price']=model2['price'].fillna(548)"
   ]
  },
  {
   "cell_type": "code",
   "execution_count": 34,
   "metadata": {},
   "outputs": [
    {
     "data": {
      "text/html": [
       "<div>\n",
       "<style>\n",
       "    .dataframe thead tr:only-child th {\n",
       "        text-align: right;\n",
       "    }\n",
       "\n",
       "    .dataframe thead th {\n",
       "        text-align: left;\n",
       "    }\n",
       "\n",
       "    .dataframe tbody tr th {\n",
       "        vertical-align: top;\n",
       "    }\n",
       "</style>\n",
       "<table border=\"1\" class=\"dataframe\">\n",
       "  <thead>\n",
       "    <tr style=\"text-align: right;\">\n",
       "      <th></th>\n",
       "      <th>ID</th>\n",
       "      <th>price</th>\n",
       "      <th>360fly_x</th>\n",
       "      <th>6Ave</th>\n",
       "      <th>Air Hogs</th>\n",
       "      <th>AmazingForLess</th>\n",
       "      <th>Axess Products</th>\n",
       "      <th>Bell+Howell</th>\n",
       "      <th>BlackMagic</th>\n",
       "      <th>Blackmagic</th>\n",
       "      <th>...</th>\n",
       "      <th>eos</th>\n",
       "      <th>hx400</th>\n",
       "      <th>karma</th>\n",
       "      <th>fz43</th>\n",
       "      <th>deluxe</th>\n",
       "      <th>cpt</th>\n",
       "      <th>dvr</th>\n",
       "      <th>Parent_node_1</th>\n",
       "      <th>Parent_node_2</th>\n",
       "      <th>Leaf_Node</th>\n",
       "    </tr>\n",
       "  </thead>\n",
       "  <tbody>\n",
       "    <tr>\n",
       "      <th>0</th>\n",
       "      <td>jessops-f2dd233dd6100c900432fd2902df8cde</td>\n",
       "      <td>479.0</td>\n",
       "      <td>0</td>\n",
       "      <td>0</td>\n",
       "      <td>0</td>\n",
       "      <td>0</td>\n",
       "      <td>0</td>\n",
       "      <td>0</td>\n",
       "      <td>0</td>\n",
       "      <td>0</td>\n",
       "      <td>...</td>\n",
       "      <td>0</td>\n",
       "      <td>0</td>\n",
       "      <td>0</td>\n",
       "      <td>0</td>\n",
       "      <td>0</td>\n",
       "      <td>0</td>\n",
       "      <td>0</td>\n",
       "      <td>Photo Devices</td>\n",
       "      <td>Point &amp; Shoot Cameras</td>\n",
       "      <td>Bridge Cameras</td>\n",
       "    </tr>\n",
       "    <tr>\n",
       "      <th>1</th>\n",
       "      <td>jessops-ff2be7ba459709194635812c728a17fd</td>\n",
       "      <td>539.0</td>\n",
       "      <td>0</td>\n",
       "      <td>0</td>\n",
       "      <td>0</td>\n",
       "      <td>0</td>\n",
       "      <td>0</td>\n",
       "      <td>0</td>\n",
       "      <td>0</td>\n",
       "      <td>0</td>\n",
       "      <td>...</td>\n",
       "      <td>0</td>\n",
       "      <td>0</td>\n",
       "      <td>0</td>\n",
       "      <td>0</td>\n",
       "      <td>0</td>\n",
       "      <td>0</td>\n",
       "      <td>0</td>\n",
       "      <td>Photo Devices</td>\n",
       "      <td>DSLR</td>\n",
       "      <td>DSLR</td>\n",
       "    </tr>\n",
       "    <tr>\n",
       "      <th>2</th>\n",
       "      <td>jessops-acfa4e6fdc0962be2da5bc1ed8d44357</td>\n",
       "      <td>3249.0</td>\n",
       "      <td>0</td>\n",
       "      <td>0</td>\n",
       "      <td>0</td>\n",
       "      <td>0</td>\n",
       "      <td>0</td>\n",
       "      <td>0</td>\n",
       "      <td>0</td>\n",
       "      <td>0</td>\n",
       "      <td>...</td>\n",
       "      <td>0</td>\n",
       "      <td>0</td>\n",
       "      <td>0</td>\n",
       "      <td>0</td>\n",
       "      <td>0</td>\n",
       "      <td>0</td>\n",
       "      <td>0</td>\n",
       "      <td>Photo Devices</td>\n",
       "      <td>DSLR</td>\n",
       "      <td>DSLR</td>\n",
       "    </tr>\n",
       "    <tr>\n",
       "      <th>3</th>\n",
       "      <td>jessops-cabb446087d8428bfa741078869439b8</td>\n",
       "      <td>1349.0</td>\n",
       "      <td>0</td>\n",
       "      <td>0</td>\n",
       "      <td>0</td>\n",
       "      <td>0</td>\n",
       "      <td>0</td>\n",
       "      <td>0</td>\n",
       "      <td>0</td>\n",
       "      <td>0</td>\n",
       "      <td>...</td>\n",
       "      <td>0</td>\n",
       "      <td>0</td>\n",
       "      <td>0</td>\n",
       "      <td>0</td>\n",
       "      <td>0</td>\n",
       "      <td>0</td>\n",
       "      <td>0</td>\n",
       "      <td>Photo Devices</td>\n",
       "      <td>DSLR</td>\n",
       "      <td>DSLR</td>\n",
       "    </tr>\n",
       "    <tr>\n",
       "      <th>4</th>\n",
       "      <td>jessops-8c6e0672aa9297ee8ff4d95fa5e2edc0</td>\n",
       "      <td>449.0</td>\n",
       "      <td>0</td>\n",
       "      <td>0</td>\n",
       "      <td>0</td>\n",
       "      <td>0</td>\n",
       "      <td>0</td>\n",
       "      <td>0</td>\n",
       "      <td>0</td>\n",
       "      <td>0</td>\n",
       "      <td>...</td>\n",
       "      <td>0</td>\n",
       "      <td>0</td>\n",
       "      <td>0</td>\n",
       "      <td>1</td>\n",
       "      <td>0</td>\n",
       "      <td>0</td>\n",
       "      <td>0</td>\n",
       "      <td>Photo Devices</td>\n",
       "      <td>Mirrorless Cameras</td>\n",
       "      <td>Full Frame Mirrorless Camera</td>\n",
       "    </tr>\n",
       "  </tbody>\n",
       "</table>\n",
       "<p>5 rows × 957 columns</p>\n",
       "</div>"
      ],
      "text/plain": [
       "                                         ID   price  360fly_x  6Ave  Air Hogs  \\\n",
       "0  jessops-f2dd233dd6100c900432fd2902df8cde   479.0         0     0         0   \n",
       "1  jessops-ff2be7ba459709194635812c728a17fd   539.0         0     0         0   \n",
       "2  jessops-acfa4e6fdc0962be2da5bc1ed8d44357  3249.0         0     0         0   \n",
       "3  jessops-cabb446087d8428bfa741078869439b8  1349.0         0     0         0   \n",
       "4  jessops-8c6e0672aa9297ee8ff4d95fa5e2edc0   449.0         0     0         0   \n",
       "\n",
       "   AmazingForLess  Axess Products  Bell+Howell  BlackMagic  Blackmagic  \\\n",
       "0               0               0            0           0           0   \n",
       "1               0               0            0           0           0   \n",
       "2               0               0            0           0           0   \n",
       "3               0               0            0           0           0   \n",
       "4               0               0            0           0           0   \n",
       "\n",
       "               ...               eos  hx400  karma  fz43  deluxe  cpt  dvr  \\\n",
       "0              ...                 0      0      0     0       0    0    0   \n",
       "1              ...                 0      0      0     0       0    0    0   \n",
       "2              ...                 0      0      0     0       0    0    0   \n",
       "3              ...                 0      0      0     0       0    0    0   \n",
       "4              ...                 0      0      0     1       0    0    0   \n",
       "\n",
       "   Parent_node_1          Parent_node_2                     Leaf_Node  \n",
       "0  Photo Devices  Point & Shoot Cameras                Bridge Cameras  \n",
       "1  Photo Devices                   DSLR                          DSLR  \n",
       "2  Photo Devices                   DSLR                          DSLR  \n",
       "3  Photo Devices                   DSLR                          DSLR  \n",
       "4  Photo Devices     Mirrorless Cameras  Full Frame Mirrorless Camera  \n",
       "\n",
       "[5 rows x 957 columns]"
      ]
     },
     "execution_count": 34,
     "metadata": {},
     "output_type": "execute_result"
    }
   ],
   "source": [
    "model2.head()"
   ]
  },
  {
   "cell_type": "code",
   "execution_count": 35,
   "metadata": {
    "collapsed": true
   },
   "outputs": [],
   "source": [
    "from sklearn.metrics import confusion_matrix\n",
    "from sklearn.utils.multiclass import unique_labels\n",
    "from sklearn.metrics import confusion_matrix\n",
    "from sklearn.metrics import classification_report\n",
    "from sklearn.metrics import accuracy_score\n",
    "from sklearn.metrics import log_loss\n",
    "from sklearn.metrics import roc_auc_score\n",
    "\n",
    "def confusion_matrix_report(y_true, y_pred):\n",
    "    cm, labels = confusion_matrix(y_true, y_pred), unique_labels(y_true, y_pred)\n",
    "    column_width = max([len(str(x)) for x in labels] + [5])  # 5 is value length\n",
    "    report = \" \" * column_width + \" \" + \"{:_^{}}\".format(\"Prediction\", column_width * len(labels))+ \"\\n\"\n",
    "    report += \" \" * column_width + \" \".join([\"{:>{}}\".format(label, column_width) for label in labels]) + \"\\n\"\n",
    "    for i, label1 in enumerate(labels):\n",
    "        report += \"{:>{}}\".format(label1, column_width) + \" \".join([\"{:{}d}\".format(cm[i, j], column_width) for j in range(len(labels))]) + \"\\n\"\n",
    "    return report\n",
    "    \n",
    "def analytics(y_true, y_pred):#target of the test data #predictions as 0,1 #model (knnclassifier) #data_test\n",
    "    print(\"Confusion Matrix:\")\n",
    "    print(confusion_matrix_report(y_true, y_pred))\n",
    "    print(\"Accuracy Score:\")\n",
    "    print(accuracy_score(y_true, y_pred))\n",
    "    print()\n",
    "    print(\"Classification Report:\")\n",
    "    print(classification_report(y_true, y_pred))\n",
    "    #print(\"AUC Score:\")\n",
    "    #print(AUC(target_test, model, data_test))"
   ]
  },
  {
   "cell_type": "markdown",
   "metadata": {},
   "source": [
    "### Level 1"
   ]
  },
  {
   "cell_type": "code",
   "execution_count": 36,
   "metadata": {
    "collapsed": true
   },
   "outputs": [],
   "source": [
    "from sklearn import linear_model, datasets\n",
    "from sklearn.model_selection import GridSearchCV"
   ]
  },
  {
   "cell_type": "code",
   "execution_count": 37,
   "metadata": {
    "collapsed": true
   },
   "outputs": [],
   "source": [
    "X_level1=model2.drop(['ID','Parent_node_1','Parent_node_2','Leaf_Node'],axis=1)\n",
    "y_level1=model2['Parent_node_1']"
   ]
  },
  {
   "cell_type": "code",
   "execution_count": 38,
   "metadata": {},
   "outputs": [
    {
     "data": {
      "text/html": [
       "<div>\n",
       "<style>\n",
       "    .dataframe thead tr:only-child th {\n",
       "        text-align: right;\n",
       "    }\n",
       "\n",
       "    .dataframe thead th {\n",
       "        text-align: left;\n",
       "    }\n",
       "\n",
       "    .dataframe tbody tr th {\n",
       "        vertical-align: top;\n",
       "    }\n",
       "</style>\n",
       "<table border=\"1\" class=\"dataframe\">\n",
       "  <thead>\n",
       "    <tr style=\"text-align: right;\">\n",
       "      <th></th>\n",
       "      <th>price</th>\n",
       "      <th>360fly_x</th>\n",
       "      <th>6Ave</th>\n",
       "      <th>Air Hogs</th>\n",
       "      <th>AmazingForLess</th>\n",
       "      <th>Axess Products</th>\n",
       "      <th>Bell+Howell</th>\n",
       "      <th>BlackMagic</th>\n",
       "      <th>Blackmagic</th>\n",
       "      <th>Blackmagic Design</th>\n",
       "      <th>...</th>\n",
       "      <th>wifi</th>\n",
       "      <th>controller</th>\n",
       "      <th>x70</th>\n",
       "      <th>eos</th>\n",
       "      <th>hx400</th>\n",
       "      <th>karma</th>\n",
       "      <th>fz43</th>\n",
       "      <th>deluxe</th>\n",
       "      <th>cpt</th>\n",
       "      <th>dvr</th>\n",
       "    </tr>\n",
       "  </thead>\n",
       "  <tbody>\n",
       "    <tr>\n",
       "      <th>0</th>\n",
       "      <td>479.0</td>\n",
       "      <td>0</td>\n",
       "      <td>0</td>\n",
       "      <td>0</td>\n",
       "      <td>0</td>\n",
       "      <td>0</td>\n",
       "      <td>0</td>\n",
       "      <td>0</td>\n",
       "      <td>0</td>\n",
       "      <td>0</td>\n",
       "      <td>...</td>\n",
       "      <td>0</td>\n",
       "      <td>0</td>\n",
       "      <td>0</td>\n",
       "      <td>0</td>\n",
       "      <td>0</td>\n",
       "      <td>0</td>\n",
       "      <td>0</td>\n",
       "      <td>0</td>\n",
       "      <td>0</td>\n",
       "      <td>0</td>\n",
       "    </tr>\n",
       "    <tr>\n",
       "      <th>1</th>\n",
       "      <td>539.0</td>\n",
       "      <td>0</td>\n",
       "      <td>0</td>\n",
       "      <td>0</td>\n",
       "      <td>0</td>\n",
       "      <td>0</td>\n",
       "      <td>0</td>\n",
       "      <td>0</td>\n",
       "      <td>0</td>\n",
       "      <td>0</td>\n",
       "      <td>...</td>\n",
       "      <td>0</td>\n",
       "      <td>0</td>\n",
       "      <td>0</td>\n",
       "      <td>0</td>\n",
       "      <td>0</td>\n",
       "      <td>0</td>\n",
       "      <td>0</td>\n",
       "      <td>0</td>\n",
       "      <td>0</td>\n",
       "      <td>0</td>\n",
       "    </tr>\n",
       "    <tr>\n",
       "      <th>2</th>\n",
       "      <td>3249.0</td>\n",
       "      <td>0</td>\n",
       "      <td>0</td>\n",
       "      <td>0</td>\n",
       "      <td>0</td>\n",
       "      <td>0</td>\n",
       "      <td>0</td>\n",
       "      <td>0</td>\n",
       "      <td>0</td>\n",
       "      <td>0</td>\n",
       "      <td>...</td>\n",
       "      <td>0</td>\n",
       "      <td>0</td>\n",
       "      <td>0</td>\n",
       "      <td>0</td>\n",
       "      <td>0</td>\n",
       "      <td>0</td>\n",
       "      <td>0</td>\n",
       "      <td>0</td>\n",
       "      <td>0</td>\n",
       "      <td>0</td>\n",
       "    </tr>\n",
       "    <tr>\n",
       "      <th>3</th>\n",
       "      <td>1349.0</td>\n",
       "      <td>0</td>\n",
       "      <td>0</td>\n",
       "      <td>0</td>\n",
       "      <td>0</td>\n",
       "      <td>0</td>\n",
       "      <td>0</td>\n",
       "      <td>0</td>\n",
       "      <td>0</td>\n",
       "      <td>0</td>\n",
       "      <td>...</td>\n",
       "      <td>0</td>\n",
       "      <td>0</td>\n",
       "      <td>0</td>\n",
       "      <td>0</td>\n",
       "      <td>0</td>\n",
       "      <td>0</td>\n",
       "      <td>0</td>\n",
       "      <td>0</td>\n",
       "      <td>0</td>\n",
       "      <td>0</td>\n",
       "    </tr>\n",
       "    <tr>\n",
       "      <th>4</th>\n",
       "      <td>449.0</td>\n",
       "      <td>0</td>\n",
       "      <td>0</td>\n",
       "      <td>0</td>\n",
       "      <td>0</td>\n",
       "      <td>0</td>\n",
       "      <td>0</td>\n",
       "      <td>0</td>\n",
       "      <td>0</td>\n",
       "      <td>0</td>\n",
       "      <td>...</td>\n",
       "      <td>0</td>\n",
       "      <td>0</td>\n",
       "      <td>0</td>\n",
       "      <td>0</td>\n",
       "      <td>0</td>\n",
       "      <td>0</td>\n",
       "      <td>1</td>\n",
       "      <td>0</td>\n",
       "      <td>0</td>\n",
       "      <td>0</td>\n",
       "    </tr>\n",
       "  </tbody>\n",
       "</table>\n",
       "<p>5 rows × 953 columns</p>\n",
       "</div>"
      ],
      "text/plain": [
       "    price  360fly_x  6Ave  Air Hogs  AmazingForLess  Axess Products  \\\n",
       "0   479.0         0     0         0               0               0   \n",
       "1   539.0         0     0         0               0               0   \n",
       "2  3249.0         0     0         0               0               0   \n",
       "3  1349.0         0     0         0               0               0   \n",
       "4   449.0         0     0         0               0               0   \n",
       "\n",
       "   Bell+Howell  BlackMagic  Blackmagic  Blackmagic Design ...   wifi  \\\n",
       "0            0           0           0                  0 ...      0   \n",
       "1            0           0           0                  0 ...      0   \n",
       "2            0           0           0                  0 ...      0   \n",
       "3            0           0           0                  0 ...      0   \n",
       "4            0           0           0                  0 ...      0   \n",
       "\n",
       "   controller  x70  eos  hx400  karma  fz43  deluxe  cpt  dvr  \n",
       "0           0    0    0      0      0     0       0    0    0  \n",
       "1           0    0    0      0      0     0       0    0    0  \n",
       "2           0    0    0      0      0     0       0    0    0  \n",
       "3           0    0    0      0      0     0       0    0    0  \n",
       "4           0    0    0      0      0     1       0    0    0  \n",
       "\n",
       "[5 rows x 953 columns]"
      ]
     },
     "execution_count": 38,
     "metadata": {},
     "output_type": "execute_result"
    }
   ],
   "source": [
    "X_level1.head()"
   ]
  },
  {
   "cell_type": "code",
   "execution_count": 39,
   "metadata": {},
   "outputs": [
    {
     "data": {
      "text/plain": [
       "(416, 953)"
      ]
     },
     "execution_count": 39,
     "metadata": {},
     "output_type": "execute_result"
    }
   ],
   "source": [
    "X_level1.shape"
   ]
  },
  {
   "cell_type": "code",
   "execution_count": 40,
   "metadata": {
    "collapsed": true
   },
   "outputs": [],
   "source": [
    "import pandas as pd\n",
    "from sklearn.preprocessing import StandardScaler\n",
    "from sklearn.preprocessing import RobustScaler\n",
    "from sklearn.decomposition import PCA\n",
    "from sklearn.model_selection import train_test_split\n",
    "from sklearn.feature_selection import SelectKBest\n",
    "from sklearn.feature_selection import chi2, f_classif, mutual_info_classif\n",
    "import numpy as np # linear algebra\n",
    "import matplotlib.pyplot as plt\n",
    "import seaborn as sbn\n",
    "import math"
   ]
  },
  {
   "cell_type": "code",
   "execution_count": 41,
   "metadata": {
    "collapsed": true
   },
   "outputs": [],
   "source": [
    "#F_CLASSIF\n",
    "feature_names = list(X_level1.columns.values)\n",
    "X_new = SelectKBest(f_classif, k=100).fit(X_level1, y_level1)\n",
    "mask = X_new.get_support() #list of booleans\n",
    "new_features_f = [] # The list of your K best features\n",
    "\n",
    "for bool, feature in zip(mask, feature_names):\n",
    "    if bool:\n",
    "        new_features_f.append(feature)"
   ]
  },
  {
   "cell_type": "code",
   "execution_count": 42,
   "metadata": {},
   "outputs": [
    {
     "name": "stdout",
     "output_type": "stream",
     "text": [
      "{'penalty': 'l1', 'C': 10}\n"
     ]
    }
   ],
   "source": [
    "from sklearn import linear_model, datasets\n",
    "from sklearn.model_selection import GridSearchCV\n",
    "X_level1=X_level1[new_features_f]\n",
    "\n",
    "param_grid = {'C': [0.001, 0.01, 0.1, 1, 10, 100, 1000],\n",
    "              \"penalty\": ['l2', 'l1']}\n",
    "clf = GridSearchCV(linear_model.LogisticRegression(), param_grid, cv=5)\n",
    "clf.fit(X_level1, y_level1)\n",
    "print(clf.best_params_)"
   ]
  },
  {
   "cell_type": "code",
   "execution_count": 43,
   "metadata": {
    "collapsed": true
   },
   "outputs": [],
   "source": [
    "from sklearn.model_selection import StratifiedKFold\n",
    "from sklearn.model_selection import cross_val_score\n",
    "from sklearn.model_selection import cross_val_predict\n",
    "\n",
    "cv = StratifiedKFold(n_splits=5, shuffle=True, random_state=42)\n",
    "logreg = linear_model.LogisticRegression(penalty= 'l1', C= 10)\n",
    "target_prediction = cross_val_predict(logreg, X_level1, y_level1, cv=cv)"
   ]
  },
  {
   "cell_type": "code",
   "execution_count": 44,
   "metadata": {},
   "outputs": [
    {
     "name": "stdout",
     "output_type": "stream",
     "text": [
      "Confusion Matrix:\n",
      "              ______________Prediction_______________\n",
      "               Cam Corders    Not Camera Photo Devices\n",
      "  Cam Corders           95             1            15\n",
      "   Not Camera            6             9             4\n",
      "Photo Devices            7             0           279\n",
      "\n",
      "Accuracy Score:\n",
      "0.920673076923\n",
      "()\n",
      "Classification Report:\n",
      "               precision    recall  f1-score   support\n",
      "\n",
      "  Cam Corders       0.88      0.86      0.87       111\n",
      "   Not Camera       0.90      0.47      0.62        19\n",
      "Photo Devices       0.94      0.98      0.96       286\n",
      "\n",
      "  avg / total       0.92      0.92      0.92       416\n",
      "\n"
     ]
    }
   ],
   "source": [
    "analytics(y_level1,target_prediction) #real value vs. predicted values"
   ]
  },
  {
   "cell_type": "code",
   "execution_count": 45,
   "metadata": {
    "collapsed": true
   },
   "outputs": [],
   "source": [
    "model2['prediction_level1']=target_prediction"
   ]
  },
  {
   "cell_type": "markdown",
   "metadata": {},
   "source": [
    "### Level 2"
   ]
  },
  {
   "cell_type": "markdown",
   "metadata": {},
   "source": [
    "#### Camcorders"
   ]
  },
  {
   "cell_type": "code",
   "execution_count": 46,
   "metadata": {
    "collapsed": true
   },
   "outputs": [],
   "source": [
    "level2_train=model2[model2['Parent_node_1']=='Cam Corders'] #this includes wrongly assigned instances"
   ]
  },
  {
   "cell_type": "code",
   "execution_count": 47,
   "metadata": {
    "collapsed": true
   },
   "outputs": [],
   "source": [
    "X_level2=level2_train.drop(['ID','Parent_node_1','Parent_node_2','Leaf_Node','prediction_level1'],axis=1)\n",
    "y_level2=level2_train['Parent_node_2']"
   ]
  },
  {
   "cell_type": "code",
   "execution_count": 48,
   "metadata": {},
   "outputs": [
    {
     "name": "stderr",
     "output_type": "stream",
     "text": [
      "/Users/bengikoseoglu/anaconda2/lib/python2.7/site-packages/sklearn/feature_selection/univariate_selection.py:113: UserWarning:\n",
      "\n",
      "Features [  2   6   7  10  12  13  19  20  21  22  23  24  26  27  28  29  30  32\n",
      "  34  36  38  39  40  41  43  44  46  49  50  54  56  57  58  59  60  63\n",
      "  64  66  68  69  70  78  79  80  81  82  83  85  87  90  91  92  94  95\n",
      "  96  97  98  99 100 102 103 104 105 106 107 108 109 110 111 112 113 114\n",
      " 115 116 119 120 121 122 123 124 126 127 130 131 133 134 136 137 138 139\n",
      " 140 141 142 143 146 147 148 149 150 152 153 154 156 157 158 160 161 167\n",
      " 168 169 171 173 174 175 176 177 178 180 181 182 185 186 187 188 189 190\n",
      " 191 192 193 194 195 196 197 198 199 200 201 202 203 205 206 208 209 210\n",
      " 211 213 214 215 216 217 218 219 220 221 223 224 226 227 228 230 231 232\n",
      " 233 234 235 236 237 239 240 241 242 243 244 245 246 247 248 249 250 251\n",
      " 252 253 254 255 260 264 266 267 268 270 271 277 279 283 284 285 292 293\n",
      " 294 295 296 298 299 302 303 309 311 312 314 315 316 319 323 327 329 331\n",
      " 334 335 337 342 344 345 346 351 354 355 356 357 362 363 364 365 366 367\n",
      " 368 369 370 371 372 373 374 375 376 377 378 379 380 381 382 388 391 397\n",
      " 398 401 402 403 404 406 407 410 413 414 415 417 418 421 422 424 425 426\n",
      " 433 434 435 436 438 441 442 445 447 452 454 455 457 462 465 466 467 468\n",
      " 469 471 475 476 478 479 480 481 482 483 484 485 486 487 488 489 490 491\n",
      " 493 494 495 496 497 498 499 500 502 503 504 505 506 507 511 512 516 520\n",
      " 521 523 524 532 538 546 550 551 553 555 556 557 558 559 561 563 564 565\n",
      " 566 567 568 570 573 575 576 578 579 582 583 584 585 589 592 593 596 597\n",
      " 600 602 605 607 609 611 615 616 617 618 619 620 621 624 625 626 627 628\n",
      " 631 632 634 636 640 641 642 643 644 646 647 649 652 655 656 658 659 660\n",
      " 662 663 664 667 668 671 677 679 682 684 691 692 693 694 695 696 697 700\n",
      " 702 703 707 708 709 710 712 714 715 716 717 718 719 721 728 729 731 732\n",
      " 733 737 738 739 740 743 747 748 751 753 757 759 761 763 764 765 766 767\n",
      " 768 769 770 772 776 777 778 779 780 785 786 787 788 789 790 792 795 796\n",
      " 797 798 799 800 802 803 804 805 806 811 814 815 817 821 824 826 832 833\n",
      " 834 835 837 838 839 840 841 843 845 847 848 850 853 854 855 857 858 859\n",
      " 860 862 863 864 867 868 871 872 873 874 876 877 878 881 882 886 887 894\n",
      " 895 896 897 898 905 908 910 911 913 914 916 917 918 924 931 934 935 941\n",
      " 945 946 947 948 951 952] are constant.\n",
      "\n",
      "/Users/bengikoseoglu/anaconda2/lib/python2.7/site-packages/sklearn/feature_selection/univariate_selection.py:114: RuntimeWarning:\n",
      "\n",
      "invalid value encountered in divide\n",
      "\n"
     ]
    }
   ],
   "source": [
    "#F_CLASSIF\n",
    "feature_names = list(X_level2.columns.values)\n",
    "X_new = SelectKBest(f_classif, k=100).fit(X_level2, y_level2)\n",
    "mask = X_new.get_support() #list of booleans\n",
    "new_features_f = [] # The list of your K best features\n",
    "\n",
    "for bool, feature in zip(mask, feature_names):\n",
    "    if bool:\n",
    "        new_features_f.append(feature)"
   ]
  },
  {
   "cell_type": "code",
   "execution_count": 49,
   "metadata": {},
   "outputs": [
    {
     "name": "stdout",
     "output_type": "stream",
     "text": [
      "{'penalty': 'l2', 'C': 1000}\n"
     ]
    }
   ],
   "source": [
    "X_level2=X_level2[new_features_f]\n",
    "\n",
    "param_grid = {'C': [0.001, 0.01, 0.1, 1, 10, 100, 1000],\n",
    "              \"penalty\": ['l2', 'l1']}\n",
    "clf = GridSearchCV(linear_model.LogisticRegression(), param_grid, cv=5)\n",
    "clf.fit(X_level2, y_level2)\n",
    "print(clf.best_params_)"
   ]
  },
  {
   "cell_type": "code",
   "execution_count": 50,
   "metadata": {
    "collapsed": true
   },
   "outputs": [],
   "source": [
    "cv = StratifiedKFold(n_splits=5, shuffle=True, random_state=42)\n",
    "logreg = linear_model.LogisticRegression(penalty= 'l2', C= 1000)\n",
    "target_prediction = cross_val_predict(logreg, X_level2, y_level2, cv=cv)"
   ]
  },
  {
   "cell_type": "code",
   "execution_count": 51,
   "metadata": {},
   "outputs": [
    {
     "name": "stdout",
     "output_type": "stream",
     "text": [
      "Confusion Matrix:\n",
      "                          ____________________Prediction____________________\n",
      "                                    Action Cameras Traditional Video Cameras\n",
      "           Action Cameras                       56                         2\n",
      "Traditional Video Cameras                        2                        51\n",
      "\n",
      "Accuracy Score:\n",
      "0.963963963964\n",
      "()\n",
      "Classification Report:\n",
      "                           precision    recall  f1-score   support\n",
      "\n",
      "           Action Cameras       0.97      0.97      0.97        58\n",
      "Traditional Video Cameras       0.96      0.96      0.96        53\n",
      "\n",
      "              avg / total       0.96      0.96      0.96       111\n",
      "\n"
     ]
    }
   ],
   "source": [
    "analytics(y_level2,target_prediction) #real value vs. predicted values"
   ]
  },
  {
   "cell_type": "code",
   "execution_count": 52,
   "metadata": {},
   "outputs": [
    {
     "name": "stderr",
     "output_type": "stream",
     "text": [
      "/Users/bengikoseoglu/anaconda2/lib/python2.7/site-packages/ipykernel_launcher.py:1: SettingWithCopyWarning:\n",
      "\n",
      "\n",
      "A value is trying to be set on a copy of a slice from a DataFrame.\n",
      "Try using .loc[row_indexer,col_indexer] = value instead\n",
      "\n",
      "See the caveats in the documentation: http://pandas.pydata.org/pandas-docs/stable/indexing.html#indexing-view-versus-copy\n",
      "\n"
     ]
    }
   ],
   "source": [
    "level2_train['prediction_level2']=target_prediction"
   ]
  },
  {
   "cell_type": "markdown",
   "metadata": {},
   "source": [
    "##### 1. Traditional Video Cameras"
   ]
  },
  {
   "cell_type": "code",
   "execution_count": 53,
   "metadata": {
    "collapsed": true
   },
   "outputs": [],
   "source": [
    "#prediction_level2_camcorders\n",
    "level3_train=level2_train[level2_train['Parent_node_2']=='Traditional Video Cameras']"
   ]
  },
  {
   "cell_type": "code",
   "execution_count": 54,
   "metadata": {
    "collapsed": true
   },
   "outputs": [],
   "source": [
    "X_level3=level3_train.drop(['ID','Parent_node_1','Parent_node_2','Leaf_Node','prediction_level1','prediction_level2'],axis=1)\n",
    "y_level3=level3_train['Leaf_Node']"
   ]
  },
  {
   "cell_type": "code",
   "execution_count": 55,
   "metadata": {},
   "outputs": [
    {
     "name": "stderr",
     "output_type": "stream",
     "text": [
      "/Users/bengikoseoglu/anaconda2/lib/python2.7/site-packages/sklearn/feature_selection/univariate_selection.py:113: UserWarning:\n",
      "\n",
      "Features [  1   2   3   4   5   6   7  10  12  13  14  15  16  17  18  19  20  21\n",
      "  22  23  24  25  26  27  28  29  30  31  32  34  35  36  37  38  39  40\n",
      "  41  42  43  44  45  46  47  49  50  53  54  55  56  57  58  59  60  61\n",
      "  62  63  64  65  66  68  69  70  71  73  74  75  78  79  80  81  82  83\n",
      "  84  85  87  90  91  92  94  95  96  97  98  99 100 101 102 103 104 105\n",
      " 106 107 108 109 110 111 112 113 114 115 116 117 119 120 121 122 123 124\n",
      " 126 127 128 129 130 131 133 134 135 136 137 138 139 140 141 142 143 144\n",
      " 145 146 147 148 149 150 151 152 153 154 155 156 157 158 160 161 165 167\n",
      " 168 169 170 171 172 173 174 175 176 177 178 179 180 181 182 184 185 186\n",
      " 187 188 189 190 191 192 193 194 195 196 197 198 199 200 201 202 203 205\n",
      " 206 208 209 210 211 213 214 215 216 217 218 219 220 221 223 224 225 226\n",
      " 227 228 230 231 232 233 234 235 236 237 238 239 240 241 242 243 244 245\n",
      " 246 247 248 249 250 251 252 253 254 255 256 257 259 260 261 262 263 264\n",
      " 265 266 267 268 269 270 271 272 273 276 277 278 279 280 283 284 285 290\n",
      " 291 292 293 294 295 296 298 299 300 302 303 305 306 309 311 312 314 315\n",
      " 316 318 319 321 322 323 324 327 329 331 333 334 335 337 339 340 341 342\n",
      " 344 345 346 347 350 351 353 354 355 356 357 358 359 362 363 364 365 366\n",
      " 367 368 369 370 371 372 373 374 375 376 377 378 379 380 381 382 386 387\n",
      " 388 390 391 395 396 397 398 400 401 402 403 404 406 407 408 410 411 413\n",
      " 414 415 416 417 418 419 421 422 423 424 425 426 431 433 434 435 436 438\n",
      " 440 441 442 445 446 447 449 450 451 452 454 455 457 458 459 460 461 462\n",
      " 464 465 466 467 468 469 471 474 475 476 478 479 480 481 482 483 484 485\n",
      " 486 487 488 489 490 491 493 494 495 496 497 498 499 500 501 502 503 504\n",
      " 505 506 507 508 509 510 511 512 513 514 515 516 517 518 519 520 521 523\n",
      " 524 525 526 527 528 531 532 535 537 538 539 540 541 542 543 544 545 546\n",
      " 549 550 551 553 554 555 556 557 558 559 561 562 563 564 565 566 567 568\n",
      " 569 570 572 573 574 575 576 577 578 579 582 583 584 585 586 587 589 590\n",
      " 591 592 593 595 596 597 598 599 600 602 603 605 607 609 611 612 613 614\n",
      " 615 616 617 618 619 620 621 622 623 624 625 626 627 628 629 631 632 633\n",
      " 634 636 640 641 642 643 644 646 647 648 649 650 652 653 654 655 656 658\n",
      " 659 660 661 662 663 664 665 666 667 668 669 671 672 674 677 678 679 680\n",
      " 681 682 683 684 685 687 689 690 691 692 693 694 695 696 697 698 699 700\n",
      " 701 702 703 704 707 708 709 710 711 712 713 714 715 716 717 718 719 720\n",
      " 721 723 726 728 729 731 732 733 736 737 738 739 740 743 747 748 749 751\n",
      " 753 755 756 757 758 759 760 761 762 763 764 765 766 767 768 769 770 771\n",
      " 772 773 774 775 776 777 778 779 780 781 783 784 785 786 787 788 789 790\n",
      " 792 793 794 795 796 797 798 799 800 801 802 803 804 805 806 808 809 810\n",
      " 811 812 814 815 817 818 819 820 821 822 823 824 825 826 828 829 830 832\n",
      " 833 834 835 837 838 839 840 841 843 845 846 847 848 849 850 853 854 855\n",
      " 857 858 859 860 861 862 863 864 865 867 868 870 871 872 873 874 876 877\n",
      " 878 879 881 882 886 887 888 889 894 895 896 897 898 899 900 901 902 905\n",
      " 906 907 908 910 911 912 913 914 916 917 918 919 924 931 932 933 934 935\n",
      " 936 937 938 939 940 941 942 943 945 946 947 948 951 952] are constant.\n",
      "\n"
     ]
    }
   ],
   "source": [
    "#F_CLASSIF\n",
    "feature_names = list(X_level3.columns.values)\n",
    "X_new = SelectKBest(f_classif, k=100).fit(X_level3, y_level3)\n",
    "mask = X_new.get_support() #list of booleans\n",
    "new_features_f = [] # The list of your K best features\n",
    "\n",
    "for bool, feature in zip(mask, feature_names):\n",
    "    if bool:\n",
    "        new_features_f.append(feature)"
   ]
  },
  {
   "cell_type": "code",
   "execution_count": 56,
   "metadata": {},
   "outputs": [
    {
     "name": "stdout",
     "output_type": "stream",
     "text": [
      "{'penalty': 'l1', 'C': 1}\n"
     ]
    }
   ],
   "source": [
    "X_level3=X_level3[new_features_f]\n",
    "\n",
    "param_grid = {'C': [0.001, 0.01, 0.1, 1, 10, 100, 1000],\n",
    "              \"penalty\": ['l2', 'l1']}\n",
    "clf = GridSearchCV(linear_model.LogisticRegression(), param_grid, cv=5)\n",
    "clf.fit(X_level3, y_level3)\n",
    "print(clf.best_params_)"
   ]
  },
  {
   "cell_type": "code",
   "execution_count": 57,
   "metadata": {
    "collapsed": true
   },
   "outputs": [],
   "source": [
    "cv = StratifiedKFold(n_splits=5, shuffle=True, random_state=42)\n",
    "logreg = linear_model.LogisticRegression(penalty= 'l1', C= 1)\n",
    "target_prediction = cross_val_predict(logreg, X_level3, y_level3, cv=cv)"
   ]
  },
  {
   "cell_type": "code",
   "execution_count": 58,
   "metadata": {},
   "outputs": [
    {
     "name": "stdout",
     "output_type": "stream",
     "text": [
      "Confusion Matrix:\n",
      "                           _____________________Prediction_____________________\n",
      "                            Common Use Video Cameras Professional Video Cameras\n",
      "  Common Use Video Cameras                        15                          6\n",
      "Professional Video Cameras                         3                         29\n",
      "\n",
      "Accuracy Score:\n",
      "0.830188679245\n",
      "()\n",
      "Classification Report:\n",
      "                            precision    recall  f1-score   support\n",
      "\n",
      "  Common Use Video Cameras       0.83      0.71      0.77        21\n",
      "Professional Video Cameras       0.83      0.91      0.87        32\n",
      "\n",
      "               avg / total       0.83      0.83      0.83        53\n",
      "\n"
     ]
    }
   ],
   "source": [
    "analytics(y_level3,target_prediction) #analytics(y_level2,target_prediction) #real value vs. predicted values"
   ]
  },
  {
   "cell_type": "code",
   "execution_count": 59,
   "metadata": {},
   "outputs": [
    {
     "name": "stderr",
     "output_type": "stream",
     "text": [
      "/Users/bengikoseoglu/anaconda2/lib/python2.7/site-packages/ipykernel_launcher.py:1: SettingWithCopyWarning:\n",
      "\n",
      "\n",
      "A value is trying to be set on a copy of a slice from a DataFrame.\n",
      "Try using .loc[row_indexer,col_indexer] = value instead\n",
      "\n",
      "See the caveats in the documentation: http://pandas.pydata.org/pandas-docs/stable/indexing.html#indexing-view-versus-copy\n",
      "\n"
     ]
    }
   ],
   "source": [
    "level3_train['prediction_level3']=target_prediction"
   ]
  },
  {
   "cell_type": "markdown",
   "metadata": {},
   "source": [
    "##### 2. Action Video Cameras"
   ]
  },
  {
   "cell_type": "code",
   "execution_count": 60,
   "metadata": {
    "collapsed": true
   },
   "outputs": [],
   "source": [
    "#prediction_level2_camcorders\n",
    "level3_train_actioncameras=level2_train[level2_train['Parent_node_2']=='Action Cameras']"
   ]
  },
  {
   "cell_type": "code",
   "execution_count": 61,
   "metadata": {},
   "outputs": [
    {
     "data": {
      "text/html": [
       "<div>\n",
       "<style>\n",
       "    .dataframe thead tr:only-child th {\n",
       "        text-align: right;\n",
       "    }\n",
       "\n",
       "    .dataframe thead th {\n",
       "        text-align: left;\n",
       "    }\n",
       "\n",
       "    .dataframe tbody tr th {\n",
       "        vertical-align: top;\n",
       "    }\n",
       "</style>\n",
       "<table border=\"1\" class=\"dataframe\">\n",
       "  <thead>\n",
       "    <tr style=\"text-align: right;\">\n",
       "      <th></th>\n",
       "      <th>ID</th>\n",
       "      <th>price</th>\n",
       "      <th>360fly_x</th>\n",
       "      <th>6Ave</th>\n",
       "      <th>Air Hogs</th>\n",
       "      <th>AmazingForLess</th>\n",
       "      <th>Axess Products</th>\n",
       "      <th>Bell+Howell</th>\n",
       "      <th>BlackMagic</th>\n",
       "      <th>Blackmagic</th>\n",
       "      <th>...</th>\n",
       "      <th>karma</th>\n",
       "      <th>fz43</th>\n",
       "      <th>deluxe</th>\n",
       "      <th>cpt</th>\n",
       "      <th>dvr</th>\n",
       "      <th>Parent_node_1</th>\n",
       "      <th>Parent_node_2</th>\n",
       "      <th>Leaf_Node</th>\n",
       "      <th>prediction_level1</th>\n",
       "      <th>prediction_level2</th>\n",
       "    </tr>\n",
       "  </thead>\n",
       "  <tbody>\n",
       "    <tr>\n",
       "      <th>29</th>\n",
       "      <td>jessops-e459dfc3f0e983f1a5153c64cf6c9dd0</td>\n",
       "      <td>189.0</td>\n",
       "      <td>0</td>\n",
       "      <td>0</td>\n",
       "      <td>0</td>\n",
       "      <td>0</td>\n",
       "      <td>0</td>\n",
       "      <td>0</td>\n",
       "      <td>0</td>\n",
       "      <td>0</td>\n",
       "      <td>...</td>\n",
       "      <td>0</td>\n",
       "      <td>0</td>\n",
       "      <td>0</td>\n",
       "      <td>0</td>\n",
       "      <td>0</td>\n",
       "      <td>Cam Corders</td>\n",
       "      <td>Action Cameras</td>\n",
       "      <td>360 Degree Cameras</td>\n",
       "      <td>Cam Corders</td>\n",
       "      <td>Action Cameras</td>\n",
       "    </tr>\n",
       "    <tr>\n",
       "      <th>30</th>\n",
       "      <td>jessops-1f205970ab6aa5842172a4a43fdbadba</td>\n",
       "      <td>189.0</td>\n",
       "      <td>0</td>\n",
       "      <td>0</td>\n",
       "      <td>0</td>\n",
       "      <td>0</td>\n",
       "      <td>0</td>\n",
       "      <td>0</td>\n",
       "      <td>0</td>\n",
       "      <td>0</td>\n",
       "      <td>...</td>\n",
       "      <td>0</td>\n",
       "      <td>0</td>\n",
       "      <td>0</td>\n",
       "      <td>0</td>\n",
       "      <td>0</td>\n",
       "      <td>Cam Corders</td>\n",
       "      <td>Action Cameras</td>\n",
       "      <td>360 Degree Cameras</td>\n",
       "      <td>Cam Corders</td>\n",
       "      <td>Action Cameras</td>\n",
       "    </tr>\n",
       "    <tr>\n",
       "      <th>38</th>\n",
       "      <td>jessops-18694f9d01976d75579f280d13df4ff5</td>\n",
       "      <td>299.0</td>\n",
       "      <td>0</td>\n",
       "      <td>0</td>\n",
       "      <td>0</td>\n",
       "      <td>0</td>\n",
       "      <td>0</td>\n",
       "      <td>0</td>\n",
       "      <td>0</td>\n",
       "      <td>0</td>\n",
       "      <td>...</td>\n",
       "      <td>0</td>\n",
       "      <td>0</td>\n",
       "      <td>0</td>\n",
       "      <td>0</td>\n",
       "      <td>0</td>\n",
       "      <td>Cam Corders</td>\n",
       "      <td>Action Cameras</td>\n",
       "      <td>Non 360 Degree Cameras</td>\n",
       "      <td>Cam Corders</td>\n",
       "      <td>Action Cameras</td>\n",
       "    </tr>\n",
       "    <tr>\n",
       "      <th>39</th>\n",
       "      <td>jessops-e63dc708d96de0a702a08fc2fc931b1f</td>\n",
       "      <td>99.0</td>\n",
       "      <td>0</td>\n",
       "      <td>0</td>\n",
       "      <td>0</td>\n",
       "      <td>0</td>\n",
       "      <td>0</td>\n",
       "      <td>0</td>\n",
       "      <td>0</td>\n",
       "      <td>0</td>\n",
       "      <td>...</td>\n",
       "      <td>0</td>\n",
       "      <td>0</td>\n",
       "      <td>0</td>\n",
       "      <td>0</td>\n",
       "      <td>0</td>\n",
       "      <td>Cam Corders</td>\n",
       "      <td>Action Cameras</td>\n",
       "      <td>Non 360 Degree Cameras</td>\n",
       "      <td>Cam Corders</td>\n",
       "      <td>Action Cameras</td>\n",
       "    </tr>\n",
       "    <tr>\n",
       "      <th>40</th>\n",
       "      <td>jessops-1cc85958d3e31c96f4c3bb05794cd7b7</td>\n",
       "      <td>649.0</td>\n",
       "      <td>0</td>\n",
       "      <td>0</td>\n",
       "      <td>0</td>\n",
       "      <td>0</td>\n",
       "      <td>0</td>\n",
       "      <td>0</td>\n",
       "      <td>0</td>\n",
       "      <td>0</td>\n",
       "      <td>...</td>\n",
       "      <td>0</td>\n",
       "      <td>0</td>\n",
       "      <td>0</td>\n",
       "      <td>0</td>\n",
       "      <td>0</td>\n",
       "      <td>Cam Corders</td>\n",
       "      <td>Action Cameras</td>\n",
       "      <td>360 Degree Cameras</td>\n",
       "      <td>Cam Corders</td>\n",
       "      <td>Action Cameras</td>\n",
       "    </tr>\n",
       "  </tbody>\n",
       "</table>\n",
       "<p>5 rows × 959 columns</p>\n",
       "</div>"
      ],
      "text/plain": [
       "                                          ID  price  360fly_x  6Ave  Air Hogs  \\\n",
       "29  jessops-e459dfc3f0e983f1a5153c64cf6c9dd0  189.0         0     0         0   \n",
       "30  jessops-1f205970ab6aa5842172a4a43fdbadba  189.0         0     0         0   \n",
       "38  jessops-18694f9d01976d75579f280d13df4ff5  299.0         0     0         0   \n",
       "39  jessops-e63dc708d96de0a702a08fc2fc931b1f   99.0         0     0         0   \n",
       "40  jessops-1cc85958d3e31c96f4c3bb05794cd7b7  649.0         0     0         0   \n",
       "\n",
       "    AmazingForLess  Axess Products  Bell+Howell  BlackMagic  Blackmagic  \\\n",
       "29               0               0            0           0           0   \n",
       "30               0               0            0           0           0   \n",
       "38               0               0            0           0           0   \n",
       "39               0               0            0           0           0   \n",
       "40               0               0            0           0           0   \n",
       "\n",
       "          ...          karma  fz43  deluxe  cpt  dvr  Parent_node_1  \\\n",
       "29        ...              0     0       0    0    0    Cam Corders   \n",
       "30        ...              0     0       0    0    0    Cam Corders   \n",
       "38        ...              0     0       0    0    0    Cam Corders   \n",
       "39        ...              0     0       0    0    0    Cam Corders   \n",
       "40        ...              0     0       0    0    0    Cam Corders   \n",
       "\n",
       "     Parent_node_2               Leaf_Node  prediction_level1  \\\n",
       "29  Action Cameras      360 Degree Cameras        Cam Corders   \n",
       "30  Action Cameras      360 Degree Cameras        Cam Corders   \n",
       "38  Action Cameras  Non 360 Degree Cameras        Cam Corders   \n",
       "39  Action Cameras  Non 360 Degree Cameras        Cam Corders   \n",
       "40  Action Cameras      360 Degree Cameras        Cam Corders   \n",
       "\n",
       "    prediction_level2  \n",
       "29     Action Cameras  \n",
       "30     Action Cameras  \n",
       "38     Action Cameras  \n",
       "39     Action Cameras  \n",
       "40     Action Cameras  \n",
       "\n",
       "[5 rows x 959 columns]"
      ]
     },
     "execution_count": 61,
     "metadata": {},
     "output_type": "execute_result"
    }
   ],
   "source": [
    "level3_train_actioncameras.head()"
   ]
  },
  {
   "cell_type": "code",
   "execution_count": 62,
   "metadata": {
    "collapsed": true
   },
   "outputs": [],
   "source": [
    "X_level3_ac=level3_train_actioncameras.drop(['ID','Parent_node_1','Parent_node_2','Leaf_Node','prediction_level1','prediction_level2'],axis=1)\n",
    "y_level3_ac=level3_train_actioncameras['Leaf_Node']"
   ]
  },
  {
   "cell_type": "code",
   "execution_count": 63,
   "metadata": {},
   "outputs": [
    {
     "name": "stderr",
     "output_type": "stream",
     "text": [
      "/Users/bengikoseoglu/anaconda2/lib/python2.7/site-packages/sklearn/feature_selection/univariate_selection.py:113: UserWarning:\n",
      "\n",
      "Features [  2   6   7   8   9  10  11  12  13  19  20  21  22  23  24  26  27  28\n",
      "  29  30  32  33  34  36  38  39  40  41  43  44  46  49  50  51  52  54\n",
      "  56  57  58  59  60  63  64  66  68  69  70  72  78  79  80  81  82  83\n",
      "  85  86  87  88  90  91  92  93  94  95  96  97  98  99 100 102 103 104\n",
      " 105 106 107 108 109 110 111 112 113 114 115 116 118 119 120 121 122 123\n",
      " 124 125 126 127 130 131 132 133 134 136 137 138 139 140 141 142 143 146\n",
      " 147 148 149 150 152 153 154 156 157 158 160 161 163 166 167 168 169 171\n",
      " 173 174 175 176 177 178 180 181 182 185 186 187 188 189 190 191 192 193\n",
      " 194 195 196 197 198 199 200 201 202 203 204 205 206 207 208 209 210 211\n",
      " 212 213 214 215 216 217 218 219 220 221 222 223 224 226 227 228 229 230\n",
      " 231 232 233 234 235 236 237 239 240 241 242 243 244 245 246 247 248 249\n",
      " 250 251 252 253 254 255 260 264 266 267 268 270 271 274 277 279 281 282\n",
      " 283 284 285 286 287 288 289 292 293 294 295 296 298 299 301 302 303 304\n",
      " 308 309 311 312 313 314 315 316 317 319 320 323 327 328 329 330 331 334\n",
      " 335 336 337 338 342 343 344 345 346 348 349 351 352 354 355 356 357 360\n",
      " 361 362 363 364 365 366 367 368 369 370 371 372 373 374 375 376 377 378\n",
      " 379 380 381 382 383 384 388 389 391 393 394 397 398 399 401 402 403 404\n",
      " 406 407 409 410 412 413 414 415 417 418 420 421 422 424 425 426 427 428\n",
      " 429 430 432 433 434 435 436 438 439 441 442 443 444 445 447 448 452 453\n",
      " 454 455 456 457 462 463 465 466 467 468 469 470 471 473 475 476 477 478\n",
      " 479 480 481 482 483 484 485 486 487 488 489 490 491 492 493 494 495 496\n",
      " 497 498 499 500 502 503 504 505 506 507 511 512 516 520 521 522 523 524\n",
      " 529 530 532 533 538 546 547 548 550 551 552 553 555 556 557 558 559 560\n",
      " 561 563 564 565 566 567 568 570 573 575 576 578 579 580 581 582 583 584\n",
      " 585 588 589 592 593 596 597 600 601 602 604 605 607 608 609 610 611 615\n",
      " 616 617 618 619 620 621 624 625 626 627 628 630 631 632 634 635 636 637\n",
      " 638 640 641 642 643 644 645 646 647 649 651 652 655 656 657 658 659 660\n",
      " 662 663 664 667 668 671 673 675 677 679 682 684 686 691 692 693 694 695\n",
      " 696 697 700 702 703 705 706 707 708 709 710 712 714 715 716 717 718 719\n",
      " 721 722 725 728 729 730 731 732 733 734 735 737 738 739 740 741 742 743\n",
      " 744 745 746 747 748 750 751 752 753 757 759 761 763 764 765 766 767 768\n",
      " 769 770 772 776 777 778 779 780 782 785 786 787 788 789 790 791 792 795\n",
      " 796 797 798 799 800 802 803 804 805 806 811 814 815 816 817 821 824 826\n",
      " 827 831 832 833 834 835 836 837 838 839 840 841 842 843 845 847 848 850\n",
      " 851 853 854 855 857 858 859 860 862 863 864 866 867 868 869 871 872 873\n",
      " 874 875 876 877 878 880 881 882 883 884 886 887 890 891 893 894 895 896\n",
      " 897 898 903 905 908 910 911 913 914 915 916 917 918 920 921 922 923 924\n",
      " 925 926 927 928 929 930 931 934 935 941 944 945 946 947 948 950 951 952] are constant.\n",
      "\n"
     ]
    }
   ],
   "source": [
    "#F_CLASSIF\n",
    "feature_names = list(X_level3_ac.columns.values)\n",
    "X_new = SelectKBest(f_classif, k=100).fit(X_level3_ac, y_level3_ac)\n",
    "mask = X_new.get_support() #list of booleans\n",
    "new_features_f = [] # The list of your K best features\n",
    "\n",
    "for bool, feature in zip(mask, feature_names):\n",
    "    if bool:\n",
    "        new_features_f.append(feature)"
   ]
  },
  {
   "cell_type": "code",
   "execution_count": 64,
   "metadata": {},
   "outputs": [
    {
     "name": "stdout",
     "output_type": "stream",
     "text": [
      "{'penalty': 'l2', 'C': 1}\n"
     ]
    }
   ],
   "source": [
    "X_level3_ac=X_level3_ac[new_features_f]\n",
    "param_grid = {'C': [0.001, 0.01, 0.1, 1, 10, 100, 1000],\n",
    "              \"penalty\": ['l2', 'l1']}\n",
    "clf = GridSearchCV(linear_model.LogisticRegression(), param_grid, cv=5)\n",
    "clf.fit(X_level3_ac, y_level3_ac)\n",
    "print(clf.best_params_)"
   ]
  },
  {
   "cell_type": "code",
   "execution_count": 65,
   "metadata": {
    "collapsed": true
   },
   "outputs": [],
   "source": [
    "cv = StratifiedKFold(n_splits=5, shuffle=True, random_state=42)\n",
    "logreg = linear_model.LogisticRegression(penalty= 'l2', C= 1)\n",
    "target_prediction = cross_val_predict(logreg, X_level3_ac, y_level3_ac, cv=cv)"
   ]
  },
  {
   "cell_type": "code",
   "execution_count": 66,
   "metadata": {},
   "outputs": [
    {
     "name": "stdout",
     "output_type": "stream",
     "text": [
      "Confusion Matrix:\n",
      "                       ____________________________Prediction____________________________\n",
      "                          360 Degree Cameras                  Drone Non 360 Degree Cameras\n",
      "    360 Degree Cameras                    19                      1                      1\n",
      "                 Drone                     1                     13                      1\n",
      "Non 360 Degree Cameras                     1                      1                     20\n",
      "\n",
      "Accuracy Score:\n",
      "0.896551724138\n",
      "()\n",
      "Classification Report:\n",
      "                        precision    recall  f1-score   support\n",
      "\n",
      "    360 Degree Cameras       0.90      0.90      0.90        21\n",
      "                 Drone       0.87      0.87      0.87        15\n",
      "Non 360 Degree Cameras       0.91      0.91      0.91        22\n",
      "\n",
      "           avg / total       0.90      0.90      0.90        58\n",
      "\n"
     ]
    }
   ],
   "source": [
    "analytics(y_level3_ac,target_prediction)"
   ]
  },
  {
   "cell_type": "code",
   "execution_count": 67,
   "metadata": {},
   "outputs": [
    {
     "name": "stderr",
     "output_type": "stream",
     "text": [
      "/Users/bengikoseoglu/anaconda2/lib/python2.7/site-packages/ipykernel_launcher.py:1: SettingWithCopyWarning:\n",
      "\n",
      "\n",
      "A value is trying to be set on a copy of a slice from a DataFrame.\n",
      "Try using .loc[row_indexer,col_indexer] = value instead\n",
      "\n",
      "See the caveats in the documentation: http://pandas.pydata.org/pandas-docs/stable/indexing.html#indexing-view-versus-copy\n",
      "\n"
     ]
    }
   ],
   "source": [
    "level3_train_actioncameras['prediction_level3']=target_prediction"
   ]
  },
  {
   "cell_type": "markdown",
   "metadata": {},
   "source": [
    "### Cameras"
   ]
  },
  {
   "cell_type": "code",
   "execution_count": 68,
   "metadata": {
    "collapsed": true
   },
   "outputs": [],
   "source": [
    "level2_train_cam=model2[model2['Parent_node_1']=='Photo Devices']"
   ]
  },
  {
   "cell_type": "code",
   "execution_count": 69,
   "metadata": {},
   "outputs": [
    {
     "data": {
      "text/html": [
       "<div>\n",
       "<style>\n",
       "    .dataframe thead tr:only-child th {\n",
       "        text-align: right;\n",
       "    }\n",
       "\n",
       "    .dataframe thead th {\n",
       "        text-align: left;\n",
       "    }\n",
       "\n",
       "    .dataframe tbody tr th {\n",
       "        vertical-align: top;\n",
       "    }\n",
       "</style>\n",
       "<table border=\"1\" class=\"dataframe\">\n",
       "  <thead>\n",
       "    <tr style=\"text-align: right;\">\n",
       "      <th></th>\n",
       "      <th>ID</th>\n",
       "      <th>price</th>\n",
       "      <th>360fly_x</th>\n",
       "      <th>6Ave</th>\n",
       "      <th>Air Hogs</th>\n",
       "      <th>AmazingForLess</th>\n",
       "      <th>Axess Products</th>\n",
       "      <th>Bell+Howell</th>\n",
       "      <th>BlackMagic</th>\n",
       "      <th>Blackmagic</th>\n",
       "      <th>...</th>\n",
       "      <th>hx400</th>\n",
       "      <th>karma</th>\n",
       "      <th>fz43</th>\n",
       "      <th>deluxe</th>\n",
       "      <th>cpt</th>\n",
       "      <th>dvr</th>\n",
       "      <th>Parent_node_1</th>\n",
       "      <th>Parent_node_2</th>\n",
       "      <th>Leaf_Node</th>\n",
       "      <th>prediction_level1</th>\n",
       "    </tr>\n",
       "  </thead>\n",
       "  <tbody>\n",
       "    <tr>\n",
       "      <th>0</th>\n",
       "      <td>jessops-f2dd233dd6100c900432fd2902df8cde</td>\n",
       "      <td>479.0</td>\n",
       "      <td>0</td>\n",
       "      <td>0</td>\n",
       "      <td>0</td>\n",
       "      <td>0</td>\n",
       "      <td>0</td>\n",
       "      <td>0</td>\n",
       "      <td>0</td>\n",
       "      <td>0</td>\n",
       "      <td>...</td>\n",
       "      <td>0</td>\n",
       "      <td>0</td>\n",
       "      <td>0</td>\n",
       "      <td>0</td>\n",
       "      <td>0</td>\n",
       "      <td>0</td>\n",
       "      <td>Photo Devices</td>\n",
       "      <td>Point &amp; Shoot Cameras</td>\n",
       "      <td>Bridge Cameras</td>\n",
       "      <td>Photo Devices</td>\n",
       "    </tr>\n",
       "    <tr>\n",
       "      <th>1</th>\n",
       "      <td>jessops-ff2be7ba459709194635812c728a17fd</td>\n",
       "      <td>539.0</td>\n",
       "      <td>0</td>\n",
       "      <td>0</td>\n",
       "      <td>0</td>\n",
       "      <td>0</td>\n",
       "      <td>0</td>\n",
       "      <td>0</td>\n",
       "      <td>0</td>\n",
       "      <td>0</td>\n",
       "      <td>...</td>\n",
       "      <td>0</td>\n",
       "      <td>0</td>\n",
       "      <td>0</td>\n",
       "      <td>0</td>\n",
       "      <td>0</td>\n",
       "      <td>0</td>\n",
       "      <td>Photo Devices</td>\n",
       "      <td>DSLR</td>\n",
       "      <td>DSLR</td>\n",
       "      <td>Photo Devices</td>\n",
       "    </tr>\n",
       "    <tr>\n",
       "      <th>2</th>\n",
       "      <td>jessops-acfa4e6fdc0962be2da5bc1ed8d44357</td>\n",
       "      <td>3249.0</td>\n",
       "      <td>0</td>\n",
       "      <td>0</td>\n",
       "      <td>0</td>\n",
       "      <td>0</td>\n",
       "      <td>0</td>\n",
       "      <td>0</td>\n",
       "      <td>0</td>\n",
       "      <td>0</td>\n",
       "      <td>...</td>\n",
       "      <td>0</td>\n",
       "      <td>0</td>\n",
       "      <td>0</td>\n",
       "      <td>0</td>\n",
       "      <td>0</td>\n",
       "      <td>0</td>\n",
       "      <td>Photo Devices</td>\n",
       "      <td>DSLR</td>\n",
       "      <td>DSLR</td>\n",
       "      <td>Photo Devices</td>\n",
       "    </tr>\n",
       "    <tr>\n",
       "      <th>3</th>\n",
       "      <td>jessops-cabb446087d8428bfa741078869439b8</td>\n",
       "      <td>1349.0</td>\n",
       "      <td>0</td>\n",
       "      <td>0</td>\n",
       "      <td>0</td>\n",
       "      <td>0</td>\n",
       "      <td>0</td>\n",
       "      <td>0</td>\n",
       "      <td>0</td>\n",
       "      <td>0</td>\n",
       "      <td>...</td>\n",
       "      <td>0</td>\n",
       "      <td>0</td>\n",
       "      <td>0</td>\n",
       "      <td>0</td>\n",
       "      <td>0</td>\n",
       "      <td>0</td>\n",
       "      <td>Photo Devices</td>\n",
       "      <td>DSLR</td>\n",
       "      <td>DSLR</td>\n",
       "      <td>Photo Devices</td>\n",
       "    </tr>\n",
       "    <tr>\n",
       "      <th>4</th>\n",
       "      <td>jessops-8c6e0672aa9297ee8ff4d95fa5e2edc0</td>\n",
       "      <td>449.0</td>\n",
       "      <td>0</td>\n",
       "      <td>0</td>\n",
       "      <td>0</td>\n",
       "      <td>0</td>\n",
       "      <td>0</td>\n",
       "      <td>0</td>\n",
       "      <td>0</td>\n",
       "      <td>0</td>\n",
       "      <td>...</td>\n",
       "      <td>0</td>\n",
       "      <td>0</td>\n",
       "      <td>1</td>\n",
       "      <td>0</td>\n",
       "      <td>0</td>\n",
       "      <td>0</td>\n",
       "      <td>Photo Devices</td>\n",
       "      <td>Mirrorless Cameras</td>\n",
       "      <td>Full Frame Mirrorless Camera</td>\n",
       "      <td>Photo Devices</td>\n",
       "    </tr>\n",
       "  </tbody>\n",
       "</table>\n",
       "<p>5 rows × 958 columns</p>\n",
       "</div>"
      ],
      "text/plain": [
       "                                         ID   price  360fly_x  6Ave  Air Hogs  \\\n",
       "0  jessops-f2dd233dd6100c900432fd2902df8cde   479.0         0     0         0   \n",
       "1  jessops-ff2be7ba459709194635812c728a17fd   539.0         0     0         0   \n",
       "2  jessops-acfa4e6fdc0962be2da5bc1ed8d44357  3249.0         0     0         0   \n",
       "3  jessops-cabb446087d8428bfa741078869439b8  1349.0         0     0         0   \n",
       "4  jessops-8c6e0672aa9297ee8ff4d95fa5e2edc0   449.0         0     0         0   \n",
       "\n",
       "   AmazingForLess  Axess Products  Bell+Howell  BlackMagic  Blackmagic  \\\n",
       "0               0               0            0           0           0   \n",
       "1               0               0            0           0           0   \n",
       "2               0               0            0           0           0   \n",
       "3               0               0            0           0           0   \n",
       "4               0               0            0           0           0   \n",
       "\n",
       "         ...          hx400  karma  fz43  deluxe  cpt  dvr  Parent_node_1  \\\n",
       "0        ...              0      0     0       0    0    0  Photo Devices   \n",
       "1        ...              0      0     0       0    0    0  Photo Devices   \n",
       "2        ...              0      0     0       0    0    0  Photo Devices   \n",
       "3        ...              0      0     0       0    0    0  Photo Devices   \n",
       "4        ...              0      0     1       0    0    0  Photo Devices   \n",
       "\n",
       "           Parent_node_2                     Leaf_Node  prediction_level1  \n",
       "0  Point & Shoot Cameras                Bridge Cameras      Photo Devices  \n",
       "1                   DSLR                          DSLR      Photo Devices  \n",
       "2                   DSLR                          DSLR      Photo Devices  \n",
       "3                   DSLR                          DSLR      Photo Devices  \n",
       "4     Mirrorless Cameras  Full Frame Mirrorless Camera      Photo Devices  \n",
       "\n",
       "[5 rows x 958 columns]"
      ]
     },
     "execution_count": 69,
     "metadata": {},
     "output_type": "execute_result"
    }
   ],
   "source": [
    "level2_train_cam.head()"
   ]
  },
  {
   "cell_type": "code",
   "execution_count": 70,
   "metadata": {
    "collapsed": true
   },
   "outputs": [],
   "source": [
    "X_level2_cam=level2_train_cam.drop(['ID','Parent_node_1','Parent_node_2','Leaf_Node','prediction_level1'],axis=1)\n",
    "y_level2_cam=level2_train_cam['Parent_node_2']"
   ]
  },
  {
   "cell_type": "code",
   "execution_count": 71,
   "metadata": {},
   "outputs": [
    {
     "name": "stderr",
     "output_type": "stream",
     "text": [
      "/Users/bengikoseoglu/anaconda2/lib/python2.7/site-packages/sklearn/feature_selection/univariate_selection.py:113: UserWarning:\n",
      "\n",
      "Features [  1   3   4   5   7   8   9  14  15  16  17  18  20  24  25  31  33  35\n",
      "  36  42  47  52  53  55  57  61  62  63  71  72  73  74  75  79  80  84\n",
      "  86  88  93 107 117 125 129 135 144 145 151 153 155 156 160 165 166 168\n",
      " 169 170 172 179 184 198 212 219 222 225 227 229 238 255 256 258 259 260\n",
      " 261 262 263 269 273 276 277 278 280 281 282 286 287 288 289 290 291 296\n",
      " 305 308 320 321 324 327 329 333 336 337 339 340 341 343 349 350 353 354\n",
      " 356 358 359 360 361 363 365 367 374 383 384 385 386 389 390 393 395 396\n",
      " 399 400 405 408 409 412 416 422 423 428 429 431 432 437 440 446 448 449\n",
      " 450 451 452 454 458 459 460 461 464 470 474 477 492 501 508 509 510 512\n",
      " 513 514 517 519 522 525 526 527 528 529 530 531 533 536 537 539 540 541\n",
      " 542 543 544 545 549 550 551 554 560 562 569 577 586 587 588 589 590 591\n",
      " 598 602 603 604 608 613 614 622 623 629 630 638 645 650 651 653 654 655\n",
      " 657 665 666 669 674 678 680 681 684 685 687 688 689 690 698 699 705 706\n",
      " 710 713 722 723 724 725 726 727 728 730 731 734 735 736 739 741 742 744\n",
      " 745 746 752 758 760 762 773 778 782 783 784 785 791 794 797 801 808 809\n",
      " 810 812 813 816 817 818 819 820 822 826 827 829 830 846 848 851 852 854\n",
      " 855 860 861 865 869 870 871 874 875 879 880 882 883 884 888 889 893 899\n",
      " 901 907 912 915 919 920 921 922 923 925 926 927 929 930 932 933 936 937\n",
      " 938 939 940 943 944 950] are constant.\n",
      "\n"
     ]
    }
   ],
   "source": [
    "#F_CLASSIF\n",
    "feature_names = list(X_level2_cam.columns.values)\n",
    "X_new = SelectKBest(f_classif, k=100).fit(X_level2_cam, y_level2_cam)\n",
    "mask = X_new.get_support() #list of booleans\n",
    "new_features_f = [] # The list of your K best features\n",
    "\n",
    "for bool, feature in zip(mask, feature_names):\n",
    "    if bool:\n",
    "        new_features_f.append(feature)"
   ]
  },
  {
   "cell_type": "code",
   "execution_count": 72,
   "metadata": {},
   "outputs": [
    {
     "name": "stdout",
     "output_type": "stream",
     "text": [
      "{'penalty': 'l2', 'C': 1}\n"
     ]
    }
   ],
   "source": [
    "X_level2_cam=X_level2_cam[new_features_f]\n",
    "param_grid = {'C': [0.001, 0.01, 0.1, 1, 10, 100, 1000],\n",
    "              \"penalty\": ['l2', 'l1']}\n",
    "clf = GridSearchCV(linear_model.LogisticRegression(), param_grid, cv=5)\n",
    "clf.fit(X_level2_cam, y_level2_cam)\n",
    "print(clf.best_params_)"
   ]
  },
  {
   "cell_type": "code",
   "execution_count": 73,
   "metadata": {
    "collapsed": true
   },
   "outputs": [],
   "source": [
    "cv = StratifiedKFold(n_splits=5, shuffle=True, random_state=42)\n",
    "logreg = linear_model.LogisticRegression(penalty= 'l2', C= 1)\n",
    "target_prediction = cross_val_predict(logreg, X_level2_cam, y_level2_cam, cv=cv)"
   ]
  },
  {
   "cell_type": "code",
   "execution_count": 74,
   "metadata": {},
   "outputs": [
    {
     "name": "stdout",
     "output_type": "stream",
     "text": [
      "Confusion Matrix:\n",
      "                      __________________________Prediction___________________________\n",
      "                                      DSLR    Mirrorless Cameras Point & Shoot Cameras\n",
      "                 DSLR                   62                     5                     5\n",
      "   Mirrorless Cameras                    3                    64                    14\n",
      "Point & Shoot Cameras                    0                     2                   131\n",
      "\n",
      "Accuracy Score:\n",
      "0.898601398601\n",
      "()\n",
      "Classification Report:\n",
      "                       precision    recall  f1-score   support\n",
      "\n",
      "                 DSLR       0.95      0.86      0.91        72\n",
      "   Mirrorless Cameras       0.90      0.79      0.84        81\n",
      "Point & Shoot Cameras       0.87      0.98      0.93       133\n",
      "\n",
      "          avg / total       0.90      0.90      0.90       286\n",
      "\n"
     ]
    }
   ],
   "source": [
    "analytics(y_level2_cam,target_prediction)"
   ]
  },
  {
   "cell_type": "code",
   "execution_count": 75,
   "metadata": {},
   "outputs": [
    {
     "name": "stderr",
     "output_type": "stream",
     "text": [
      "/Users/bengikoseoglu/anaconda2/lib/python2.7/site-packages/ipykernel_launcher.py:1: SettingWithCopyWarning:\n",
      "\n",
      "\n",
      "A value is trying to be set on a copy of a slice from a DataFrame.\n",
      "Try using .loc[row_indexer,col_indexer] = value instead\n",
      "\n",
      "See the caveats in the documentation: http://pandas.pydata.org/pandas-docs/stable/indexing.html#indexing-view-versus-copy\n",
      "\n"
     ]
    }
   ],
   "source": [
    "level2_train_cam['prediction_level2']=target_prediction"
   ]
  },
  {
   "cell_type": "markdown",
   "metadata": {},
   "source": [
    "#### 1. Point & Shoot Cameras"
   ]
  },
  {
   "cell_type": "code",
   "execution_count": 76,
   "metadata": {
    "collapsed": true
   },
   "outputs": [],
   "source": [
    "#prediction_level2_camcorders\n",
    "level3_train_pocam=level2_train_cam[level2_train_cam['Parent_node_2']=='Point & Shoot Cameras']"
   ]
  },
  {
   "cell_type": "code",
   "execution_count": 77,
   "metadata": {
    "collapsed": true
   },
   "outputs": [],
   "source": [
    "X_level3_po=level3_train_pocam.drop(['ID','Parent_node_1','Parent_node_2','Leaf_Node','prediction_level1','prediction_level2'],axis=1)\n",
    "y_level3_po=level3_train_pocam['Leaf_Node']"
   ]
  },
  {
   "cell_type": "code",
   "execution_count": 78,
   "metadata": {},
   "outputs": [
    {
     "name": "stderr",
     "output_type": "stream",
     "text": [
      "/Users/bengikoseoglu/anaconda2/lib/python2.7/site-packages/sklearn/feature_selection/univariate_selection.py:113: UserWarning:\n",
      "\n",
      "Features [  1   2   3   4   5   7   8   9  14  15  16  17  18  19  20  21  24  25\n",
      "  26  31  33  35  36  41  42  44  46  47  52  53  54  55  57  61  62  63\n",
      "  69  71  72  73  74  75  78  79  80  81  83  84  85  86  87  88  92  93\n",
      "  94  98  99 100 101 103 104 105 106 107 110 111 114 117 122 125 126 127\n",
      " 129 130 131 132 135 136 137 138 139 141 142 143 144 145 147 151 152 153\n",
      " 154 155 156 157 160 161 162 165 166 167 168 169 170 172 177 178 179 180\n",
      " 181 182 184 185 189 190 191 193 194 195 196 197 198 200 202 203 205 206\n",
      " 208 210 211 212 214 215 216 218 219 220 221 222 225 226 227 228 229 230\n",
      " 233 234 237 238 241 243 244 245 246 247 248 249 250 251 252 255 256 258\n",
      " 259 260 261 262 263 264 265 266 268 269 270 273 274 275 276 277 278 280\n",
      " 281 282 284 286 287 288 289 290 291 296 303 305 308 311 316 320 321 323\n",
      " 324 325 327 329 331 333 336 337 339 340 341 342 343 344 345 348 349 350\n",
      " 353 354 356 358 359 360 361 363 364 365 366 367 368 369 371 372 374 375\n",
      " 376 377 378 379 380 383 384 385 386 388 389 390 393 395 396 399 400 404\n",
      " 405 406 408 409 410 412 414 415 416 418 419 420 421 422 423 424 426 427\n",
      " 428 429 431 432 433 434 436 437 438 440 442 443 446 447 448 449 450 451\n",
      " 452 454 458 459 460 461 462 463 464 467 470 474 475 476 477 492 493 496\n",
      " 497 501 503 504 505 506 507 508 509 510 511 512 513 514 516 517 518 519\n",
      " 520 521 522 523 525 526 527 528 529 530 531 532 533 536 537 539 540 541\n",
      " 542 543 544 545 547 549 550 551 554 560 562 564 567 568 569 573 577 580\n",
      " 581 585 586 587 588 589 590 591 598 600 602 603 604 607 608 610 611 612\n",
      " 613 614 620 621 622 623 624 626 627 629 630 631 636 637 638 640 641 642\n",
      " 644 645 646 649 650 651 653 654 655 656 657 658 662 664 665 666 667 668\n",
      " 669 671 673 674 678 679 680 681 684 685 687 688 689 690 693 694 696 698\n",
      " 699 705 706 707 708 710 713 714 720 721 722 723 724 725 726 727 728 729\n",
      " 730 731 734 735 736 739 740 741 742 743 744 745 746 748 750 751 752 756\n",
      " 758 759 760 762 765 766 772 773 775 776 778 779 780 782 783 784 785 787\n",
      " 791 794 795 796 797 798 800 801 802 808 809 810 812 813 816 817 818 819\n",
      " 820 822 824 826 827 828 829 830 837 838 839 840 843 846 847 848 850 851\n",
      " 852 853 854 855 860 861 865 869 870 871 873 874 875 877 878 879 880 881\n",
      " 882 883 884 886 887 888 889 891 892 893 898 899 901 904 907 911 912 915\n",
      " 917 918 919 920 921 922 923 924 925 926 927 928 929 930 931 932 933 936\n",
      " 937 938 939 940 941 943 944 946 950] are constant.\n",
      "\n"
     ]
    }
   ],
   "source": [
    "#F_CLASSIF\n",
    "feature_names = list(X_level3_po.columns.values)\n",
    "X_new = SelectKBest(f_classif, k=100).fit(X_level3_po, y_level3_po)\n",
    "mask = X_new.get_support() #list of booleans\n",
    "new_features_f = [] # The list of your K best features\n",
    "\n",
    "for bool, feature in zip(mask, feature_names):\n",
    "    if bool:\n",
    "        new_features_f.append(feature)"
   ]
  },
  {
   "cell_type": "code",
   "execution_count": 79,
   "metadata": {},
   "outputs": [
    {
     "name": "stdout",
     "output_type": "stream",
     "text": [
      "{'penalty': 'l1', 'C': 1}\n"
     ]
    }
   ],
   "source": [
    "X_level3_po=X_level3_po[new_features_f]\n",
    "param_grid = {'C': [0.001, 0.01, 0.1, 1, 10, 100, 1000],\n",
    "              \"penalty\": ['l2', 'l1']}\n",
    "clf = GridSearchCV(linear_model.LogisticRegression(), param_grid, cv=5)\n",
    "clf.fit(X_level3_po, y_level3_po)\n",
    "print(clf.best_params_)"
   ]
  },
  {
   "cell_type": "code",
   "execution_count": 80,
   "metadata": {
    "collapsed": true
   },
   "outputs": [],
   "source": [
    "cv = StratifiedKFold(n_splits=5, shuffle=True, random_state=42)\n",
    "logreg = linear_model.LogisticRegression(penalty= 'l1', C= 1)\n",
    "target_prediction = cross_val_predict(logreg, X_level3_po, y_level3_po, cv=cv)"
   ]
  },
  {
   "cell_type": "code",
   "execution_count": 81,
   "metadata": {},
   "outputs": [
    {
     "name": "stdout",
     "output_type": "stream",
     "text": [
      "Confusion Matrix:\n",
      "                        _____________________________Prediction______________________________\n",
      "                                Bridge Cameras Digital Compact Cameras                 Instant\n",
      "         Bridge Cameras                     43                      13                       0\n",
      "Digital Compact Cameras                     11                      47                       0\n",
      "                Instant                      1                       3                      15\n",
      "\n",
      "Accuracy Score:\n",
      "0.789473684211\n",
      "()\n",
      "Classification Report:\n",
      "                         precision    recall  f1-score   support\n",
      "\n",
      "         Bridge Cameras       0.78      0.77      0.77        56\n",
      "Digital Compact Cameras       0.75      0.81      0.78        58\n",
      "                Instant       1.00      0.79      0.88        19\n",
      "\n",
      "            avg / total       0.80      0.79      0.79       133\n",
      "\n"
     ]
    }
   ],
   "source": [
    "analytics(y_level3_po,target_prediction)"
   ]
  },
  {
   "cell_type": "code",
   "execution_count": 82,
   "metadata": {},
   "outputs": [
    {
     "name": "stderr",
     "output_type": "stream",
     "text": [
      "/Users/bengikoseoglu/anaconda2/lib/python2.7/site-packages/ipykernel_launcher.py:1: SettingWithCopyWarning:\n",
      "\n",
      "\n",
      "A value is trying to be set on a copy of a slice from a DataFrame.\n",
      "Try using .loc[row_indexer,col_indexer] = value instead\n",
      "\n",
      "See the caveats in the documentation: http://pandas.pydata.org/pandas-docs/stable/indexing.html#indexing-view-versus-copy\n",
      "\n"
     ]
    }
   ],
   "source": [
    "level3_train_pocam['prediction_level3']=target_prediction"
   ]
  },
  {
   "cell_type": "markdown",
   "metadata": {},
   "source": [
    "#### 2. Mirrorless Cameras"
   ]
  },
  {
   "cell_type": "code",
   "execution_count": 83,
   "metadata": {
    "collapsed": true
   },
   "outputs": [],
   "source": [
    "#prediction_level2_camcorders\n",
    "level3_train_miror=level2_train_cam[level2_train_cam['Parent_node_2']=='Mirrorless Cameras']"
   ]
  },
  {
   "cell_type": "code",
   "execution_count": 84,
   "metadata": {
    "collapsed": true
   },
   "outputs": [],
   "source": [
    "X_level3_mi=level3_train_miror.drop(['ID','Parent_node_1','Parent_node_2','Leaf_Node','prediction_level1','prediction_level2'],axis=1)\n",
    "y_level3_mi=level3_train_miror['Leaf_Node']"
   ]
  },
  {
   "cell_type": "code",
   "execution_count": 85,
   "metadata": {},
   "outputs": [
    {
     "name": "stderr",
     "output_type": "stream",
     "text": [
      "/Users/bengikoseoglu/anaconda2/lib/python2.7/site-packages/sklearn/feature_selection/univariate_selection.py:113: UserWarning:\n",
      "\n",
      "Features [  1   3   4   5   6   7   8   9  10  12  13  14  15  16  17  18  20  24\n",
      "  25  27  28  29  30  31  32  33  34  35  36  37  38  40  41  42  43  44\n",
      "  47  50  52  53  54  55  56  57  58  59  60  61  62  63  66  68  69  70\n",
      "  71  72  73  74  75  78  79  80  81  84  86  87  88  89  90  91  92  93\n",
      "  95  96  98 100 101 102 103 104 106 107 109 113 114 115 116 117 119 120\n",
      " 121 123 124 125 127 129 131 132 133 134 135 137 139 142 143 144 145 146\n",
      " 148 149 150 151 153 154 155 156 158 160 163 164 165 166 167 168 169 170\n",
      " 172 173 175 176 177 179 182 184 185 186 187 192 196 197 198 199 201 204\n",
      " 205 206 208 209 210 211 212 213 217 219 220 221 222 223 224 225 226 227\n",
      " 228 229 230 231 232 233 234 235 236 238 239 240 242 247 249 250 253 254\n",
      " 255 256 258 259 260 261 262 263 264 266 267 269 271 273 275 276 277 278\n",
      " 280 281 282 283 284 285 286 287 288 289 290 291 292 293 294 295 296 298\n",
      " 299 300 303 304 305 306 308 309 310 312 314 315 317 319 320 321 322 324\n",
      " 325 327 329 331 333 334 335 336 337 339 340 341 343 344 346 348 349 350\n",
      " 351 353 354 355 356 358 359 360 361 362 363 364 365 366 367 368 369 370\n",
      " 371 372 373 374 375 376 377 378 379 380 382 383 384 385 386 389 390 391\n",
      " 393 395 396 398 399 400 401 402 403 404 405 406 407 408 409 410 411 412\n",
      " 413 414 416 417 418 419 421 422 423 425 426 428 429 431 432 435 436 437\n",
      " 440 441 442 445 446 448 449 450 451 452 454 455 456 457 458 459 460 461\n",
      " 464 465 466 467 469 470 473 474 475 476 477 478 479 480 481 482 483 484\n",
      " 485 486 487 488 489 490 491 492 495 498 499 500 501 502 507 508 509 510\n",
      " 511 512 513 514 515 517 518 519 522 524 525 526 527 528 529 530 531 533\n",
      " 535 536 537 538 539 540 541 542 543 544 545 546 547 548 549 550 551 552\n",
      " 553 554 555 556 557 558 559 560 561 562 563 564 569 570 572 573 575 576\n",
      " 577 578 579 583 584 586 587 588 589 590 591 592 593 595 596 597 598 599\n",
      " 601 602 603 604 608 609 610 611 613 614 616 617 619 622 623 625 629 630\n",
      " 632 634 636 638 639 640 645 647 650 651 653 654 655 657 659 663 665 666\n",
      " 669 672 674 676 677 678 680 681 682 683 684 685 687 688 689 690 691 692\n",
      " 693 696 697 698 699 700 701 702 703 704 705 706 709 710 711 712 713 716\n",
      " 717 718 719 722 723 724 725 726 727 728 730 731 732 733 734 735 736 737\n",
      " 738 739 741 742 743 744 745 746 747 749 750 751 752 753 755 756 757 758\n",
      " 760 761 762 763 764 765 766 767 768 769 770 773 774 775 776 777 778 779\n",
      " 781 782 783 784 785 786 788 789 790 791 792 794 796 797 798 799 800 801\n",
      " 802 803 804 805 806 808 809 810 811 812 813 814 815 816 817 818 819 820\n",
      " 821 822 823 826 827 829 830 831 832 834 835 840 841 842 844 845 846 848\n",
      " 849 851 852 853 854 855 857 858 860 861 862 863 864 865 866 867 868 869\n",
      " 870 871 872 873 874 875 876 879 880 881 882 883 884 886 888 889 890 891\n",
      " 893 894 895 896 897 899 900 901 904 905 906 907 908 910 912 913 914 915\n",
      " 916 918 919 920 921 922 923 925 926 927 929 930 932 933 934 935 936 937\n",
      " 938 939 940 941 942 943 944 945 947 948 950 951 952] are constant.\n",
      "\n"
     ]
    }
   ],
   "source": [
    "#F_CLASSIF\n",
    "feature_names = list(X_level3_mi.columns.values)\n",
    "X_new = SelectKBest(f_classif, k=100).fit(X_level3_mi, y_level3_mi)\n",
    "mask = X_new.get_support() #list of booleans\n",
    "new_features_f = [] # The list of your K best features\n",
    "\n",
    "for bool, feature in zip(mask, feature_names):\n",
    "    if bool:\n",
    "        new_features_f.append(feature)"
   ]
  },
  {
   "cell_type": "code",
   "execution_count": 86,
   "metadata": {},
   "outputs": [
    {
     "name": "stdout",
     "output_type": "stream",
     "text": [
      "{'penalty': 'l2', 'C': 1}\n"
     ]
    }
   ],
   "source": [
    "X_level3_mi=X_level3_mi[new_features_f]\n",
    "param_grid = {'C': [0.001, 0.01, 0.1, 1, 10, 100, 1000],\n",
    "              \"penalty\": ['l2', 'l1']}\n",
    "clf = GridSearchCV(linear_model.LogisticRegression(), param_grid, cv=5)\n",
    "clf.fit(X_level3_mi, y_level3_mi)\n",
    "print(clf.best_params_)"
   ]
  },
  {
   "cell_type": "code",
   "execution_count": 87,
   "metadata": {
    "collapsed": true
   },
   "outputs": [],
   "source": [
    "cv = StratifiedKFold(n_splits=5, shuffle=True, random_state=42)\n",
    "logreg = linear_model.LogisticRegression(penalty= 'l2', C= 1)\n",
    "target_prediction = cross_val_predict(logreg, X_level3_mi, y_level3_mi, cv=cv)"
   ]
  },
  {
   "cell_type": "code",
   "execution_count": 88,
   "metadata": {},
   "outputs": [
    {
     "name": "stdout",
     "output_type": "stream",
     "text": [
      "Confusion Matrix:\n",
      "                             _______________________Prediction_______________________\n",
      "                            Full Frame Mirrorless Camera NonFullFrameMirrorlessCamera\n",
      "Full Frame Mirrorless Camera                          27                            4\n",
      "NonFullFrameMirrorlessCamera                           2                           48\n",
      "\n",
      "Accuracy Score:\n",
      "0.925925925926\n",
      "()\n",
      "Classification Report:\n",
      "                              precision    recall  f1-score   support\n",
      "\n",
      "Full Frame Mirrorless Camera       0.93      0.87      0.90        31\n",
      "NonFullFrameMirrorlessCamera       0.92      0.96      0.94        50\n",
      "\n",
      "                 avg / total       0.93      0.93      0.93        81\n",
      "\n"
     ]
    }
   ],
   "source": [
    "analytics(y_level3_mi,target_prediction)"
   ]
  },
  {
   "cell_type": "code",
   "execution_count": 89,
   "metadata": {},
   "outputs": [
    {
     "name": "stderr",
     "output_type": "stream",
     "text": [
      "/Users/bengikoseoglu/anaconda2/lib/python2.7/site-packages/ipykernel_launcher.py:1: SettingWithCopyWarning:\n",
      "\n",
      "\n",
      "A value is trying to be set on a copy of a slice from a DataFrame.\n",
      "Try using .loc[row_indexer,col_indexer] = value instead\n",
      "\n",
      "See the caveats in the documentation: http://pandas.pydata.org/pandas-docs/stable/indexing.html#indexing-view-versus-copy\n",
      "\n"
     ]
    }
   ],
   "source": [
    "level3_train_miror['prediction_level3']=target_prediction"
   ]
  },
  {
   "cell_type": "markdown",
   "metadata": {},
   "source": [
    "### COMBINING ALL"
   ]
  },
  {
   "cell_type": "code",
   "execution_count": 90,
   "metadata": {},
   "outputs": [
    {
     "name": "stderr",
     "output_type": "stream",
     "text": [
      "/Users/bengikoseoglu/anaconda2/lib/python2.7/site-packages/ipykernel_launcher.py:2: SettingWithCopyWarning:\n",
      "\n",
      "\n",
      "A value is trying to be set on a copy of a slice from a DataFrame.\n",
      "Try using .loc[row_indexer,col_indexer] = value instead\n",
      "\n",
      "See the caveats in the documentation: http://pandas.pydata.org/pandas-docs/stable/indexing.html#indexing-view-versus-copy\n",
      "\n"
     ]
    }
   ],
   "source": [
    "level3_dslr=level2_train_cam[level2_train_cam['Parent_node_2']=='DSLR']\n",
    "level3_dslr['prediction_level3']=level3_dslr['prediction_level2']"
   ]
  },
  {
   "cell_type": "code",
   "execution_count": 91,
   "metadata": {},
   "outputs": [
    {
     "name": "stderr",
     "output_type": "stream",
     "text": [
      "/Users/bengikoseoglu/anaconda2/lib/python2.7/site-packages/ipykernel_launcher.py:2: SettingWithCopyWarning:\n",
      "\n",
      "\n",
      "A value is trying to be set on a copy of a slice from a DataFrame.\n",
      "Try using .loc[row_indexer,col_indexer] = value instead\n",
      "\n",
      "See the caveats in the documentation: http://pandas.pydata.org/pandas-docs/stable/indexing.html#indexing-view-versus-copy\n",
      "\n",
      "/Users/bengikoseoglu/anaconda2/lib/python2.7/site-packages/ipykernel_launcher.py:3: SettingWithCopyWarning:\n",
      "\n",
      "\n",
      "A value is trying to be set on a copy of a slice from a DataFrame.\n",
      "Try using .loc[row_indexer,col_indexer] = value instead\n",
      "\n",
      "See the caveats in the documentation: http://pandas.pydata.org/pandas-docs/stable/indexing.html#indexing-view-versus-copy\n",
      "\n"
     ]
    }
   ],
   "source": [
    "level3_nocamera=model2[model2['Parent_node_1']=='Not Camera']\n",
    "level3_nocamera['prediction_level2']=level3_nocamera['prediction_level1']\n",
    "level3_nocamera['prediction_level3']=level3_nocamera['prediction_level1']"
   ]
  },
  {
   "cell_type": "code",
   "execution_count": 92,
   "metadata": {
    "collapsed": true
   },
   "outputs": [],
   "source": [
    "all_concat=pd.concat([level3_dslr,level3_nocamera,level3_train_miror,level3_train_pocam,level3_train_actioncameras,level3_train])"
   ]
  },
  {
   "cell_type": "code",
   "execution_count": 93,
   "metadata": {},
   "outputs": [
    {
     "data": {
      "text/plain": [
       "array([u'Photo Devices', u'Not Camera', u'Cam Corders'], dtype=object)"
      ]
     },
     "execution_count": 93,
     "metadata": {},
     "output_type": "execute_result"
    }
   ],
   "source": [
    "all_concat.Parent_node_1.unique()"
   ]
  },
  {
   "cell_type": "code",
   "execution_count": 94,
   "metadata": {},
   "outputs": [
    {
     "data": {
      "text/plain": [
       "array([u'DSLR', u'Not Camera', u'Mirrorless Cameras',\n",
       "       u'Point & Shoot Cameras', u'Action Cameras',\n",
       "       u'Traditional Video Cameras'], dtype=object)"
      ]
     },
     "execution_count": 94,
     "metadata": {},
     "output_type": "execute_result"
    }
   ],
   "source": [
    "all_concat.Parent_node_2.unique()"
   ]
  },
  {
   "cell_type": "code",
   "execution_count": 95,
   "metadata": {},
   "outputs": [
    {
     "data": {
      "text/plain": [
       "array([u'DSLR', u'Not Camera', u'Full Frame Mirrorless Camera',\n",
       "       u'NonFullFrameMirrorlessCamera', u'Bridge Cameras',\n",
       "       u'Digital Compact Cameras', u'Instant', u'360 Degree Cameras',\n",
       "       u'Non 360 Degree Cameras', u'Drone', u'Common Use Video Cameras',\n",
       "       u'Professional Video Cameras'], dtype=object)"
      ]
     },
     "execution_count": 95,
     "metadata": {},
     "output_type": "execute_result"
    }
   ],
   "source": [
    "all_concat.Leaf_Node.unique()"
   ]
  },
  {
   "cell_type": "code",
   "execution_count": 96,
   "metadata": {},
   "outputs": [
    {
     "data": {
      "text/plain": [
       "array([u'Photo Devices', u'Cam Corders', u'Not Camera'], dtype=object)"
      ]
     },
     "execution_count": 96,
     "metadata": {},
     "output_type": "execute_result"
    }
   ],
   "source": [
    "all_concat.prediction_level1.unique()"
   ]
  },
  {
   "cell_type": "code",
   "execution_count": 97,
   "metadata": {},
   "outputs": [
    {
     "data": {
      "text/plain": [
       "array([u'DSLR', u'Point & Shoot Cameras', u'Mirrorless Cameras',\n",
       "       u'Not Camera', u'Cam Corders', u'Photo Devices', u'Action Cameras',\n",
       "       u'Traditional Video Cameras'], dtype=object)"
      ]
     },
     "execution_count": 97,
     "metadata": {},
     "output_type": "execute_result"
    }
   ],
   "source": [
    "all_concat.prediction_level2.unique()"
   ]
  },
  {
   "cell_type": "code",
   "execution_count": 98,
   "metadata": {},
   "outputs": [
    {
     "data": {
      "text/plain": [
       "array([u'DSLR', u'Point & Shoot Cameras', u'Mirrorless Cameras',\n",
       "       u'Not Camera', u'Cam Corders', u'Photo Devices',\n",
       "       u'Full Frame Mirrorless Camera', u'NonFullFrameMirrorlessCamera',\n",
       "       u'Bridge Cameras', u'Digital Compact Cameras', u'Instant',\n",
       "       u'360 Degree Cameras', u'Non 360 Degree Cameras', u'Drone',\n",
       "       u'Common Use Video Cameras', u'Professional Video Cameras'], dtype=object)"
      ]
     },
     "execution_count": 98,
     "metadata": {},
     "output_type": "execute_result"
    }
   ],
   "source": [
    "all_concat.prediction_level3.unique()"
   ]
  },
  {
   "cell_type": "code",
   "execution_count": 99,
   "metadata": {},
   "outputs": [
    {
     "data": {
      "text/plain": [
       "(416, 960)"
      ]
     },
     "execution_count": 99,
     "metadata": {},
     "output_type": "execute_result"
    }
   ],
   "source": [
    "all_concat.shape"
   ]
  },
  {
   "cell_type": "markdown",
   "metadata": {},
   "source": [
    "### For whole leaf nodes:"
   ]
  },
  {
   "cell_type": "code",
   "execution_count": 100,
   "metadata": {},
   "outputs": [
    {
     "name": "stdout",
     "output_type": "stream",
     "text": [
      "Confusion Matrix:\n",
      "              ______________Prediction_______________\n",
      "               Cam Corders    Not Camera Photo Devices\n",
      "  Cam Corders           95             1            15\n",
      "   Not Camera            6             9             4\n",
      "Photo Devices            7             0           279\n",
      "\n",
      "Accuracy Score:\n",
      "0.920673076923\n",
      "()\n",
      "Classification Report:\n",
      "               precision    recall  f1-score   support\n",
      "\n",
      "  Cam Corders       0.88      0.86      0.87       111\n",
      "   Not Camera       0.90      0.47      0.62        19\n",
      "Photo Devices       0.94      0.98      0.96       286\n",
      "\n",
      "  avg / total       0.92      0.92      0.92       416\n",
      "\n"
     ]
    }
   ],
   "source": [
    "analytics(all_concat['Parent_node_1'],all_concat['prediction_level1'])#y_level3_mi,target_prediction"
   ]
  },
  {
   "cell_type": "code",
   "execution_count": 101,
   "metadata": {},
   "outputs": [
    {
     "name": "stdout",
     "output_type": "stream",
     "text": [
      "Confusion Matrix:\n",
      "                          _______________________________________________________________________________________________Prediction_______________________________________________________________________________________________\n",
      "                                    Action Cameras               Cam Corders                      DSLR        Mirrorless Cameras                Not Camera             Photo Devices     Point & Shoot Cameras Traditional Video Cameras\n",
      "           Action Cameras                       56                         0                         0                         0                         0                         0                         0                         2\n",
      "              Cam Corders                        0                         0                         0                         0                         0                         0                         0                         0\n",
      "                     DSLR                        0                         0                        62                         5                         0                         0                         5                         0\n",
      "       Mirrorless Cameras                        0                         0                         3                        64                         0                         0                        14                         0\n",
      "               Not Camera                        0                         6                         0                         0                         9                         4                         0                         0\n",
      "            Photo Devices                        0                         0                         0                         0                         0                         0                         0                         0\n",
      "    Point & Shoot Cameras                        0                         0                         0                         2                         0                         0                       131                         0\n",
      "Traditional Video Cameras                        2                         0                         0                         0                         0                         0                         0                        51\n",
      "\n",
      "Accuracy Score:\n",
      "0.896634615385\n",
      "()\n",
      "Classification Report:\n",
      "                           precision    recall  f1-score   support\n",
      "\n",
      "           Action Cameras       0.97      0.97      0.97        58\n",
      "              Cam Corders       0.00      0.00      0.00         0\n",
      "                     DSLR       0.95      0.86      0.91        72\n",
      "       Mirrorless Cameras       0.90      0.79      0.84        81\n",
      "               Not Camera       1.00      0.47      0.64        19\n",
      "            Photo Devices       0.00      0.00      0.00         0\n",
      "    Point & Shoot Cameras       0.87      0.98      0.93       133\n",
      "Traditional Video Cameras       0.96      0.96      0.96        53\n",
      "\n",
      "              avg / total       0.92      0.90      0.90       416\n",
      "\n"
     ]
    },
    {
     "name": "stderr",
     "output_type": "stream",
     "text": [
      "/Users/bengikoseoglu/anaconda2/lib/python2.7/site-packages/sklearn/metrics/classification.py:1137: UndefinedMetricWarning:\n",
      "\n",
      "Recall and F-score are ill-defined and being set to 0.0 in labels with no true samples.\n",
      "\n"
     ]
    }
   ],
   "source": [
    "analytics(all_concat['Parent_node_2'],all_concat['prediction_level2'])#y_level3_mi,target_prediction"
   ]
  },
  {
   "cell_type": "code",
   "execution_count": 102,
   "metadata": {},
   "outputs": [
    {
     "data": {
      "text/plain": [
       "Leaf_Node                     prediction_level3           \n",
       "360 Degree Cameras            360 Degree Cameras              19\n",
       "                              Drone                            1\n",
       "                              Non 360 Degree Cameras           1\n",
       "Bridge Cameras                Bridge Cameras                  43\n",
       "                              Digital Compact Cameras         13\n",
       "Common Use Video Cameras      Common Use Video Cameras        15\n",
       "                              Professional Video Cameras       6\n",
       "DSLR                          DSLR                            62\n",
       "                              Mirrorless Cameras               5\n",
       "                              Point & Shoot Cameras            5\n",
       "Digital Compact Cameras       Bridge Cameras                  11\n",
       "                              Digital Compact Cameras         47\n",
       "Drone                         360 Degree Cameras               1\n",
       "                              Drone                           13\n",
       "                              Non 360 Degree Cameras           1\n",
       "Full Frame Mirrorless Camera  Full Frame Mirrorless Camera    27\n",
       "                              NonFullFrameMirrorlessCamera     4\n",
       "Instant                       Bridge Cameras                   1\n",
       "                              Digital Compact Cameras          3\n",
       "                              Instant                         15\n",
       "Non 360 Degree Cameras        360 Degree Cameras               1\n",
       "                              Drone                            1\n",
       "                              Non 360 Degree Cameras          20\n",
       "NonFullFrameMirrorlessCamera  Full Frame Mirrorless Camera     2\n",
       "                              NonFullFrameMirrorlessCamera    48\n",
       "Not Camera                    Cam Corders                      6\n",
       "                              Not Camera                       9\n",
       "                              Photo Devices                    4\n",
       "Professional Video Cameras    Common Use Video Cameras         3\n",
       "                              Professional Video Cameras      29\n",
       "Name: ID, dtype: int64"
      ]
     },
     "execution_count": 102,
     "metadata": {},
     "output_type": "execute_result"
    }
   ],
   "source": [
    "all_concat.groupby(['Leaf_Node', 'prediction_level3'])['ID'].count()\n"
   ]
  },
  {
   "cell_type": "code",
   "execution_count": 103,
   "metadata": {},
   "outputs": [
    {
     "name": "stdout",
     "output_type": "stream",
     "text": [
      "Confusion Matrix:\n",
      "                             ___________________________________________________________________________________________________________________________________________________________________________________________________________________________Prediction___________________________________________________________________________________________________________________________________________________________________________________________________________________________\n",
      "                                      360 Degree Cameras               Bridge Cameras                  Cam Corders     Common Use Video Cameras                         DSLR      Digital Compact Cameras                        Drone Full Frame Mirrorless Camera                      Instant           Mirrorless Cameras       Non 360 Degree Cameras NonFullFrameMirrorlessCamera                   Not Camera                Photo Devices        Point & Shoot Cameras   Professional Video Cameras\n",
      "          360 Degree Cameras                          19                            0                            0                            0                            0                            0                            1                            0                            0                            0                            1                            0                            0                            0                            0                            0\n",
      "              Bridge Cameras                           0                           43                            0                            0                            0                           13                            0                            0                            0                            0                            0                            0                            0                            0                            0                            0\n",
      "                 Cam Corders                           0                            0                            0                            0                            0                            0                            0                            0                            0                            0                            0                            0                            0                            0                            0                            0\n",
      "    Common Use Video Cameras                           0                            0                            0                           15                            0                            0                            0                            0                            0                            0                            0                            0                            0                            0                            0                            6\n",
      "                        DSLR                           0                            0                            0                            0                           62                            0                            0                            0                            0                            5                            0                            0                            0                            0                            5                            0\n",
      "     Digital Compact Cameras                           0                           11                            0                            0                            0                           47                            0                            0                            0                            0                            0                            0                            0                            0                            0                            0\n",
      "                       Drone                           1                            0                            0                            0                            0                            0                           13                            0                            0                            0                            1                            0                            0                            0                            0                            0\n",
      "Full Frame Mirrorless Camera                           0                            0                            0                            0                            0                            0                            0                           27                            0                            0                            0                            4                            0                            0                            0                            0\n",
      "                     Instant                           0                            1                            0                            0                            0                            3                            0                            0                           15                            0                            0                            0                            0                            0                            0                            0\n",
      "          Mirrorless Cameras                           0                            0                            0                            0                            0                            0                            0                            0                            0                            0                            0                            0                            0                            0                            0                            0\n",
      "      Non 360 Degree Cameras                           1                            0                            0                            0                            0                            0                            1                            0                            0                            0                           20                            0                            0                            0                            0                            0\n",
      "NonFullFrameMirrorlessCamera                           0                            0                            0                            0                            0                            0                            0                            2                            0                            0                            0                           48                            0                            0                            0                            0\n",
      "                  Not Camera                           0                            0                            6                            0                            0                            0                            0                            0                            0                            0                            0                            0                            9                            4                            0                            0\n",
      "               Photo Devices                           0                            0                            0                            0                            0                            0                            0                            0                            0                            0                            0                            0                            0                            0                            0                            0\n",
      "       Point & Shoot Cameras                           0                            0                            0                            0                            0                            0                            0                            0                            0                            0                            0                            0                            0                            0                            0                            0\n",
      "  Professional Video Cameras                           0                            0                            0                            3                            0                            0                            0                            0                            0                            0                            0                            0                            0                            0                            0                           29\n",
      "\n",
      "Accuracy Score:\n",
      "0.834134615385\n"
     ]
    },
    {
     "name": "stdout",
     "output_type": "stream",
     "text": [
      "()\n",
      "Classification Report:\n",
      "                              precision    recall  f1-score   support\n",
      "\n",
      "          360 Degree Cameras       0.90      0.90      0.90        21\n",
      "              Bridge Cameras       0.78      0.77      0.77        56\n",
      "                 Cam Corders       0.00      0.00      0.00         0\n",
      "    Common Use Video Cameras       0.83      0.71      0.77        21\n",
      "                        DSLR       1.00      0.86      0.93        72\n",
      "     Digital Compact Cameras       0.75      0.81      0.78        58\n",
      "                       Drone       0.87      0.87      0.87        15\n",
      "Full Frame Mirrorless Camera       0.93      0.87      0.90        31\n",
      "                     Instant       1.00      0.79      0.88        19\n",
      "          Mirrorless Cameras       0.00      0.00      0.00         0\n",
      "      Non 360 Degree Cameras       0.91      0.91      0.91        22\n",
      "NonFullFrameMirrorlessCamera       0.92      0.96      0.94        50\n",
      "                  Not Camera       1.00      0.47      0.64        19\n",
      "               Photo Devices       0.00      0.00      0.00         0\n",
      "       Point & Shoot Cameras       0.00      0.00      0.00         0\n",
      "  Professional Video Cameras       0.83      0.91      0.87        32\n",
      "\n",
      "                 avg / total       0.88      0.83      0.85       416\n",
      "\n"
     ]
    }
   ],
   "source": [
    "analytics(all_concat['Leaf_Node'],all_concat['prediction_level3'])#y_level3_mi,target_prediction"
   ]
  }
 ],
 "metadata": {
  "kernelspec": {
   "display_name": "Python 2",
   "language": "python",
   "name": "python2"
  },
  "language_info": {
   "codemirror_mode": {
    "name": "ipython",
    "version": 2
   },
   "file_extension": ".py",
   "mimetype": "text/x-python",
   "name": "python",
   "nbconvert_exporter": "python",
   "pygments_lexer": "ipython2",
   "version": "2.7.14"
  }
 },
 "nbformat": 4,
 "nbformat_minor": 2
}
