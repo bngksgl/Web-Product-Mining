{
 "cells": [
  {
   "cell_type": "code",
   "execution_count": 1,
   "metadata": {
    "collapsed": true
   },
   "outputs": [],
   "source": [
    "import pandas as pd\n",
    "import numpy as np"
   ]
  },
  {
   "cell_type": "code",
   "execution_count": 2,
   "metadata": {},
   "outputs": [
    {
     "data": {
      "text/plain": [
       "['',\n",
       " '/Users/bengikoseoglu/anaconda2/lib/python27.zip',\n",
       " '/Users/bengikoseoglu/anaconda2/lib/python2.7',\n",
       " '/Users/bengikoseoglu/anaconda2/lib/python2.7/plat-darwin',\n",
       " '/Users/bengikoseoglu/anaconda2/lib/python2.7/plat-mac',\n",
       " '/Users/bengikoseoglu/anaconda2/lib/python2.7/plat-mac/lib-scriptpackages',\n",
       " '/Users/bengikoseoglu/anaconda2/lib/python2.7/lib-tk',\n",
       " '/Users/bengikoseoglu/anaconda2/lib/python2.7/lib-old',\n",
       " '/Users/bengikoseoglu/anaconda2/lib/python2.7/lib-dynload',\n",
       " '/Users/bengikoseoglu/anaconda2/lib/python2.7/site-packages',\n",
       " '/Users/bengikoseoglu/anaconda2/lib/python2.7/site-packages/aeosa',\n",
       " '/Users/bengikoseoglu/anaconda2/lib/python2.7/site-packages/IPython/extensions',\n",
       " '/Users/bengikoseoglu/.ipython',\n",
       " '/Users/bengikoseoglu/anaconda2/pkgs',\n",
       " '/Users/bengikoseoglu/anaconda2/pckgs',\n",
       " '/Users/bengikoseoglu',\n",
       " '/Library/Python/2.7/site-packages/']"
      ]
     },
     "execution_count": 2,
     "metadata": {},
     "output_type": "execute_result"
    }
   ],
   "source": [
    "import sys\n",
    "sys.path.append('/Users/bengikoseoglu/anaconda2/pkgs')\n",
    "sys.path.append('/Users/bengikoseoglu/anaconda2/pckgs')\n",
    "sys.path.append('/Users/bengikoseoglu')\n",
    "sys.path.append('/Library/Python/2.7/site-packages/')\n",
    "sys.path"
   ]
  },
  {
   "cell_type": "code",
   "execution_count": 3,
   "metadata": {
    "collapsed": true
   },
   "outputs": [],
   "source": [
    "import pandas as pd\n",
    "import numpy as np\n",
    "import datetime\n",
    "import matplotlib as mpl\n",
    "import matplotlib.pyplot as plt\n",
    "import seaborn as sns\n",
    "from pylab import *\n",
    "import plotly.plotly as py\n",
    "import plotly\n",
    "import plotly.graph_objs as go\n",
    "from pandasql import sqldf\n",
    "pysqldf = lambda q: sqldf(q, globals())"
   ]
  },
  {
   "cell_type": "code",
   "execution_count": 4,
   "metadata": {},
   "outputs": [
    {
     "data": {
      "text/plain": [
       "['cameras_400_3_nocamera.xlsx',\n",
       " 'Cameras_LCPN_onlylogistic_TFIDF.ipynb',\n",
       " 'Cameras_Flat_Classification_BaseLine.ipynb',\n",
       " 'Cameras_LCPN_Classification.ipynb',\n",
       " 'Cameras_LCPN_onlylogistic_FClassification.ipynb',\n",
       " 'Cameras_LCPN_onlylogistic_FClassification_TFIDF.ipynb',\n",
       " '.ipynb_checkpoints',\n",
       " 'Cameras_LCPN_HTML_TFIDF.ipynb',\n",
       " 'Global Classification.ipynb',\n",
       " 'Cameras_LCPN_HTML_englishvocab.ipynb']"
      ]
     },
     "execution_count": 4,
     "metadata": {},
     "output_type": "execute_result"
    }
   ],
   "source": [
    "import os\n",
    "cwd = os.getcwd()\n",
    "os.listdir(cwd)"
   ]
  },
  {
   "cell_type": "code",
   "execution_count": 5,
   "metadata": {
    "collapsed": true
   },
   "outputs": [],
   "source": [
    "df=pd.read_excel('cameras_400_3_nocamera.xlsx')"
   ]
  },
  {
   "cell_type": "code",
   "execution_count": 6,
   "metadata": {},
   "outputs": [
    {
     "data": {
      "text/plain": [
       "(418, 19)"
      ]
     },
     "execution_count": 6,
     "metadata": {},
     "output_type": "execute_result"
    }
   ],
   "source": [
    "df.shape"
   ]
  },
  {
   "cell_type": "code",
   "execution_count": 7,
   "metadata": {
    "collapsed": true
   },
   "outputs": [],
   "source": [
    "df=df.rename(columns={'Leaf Node':'Leaf_Node'})"
   ]
  },
  {
   "cell_type": "code",
   "execution_count": 8,
   "metadata": {},
   "outputs": [
    {
     "data": {
      "text/plain": [
       "array([u'Bridge Cameras', u'DSLR', u'Full Frame Mirrorless Camera',\n",
       "       u'NonFullFrameMirrorlessCamera', u'Digital Compact Cameras',\n",
       "       u'Common Use Video Cameras', u'Instant', u'360 Degree Cameras',\n",
       "       u'Non 360 Degree Cameras', u'Professional Video Cameras', u'Drone',\n",
       "       u'Not Camera'], dtype=object)"
      ]
     },
     "execution_count": 8,
     "metadata": {},
     "output_type": "execute_result"
    }
   ],
   "source": [
    "df['Leaf_Node'].unique()"
   ]
  },
  {
   "cell_type": "code",
   "execution_count": 9,
   "metadata": {},
   "outputs": [
    {
     "data": {
      "text/html": [
       "<div>\n",
       "<style>\n",
       "    .dataframe thead tr:only-child th {\n",
       "        text-align: right;\n",
       "    }\n",
       "\n",
       "    .dataframe thead th {\n",
       "        text-align: left;\n",
       "    }\n",
       "\n",
       "    .dataframe tbody tr th {\n",
       "        vertical-align: top;\n",
       "    }\n",
       "</style>\n",
       "<table border=\"1\" class=\"dataframe\">\n",
       "  <thead>\n",
       "    <tr style=\"text-align: right;\">\n",
       "      <th></th>\n",
       "      <th>ID</th>\n",
       "      <th>name</th>\n",
       "      <th>Leaf_Node</th>\n",
       "      <th>priceCurrency</th>\n",
       "      <th>price</th>\n",
       "      <th>brand</th>\n",
       "      <th>itemCondition</th>\n",
       "      <th>availability</th>\n",
       "      <th>Description</th>\n",
       "      <th>image</th>\n",
       "      <th>gtin12</th>\n",
       "      <th>gtin13</th>\n",
       "      <th>gtin14</th>\n",
       "      <th>gtin8</th>\n",
       "      <th>ratingValue</th>\n",
       "      <th>bestRating</th>\n",
       "      <th>reviewCount</th>\n",
       "      <th>Unnamed: 17</th>\n",
       "      <th>Good Examples</th>\n",
       "    </tr>\n",
       "  </thead>\n",
       "  <tbody>\n",
       "    <tr>\n",
       "      <th>0</th>\n",
       "      <td>jessops-f2dd233dd6100c900432fd2902df8cde</td>\n",
       "      <td>Nikon Coolpix P900 Digital Camera</td>\n",
       "      <td>Bridge Cameras</td>\n",
       "      <td>GBP</td>\n",
       "      <td>479</td>\n",
       "      <td>Nikon</td>\n",
       "      <td>NaN</td>\n",
       "      <td>True</td>\n",
       "      <td>NaN</td>\n",
       "      <td>https://i.jessops.com/images/home/homepage/100...</td>\n",
       "      <td>NaN</td>\n",
       "      <td>NaN</td>\n",
       "      <td>NaN</td>\n",
       "      <td>2018-09-08</td>\n",
       "      <td>10</td>\n",
       "      <td>162.0</td>\n",
       "      <td>NaN</td>\n",
       "      <td>NaN</td>\n",
       "      <td>NaN</td>\n",
       "    </tr>\n",
       "    <tr>\n",
       "      <th>1</th>\n",
       "      <td>jessops-ff2be7ba459709194635812c728a17fd</td>\n",
       "      <td>Canon EOS 750D Digital SLR with 18-55mm IS STM...</td>\n",
       "      <td>DSLR</td>\n",
       "      <td>GBP</td>\n",
       "      <td>539</td>\n",
       "      <td>Canon</td>\n",
       "      <td>NaN</td>\n",
       "      <td>True</td>\n",
       "      <td>NaN</td>\n",
       "      <td>https://i.jessops.com/images/home/homepage/100...</td>\n",
       "      <td>NaN</td>\n",
       "      <td>NaN</td>\n",
       "      <td>NaN</td>\n",
       "      <td>2018-02-09</td>\n",
       "      <td>10</td>\n",
       "      <td>361.0</td>\n",
       "      <td>NaN</td>\n",
       "      <td>NaN</td>\n",
       "      <td>NaN</td>\n",
       "    </tr>\n",
       "    <tr>\n",
       "      <th>2</th>\n",
       "      <td>jessops-acfa4e6fdc0962be2da5bc1ed8d44357</td>\n",
       "      <td>Canon EOS 5D Mark IV Digital SLR Body</td>\n",
       "      <td>DSLR</td>\n",
       "      <td>GBP</td>\n",
       "      <td>3249</td>\n",
       "      <td>Canon</td>\n",
       "      <td>NaN</td>\n",
       "      <td>True</td>\n",
       "      <td>NaN</td>\n",
       "      <td>https://i.jessops.com/images/home/homepage/100...</td>\n",
       "      <td>NaN</td>\n",
       "      <td>NaN</td>\n",
       "      <td>NaN</td>\n",
       "      <td>NaT</td>\n",
       "      <td>2018-07-09 00:00:00</td>\n",
       "      <td>10.0</td>\n",
       "      <td>25.0</td>\n",
       "      <td>NaN</td>\n",
       "      <td>NaN</td>\n",
       "    </tr>\n",
       "    <tr>\n",
       "      <th>3</th>\n",
       "      <td>jessops-cabb446087d8428bfa741078869439b8</td>\n",
       "      <td>Canon EOS 7D Mark II Digital SLR Body</td>\n",
       "      <td>DSLR</td>\n",
       "      <td>GBP</td>\n",
       "      <td>1349</td>\n",
       "      <td>Canon</td>\n",
       "      <td>NaN</td>\n",
       "      <td>True</td>\n",
       "      <td>NaN</td>\n",
       "      <td>https://i.jessops.com/images/home/homepage/100...</td>\n",
       "      <td>NaN</td>\n",
       "      <td>NaN</td>\n",
       "      <td>NaN</td>\n",
       "      <td>NaT</td>\n",
       "      <td>2018-04-09 00:00:00</td>\n",
       "      <td>10.0</td>\n",
       "      <td>268.0</td>\n",
       "      <td>NaN</td>\n",
       "      <td>NaN</td>\n",
       "    </tr>\n",
       "    <tr>\n",
       "      <th>4</th>\n",
       "      <td>jessops-8c6e0672aa9297ee8ff4d95fa5e2edc0</td>\n",
       "      <td>Sony A6000 Mirrorless Camera in Black with 16-...</td>\n",
       "      <td>Full Frame Mirrorless Camera</td>\n",
       "      <td>GBP</td>\n",
       "      <td>449</td>\n",
       "      <td>Sony</td>\n",
       "      <td>NaN</td>\n",
       "      <td>True</td>\n",
       "      <td>NaN</td>\n",
       "      <td>https://i.jessops.com/images/home/homepage/100...</td>\n",
       "      <td>NaN</td>\n",
       "      <td>NaN</td>\n",
       "      <td>NaN</td>\n",
       "      <td>NaT</td>\n",
       "      <td>9.0</td>\n",
       "      <td>10.0</td>\n",
       "      <td>107.0</td>\n",
       "      <td>NaN</td>\n",
       "      <td>NaN</td>\n",
       "    </tr>\n",
       "  </tbody>\n",
       "</table>\n",
       "</div>"
      ],
      "text/plain": [
       "                                         ID  \\\n",
       "0  jessops-f2dd233dd6100c900432fd2902df8cde   \n",
       "1  jessops-ff2be7ba459709194635812c728a17fd   \n",
       "2  jessops-acfa4e6fdc0962be2da5bc1ed8d44357   \n",
       "3  jessops-cabb446087d8428bfa741078869439b8   \n",
       "4  jessops-8c6e0672aa9297ee8ff4d95fa5e2edc0   \n",
       "\n",
       "                                                name  \\\n",
       "0                  Nikon Coolpix P900 Digital Camera   \n",
       "1  Canon EOS 750D Digital SLR with 18-55mm IS STM...   \n",
       "2              Canon EOS 5D Mark IV Digital SLR Body   \n",
       "3              Canon EOS 7D Mark II Digital SLR Body   \n",
       "4  Sony A6000 Mirrorless Camera in Black with 16-...   \n",
       "\n",
       "                      Leaf_Node priceCurrency price  brand itemCondition  \\\n",
       "0                Bridge Cameras           GBP   479  Nikon           NaN   \n",
       "1                          DSLR           GBP   539  Canon           NaN   \n",
       "2                          DSLR           GBP  3249  Canon           NaN   \n",
       "3                          DSLR           GBP  1349  Canon           NaN   \n",
       "4  Full Frame Mirrorless Camera           GBP   449   Sony           NaN   \n",
       "\n",
       "  availability Description                                              image  \\\n",
       "0         True         NaN  https://i.jessops.com/images/home/homepage/100...   \n",
       "1         True         NaN  https://i.jessops.com/images/home/homepage/100...   \n",
       "2         True         NaN  https://i.jessops.com/images/home/homepage/100...   \n",
       "3         True         NaN  https://i.jessops.com/images/home/homepage/100...   \n",
       "4         True         NaN  https://i.jessops.com/images/home/homepage/100...   \n",
       "\n",
       "  gtin12  gtin13  gtin14      gtin8          ratingValue  bestRating  \\\n",
       "0    NaN     NaN     NaN 2018-09-08                   10       162.0   \n",
       "1    NaN     NaN     NaN 2018-02-09                   10       361.0   \n",
       "2    NaN     NaN     NaN        NaT  2018-07-09 00:00:00        10.0   \n",
       "3    NaN     NaN     NaN        NaT  2018-04-09 00:00:00        10.0   \n",
       "4    NaN     NaN     NaN        NaT                  9.0        10.0   \n",
       "\n",
       "   reviewCount  Unnamed: 17 Good Examples  \n",
       "0          NaN          NaN           NaN  \n",
       "1          NaN          NaN           NaN  \n",
       "2         25.0          NaN           NaN  \n",
       "3        268.0          NaN           NaN  \n",
       "4        107.0          NaN           NaN  "
      ]
     },
     "execution_count": 9,
     "metadata": {},
     "output_type": "execute_result"
    }
   ],
   "source": [
    "df.head()"
   ]
  },
  {
   "cell_type": "code",
   "execution_count": 10,
   "metadata": {},
   "outputs": [
    {
     "data": {
      "text/plain": [
       "(418, 19)"
      ]
     },
     "execution_count": 10,
     "metadata": {},
     "output_type": "execute_result"
    }
   ],
   "source": [
    "df.shape"
   ]
  },
  {
   "cell_type": "code",
   "execution_count": 11,
   "metadata": {},
   "outputs": [
    {
     "data": {
      "text/plain": [
       "416"
      ]
     },
     "execution_count": 11,
     "metadata": {},
     "output_type": "execute_result"
    }
   ],
   "source": [
    "df.ID.nunique()"
   ]
  },
  {
   "cell_type": "code",
   "execution_count": 12,
   "metadata": {
    "collapsed": true
   },
   "outputs": [],
   "source": [
    "#IN (1, 3, 99)\n",
    "\n",
    "\n",
    "q = \"\"\"\n",
    "SELECT DISTINCT *, (CASE WHEN Leaf_Node IN ('360 Degree Cameras','Common Use Video Cameras','Non 360 Degree Cameras',\n",
    "'Professional Video Cameras','Drone') THEN 'Cam Corders' WHEN Leaf_Node IN ('Not Camera') THEN 'Not Camera' ELSE 'Photo Devices' END) AS parent_node_1, \n",
    "(CASE WHEN Leaf_Node IN ('360 Degree Cameras','Non 360 Degree Cameras','Drone') THEN 'Action Cameras' \n",
    "WHEN Leaf_Node IN ('Bridge Cameras','Digital Compact Cameras','Instant') THEN 'Point & Shoot Cameras' \n",
    "WHEN Leaf_Node IN ('Common Use Video Cameras','Professional Video Cameras') THEN 'Traditional Video Cameras' \n",
    "WHEN Leaf_Node IN ('DSLR') THEN 'DSLR' \n",
    "WHEN Leaf_Node IN ('Not Camera') THEN 'Not Camera'\n",
    "WHEN Leaf_Node IN ('Full Frame Mirrorless Camera','NonFullFrameMirrorlessCamera') THEN 'Mirrorless Cameras' \n",
    "ELSE 'NO CATEGORY'\n",
    "END) AS parent_node_2\n",
    "FROM df\n",
    "\"\"\"\n",
    "df = pysqldf(q)"
   ]
  },
  {
   "cell_type": "code",
   "execution_count": 13,
   "metadata": {},
   "outputs": [
    {
     "data": {
      "text/plain": [
       "(416, 21)"
      ]
     },
     "execution_count": 13,
     "metadata": {},
     "output_type": "execute_result"
    }
   ],
   "source": [
    "df.shape"
   ]
  },
  {
   "cell_type": "code",
   "execution_count": 14,
   "metadata": {},
   "outputs": [
    {
     "data": {
      "text/plain": [
       "array([u'Bridge Cameras', u'DSLR', u'Full Frame Mirrorless Camera',\n",
       "       u'NonFullFrameMirrorlessCamera', u'Digital Compact Cameras',\n",
       "       u'Common Use Video Cameras', u'Instant', u'360 Degree Cameras',\n",
       "       u'Non 360 Degree Cameras', u'Professional Video Cameras', u'Drone',\n",
       "       u'Not Camera'], dtype=object)"
      ]
     },
     "execution_count": 14,
     "metadata": {},
     "output_type": "execute_result"
    }
   ],
   "source": [
    "df.Leaf_Node.unique()"
   ]
  },
  {
   "cell_type": "code",
   "execution_count": 15,
   "metadata": {},
   "outputs": [
    {
     "data": {
      "text/html": [
       "<div>\n",
       "<style>\n",
       "    .dataframe thead tr:only-child th {\n",
       "        text-align: right;\n",
       "    }\n",
       "\n",
       "    .dataframe thead th {\n",
       "        text-align: left;\n",
       "    }\n",
       "\n",
       "    .dataframe tbody tr th {\n",
       "        vertical-align: top;\n",
       "    }\n",
       "</style>\n",
       "<table border=\"1\" class=\"dataframe\">\n",
       "  <thead>\n",
       "    <tr style=\"text-align: right;\">\n",
       "      <th></th>\n",
       "      <th>ID</th>\n",
       "      <th>name</th>\n",
       "      <th>Leaf_Node</th>\n",
       "      <th>priceCurrency</th>\n",
       "      <th>price</th>\n",
       "      <th>brand</th>\n",
       "      <th>itemCondition</th>\n",
       "      <th>availability</th>\n",
       "      <th>Description</th>\n",
       "      <th>image</th>\n",
       "      <th>...</th>\n",
       "      <th>gtin13</th>\n",
       "      <th>gtin14</th>\n",
       "      <th>gtin8</th>\n",
       "      <th>ratingValue</th>\n",
       "      <th>bestRating</th>\n",
       "      <th>reviewCount</th>\n",
       "      <th>Unnamed: 17</th>\n",
       "      <th>Good Examples</th>\n",
       "      <th>parent_node_1</th>\n",
       "      <th>parent_node_2</th>\n",
       "    </tr>\n",
       "  </thead>\n",
       "  <tbody>\n",
       "    <tr>\n",
       "      <th>0</th>\n",
       "      <td>jessops-f2dd233dd6100c900432fd2902df8cde</td>\n",
       "      <td>Nikon Coolpix P900 Digital Camera</td>\n",
       "      <td>Bridge Cameras</td>\n",
       "      <td>GBP</td>\n",
       "      <td>479</td>\n",
       "      <td>Nikon</td>\n",
       "      <td>None</td>\n",
       "      <td>True</td>\n",
       "      <td>None</td>\n",
       "      <td>https://i.jessops.com/images/home/homepage/100...</td>\n",
       "      <td>...</td>\n",
       "      <td>NaN</td>\n",
       "      <td>None</td>\n",
       "      <td>2018-09-08 00:00:00.000000</td>\n",
       "      <td>10</td>\n",
       "      <td>162.0</td>\n",
       "      <td>NaN</td>\n",
       "      <td>None</td>\n",
       "      <td>None</td>\n",
       "      <td>Photo Devices</td>\n",
       "      <td>Point &amp; Shoot Cameras</td>\n",
       "    </tr>\n",
       "    <tr>\n",
       "      <th>1</th>\n",
       "      <td>jessops-ff2be7ba459709194635812c728a17fd</td>\n",
       "      <td>Canon EOS 750D Digital SLR with 18-55mm IS STM...</td>\n",
       "      <td>DSLR</td>\n",
       "      <td>GBP</td>\n",
       "      <td>539</td>\n",
       "      <td>Canon</td>\n",
       "      <td>None</td>\n",
       "      <td>True</td>\n",
       "      <td>None</td>\n",
       "      <td>https://i.jessops.com/images/home/homepage/100...</td>\n",
       "      <td>...</td>\n",
       "      <td>NaN</td>\n",
       "      <td>None</td>\n",
       "      <td>2018-02-09 00:00:00.000000</td>\n",
       "      <td>10</td>\n",
       "      <td>361.0</td>\n",
       "      <td>NaN</td>\n",
       "      <td>None</td>\n",
       "      <td>None</td>\n",
       "      <td>Photo Devices</td>\n",
       "      <td>DSLR</td>\n",
       "    </tr>\n",
       "    <tr>\n",
       "      <th>2</th>\n",
       "      <td>jessops-acfa4e6fdc0962be2da5bc1ed8d44357</td>\n",
       "      <td>Canon EOS 5D Mark IV Digital SLR Body</td>\n",
       "      <td>DSLR</td>\n",
       "      <td>GBP</td>\n",
       "      <td>3249</td>\n",
       "      <td>Canon</td>\n",
       "      <td>None</td>\n",
       "      <td>True</td>\n",
       "      <td>None</td>\n",
       "      <td>https://i.jessops.com/images/home/homepage/100...</td>\n",
       "      <td>...</td>\n",
       "      <td>NaN</td>\n",
       "      <td>None</td>\n",
       "      <td>None</td>\n",
       "      <td>2018-07-09 00:00:00</td>\n",
       "      <td>10.0</td>\n",
       "      <td>25.0</td>\n",
       "      <td>None</td>\n",
       "      <td>None</td>\n",
       "      <td>Photo Devices</td>\n",
       "      <td>DSLR</td>\n",
       "    </tr>\n",
       "    <tr>\n",
       "      <th>3</th>\n",
       "      <td>jessops-cabb446087d8428bfa741078869439b8</td>\n",
       "      <td>Canon EOS 7D Mark II Digital SLR Body</td>\n",
       "      <td>DSLR</td>\n",
       "      <td>GBP</td>\n",
       "      <td>1349</td>\n",
       "      <td>Canon</td>\n",
       "      <td>None</td>\n",
       "      <td>True</td>\n",
       "      <td>None</td>\n",
       "      <td>https://i.jessops.com/images/home/homepage/100...</td>\n",
       "      <td>...</td>\n",
       "      <td>NaN</td>\n",
       "      <td>None</td>\n",
       "      <td>None</td>\n",
       "      <td>2018-04-09 00:00:00</td>\n",
       "      <td>10.0</td>\n",
       "      <td>268.0</td>\n",
       "      <td>None</td>\n",
       "      <td>None</td>\n",
       "      <td>Photo Devices</td>\n",
       "      <td>DSLR</td>\n",
       "    </tr>\n",
       "    <tr>\n",
       "      <th>4</th>\n",
       "      <td>jessops-8c6e0672aa9297ee8ff4d95fa5e2edc0</td>\n",
       "      <td>Sony A6000 Mirrorless Camera in Black with 16-...</td>\n",
       "      <td>Full Frame Mirrorless Camera</td>\n",
       "      <td>GBP</td>\n",
       "      <td>449</td>\n",
       "      <td>Sony</td>\n",
       "      <td>None</td>\n",
       "      <td>True</td>\n",
       "      <td>None</td>\n",
       "      <td>https://i.jessops.com/images/home/homepage/100...</td>\n",
       "      <td>...</td>\n",
       "      <td>NaN</td>\n",
       "      <td>None</td>\n",
       "      <td>None</td>\n",
       "      <td>9.0</td>\n",
       "      <td>10.0</td>\n",
       "      <td>107.0</td>\n",
       "      <td>None</td>\n",
       "      <td>None</td>\n",
       "      <td>Photo Devices</td>\n",
       "      <td>Mirrorless Cameras</td>\n",
       "    </tr>\n",
       "  </tbody>\n",
       "</table>\n",
       "<p>5 rows × 21 columns</p>\n",
       "</div>"
      ],
      "text/plain": [
       "                                         ID  \\\n",
       "0  jessops-f2dd233dd6100c900432fd2902df8cde   \n",
       "1  jessops-ff2be7ba459709194635812c728a17fd   \n",
       "2  jessops-acfa4e6fdc0962be2da5bc1ed8d44357   \n",
       "3  jessops-cabb446087d8428bfa741078869439b8   \n",
       "4  jessops-8c6e0672aa9297ee8ff4d95fa5e2edc0   \n",
       "\n",
       "                                                name  \\\n",
       "0                  Nikon Coolpix P900 Digital Camera   \n",
       "1  Canon EOS 750D Digital SLR with 18-55mm IS STM...   \n",
       "2              Canon EOS 5D Mark IV Digital SLR Body   \n",
       "3              Canon EOS 7D Mark II Digital SLR Body   \n",
       "4  Sony A6000 Mirrorless Camera in Black with 16-...   \n",
       "\n",
       "                      Leaf_Node priceCurrency price  brand itemCondition  \\\n",
       "0                Bridge Cameras           GBP   479  Nikon          None   \n",
       "1                          DSLR           GBP   539  Canon          None   \n",
       "2                          DSLR           GBP  3249  Canon          None   \n",
       "3                          DSLR           GBP  1349  Canon          None   \n",
       "4  Full Frame Mirrorless Camera           GBP   449   Sony          None   \n",
       "\n",
       "  availability Description                                              image  \\\n",
       "0         True        None  https://i.jessops.com/images/home/homepage/100...   \n",
       "1         True        None  https://i.jessops.com/images/home/homepage/100...   \n",
       "2         True        None  https://i.jessops.com/images/home/homepage/100...   \n",
       "3         True        None  https://i.jessops.com/images/home/homepage/100...   \n",
       "4         True        None  https://i.jessops.com/images/home/homepage/100...   \n",
       "\n",
       "           ...           gtin13  gtin14                       gtin8  \\\n",
       "0          ...              NaN    None  2018-09-08 00:00:00.000000   \n",
       "1          ...              NaN    None  2018-02-09 00:00:00.000000   \n",
       "2          ...              NaN    None                        None   \n",
       "3          ...              NaN    None                        None   \n",
       "4          ...              NaN    None                        None   \n",
       "\n",
       "           ratingValue bestRating  reviewCount  Unnamed: 17 Good Examples  \\\n",
       "0                   10      162.0          NaN         None          None   \n",
       "1                   10      361.0          NaN         None          None   \n",
       "2  2018-07-09 00:00:00       10.0         25.0         None          None   \n",
       "3  2018-04-09 00:00:00       10.0        268.0         None          None   \n",
       "4                  9.0       10.0        107.0         None          None   \n",
       "\n",
       "   parent_node_1          parent_node_2  \n",
       "0  Photo Devices  Point & Shoot Cameras  \n",
       "1  Photo Devices                   DSLR  \n",
       "2  Photo Devices                   DSLR  \n",
       "3  Photo Devices                   DSLR  \n",
       "4  Photo Devices     Mirrorless Cameras  \n",
       "\n",
       "[5 rows x 21 columns]"
      ]
     },
     "execution_count": 15,
     "metadata": {},
     "output_type": "execute_result"
    }
   ],
   "source": [
    "df.head()"
   ]
  },
  {
   "cell_type": "code",
   "execution_count": 16,
   "metadata": {},
   "outputs": [
    {
     "data": {
      "text/html": [
       "<div>\n",
       "<style>\n",
       "    .dataframe thead tr:only-child th {\n",
       "        text-align: right;\n",
       "    }\n",
       "\n",
       "    .dataframe thead th {\n",
       "        text-align: left;\n",
       "    }\n",
       "\n",
       "    .dataframe tbody tr th {\n",
       "        vertical-align: top;\n",
       "    }\n",
       "</style>\n",
       "<table border=\"1\" class=\"dataframe\">\n",
       "  <thead>\n",
       "    <tr style=\"text-align: right;\">\n",
       "      <th></th>\n",
       "      <th>parent_node_1</th>\n",
       "      <th>parent_node_2</th>\n",
       "      <th>Leaf_Node</th>\n",
       "      <th>COUNT(ID)</th>\n",
       "    </tr>\n",
       "  </thead>\n",
       "  <tbody>\n",
       "    <tr>\n",
       "      <th>0</th>\n",
       "      <td>Cam Corders</td>\n",
       "      <td>Action Cameras</td>\n",
       "      <td>360 Degree Cameras</td>\n",
       "      <td>21</td>\n",
       "    </tr>\n",
       "    <tr>\n",
       "      <th>1</th>\n",
       "      <td>Cam Corders</td>\n",
       "      <td>Action Cameras</td>\n",
       "      <td>Drone</td>\n",
       "      <td>15</td>\n",
       "    </tr>\n",
       "    <tr>\n",
       "      <th>2</th>\n",
       "      <td>Cam Corders</td>\n",
       "      <td>Action Cameras</td>\n",
       "      <td>Non 360 Degree Cameras</td>\n",
       "      <td>22</td>\n",
       "    </tr>\n",
       "    <tr>\n",
       "      <th>3</th>\n",
       "      <td>Cam Corders</td>\n",
       "      <td>Traditional Video Cameras</td>\n",
       "      <td>Common Use Video Cameras</td>\n",
       "      <td>21</td>\n",
       "    </tr>\n",
       "    <tr>\n",
       "      <th>4</th>\n",
       "      <td>Cam Corders</td>\n",
       "      <td>Traditional Video Cameras</td>\n",
       "      <td>Professional Video Cameras</td>\n",
       "      <td>32</td>\n",
       "    </tr>\n",
       "    <tr>\n",
       "      <th>5</th>\n",
       "      <td>Not Camera</td>\n",
       "      <td>Not Camera</td>\n",
       "      <td>Not Camera</td>\n",
       "      <td>19</td>\n",
       "    </tr>\n",
       "    <tr>\n",
       "      <th>6</th>\n",
       "      <td>Photo Devices</td>\n",
       "      <td>DSLR</td>\n",
       "      <td>DSLR</td>\n",
       "      <td>72</td>\n",
       "    </tr>\n",
       "    <tr>\n",
       "      <th>7</th>\n",
       "      <td>Photo Devices</td>\n",
       "      <td>Mirrorless Cameras</td>\n",
       "      <td>Full Frame Mirrorless Camera</td>\n",
       "      <td>31</td>\n",
       "    </tr>\n",
       "    <tr>\n",
       "      <th>8</th>\n",
       "      <td>Photo Devices</td>\n",
       "      <td>Mirrorless Cameras</td>\n",
       "      <td>NonFullFrameMirrorlessCamera</td>\n",
       "      <td>50</td>\n",
       "    </tr>\n",
       "    <tr>\n",
       "      <th>9</th>\n",
       "      <td>Photo Devices</td>\n",
       "      <td>Point &amp; Shoot Cameras</td>\n",
       "      <td>Bridge Cameras</td>\n",
       "      <td>56</td>\n",
       "    </tr>\n",
       "    <tr>\n",
       "      <th>10</th>\n",
       "      <td>Photo Devices</td>\n",
       "      <td>Point &amp; Shoot Cameras</td>\n",
       "      <td>Digital Compact Cameras</td>\n",
       "      <td>58</td>\n",
       "    </tr>\n",
       "    <tr>\n",
       "      <th>11</th>\n",
       "      <td>Photo Devices</td>\n",
       "      <td>Point &amp; Shoot Cameras</td>\n",
       "      <td>Instant</td>\n",
       "      <td>19</td>\n",
       "    </tr>\n",
       "  </tbody>\n",
       "</table>\n",
       "</div>"
      ],
      "text/plain": [
       "    parent_node_1              parent_node_2                     Leaf_Node  \\\n",
       "0     Cam Corders             Action Cameras            360 Degree Cameras   \n",
       "1     Cam Corders             Action Cameras                         Drone   \n",
       "2     Cam Corders             Action Cameras        Non 360 Degree Cameras   \n",
       "3     Cam Corders  Traditional Video Cameras      Common Use Video Cameras   \n",
       "4     Cam Corders  Traditional Video Cameras    Professional Video Cameras   \n",
       "5      Not Camera                 Not Camera                    Not Camera   \n",
       "6   Photo Devices                       DSLR                          DSLR   \n",
       "7   Photo Devices         Mirrorless Cameras  Full Frame Mirrorless Camera   \n",
       "8   Photo Devices         Mirrorless Cameras  NonFullFrameMirrorlessCamera   \n",
       "9   Photo Devices      Point & Shoot Cameras                Bridge Cameras   \n",
       "10  Photo Devices      Point & Shoot Cameras       Digital Compact Cameras   \n",
       "11  Photo Devices      Point & Shoot Cameras                       Instant   \n",
       "\n",
       "    COUNT(ID)  \n",
       "0          21  \n",
       "1          15  \n",
       "2          22  \n",
       "3          21  \n",
       "4          32  \n",
       "5          19  \n",
       "6          72  \n",
       "7          31  \n",
       "8          50  \n",
       "9          56  \n",
       "10         58  \n",
       "11         19  "
      ]
     },
     "execution_count": 16,
     "metadata": {},
     "output_type": "execute_result"
    }
   ],
   "source": [
    "#IN (1, 3, 99)\n",
    "\n",
    "\n",
    "q = \"\"\"\n",
    "SELECT DISTINCT parent_node_1,parent_node_2,Leaf_Node, COUNT(ID)\n",
    "FROM df\n",
    "GROUP BY parent_node_1,parent_node_2,Leaf_Node\n",
    "\"\"\"\n",
    "a = pysqldf(q)\n",
    "a"
   ]
  },
  {
   "cell_type": "code",
   "execution_count": 17,
   "metadata": {},
   "outputs": [
    {
     "data": {
      "text/plain": [
       "(416, 21)"
      ]
     },
     "execution_count": 17,
     "metadata": {},
     "output_type": "execute_result"
    }
   ],
   "source": [
    "df.shape"
   ]
  },
  {
   "cell_type": "code",
   "execution_count": 18,
   "metadata": {
    "collapsed": true
   },
   "outputs": [],
   "source": [
    "from sklearn.feature_extraction.text import CountVectorizer"
   ]
  },
  {
   "cell_type": "code",
   "execution_count": 19,
   "metadata": {
    "collapsed": true
   },
   "outputs": [],
   "source": [
    "corpus=df['name']"
   ]
  },
  {
   "cell_type": "code",
   "execution_count": 20,
   "metadata": {},
   "outputs": [
    {
     "data": {
      "text/plain": [
       "0                    Nikon Coolpix P900 Digital Camera\n",
       "1    Canon EOS 750D Digital SLR with 18-55mm IS STM...\n",
       "2                Canon EOS 5D Mark IV Digital SLR Body\n",
       "3                Canon EOS 7D Mark II Digital SLR Body\n",
       "4    Sony A6000 Mirrorless Camera in Black with 16-...\n",
       "Name: name, dtype: object"
      ]
     },
     "execution_count": 20,
     "metadata": {},
     "output_type": "execute_result"
    }
   ],
   "source": [
    "corpus.head()"
   ]
  },
  {
   "cell_type": "code",
   "execution_count": 21,
   "metadata": {
    "collapsed": true
   },
   "outputs": [],
   "source": [
    "vectorizer = CountVectorizer()"
   ]
  },
  {
   "cell_type": "code",
   "execution_count": 22,
   "metadata": {},
   "outputs": [
    {
     "data": {
      "text/plain": [
       "CountVectorizer(analyzer=u'word', binary=False, decode_error=u'strict',\n",
       "        dtype=<type 'numpy.int64'>, encoding=u'utf-8', input=u'content',\n",
       "        lowercase=True, max_df=1.0, max_features=None, min_df=1,\n",
       "        ngram_range=(1, 1), preprocessor=None, stop_words=None,\n",
       "        strip_accents=None, token_pattern=u'(?u)\\\\b\\\\w\\\\w+\\\\b',\n",
       "        tokenizer=None, vocabulary=None)"
      ]
     },
     "execution_count": 22,
     "metadata": {},
     "output_type": "execute_result"
    }
   ],
   "source": [
    "vectorizer"
   ]
  },
  {
   "cell_type": "code",
   "execution_count": 23,
   "metadata": {
    "collapsed": true
   },
   "outputs": [],
   "source": [
    "matrix=vectorizer.fit_transform(corpus).todense()"
   ]
  },
  {
   "cell_type": "code",
   "execution_count": 24,
   "metadata": {},
   "outputs": [
    {
     "data": {
      "text/plain": [
       "(416, 875)"
      ]
     },
     "execution_count": 24,
     "metadata": {},
     "output_type": "execute_result"
    }
   ],
   "source": [
    "matrix.shape #291 columns, 121 rows"
   ]
  },
  {
   "cell_type": "code",
   "execution_count": 25,
   "metadata": {
    "collapsed": true
   },
   "outputs": [],
   "source": [
    "vocab=vectorizer.vocabulary_ "
   ]
  },
  {
   "cell_type": "code",
   "execution_count": 26,
   "metadata": {},
   "outputs": [
    {
     "data": {
      "text/plain": [
       "875"
      ]
     },
     "execution_count": 26,
     "metadata": {},
     "output_type": "execute_result"
    }
   ],
   "source": [
    "len(vocab)"
   ]
  },
  {
   "cell_type": "code",
   "execution_count": 27,
   "metadata": {
    "collapsed": true
   },
   "outputs": [],
   "source": [
    "bags_words=pd.DataFrame(matrix, columns=vocab)"
   ]
  },
  {
   "cell_type": "code",
   "execution_count": 28,
   "metadata": {
    "collapsed": true
   },
   "outputs": [],
   "source": [
    "bags_words['ID']=df['ID']\n",
    "bags_words['Parent_node_1']=df['parent_node_1']\n",
    "bags_words['Parent_node_2']=df['parent_node_2']\n",
    "bags_words['Leaf_Node']=df['Leaf_Node']"
   ]
  },
  {
   "cell_type": "code",
   "execution_count": 29,
   "metadata": {},
   "outputs": [
    {
     "data": {
      "text/html": [
       "<div>\n",
       "<style>\n",
       "    .dataframe thead tr:only-child th {\n",
       "        text-align: right;\n",
       "    }\n",
       "\n",
       "    .dataframe thead th {\n",
       "        text-align: left;\n",
       "    }\n",
       "\n",
       "    .dataframe tbody tr th {\n",
       "        vertical-align: top;\n",
       "    }\n",
       "</style>\n",
       "<table border=\"1\" class=\"dataframe\">\n",
       "  <thead>\n",
       "    <tr style=\"text-align: right;\">\n",
       "      <th></th>\n",
       "      <th>cameras</th>\n",
       "      <th>oss</th>\n",
       "      <th>yashica</th>\n",
       "      <th>gz</th>\n",
       "      <th>yellow</th>\n",
       "      <th>32mm</th>\n",
       "      <th>012</th>\n",
       "      <th>gb</th>\n",
       "      <th>go</th>\n",
       "      <th>z212</th>\n",
       "      <th>...</th>\n",
       "      <th>hx400</th>\n",
       "      <th>karma</th>\n",
       "      <th>fz43</th>\n",
       "      <th>deluxe</th>\n",
       "      <th>cpt</th>\n",
       "      <th>dvr</th>\n",
       "      <th>ID</th>\n",
       "      <th>Parent_node_1</th>\n",
       "      <th>Parent_node_2</th>\n",
       "      <th>Leaf_Node</th>\n",
       "    </tr>\n",
       "  </thead>\n",
       "  <tbody>\n",
       "    <tr>\n",
       "      <th>0</th>\n",
       "      <td>0</td>\n",
       "      <td>0</td>\n",
       "      <td>0</td>\n",
       "      <td>0</td>\n",
       "      <td>0</td>\n",
       "      <td>0</td>\n",
       "      <td>0</td>\n",
       "      <td>0</td>\n",
       "      <td>0</td>\n",
       "      <td>0</td>\n",
       "      <td>...</td>\n",
       "      <td>0</td>\n",
       "      <td>0</td>\n",
       "      <td>0</td>\n",
       "      <td>0</td>\n",
       "      <td>0</td>\n",
       "      <td>0</td>\n",
       "      <td>jessops-f2dd233dd6100c900432fd2902df8cde</td>\n",
       "      <td>Photo Devices</td>\n",
       "      <td>Point &amp; Shoot Cameras</td>\n",
       "      <td>Bridge Cameras</td>\n",
       "    </tr>\n",
       "    <tr>\n",
       "      <th>1</th>\n",
       "      <td>0</td>\n",
       "      <td>0</td>\n",
       "      <td>0</td>\n",
       "      <td>0</td>\n",
       "      <td>0</td>\n",
       "      <td>0</td>\n",
       "      <td>0</td>\n",
       "      <td>0</td>\n",
       "      <td>0</td>\n",
       "      <td>0</td>\n",
       "      <td>...</td>\n",
       "      <td>0</td>\n",
       "      <td>0</td>\n",
       "      <td>0</td>\n",
       "      <td>0</td>\n",
       "      <td>0</td>\n",
       "      <td>0</td>\n",
       "      <td>jessops-ff2be7ba459709194635812c728a17fd</td>\n",
       "      <td>Photo Devices</td>\n",
       "      <td>DSLR</td>\n",
       "      <td>DSLR</td>\n",
       "    </tr>\n",
       "    <tr>\n",
       "      <th>2</th>\n",
       "      <td>0</td>\n",
       "      <td>0</td>\n",
       "      <td>0</td>\n",
       "      <td>0</td>\n",
       "      <td>0</td>\n",
       "      <td>0</td>\n",
       "      <td>0</td>\n",
       "      <td>0</td>\n",
       "      <td>0</td>\n",
       "      <td>0</td>\n",
       "      <td>...</td>\n",
       "      <td>0</td>\n",
       "      <td>0</td>\n",
       "      <td>0</td>\n",
       "      <td>0</td>\n",
       "      <td>0</td>\n",
       "      <td>0</td>\n",
       "      <td>jessops-acfa4e6fdc0962be2da5bc1ed8d44357</td>\n",
       "      <td>Photo Devices</td>\n",
       "      <td>DSLR</td>\n",
       "      <td>DSLR</td>\n",
       "    </tr>\n",
       "    <tr>\n",
       "      <th>3</th>\n",
       "      <td>0</td>\n",
       "      <td>0</td>\n",
       "      <td>0</td>\n",
       "      <td>0</td>\n",
       "      <td>0</td>\n",
       "      <td>0</td>\n",
       "      <td>0</td>\n",
       "      <td>0</td>\n",
       "      <td>0</td>\n",
       "      <td>0</td>\n",
       "      <td>...</td>\n",
       "      <td>0</td>\n",
       "      <td>0</td>\n",
       "      <td>0</td>\n",
       "      <td>0</td>\n",
       "      <td>0</td>\n",
       "      <td>0</td>\n",
       "      <td>jessops-cabb446087d8428bfa741078869439b8</td>\n",
       "      <td>Photo Devices</td>\n",
       "      <td>DSLR</td>\n",
       "      <td>DSLR</td>\n",
       "    </tr>\n",
       "    <tr>\n",
       "      <th>4</th>\n",
       "      <td>0</td>\n",
       "      <td>0</td>\n",
       "      <td>0</td>\n",
       "      <td>0</td>\n",
       "      <td>0</td>\n",
       "      <td>0</td>\n",
       "      <td>0</td>\n",
       "      <td>0</td>\n",
       "      <td>0</td>\n",
       "      <td>0</td>\n",
       "      <td>...</td>\n",
       "      <td>0</td>\n",
       "      <td>0</td>\n",
       "      <td>1</td>\n",
       "      <td>0</td>\n",
       "      <td>0</td>\n",
       "      <td>0</td>\n",
       "      <td>jessops-8c6e0672aa9297ee8ff4d95fa5e2edc0</td>\n",
       "      <td>Photo Devices</td>\n",
       "      <td>Mirrorless Cameras</td>\n",
       "      <td>Full Frame Mirrorless Camera</td>\n",
       "    </tr>\n",
       "  </tbody>\n",
       "</table>\n",
       "<p>5 rows × 879 columns</p>\n",
       "</div>"
      ],
      "text/plain": [
       "   cameras  oss  yashica  gz  yellow  32mm  012  gb  go  z212  \\\n",
       "0        0    0        0   0       0     0    0   0   0     0   \n",
       "1        0    0        0   0       0     0    0   0   0     0   \n",
       "2        0    0        0   0       0     0    0   0   0     0   \n",
       "3        0    0        0   0       0     0    0   0   0     0   \n",
       "4        0    0        0   0       0     0    0   0   0     0   \n",
       "\n",
       "               ...               hx400  karma  fz43  deluxe  cpt  dvr  \\\n",
       "0              ...                   0      0     0       0    0    0   \n",
       "1              ...                   0      0     0       0    0    0   \n",
       "2              ...                   0      0     0       0    0    0   \n",
       "3              ...                   0      0     0       0    0    0   \n",
       "4              ...                   0      0     1       0    0    0   \n",
       "\n",
       "                                         ID  Parent_node_1  \\\n",
       "0  jessops-f2dd233dd6100c900432fd2902df8cde  Photo Devices   \n",
       "1  jessops-ff2be7ba459709194635812c728a17fd  Photo Devices   \n",
       "2  jessops-acfa4e6fdc0962be2da5bc1ed8d44357  Photo Devices   \n",
       "3  jessops-cabb446087d8428bfa741078869439b8  Photo Devices   \n",
       "4  jessops-8c6e0672aa9297ee8ff4d95fa5e2edc0  Photo Devices   \n",
       "\n",
       "           Parent_node_2                     Leaf_Node  \n",
       "0  Point & Shoot Cameras                Bridge Cameras  \n",
       "1                   DSLR                          DSLR  \n",
       "2                   DSLR                          DSLR  \n",
       "3                   DSLR                          DSLR  \n",
       "4     Mirrorless Cameras  Full Frame Mirrorless Camera  \n",
       "\n",
       "[5 rows x 879 columns]"
      ]
     },
     "execution_count": 29,
     "metadata": {},
     "output_type": "execute_result"
    }
   ],
   "source": [
    "bags_words.head()"
   ]
  },
  {
   "cell_type": "code",
   "execution_count": 30,
   "metadata": {},
   "outputs": [
    {
     "data": {
      "text/plain": [
       "(416, 879)"
      ]
     },
     "execution_count": 30,
     "metadata": {},
     "output_type": "execute_result"
    }
   ],
   "source": [
    "bags_words.shape"
   ]
  },
  {
   "cell_type": "code",
   "execution_count": 31,
   "metadata": {},
   "outputs": [
    {
     "data": {
      "text/plain": [
       "array([u'Photo Devices', u'Cam Corders', u'Not Camera'], dtype=object)"
      ]
     },
     "execution_count": 31,
     "metadata": {},
     "output_type": "execute_result"
    }
   ],
   "source": [
    "bags_words.Parent_node_1.unique()"
   ]
  },
  {
   "cell_type": "code",
   "execution_count": 32,
   "metadata": {},
   "outputs": [
    {
     "data": {
      "text/plain": [
       "array([u'Point & Shoot Cameras', u'DSLR', u'Mirrorless Cameras',\n",
       "       u'Traditional Video Cameras', u'Action Cameras', u'Not Camera'], dtype=object)"
      ]
     },
     "execution_count": 32,
     "metadata": {},
     "output_type": "execute_result"
    }
   ],
   "source": [
    "bags_words.Parent_node_2.unique()"
   ]
  },
  {
   "cell_type": "code",
   "execution_count": 33,
   "metadata": {},
   "outputs": [
    {
     "data": {
      "text/plain": [
       "(416, 879)"
      ]
     },
     "execution_count": 33,
     "metadata": {},
     "output_type": "execute_result"
    }
   ],
   "source": [
    "bags_words.shape"
   ]
  },
  {
   "cell_type": "markdown",
   "metadata": {},
   "source": [
    "# Modeling"
   ]
  },
  {
   "cell_type": "code",
   "execution_count": 34,
   "metadata": {
    "collapsed": true
   },
   "outputs": [],
   "source": [
    "from sklearn.metrics import confusion_matrix\n",
    "from sklearn.utils.multiclass import unique_labels\n",
    "from sklearn.metrics import confusion_matrix\n",
    "from sklearn.metrics import classification_report\n",
    "from sklearn.metrics import accuracy_score\n",
    "from sklearn.metrics import log_loss\n",
    "from sklearn.metrics import roc_auc_score\n",
    "\n",
    "def confusion_matrix_report(y_true, y_pred):\n",
    "    cm, labels = confusion_matrix(y_true, y_pred), unique_labels(y_true, y_pred)\n",
    "    column_width = max([len(str(x)) for x in labels] + [5])  # 5 is value length\n",
    "    report = \" \" * column_width + \" \" + \"{:_^{}}\".format(\"Prediction\", column_width * len(labels))+ \"\\n\"\n",
    "    report += \" \" * column_width + \" \".join([\"{:>{}}\".format(label, column_width) for label in labels]) + \"\\n\"\n",
    "    for i, label1 in enumerate(labels):\n",
    "        report += \"{:>{}}\".format(label1, column_width) + \" \".join([\"{:{}d}\".format(cm[i, j], column_width) for j in range(len(labels))]) + \"\\n\"\n",
    "    return report\n",
    "    \n",
    "def analytics(y_true, y_pred):#target of the test data #predictions as 0,1 #model (knnclassifier) #data_test\n",
    "    print(\"Confusion Matrix:\")\n",
    "    print(confusion_matrix_report(y_true, y_pred))\n",
    "    print(\"Accuracy Score:\")\n",
    "    print(accuracy_score(y_true, y_pred))\n",
    "    print()\n",
    "    print(\"Classification Report:\")\n",
    "    print(classification_report(y_true, y_pred))\n",
    "    #print(\"AUC Score:\")\n",
    "    #print(AUC(target_test, model, data_test))"
   ]
  },
  {
   "cell_type": "markdown",
   "metadata": {},
   "source": [
    "## 1. Modeling with only Bags of Words:"
   ]
  },
  {
   "cell_type": "markdown",
   "metadata": {},
   "source": [
    "### Level 1"
   ]
  },
  {
   "cell_type": "code",
   "execution_count": 35,
   "metadata": {
    "collapsed": true
   },
   "outputs": [],
   "source": [
    "from sklearn.tree import DecisionTreeClassifier\n",
    "from sklearn.model_selection import GridSearchCV"
   ]
  },
  {
   "cell_type": "code",
   "execution_count": 36,
   "metadata": {
    "collapsed": true
   },
   "outputs": [],
   "source": [
    "X_level1=bags_words.drop(['ID','Parent_node_1','Parent_node_2','Leaf_Node'],axis=1)\n",
    "y_level1=bags_words['Parent_node_1']"
   ]
  },
  {
   "cell_type": "code",
   "execution_count": 37,
   "metadata": {},
   "outputs": [
    {
     "data": {
      "text/plain": [
       "(416, 875)"
      ]
     },
     "execution_count": 37,
     "metadata": {},
     "output_type": "execute_result"
    }
   ],
   "source": [
    "X_level1.shape"
   ]
  },
  {
   "cell_type": "code",
   "execution_count": 38,
   "metadata": {},
   "outputs": [
    {
     "data": {
      "text/plain": [
       "(416,)"
      ]
     },
     "execution_count": 38,
     "metadata": {},
     "output_type": "execute_result"
    }
   ],
   "source": [
    "y_level1.shape"
   ]
  },
  {
   "cell_type": "code",
   "execution_count": 39,
   "metadata": {},
   "outputs": [
    {
     "data": {
      "text/plain": [
       "array([u'Photo Devices', u'Cam Corders', u'Not Camera'], dtype=object)"
      ]
     },
     "execution_count": 39,
     "metadata": {},
     "output_type": "execute_result"
    }
   ],
   "source": [
    "y_level1.unique()"
   ]
  },
  {
   "cell_type": "code",
   "execution_count": 40,
   "metadata": {
    "collapsed": true
   },
   "outputs": [],
   "source": [
    "parameters = [{\"criterion\": [\"gini\", \"entropy\"],\n",
    "              \"min_samples_split\": [2, 10, 20],\n",
    "              \"max_depth\": [None, 5, 10, 15],\n",
    "              \"min_samples_leaf\": [1, 5, 10],\n",
    "              \"max_leaf_nodes\": [None, 5, 10, 20],\n",
    "              }]"
   ]
  },
  {
   "cell_type": "code",
   "execution_count": 41,
   "metadata": {},
   "outputs": [
    {
     "name": "stdout",
     "output_type": "stream",
     "text": [
      "{'min_samples_split': 10, 'max_leaf_nodes': None, 'criterion': 'gini', 'max_depth': 10, 'min_samples_leaf': 1}\n"
     ]
    }
   ],
   "source": [
    "clf = GridSearchCV(DecisionTreeClassifier(), parameters, cv=5)\n",
    "clf.fit(X_level1, y_level1)\n",
    "print(clf.best_params_)"
   ]
  },
  {
   "cell_type": "code",
   "execution_count": 42,
   "metadata": {
    "collapsed": true
   },
   "outputs": [],
   "source": [
    "from sklearn.model_selection import StratifiedKFold\n",
    "from sklearn.model_selection import cross_val_score\n",
    "from sklearn.model_selection import cross_val_predict\n",
    "\n",
    "desicion_tree=DecisionTreeClassifier(min_samples_split= 10, max_leaf_nodes= None, criterion= 'gini', max_depth= 15, min_samples_leaf= 1)\n",
    "cv = StratifiedKFold(n_splits=5, shuffle=True, random_state=42)\n",
    "\n",
    "target_prediction = cross_val_predict(desicion_tree, X_level1, y_level1, cv=cv)"
   ]
  },
  {
   "cell_type": "code",
   "execution_count": 43,
   "metadata": {},
   "outputs": [
    {
     "data": {
      "text/plain": [
       "array([u'Photo Devices', u'Photo Devices', u'Photo Devices',\n",
       "       u'Photo Devices'], dtype=object)"
      ]
     },
     "execution_count": 43,
     "metadata": {},
     "output_type": "execute_result"
    }
   ],
   "source": [
    "target_prediction[0:4]"
   ]
  },
  {
   "cell_type": "code",
   "execution_count": 44,
   "metadata": {},
   "outputs": [
    {
     "name": "stdout",
     "output_type": "stream",
     "text": [
      "Confusion Matrix:\n",
      "              ______________Prediction_______________\n",
      "               Cam Corders    Not Camera Photo Devices\n",
      "  Cam Corders           93             2            16\n",
      "   Not Camera            6             9             4\n",
      "Photo Devices            8             0           278\n",
      "\n",
      "Accuracy Score:\n",
      "0.913461538462\n",
      "()\n",
      "Classification Report:\n",
      "               precision    recall  f1-score   support\n",
      "\n",
      "  Cam Corders       0.87      0.84      0.85       111\n",
      "   Not Camera       0.82      0.47      0.60        19\n",
      "Photo Devices       0.93      0.97      0.95       286\n",
      "\n",
      "  avg / total       0.91      0.91      0.91       416\n",
      "\n"
     ]
    }
   ],
   "source": [
    "analytics(y_level1,target_prediction) #real value vs. predicted values"
   ]
  },
  {
   "cell_type": "code",
   "execution_count": 45,
   "metadata": {
    "collapsed": true
   },
   "outputs": [],
   "source": [
    "bags_words['prediction_level1']=target_prediction"
   ]
  },
  {
   "cell_type": "code",
   "execution_count": 46,
   "metadata": {},
   "outputs": [
    {
     "data": {
      "text/plain": [
       "(416, 880)"
      ]
     },
     "execution_count": 46,
     "metadata": {},
     "output_type": "execute_result"
    }
   ],
   "source": [
    "bags_words.shape"
   ]
  },
  {
   "cell_type": "code",
   "execution_count": 47,
   "metadata": {},
   "outputs": [
    {
     "data": {
      "text/html": [
       "<div>\n",
       "<style>\n",
       "    .dataframe thead tr:only-child th {\n",
       "        text-align: right;\n",
       "    }\n",
       "\n",
       "    .dataframe thead th {\n",
       "        text-align: left;\n",
       "    }\n",
       "\n",
       "    .dataframe tbody tr th {\n",
       "        vertical-align: top;\n",
       "    }\n",
       "</style>\n",
       "<table border=\"1\" class=\"dataframe\">\n",
       "  <thead>\n",
       "    <tr style=\"text-align: right;\">\n",
       "      <th></th>\n",
       "      <th>cameras</th>\n",
       "      <th>oss</th>\n",
       "      <th>yashica</th>\n",
       "      <th>gz</th>\n",
       "      <th>yellow</th>\n",
       "      <th>32mm</th>\n",
       "      <th>012</th>\n",
       "      <th>gb</th>\n",
       "      <th>go</th>\n",
       "      <th>z212</th>\n",
       "      <th>...</th>\n",
       "      <th>karma</th>\n",
       "      <th>fz43</th>\n",
       "      <th>deluxe</th>\n",
       "      <th>cpt</th>\n",
       "      <th>dvr</th>\n",
       "      <th>ID</th>\n",
       "      <th>Parent_node_1</th>\n",
       "      <th>Parent_node_2</th>\n",
       "      <th>Leaf_Node</th>\n",
       "      <th>prediction_level1</th>\n",
       "    </tr>\n",
       "  </thead>\n",
       "  <tbody>\n",
       "    <tr>\n",
       "      <th>0</th>\n",
       "      <td>0</td>\n",
       "      <td>0</td>\n",
       "      <td>0</td>\n",
       "      <td>0</td>\n",
       "      <td>0</td>\n",
       "      <td>0</td>\n",
       "      <td>0</td>\n",
       "      <td>0</td>\n",
       "      <td>0</td>\n",
       "      <td>0</td>\n",
       "      <td>...</td>\n",
       "      <td>0</td>\n",
       "      <td>0</td>\n",
       "      <td>0</td>\n",
       "      <td>0</td>\n",
       "      <td>0</td>\n",
       "      <td>jessops-f2dd233dd6100c900432fd2902df8cde</td>\n",
       "      <td>Photo Devices</td>\n",
       "      <td>Point &amp; Shoot Cameras</td>\n",
       "      <td>Bridge Cameras</td>\n",
       "      <td>Photo Devices</td>\n",
       "    </tr>\n",
       "    <tr>\n",
       "      <th>1</th>\n",
       "      <td>0</td>\n",
       "      <td>0</td>\n",
       "      <td>0</td>\n",
       "      <td>0</td>\n",
       "      <td>0</td>\n",
       "      <td>0</td>\n",
       "      <td>0</td>\n",
       "      <td>0</td>\n",
       "      <td>0</td>\n",
       "      <td>0</td>\n",
       "      <td>...</td>\n",
       "      <td>0</td>\n",
       "      <td>0</td>\n",
       "      <td>0</td>\n",
       "      <td>0</td>\n",
       "      <td>0</td>\n",
       "      <td>jessops-ff2be7ba459709194635812c728a17fd</td>\n",
       "      <td>Photo Devices</td>\n",
       "      <td>DSLR</td>\n",
       "      <td>DSLR</td>\n",
       "      <td>Photo Devices</td>\n",
       "    </tr>\n",
       "    <tr>\n",
       "      <th>2</th>\n",
       "      <td>0</td>\n",
       "      <td>0</td>\n",
       "      <td>0</td>\n",
       "      <td>0</td>\n",
       "      <td>0</td>\n",
       "      <td>0</td>\n",
       "      <td>0</td>\n",
       "      <td>0</td>\n",
       "      <td>0</td>\n",
       "      <td>0</td>\n",
       "      <td>...</td>\n",
       "      <td>0</td>\n",
       "      <td>0</td>\n",
       "      <td>0</td>\n",
       "      <td>0</td>\n",
       "      <td>0</td>\n",
       "      <td>jessops-acfa4e6fdc0962be2da5bc1ed8d44357</td>\n",
       "      <td>Photo Devices</td>\n",
       "      <td>DSLR</td>\n",
       "      <td>DSLR</td>\n",
       "      <td>Photo Devices</td>\n",
       "    </tr>\n",
       "    <tr>\n",
       "      <th>3</th>\n",
       "      <td>0</td>\n",
       "      <td>0</td>\n",
       "      <td>0</td>\n",
       "      <td>0</td>\n",
       "      <td>0</td>\n",
       "      <td>0</td>\n",
       "      <td>0</td>\n",
       "      <td>0</td>\n",
       "      <td>0</td>\n",
       "      <td>0</td>\n",
       "      <td>...</td>\n",
       "      <td>0</td>\n",
       "      <td>0</td>\n",
       "      <td>0</td>\n",
       "      <td>0</td>\n",
       "      <td>0</td>\n",
       "      <td>jessops-cabb446087d8428bfa741078869439b8</td>\n",
       "      <td>Photo Devices</td>\n",
       "      <td>DSLR</td>\n",
       "      <td>DSLR</td>\n",
       "      <td>Photo Devices</td>\n",
       "    </tr>\n",
       "    <tr>\n",
       "      <th>4</th>\n",
       "      <td>0</td>\n",
       "      <td>0</td>\n",
       "      <td>0</td>\n",
       "      <td>0</td>\n",
       "      <td>0</td>\n",
       "      <td>0</td>\n",
       "      <td>0</td>\n",
       "      <td>0</td>\n",
       "      <td>0</td>\n",
       "      <td>0</td>\n",
       "      <td>...</td>\n",
       "      <td>0</td>\n",
       "      <td>1</td>\n",
       "      <td>0</td>\n",
       "      <td>0</td>\n",
       "      <td>0</td>\n",
       "      <td>jessops-8c6e0672aa9297ee8ff4d95fa5e2edc0</td>\n",
       "      <td>Photo Devices</td>\n",
       "      <td>Mirrorless Cameras</td>\n",
       "      <td>Full Frame Mirrorless Camera</td>\n",
       "      <td>Photo Devices</td>\n",
       "    </tr>\n",
       "  </tbody>\n",
       "</table>\n",
       "<p>5 rows × 880 columns</p>\n",
       "</div>"
      ],
      "text/plain": [
       "   cameras  oss  yashica  gz  yellow  32mm  012  gb  go  z212  \\\n",
       "0        0    0        0   0       0     0    0   0   0     0   \n",
       "1        0    0        0   0       0     0    0   0   0     0   \n",
       "2        0    0        0   0       0     0    0   0   0     0   \n",
       "3        0    0        0   0       0     0    0   0   0     0   \n",
       "4        0    0        0   0       0     0    0   0   0     0   \n",
       "\n",
       "         ...          karma  fz43  deluxe  cpt  dvr  \\\n",
       "0        ...              0     0       0    0    0   \n",
       "1        ...              0     0       0    0    0   \n",
       "2        ...              0     0       0    0    0   \n",
       "3        ...              0     0       0    0    0   \n",
       "4        ...              0     1       0    0    0   \n",
       "\n",
       "                                         ID  Parent_node_1  \\\n",
       "0  jessops-f2dd233dd6100c900432fd2902df8cde  Photo Devices   \n",
       "1  jessops-ff2be7ba459709194635812c728a17fd  Photo Devices   \n",
       "2  jessops-acfa4e6fdc0962be2da5bc1ed8d44357  Photo Devices   \n",
       "3  jessops-cabb446087d8428bfa741078869439b8  Photo Devices   \n",
       "4  jessops-8c6e0672aa9297ee8ff4d95fa5e2edc0  Photo Devices   \n",
       "\n",
       "           Parent_node_2                     Leaf_Node  prediction_level1  \n",
       "0  Point & Shoot Cameras                Bridge Cameras      Photo Devices  \n",
       "1                   DSLR                          DSLR      Photo Devices  \n",
       "2                   DSLR                          DSLR      Photo Devices  \n",
       "3                   DSLR                          DSLR      Photo Devices  \n",
       "4     Mirrorless Cameras  Full Frame Mirrorless Camera      Photo Devices  \n",
       "\n",
       "[5 rows x 880 columns]"
      ]
     },
     "execution_count": 47,
     "metadata": {},
     "output_type": "execute_result"
    }
   ],
   "source": [
    "bags_words.head()"
   ]
  },
  {
   "cell_type": "markdown",
   "metadata": {
    "collapsed": true
   },
   "source": [
    "### Level 2"
   ]
  },
  {
   "cell_type": "markdown",
   "metadata": {},
   "source": [
    "#### Camcorders"
   ]
  },
  {
   "cell_type": "code",
   "execution_count": 48,
   "metadata": {
    "collapsed": true
   },
   "outputs": [],
   "source": [
    "level2_train=bags_words[bags_words['Parent_node_1']=='Cam Corders'] #this includes wrongly assigned instances"
   ]
  },
  {
   "cell_type": "code",
   "execution_count": 49,
   "metadata": {},
   "outputs": [
    {
     "data": {
      "text/html": [
       "<div>\n",
       "<style>\n",
       "    .dataframe thead tr:only-child th {\n",
       "        text-align: right;\n",
       "    }\n",
       "\n",
       "    .dataframe thead th {\n",
       "        text-align: left;\n",
       "    }\n",
       "\n",
       "    .dataframe tbody tr th {\n",
       "        vertical-align: top;\n",
       "    }\n",
       "</style>\n",
       "<table border=\"1\" class=\"dataframe\">\n",
       "  <thead>\n",
       "    <tr style=\"text-align: right;\">\n",
       "      <th></th>\n",
       "      <th>cameras</th>\n",
       "      <th>oss</th>\n",
       "      <th>yashica</th>\n",
       "      <th>gz</th>\n",
       "      <th>yellow</th>\n",
       "      <th>32mm</th>\n",
       "      <th>012</th>\n",
       "      <th>gb</th>\n",
       "      <th>go</th>\n",
       "      <th>z212</th>\n",
       "      <th>...</th>\n",
       "      <th>karma</th>\n",
       "      <th>fz43</th>\n",
       "      <th>deluxe</th>\n",
       "      <th>cpt</th>\n",
       "      <th>dvr</th>\n",
       "      <th>ID</th>\n",
       "      <th>Parent_node_1</th>\n",
       "      <th>Parent_node_2</th>\n",
       "      <th>Leaf_Node</th>\n",
       "      <th>prediction_level1</th>\n",
       "    </tr>\n",
       "  </thead>\n",
       "  <tbody>\n",
       "    <tr>\n",
       "      <th>10</th>\n",
       "      <td>0</td>\n",
       "      <td>0</td>\n",
       "      <td>0</td>\n",
       "      <td>0</td>\n",
       "      <td>0</td>\n",
       "      <td>0</td>\n",
       "      <td>0</td>\n",
       "      <td>0</td>\n",
       "      <td>0</td>\n",
       "      <td>0</td>\n",
       "      <td>...</td>\n",
       "      <td>0</td>\n",
       "      <td>0</td>\n",
       "      <td>0</td>\n",
       "      <td>0</td>\n",
       "      <td>0</td>\n",
       "      <td>jessops-eef411a41cc22390e46da9fa5820aa2c</td>\n",
       "      <td>Cam Corders</td>\n",
       "      <td>Traditional Video Cameras</td>\n",
       "      <td>Common Use Video Cameras</td>\n",
       "      <td>Cam Corders</td>\n",
       "    </tr>\n",
       "    <tr>\n",
       "      <th>12</th>\n",
       "      <td>0</td>\n",
       "      <td>0</td>\n",
       "      <td>0</td>\n",
       "      <td>0</td>\n",
       "      <td>0</td>\n",
       "      <td>0</td>\n",
       "      <td>0</td>\n",
       "      <td>0</td>\n",
       "      <td>0</td>\n",
       "      <td>0</td>\n",
       "      <td>...</td>\n",
       "      <td>0</td>\n",
       "      <td>0</td>\n",
       "      <td>0</td>\n",
       "      <td>0</td>\n",
       "      <td>0</td>\n",
       "      <td>jessops-40e16c7a65ef1ce88c5b8e86c8b6be61</td>\n",
       "      <td>Cam Corders</td>\n",
       "      <td>Traditional Video Cameras</td>\n",
       "      <td>Common Use Video Cameras</td>\n",
       "      <td>Cam Corders</td>\n",
       "    </tr>\n",
       "    <tr>\n",
       "      <th>13</th>\n",
       "      <td>0</td>\n",
       "      <td>0</td>\n",
       "      <td>0</td>\n",
       "      <td>0</td>\n",
       "      <td>0</td>\n",
       "      <td>0</td>\n",
       "      <td>0</td>\n",
       "      <td>0</td>\n",
       "      <td>0</td>\n",
       "      <td>0</td>\n",
       "      <td>...</td>\n",
       "      <td>0</td>\n",
       "      <td>0</td>\n",
       "      <td>0</td>\n",
       "      <td>0</td>\n",
       "      <td>0</td>\n",
       "      <td>jessops-3a1342c0cb28dc1d3bab507a1f016cc3</td>\n",
       "      <td>Cam Corders</td>\n",
       "      <td>Traditional Video Cameras</td>\n",
       "      <td>Common Use Video Cameras</td>\n",
       "      <td>Cam Corders</td>\n",
       "    </tr>\n",
       "    <tr>\n",
       "      <th>29</th>\n",
       "      <td>0</td>\n",
       "      <td>0</td>\n",
       "      <td>0</td>\n",
       "      <td>0</td>\n",
       "      <td>0</td>\n",
       "      <td>0</td>\n",
       "      <td>0</td>\n",
       "      <td>0</td>\n",
       "      <td>0</td>\n",
       "      <td>0</td>\n",
       "      <td>...</td>\n",
       "      <td>0</td>\n",
       "      <td>0</td>\n",
       "      <td>0</td>\n",
       "      <td>0</td>\n",
       "      <td>0</td>\n",
       "      <td>jessops-e459dfc3f0e983f1a5153c64cf6c9dd0</td>\n",
       "      <td>Cam Corders</td>\n",
       "      <td>Action Cameras</td>\n",
       "      <td>360 Degree Cameras</td>\n",
       "      <td>Cam Corders</td>\n",
       "    </tr>\n",
       "    <tr>\n",
       "      <th>30</th>\n",
       "      <td>0</td>\n",
       "      <td>0</td>\n",
       "      <td>0</td>\n",
       "      <td>0</td>\n",
       "      <td>0</td>\n",
       "      <td>0</td>\n",
       "      <td>0</td>\n",
       "      <td>0</td>\n",
       "      <td>0</td>\n",
       "      <td>0</td>\n",
       "      <td>...</td>\n",
       "      <td>0</td>\n",
       "      <td>0</td>\n",
       "      <td>0</td>\n",
       "      <td>0</td>\n",
       "      <td>0</td>\n",
       "      <td>jessops-1f205970ab6aa5842172a4a43fdbadba</td>\n",
       "      <td>Cam Corders</td>\n",
       "      <td>Action Cameras</td>\n",
       "      <td>360 Degree Cameras</td>\n",
       "      <td>Cam Corders</td>\n",
       "    </tr>\n",
       "  </tbody>\n",
       "</table>\n",
       "<p>5 rows × 880 columns</p>\n",
       "</div>"
      ],
      "text/plain": [
       "    cameras  oss  yashica  gz  yellow  32mm  012  gb  go  z212  \\\n",
       "10        0    0        0   0       0     0    0   0   0     0   \n",
       "12        0    0        0   0       0     0    0   0   0     0   \n",
       "13        0    0        0   0       0     0    0   0   0     0   \n",
       "29        0    0        0   0       0     0    0   0   0     0   \n",
       "30        0    0        0   0       0     0    0   0   0     0   \n",
       "\n",
       "          ...          karma  fz43  deluxe  cpt  dvr  \\\n",
       "10        ...              0     0       0    0    0   \n",
       "12        ...              0     0       0    0    0   \n",
       "13        ...              0     0       0    0    0   \n",
       "29        ...              0     0       0    0    0   \n",
       "30        ...              0     0       0    0    0   \n",
       "\n",
       "                                          ID  Parent_node_1  \\\n",
       "10  jessops-eef411a41cc22390e46da9fa5820aa2c    Cam Corders   \n",
       "12  jessops-40e16c7a65ef1ce88c5b8e86c8b6be61    Cam Corders   \n",
       "13  jessops-3a1342c0cb28dc1d3bab507a1f016cc3    Cam Corders   \n",
       "29  jessops-e459dfc3f0e983f1a5153c64cf6c9dd0    Cam Corders   \n",
       "30  jessops-1f205970ab6aa5842172a4a43fdbadba    Cam Corders   \n",
       "\n",
       "                Parent_node_2                 Leaf_Node  prediction_level1  \n",
       "10  Traditional Video Cameras  Common Use Video Cameras        Cam Corders  \n",
       "12  Traditional Video Cameras  Common Use Video Cameras        Cam Corders  \n",
       "13  Traditional Video Cameras  Common Use Video Cameras        Cam Corders  \n",
       "29             Action Cameras        360 Degree Cameras        Cam Corders  \n",
       "30             Action Cameras        360 Degree Cameras        Cam Corders  \n",
       "\n",
       "[5 rows x 880 columns]"
      ]
     },
     "execution_count": 49,
     "metadata": {},
     "output_type": "execute_result"
    }
   ],
   "source": [
    "level2_train.head()"
   ]
  },
  {
   "cell_type": "code",
   "execution_count": 50,
   "metadata": {},
   "outputs": [
    {
     "data": {
      "text/plain": [
       "(111, 880)"
      ]
     },
     "execution_count": 50,
     "metadata": {},
     "output_type": "execute_result"
    }
   ],
   "source": [
    "level2_train.shape"
   ]
  },
  {
   "cell_type": "code",
   "execution_count": 51,
   "metadata": {},
   "outputs": [
    {
     "data": {
      "text/html": [
       "<div>\n",
       "<style>\n",
       "    .dataframe thead tr:only-child th {\n",
       "        text-align: right;\n",
       "    }\n",
       "\n",
       "    .dataframe thead th {\n",
       "        text-align: left;\n",
       "    }\n",
       "\n",
       "    .dataframe tbody tr th {\n",
       "        vertical-align: top;\n",
       "    }\n",
       "</style>\n",
       "<table border=\"1\" class=\"dataframe\">\n",
       "  <thead>\n",
       "    <tr style=\"text-align: right;\">\n",
       "      <th></th>\n",
       "      <th>cameras</th>\n",
       "      <th>oss</th>\n",
       "      <th>yashica</th>\n",
       "      <th>gz</th>\n",
       "      <th>yellow</th>\n",
       "      <th>32mm</th>\n",
       "      <th>012</th>\n",
       "      <th>gb</th>\n",
       "      <th>go</th>\n",
       "      <th>z212</th>\n",
       "      <th>...</th>\n",
       "      <th>karma</th>\n",
       "      <th>fz43</th>\n",
       "      <th>deluxe</th>\n",
       "      <th>cpt</th>\n",
       "      <th>dvr</th>\n",
       "      <th>ID</th>\n",
       "      <th>Parent_node_1</th>\n",
       "      <th>Parent_node_2</th>\n",
       "      <th>Leaf_Node</th>\n",
       "      <th>prediction_level1</th>\n",
       "    </tr>\n",
       "  </thead>\n",
       "  <tbody>\n",
       "    <tr>\n",
       "      <th>10</th>\n",
       "      <td>0</td>\n",
       "      <td>0</td>\n",
       "      <td>0</td>\n",
       "      <td>0</td>\n",
       "      <td>0</td>\n",
       "      <td>0</td>\n",
       "      <td>0</td>\n",
       "      <td>0</td>\n",
       "      <td>0</td>\n",
       "      <td>0</td>\n",
       "      <td>...</td>\n",
       "      <td>0</td>\n",
       "      <td>0</td>\n",
       "      <td>0</td>\n",
       "      <td>0</td>\n",
       "      <td>0</td>\n",
       "      <td>jessops-eef411a41cc22390e46da9fa5820aa2c</td>\n",
       "      <td>Cam Corders</td>\n",
       "      <td>Traditional Video Cameras</td>\n",
       "      <td>Common Use Video Cameras</td>\n",
       "      <td>Cam Corders</td>\n",
       "    </tr>\n",
       "    <tr>\n",
       "      <th>12</th>\n",
       "      <td>0</td>\n",
       "      <td>0</td>\n",
       "      <td>0</td>\n",
       "      <td>0</td>\n",
       "      <td>0</td>\n",
       "      <td>0</td>\n",
       "      <td>0</td>\n",
       "      <td>0</td>\n",
       "      <td>0</td>\n",
       "      <td>0</td>\n",
       "      <td>...</td>\n",
       "      <td>0</td>\n",
       "      <td>0</td>\n",
       "      <td>0</td>\n",
       "      <td>0</td>\n",
       "      <td>0</td>\n",
       "      <td>jessops-40e16c7a65ef1ce88c5b8e86c8b6be61</td>\n",
       "      <td>Cam Corders</td>\n",
       "      <td>Traditional Video Cameras</td>\n",
       "      <td>Common Use Video Cameras</td>\n",
       "      <td>Cam Corders</td>\n",
       "    </tr>\n",
       "    <tr>\n",
       "      <th>13</th>\n",
       "      <td>0</td>\n",
       "      <td>0</td>\n",
       "      <td>0</td>\n",
       "      <td>0</td>\n",
       "      <td>0</td>\n",
       "      <td>0</td>\n",
       "      <td>0</td>\n",
       "      <td>0</td>\n",
       "      <td>0</td>\n",
       "      <td>0</td>\n",
       "      <td>...</td>\n",
       "      <td>0</td>\n",
       "      <td>0</td>\n",
       "      <td>0</td>\n",
       "      <td>0</td>\n",
       "      <td>0</td>\n",
       "      <td>jessops-3a1342c0cb28dc1d3bab507a1f016cc3</td>\n",
       "      <td>Cam Corders</td>\n",
       "      <td>Traditional Video Cameras</td>\n",
       "      <td>Common Use Video Cameras</td>\n",
       "      <td>Cam Corders</td>\n",
       "    </tr>\n",
       "    <tr>\n",
       "      <th>29</th>\n",
       "      <td>0</td>\n",
       "      <td>0</td>\n",
       "      <td>0</td>\n",
       "      <td>0</td>\n",
       "      <td>0</td>\n",
       "      <td>0</td>\n",
       "      <td>0</td>\n",
       "      <td>0</td>\n",
       "      <td>0</td>\n",
       "      <td>0</td>\n",
       "      <td>...</td>\n",
       "      <td>0</td>\n",
       "      <td>0</td>\n",
       "      <td>0</td>\n",
       "      <td>0</td>\n",
       "      <td>0</td>\n",
       "      <td>jessops-e459dfc3f0e983f1a5153c64cf6c9dd0</td>\n",
       "      <td>Cam Corders</td>\n",
       "      <td>Action Cameras</td>\n",
       "      <td>360 Degree Cameras</td>\n",
       "      <td>Cam Corders</td>\n",
       "    </tr>\n",
       "    <tr>\n",
       "      <th>30</th>\n",
       "      <td>0</td>\n",
       "      <td>0</td>\n",
       "      <td>0</td>\n",
       "      <td>0</td>\n",
       "      <td>0</td>\n",
       "      <td>0</td>\n",
       "      <td>0</td>\n",
       "      <td>0</td>\n",
       "      <td>0</td>\n",
       "      <td>0</td>\n",
       "      <td>...</td>\n",
       "      <td>0</td>\n",
       "      <td>0</td>\n",
       "      <td>0</td>\n",
       "      <td>0</td>\n",
       "      <td>0</td>\n",
       "      <td>jessops-1f205970ab6aa5842172a4a43fdbadba</td>\n",
       "      <td>Cam Corders</td>\n",
       "      <td>Action Cameras</td>\n",
       "      <td>360 Degree Cameras</td>\n",
       "      <td>Cam Corders</td>\n",
       "    </tr>\n",
       "  </tbody>\n",
       "</table>\n",
       "<p>5 rows × 880 columns</p>\n",
       "</div>"
      ],
      "text/plain": [
       "    cameras  oss  yashica  gz  yellow  32mm  012  gb  go  z212  \\\n",
       "10        0    0        0   0       0     0    0   0   0     0   \n",
       "12        0    0        0   0       0     0    0   0   0     0   \n",
       "13        0    0        0   0       0     0    0   0   0     0   \n",
       "29        0    0        0   0       0     0    0   0   0     0   \n",
       "30        0    0        0   0       0     0    0   0   0     0   \n",
       "\n",
       "          ...          karma  fz43  deluxe  cpt  dvr  \\\n",
       "10        ...              0     0       0    0    0   \n",
       "12        ...              0     0       0    0    0   \n",
       "13        ...              0     0       0    0    0   \n",
       "29        ...              0     0       0    0    0   \n",
       "30        ...              0     0       0    0    0   \n",
       "\n",
       "                                          ID  Parent_node_1  \\\n",
       "10  jessops-eef411a41cc22390e46da9fa5820aa2c    Cam Corders   \n",
       "12  jessops-40e16c7a65ef1ce88c5b8e86c8b6be61    Cam Corders   \n",
       "13  jessops-3a1342c0cb28dc1d3bab507a1f016cc3    Cam Corders   \n",
       "29  jessops-e459dfc3f0e983f1a5153c64cf6c9dd0    Cam Corders   \n",
       "30  jessops-1f205970ab6aa5842172a4a43fdbadba    Cam Corders   \n",
       "\n",
       "                Parent_node_2                 Leaf_Node  prediction_level1  \n",
       "10  Traditional Video Cameras  Common Use Video Cameras        Cam Corders  \n",
       "12  Traditional Video Cameras  Common Use Video Cameras        Cam Corders  \n",
       "13  Traditional Video Cameras  Common Use Video Cameras        Cam Corders  \n",
       "29             Action Cameras        360 Degree Cameras        Cam Corders  \n",
       "30             Action Cameras        360 Degree Cameras        Cam Corders  \n",
       "\n",
       "[5 rows x 880 columns]"
      ]
     },
     "execution_count": 51,
     "metadata": {},
     "output_type": "execute_result"
    }
   ],
   "source": [
    "level2_train.head()"
   ]
  },
  {
   "cell_type": "code",
   "execution_count": 52,
   "metadata": {
    "collapsed": true
   },
   "outputs": [],
   "source": [
    "X_level2=level2_train.drop(['ID','Parent_node_1','Parent_node_2','Leaf_Node','prediction_level1'],axis=1)\n",
    "y_level2=level2_train['Parent_node_2']"
   ]
  },
  {
   "cell_type": "code",
   "execution_count": 53,
   "metadata": {},
   "outputs": [
    {
     "name": "stdout",
     "output_type": "stream",
     "text": [
      "{'min_samples_split': 10, 'max_leaf_nodes': 10, 'criterion': 'entropy', 'max_depth': None, 'min_samples_leaf': 1}\n"
     ]
    }
   ],
   "source": [
    "clf = GridSearchCV(DecisionTreeClassifier(), parameters, cv=5)\n",
    "clf.fit(X_level2, y_level2)\n",
    "print(clf.best_params_)"
   ]
  },
  {
   "cell_type": "code",
   "execution_count": 54,
   "metadata": {
    "collapsed": true
   },
   "outputs": [],
   "source": [
    "from sklearn.model_selection import StratifiedKFold\n",
    "from sklearn.model_selection import cross_val_score\n",
    "from sklearn.model_selection import cross_val_predict\n",
    "\n",
    "desicion_tree=DecisionTreeClassifier(min_samples_split= 10, max_leaf_nodes= 20, criterion= 'entropy', max_depth= 10, min_samples_leaf= 1)\n",
    "cv = StratifiedKFold(n_splits=5, shuffle=True, random_state=42)\n",
    "\n",
    "target_prediction = cross_val_predict(desicion_tree, X_level2, y_level2, cv=cv)"
   ]
  },
  {
   "cell_type": "code",
   "execution_count": 55,
   "metadata": {},
   "outputs": [
    {
     "data": {
      "text/plain": [
       "111"
      ]
     },
     "execution_count": 55,
     "metadata": {},
     "output_type": "execute_result"
    }
   ],
   "source": [
    "len(target_prediction)"
   ]
  },
  {
   "cell_type": "code",
   "execution_count": 56,
   "metadata": {},
   "outputs": [
    {
     "data": {
      "text/plain": [
       "111"
      ]
     },
     "execution_count": 56,
     "metadata": {},
     "output_type": "execute_result"
    }
   ],
   "source": [
    "len(y_level2)"
   ]
  },
  {
   "cell_type": "code",
   "execution_count": 57,
   "metadata": {},
   "outputs": [
    {
     "name": "stdout",
     "output_type": "stream",
     "text": [
      "Confusion Matrix:\n",
      "                          ____________________Prediction____________________\n",
      "                                    Action Cameras Traditional Video Cameras\n",
      "           Action Cameras                       53                         5\n",
      "Traditional Video Cameras                        5                        48\n",
      "\n",
      "Accuracy Score:\n",
      "0.90990990991\n",
      "()\n",
      "Classification Report:\n",
      "                           precision    recall  f1-score   support\n",
      "\n",
      "           Action Cameras       0.91      0.91      0.91        58\n",
      "Traditional Video Cameras       0.91      0.91      0.91        53\n",
      "\n",
      "              avg / total       0.91      0.91      0.91       111\n",
      "\n"
     ]
    }
   ],
   "source": [
    "analytics(y_level2,target_prediction) #real value vs. predicted values"
   ]
  },
  {
   "cell_type": "code",
   "execution_count": 58,
   "metadata": {},
   "outputs": [
    {
     "name": "stderr",
     "output_type": "stream",
     "text": [
      "/Users/bengikoseoglu/anaconda2/lib/python2.7/site-packages/ipykernel_launcher.py:1: SettingWithCopyWarning:\n",
      "\n",
      "\n",
      "A value is trying to be set on a copy of a slice from a DataFrame.\n",
      "Try using .loc[row_indexer,col_indexer] = value instead\n",
      "\n",
      "See the caveats in the documentation: http://pandas.pydata.org/pandas-docs/stable/indexing.html#indexing-view-versus-copy\n",
      "\n"
     ]
    }
   ],
   "source": [
    "level2_train['prediction_level2']=target_prediction"
   ]
  },
  {
   "cell_type": "code",
   "execution_count": 59,
   "metadata": {},
   "outputs": [
    {
     "data": {
      "text/html": [
       "<div>\n",
       "<style>\n",
       "    .dataframe thead tr:only-child th {\n",
       "        text-align: right;\n",
       "    }\n",
       "\n",
       "    .dataframe thead th {\n",
       "        text-align: left;\n",
       "    }\n",
       "\n",
       "    .dataframe tbody tr th {\n",
       "        vertical-align: top;\n",
       "    }\n",
       "</style>\n",
       "<table border=\"1\" class=\"dataframe\">\n",
       "  <thead>\n",
       "    <tr style=\"text-align: right;\">\n",
       "      <th></th>\n",
       "      <th>cameras</th>\n",
       "      <th>oss</th>\n",
       "      <th>yashica</th>\n",
       "      <th>gz</th>\n",
       "      <th>yellow</th>\n",
       "      <th>32mm</th>\n",
       "      <th>012</th>\n",
       "      <th>gb</th>\n",
       "      <th>go</th>\n",
       "      <th>z212</th>\n",
       "      <th>...</th>\n",
       "      <th>fz43</th>\n",
       "      <th>deluxe</th>\n",
       "      <th>cpt</th>\n",
       "      <th>dvr</th>\n",
       "      <th>ID</th>\n",
       "      <th>Parent_node_1</th>\n",
       "      <th>Parent_node_2</th>\n",
       "      <th>Leaf_Node</th>\n",
       "      <th>prediction_level1</th>\n",
       "      <th>prediction_level2</th>\n",
       "    </tr>\n",
       "  </thead>\n",
       "  <tbody>\n",
       "    <tr>\n",
       "      <th>10</th>\n",
       "      <td>0</td>\n",
       "      <td>0</td>\n",
       "      <td>0</td>\n",
       "      <td>0</td>\n",
       "      <td>0</td>\n",
       "      <td>0</td>\n",
       "      <td>0</td>\n",
       "      <td>0</td>\n",
       "      <td>0</td>\n",
       "      <td>0</td>\n",
       "      <td>...</td>\n",
       "      <td>0</td>\n",
       "      <td>0</td>\n",
       "      <td>0</td>\n",
       "      <td>0</td>\n",
       "      <td>jessops-eef411a41cc22390e46da9fa5820aa2c</td>\n",
       "      <td>Cam Corders</td>\n",
       "      <td>Traditional Video Cameras</td>\n",
       "      <td>Common Use Video Cameras</td>\n",
       "      <td>Cam Corders</td>\n",
       "      <td>Traditional Video Cameras</td>\n",
       "    </tr>\n",
       "    <tr>\n",
       "      <th>12</th>\n",
       "      <td>0</td>\n",
       "      <td>0</td>\n",
       "      <td>0</td>\n",
       "      <td>0</td>\n",
       "      <td>0</td>\n",
       "      <td>0</td>\n",
       "      <td>0</td>\n",
       "      <td>0</td>\n",
       "      <td>0</td>\n",
       "      <td>0</td>\n",
       "      <td>...</td>\n",
       "      <td>0</td>\n",
       "      <td>0</td>\n",
       "      <td>0</td>\n",
       "      <td>0</td>\n",
       "      <td>jessops-40e16c7a65ef1ce88c5b8e86c8b6be61</td>\n",
       "      <td>Cam Corders</td>\n",
       "      <td>Traditional Video Cameras</td>\n",
       "      <td>Common Use Video Cameras</td>\n",
       "      <td>Cam Corders</td>\n",
       "      <td>Traditional Video Cameras</td>\n",
       "    </tr>\n",
       "    <tr>\n",
       "      <th>13</th>\n",
       "      <td>0</td>\n",
       "      <td>0</td>\n",
       "      <td>0</td>\n",
       "      <td>0</td>\n",
       "      <td>0</td>\n",
       "      <td>0</td>\n",
       "      <td>0</td>\n",
       "      <td>0</td>\n",
       "      <td>0</td>\n",
       "      <td>0</td>\n",
       "      <td>...</td>\n",
       "      <td>0</td>\n",
       "      <td>0</td>\n",
       "      <td>0</td>\n",
       "      <td>0</td>\n",
       "      <td>jessops-3a1342c0cb28dc1d3bab507a1f016cc3</td>\n",
       "      <td>Cam Corders</td>\n",
       "      <td>Traditional Video Cameras</td>\n",
       "      <td>Common Use Video Cameras</td>\n",
       "      <td>Cam Corders</td>\n",
       "      <td>Traditional Video Cameras</td>\n",
       "    </tr>\n",
       "    <tr>\n",
       "      <th>29</th>\n",
       "      <td>0</td>\n",
       "      <td>0</td>\n",
       "      <td>0</td>\n",
       "      <td>0</td>\n",
       "      <td>0</td>\n",
       "      <td>0</td>\n",
       "      <td>0</td>\n",
       "      <td>0</td>\n",
       "      <td>0</td>\n",
       "      <td>0</td>\n",
       "      <td>...</td>\n",
       "      <td>0</td>\n",
       "      <td>0</td>\n",
       "      <td>0</td>\n",
       "      <td>0</td>\n",
       "      <td>jessops-e459dfc3f0e983f1a5153c64cf6c9dd0</td>\n",
       "      <td>Cam Corders</td>\n",
       "      <td>Action Cameras</td>\n",
       "      <td>360 Degree Cameras</td>\n",
       "      <td>Cam Corders</td>\n",
       "      <td>Action Cameras</td>\n",
       "    </tr>\n",
       "    <tr>\n",
       "      <th>30</th>\n",
       "      <td>0</td>\n",
       "      <td>0</td>\n",
       "      <td>0</td>\n",
       "      <td>0</td>\n",
       "      <td>0</td>\n",
       "      <td>0</td>\n",
       "      <td>0</td>\n",
       "      <td>0</td>\n",
       "      <td>0</td>\n",
       "      <td>0</td>\n",
       "      <td>...</td>\n",
       "      <td>0</td>\n",
       "      <td>0</td>\n",
       "      <td>0</td>\n",
       "      <td>0</td>\n",
       "      <td>jessops-1f205970ab6aa5842172a4a43fdbadba</td>\n",
       "      <td>Cam Corders</td>\n",
       "      <td>Action Cameras</td>\n",
       "      <td>360 Degree Cameras</td>\n",
       "      <td>Cam Corders</td>\n",
       "      <td>Action Cameras</td>\n",
       "    </tr>\n",
       "  </tbody>\n",
       "</table>\n",
       "<p>5 rows × 881 columns</p>\n",
       "</div>"
      ],
      "text/plain": [
       "    cameras  oss  yashica  gz  yellow  32mm  012  gb  go  z212  \\\n",
       "10        0    0        0   0       0     0    0   0   0     0   \n",
       "12        0    0        0   0       0     0    0   0   0     0   \n",
       "13        0    0        0   0       0     0    0   0   0     0   \n",
       "29        0    0        0   0       0     0    0   0   0     0   \n",
       "30        0    0        0   0       0     0    0   0   0     0   \n",
       "\n",
       "              ...              fz43  deluxe  cpt  dvr  \\\n",
       "10            ...                 0       0    0    0   \n",
       "12            ...                 0       0    0    0   \n",
       "13            ...                 0       0    0    0   \n",
       "29            ...                 0       0    0    0   \n",
       "30            ...                 0       0    0    0   \n",
       "\n",
       "                                          ID  Parent_node_1  \\\n",
       "10  jessops-eef411a41cc22390e46da9fa5820aa2c    Cam Corders   \n",
       "12  jessops-40e16c7a65ef1ce88c5b8e86c8b6be61    Cam Corders   \n",
       "13  jessops-3a1342c0cb28dc1d3bab507a1f016cc3    Cam Corders   \n",
       "29  jessops-e459dfc3f0e983f1a5153c64cf6c9dd0    Cam Corders   \n",
       "30  jessops-1f205970ab6aa5842172a4a43fdbadba    Cam Corders   \n",
       "\n",
       "                Parent_node_2                 Leaf_Node  prediction_level1  \\\n",
       "10  Traditional Video Cameras  Common Use Video Cameras        Cam Corders   \n",
       "12  Traditional Video Cameras  Common Use Video Cameras        Cam Corders   \n",
       "13  Traditional Video Cameras  Common Use Video Cameras        Cam Corders   \n",
       "29             Action Cameras        360 Degree Cameras        Cam Corders   \n",
       "30             Action Cameras        360 Degree Cameras        Cam Corders   \n",
       "\n",
       "            prediction_level2  \n",
       "10  Traditional Video Cameras  \n",
       "12  Traditional Video Cameras  \n",
       "13  Traditional Video Cameras  \n",
       "29             Action Cameras  \n",
       "30             Action Cameras  \n",
       "\n",
       "[5 rows x 881 columns]"
      ]
     },
     "execution_count": 59,
     "metadata": {},
     "output_type": "execute_result"
    }
   ],
   "source": [
    "level2_train.head()"
   ]
  },
  {
   "cell_type": "markdown",
   "metadata": {},
   "source": [
    "##### 1. Traditional Video Cameras"
   ]
  },
  {
   "cell_type": "code",
   "execution_count": 60,
   "metadata": {
    "collapsed": true
   },
   "outputs": [],
   "source": [
    "#prediction_level2_camcorders\n",
    "level3_train=level2_train[level2_train['Parent_node_2']=='Traditional Video Cameras']"
   ]
  },
  {
   "cell_type": "code",
   "execution_count": 61,
   "metadata": {},
   "outputs": [
    {
     "data": {
      "text/html": [
       "<div>\n",
       "<style>\n",
       "    .dataframe thead tr:only-child th {\n",
       "        text-align: right;\n",
       "    }\n",
       "\n",
       "    .dataframe thead th {\n",
       "        text-align: left;\n",
       "    }\n",
       "\n",
       "    .dataframe tbody tr th {\n",
       "        vertical-align: top;\n",
       "    }\n",
       "</style>\n",
       "<table border=\"1\" class=\"dataframe\">\n",
       "  <thead>\n",
       "    <tr style=\"text-align: right;\">\n",
       "      <th></th>\n",
       "      <th>cameras</th>\n",
       "      <th>oss</th>\n",
       "      <th>yashica</th>\n",
       "      <th>gz</th>\n",
       "      <th>yellow</th>\n",
       "      <th>32mm</th>\n",
       "      <th>012</th>\n",
       "      <th>gb</th>\n",
       "      <th>go</th>\n",
       "      <th>z212</th>\n",
       "      <th>...</th>\n",
       "      <th>fz43</th>\n",
       "      <th>deluxe</th>\n",
       "      <th>cpt</th>\n",
       "      <th>dvr</th>\n",
       "      <th>ID</th>\n",
       "      <th>Parent_node_1</th>\n",
       "      <th>Parent_node_2</th>\n",
       "      <th>Leaf_Node</th>\n",
       "      <th>prediction_level1</th>\n",
       "      <th>prediction_level2</th>\n",
       "    </tr>\n",
       "  </thead>\n",
       "  <tbody>\n",
       "    <tr>\n",
       "      <th>10</th>\n",
       "      <td>0</td>\n",
       "      <td>0</td>\n",
       "      <td>0</td>\n",
       "      <td>0</td>\n",
       "      <td>0</td>\n",
       "      <td>0</td>\n",
       "      <td>0</td>\n",
       "      <td>0</td>\n",
       "      <td>0</td>\n",
       "      <td>0</td>\n",
       "      <td>...</td>\n",
       "      <td>0</td>\n",
       "      <td>0</td>\n",
       "      <td>0</td>\n",
       "      <td>0</td>\n",
       "      <td>jessops-eef411a41cc22390e46da9fa5820aa2c</td>\n",
       "      <td>Cam Corders</td>\n",
       "      <td>Traditional Video Cameras</td>\n",
       "      <td>Common Use Video Cameras</td>\n",
       "      <td>Cam Corders</td>\n",
       "      <td>Traditional Video Cameras</td>\n",
       "    </tr>\n",
       "    <tr>\n",
       "      <th>12</th>\n",
       "      <td>0</td>\n",
       "      <td>0</td>\n",
       "      <td>0</td>\n",
       "      <td>0</td>\n",
       "      <td>0</td>\n",
       "      <td>0</td>\n",
       "      <td>0</td>\n",
       "      <td>0</td>\n",
       "      <td>0</td>\n",
       "      <td>0</td>\n",
       "      <td>...</td>\n",
       "      <td>0</td>\n",
       "      <td>0</td>\n",
       "      <td>0</td>\n",
       "      <td>0</td>\n",
       "      <td>jessops-40e16c7a65ef1ce88c5b8e86c8b6be61</td>\n",
       "      <td>Cam Corders</td>\n",
       "      <td>Traditional Video Cameras</td>\n",
       "      <td>Common Use Video Cameras</td>\n",
       "      <td>Cam Corders</td>\n",
       "      <td>Traditional Video Cameras</td>\n",
       "    </tr>\n",
       "    <tr>\n",
       "      <th>13</th>\n",
       "      <td>0</td>\n",
       "      <td>0</td>\n",
       "      <td>0</td>\n",
       "      <td>0</td>\n",
       "      <td>0</td>\n",
       "      <td>0</td>\n",
       "      <td>0</td>\n",
       "      <td>0</td>\n",
       "      <td>0</td>\n",
       "      <td>0</td>\n",
       "      <td>...</td>\n",
       "      <td>0</td>\n",
       "      <td>0</td>\n",
       "      <td>0</td>\n",
       "      <td>0</td>\n",
       "      <td>jessops-3a1342c0cb28dc1d3bab507a1f016cc3</td>\n",
       "      <td>Cam Corders</td>\n",
       "      <td>Traditional Video Cameras</td>\n",
       "      <td>Common Use Video Cameras</td>\n",
       "      <td>Cam Corders</td>\n",
       "      <td>Traditional Video Cameras</td>\n",
       "    </tr>\n",
       "    <tr>\n",
       "      <th>56</th>\n",
       "      <td>0</td>\n",
       "      <td>0</td>\n",
       "      <td>0</td>\n",
       "      <td>0</td>\n",
       "      <td>0</td>\n",
       "      <td>0</td>\n",
       "      <td>0</td>\n",
       "      <td>0</td>\n",
       "      <td>0</td>\n",
       "      <td>0</td>\n",
       "      <td>...</td>\n",
       "      <td>0</td>\n",
       "      <td>0</td>\n",
       "      <td>0</td>\n",
       "      <td>0</td>\n",
       "      <td>bestbuy-6fd7c4bd0710b4edd04bcbfe602f2355</td>\n",
       "      <td>Cam Corders</td>\n",
       "      <td>Traditional Video Cameras</td>\n",
       "      <td>Professional Video Cameras</td>\n",
       "      <td>Cam Corders</td>\n",
       "      <td>Traditional Video Cameras</td>\n",
       "    </tr>\n",
       "    <tr>\n",
       "      <th>64</th>\n",
       "      <td>0</td>\n",
       "      <td>0</td>\n",
       "      <td>0</td>\n",
       "      <td>0</td>\n",
       "      <td>0</td>\n",
       "      <td>0</td>\n",
       "      <td>0</td>\n",
       "      <td>0</td>\n",
       "      <td>0</td>\n",
       "      <td>0</td>\n",
       "      <td>...</td>\n",
       "      <td>0</td>\n",
       "      <td>0</td>\n",
       "      <td>0</td>\n",
       "      <td>0</td>\n",
       "      <td>bestbuy-bb98b1e4360d9303df6c0a47eb209e11</td>\n",
       "      <td>Cam Corders</td>\n",
       "      <td>Traditional Video Cameras</td>\n",
       "      <td>Common Use Video Cameras</td>\n",
       "      <td>Cam Corders</td>\n",
       "      <td>Traditional Video Cameras</td>\n",
       "    </tr>\n",
       "  </tbody>\n",
       "</table>\n",
       "<p>5 rows × 881 columns</p>\n",
       "</div>"
      ],
      "text/plain": [
       "    cameras  oss  yashica  gz  yellow  32mm  012  gb  go  z212  \\\n",
       "10        0    0        0   0       0     0    0   0   0     0   \n",
       "12        0    0        0   0       0     0    0   0   0     0   \n",
       "13        0    0        0   0       0     0    0   0   0     0   \n",
       "56        0    0        0   0       0     0    0   0   0     0   \n",
       "64        0    0        0   0       0     0    0   0   0     0   \n",
       "\n",
       "              ...              fz43  deluxe  cpt  dvr  \\\n",
       "10            ...                 0       0    0    0   \n",
       "12            ...                 0       0    0    0   \n",
       "13            ...                 0       0    0    0   \n",
       "56            ...                 0       0    0    0   \n",
       "64            ...                 0       0    0    0   \n",
       "\n",
       "                                          ID  Parent_node_1  \\\n",
       "10  jessops-eef411a41cc22390e46da9fa5820aa2c    Cam Corders   \n",
       "12  jessops-40e16c7a65ef1ce88c5b8e86c8b6be61    Cam Corders   \n",
       "13  jessops-3a1342c0cb28dc1d3bab507a1f016cc3    Cam Corders   \n",
       "56  bestbuy-6fd7c4bd0710b4edd04bcbfe602f2355    Cam Corders   \n",
       "64  bestbuy-bb98b1e4360d9303df6c0a47eb209e11    Cam Corders   \n",
       "\n",
       "                Parent_node_2                   Leaf_Node  prediction_level1  \\\n",
       "10  Traditional Video Cameras    Common Use Video Cameras        Cam Corders   \n",
       "12  Traditional Video Cameras    Common Use Video Cameras        Cam Corders   \n",
       "13  Traditional Video Cameras    Common Use Video Cameras        Cam Corders   \n",
       "56  Traditional Video Cameras  Professional Video Cameras        Cam Corders   \n",
       "64  Traditional Video Cameras    Common Use Video Cameras        Cam Corders   \n",
       "\n",
       "            prediction_level2  \n",
       "10  Traditional Video Cameras  \n",
       "12  Traditional Video Cameras  \n",
       "13  Traditional Video Cameras  \n",
       "56  Traditional Video Cameras  \n",
       "64  Traditional Video Cameras  \n",
       "\n",
       "[5 rows x 881 columns]"
      ]
     },
     "execution_count": 61,
     "metadata": {},
     "output_type": "execute_result"
    }
   ],
   "source": [
    "level3_train.head()"
   ]
  },
  {
   "cell_type": "code",
   "execution_count": 62,
   "metadata": {
    "collapsed": true
   },
   "outputs": [],
   "source": [
    "X_level3=level3_train.drop(['ID','Parent_node_1','Parent_node_2','Leaf_Node','prediction_level1','prediction_level2'],axis=1)\n",
    "y_level3=level3_train['Leaf_Node']"
   ]
  },
  {
   "cell_type": "code",
   "execution_count": 63,
   "metadata": {},
   "outputs": [
    {
     "name": "stdout",
     "output_type": "stream",
     "text": [
      "{'min_samples_split': 20, 'max_leaf_nodes': None, 'criterion': 'gini', 'max_depth': 10, 'min_samples_leaf': 1}\n"
     ]
    }
   ],
   "source": [
    "parameters = [{\"criterion\": [\"gini\", \"entropy\"],\n",
    "              \"min_samples_split\": [2, 10, 20],\n",
    "              \"max_depth\": [None, 5, 10, 15],\n",
    "              \"min_samples_leaf\": [1, 5, 10],\n",
    "              \"max_leaf_nodes\": [None, 5, 10, 20],\n",
    "              }]\n",
    "\n",
    "tree = GridSearchCV(DecisionTreeClassifier(), parameters, cv=5)\n",
    "tree.fit(X_level3, y_level3)\n",
    "print(tree.best_params_)"
   ]
  },
  {
   "cell_type": "code",
   "execution_count": 64,
   "metadata": {
    "collapsed": true
   },
   "outputs": [],
   "source": [
    "from sklearn.tree import DecisionTreeClassifier\n",
    "cv = StratifiedKFold(n_splits=5, shuffle=True, random_state=42)\n",
    "decision_tree = DecisionTreeClassifier(min_samples_split= 20, max_leaf_nodes= None, criterion= 'gini', max_depth= None, min_samples_leaf= 1)\n",
    "target_prediction = cross_val_predict(desicion_tree, X_level3, y_level3, cv=cv)"
   ]
  },
  {
   "cell_type": "code",
   "execution_count": 65,
   "metadata": {},
   "outputs": [
    {
     "name": "stdout",
     "output_type": "stream",
     "text": [
      "Confusion Matrix:\n",
      "                           _____________________Prediction_____________________\n",
      "                            Common Use Video Cameras Professional Video Cameras\n",
      "  Common Use Video Cameras                        12                          9\n",
      "Professional Video Cameras                        11                         21\n",
      "\n",
      "Accuracy Score:\n",
      "0.622641509434\n",
      "()\n",
      "Classification Report:\n",
      "                            precision    recall  f1-score   support\n",
      "\n",
      "  Common Use Video Cameras       0.52      0.57      0.55        21\n",
      "Professional Video Cameras       0.70      0.66      0.68        32\n",
      "\n",
      "               avg / total       0.63      0.62      0.63        53\n",
      "\n"
     ]
    }
   ],
   "source": [
    "analytics(y_level3,target_prediction) #analytics(y_level2,target_prediction) #real value vs. predicted values"
   ]
  },
  {
   "cell_type": "code",
   "execution_count": 66,
   "metadata": {},
   "outputs": [
    {
     "name": "stderr",
     "output_type": "stream",
     "text": [
      "/Users/bengikoseoglu/anaconda2/lib/python2.7/site-packages/ipykernel_launcher.py:1: SettingWithCopyWarning:\n",
      "\n",
      "\n",
      "A value is trying to be set on a copy of a slice from a DataFrame.\n",
      "Try using .loc[row_indexer,col_indexer] = value instead\n",
      "\n",
      "See the caveats in the documentation: http://pandas.pydata.org/pandas-docs/stable/indexing.html#indexing-view-versus-copy\n",
      "\n"
     ]
    }
   ],
   "source": [
    "level3_train['prediction_level3']=target_prediction"
   ]
  },
  {
   "cell_type": "code",
   "execution_count": 67,
   "metadata": {},
   "outputs": [
    {
     "data": {
      "text/plain": [
       "(53, 882)"
      ]
     },
     "execution_count": 67,
     "metadata": {},
     "output_type": "execute_result"
    }
   ],
   "source": [
    "level3_train.shape"
   ]
  },
  {
   "cell_type": "code",
   "execution_count": 68,
   "metadata": {},
   "outputs": [
    {
     "data": {
      "text/html": [
       "<div>\n",
       "<style>\n",
       "    .dataframe thead tr:only-child th {\n",
       "        text-align: right;\n",
       "    }\n",
       "\n",
       "    .dataframe thead th {\n",
       "        text-align: left;\n",
       "    }\n",
       "\n",
       "    .dataframe tbody tr th {\n",
       "        vertical-align: top;\n",
       "    }\n",
       "</style>\n",
       "<table border=\"1\" class=\"dataframe\">\n",
       "  <thead>\n",
       "    <tr style=\"text-align: right;\">\n",
       "      <th></th>\n",
       "      <th>cameras</th>\n",
       "      <th>oss</th>\n",
       "      <th>yashica</th>\n",
       "      <th>gz</th>\n",
       "      <th>yellow</th>\n",
       "      <th>32mm</th>\n",
       "      <th>012</th>\n",
       "      <th>gb</th>\n",
       "      <th>go</th>\n",
       "      <th>z212</th>\n",
       "      <th>...</th>\n",
       "      <th>deluxe</th>\n",
       "      <th>cpt</th>\n",
       "      <th>dvr</th>\n",
       "      <th>ID</th>\n",
       "      <th>Parent_node_1</th>\n",
       "      <th>Parent_node_2</th>\n",
       "      <th>Leaf_Node</th>\n",
       "      <th>prediction_level1</th>\n",
       "      <th>prediction_level2</th>\n",
       "      <th>prediction_level3</th>\n",
       "    </tr>\n",
       "  </thead>\n",
       "  <tbody>\n",
       "    <tr>\n",
       "      <th>10</th>\n",
       "      <td>0</td>\n",
       "      <td>0</td>\n",
       "      <td>0</td>\n",
       "      <td>0</td>\n",
       "      <td>0</td>\n",
       "      <td>0</td>\n",
       "      <td>0</td>\n",
       "      <td>0</td>\n",
       "      <td>0</td>\n",
       "      <td>0</td>\n",
       "      <td>...</td>\n",
       "      <td>0</td>\n",
       "      <td>0</td>\n",
       "      <td>0</td>\n",
       "      <td>jessops-eef411a41cc22390e46da9fa5820aa2c</td>\n",
       "      <td>Cam Corders</td>\n",
       "      <td>Traditional Video Cameras</td>\n",
       "      <td>Common Use Video Cameras</td>\n",
       "      <td>Cam Corders</td>\n",
       "      <td>Traditional Video Cameras</td>\n",
       "      <td>Common Use Video Cameras</td>\n",
       "    </tr>\n",
       "    <tr>\n",
       "      <th>12</th>\n",
       "      <td>0</td>\n",
       "      <td>0</td>\n",
       "      <td>0</td>\n",
       "      <td>0</td>\n",
       "      <td>0</td>\n",
       "      <td>0</td>\n",
       "      <td>0</td>\n",
       "      <td>0</td>\n",
       "      <td>0</td>\n",
       "      <td>0</td>\n",
       "      <td>...</td>\n",
       "      <td>0</td>\n",
       "      <td>0</td>\n",
       "      <td>0</td>\n",
       "      <td>jessops-40e16c7a65ef1ce88c5b8e86c8b6be61</td>\n",
       "      <td>Cam Corders</td>\n",
       "      <td>Traditional Video Cameras</td>\n",
       "      <td>Common Use Video Cameras</td>\n",
       "      <td>Cam Corders</td>\n",
       "      <td>Traditional Video Cameras</td>\n",
       "      <td>Professional Video Cameras</td>\n",
       "    </tr>\n",
       "    <tr>\n",
       "      <th>13</th>\n",
       "      <td>0</td>\n",
       "      <td>0</td>\n",
       "      <td>0</td>\n",
       "      <td>0</td>\n",
       "      <td>0</td>\n",
       "      <td>0</td>\n",
       "      <td>0</td>\n",
       "      <td>0</td>\n",
       "      <td>0</td>\n",
       "      <td>0</td>\n",
       "      <td>...</td>\n",
       "      <td>0</td>\n",
       "      <td>0</td>\n",
       "      <td>0</td>\n",
       "      <td>jessops-3a1342c0cb28dc1d3bab507a1f016cc3</td>\n",
       "      <td>Cam Corders</td>\n",
       "      <td>Traditional Video Cameras</td>\n",
       "      <td>Common Use Video Cameras</td>\n",
       "      <td>Cam Corders</td>\n",
       "      <td>Traditional Video Cameras</td>\n",
       "      <td>Professional Video Cameras</td>\n",
       "    </tr>\n",
       "    <tr>\n",
       "      <th>56</th>\n",
       "      <td>0</td>\n",
       "      <td>0</td>\n",
       "      <td>0</td>\n",
       "      <td>0</td>\n",
       "      <td>0</td>\n",
       "      <td>0</td>\n",
       "      <td>0</td>\n",
       "      <td>0</td>\n",
       "      <td>0</td>\n",
       "      <td>0</td>\n",
       "      <td>...</td>\n",
       "      <td>0</td>\n",
       "      <td>0</td>\n",
       "      <td>0</td>\n",
       "      <td>bestbuy-6fd7c4bd0710b4edd04bcbfe602f2355</td>\n",
       "      <td>Cam Corders</td>\n",
       "      <td>Traditional Video Cameras</td>\n",
       "      <td>Professional Video Cameras</td>\n",
       "      <td>Cam Corders</td>\n",
       "      <td>Traditional Video Cameras</td>\n",
       "      <td>Professional Video Cameras</td>\n",
       "    </tr>\n",
       "    <tr>\n",
       "      <th>64</th>\n",
       "      <td>0</td>\n",
       "      <td>0</td>\n",
       "      <td>0</td>\n",
       "      <td>0</td>\n",
       "      <td>0</td>\n",
       "      <td>0</td>\n",
       "      <td>0</td>\n",
       "      <td>0</td>\n",
       "      <td>0</td>\n",
       "      <td>0</td>\n",
       "      <td>...</td>\n",
       "      <td>0</td>\n",
       "      <td>0</td>\n",
       "      <td>0</td>\n",
       "      <td>bestbuy-bb98b1e4360d9303df6c0a47eb209e11</td>\n",
       "      <td>Cam Corders</td>\n",
       "      <td>Traditional Video Cameras</td>\n",
       "      <td>Common Use Video Cameras</td>\n",
       "      <td>Cam Corders</td>\n",
       "      <td>Traditional Video Cameras</td>\n",
       "      <td>Common Use Video Cameras</td>\n",
       "    </tr>\n",
       "  </tbody>\n",
       "</table>\n",
       "<p>5 rows × 882 columns</p>\n",
       "</div>"
      ],
      "text/plain": [
       "    cameras  oss  yashica  gz  yellow  32mm  012  gb  go  z212  \\\n",
       "10        0    0        0   0       0     0    0   0   0     0   \n",
       "12        0    0        0   0       0     0    0   0   0     0   \n",
       "13        0    0        0   0       0     0    0   0   0     0   \n",
       "56        0    0        0   0       0     0    0   0   0     0   \n",
       "64        0    0        0   0       0     0    0   0   0     0   \n",
       "\n",
       "               ...              deluxe  cpt  dvr  \\\n",
       "10             ...                   0    0    0   \n",
       "12             ...                   0    0    0   \n",
       "13             ...                   0    0    0   \n",
       "56             ...                   0    0    0   \n",
       "64             ...                   0    0    0   \n",
       "\n",
       "                                          ID  Parent_node_1  \\\n",
       "10  jessops-eef411a41cc22390e46da9fa5820aa2c    Cam Corders   \n",
       "12  jessops-40e16c7a65ef1ce88c5b8e86c8b6be61    Cam Corders   \n",
       "13  jessops-3a1342c0cb28dc1d3bab507a1f016cc3    Cam Corders   \n",
       "56  bestbuy-6fd7c4bd0710b4edd04bcbfe602f2355    Cam Corders   \n",
       "64  bestbuy-bb98b1e4360d9303df6c0a47eb209e11    Cam Corders   \n",
       "\n",
       "                Parent_node_2                   Leaf_Node  prediction_level1  \\\n",
       "10  Traditional Video Cameras    Common Use Video Cameras        Cam Corders   \n",
       "12  Traditional Video Cameras    Common Use Video Cameras        Cam Corders   \n",
       "13  Traditional Video Cameras    Common Use Video Cameras        Cam Corders   \n",
       "56  Traditional Video Cameras  Professional Video Cameras        Cam Corders   \n",
       "64  Traditional Video Cameras    Common Use Video Cameras        Cam Corders   \n",
       "\n",
       "            prediction_level2           prediction_level3  \n",
       "10  Traditional Video Cameras    Common Use Video Cameras  \n",
       "12  Traditional Video Cameras  Professional Video Cameras  \n",
       "13  Traditional Video Cameras  Professional Video Cameras  \n",
       "56  Traditional Video Cameras  Professional Video Cameras  \n",
       "64  Traditional Video Cameras    Common Use Video Cameras  \n",
       "\n",
       "[5 rows x 882 columns]"
      ]
     },
     "execution_count": 68,
     "metadata": {},
     "output_type": "execute_result"
    }
   ],
   "source": [
    "level3_train.head()"
   ]
  },
  {
   "cell_type": "markdown",
   "metadata": {},
   "source": [
    "##### 2. Action Video Cameras"
   ]
  },
  {
   "cell_type": "code",
   "execution_count": 69,
   "metadata": {},
   "outputs": [
    {
     "data": {
      "text/html": [
       "<div>\n",
       "<style>\n",
       "    .dataframe thead tr:only-child th {\n",
       "        text-align: right;\n",
       "    }\n",
       "\n",
       "    .dataframe thead th {\n",
       "        text-align: left;\n",
       "    }\n",
       "\n",
       "    .dataframe tbody tr th {\n",
       "        vertical-align: top;\n",
       "    }\n",
       "</style>\n",
       "<table border=\"1\" class=\"dataframe\">\n",
       "  <thead>\n",
       "    <tr style=\"text-align: right;\">\n",
       "      <th></th>\n",
       "      <th>cameras</th>\n",
       "      <th>oss</th>\n",
       "      <th>yashica</th>\n",
       "      <th>gz</th>\n",
       "      <th>yellow</th>\n",
       "      <th>32mm</th>\n",
       "      <th>012</th>\n",
       "      <th>gb</th>\n",
       "      <th>go</th>\n",
       "      <th>z212</th>\n",
       "      <th>...</th>\n",
       "      <th>fz43</th>\n",
       "      <th>deluxe</th>\n",
       "      <th>cpt</th>\n",
       "      <th>dvr</th>\n",
       "      <th>ID</th>\n",
       "      <th>Parent_node_1</th>\n",
       "      <th>Parent_node_2</th>\n",
       "      <th>Leaf_Node</th>\n",
       "      <th>prediction_level1</th>\n",
       "      <th>prediction_level2</th>\n",
       "    </tr>\n",
       "  </thead>\n",
       "  <tbody>\n",
       "    <tr>\n",
       "      <th>10</th>\n",
       "      <td>0</td>\n",
       "      <td>0</td>\n",
       "      <td>0</td>\n",
       "      <td>0</td>\n",
       "      <td>0</td>\n",
       "      <td>0</td>\n",
       "      <td>0</td>\n",
       "      <td>0</td>\n",
       "      <td>0</td>\n",
       "      <td>0</td>\n",
       "      <td>...</td>\n",
       "      <td>0</td>\n",
       "      <td>0</td>\n",
       "      <td>0</td>\n",
       "      <td>0</td>\n",
       "      <td>jessops-eef411a41cc22390e46da9fa5820aa2c</td>\n",
       "      <td>Cam Corders</td>\n",
       "      <td>Traditional Video Cameras</td>\n",
       "      <td>Common Use Video Cameras</td>\n",
       "      <td>Cam Corders</td>\n",
       "      <td>Traditional Video Cameras</td>\n",
       "    </tr>\n",
       "    <tr>\n",
       "      <th>12</th>\n",
       "      <td>0</td>\n",
       "      <td>0</td>\n",
       "      <td>0</td>\n",
       "      <td>0</td>\n",
       "      <td>0</td>\n",
       "      <td>0</td>\n",
       "      <td>0</td>\n",
       "      <td>0</td>\n",
       "      <td>0</td>\n",
       "      <td>0</td>\n",
       "      <td>...</td>\n",
       "      <td>0</td>\n",
       "      <td>0</td>\n",
       "      <td>0</td>\n",
       "      <td>0</td>\n",
       "      <td>jessops-40e16c7a65ef1ce88c5b8e86c8b6be61</td>\n",
       "      <td>Cam Corders</td>\n",
       "      <td>Traditional Video Cameras</td>\n",
       "      <td>Common Use Video Cameras</td>\n",
       "      <td>Cam Corders</td>\n",
       "      <td>Traditional Video Cameras</td>\n",
       "    </tr>\n",
       "    <tr>\n",
       "      <th>13</th>\n",
       "      <td>0</td>\n",
       "      <td>0</td>\n",
       "      <td>0</td>\n",
       "      <td>0</td>\n",
       "      <td>0</td>\n",
       "      <td>0</td>\n",
       "      <td>0</td>\n",
       "      <td>0</td>\n",
       "      <td>0</td>\n",
       "      <td>0</td>\n",
       "      <td>...</td>\n",
       "      <td>0</td>\n",
       "      <td>0</td>\n",
       "      <td>0</td>\n",
       "      <td>0</td>\n",
       "      <td>jessops-3a1342c0cb28dc1d3bab507a1f016cc3</td>\n",
       "      <td>Cam Corders</td>\n",
       "      <td>Traditional Video Cameras</td>\n",
       "      <td>Common Use Video Cameras</td>\n",
       "      <td>Cam Corders</td>\n",
       "      <td>Traditional Video Cameras</td>\n",
       "    </tr>\n",
       "    <tr>\n",
       "      <th>29</th>\n",
       "      <td>0</td>\n",
       "      <td>0</td>\n",
       "      <td>0</td>\n",
       "      <td>0</td>\n",
       "      <td>0</td>\n",
       "      <td>0</td>\n",
       "      <td>0</td>\n",
       "      <td>0</td>\n",
       "      <td>0</td>\n",
       "      <td>0</td>\n",
       "      <td>...</td>\n",
       "      <td>0</td>\n",
       "      <td>0</td>\n",
       "      <td>0</td>\n",
       "      <td>0</td>\n",
       "      <td>jessops-e459dfc3f0e983f1a5153c64cf6c9dd0</td>\n",
       "      <td>Cam Corders</td>\n",
       "      <td>Action Cameras</td>\n",
       "      <td>360 Degree Cameras</td>\n",
       "      <td>Cam Corders</td>\n",
       "      <td>Action Cameras</td>\n",
       "    </tr>\n",
       "    <tr>\n",
       "      <th>30</th>\n",
       "      <td>0</td>\n",
       "      <td>0</td>\n",
       "      <td>0</td>\n",
       "      <td>0</td>\n",
       "      <td>0</td>\n",
       "      <td>0</td>\n",
       "      <td>0</td>\n",
       "      <td>0</td>\n",
       "      <td>0</td>\n",
       "      <td>0</td>\n",
       "      <td>...</td>\n",
       "      <td>0</td>\n",
       "      <td>0</td>\n",
       "      <td>0</td>\n",
       "      <td>0</td>\n",
       "      <td>jessops-1f205970ab6aa5842172a4a43fdbadba</td>\n",
       "      <td>Cam Corders</td>\n",
       "      <td>Action Cameras</td>\n",
       "      <td>360 Degree Cameras</td>\n",
       "      <td>Cam Corders</td>\n",
       "      <td>Action Cameras</td>\n",
       "    </tr>\n",
       "  </tbody>\n",
       "</table>\n",
       "<p>5 rows × 881 columns</p>\n",
       "</div>"
      ],
      "text/plain": [
       "    cameras  oss  yashica  gz  yellow  32mm  012  gb  go  z212  \\\n",
       "10        0    0        0   0       0     0    0   0   0     0   \n",
       "12        0    0        0   0       0     0    0   0   0     0   \n",
       "13        0    0        0   0       0     0    0   0   0     0   \n",
       "29        0    0        0   0       0     0    0   0   0     0   \n",
       "30        0    0        0   0       0     0    0   0   0     0   \n",
       "\n",
       "              ...              fz43  deluxe  cpt  dvr  \\\n",
       "10            ...                 0       0    0    0   \n",
       "12            ...                 0       0    0    0   \n",
       "13            ...                 0       0    0    0   \n",
       "29            ...                 0       0    0    0   \n",
       "30            ...                 0       0    0    0   \n",
       "\n",
       "                                          ID  Parent_node_1  \\\n",
       "10  jessops-eef411a41cc22390e46da9fa5820aa2c    Cam Corders   \n",
       "12  jessops-40e16c7a65ef1ce88c5b8e86c8b6be61    Cam Corders   \n",
       "13  jessops-3a1342c0cb28dc1d3bab507a1f016cc3    Cam Corders   \n",
       "29  jessops-e459dfc3f0e983f1a5153c64cf6c9dd0    Cam Corders   \n",
       "30  jessops-1f205970ab6aa5842172a4a43fdbadba    Cam Corders   \n",
       "\n",
       "                Parent_node_2                 Leaf_Node  prediction_level1  \\\n",
       "10  Traditional Video Cameras  Common Use Video Cameras        Cam Corders   \n",
       "12  Traditional Video Cameras  Common Use Video Cameras        Cam Corders   \n",
       "13  Traditional Video Cameras  Common Use Video Cameras        Cam Corders   \n",
       "29             Action Cameras        360 Degree Cameras        Cam Corders   \n",
       "30             Action Cameras        360 Degree Cameras        Cam Corders   \n",
       "\n",
       "            prediction_level2  \n",
       "10  Traditional Video Cameras  \n",
       "12  Traditional Video Cameras  \n",
       "13  Traditional Video Cameras  \n",
       "29             Action Cameras  \n",
       "30             Action Cameras  \n",
       "\n",
       "[5 rows x 881 columns]"
      ]
     },
     "execution_count": 69,
     "metadata": {},
     "output_type": "execute_result"
    }
   ],
   "source": [
    "level2_train.head()"
   ]
  },
  {
   "cell_type": "code",
   "execution_count": 70,
   "metadata": {
    "collapsed": true
   },
   "outputs": [],
   "source": [
    "#prediction_level2_camcorders\n",
    "level3_train_actioncameras=level2_train[level2_train['Parent_node_2']=='Action Cameras']"
   ]
  },
  {
   "cell_type": "code",
   "execution_count": 71,
   "metadata": {},
   "outputs": [
    {
     "data": {
      "text/plain": [
       "(58, 881)"
      ]
     },
     "execution_count": 71,
     "metadata": {},
     "output_type": "execute_result"
    }
   ],
   "source": [
    "level3_train_actioncameras.shape"
   ]
  },
  {
   "cell_type": "code",
   "execution_count": 72,
   "metadata": {
    "collapsed": true
   },
   "outputs": [],
   "source": [
    "X_level3_ac=level3_train_actioncameras.drop(['ID','Parent_node_1','Parent_node_2','Leaf_Node','prediction_level1','prediction_level2'],axis=1)\n",
    "y_level3_ac=level3_train_actioncameras['Leaf_Node']"
   ]
  },
  {
   "cell_type": "code",
   "execution_count": 73,
   "metadata": {},
   "outputs": [
    {
     "name": "stdout",
     "output_type": "stream",
     "text": [
      "{'min_samples_split': 2, 'max_leaf_nodes': None, 'criterion': 'entropy', 'max_depth': None, 'min_samples_leaf': 1}\n"
     ]
    }
   ],
   "source": [
    "parameters = [{\"criterion\": [\"gini\", \"entropy\"],\n",
    "              \"min_samples_split\": [2, 10, 20],\n",
    "              \"max_depth\": [None, 5, 10, 15],\n",
    "              \"min_samples_leaf\": [1, 5, 10],\n",
    "              \"max_leaf_nodes\": [None, 5, 10, 20],\n",
    "              }]\n",
    "\n",
    "\n",
    "tree = GridSearchCV(DecisionTreeClassifier(), parameters, cv=5)\n",
    "tree.fit(X_level3_ac, y_level3_ac)\n",
    "print(tree.best_params_)"
   ]
  },
  {
   "cell_type": "code",
   "execution_count": 74,
   "metadata": {
    "collapsed": true
   },
   "outputs": [],
   "source": [
    "from sklearn.tree import DecisionTreeClassifier\n",
    "cv = StratifiedKFold(n_splits=5, shuffle=True, random_state=42)\n",
    "decision_tree = DecisionTreeClassifier(min_samples_split= 2, max_leaf_nodes= 10, criterion= 'entropy', max_depth= 15, min_samples_leaf= 1)\n",
    "target_prediction = cross_val_predict(desicion_tree, X_level3_ac, y_level3_ac, cv=cv)"
   ]
  },
  {
   "cell_type": "code",
   "execution_count": 75,
   "metadata": {},
   "outputs": [
    {
     "name": "stdout",
     "output_type": "stream",
     "text": [
      "Confusion Matrix:\n",
      "                       ____________________________Prediction____________________________\n",
      "                          360 Degree Cameras                  Drone Non 360 Degree Cameras\n",
      "    360 Degree Cameras                    14                      1                      6\n",
      "                 Drone                     2                     12                      1\n",
      "Non 360 Degree Cameras                     5                      1                     16\n",
      "\n",
      "Accuracy Score:\n",
      "0.724137931034\n",
      "()\n",
      "Classification Report:\n",
      "                        precision    recall  f1-score   support\n",
      "\n",
      "    360 Degree Cameras       0.67      0.67      0.67        21\n",
      "                 Drone       0.86      0.80      0.83        15\n",
      "Non 360 Degree Cameras       0.70      0.73      0.71        22\n",
      "\n",
      "           avg / total       0.73      0.72      0.73        58\n",
      "\n"
     ]
    }
   ],
   "source": [
    "analytics(y_level3_ac,target_prediction)"
   ]
  },
  {
   "cell_type": "code",
   "execution_count": 76,
   "metadata": {},
   "outputs": [
    {
     "name": "stderr",
     "output_type": "stream",
     "text": [
      "/Users/bengikoseoglu/anaconda2/lib/python2.7/site-packages/ipykernel_launcher.py:1: SettingWithCopyWarning:\n",
      "\n",
      "\n",
      "A value is trying to be set on a copy of a slice from a DataFrame.\n",
      "Try using .loc[row_indexer,col_indexer] = value instead\n",
      "\n",
      "See the caveats in the documentation: http://pandas.pydata.org/pandas-docs/stable/indexing.html#indexing-view-versus-copy\n",
      "\n"
     ]
    }
   ],
   "source": [
    "level3_train_actioncameras['prediction_level3']=target_prediction"
   ]
  },
  {
   "cell_type": "markdown",
   "metadata": {},
   "source": [
    "### Cameras"
   ]
  },
  {
   "cell_type": "code",
   "execution_count": 77,
   "metadata": {},
   "outputs": [
    {
     "data": {
      "text/html": [
       "<div>\n",
       "<style>\n",
       "    .dataframe thead tr:only-child th {\n",
       "        text-align: right;\n",
       "    }\n",
       "\n",
       "    .dataframe thead th {\n",
       "        text-align: left;\n",
       "    }\n",
       "\n",
       "    .dataframe tbody tr th {\n",
       "        vertical-align: top;\n",
       "    }\n",
       "</style>\n",
       "<table border=\"1\" class=\"dataframe\">\n",
       "  <thead>\n",
       "    <tr style=\"text-align: right;\">\n",
       "      <th></th>\n",
       "      <th>cameras</th>\n",
       "      <th>oss</th>\n",
       "      <th>yashica</th>\n",
       "      <th>gz</th>\n",
       "      <th>yellow</th>\n",
       "      <th>32mm</th>\n",
       "      <th>012</th>\n",
       "      <th>gb</th>\n",
       "      <th>go</th>\n",
       "      <th>z212</th>\n",
       "      <th>...</th>\n",
       "      <th>karma</th>\n",
       "      <th>fz43</th>\n",
       "      <th>deluxe</th>\n",
       "      <th>cpt</th>\n",
       "      <th>dvr</th>\n",
       "      <th>ID</th>\n",
       "      <th>Parent_node_1</th>\n",
       "      <th>Parent_node_2</th>\n",
       "      <th>Leaf_Node</th>\n",
       "      <th>prediction_level1</th>\n",
       "    </tr>\n",
       "  </thead>\n",
       "  <tbody>\n",
       "    <tr>\n",
       "      <th>0</th>\n",
       "      <td>0</td>\n",
       "      <td>0</td>\n",
       "      <td>0</td>\n",
       "      <td>0</td>\n",
       "      <td>0</td>\n",
       "      <td>0</td>\n",
       "      <td>0</td>\n",
       "      <td>0</td>\n",
       "      <td>0</td>\n",
       "      <td>0</td>\n",
       "      <td>...</td>\n",
       "      <td>0</td>\n",
       "      <td>0</td>\n",
       "      <td>0</td>\n",
       "      <td>0</td>\n",
       "      <td>0</td>\n",
       "      <td>jessops-f2dd233dd6100c900432fd2902df8cde</td>\n",
       "      <td>Photo Devices</td>\n",
       "      <td>Point &amp; Shoot Cameras</td>\n",
       "      <td>Bridge Cameras</td>\n",
       "      <td>Photo Devices</td>\n",
       "    </tr>\n",
       "    <tr>\n",
       "      <th>1</th>\n",
       "      <td>0</td>\n",
       "      <td>0</td>\n",
       "      <td>0</td>\n",
       "      <td>0</td>\n",
       "      <td>0</td>\n",
       "      <td>0</td>\n",
       "      <td>0</td>\n",
       "      <td>0</td>\n",
       "      <td>0</td>\n",
       "      <td>0</td>\n",
       "      <td>...</td>\n",
       "      <td>0</td>\n",
       "      <td>0</td>\n",
       "      <td>0</td>\n",
       "      <td>0</td>\n",
       "      <td>0</td>\n",
       "      <td>jessops-ff2be7ba459709194635812c728a17fd</td>\n",
       "      <td>Photo Devices</td>\n",
       "      <td>DSLR</td>\n",
       "      <td>DSLR</td>\n",
       "      <td>Photo Devices</td>\n",
       "    </tr>\n",
       "    <tr>\n",
       "      <th>2</th>\n",
       "      <td>0</td>\n",
       "      <td>0</td>\n",
       "      <td>0</td>\n",
       "      <td>0</td>\n",
       "      <td>0</td>\n",
       "      <td>0</td>\n",
       "      <td>0</td>\n",
       "      <td>0</td>\n",
       "      <td>0</td>\n",
       "      <td>0</td>\n",
       "      <td>...</td>\n",
       "      <td>0</td>\n",
       "      <td>0</td>\n",
       "      <td>0</td>\n",
       "      <td>0</td>\n",
       "      <td>0</td>\n",
       "      <td>jessops-acfa4e6fdc0962be2da5bc1ed8d44357</td>\n",
       "      <td>Photo Devices</td>\n",
       "      <td>DSLR</td>\n",
       "      <td>DSLR</td>\n",
       "      <td>Photo Devices</td>\n",
       "    </tr>\n",
       "    <tr>\n",
       "      <th>3</th>\n",
       "      <td>0</td>\n",
       "      <td>0</td>\n",
       "      <td>0</td>\n",
       "      <td>0</td>\n",
       "      <td>0</td>\n",
       "      <td>0</td>\n",
       "      <td>0</td>\n",
       "      <td>0</td>\n",
       "      <td>0</td>\n",
       "      <td>0</td>\n",
       "      <td>...</td>\n",
       "      <td>0</td>\n",
       "      <td>0</td>\n",
       "      <td>0</td>\n",
       "      <td>0</td>\n",
       "      <td>0</td>\n",
       "      <td>jessops-cabb446087d8428bfa741078869439b8</td>\n",
       "      <td>Photo Devices</td>\n",
       "      <td>DSLR</td>\n",
       "      <td>DSLR</td>\n",
       "      <td>Photo Devices</td>\n",
       "    </tr>\n",
       "    <tr>\n",
       "      <th>4</th>\n",
       "      <td>0</td>\n",
       "      <td>0</td>\n",
       "      <td>0</td>\n",
       "      <td>0</td>\n",
       "      <td>0</td>\n",
       "      <td>0</td>\n",
       "      <td>0</td>\n",
       "      <td>0</td>\n",
       "      <td>0</td>\n",
       "      <td>0</td>\n",
       "      <td>...</td>\n",
       "      <td>0</td>\n",
       "      <td>1</td>\n",
       "      <td>0</td>\n",
       "      <td>0</td>\n",
       "      <td>0</td>\n",
       "      <td>jessops-8c6e0672aa9297ee8ff4d95fa5e2edc0</td>\n",
       "      <td>Photo Devices</td>\n",
       "      <td>Mirrorless Cameras</td>\n",
       "      <td>Full Frame Mirrorless Camera</td>\n",
       "      <td>Photo Devices</td>\n",
       "    </tr>\n",
       "  </tbody>\n",
       "</table>\n",
       "<p>5 rows × 880 columns</p>\n",
       "</div>"
      ],
      "text/plain": [
       "   cameras  oss  yashica  gz  yellow  32mm  012  gb  go  z212  \\\n",
       "0        0    0        0   0       0     0    0   0   0     0   \n",
       "1        0    0        0   0       0     0    0   0   0     0   \n",
       "2        0    0        0   0       0     0    0   0   0     0   \n",
       "3        0    0        0   0       0     0    0   0   0     0   \n",
       "4        0    0        0   0       0     0    0   0   0     0   \n",
       "\n",
       "         ...          karma  fz43  deluxe  cpt  dvr  \\\n",
       "0        ...              0     0       0    0    0   \n",
       "1        ...              0     0       0    0    0   \n",
       "2        ...              0     0       0    0    0   \n",
       "3        ...              0     0       0    0    0   \n",
       "4        ...              0     1       0    0    0   \n",
       "\n",
       "                                         ID  Parent_node_1  \\\n",
       "0  jessops-f2dd233dd6100c900432fd2902df8cde  Photo Devices   \n",
       "1  jessops-ff2be7ba459709194635812c728a17fd  Photo Devices   \n",
       "2  jessops-acfa4e6fdc0962be2da5bc1ed8d44357  Photo Devices   \n",
       "3  jessops-cabb446087d8428bfa741078869439b8  Photo Devices   \n",
       "4  jessops-8c6e0672aa9297ee8ff4d95fa5e2edc0  Photo Devices   \n",
       "\n",
       "           Parent_node_2                     Leaf_Node  prediction_level1  \n",
       "0  Point & Shoot Cameras                Bridge Cameras      Photo Devices  \n",
       "1                   DSLR                          DSLR      Photo Devices  \n",
       "2                   DSLR                          DSLR      Photo Devices  \n",
       "3                   DSLR                          DSLR      Photo Devices  \n",
       "4     Mirrorless Cameras  Full Frame Mirrorless Camera      Photo Devices  \n",
       "\n",
       "[5 rows x 880 columns]"
      ]
     },
     "execution_count": 77,
     "metadata": {},
     "output_type": "execute_result"
    }
   ],
   "source": [
    "bags_words.head()"
   ]
  },
  {
   "cell_type": "code",
   "execution_count": 78,
   "metadata": {
    "collapsed": true
   },
   "outputs": [],
   "source": [
    "level2_train_cam=bags_words[bags_words['Parent_node_1']=='Photo Devices']"
   ]
  },
  {
   "cell_type": "code",
   "execution_count": 79,
   "metadata": {},
   "outputs": [
    {
     "data": {
      "text/plain": [
       "(286, 880)"
      ]
     },
     "execution_count": 79,
     "metadata": {},
     "output_type": "execute_result"
    }
   ],
   "source": [
    "level2_train_cam.shape"
   ]
  },
  {
   "cell_type": "code",
   "execution_count": 80,
   "metadata": {},
   "outputs": [
    {
     "data": {
      "text/html": [
       "<div>\n",
       "<style>\n",
       "    .dataframe thead tr:only-child th {\n",
       "        text-align: right;\n",
       "    }\n",
       "\n",
       "    .dataframe thead th {\n",
       "        text-align: left;\n",
       "    }\n",
       "\n",
       "    .dataframe tbody tr th {\n",
       "        vertical-align: top;\n",
       "    }\n",
       "</style>\n",
       "<table border=\"1\" class=\"dataframe\">\n",
       "  <thead>\n",
       "    <tr style=\"text-align: right;\">\n",
       "      <th></th>\n",
       "      <th>cameras</th>\n",
       "      <th>oss</th>\n",
       "      <th>yashica</th>\n",
       "      <th>gz</th>\n",
       "      <th>yellow</th>\n",
       "      <th>32mm</th>\n",
       "      <th>012</th>\n",
       "      <th>gb</th>\n",
       "      <th>go</th>\n",
       "      <th>z212</th>\n",
       "      <th>...</th>\n",
       "      <th>karma</th>\n",
       "      <th>fz43</th>\n",
       "      <th>deluxe</th>\n",
       "      <th>cpt</th>\n",
       "      <th>dvr</th>\n",
       "      <th>ID</th>\n",
       "      <th>Parent_node_1</th>\n",
       "      <th>Parent_node_2</th>\n",
       "      <th>Leaf_Node</th>\n",
       "      <th>prediction_level1</th>\n",
       "    </tr>\n",
       "  </thead>\n",
       "  <tbody>\n",
       "    <tr>\n",
       "      <th>0</th>\n",
       "      <td>0</td>\n",
       "      <td>0</td>\n",
       "      <td>0</td>\n",
       "      <td>0</td>\n",
       "      <td>0</td>\n",
       "      <td>0</td>\n",
       "      <td>0</td>\n",
       "      <td>0</td>\n",
       "      <td>0</td>\n",
       "      <td>0</td>\n",
       "      <td>...</td>\n",
       "      <td>0</td>\n",
       "      <td>0</td>\n",
       "      <td>0</td>\n",
       "      <td>0</td>\n",
       "      <td>0</td>\n",
       "      <td>jessops-f2dd233dd6100c900432fd2902df8cde</td>\n",
       "      <td>Photo Devices</td>\n",
       "      <td>Point &amp; Shoot Cameras</td>\n",
       "      <td>Bridge Cameras</td>\n",
       "      <td>Photo Devices</td>\n",
       "    </tr>\n",
       "    <tr>\n",
       "      <th>1</th>\n",
       "      <td>0</td>\n",
       "      <td>0</td>\n",
       "      <td>0</td>\n",
       "      <td>0</td>\n",
       "      <td>0</td>\n",
       "      <td>0</td>\n",
       "      <td>0</td>\n",
       "      <td>0</td>\n",
       "      <td>0</td>\n",
       "      <td>0</td>\n",
       "      <td>...</td>\n",
       "      <td>0</td>\n",
       "      <td>0</td>\n",
       "      <td>0</td>\n",
       "      <td>0</td>\n",
       "      <td>0</td>\n",
       "      <td>jessops-ff2be7ba459709194635812c728a17fd</td>\n",
       "      <td>Photo Devices</td>\n",
       "      <td>DSLR</td>\n",
       "      <td>DSLR</td>\n",
       "      <td>Photo Devices</td>\n",
       "    </tr>\n",
       "    <tr>\n",
       "      <th>2</th>\n",
       "      <td>0</td>\n",
       "      <td>0</td>\n",
       "      <td>0</td>\n",
       "      <td>0</td>\n",
       "      <td>0</td>\n",
       "      <td>0</td>\n",
       "      <td>0</td>\n",
       "      <td>0</td>\n",
       "      <td>0</td>\n",
       "      <td>0</td>\n",
       "      <td>...</td>\n",
       "      <td>0</td>\n",
       "      <td>0</td>\n",
       "      <td>0</td>\n",
       "      <td>0</td>\n",
       "      <td>0</td>\n",
       "      <td>jessops-acfa4e6fdc0962be2da5bc1ed8d44357</td>\n",
       "      <td>Photo Devices</td>\n",
       "      <td>DSLR</td>\n",
       "      <td>DSLR</td>\n",
       "      <td>Photo Devices</td>\n",
       "    </tr>\n",
       "    <tr>\n",
       "      <th>3</th>\n",
       "      <td>0</td>\n",
       "      <td>0</td>\n",
       "      <td>0</td>\n",
       "      <td>0</td>\n",
       "      <td>0</td>\n",
       "      <td>0</td>\n",
       "      <td>0</td>\n",
       "      <td>0</td>\n",
       "      <td>0</td>\n",
       "      <td>0</td>\n",
       "      <td>...</td>\n",
       "      <td>0</td>\n",
       "      <td>0</td>\n",
       "      <td>0</td>\n",
       "      <td>0</td>\n",
       "      <td>0</td>\n",
       "      <td>jessops-cabb446087d8428bfa741078869439b8</td>\n",
       "      <td>Photo Devices</td>\n",
       "      <td>DSLR</td>\n",
       "      <td>DSLR</td>\n",
       "      <td>Photo Devices</td>\n",
       "    </tr>\n",
       "    <tr>\n",
       "      <th>4</th>\n",
       "      <td>0</td>\n",
       "      <td>0</td>\n",
       "      <td>0</td>\n",
       "      <td>0</td>\n",
       "      <td>0</td>\n",
       "      <td>0</td>\n",
       "      <td>0</td>\n",
       "      <td>0</td>\n",
       "      <td>0</td>\n",
       "      <td>0</td>\n",
       "      <td>...</td>\n",
       "      <td>0</td>\n",
       "      <td>1</td>\n",
       "      <td>0</td>\n",
       "      <td>0</td>\n",
       "      <td>0</td>\n",
       "      <td>jessops-8c6e0672aa9297ee8ff4d95fa5e2edc0</td>\n",
       "      <td>Photo Devices</td>\n",
       "      <td>Mirrorless Cameras</td>\n",
       "      <td>Full Frame Mirrorless Camera</td>\n",
       "      <td>Photo Devices</td>\n",
       "    </tr>\n",
       "  </tbody>\n",
       "</table>\n",
       "<p>5 rows × 880 columns</p>\n",
       "</div>"
      ],
      "text/plain": [
       "   cameras  oss  yashica  gz  yellow  32mm  012  gb  go  z212  \\\n",
       "0        0    0        0   0       0     0    0   0   0     0   \n",
       "1        0    0        0   0       0     0    0   0   0     0   \n",
       "2        0    0        0   0       0     0    0   0   0     0   \n",
       "3        0    0        0   0       0     0    0   0   0     0   \n",
       "4        0    0        0   0       0     0    0   0   0     0   \n",
       "\n",
       "         ...          karma  fz43  deluxe  cpt  dvr  \\\n",
       "0        ...              0     0       0    0    0   \n",
       "1        ...              0     0       0    0    0   \n",
       "2        ...              0     0       0    0    0   \n",
       "3        ...              0     0       0    0    0   \n",
       "4        ...              0     1       0    0    0   \n",
       "\n",
       "                                         ID  Parent_node_1  \\\n",
       "0  jessops-f2dd233dd6100c900432fd2902df8cde  Photo Devices   \n",
       "1  jessops-ff2be7ba459709194635812c728a17fd  Photo Devices   \n",
       "2  jessops-acfa4e6fdc0962be2da5bc1ed8d44357  Photo Devices   \n",
       "3  jessops-cabb446087d8428bfa741078869439b8  Photo Devices   \n",
       "4  jessops-8c6e0672aa9297ee8ff4d95fa5e2edc0  Photo Devices   \n",
       "\n",
       "           Parent_node_2                     Leaf_Node  prediction_level1  \n",
       "0  Point & Shoot Cameras                Bridge Cameras      Photo Devices  \n",
       "1                   DSLR                          DSLR      Photo Devices  \n",
       "2                   DSLR                          DSLR      Photo Devices  \n",
       "3                   DSLR                          DSLR      Photo Devices  \n",
       "4     Mirrorless Cameras  Full Frame Mirrorless Camera      Photo Devices  \n",
       "\n",
       "[5 rows x 880 columns]"
      ]
     },
     "execution_count": 80,
     "metadata": {},
     "output_type": "execute_result"
    }
   ],
   "source": [
    "level2_train_cam.head()"
   ]
  },
  {
   "cell_type": "code",
   "execution_count": 81,
   "metadata": {
    "collapsed": true
   },
   "outputs": [],
   "source": [
    "X_level2_cam=level2_train_cam.drop(['ID','Parent_node_1','Parent_node_2','Leaf_Node','prediction_level1'],axis=1)\n",
    "y_level2_cam=level2_train_cam['Parent_node_2']"
   ]
  },
  {
   "cell_type": "code",
   "execution_count": 82,
   "metadata": {},
   "outputs": [
    {
     "name": "stdout",
     "output_type": "stream",
     "text": [
      "{'min_samples_split': 2, 'max_leaf_nodes': 20, 'criterion': 'entropy', 'max_depth': 5, 'min_samples_leaf': 1}\n"
     ]
    }
   ],
   "source": [
    "parameters = [{\"criterion\": [\"gini\", \"entropy\"],\n",
    "              \"min_samples_split\": [2, 10, 20],\n",
    "              \"max_depth\": [None, 5, 10, 15],\n",
    "              \"min_samples_leaf\": [1, 5, 10],\n",
    "              \"max_leaf_nodes\": [None, 5, 10, 20],\n",
    "              }]\n",
    "\n",
    "tree = GridSearchCV(DecisionTreeClassifier(), parameters, cv=5)\n",
    "tree.fit(X_level2_cam, y_level2_cam)\n",
    "print(tree.best_params_)"
   ]
  },
  {
   "cell_type": "code",
   "execution_count": 83,
   "metadata": {
    "collapsed": true
   },
   "outputs": [],
   "source": [
    "from sklearn.tree import DecisionTreeClassifier\n",
    "decision_tree = DecisionTreeClassifier(min_samples_split= 2, max_leaf_nodes= 20, criterion= 'entropy', max_depth= 5, min_samples_leaf= 1)\n",
    "cv = StratifiedKFold(n_splits=5, shuffle=True, random_state=42)\n",
    "target_prediction = cross_val_predict(desicion_tree, X_level2_cam, y_level2_cam, cv=cv)\n"
   ]
  },
  {
   "cell_type": "code",
   "execution_count": 84,
   "metadata": {},
   "outputs": [
    {
     "name": "stdout",
     "output_type": "stream",
     "text": [
      "Confusion Matrix:\n",
      "                      __________________________Prediction___________________________\n",
      "                                      DSLR    Mirrorless Cameras Point & Shoot Cameras\n",
      "                 DSLR                   58                     5                     9\n",
      "   Mirrorless Cameras                   10                    61                    10\n",
      "Point & Shoot Cameras                    2                     6                   125\n",
      "\n",
      "Accuracy Score:\n",
      "0.853146853147\n",
      "()\n",
      "Classification Report:\n",
      "                       precision    recall  f1-score   support\n",
      "\n",
      "                 DSLR       0.83      0.81      0.82        72\n",
      "   Mirrorless Cameras       0.85      0.75      0.80        81\n",
      "Point & Shoot Cameras       0.87      0.94      0.90       133\n",
      "\n",
      "          avg / total       0.85      0.85      0.85       286\n",
      "\n"
     ]
    }
   ],
   "source": [
    "analytics(y_level2_cam,target_prediction) #"
   ]
  },
  {
   "cell_type": "code",
   "execution_count": 85,
   "metadata": {},
   "outputs": [
    {
     "name": "stderr",
     "output_type": "stream",
     "text": [
      "/Users/bengikoseoglu/anaconda2/lib/python2.7/site-packages/ipykernel_launcher.py:1: SettingWithCopyWarning:\n",
      "\n",
      "\n",
      "A value is trying to be set on a copy of a slice from a DataFrame.\n",
      "Try using .loc[row_indexer,col_indexer] = value instead\n",
      "\n",
      "See the caveats in the documentation: http://pandas.pydata.org/pandas-docs/stable/indexing.html#indexing-view-versus-copy\n",
      "\n"
     ]
    }
   ],
   "source": [
    "level2_train_cam['prediction_level2']=target_prediction"
   ]
  },
  {
   "cell_type": "code",
   "execution_count": 86,
   "metadata": {},
   "outputs": [
    {
     "data": {
      "text/html": [
       "<div>\n",
       "<style>\n",
       "    .dataframe thead tr:only-child th {\n",
       "        text-align: right;\n",
       "    }\n",
       "\n",
       "    .dataframe thead th {\n",
       "        text-align: left;\n",
       "    }\n",
       "\n",
       "    .dataframe tbody tr th {\n",
       "        vertical-align: top;\n",
       "    }\n",
       "</style>\n",
       "<table border=\"1\" class=\"dataframe\">\n",
       "  <thead>\n",
       "    <tr style=\"text-align: right;\">\n",
       "      <th></th>\n",
       "      <th>cameras</th>\n",
       "      <th>oss</th>\n",
       "      <th>yashica</th>\n",
       "      <th>gz</th>\n",
       "      <th>yellow</th>\n",
       "      <th>32mm</th>\n",
       "      <th>012</th>\n",
       "      <th>gb</th>\n",
       "      <th>go</th>\n",
       "      <th>z212</th>\n",
       "      <th>...</th>\n",
       "      <th>fz43</th>\n",
       "      <th>deluxe</th>\n",
       "      <th>cpt</th>\n",
       "      <th>dvr</th>\n",
       "      <th>ID</th>\n",
       "      <th>Parent_node_1</th>\n",
       "      <th>Parent_node_2</th>\n",
       "      <th>Leaf_Node</th>\n",
       "      <th>prediction_level1</th>\n",
       "      <th>prediction_level2</th>\n",
       "    </tr>\n",
       "  </thead>\n",
       "  <tbody>\n",
       "    <tr>\n",
       "      <th>0</th>\n",
       "      <td>0</td>\n",
       "      <td>0</td>\n",
       "      <td>0</td>\n",
       "      <td>0</td>\n",
       "      <td>0</td>\n",
       "      <td>0</td>\n",
       "      <td>0</td>\n",
       "      <td>0</td>\n",
       "      <td>0</td>\n",
       "      <td>0</td>\n",
       "      <td>...</td>\n",
       "      <td>0</td>\n",
       "      <td>0</td>\n",
       "      <td>0</td>\n",
       "      <td>0</td>\n",
       "      <td>jessops-f2dd233dd6100c900432fd2902df8cde</td>\n",
       "      <td>Photo Devices</td>\n",
       "      <td>Point &amp; Shoot Cameras</td>\n",
       "      <td>Bridge Cameras</td>\n",
       "      <td>Photo Devices</td>\n",
       "      <td>Point &amp; Shoot Cameras</td>\n",
       "    </tr>\n",
       "    <tr>\n",
       "      <th>1</th>\n",
       "      <td>0</td>\n",
       "      <td>0</td>\n",
       "      <td>0</td>\n",
       "      <td>0</td>\n",
       "      <td>0</td>\n",
       "      <td>0</td>\n",
       "      <td>0</td>\n",
       "      <td>0</td>\n",
       "      <td>0</td>\n",
       "      <td>0</td>\n",
       "      <td>...</td>\n",
       "      <td>0</td>\n",
       "      <td>0</td>\n",
       "      <td>0</td>\n",
       "      <td>0</td>\n",
       "      <td>jessops-ff2be7ba459709194635812c728a17fd</td>\n",
       "      <td>Photo Devices</td>\n",
       "      <td>DSLR</td>\n",
       "      <td>DSLR</td>\n",
       "      <td>Photo Devices</td>\n",
       "      <td>DSLR</td>\n",
       "    </tr>\n",
       "    <tr>\n",
       "      <th>2</th>\n",
       "      <td>0</td>\n",
       "      <td>0</td>\n",
       "      <td>0</td>\n",
       "      <td>0</td>\n",
       "      <td>0</td>\n",
       "      <td>0</td>\n",
       "      <td>0</td>\n",
       "      <td>0</td>\n",
       "      <td>0</td>\n",
       "      <td>0</td>\n",
       "      <td>...</td>\n",
       "      <td>0</td>\n",
       "      <td>0</td>\n",
       "      <td>0</td>\n",
       "      <td>0</td>\n",
       "      <td>jessops-acfa4e6fdc0962be2da5bc1ed8d44357</td>\n",
       "      <td>Photo Devices</td>\n",
       "      <td>DSLR</td>\n",
       "      <td>DSLR</td>\n",
       "      <td>Photo Devices</td>\n",
       "      <td>DSLR</td>\n",
       "    </tr>\n",
       "    <tr>\n",
       "      <th>3</th>\n",
       "      <td>0</td>\n",
       "      <td>0</td>\n",
       "      <td>0</td>\n",
       "      <td>0</td>\n",
       "      <td>0</td>\n",
       "      <td>0</td>\n",
       "      <td>0</td>\n",
       "      <td>0</td>\n",
       "      <td>0</td>\n",
       "      <td>0</td>\n",
       "      <td>...</td>\n",
       "      <td>0</td>\n",
       "      <td>0</td>\n",
       "      <td>0</td>\n",
       "      <td>0</td>\n",
       "      <td>jessops-cabb446087d8428bfa741078869439b8</td>\n",
       "      <td>Photo Devices</td>\n",
       "      <td>DSLR</td>\n",
       "      <td>DSLR</td>\n",
       "      <td>Photo Devices</td>\n",
       "      <td>DSLR</td>\n",
       "    </tr>\n",
       "    <tr>\n",
       "      <th>4</th>\n",
       "      <td>0</td>\n",
       "      <td>0</td>\n",
       "      <td>0</td>\n",
       "      <td>0</td>\n",
       "      <td>0</td>\n",
       "      <td>0</td>\n",
       "      <td>0</td>\n",
       "      <td>0</td>\n",
       "      <td>0</td>\n",
       "      <td>0</td>\n",
       "      <td>...</td>\n",
       "      <td>1</td>\n",
       "      <td>0</td>\n",
       "      <td>0</td>\n",
       "      <td>0</td>\n",
       "      <td>jessops-8c6e0672aa9297ee8ff4d95fa5e2edc0</td>\n",
       "      <td>Photo Devices</td>\n",
       "      <td>Mirrorless Cameras</td>\n",
       "      <td>Full Frame Mirrorless Camera</td>\n",
       "      <td>Photo Devices</td>\n",
       "      <td>Mirrorless Cameras</td>\n",
       "    </tr>\n",
       "  </tbody>\n",
       "</table>\n",
       "<p>5 rows × 881 columns</p>\n",
       "</div>"
      ],
      "text/plain": [
       "   cameras  oss  yashica  gz  yellow  32mm  012  gb  go  z212  \\\n",
       "0        0    0        0   0       0     0    0   0   0     0   \n",
       "1        0    0        0   0       0     0    0   0   0     0   \n",
       "2        0    0        0   0       0     0    0   0   0     0   \n",
       "3        0    0        0   0       0     0    0   0   0     0   \n",
       "4        0    0        0   0       0     0    0   0   0     0   \n",
       "\n",
       "           ...            fz43  deluxe  cpt  dvr  \\\n",
       "0          ...               0       0    0    0   \n",
       "1          ...               0       0    0    0   \n",
       "2          ...               0       0    0    0   \n",
       "3          ...               0       0    0    0   \n",
       "4          ...               1       0    0    0   \n",
       "\n",
       "                                         ID  Parent_node_1  \\\n",
       "0  jessops-f2dd233dd6100c900432fd2902df8cde  Photo Devices   \n",
       "1  jessops-ff2be7ba459709194635812c728a17fd  Photo Devices   \n",
       "2  jessops-acfa4e6fdc0962be2da5bc1ed8d44357  Photo Devices   \n",
       "3  jessops-cabb446087d8428bfa741078869439b8  Photo Devices   \n",
       "4  jessops-8c6e0672aa9297ee8ff4d95fa5e2edc0  Photo Devices   \n",
       "\n",
       "           Parent_node_2                     Leaf_Node  prediction_level1  \\\n",
       "0  Point & Shoot Cameras                Bridge Cameras      Photo Devices   \n",
       "1                   DSLR                          DSLR      Photo Devices   \n",
       "2                   DSLR                          DSLR      Photo Devices   \n",
       "3                   DSLR                          DSLR      Photo Devices   \n",
       "4     Mirrorless Cameras  Full Frame Mirrorless Camera      Photo Devices   \n",
       "\n",
       "       prediction_level2  \n",
       "0  Point & Shoot Cameras  \n",
       "1                   DSLR  \n",
       "2                   DSLR  \n",
       "3                   DSLR  \n",
       "4     Mirrorless Cameras  \n",
       "\n",
       "[5 rows x 881 columns]"
      ]
     },
     "execution_count": 86,
     "metadata": {},
     "output_type": "execute_result"
    }
   ],
   "source": [
    "level2_train_cam.head()"
   ]
  },
  {
   "cell_type": "markdown",
   "metadata": {},
   "source": [
    "#### 1. Point & Shoot Cameras"
   ]
  },
  {
   "cell_type": "code",
   "execution_count": 87,
   "metadata": {
    "collapsed": true
   },
   "outputs": [],
   "source": [
    "#prediction_level2_camcorders\n",
    "level3_train_pocam=level2_train_cam[level2_train_cam['Parent_node_2']=='Point & Shoot Cameras']"
   ]
  },
  {
   "cell_type": "code",
   "execution_count": 88,
   "metadata": {},
   "outputs": [
    {
     "data": {
      "text/plain": [
       "(133, 881)"
      ]
     },
     "execution_count": 88,
     "metadata": {},
     "output_type": "execute_result"
    }
   ],
   "source": [
    "level3_train_pocam.shape"
   ]
  },
  {
   "cell_type": "code",
   "execution_count": 89,
   "metadata": {},
   "outputs": [
    {
     "data": {
      "text/html": [
       "<div>\n",
       "<style>\n",
       "    .dataframe thead tr:only-child th {\n",
       "        text-align: right;\n",
       "    }\n",
       "\n",
       "    .dataframe thead th {\n",
       "        text-align: left;\n",
       "    }\n",
       "\n",
       "    .dataframe tbody tr th {\n",
       "        vertical-align: top;\n",
       "    }\n",
       "</style>\n",
       "<table border=\"1\" class=\"dataframe\">\n",
       "  <thead>\n",
       "    <tr style=\"text-align: right;\">\n",
       "      <th></th>\n",
       "      <th>cameras</th>\n",
       "      <th>oss</th>\n",
       "      <th>yashica</th>\n",
       "      <th>gz</th>\n",
       "      <th>yellow</th>\n",
       "      <th>32mm</th>\n",
       "      <th>012</th>\n",
       "      <th>gb</th>\n",
       "      <th>go</th>\n",
       "      <th>z212</th>\n",
       "      <th>...</th>\n",
       "      <th>fz43</th>\n",
       "      <th>deluxe</th>\n",
       "      <th>cpt</th>\n",
       "      <th>dvr</th>\n",
       "      <th>ID</th>\n",
       "      <th>Parent_node_1</th>\n",
       "      <th>Parent_node_2</th>\n",
       "      <th>Leaf_Node</th>\n",
       "      <th>prediction_level1</th>\n",
       "      <th>prediction_level2</th>\n",
       "    </tr>\n",
       "  </thead>\n",
       "  <tbody>\n",
       "    <tr>\n",
       "      <th>0</th>\n",
       "      <td>0</td>\n",
       "      <td>0</td>\n",
       "      <td>0</td>\n",
       "      <td>0</td>\n",
       "      <td>0</td>\n",
       "      <td>0</td>\n",
       "      <td>0</td>\n",
       "      <td>0</td>\n",
       "      <td>0</td>\n",
       "      <td>0</td>\n",
       "      <td>...</td>\n",
       "      <td>0</td>\n",
       "      <td>0</td>\n",
       "      <td>0</td>\n",
       "      <td>0</td>\n",
       "      <td>jessops-f2dd233dd6100c900432fd2902df8cde</td>\n",
       "      <td>Photo Devices</td>\n",
       "      <td>Point &amp; Shoot Cameras</td>\n",
       "      <td>Bridge Cameras</td>\n",
       "      <td>Photo Devices</td>\n",
       "      <td>Point &amp; Shoot Cameras</td>\n",
       "    </tr>\n",
       "    <tr>\n",
       "      <th>8</th>\n",
       "      <td>0</td>\n",
       "      <td>0</td>\n",
       "      <td>0</td>\n",
       "      <td>0</td>\n",
       "      <td>0</td>\n",
       "      <td>0</td>\n",
       "      <td>0</td>\n",
       "      <td>0</td>\n",
       "      <td>0</td>\n",
       "      <td>0</td>\n",
       "      <td>...</td>\n",
       "      <td>0</td>\n",
       "      <td>0</td>\n",
       "      <td>0</td>\n",
       "      <td>0</td>\n",
       "      <td>jessops-f878d99e72c12c0ffc9184a4376cac78</td>\n",
       "      <td>Photo Devices</td>\n",
       "      <td>Point &amp; Shoot Cameras</td>\n",
       "      <td>Bridge Cameras</td>\n",
       "      <td>Photo Devices</td>\n",
       "      <td>Point &amp; Shoot Cameras</td>\n",
       "    </tr>\n",
       "    <tr>\n",
       "      <th>9</th>\n",
       "      <td>0</td>\n",
       "      <td>0</td>\n",
       "      <td>0</td>\n",
       "      <td>0</td>\n",
       "      <td>0</td>\n",
       "      <td>0</td>\n",
       "      <td>0</td>\n",
       "      <td>0</td>\n",
       "      <td>0</td>\n",
       "      <td>0</td>\n",
       "      <td>...</td>\n",
       "      <td>0</td>\n",
       "      <td>0</td>\n",
       "      <td>0</td>\n",
       "      <td>0</td>\n",
       "      <td>jessops-87b405e744f1ff5d6594ef41c18b8111</td>\n",
       "      <td>Photo Devices</td>\n",
       "      <td>Point &amp; Shoot Cameras</td>\n",
       "      <td>Digital Compact Cameras</td>\n",
       "      <td>Photo Devices</td>\n",
       "      <td>Point &amp; Shoot Cameras</td>\n",
       "    </tr>\n",
       "    <tr>\n",
       "      <th>11</th>\n",
       "      <td>0</td>\n",
       "      <td>0</td>\n",
       "      <td>0</td>\n",
       "      <td>0</td>\n",
       "      <td>0</td>\n",
       "      <td>0</td>\n",
       "      <td>0</td>\n",
       "      <td>0</td>\n",
       "      <td>0</td>\n",
       "      <td>0</td>\n",
       "      <td>...</td>\n",
       "      <td>0</td>\n",
       "      <td>0</td>\n",
       "      <td>0</td>\n",
       "      <td>0</td>\n",
       "      <td>jessops-1fa4b20f6930618aa81001b0c68d5e21</td>\n",
       "      <td>Photo Devices</td>\n",
       "      <td>Point &amp; Shoot Cameras</td>\n",
       "      <td>Digital Compact Cameras</td>\n",
       "      <td>Photo Devices</td>\n",
       "      <td>Point &amp; Shoot Cameras</td>\n",
       "    </tr>\n",
       "    <tr>\n",
       "      <th>16</th>\n",
       "      <td>0</td>\n",
       "      <td>0</td>\n",
       "      <td>0</td>\n",
       "      <td>0</td>\n",
       "      <td>0</td>\n",
       "      <td>0</td>\n",
       "      <td>0</td>\n",
       "      <td>0</td>\n",
       "      <td>0</td>\n",
       "      <td>0</td>\n",
       "      <td>...</td>\n",
       "      <td>0</td>\n",
       "      <td>0</td>\n",
       "      <td>0</td>\n",
       "      <td>0</td>\n",
       "      <td>jessops-36876506797a620a214f049ca19f70e5</td>\n",
       "      <td>Photo Devices</td>\n",
       "      <td>Point &amp; Shoot Cameras</td>\n",
       "      <td>Bridge Cameras</td>\n",
       "      <td>Photo Devices</td>\n",
       "      <td>Point &amp; Shoot Cameras</td>\n",
       "    </tr>\n",
       "  </tbody>\n",
       "</table>\n",
       "<p>5 rows × 881 columns</p>\n",
       "</div>"
      ],
      "text/plain": [
       "    cameras  oss  yashica  gz  yellow  32mm  012  gb  go  z212  \\\n",
       "0         0    0        0   0       0     0    0   0   0     0   \n",
       "8         0    0        0   0       0     0    0   0   0     0   \n",
       "9         0    0        0   0       0     0    0   0   0     0   \n",
       "11        0    0        0   0       0     0    0   0   0     0   \n",
       "16        0    0        0   0       0     0    0   0   0     0   \n",
       "\n",
       "            ...            fz43  deluxe  cpt  dvr  \\\n",
       "0           ...               0       0    0    0   \n",
       "8           ...               0       0    0    0   \n",
       "9           ...               0       0    0    0   \n",
       "11          ...               0       0    0    0   \n",
       "16          ...               0       0    0    0   \n",
       "\n",
       "                                          ID  Parent_node_1  \\\n",
       "0   jessops-f2dd233dd6100c900432fd2902df8cde  Photo Devices   \n",
       "8   jessops-f878d99e72c12c0ffc9184a4376cac78  Photo Devices   \n",
       "9   jessops-87b405e744f1ff5d6594ef41c18b8111  Photo Devices   \n",
       "11  jessops-1fa4b20f6930618aa81001b0c68d5e21  Photo Devices   \n",
       "16  jessops-36876506797a620a214f049ca19f70e5  Photo Devices   \n",
       "\n",
       "            Parent_node_2                Leaf_Node  prediction_level1  \\\n",
       "0   Point & Shoot Cameras           Bridge Cameras      Photo Devices   \n",
       "8   Point & Shoot Cameras           Bridge Cameras      Photo Devices   \n",
       "9   Point & Shoot Cameras  Digital Compact Cameras      Photo Devices   \n",
       "11  Point & Shoot Cameras  Digital Compact Cameras      Photo Devices   \n",
       "16  Point & Shoot Cameras           Bridge Cameras      Photo Devices   \n",
       "\n",
       "        prediction_level2  \n",
       "0   Point & Shoot Cameras  \n",
       "8   Point & Shoot Cameras  \n",
       "9   Point & Shoot Cameras  \n",
       "11  Point & Shoot Cameras  \n",
       "16  Point & Shoot Cameras  \n",
       "\n",
       "[5 rows x 881 columns]"
      ]
     },
     "execution_count": 89,
     "metadata": {},
     "output_type": "execute_result"
    }
   ],
   "source": [
    "level3_train_pocam.head()"
   ]
  },
  {
   "cell_type": "code",
   "execution_count": 90,
   "metadata": {},
   "outputs": [
    {
     "data": {
      "text/plain": [
       "array([u'Point & Shoot Cameras'], dtype=object)"
      ]
     },
     "execution_count": 90,
     "metadata": {},
     "output_type": "execute_result"
    }
   ],
   "source": [
    "level3_train_pocam.Parent_node_2.unique()"
   ]
  },
  {
   "cell_type": "code",
   "execution_count": 91,
   "metadata": {},
   "outputs": [
    {
     "data": {
      "text/plain": [
       "array([u'Bridge Cameras', u'Digital Compact Cameras', u'Instant'], dtype=object)"
      ]
     },
     "execution_count": 91,
     "metadata": {},
     "output_type": "execute_result"
    }
   ],
   "source": [
    "level3_train_pocam.Leaf_Node.unique() #due to missclassification"
   ]
  },
  {
   "cell_type": "code",
   "execution_count": 92,
   "metadata": {
    "collapsed": true
   },
   "outputs": [],
   "source": [
    "X_level3_po=level3_train_pocam.drop(['ID','Parent_node_1','Parent_node_2','Leaf_Node','prediction_level1','prediction_level2'],axis=1)\n",
    "y_level3_po=level3_train_pocam['Leaf_Node']"
   ]
  },
  {
   "cell_type": "code",
   "execution_count": 93,
   "metadata": {},
   "outputs": [
    {
     "name": "stdout",
     "output_type": "stream",
     "text": [
      "{'min_samples_split': 10, 'max_leaf_nodes': 10, 'criterion': 'gini', 'max_depth': 15, 'min_samples_leaf': 1}\n"
     ]
    }
   ],
   "source": [
    "parameters = [{\"criterion\": [\"gini\", \"entropy\"],\n",
    "              \"min_samples_split\": [2, 10, 20],\n",
    "              \"max_depth\": [None, 5, 10, 15],\n",
    "              \"min_samples_leaf\": [1, 5, 10],\n",
    "              \"max_leaf_nodes\": [None, 5, 10, 20],\n",
    "              }]\n",
    "\n",
    "tree = GridSearchCV(DecisionTreeClassifier(), parameters, cv=5)\n",
    "tree.fit(X_level3_po, y_level3_po)\n",
    "print(tree.best_params_)"
   ]
  },
  {
   "cell_type": "code",
   "execution_count": 94,
   "metadata": {
    "collapsed": true
   },
   "outputs": [],
   "source": [
    "from sklearn.tree import DecisionTreeClassifier\n",
    "decision_tree = DecisionTreeClassifier(min_samples_split= 20, max_leaf_nodes= 20, criterion= 'entropy', max_depth= 15, min_samples_leaf= 1)\n",
    "cv = StratifiedKFold(n_splits=5, shuffle=True, random_state=42)\n",
    "target_prediction = cross_val_predict(desicion_tree, X_level3_po, y_level3_po, cv=cv)"
   ]
  },
  {
   "cell_type": "code",
   "execution_count": 95,
   "metadata": {},
   "outputs": [
    {
     "name": "stdout",
     "output_type": "stream",
     "text": [
      "Confusion Matrix:\n",
      "                        _____________________________Prediction______________________________\n",
      "                                Bridge Cameras Digital Compact Cameras                 Instant\n",
      "         Bridge Cameras                     28                      28                       0\n",
      "Digital Compact Cameras                     12                      46                       0\n",
      "                Instant                      0                       2                      17\n",
      "\n",
      "Accuracy Score:\n",
      "0.684210526316\n",
      "()\n",
      "Classification Report:\n",
      "                         precision    recall  f1-score   support\n",
      "\n",
      "         Bridge Cameras       0.70      0.50      0.58        56\n",
      "Digital Compact Cameras       0.61      0.79      0.69        58\n",
      "                Instant       1.00      0.89      0.94        19\n",
      "\n",
      "            avg / total       0.70      0.68      0.68       133\n",
      "\n"
     ]
    }
   ],
   "source": [
    "analytics(y_level3_po,target_prediction)"
   ]
  },
  {
   "cell_type": "code",
   "execution_count": 96,
   "metadata": {},
   "outputs": [
    {
     "data": {
      "text/plain": [
       "(133, 881)"
      ]
     },
     "execution_count": 96,
     "metadata": {},
     "output_type": "execute_result"
    }
   ],
   "source": [
    "level3_train_pocam.shape"
   ]
  },
  {
   "cell_type": "code",
   "execution_count": 97,
   "metadata": {},
   "outputs": [
    {
     "name": "stderr",
     "output_type": "stream",
     "text": [
      "/Users/bengikoseoglu/anaconda2/lib/python2.7/site-packages/ipykernel_launcher.py:1: SettingWithCopyWarning:\n",
      "\n",
      "\n",
      "A value is trying to be set on a copy of a slice from a DataFrame.\n",
      "Try using .loc[row_indexer,col_indexer] = value instead\n",
      "\n",
      "See the caveats in the documentation: http://pandas.pydata.org/pandas-docs/stable/indexing.html#indexing-view-versus-copy\n",
      "\n"
     ]
    }
   ],
   "source": [
    "level3_train_pocam['prediction_level3']=target_prediction"
   ]
  },
  {
   "cell_type": "markdown",
   "metadata": {},
   "source": [
    "#### 2. Mirrorless Cameras"
   ]
  },
  {
   "cell_type": "code",
   "execution_count": 98,
   "metadata": {},
   "outputs": [
    {
     "data": {
      "text/html": [
       "<div>\n",
       "<style>\n",
       "    .dataframe thead tr:only-child th {\n",
       "        text-align: right;\n",
       "    }\n",
       "\n",
       "    .dataframe thead th {\n",
       "        text-align: left;\n",
       "    }\n",
       "\n",
       "    .dataframe tbody tr th {\n",
       "        vertical-align: top;\n",
       "    }\n",
       "</style>\n",
       "<table border=\"1\" class=\"dataframe\">\n",
       "  <thead>\n",
       "    <tr style=\"text-align: right;\">\n",
       "      <th></th>\n",
       "      <th>cameras</th>\n",
       "      <th>oss</th>\n",
       "      <th>yashica</th>\n",
       "      <th>gz</th>\n",
       "      <th>yellow</th>\n",
       "      <th>32mm</th>\n",
       "      <th>012</th>\n",
       "      <th>gb</th>\n",
       "      <th>go</th>\n",
       "      <th>z212</th>\n",
       "      <th>...</th>\n",
       "      <th>fz43</th>\n",
       "      <th>deluxe</th>\n",
       "      <th>cpt</th>\n",
       "      <th>dvr</th>\n",
       "      <th>ID</th>\n",
       "      <th>Parent_node_1</th>\n",
       "      <th>Parent_node_2</th>\n",
       "      <th>Leaf_Node</th>\n",
       "      <th>prediction_level1</th>\n",
       "      <th>prediction_level2</th>\n",
       "    </tr>\n",
       "  </thead>\n",
       "  <tbody>\n",
       "    <tr>\n",
       "      <th>0</th>\n",
       "      <td>0</td>\n",
       "      <td>0</td>\n",
       "      <td>0</td>\n",
       "      <td>0</td>\n",
       "      <td>0</td>\n",
       "      <td>0</td>\n",
       "      <td>0</td>\n",
       "      <td>0</td>\n",
       "      <td>0</td>\n",
       "      <td>0</td>\n",
       "      <td>...</td>\n",
       "      <td>0</td>\n",
       "      <td>0</td>\n",
       "      <td>0</td>\n",
       "      <td>0</td>\n",
       "      <td>jessops-f2dd233dd6100c900432fd2902df8cde</td>\n",
       "      <td>Photo Devices</td>\n",
       "      <td>Point &amp; Shoot Cameras</td>\n",
       "      <td>Bridge Cameras</td>\n",
       "      <td>Photo Devices</td>\n",
       "      <td>Point &amp; Shoot Cameras</td>\n",
       "    </tr>\n",
       "    <tr>\n",
       "      <th>1</th>\n",
       "      <td>0</td>\n",
       "      <td>0</td>\n",
       "      <td>0</td>\n",
       "      <td>0</td>\n",
       "      <td>0</td>\n",
       "      <td>0</td>\n",
       "      <td>0</td>\n",
       "      <td>0</td>\n",
       "      <td>0</td>\n",
       "      <td>0</td>\n",
       "      <td>...</td>\n",
       "      <td>0</td>\n",
       "      <td>0</td>\n",
       "      <td>0</td>\n",
       "      <td>0</td>\n",
       "      <td>jessops-ff2be7ba459709194635812c728a17fd</td>\n",
       "      <td>Photo Devices</td>\n",
       "      <td>DSLR</td>\n",
       "      <td>DSLR</td>\n",
       "      <td>Photo Devices</td>\n",
       "      <td>DSLR</td>\n",
       "    </tr>\n",
       "    <tr>\n",
       "      <th>2</th>\n",
       "      <td>0</td>\n",
       "      <td>0</td>\n",
       "      <td>0</td>\n",
       "      <td>0</td>\n",
       "      <td>0</td>\n",
       "      <td>0</td>\n",
       "      <td>0</td>\n",
       "      <td>0</td>\n",
       "      <td>0</td>\n",
       "      <td>0</td>\n",
       "      <td>...</td>\n",
       "      <td>0</td>\n",
       "      <td>0</td>\n",
       "      <td>0</td>\n",
       "      <td>0</td>\n",
       "      <td>jessops-acfa4e6fdc0962be2da5bc1ed8d44357</td>\n",
       "      <td>Photo Devices</td>\n",
       "      <td>DSLR</td>\n",
       "      <td>DSLR</td>\n",
       "      <td>Photo Devices</td>\n",
       "      <td>DSLR</td>\n",
       "    </tr>\n",
       "    <tr>\n",
       "      <th>3</th>\n",
       "      <td>0</td>\n",
       "      <td>0</td>\n",
       "      <td>0</td>\n",
       "      <td>0</td>\n",
       "      <td>0</td>\n",
       "      <td>0</td>\n",
       "      <td>0</td>\n",
       "      <td>0</td>\n",
       "      <td>0</td>\n",
       "      <td>0</td>\n",
       "      <td>...</td>\n",
       "      <td>0</td>\n",
       "      <td>0</td>\n",
       "      <td>0</td>\n",
       "      <td>0</td>\n",
       "      <td>jessops-cabb446087d8428bfa741078869439b8</td>\n",
       "      <td>Photo Devices</td>\n",
       "      <td>DSLR</td>\n",
       "      <td>DSLR</td>\n",
       "      <td>Photo Devices</td>\n",
       "      <td>DSLR</td>\n",
       "    </tr>\n",
       "    <tr>\n",
       "      <th>4</th>\n",
       "      <td>0</td>\n",
       "      <td>0</td>\n",
       "      <td>0</td>\n",
       "      <td>0</td>\n",
       "      <td>0</td>\n",
       "      <td>0</td>\n",
       "      <td>0</td>\n",
       "      <td>0</td>\n",
       "      <td>0</td>\n",
       "      <td>0</td>\n",
       "      <td>...</td>\n",
       "      <td>1</td>\n",
       "      <td>0</td>\n",
       "      <td>0</td>\n",
       "      <td>0</td>\n",
       "      <td>jessops-8c6e0672aa9297ee8ff4d95fa5e2edc0</td>\n",
       "      <td>Photo Devices</td>\n",
       "      <td>Mirrorless Cameras</td>\n",
       "      <td>Full Frame Mirrorless Camera</td>\n",
       "      <td>Photo Devices</td>\n",
       "      <td>Mirrorless Cameras</td>\n",
       "    </tr>\n",
       "  </tbody>\n",
       "</table>\n",
       "<p>5 rows × 881 columns</p>\n",
       "</div>"
      ],
      "text/plain": [
       "   cameras  oss  yashica  gz  yellow  32mm  012  gb  go  z212  \\\n",
       "0        0    0        0   0       0     0    0   0   0     0   \n",
       "1        0    0        0   0       0     0    0   0   0     0   \n",
       "2        0    0        0   0       0     0    0   0   0     0   \n",
       "3        0    0        0   0       0     0    0   0   0     0   \n",
       "4        0    0        0   0       0     0    0   0   0     0   \n",
       "\n",
       "           ...            fz43  deluxe  cpt  dvr  \\\n",
       "0          ...               0       0    0    0   \n",
       "1          ...               0       0    0    0   \n",
       "2          ...               0       0    0    0   \n",
       "3          ...               0       0    0    0   \n",
       "4          ...               1       0    0    0   \n",
       "\n",
       "                                         ID  Parent_node_1  \\\n",
       "0  jessops-f2dd233dd6100c900432fd2902df8cde  Photo Devices   \n",
       "1  jessops-ff2be7ba459709194635812c728a17fd  Photo Devices   \n",
       "2  jessops-acfa4e6fdc0962be2da5bc1ed8d44357  Photo Devices   \n",
       "3  jessops-cabb446087d8428bfa741078869439b8  Photo Devices   \n",
       "4  jessops-8c6e0672aa9297ee8ff4d95fa5e2edc0  Photo Devices   \n",
       "\n",
       "           Parent_node_2                     Leaf_Node  prediction_level1  \\\n",
       "0  Point & Shoot Cameras                Bridge Cameras      Photo Devices   \n",
       "1                   DSLR                          DSLR      Photo Devices   \n",
       "2                   DSLR                          DSLR      Photo Devices   \n",
       "3                   DSLR                          DSLR      Photo Devices   \n",
       "4     Mirrorless Cameras  Full Frame Mirrorless Camera      Photo Devices   \n",
       "\n",
       "       prediction_level2  \n",
       "0  Point & Shoot Cameras  \n",
       "1                   DSLR  \n",
       "2                   DSLR  \n",
       "3                   DSLR  \n",
       "4     Mirrorless Cameras  \n",
       "\n",
       "[5 rows x 881 columns]"
      ]
     },
     "execution_count": 98,
     "metadata": {},
     "output_type": "execute_result"
    }
   ],
   "source": [
    "level2_train_cam.head()"
   ]
  },
  {
   "cell_type": "code",
   "execution_count": 99,
   "metadata": {
    "collapsed": true
   },
   "outputs": [],
   "source": [
    "#prediction_level2_camcorders\n",
    "level3_train_miror=level2_train_cam[level2_train_cam['Parent_node_2']=='Mirrorless Cameras']"
   ]
  },
  {
   "cell_type": "code",
   "execution_count": 100,
   "metadata": {},
   "outputs": [
    {
     "data": {
      "text/plain": [
       "(81, 881)"
      ]
     },
     "execution_count": 100,
     "metadata": {},
     "output_type": "execute_result"
    }
   ],
   "source": [
    "level3_train_miror.shape"
   ]
  },
  {
   "cell_type": "code",
   "execution_count": 101,
   "metadata": {},
   "outputs": [
    {
     "data": {
      "text/plain": [
       "array([u'Full Frame Mirrorless Camera', u'NonFullFrameMirrorlessCamera'], dtype=object)"
      ]
     },
     "execution_count": 101,
     "metadata": {},
     "output_type": "execute_result"
    }
   ],
   "source": [
    "level3_train_miror.Leaf_Node.unique() #due to missclassification"
   ]
  },
  {
   "cell_type": "code",
   "execution_count": 102,
   "metadata": {
    "collapsed": true
   },
   "outputs": [],
   "source": [
    "X_level3_mi=level3_train_miror.drop(['ID','Parent_node_1','Parent_node_2','Leaf_Node','prediction_level1','prediction_level2'],axis=1)\n",
    "y_level3_mi=level3_train_miror['Leaf_Node']"
   ]
  },
  {
   "cell_type": "code",
   "execution_count": 103,
   "metadata": {},
   "outputs": [
    {
     "name": "stdout",
     "output_type": "stream",
     "text": [
      "81\n",
      "81\n"
     ]
    }
   ],
   "source": [
    "print(len(X_level3_mi))\n",
    "print(len(y_level3_mi))"
   ]
  },
  {
   "cell_type": "code",
   "execution_count": 104,
   "metadata": {},
   "outputs": [
    {
     "name": "stdout",
     "output_type": "stream",
     "text": [
      "{'min_samples_split': 20, 'max_leaf_nodes': 5, 'criterion': 'entropy', 'max_depth': None, 'min_samples_leaf': 5}\n"
     ]
    }
   ],
   "source": [
    "parameters = [{\"criterion\": [\"gini\", \"entropy\"],\n",
    "              \"min_samples_split\": [2, 10, 20],\n",
    "              \"max_depth\": [None, 5, 10, 15],\n",
    "              \"min_samples_leaf\": [1, 5, 10],\n",
    "              \"max_leaf_nodes\": [None, 5, 10, 20],\n",
    "              }]\n",
    "\n",
    "tree = GridSearchCV(DecisionTreeClassifier(), parameters, cv=5)\n",
    "tree.fit(X_level3_mi, y_level3_mi)\n",
    "print(tree.best_params_)"
   ]
  },
  {
   "cell_type": "code",
   "execution_count": 105,
   "metadata": {
    "collapsed": true
   },
   "outputs": [],
   "source": [
    "from sklearn.tree import DecisionTreeClassifier\n",
    "decision_tree = DecisionTreeClassifier(min_samples_split= 20, max_leaf_nodes= None, criterion= 'entropy', max_depth= None, min_samples_leaf= 5)\n",
    "cv = StratifiedKFold(n_splits=5, shuffle=True, random_state=42)\n",
    "target_prediction = cross_val_predict(desicion_tree, X_level3_mi, y_level3_mi, cv=cv)"
   ]
  },
  {
   "cell_type": "code",
   "execution_count": 106,
   "metadata": {},
   "outputs": [
    {
     "name": "stdout",
     "output_type": "stream",
     "text": [
      "Confusion Matrix:\n",
      "                             _______________________Prediction_______________________\n",
      "                            Full Frame Mirrorless Camera NonFullFrameMirrorlessCamera\n",
      "Full Frame Mirrorless Camera                          19                           12\n",
      "NonFullFrameMirrorlessCamera                          14                           36\n",
      "\n",
      "Accuracy Score:\n",
      "0.679012345679\n",
      "()\n",
      "Classification Report:\n",
      "                              precision    recall  f1-score   support\n",
      "\n",
      "Full Frame Mirrorless Camera       0.58      0.61      0.59        31\n",
      "NonFullFrameMirrorlessCamera       0.75      0.72      0.73        50\n",
      "\n",
      "                 avg / total       0.68      0.68      0.68        81\n",
      "\n"
     ]
    }
   ],
   "source": [
    "analytics(y_level3_mi,target_prediction)"
   ]
  },
  {
   "cell_type": "code",
   "execution_count": 107,
   "metadata": {},
   "outputs": [
    {
     "name": "stderr",
     "output_type": "stream",
     "text": [
      "/Users/bengikoseoglu/anaconda2/lib/python2.7/site-packages/ipykernel_launcher.py:1: SettingWithCopyWarning:\n",
      "\n",
      "\n",
      "A value is trying to be set on a copy of a slice from a DataFrame.\n",
      "Try using .loc[row_indexer,col_indexer] = value instead\n",
      "\n",
      "See the caveats in the documentation: http://pandas.pydata.org/pandas-docs/stable/indexing.html#indexing-view-versus-copy\n",
      "\n"
     ]
    }
   ],
   "source": [
    "level3_train_miror['prediction_level3']=target_prediction"
   ]
  },
  {
   "cell_type": "markdown",
   "metadata": {},
   "source": [
    "### COMBINING ALL"
   ]
  },
  {
   "cell_type": "code",
   "execution_count": 108,
   "metadata": {},
   "outputs": [
    {
     "data": {
      "text/html": [
       "<div>\n",
       "<style>\n",
       "    .dataframe thead tr:only-child th {\n",
       "        text-align: right;\n",
       "    }\n",
       "\n",
       "    .dataframe thead th {\n",
       "        text-align: left;\n",
       "    }\n",
       "\n",
       "    .dataframe tbody tr th {\n",
       "        vertical-align: top;\n",
       "    }\n",
       "</style>\n",
       "<table border=\"1\" class=\"dataframe\">\n",
       "  <thead>\n",
       "    <tr style=\"text-align: right;\">\n",
       "      <th></th>\n",
       "      <th>cameras</th>\n",
       "      <th>oss</th>\n",
       "      <th>yashica</th>\n",
       "      <th>gz</th>\n",
       "      <th>yellow</th>\n",
       "      <th>32mm</th>\n",
       "      <th>012</th>\n",
       "      <th>gb</th>\n",
       "      <th>go</th>\n",
       "      <th>z212</th>\n",
       "      <th>...</th>\n",
       "      <th>fz43</th>\n",
       "      <th>deluxe</th>\n",
       "      <th>cpt</th>\n",
       "      <th>dvr</th>\n",
       "      <th>ID</th>\n",
       "      <th>Parent_node_1</th>\n",
       "      <th>Parent_node_2</th>\n",
       "      <th>Leaf_Node</th>\n",
       "      <th>prediction_level1</th>\n",
       "      <th>prediction_level2</th>\n",
       "    </tr>\n",
       "  </thead>\n",
       "  <tbody>\n",
       "    <tr>\n",
       "      <th>0</th>\n",
       "      <td>0</td>\n",
       "      <td>0</td>\n",
       "      <td>0</td>\n",
       "      <td>0</td>\n",
       "      <td>0</td>\n",
       "      <td>0</td>\n",
       "      <td>0</td>\n",
       "      <td>0</td>\n",
       "      <td>0</td>\n",
       "      <td>0</td>\n",
       "      <td>...</td>\n",
       "      <td>0</td>\n",
       "      <td>0</td>\n",
       "      <td>0</td>\n",
       "      <td>0</td>\n",
       "      <td>jessops-f2dd233dd6100c900432fd2902df8cde</td>\n",
       "      <td>Photo Devices</td>\n",
       "      <td>Point &amp; Shoot Cameras</td>\n",
       "      <td>Bridge Cameras</td>\n",
       "      <td>Photo Devices</td>\n",
       "      <td>Point &amp; Shoot Cameras</td>\n",
       "    </tr>\n",
       "    <tr>\n",
       "      <th>1</th>\n",
       "      <td>0</td>\n",
       "      <td>0</td>\n",
       "      <td>0</td>\n",
       "      <td>0</td>\n",
       "      <td>0</td>\n",
       "      <td>0</td>\n",
       "      <td>0</td>\n",
       "      <td>0</td>\n",
       "      <td>0</td>\n",
       "      <td>0</td>\n",
       "      <td>...</td>\n",
       "      <td>0</td>\n",
       "      <td>0</td>\n",
       "      <td>0</td>\n",
       "      <td>0</td>\n",
       "      <td>jessops-ff2be7ba459709194635812c728a17fd</td>\n",
       "      <td>Photo Devices</td>\n",
       "      <td>DSLR</td>\n",
       "      <td>DSLR</td>\n",
       "      <td>Photo Devices</td>\n",
       "      <td>DSLR</td>\n",
       "    </tr>\n",
       "    <tr>\n",
       "      <th>2</th>\n",
       "      <td>0</td>\n",
       "      <td>0</td>\n",
       "      <td>0</td>\n",
       "      <td>0</td>\n",
       "      <td>0</td>\n",
       "      <td>0</td>\n",
       "      <td>0</td>\n",
       "      <td>0</td>\n",
       "      <td>0</td>\n",
       "      <td>0</td>\n",
       "      <td>...</td>\n",
       "      <td>0</td>\n",
       "      <td>0</td>\n",
       "      <td>0</td>\n",
       "      <td>0</td>\n",
       "      <td>jessops-acfa4e6fdc0962be2da5bc1ed8d44357</td>\n",
       "      <td>Photo Devices</td>\n",
       "      <td>DSLR</td>\n",
       "      <td>DSLR</td>\n",
       "      <td>Photo Devices</td>\n",
       "      <td>DSLR</td>\n",
       "    </tr>\n",
       "    <tr>\n",
       "      <th>3</th>\n",
       "      <td>0</td>\n",
       "      <td>0</td>\n",
       "      <td>0</td>\n",
       "      <td>0</td>\n",
       "      <td>0</td>\n",
       "      <td>0</td>\n",
       "      <td>0</td>\n",
       "      <td>0</td>\n",
       "      <td>0</td>\n",
       "      <td>0</td>\n",
       "      <td>...</td>\n",
       "      <td>0</td>\n",
       "      <td>0</td>\n",
       "      <td>0</td>\n",
       "      <td>0</td>\n",
       "      <td>jessops-cabb446087d8428bfa741078869439b8</td>\n",
       "      <td>Photo Devices</td>\n",
       "      <td>DSLR</td>\n",
       "      <td>DSLR</td>\n",
       "      <td>Photo Devices</td>\n",
       "      <td>DSLR</td>\n",
       "    </tr>\n",
       "    <tr>\n",
       "      <th>4</th>\n",
       "      <td>0</td>\n",
       "      <td>0</td>\n",
       "      <td>0</td>\n",
       "      <td>0</td>\n",
       "      <td>0</td>\n",
       "      <td>0</td>\n",
       "      <td>0</td>\n",
       "      <td>0</td>\n",
       "      <td>0</td>\n",
       "      <td>0</td>\n",
       "      <td>...</td>\n",
       "      <td>1</td>\n",
       "      <td>0</td>\n",
       "      <td>0</td>\n",
       "      <td>0</td>\n",
       "      <td>jessops-8c6e0672aa9297ee8ff4d95fa5e2edc0</td>\n",
       "      <td>Photo Devices</td>\n",
       "      <td>Mirrorless Cameras</td>\n",
       "      <td>Full Frame Mirrorless Camera</td>\n",
       "      <td>Photo Devices</td>\n",
       "      <td>Mirrorless Cameras</td>\n",
       "    </tr>\n",
       "  </tbody>\n",
       "</table>\n",
       "<p>5 rows × 881 columns</p>\n",
       "</div>"
      ],
      "text/plain": [
       "   cameras  oss  yashica  gz  yellow  32mm  012  gb  go  z212  \\\n",
       "0        0    0        0   0       0     0    0   0   0     0   \n",
       "1        0    0        0   0       0     0    0   0   0     0   \n",
       "2        0    0        0   0       0     0    0   0   0     0   \n",
       "3        0    0        0   0       0     0    0   0   0     0   \n",
       "4        0    0        0   0       0     0    0   0   0     0   \n",
       "\n",
       "           ...            fz43  deluxe  cpt  dvr  \\\n",
       "0          ...               0       0    0    0   \n",
       "1          ...               0       0    0    0   \n",
       "2          ...               0       0    0    0   \n",
       "3          ...               0       0    0    0   \n",
       "4          ...               1       0    0    0   \n",
       "\n",
       "                                         ID  Parent_node_1  \\\n",
       "0  jessops-f2dd233dd6100c900432fd2902df8cde  Photo Devices   \n",
       "1  jessops-ff2be7ba459709194635812c728a17fd  Photo Devices   \n",
       "2  jessops-acfa4e6fdc0962be2da5bc1ed8d44357  Photo Devices   \n",
       "3  jessops-cabb446087d8428bfa741078869439b8  Photo Devices   \n",
       "4  jessops-8c6e0672aa9297ee8ff4d95fa5e2edc0  Photo Devices   \n",
       "\n",
       "           Parent_node_2                     Leaf_Node  prediction_level1  \\\n",
       "0  Point & Shoot Cameras                Bridge Cameras      Photo Devices   \n",
       "1                   DSLR                          DSLR      Photo Devices   \n",
       "2                   DSLR                          DSLR      Photo Devices   \n",
       "3                   DSLR                          DSLR      Photo Devices   \n",
       "4     Mirrorless Cameras  Full Frame Mirrorless Camera      Photo Devices   \n",
       "\n",
       "       prediction_level2  \n",
       "0  Point & Shoot Cameras  \n",
       "1                   DSLR  \n",
       "2                   DSLR  \n",
       "3                   DSLR  \n",
       "4     Mirrorless Cameras  \n",
       "\n",
       "[5 rows x 881 columns]"
      ]
     },
     "execution_count": 108,
     "metadata": {},
     "output_type": "execute_result"
    }
   ],
   "source": [
    "level2_train_cam.head()"
   ]
  },
  {
   "cell_type": "code",
   "execution_count": 109,
   "metadata": {
    "collapsed": true
   },
   "outputs": [],
   "source": [
    "level3_dslr=level2_train_cam[level2_train_cam['Parent_node_2']=='DSLR']"
   ]
  },
  {
   "cell_type": "code",
   "execution_count": 110,
   "metadata": {},
   "outputs": [
    {
     "name": "stderr",
     "output_type": "stream",
     "text": [
      "/Users/bengikoseoglu/anaconda2/lib/python2.7/site-packages/ipykernel_launcher.py:1: SettingWithCopyWarning:\n",
      "\n",
      "\n",
      "A value is trying to be set on a copy of a slice from a DataFrame.\n",
      "Try using .loc[row_indexer,col_indexer] = value instead\n",
      "\n",
      "See the caveats in the documentation: http://pandas.pydata.org/pandas-docs/stable/indexing.html#indexing-view-versus-copy\n",
      "\n"
     ]
    }
   ],
   "source": [
    "level3_dslr['prediction_level3']=level3_dslr['prediction_level2']"
   ]
  },
  {
   "cell_type": "code",
   "execution_count": 111,
   "metadata": {},
   "outputs": [
    {
     "data": {
      "text/html": [
       "<div>\n",
       "<style>\n",
       "    .dataframe thead tr:only-child th {\n",
       "        text-align: right;\n",
       "    }\n",
       "\n",
       "    .dataframe thead th {\n",
       "        text-align: left;\n",
       "    }\n",
       "\n",
       "    .dataframe tbody tr th {\n",
       "        vertical-align: top;\n",
       "    }\n",
       "</style>\n",
       "<table border=\"1\" class=\"dataframe\">\n",
       "  <thead>\n",
       "    <tr style=\"text-align: right;\">\n",
       "      <th></th>\n",
       "      <th>cameras</th>\n",
       "      <th>oss</th>\n",
       "      <th>yashica</th>\n",
       "      <th>gz</th>\n",
       "      <th>yellow</th>\n",
       "      <th>32mm</th>\n",
       "      <th>012</th>\n",
       "      <th>gb</th>\n",
       "      <th>go</th>\n",
       "      <th>z212</th>\n",
       "      <th>...</th>\n",
       "      <th>karma</th>\n",
       "      <th>fz43</th>\n",
       "      <th>deluxe</th>\n",
       "      <th>cpt</th>\n",
       "      <th>dvr</th>\n",
       "      <th>ID</th>\n",
       "      <th>Parent_node_1</th>\n",
       "      <th>Parent_node_2</th>\n",
       "      <th>Leaf_Node</th>\n",
       "      <th>prediction_level1</th>\n",
       "    </tr>\n",
       "  </thead>\n",
       "  <tbody>\n",
       "    <tr>\n",
       "      <th>0</th>\n",
       "      <td>0</td>\n",
       "      <td>0</td>\n",
       "      <td>0</td>\n",
       "      <td>0</td>\n",
       "      <td>0</td>\n",
       "      <td>0</td>\n",
       "      <td>0</td>\n",
       "      <td>0</td>\n",
       "      <td>0</td>\n",
       "      <td>0</td>\n",
       "      <td>...</td>\n",
       "      <td>0</td>\n",
       "      <td>0</td>\n",
       "      <td>0</td>\n",
       "      <td>0</td>\n",
       "      <td>0</td>\n",
       "      <td>jessops-f2dd233dd6100c900432fd2902df8cde</td>\n",
       "      <td>Photo Devices</td>\n",
       "      <td>Point &amp; Shoot Cameras</td>\n",
       "      <td>Bridge Cameras</td>\n",
       "      <td>Photo Devices</td>\n",
       "    </tr>\n",
       "    <tr>\n",
       "      <th>1</th>\n",
       "      <td>0</td>\n",
       "      <td>0</td>\n",
       "      <td>0</td>\n",
       "      <td>0</td>\n",
       "      <td>0</td>\n",
       "      <td>0</td>\n",
       "      <td>0</td>\n",
       "      <td>0</td>\n",
       "      <td>0</td>\n",
       "      <td>0</td>\n",
       "      <td>...</td>\n",
       "      <td>0</td>\n",
       "      <td>0</td>\n",
       "      <td>0</td>\n",
       "      <td>0</td>\n",
       "      <td>0</td>\n",
       "      <td>jessops-ff2be7ba459709194635812c728a17fd</td>\n",
       "      <td>Photo Devices</td>\n",
       "      <td>DSLR</td>\n",
       "      <td>DSLR</td>\n",
       "      <td>Photo Devices</td>\n",
       "    </tr>\n",
       "    <tr>\n",
       "      <th>2</th>\n",
       "      <td>0</td>\n",
       "      <td>0</td>\n",
       "      <td>0</td>\n",
       "      <td>0</td>\n",
       "      <td>0</td>\n",
       "      <td>0</td>\n",
       "      <td>0</td>\n",
       "      <td>0</td>\n",
       "      <td>0</td>\n",
       "      <td>0</td>\n",
       "      <td>...</td>\n",
       "      <td>0</td>\n",
       "      <td>0</td>\n",
       "      <td>0</td>\n",
       "      <td>0</td>\n",
       "      <td>0</td>\n",
       "      <td>jessops-acfa4e6fdc0962be2da5bc1ed8d44357</td>\n",
       "      <td>Photo Devices</td>\n",
       "      <td>DSLR</td>\n",
       "      <td>DSLR</td>\n",
       "      <td>Photo Devices</td>\n",
       "    </tr>\n",
       "    <tr>\n",
       "      <th>3</th>\n",
       "      <td>0</td>\n",
       "      <td>0</td>\n",
       "      <td>0</td>\n",
       "      <td>0</td>\n",
       "      <td>0</td>\n",
       "      <td>0</td>\n",
       "      <td>0</td>\n",
       "      <td>0</td>\n",
       "      <td>0</td>\n",
       "      <td>0</td>\n",
       "      <td>...</td>\n",
       "      <td>0</td>\n",
       "      <td>0</td>\n",
       "      <td>0</td>\n",
       "      <td>0</td>\n",
       "      <td>0</td>\n",
       "      <td>jessops-cabb446087d8428bfa741078869439b8</td>\n",
       "      <td>Photo Devices</td>\n",
       "      <td>DSLR</td>\n",
       "      <td>DSLR</td>\n",
       "      <td>Photo Devices</td>\n",
       "    </tr>\n",
       "    <tr>\n",
       "      <th>4</th>\n",
       "      <td>0</td>\n",
       "      <td>0</td>\n",
       "      <td>0</td>\n",
       "      <td>0</td>\n",
       "      <td>0</td>\n",
       "      <td>0</td>\n",
       "      <td>0</td>\n",
       "      <td>0</td>\n",
       "      <td>0</td>\n",
       "      <td>0</td>\n",
       "      <td>...</td>\n",
       "      <td>0</td>\n",
       "      <td>1</td>\n",
       "      <td>0</td>\n",
       "      <td>0</td>\n",
       "      <td>0</td>\n",
       "      <td>jessops-8c6e0672aa9297ee8ff4d95fa5e2edc0</td>\n",
       "      <td>Photo Devices</td>\n",
       "      <td>Mirrorless Cameras</td>\n",
       "      <td>Full Frame Mirrorless Camera</td>\n",
       "      <td>Photo Devices</td>\n",
       "    </tr>\n",
       "  </tbody>\n",
       "</table>\n",
       "<p>5 rows × 880 columns</p>\n",
       "</div>"
      ],
      "text/plain": [
       "   cameras  oss  yashica  gz  yellow  32mm  012  gb  go  z212  \\\n",
       "0        0    0        0   0       0     0    0   0   0     0   \n",
       "1        0    0        0   0       0     0    0   0   0     0   \n",
       "2        0    0        0   0       0     0    0   0   0     0   \n",
       "3        0    0        0   0       0     0    0   0   0     0   \n",
       "4        0    0        0   0       0     0    0   0   0     0   \n",
       "\n",
       "         ...          karma  fz43  deluxe  cpt  dvr  \\\n",
       "0        ...              0     0       0    0    0   \n",
       "1        ...              0     0       0    0    0   \n",
       "2        ...              0     0       0    0    0   \n",
       "3        ...              0     0       0    0    0   \n",
       "4        ...              0     1       0    0    0   \n",
       "\n",
       "                                         ID  Parent_node_1  \\\n",
       "0  jessops-f2dd233dd6100c900432fd2902df8cde  Photo Devices   \n",
       "1  jessops-ff2be7ba459709194635812c728a17fd  Photo Devices   \n",
       "2  jessops-acfa4e6fdc0962be2da5bc1ed8d44357  Photo Devices   \n",
       "3  jessops-cabb446087d8428bfa741078869439b8  Photo Devices   \n",
       "4  jessops-8c6e0672aa9297ee8ff4d95fa5e2edc0  Photo Devices   \n",
       "\n",
       "           Parent_node_2                     Leaf_Node  prediction_level1  \n",
       "0  Point & Shoot Cameras                Bridge Cameras      Photo Devices  \n",
       "1                   DSLR                          DSLR      Photo Devices  \n",
       "2                   DSLR                          DSLR      Photo Devices  \n",
       "3                   DSLR                          DSLR      Photo Devices  \n",
       "4     Mirrorless Cameras  Full Frame Mirrorless Camera      Photo Devices  \n",
       "\n",
       "[5 rows x 880 columns]"
      ]
     },
     "execution_count": 111,
     "metadata": {},
     "output_type": "execute_result"
    }
   ],
   "source": [
    "bags_words.head()"
   ]
  },
  {
   "cell_type": "code",
   "execution_count": 112,
   "metadata": {},
   "outputs": [
    {
     "name": "stderr",
     "output_type": "stream",
     "text": [
      "/Users/bengikoseoglu/anaconda2/lib/python2.7/site-packages/ipykernel_launcher.py:2: SettingWithCopyWarning:\n",
      "\n",
      "\n",
      "A value is trying to be set on a copy of a slice from a DataFrame.\n",
      "Try using .loc[row_indexer,col_indexer] = value instead\n",
      "\n",
      "See the caveats in the documentation: http://pandas.pydata.org/pandas-docs/stable/indexing.html#indexing-view-versus-copy\n",
      "\n",
      "/Users/bengikoseoglu/anaconda2/lib/python2.7/site-packages/ipykernel_launcher.py:3: SettingWithCopyWarning:\n",
      "\n",
      "\n",
      "A value is trying to be set on a copy of a slice from a DataFrame.\n",
      "Try using .loc[row_indexer,col_indexer] = value instead\n",
      "\n",
      "See the caveats in the documentation: http://pandas.pydata.org/pandas-docs/stable/indexing.html#indexing-view-versus-copy\n",
      "\n"
     ]
    }
   ],
   "source": [
    "level3_nocamera=bags_words[bags_words['Parent_node_1']=='Not Camera']\n",
    "level3_nocamera['prediction_level2']=level3_nocamera['prediction_level1']\n",
    "level3_nocamera['prediction_level3']=level3_nocamera['prediction_level1']"
   ]
  },
  {
   "cell_type": "code",
   "execution_count": 113,
   "metadata": {},
   "outputs": [
    {
     "data": {
      "text/html": [
       "<div>\n",
       "<style>\n",
       "    .dataframe thead tr:only-child th {\n",
       "        text-align: right;\n",
       "    }\n",
       "\n",
       "    .dataframe thead th {\n",
       "        text-align: left;\n",
       "    }\n",
       "\n",
       "    .dataframe tbody tr th {\n",
       "        vertical-align: top;\n",
       "    }\n",
       "</style>\n",
       "<table border=\"1\" class=\"dataframe\">\n",
       "  <thead>\n",
       "    <tr style=\"text-align: right;\">\n",
       "      <th></th>\n",
       "      <th>cameras</th>\n",
       "      <th>oss</th>\n",
       "      <th>yashica</th>\n",
       "      <th>gz</th>\n",
       "      <th>yellow</th>\n",
       "      <th>32mm</th>\n",
       "      <th>012</th>\n",
       "      <th>gb</th>\n",
       "      <th>go</th>\n",
       "      <th>z212</th>\n",
       "      <th>...</th>\n",
       "      <th>deluxe</th>\n",
       "      <th>cpt</th>\n",
       "      <th>dvr</th>\n",
       "      <th>ID</th>\n",
       "      <th>Parent_node_1</th>\n",
       "      <th>Parent_node_2</th>\n",
       "      <th>Leaf_Node</th>\n",
       "      <th>prediction_level1</th>\n",
       "      <th>prediction_level2</th>\n",
       "      <th>prediction_level3</th>\n",
       "    </tr>\n",
       "  </thead>\n",
       "  <tbody>\n",
       "    <tr>\n",
       "      <th>1</th>\n",
       "      <td>0</td>\n",
       "      <td>0</td>\n",
       "      <td>0</td>\n",
       "      <td>0</td>\n",
       "      <td>0</td>\n",
       "      <td>0</td>\n",
       "      <td>0</td>\n",
       "      <td>0</td>\n",
       "      <td>0</td>\n",
       "      <td>0</td>\n",
       "      <td>...</td>\n",
       "      <td>0</td>\n",
       "      <td>0</td>\n",
       "      <td>0</td>\n",
       "      <td>jessops-ff2be7ba459709194635812c728a17fd</td>\n",
       "      <td>Photo Devices</td>\n",
       "      <td>DSLR</td>\n",
       "      <td>DSLR</td>\n",
       "      <td>Photo Devices</td>\n",
       "      <td>DSLR</td>\n",
       "      <td>DSLR</td>\n",
       "    </tr>\n",
       "    <tr>\n",
       "      <th>2</th>\n",
       "      <td>0</td>\n",
       "      <td>0</td>\n",
       "      <td>0</td>\n",
       "      <td>0</td>\n",
       "      <td>0</td>\n",
       "      <td>0</td>\n",
       "      <td>0</td>\n",
       "      <td>0</td>\n",
       "      <td>0</td>\n",
       "      <td>0</td>\n",
       "      <td>...</td>\n",
       "      <td>0</td>\n",
       "      <td>0</td>\n",
       "      <td>0</td>\n",
       "      <td>jessops-acfa4e6fdc0962be2da5bc1ed8d44357</td>\n",
       "      <td>Photo Devices</td>\n",
       "      <td>DSLR</td>\n",
       "      <td>DSLR</td>\n",
       "      <td>Photo Devices</td>\n",
       "      <td>DSLR</td>\n",
       "      <td>DSLR</td>\n",
       "    </tr>\n",
       "    <tr>\n",
       "      <th>3</th>\n",
       "      <td>0</td>\n",
       "      <td>0</td>\n",
       "      <td>0</td>\n",
       "      <td>0</td>\n",
       "      <td>0</td>\n",
       "      <td>0</td>\n",
       "      <td>0</td>\n",
       "      <td>0</td>\n",
       "      <td>0</td>\n",
       "      <td>0</td>\n",
       "      <td>...</td>\n",
       "      <td>0</td>\n",
       "      <td>0</td>\n",
       "      <td>0</td>\n",
       "      <td>jessops-cabb446087d8428bfa741078869439b8</td>\n",
       "      <td>Photo Devices</td>\n",
       "      <td>DSLR</td>\n",
       "      <td>DSLR</td>\n",
       "      <td>Photo Devices</td>\n",
       "      <td>DSLR</td>\n",
       "      <td>DSLR</td>\n",
       "    </tr>\n",
       "    <tr>\n",
       "      <th>6</th>\n",
       "      <td>0</td>\n",
       "      <td>0</td>\n",
       "      <td>0</td>\n",
       "      <td>0</td>\n",
       "      <td>0</td>\n",
       "      <td>0</td>\n",
       "      <td>0</td>\n",
       "      <td>0</td>\n",
       "      <td>0</td>\n",
       "      <td>0</td>\n",
       "      <td>...</td>\n",
       "      <td>0</td>\n",
       "      <td>0</td>\n",
       "      <td>0</td>\n",
       "      <td>jessops-f72245a8f6058cb74297871d73db7849</td>\n",
       "      <td>Photo Devices</td>\n",
       "      <td>DSLR</td>\n",
       "      <td>DSLR</td>\n",
       "      <td>Photo Devices</td>\n",
       "      <td>DSLR</td>\n",
       "      <td>DSLR</td>\n",
       "    </tr>\n",
       "    <tr>\n",
       "      <th>20</th>\n",
       "      <td>0</td>\n",
       "      <td>0</td>\n",
       "      <td>0</td>\n",
       "      <td>0</td>\n",
       "      <td>0</td>\n",
       "      <td>0</td>\n",
       "      <td>0</td>\n",
       "      <td>0</td>\n",
       "      <td>0</td>\n",
       "      <td>0</td>\n",
       "      <td>...</td>\n",
       "      <td>0</td>\n",
       "      <td>0</td>\n",
       "      <td>0</td>\n",
       "      <td>jessops-9283ba211156f9046b85192282c16a8a</td>\n",
       "      <td>Photo Devices</td>\n",
       "      <td>DSLR</td>\n",
       "      <td>DSLR</td>\n",
       "      <td>Photo Devices</td>\n",
       "      <td>DSLR</td>\n",
       "      <td>DSLR</td>\n",
       "    </tr>\n",
       "  </tbody>\n",
       "</table>\n",
       "<p>5 rows × 882 columns</p>\n",
       "</div>"
      ],
      "text/plain": [
       "    cameras  oss  yashica  gz  yellow  32mm  012  gb  go  z212  \\\n",
       "1         0    0        0   0       0     0    0   0   0     0   \n",
       "2         0    0        0   0       0     0    0   0   0     0   \n",
       "3         0    0        0   0       0     0    0   0   0     0   \n",
       "6         0    0        0   0       0     0    0   0   0     0   \n",
       "20        0    0        0   0       0     0    0   0   0     0   \n",
       "\n",
       "          ...          deluxe  cpt  dvr  \\\n",
       "1         ...               0    0    0   \n",
       "2         ...               0    0    0   \n",
       "3         ...               0    0    0   \n",
       "6         ...               0    0    0   \n",
       "20        ...               0    0    0   \n",
       "\n",
       "                                          ID  Parent_node_1  Parent_node_2  \\\n",
       "1   jessops-ff2be7ba459709194635812c728a17fd  Photo Devices           DSLR   \n",
       "2   jessops-acfa4e6fdc0962be2da5bc1ed8d44357  Photo Devices           DSLR   \n",
       "3   jessops-cabb446087d8428bfa741078869439b8  Photo Devices           DSLR   \n",
       "6   jessops-f72245a8f6058cb74297871d73db7849  Photo Devices           DSLR   \n",
       "20  jessops-9283ba211156f9046b85192282c16a8a  Photo Devices           DSLR   \n",
       "\n",
       "    Leaf_Node  prediction_level1  prediction_level2  prediction_level3  \n",
       "1        DSLR      Photo Devices               DSLR               DSLR  \n",
       "2        DSLR      Photo Devices               DSLR               DSLR  \n",
       "3        DSLR      Photo Devices               DSLR               DSLR  \n",
       "6        DSLR      Photo Devices               DSLR               DSLR  \n",
       "20       DSLR      Photo Devices               DSLR               DSLR  \n",
       "\n",
       "[5 rows x 882 columns]"
      ]
     },
     "execution_count": 113,
     "metadata": {},
     "output_type": "execute_result"
    }
   ],
   "source": [
    "level3_dslr.head()"
   ]
  },
  {
   "cell_type": "code",
   "execution_count": 114,
   "metadata": {},
   "outputs": [
    {
     "data": {
      "text/plain": [
       "(72, 882)"
      ]
     },
     "execution_count": 114,
     "metadata": {},
     "output_type": "execute_result"
    }
   ],
   "source": [
    "level3_dslr.shape"
   ]
  },
  {
   "cell_type": "code",
   "execution_count": 115,
   "metadata": {},
   "outputs": [
    {
     "data": {
      "text/plain": [
       "(19, 882)"
      ]
     },
     "execution_count": 115,
     "metadata": {},
     "output_type": "execute_result"
    }
   ],
   "source": [
    "level3_nocamera.shape"
   ]
  },
  {
   "cell_type": "code",
   "execution_count": 116,
   "metadata": {
    "collapsed": true
   },
   "outputs": [],
   "source": [
    "all_concat=pd.concat([level3_dslr,level3_nocamera,level3_train_miror,level3_train_pocam,level3_train_actioncameras,level3_train])"
   ]
  },
  {
   "cell_type": "code",
   "execution_count": 117,
   "metadata": {},
   "outputs": [
    {
     "data": {
      "text/plain": [
       "(416, 882)"
      ]
     },
     "execution_count": 117,
     "metadata": {},
     "output_type": "execute_result"
    }
   ],
   "source": [
    "all_concat.shape"
   ]
  },
  {
   "cell_type": "code",
   "execution_count": 118,
   "metadata": {},
   "outputs": [
    {
     "data": {
      "text/html": [
       "<div>\n",
       "<style>\n",
       "    .dataframe thead tr:only-child th {\n",
       "        text-align: right;\n",
       "    }\n",
       "\n",
       "    .dataframe thead th {\n",
       "        text-align: left;\n",
       "    }\n",
       "\n",
       "    .dataframe tbody tr th {\n",
       "        vertical-align: top;\n",
       "    }\n",
       "</style>\n",
       "<table border=\"1\" class=\"dataframe\">\n",
       "  <thead>\n",
       "    <tr style=\"text-align: right;\">\n",
       "      <th></th>\n",
       "      <th>cameras</th>\n",
       "      <th>oss</th>\n",
       "      <th>yashica</th>\n",
       "      <th>gz</th>\n",
       "      <th>yellow</th>\n",
       "      <th>32mm</th>\n",
       "      <th>012</th>\n",
       "      <th>gb</th>\n",
       "      <th>go</th>\n",
       "      <th>z212</th>\n",
       "      <th>...</th>\n",
       "      <th>deluxe</th>\n",
       "      <th>cpt</th>\n",
       "      <th>dvr</th>\n",
       "      <th>ID</th>\n",
       "      <th>Parent_node_1</th>\n",
       "      <th>Parent_node_2</th>\n",
       "      <th>Leaf_Node</th>\n",
       "      <th>prediction_level1</th>\n",
       "      <th>prediction_level2</th>\n",
       "      <th>prediction_level3</th>\n",
       "    </tr>\n",
       "  </thead>\n",
       "  <tbody>\n",
       "    <tr>\n",
       "      <th>1</th>\n",
       "      <td>0</td>\n",
       "      <td>0</td>\n",
       "      <td>0</td>\n",
       "      <td>0</td>\n",
       "      <td>0</td>\n",
       "      <td>0</td>\n",
       "      <td>0</td>\n",
       "      <td>0</td>\n",
       "      <td>0</td>\n",
       "      <td>0</td>\n",
       "      <td>...</td>\n",
       "      <td>0</td>\n",
       "      <td>0</td>\n",
       "      <td>0</td>\n",
       "      <td>jessops-ff2be7ba459709194635812c728a17fd</td>\n",
       "      <td>Photo Devices</td>\n",
       "      <td>DSLR</td>\n",
       "      <td>DSLR</td>\n",
       "      <td>Photo Devices</td>\n",
       "      <td>DSLR</td>\n",
       "      <td>DSLR</td>\n",
       "    </tr>\n",
       "    <tr>\n",
       "      <th>2</th>\n",
       "      <td>0</td>\n",
       "      <td>0</td>\n",
       "      <td>0</td>\n",
       "      <td>0</td>\n",
       "      <td>0</td>\n",
       "      <td>0</td>\n",
       "      <td>0</td>\n",
       "      <td>0</td>\n",
       "      <td>0</td>\n",
       "      <td>0</td>\n",
       "      <td>...</td>\n",
       "      <td>0</td>\n",
       "      <td>0</td>\n",
       "      <td>0</td>\n",
       "      <td>jessops-acfa4e6fdc0962be2da5bc1ed8d44357</td>\n",
       "      <td>Photo Devices</td>\n",
       "      <td>DSLR</td>\n",
       "      <td>DSLR</td>\n",
       "      <td>Photo Devices</td>\n",
       "      <td>DSLR</td>\n",
       "      <td>DSLR</td>\n",
       "    </tr>\n",
       "    <tr>\n",
       "      <th>3</th>\n",
       "      <td>0</td>\n",
       "      <td>0</td>\n",
       "      <td>0</td>\n",
       "      <td>0</td>\n",
       "      <td>0</td>\n",
       "      <td>0</td>\n",
       "      <td>0</td>\n",
       "      <td>0</td>\n",
       "      <td>0</td>\n",
       "      <td>0</td>\n",
       "      <td>...</td>\n",
       "      <td>0</td>\n",
       "      <td>0</td>\n",
       "      <td>0</td>\n",
       "      <td>jessops-cabb446087d8428bfa741078869439b8</td>\n",
       "      <td>Photo Devices</td>\n",
       "      <td>DSLR</td>\n",
       "      <td>DSLR</td>\n",
       "      <td>Photo Devices</td>\n",
       "      <td>DSLR</td>\n",
       "      <td>DSLR</td>\n",
       "    </tr>\n",
       "    <tr>\n",
       "      <th>6</th>\n",
       "      <td>0</td>\n",
       "      <td>0</td>\n",
       "      <td>0</td>\n",
       "      <td>0</td>\n",
       "      <td>0</td>\n",
       "      <td>0</td>\n",
       "      <td>0</td>\n",
       "      <td>0</td>\n",
       "      <td>0</td>\n",
       "      <td>0</td>\n",
       "      <td>...</td>\n",
       "      <td>0</td>\n",
       "      <td>0</td>\n",
       "      <td>0</td>\n",
       "      <td>jessops-f72245a8f6058cb74297871d73db7849</td>\n",
       "      <td>Photo Devices</td>\n",
       "      <td>DSLR</td>\n",
       "      <td>DSLR</td>\n",
       "      <td>Photo Devices</td>\n",
       "      <td>DSLR</td>\n",
       "      <td>DSLR</td>\n",
       "    </tr>\n",
       "    <tr>\n",
       "      <th>20</th>\n",
       "      <td>0</td>\n",
       "      <td>0</td>\n",
       "      <td>0</td>\n",
       "      <td>0</td>\n",
       "      <td>0</td>\n",
       "      <td>0</td>\n",
       "      <td>0</td>\n",
       "      <td>0</td>\n",
       "      <td>0</td>\n",
       "      <td>0</td>\n",
       "      <td>...</td>\n",
       "      <td>0</td>\n",
       "      <td>0</td>\n",
       "      <td>0</td>\n",
       "      <td>jessops-9283ba211156f9046b85192282c16a8a</td>\n",
       "      <td>Photo Devices</td>\n",
       "      <td>DSLR</td>\n",
       "      <td>DSLR</td>\n",
       "      <td>Photo Devices</td>\n",
       "      <td>DSLR</td>\n",
       "      <td>DSLR</td>\n",
       "    </tr>\n",
       "  </tbody>\n",
       "</table>\n",
       "<p>5 rows × 882 columns</p>\n",
       "</div>"
      ],
      "text/plain": [
       "    cameras  oss  yashica  gz  yellow  32mm  012  gb  go  z212  \\\n",
       "1         0    0        0   0       0     0    0   0   0     0   \n",
       "2         0    0        0   0       0     0    0   0   0     0   \n",
       "3         0    0        0   0       0     0    0   0   0     0   \n",
       "6         0    0        0   0       0     0    0   0   0     0   \n",
       "20        0    0        0   0       0     0    0   0   0     0   \n",
       "\n",
       "          ...          deluxe  cpt  dvr  \\\n",
       "1         ...               0    0    0   \n",
       "2         ...               0    0    0   \n",
       "3         ...               0    0    0   \n",
       "6         ...               0    0    0   \n",
       "20        ...               0    0    0   \n",
       "\n",
       "                                          ID  Parent_node_1  Parent_node_2  \\\n",
       "1   jessops-ff2be7ba459709194635812c728a17fd  Photo Devices           DSLR   \n",
       "2   jessops-acfa4e6fdc0962be2da5bc1ed8d44357  Photo Devices           DSLR   \n",
       "3   jessops-cabb446087d8428bfa741078869439b8  Photo Devices           DSLR   \n",
       "6   jessops-f72245a8f6058cb74297871d73db7849  Photo Devices           DSLR   \n",
       "20  jessops-9283ba211156f9046b85192282c16a8a  Photo Devices           DSLR   \n",
       "\n",
       "    Leaf_Node  prediction_level1  prediction_level2  prediction_level3  \n",
       "1        DSLR      Photo Devices               DSLR               DSLR  \n",
       "2        DSLR      Photo Devices               DSLR               DSLR  \n",
       "3        DSLR      Photo Devices               DSLR               DSLR  \n",
       "6        DSLR      Photo Devices               DSLR               DSLR  \n",
       "20       DSLR      Photo Devices               DSLR               DSLR  \n",
       "\n",
       "[5 rows x 882 columns]"
      ]
     },
     "execution_count": 118,
     "metadata": {},
     "output_type": "execute_result"
    }
   ],
   "source": [
    "all_concat.head()"
   ]
  },
  {
   "cell_type": "code",
   "execution_count": 119,
   "metadata": {},
   "outputs": [
    {
     "data": {
      "text/plain": [
       "array([u'Photo Devices', u'Not Camera', u'Cam Corders'], dtype=object)"
      ]
     },
     "execution_count": 119,
     "metadata": {},
     "output_type": "execute_result"
    }
   ],
   "source": [
    "all_concat.Parent_node_1.unique()"
   ]
  },
  {
   "cell_type": "code",
   "execution_count": 120,
   "metadata": {},
   "outputs": [
    {
     "data": {
      "text/plain": [
       "array([u'DSLR', u'Not Camera', u'Mirrorless Cameras',\n",
       "       u'Point & Shoot Cameras', u'Action Cameras',\n",
       "       u'Traditional Video Cameras'], dtype=object)"
      ]
     },
     "execution_count": 120,
     "metadata": {},
     "output_type": "execute_result"
    }
   ],
   "source": [
    "all_concat.Parent_node_2.unique()"
   ]
  },
  {
   "cell_type": "code",
   "execution_count": 121,
   "metadata": {},
   "outputs": [
    {
     "data": {
      "text/plain": [
       "array([u'DSLR', u'Not Camera', u'Full Frame Mirrorless Camera',\n",
       "       u'NonFullFrameMirrorlessCamera', u'Bridge Cameras',\n",
       "       u'Digital Compact Cameras', u'Instant', u'360 Degree Cameras',\n",
       "       u'Non 360 Degree Cameras', u'Drone', u'Common Use Video Cameras',\n",
       "       u'Professional Video Cameras'], dtype=object)"
      ]
     },
     "execution_count": 121,
     "metadata": {},
     "output_type": "execute_result"
    }
   ],
   "source": [
    "all_concat.Leaf_Node.unique()"
   ]
  },
  {
   "cell_type": "code",
   "execution_count": 122,
   "metadata": {},
   "outputs": [
    {
     "data": {
      "text/plain": [
       "array([u'Photo Devices', u'Cam Corders', u'Not Camera'], dtype=object)"
      ]
     },
     "execution_count": 122,
     "metadata": {},
     "output_type": "execute_result"
    }
   ],
   "source": [
    "all_concat.prediction_level1.unique()"
   ]
  },
  {
   "cell_type": "code",
   "execution_count": 123,
   "metadata": {},
   "outputs": [
    {
     "data": {
      "text/plain": [
       "array([u'DSLR', u'Point & Shoot Cameras', u'Mirrorless Cameras',\n",
       "       u'Not Camera', u'Photo Devices', u'Cam Corders', u'Action Cameras',\n",
       "       u'Traditional Video Cameras'], dtype=object)"
      ]
     },
     "execution_count": 123,
     "metadata": {},
     "output_type": "execute_result"
    }
   ],
   "source": [
    "all_concat.prediction_level2.unique()"
   ]
  },
  {
   "cell_type": "code",
   "execution_count": 124,
   "metadata": {},
   "outputs": [
    {
     "data": {
      "text/plain": [
       "array([u'DSLR', u'Point & Shoot Cameras', u'Mirrorless Cameras',\n",
       "       u'Not Camera', u'Photo Devices', u'Cam Corders',\n",
       "       u'NonFullFrameMirrorlessCamera', u'Full Frame Mirrorless Camera',\n",
       "       u'Bridge Cameras', u'Digital Compact Cameras', u'Instant',\n",
       "       u'360 Degree Cameras', u'Non 360 Degree Cameras', u'Drone',\n",
       "       u'Common Use Video Cameras', u'Professional Video Cameras'], dtype=object)"
      ]
     },
     "execution_count": 124,
     "metadata": {},
     "output_type": "execute_result"
    }
   ],
   "source": [
    "all_concat.prediction_level3.unique()"
   ]
  },
  {
   "cell_type": "markdown",
   "metadata": {},
   "source": [
    "### For whole leaf nodes:"
   ]
  },
  {
   "cell_type": "code",
   "execution_count": 125,
   "metadata": {},
   "outputs": [
    {
     "name": "stdout",
     "output_type": "stream",
     "text": [
      "Confusion Matrix:\n",
      "              ______________Prediction_______________\n",
      "               Cam Corders    Not Camera Photo Devices\n",
      "  Cam Corders           93             2            16\n",
      "   Not Camera            6             9             4\n",
      "Photo Devices            8             0           278\n",
      "\n",
      "Accuracy Score:\n",
      "0.913461538462\n",
      "()\n",
      "Classification Report:\n",
      "               precision    recall  f1-score   support\n",
      "\n",
      "  Cam Corders       0.87      0.84      0.85       111\n",
      "   Not Camera       0.82      0.47      0.60        19\n",
      "Photo Devices       0.93      0.97      0.95       286\n",
      "\n",
      "  avg / total       0.91      0.91      0.91       416\n",
      "\n"
     ]
    }
   ],
   "source": [
    "analytics(all_concat['Parent_node_1'],all_concat['prediction_level1'])#y_level3_mi,target_prediction"
   ]
  },
  {
   "cell_type": "code",
   "execution_count": 126,
   "metadata": {},
   "outputs": [
    {
     "name": "stdout",
     "output_type": "stream",
     "text": [
      "Confusion Matrix:\n",
      "                          _______________________________________________________________________________________________Prediction_______________________________________________________________________________________________\n",
      "                                    Action Cameras               Cam Corders                      DSLR        Mirrorless Cameras                Not Camera             Photo Devices     Point & Shoot Cameras Traditional Video Cameras\n",
      "           Action Cameras                       53                         0                         0                         0                         0                         0                         0                         5\n",
      "              Cam Corders                        0                         0                         0                         0                         0                         0                         0                         0\n",
      "                     DSLR                        0                         0                        58                         5                         0                         0                         9                         0\n",
      "       Mirrorless Cameras                        0                         0                        10                        61                         0                         0                        10                         0\n",
      "               Not Camera                        0                         6                         0                         0                         9                         4                         0                         0\n",
      "            Photo Devices                        0                         0                         0                         0                         0                         0                         0                         0\n",
      "    Point & Shoot Cameras                        0                         0                         2                         6                         0                         0                       125                         0\n",
      "Traditional Video Cameras                        5                         0                         0                         0                         0                         0                         0                        48\n",
      "\n",
      "Accuracy Score:\n",
      "0.850961538462\n",
      "()\n",
      "Classification Report:\n",
      "                           precision    recall  f1-score   support\n",
      "\n",
      "           Action Cameras       0.91      0.91      0.91        58\n",
      "              Cam Corders       0.00      0.00      0.00         0\n",
      "                     DSLR       0.83      0.81      0.82        72\n",
      "       Mirrorless Cameras       0.85      0.75      0.80        81\n",
      "               Not Camera       1.00      0.47      0.64        19\n",
      "            Photo Devices       0.00      0.00      0.00         0\n",
      "    Point & Shoot Cameras       0.87      0.94      0.90       133\n",
      "Traditional Video Cameras       0.91      0.91      0.91        53\n",
      "\n",
      "              avg / total       0.87      0.85      0.86       416\n",
      "\n"
     ]
    },
    {
     "name": "stderr",
     "output_type": "stream",
     "text": [
      "/Users/bengikoseoglu/anaconda2/lib/python2.7/site-packages/sklearn/metrics/classification.py:1137: UndefinedMetricWarning:\n",
      "\n",
      "Recall and F-score are ill-defined and being set to 0.0 in labels with no true samples.\n",
      "\n"
     ]
    }
   ],
   "source": [
    "analytics(all_concat['Parent_node_2'],all_concat['prediction_level2'])#y_level3_mi,target_prediction"
   ]
  },
  {
   "cell_type": "code",
   "execution_count": 127,
   "metadata": {},
   "outputs": [
    {
     "name": "stdout",
     "output_type": "stream",
     "text": [
      "Confusion Matrix:\n",
      "                             ___________________________________________________________________________________________________________________________________________________________________________________________________________________________Prediction___________________________________________________________________________________________________________________________________________________________________________________________________________________________\n",
      "                                      360 Degree Cameras               Bridge Cameras                  Cam Corders     Common Use Video Cameras                         DSLR      Digital Compact Cameras                        Drone Full Frame Mirrorless Camera                      Instant           Mirrorless Cameras       Non 360 Degree Cameras NonFullFrameMirrorlessCamera                   Not Camera                Photo Devices        Point & Shoot Cameras   Professional Video Cameras\n",
      "          360 Degree Cameras                          14                            0                            0                            0                            0                            0                            1                            0                            0                            0                            6                            0                            0                            0                            0                            0\n",
      "              Bridge Cameras                           0                           28                            0                            0                            0                           28                            0                            0                            0                            0                            0                            0                            0                            0                            0                            0\n",
      "                 Cam Corders                           0                            0                            0                            0                            0                            0                            0                            0                            0                            0                            0                            0                            0                            0                            0                            0\n",
      "    Common Use Video Cameras                           0                            0                            0                           12                            0                            0                            0                            0                            0                            0                            0                            0                            0                            0                            0                            9\n",
      "                        DSLR                           0                            0                            0                            0                           58                            0                            0                            0                            0                            5                            0                            0                            0                            0                            9                            0\n",
      "     Digital Compact Cameras                           0                           12                            0                            0                            0                           46                            0                            0                            0                            0                            0                            0                            0                            0                            0                            0\n",
      "                       Drone                           2                            0                            0                            0                            0                            0                           12                            0                            0                            0                            1                            0                            0                            0                            0                            0\n",
      "Full Frame Mirrorless Camera                           0                            0                            0                            0                            0                            0                            0                           19                            0                            0                            0                           12                            0                            0                            0                            0\n",
      "                     Instant                           0                            0                            0                            0                            0                            2                            0                            0                           17                            0                            0                            0                            0                            0                            0                            0\n",
      "          Mirrorless Cameras                           0                            0                            0                            0                            0                            0                            0                            0                            0                            0                            0                            0                            0                            0                            0                            0\n",
      "      Non 360 Degree Cameras                           5                            0                            0                            0                            0                            0                            1                            0                            0                            0                           16                            0                            0                            0                            0                            0\n",
      "NonFullFrameMirrorlessCamera                           0                            0                            0                            0                            0                            0                            0                           14                            0                            0                            0                           36                            0                            0                            0                            0\n",
      "                  Not Camera                           0                            0                            6                            0                            0                            0                            0                            0                            0                            0                            0                            0                            9                            4                            0                            0\n",
      "               Photo Devices                           0                            0                            0                            0                            0                            0                            0                            0                            0                            0                            0                            0                            0                            0                            0                            0\n",
      "       Point & Shoot Cameras                           0                            0                            0                            0                            0                            0                            0                            0                            0                            0                            0                            0                            0                            0                            0                            0\n",
      "  Professional Video Cameras                           0                            0                            0                           11                            0                            0                            0                            0                            0                            0                            0                            0                            0                            0                            0                           21\n",
      "\n",
      "Accuracy Score:\n",
      "0.692307692308\n",
      "()\n",
      "Classification Report:\n",
      "                              precision    recall  f1-score   support\n",
      "\n",
      "          360 Degree Cameras       0.67      0.67      0.67        21\n",
      "              Bridge Cameras       0.70      0.50      0.58        56\n",
      "                 Cam Corders       0.00      0.00      0.00         0\n",
      "    Common Use Video Cameras       0.52      0.57      0.55        21\n",
      "                        DSLR       1.00      0.81      0.89        72\n",
      "     Digital Compact Cameras       0.61      0.79      0.69        58\n",
      "                       Drone       0.86      0.80      0.83        15\n",
      "Full Frame Mirrorless Camera       0.58      0.61      0.59        31\n",
      "                     Instant       1.00      0.89      0.94        19\n",
      "          Mirrorless Cameras       0.00      0.00      0.00         0\n",
      "      Non 360 Degree Cameras       0.70      0.73      0.71        22\n",
      "NonFullFrameMirrorlessCamera       0.75      0.72      0.73        50\n",
      "                  Not Camera       1.00      0.47      0.64        19\n",
      "               Photo Devices       0.00      0.00      0.00         0\n",
      "       Point & Shoot Cameras       0.00      0.00      0.00         0\n",
      "  Professional Video Cameras       0.70      0.66      0.68        32\n",
      "\n",
      "                 avg / total       0.76      0.69      0.71       416\n",
      "\n"
     ]
    }
   ],
   "source": [
    "analytics(all_concat['Leaf_Node'],all_concat['prediction_level3'])#y_level3_mi,target_prediction"
   ]
  },
  {
   "cell_type": "markdown",
   "metadata": {},
   "source": [
    "# 2. Modeling including other variables(Decision Trees):"
   ]
  },
  {
   "cell_type": "markdown",
   "metadata": {},
   "source": [
    "Modeling including brand as bags of word and price."
   ]
  },
  {
   "cell_type": "code",
   "execution_count": 128,
   "metadata": {},
   "outputs": [
    {
     "data": {
      "text/html": [
       "<div>\n",
       "<style>\n",
       "    .dataframe thead tr:only-child th {\n",
       "        text-align: right;\n",
       "    }\n",
       "\n",
       "    .dataframe thead th {\n",
       "        text-align: left;\n",
       "    }\n",
       "\n",
       "    .dataframe tbody tr th {\n",
       "        vertical-align: top;\n",
       "    }\n",
       "</style>\n",
       "<table border=\"1\" class=\"dataframe\">\n",
       "  <thead>\n",
       "    <tr style=\"text-align: right;\">\n",
       "      <th></th>\n",
       "      <th>cameras</th>\n",
       "      <th>oss</th>\n",
       "      <th>yashica</th>\n",
       "      <th>gz</th>\n",
       "      <th>yellow</th>\n",
       "      <th>32mm</th>\n",
       "      <th>012</th>\n",
       "      <th>gb</th>\n",
       "      <th>go</th>\n",
       "      <th>z212</th>\n",
       "      <th>...</th>\n",
       "      <th>karma</th>\n",
       "      <th>fz43</th>\n",
       "      <th>deluxe</th>\n",
       "      <th>cpt</th>\n",
       "      <th>dvr</th>\n",
       "      <th>ID</th>\n",
       "      <th>Parent_node_1</th>\n",
       "      <th>Parent_node_2</th>\n",
       "      <th>Leaf_Node</th>\n",
       "      <th>prediction_level1</th>\n",
       "    </tr>\n",
       "  </thead>\n",
       "  <tbody>\n",
       "    <tr>\n",
       "      <th>0</th>\n",
       "      <td>0</td>\n",
       "      <td>0</td>\n",
       "      <td>0</td>\n",
       "      <td>0</td>\n",
       "      <td>0</td>\n",
       "      <td>0</td>\n",
       "      <td>0</td>\n",
       "      <td>0</td>\n",
       "      <td>0</td>\n",
       "      <td>0</td>\n",
       "      <td>...</td>\n",
       "      <td>0</td>\n",
       "      <td>0</td>\n",
       "      <td>0</td>\n",
       "      <td>0</td>\n",
       "      <td>0</td>\n",
       "      <td>jessops-f2dd233dd6100c900432fd2902df8cde</td>\n",
       "      <td>Photo Devices</td>\n",
       "      <td>Point &amp; Shoot Cameras</td>\n",
       "      <td>Bridge Cameras</td>\n",
       "      <td>Photo Devices</td>\n",
       "    </tr>\n",
       "    <tr>\n",
       "      <th>1</th>\n",
       "      <td>0</td>\n",
       "      <td>0</td>\n",
       "      <td>0</td>\n",
       "      <td>0</td>\n",
       "      <td>0</td>\n",
       "      <td>0</td>\n",
       "      <td>0</td>\n",
       "      <td>0</td>\n",
       "      <td>0</td>\n",
       "      <td>0</td>\n",
       "      <td>...</td>\n",
       "      <td>0</td>\n",
       "      <td>0</td>\n",
       "      <td>0</td>\n",
       "      <td>0</td>\n",
       "      <td>0</td>\n",
       "      <td>jessops-ff2be7ba459709194635812c728a17fd</td>\n",
       "      <td>Photo Devices</td>\n",
       "      <td>DSLR</td>\n",
       "      <td>DSLR</td>\n",
       "      <td>Photo Devices</td>\n",
       "    </tr>\n",
       "    <tr>\n",
       "      <th>2</th>\n",
       "      <td>0</td>\n",
       "      <td>0</td>\n",
       "      <td>0</td>\n",
       "      <td>0</td>\n",
       "      <td>0</td>\n",
       "      <td>0</td>\n",
       "      <td>0</td>\n",
       "      <td>0</td>\n",
       "      <td>0</td>\n",
       "      <td>0</td>\n",
       "      <td>...</td>\n",
       "      <td>0</td>\n",
       "      <td>0</td>\n",
       "      <td>0</td>\n",
       "      <td>0</td>\n",
       "      <td>0</td>\n",
       "      <td>jessops-acfa4e6fdc0962be2da5bc1ed8d44357</td>\n",
       "      <td>Photo Devices</td>\n",
       "      <td>DSLR</td>\n",
       "      <td>DSLR</td>\n",
       "      <td>Photo Devices</td>\n",
       "    </tr>\n",
       "    <tr>\n",
       "      <th>3</th>\n",
       "      <td>0</td>\n",
       "      <td>0</td>\n",
       "      <td>0</td>\n",
       "      <td>0</td>\n",
       "      <td>0</td>\n",
       "      <td>0</td>\n",
       "      <td>0</td>\n",
       "      <td>0</td>\n",
       "      <td>0</td>\n",
       "      <td>0</td>\n",
       "      <td>...</td>\n",
       "      <td>0</td>\n",
       "      <td>0</td>\n",
       "      <td>0</td>\n",
       "      <td>0</td>\n",
       "      <td>0</td>\n",
       "      <td>jessops-cabb446087d8428bfa741078869439b8</td>\n",
       "      <td>Photo Devices</td>\n",
       "      <td>DSLR</td>\n",
       "      <td>DSLR</td>\n",
       "      <td>Photo Devices</td>\n",
       "    </tr>\n",
       "    <tr>\n",
       "      <th>4</th>\n",
       "      <td>0</td>\n",
       "      <td>0</td>\n",
       "      <td>0</td>\n",
       "      <td>0</td>\n",
       "      <td>0</td>\n",
       "      <td>0</td>\n",
       "      <td>0</td>\n",
       "      <td>0</td>\n",
       "      <td>0</td>\n",
       "      <td>0</td>\n",
       "      <td>...</td>\n",
       "      <td>0</td>\n",
       "      <td>1</td>\n",
       "      <td>0</td>\n",
       "      <td>0</td>\n",
       "      <td>0</td>\n",
       "      <td>jessops-8c6e0672aa9297ee8ff4d95fa5e2edc0</td>\n",
       "      <td>Photo Devices</td>\n",
       "      <td>Mirrorless Cameras</td>\n",
       "      <td>Full Frame Mirrorless Camera</td>\n",
       "      <td>Photo Devices</td>\n",
       "    </tr>\n",
       "  </tbody>\n",
       "</table>\n",
       "<p>5 rows × 880 columns</p>\n",
       "</div>"
      ],
      "text/plain": [
       "   cameras  oss  yashica  gz  yellow  32mm  012  gb  go  z212  \\\n",
       "0        0    0        0   0       0     0    0   0   0     0   \n",
       "1        0    0        0   0       0     0    0   0   0     0   \n",
       "2        0    0        0   0       0     0    0   0   0     0   \n",
       "3        0    0        0   0       0     0    0   0   0     0   \n",
       "4        0    0        0   0       0     0    0   0   0     0   \n",
       "\n",
       "         ...          karma  fz43  deluxe  cpt  dvr  \\\n",
       "0        ...              0     0       0    0    0   \n",
       "1        ...              0     0       0    0    0   \n",
       "2        ...              0     0       0    0    0   \n",
       "3        ...              0     0       0    0    0   \n",
       "4        ...              0     1       0    0    0   \n",
       "\n",
       "                                         ID  Parent_node_1  \\\n",
       "0  jessops-f2dd233dd6100c900432fd2902df8cde  Photo Devices   \n",
       "1  jessops-ff2be7ba459709194635812c728a17fd  Photo Devices   \n",
       "2  jessops-acfa4e6fdc0962be2da5bc1ed8d44357  Photo Devices   \n",
       "3  jessops-cabb446087d8428bfa741078869439b8  Photo Devices   \n",
       "4  jessops-8c6e0672aa9297ee8ff4d95fa5e2edc0  Photo Devices   \n",
       "\n",
       "           Parent_node_2                     Leaf_Node  prediction_level1  \n",
       "0  Point & Shoot Cameras                Bridge Cameras      Photo Devices  \n",
       "1                   DSLR                          DSLR      Photo Devices  \n",
       "2                   DSLR                          DSLR      Photo Devices  \n",
       "3                   DSLR                          DSLR      Photo Devices  \n",
       "4     Mirrorless Cameras  Full Frame Mirrorless Camera      Photo Devices  \n",
       "\n",
       "[5 rows x 880 columns]"
      ]
     },
     "execution_count": 128,
     "metadata": {},
     "output_type": "execute_result"
    }
   ],
   "source": [
    "bags_words.head()"
   ]
  },
  {
   "cell_type": "code",
   "execution_count": 129,
   "metadata": {},
   "outputs": [
    {
     "data": {
      "text/html": [
       "<div>\n",
       "<style>\n",
       "    .dataframe thead tr:only-child th {\n",
       "        text-align: right;\n",
       "    }\n",
       "\n",
       "    .dataframe thead th {\n",
       "        text-align: left;\n",
       "    }\n",
       "\n",
       "    .dataframe tbody tr th {\n",
       "        vertical-align: top;\n",
       "    }\n",
       "</style>\n",
       "<table border=\"1\" class=\"dataframe\">\n",
       "  <thead>\n",
       "    <tr style=\"text-align: right;\">\n",
       "      <th></th>\n",
       "      <th>ID</th>\n",
       "      <th>name</th>\n",
       "      <th>Leaf_Node</th>\n",
       "      <th>priceCurrency</th>\n",
       "      <th>price</th>\n",
       "      <th>brand</th>\n",
       "      <th>itemCondition</th>\n",
       "      <th>availability</th>\n",
       "      <th>Description</th>\n",
       "      <th>image</th>\n",
       "      <th>...</th>\n",
       "      <th>gtin13</th>\n",
       "      <th>gtin14</th>\n",
       "      <th>gtin8</th>\n",
       "      <th>ratingValue</th>\n",
       "      <th>bestRating</th>\n",
       "      <th>reviewCount</th>\n",
       "      <th>Unnamed: 17</th>\n",
       "      <th>Good Examples</th>\n",
       "      <th>parent_node_1</th>\n",
       "      <th>parent_node_2</th>\n",
       "    </tr>\n",
       "  </thead>\n",
       "  <tbody>\n",
       "    <tr>\n",
       "      <th>0</th>\n",
       "      <td>jessops-f2dd233dd6100c900432fd2902df8cde</td>\n",
       "      <td>Nikon Coolpix P900 Digital Camera</td>\n",
       "      <td>Bridge Cameras</td>\n",
       "      <td>GBP</td>\n",
       "      <td>479</td>\n",
       "      <td>Nikon</td>\n",
       "      <td>None</td>\n",
       "      <td>True</td>\n",
       "      <td>None</td>\n",
       "      <td>https://i.jessops.com/images/home/homepage/100...</td>\n",
       "      <td>...</td>\n",
       "      <td>NaN</td>\n",
       "      <td>None</td>\n",
       "      <td>2018-09-08 00:00:00.000000</td>\n",
       "      <td>10</td>\n",
       "      <td>162.0</td>\n",
       "      <td>NaN</td>\n",
       "      <td>None</td>\n",
       "      <td>None</td>\n",
       "      <td>Photo Devices</td>\n",
       "      <td>Point &amp; Shoot Cameras</td>\n",
       "    </tr>\n",
       "    <tr>\n",
       "      <th>1</th>\n",
       "      <td>jessops-ff2be7ba459709194635812c728a17fd</td>\n",
       "      <td>Canon EOS 750D Digital SLR with 18-55mm IS STM...</td>\n",
       "      <td>DSLR</td>\n",
       "      <td>GBP</td>\n",
       "      <td>539</td>\n",
       "      <td>Canon</td>\n",
       "      <td>None</td>\n",
       "      <td>True</td>\n",
       "      <td>None</td>\n",
       "      <td>https://i.jessops.com/images/home/homepage/100...</td>\n",
       "      <td>...</td>\n",
       "      <td>NaN</td>\n",
       "      <td>None</td>\n",
       "      <td>2018-02-09 00:00:00.000000</td>\n",
       "      <td>10</td>\n",
       "      <td>361.0</td>\n",
       "      <td>NaN</td>\n",
       "      <td>None</td>\n",
       "      <td>None</td>\n",
       "      <td>Photo Devices</td>\n",
       "      <td>DSLR</td>\n",
       "    </tr>\n",
       "    <tr>\n",
       "      <th>2</th>\n",
       "      <td>jessops-acfa4e6fdc0962be2da5bc1ed8d44357</td>\n",
       "      <td>Canon EOS 5D Mark IV Digital SLR Body</td>\n",
       "      <td>DSLR</td>\n",
       "      <td>GBP</td>\n",
       "      <td>3249</td>\n",
       "      <td>Canon</td>\n",
       "      <td>None</td>\n",
       "      <td>True</td>\n",
       "      <td>None</td>\n",
       "      <td>https://i.jessops.com/images/home/homepage/100...</td>\n",
       "      <td>...</td>\n",
       "      <td>NaN</td>\n",
       "      <td>None</td>\n",
       "      <td>None</td>\n",
       "      <td>2018-07-09 00:00:00</td>\n",
       "      <td>10.0</td>\n",
       "      <td>25.0</td>\n",
       "      <td>None</td>\n",
       "      <td>None</td>\n",
       "      <td>Photo Devices</td>\n",
       "      <td>DSLR</td>\n",
       "    </tr>\n",
       "    <tr>\n",
       "      <th>3</th>\n",
       "      <td>jessops-cabb446087d8428bfa741078869439b8</td>\n",
       "      <td>Canon EOS 7D Mark II Digital SLR Body</td>\n",
       "      <td>DSLR</td>\n",
       "      <td>GBP</td>\n",
       "      <td>1349</td>\n",
       "      <td>Canon</td>\n",
       "      <td>None</td>\n",
       "      <td>True</td>\n",
       "      <td>None</td>\n",
       "      <td>https://i.jessops.com/images/home/homepage/100...</td>\n",
       "      <td>...</td>\n",
       "      <td>NaN</td>\n",
       "      <td>None</td>\n",
       "      <td>None</td>\n",
       "      <td>2018-04-09 00:00:00</td>\n",
       "      <td>10.0</td>\n",
       "      <td>268.0</td>\n",
       "      <td>None</td>\n",
       "      <td>None</td>\n",
       "      <td>Photo Devices</td>\n",
       "      <td>DSLR</td>\n",
       "    </tr>\n",
       "    <tr>\n",
       "      <th>4</th>\n",
       "      <td>jessops-8c6e0672aa9297ee8ff4d95fa5e2edc0</td>\n",
       "      <td>Sony A6000 Mirrorless Camera in Black with 16-...</td>\n",
       "      <td>Full Frame Mirrorless Camera</td>\n",
       "      <td>GBP</td>\n",
       "      <td>449</td>\n",
       "      <td>Sony</td>\n",
       "      <td>None</td>\n",
       "      <td>True</td>\n",
       "      <td>None</td>\n",
       "      <td>https://i.jessops.com/images/home/homepage/100...</td>\n",
       "      <td>...</td>\n",
       "      <td>NaN</td>\n",
       "      <td>None</td>\n",
       "      <td>None</td>\n",
       "      <td>9.0</td>\n",
       "      <td>10.0</td>\n",
       "      <td>107.0</td>\n",
       "      <td>None</td>\n",
       "      <td>None</td>\n",
       "      <td>Photo Devices</td>\n",
       "      <td>Mirrorless Cameras</td>\n",
       "    </tr>\n",
       "  </tbody>\n",
       "</table>\n",
       "<p>5 rows × 21 columns</p>\n",
       "</div>"
      ],
      "text/plain": [
       "                                         ID  \\\n",
       "0  jessops-f2dd233dd6100c900432fd2902df8cde   \n",
       "1  jessops-ff2be7ba459709194635812c728a17fd   \n",
       "2  jessops-acfa4e6fdc0962be2da5bc1ed8d44357   \n",
       "3  jessops-cabb446087d8428bfa741078869439b8   \n",
       "4  jessops-8c6e0672aa9297ee8ff4d95fa5e2edc0   \n",
       "\n",
       "                                                name  \\\n",
       "0                  Nikon Coolpix P900 Digital Camera   \n",
       "1  Canon EOS 750D Digital SLR with 18-55mm IS STM...   \n",
       "2              Canon EOS 5D Mark IV Digital SLR Body   \n",
       "3              Canon EOS 7D Mark II Digital SLR Body   \n",
       "4  Sony A6000 Mirrorless Camera in Black with 16-...   \n",
       "\n",
       "                      Leaf_Node priceCurrency price  brand itemCondition  \\\n",
       "0                Bridge Cameras           GBP   479  Nikon          None   \n",
       "1                          DSLR           GBP   539  Canon          None   \n",
       "2                          DSLR           GBP  3249  Canon          None   \n",
       "3                          DSLR           GBP  1349  Canon          None   \n",
       "4  Full Frame Mirrorless Camera           GBP   449   Sony          None   \n",
       "\n",
       "  availability Description                                              image  \\\n",
       "0         True        None  https://i.jessops.com/images/home/homepage/100...   \n",
       "1         True        None  https://i.jessops.com/images/home/homepage/100...   \n",
       "2         True        None  https://i.jessops.com/images/home/homepage/100...   \n",
       "3         True        None  https://i.jessops.com/images/home/homepage/100...   \n",
       "4         True        None  https://i.jessops.com/images/home/homepage/100...   \n",
       "\n",
       "           ...           gtin13  gtin14                       gtin8  \\\n",
       "0          ...              NaN    None  2018-09-08 00:00:00.000000   \n",
       "1          ...              NaN    None  2018-02-09 00:00:00.000000   \n",
       "2          ...              NaN    None                        None   \n",
       "3          ...              NaN    None                        None   \n",
       "4          ...              NaN    None                        None   \n",
       "\n",
       "           ratingValue bestRating  reviewCount  Unnamed: 17 Good Examples  \\\n",
       "0                   10      162.0          NaN         None          None   \n",
       "1                   10      361.0          NaN         None          None   \n",
       "2  2018-07-09 00:00:00       10.0         25.0         None          None   \n",
       "3  2018-04-09 00:00:00       10.0        268.0         None          None   \n",
       "4                  9.0       10.0        107.0         None          None   \n",
       "\n",
       "   parent_node_1          parent_node_2  \n",
       "0  Photo Devices  Point & Shoot Cameras  \n",
       "1  Photo Devices                   DSLR  \n",
       "2  Photo Devices                   DSLR  \n",
       "3  Photo Devices                   DSLR  \n",
       "4  Photo Devices     Mirrorless Cameras  \n",
       "\n",
       "[5 rows x 21 columns]"
      ]
     },
     "execution_count": 129,
     "metadata": {},
     "output_type": "execute_result"
    }
   ],
   "source": [
    "df.head()"
   ]
  },
  {
   "cell_type": "code",
   "execution_count": 130,
   "metadata": {
    "collapsed": true
   },
   "outputs": [],
   "source": [
    "df_model=df[['ID','priceCurrency','price','brand']]"
   ]
  },
  {
   "cell_type": "code",
   "execution_count": 131,
   "metadata": {
    "collapsed": true
   },
   "outputs": [],
   "source": [
    "brand_dummies=pd.get_dummies(df_model['brand'])"
   ]
  },
  {
   "cell_type": "code",
   "execution_count": 132,
   "metadata": {
    "collapsed": true
   },
   "outputs": [],
   "source": [
    "pricecur_dummies=pd.get_dummies(df_model['priceCurrency'])"
   ]
  },
  {
   "cell_type": "code",
   "execution_count": 133,
   "metadata": {
    "collapsed": true
   },
   "outputs": [],
   "source": [
    "df_model=pd.concat([df_model,brand_dummies,pricecur_dummies],axis=1) #pd.concat([df1, df4], axis=1"
   ]
  },
  {
   "cell_type": "code",
   "execution_count": 134,
   "metadata": {},
   "outputs": [
    {
     "data": {
      "text/html": [
       "<div>\n",
       "<style>\n",
       "    .dataframe thead tr:only-child th {\n",
       "        text-align: right;\n",
       "    }\n",
       "\n",
       "    .dataframe thead th {\n",
       "        text-align: left;\n",
       "    }\n",
       "\n",
       "    .dataframe tbody tr th {\n",
       "        vertical-align: top;\n",
       "    }\n",
       "</style>\n",
       "<table border=\"1\" class=\"dataframe\">\n",
       "  <thead>\n",
       "    <tr style=\"text-align: right;\">\n",
       "      <th></th>\n",
       "      <th>ID</th>\n",
       "      <th>priceCurrency</th>\n",
       "      <th>price</th>\n",
       "      <th>brand</th>\n",
       "      <th>360fly</th>\n",
       "      <th>6Ave</th>\n",
       "      <th>Air Hogs</th>\n",
       "      <th>AmazingForLess</th>\n",
       "      <th>Axess Products</th>\n",
       "      <th>Bell+Howell</th>\n",
       "      <th>...</th>\n",
       "      <th>Teds</th>\n",
       "      <th>Tri State Camera</th>\n",
       "      <th>TriStateCamera</th>\n",
       "      <th>Veho</th>\n",
       "      <th>Vivitar</th>\n",
       "      <th>Xiro</th>\n",
       "      <th>Yashica</th>\n",
       "      <th>Yuneec Ltd.</th>\n",
       "      <th>GBP</th>\n",
       "      <th>USD</th>\n",
       "    </tr>\n",
       "  </thead>\n",
       "  <tbody>\n",
       "    <tr>\n",
       "      <th>0</th>\n",
       "      <td>jessops-f2dd233dd6100c900432fd2902df8cde</td>\n",
       "      <td>GBP</td>\n",
       "      <td>479</td>\n",
       "      <td>Nikon</td>\n",
       "      <td>0</td>\n",
       "      <td>0</td>\n",
       "      <td>0</td>\n",
       "      <td>0</td>\n",
       "      <td>0</td>\n",
       "      <td>0</td>\n",
       "      <td>...</td>\n",
       "      <td>0</td>\n",
       "      <td>0</td>\n",
       "      <td>0</td>\n",
       "      <td>0</td>\n",
       "      <td>0</td>\n",
       "      <td>0</td>\n",
       "      <td>0</td>\n",
       "      <td>0</td>\n",
       "      <td>1</td>\n",
       "      <td>0</td>\n",
       "    </tr>\n",
       "    <tr>\n",
       "      <th>1</th>\n",
       "      <td>jessops-ff2be7ba459709194635812c728a17fd</td>\n",
       "      <td>GBP</td>\n",
       "      <td>539</td>\n",
       "      <td>Canon</td>\n",
       "      <td>0</td>\n",
       "      <td>0</td>\n",
       "      <td>0</td>\n",
       "      <td>0</td>\n",
       "      <td>0</td>\n",
       "      <td>0</td>\n",
       "      <td>...</td>\n",
       "      <td>0</td>\n",
       "      <td>0</td>\n",
       "      <td>0</td>\n",
       "      <td>0</td>\n",
       "      <td>0</td>\n",
       "      <td>0</td>\n",
       "      <td>0</td>\n",
       "      <td>0</td>\n",
       "      <td>1</td>\n",
       "      <td>0</td>\n",
       "    </tr>\n",
       "    <tr>\n",
       "      <th>2</th>\n",
       "      <td>jessops-acfa4e6fdc0962be2da5bc1ed8d44357</td>\n",
       "      <td>GBP</td>\n",
       "      <td>3249</td>\n",
       "      <td>Canon</td>\n",
       "      <td>0</td>\n",
       "      <td>0</td>\n",
       "      <td>0</td>\n",
       "      <td>0</td>\n",
       "      <td>0</td>\n",
       "      <td>0</td>\n",
       "      <td>...</td>\n",
       "      <td>0</td>\n",
       "      <td>0</td>\n",
       "      <td>0</td>\n",
       "      <td>0</td>\n",
       "      <td>0</td>\n",
       "      <td>0</td>\n",
       "      <td>0</td>\n",
       "      <td>0</td>\n",
       "      <td>1</td>\n",
       "      <td>0</td>\n",
       "    </tr>\n",
       "    <tr>\n",
       "      <th>3</th>\n",
       "      <td>jessops-cabb446087d8428bfa741078869439b8</td>\n",
       "      <td>GBP</td>\n",
       "      <td>1349</td>\n",
       "      <td>Canon</td>\n",
       "      <td>0</td>\n",
       "      <td>0</td>\n",
       "      <td>0</td>\n",
       "      <td>0</td>\n",
       "      <td>0</td>\n",
       "      <td>0</td>\n",
       "      <td>...</td>\n",
       "      <td>0</td>\n",
       "      <td>0</td>\n",
       "      <td>0</td>\n",
       "      <td>0</td>\n",
       "      <td>0</td>\n",
       "      <td>0</td>\n",
       "      <td>0</td>\n",
       "      <td>0</td>\n",
       "      <td>1</td>\n",
       "      <td>0</td>\n",
       "    </tr>\n",
       "    <tr>\n",
       "      <th>4</th>\n",
       "      <td>jessops-8c6e0672aa9297ee8ff4d95fa5e2edc0</td>\n",
       "      <td>GBP</td>\n",
       "      <td>449</td>\n",
       "      <td>Sony</td>\n",
       "      <td>0</td>\n",
       "      <td>0</td>\n",
       "      <td>0</td>\n",
       "      <td>0</td>\n",
       "      <td>0</td>\n",
       "      <td>0</td>\n",
       "      <td>...</td>\n",
       "      <td>0</td>\n",
       "      <td>0</td>\n",
       "      <td>0</td>\n",
       "      <td>0</td>\n",
       "      <td>0</td>\n",
       "      <td>0</td>\n",
       "      <td>0</td>\n",
       "      <td>0</td>\n",
       "      <td>1</td>\n",
       "      <td>0</td>\n",
       "    </tr>\n",
       "  </tbody>\n",
       "</table>\n",
       "<p>5 rows × 81 columns</p>\n",
       "</div>"
      ],
      "text/plain": [
       "                                         ID priceCurrency price  brand  \\\n",
       "0  jessops-f2dd233dd6100c900432fd2902df8cde           GBP   479  Nikon   \n",
       "1  jessops-ff2be7ba459709194635812c728a17fd           GBP   539  Canon   \n",
       "2  jessops-acfa4e6fdc0962be2da5bc1ed8d44357           GBP  3249  Canon   \n",
       "3  jessops-cabb446087d8428bfa741078869439b8           GBP  1349  Canon   \n",
       "4  jessops-8c6e0672aa9297ee8ff4d95fa5e2edc0           GBP   449   Sony   \n",
       "\n",
       "   360fly  6Ave  Air Hogs  AmazingForLess  Axess Products  Bell+Howell ...   \\\n",
       "0       0     0         0               0               0            0 ...    \n",
       "1       0     0         0               0               0            0 ...    \n",
       "2       0     0         0               0               0            0 ...    \n",
       "3       0     0         0               0               0            0 ...    \n",
       "4       0     0         0               0               0            0 ...    \n",
       "\n",
       "   Teds  Tri State Camera  TriStateCamera  Veho  Vivitar  Xiro  Yashica  \\\n",
       "0     0                 0               0     0        0     0        0   \n",
       "1     0                 0               0     0        0     0        0   \n",
       "2     0                 0               0     0        0     0        0   \n",
       "3     0                 0               0     0        0     0        0   \n",
       "4     0                 0               0     0        0     0        0   \n",
       "\n",
       "   Yuneec Ltd.  GBP  USD  \n",
       "0            0    1    0  \n",
       "1            0    1    0  \n",
       "2            0    1    0  \n",
       "3            0    1    0  \n",
       "4            0    1    0  \n",
       "\n",
       "[5 rows x 81 columns]"
      ]
     },
     "execution_count": 134,
     "metadata": {},
     "output_type": "execute_result"
    }
   ],
   "source": [
    "df_model.head()"
   ]
  },
  {
   "cell_type": "code",
   "execution_count": 135,
   "metadata": {},
   "outputs": [
    {
     "data": {
      "text/plain": [
       "(416, 81)"
      ]
     },
     "execution_count": 135,
     "metadata": {},
     "output_type": "execute_result"
    }
   ],
   "source": [
    "df_model.shape"
   ]
  },
  {
   "cell_type": "code",
   "execution_count": 136,
   "metadata": {
    "collapsed": true
   },
   "outputs": [],
   "source": [
    "bags=bags_words.drop(['prediction_level1'],axis=1)"
   ]
  },
  {
   "cell_type": "code",
   "execution_count": 137,
   "metadata": {},
   "outputs": [
    {
     "data": {
      "text/plain": [
       "(416, 879)"
      ]
     },
     "execution_count": 137,
     "metadata": {},
     "output_type": "execute_result"
    }
   ],
   "source": [
    "bags.shape"
   ]
  },
  {
   "cell_type": "code",
   "execution_count": 138,
   "metadata": {
    "collapsed": true
   },
   "outputs": [],
   "source": [
    "model2=df_model.merge(bags,on='ID',how='inner')"
   ]
  },
  {
   "cell_type": "code",
   "execution_count": 140,
   "metadata": {},
   "outputs": [
    {
     "data": {
      "text/html": [
       "<div>\n",
       "<style>\n",
       "    .dataframe thead tr:only-child th {\n",
       "        text-align: right;\n",
       "    }\n",
       "\n",
       "    .dataframe thead th {\n",
       "        text-align: left;\n",
       "    }\n",
       "\n",
       "    .dataframe tbody tr th {\n",
       "        vertical-align: top;\n",
       "    }\n",
       "</style>\n",
       "<table border=\"1\" class=\"dataframe\">\n",
       "  <thead>\n",
       "    <tr style=\"text-align: right;\">\n",
       "      <th></th>\n",
       "      <th>ID</th>\n",
       "      <th>priceCurrency</th>\n",
       "      <th>price</th>\n",
       "      <th>brand</th>\n",
       "      <th>360fly_x</th>\n",
       "      <th>6Ave</th>\n",
       "      <th>Air Hogs</th>\n",
       "      <th>AmazingForLess</th>\n",
       "      <th>Axess Products</th>\n",
       "      <th>Bell+Howell</th>\n",
       "      <th>...</th>\n",
       "      <th>eos</th>\n",
       "      <th>hx400</th>\n",
       "      <th>karma</th>\n",
       "      <th>fz43</th>\n",
       "      <th>deluxe</th>\n",
       "      <th>cpt</th>\n",
       "      <th>dvr</th>\n",
       "      <th>Parent_node_1</th>\n",
       "      <th>Parent_node_2</th>\n",
       "      <th>Leaf_Node</th>\n",
       "    </tr>\n",
       "  </thead>\n",
       "  <tbody>\n",
       "    <tr>\n",
       "      <th>0</th>\n",
       "      <td>jessops-f2dd233dd6100c900432fd2902df8cde</td>\n",
       "      <td>GBP</td>\n",
       "      <td>479</td>\n",
       "      <td>Nikon</td>\n",
       "      <td>0</td>\n",
       "      <td>0</td>\n",
       "      <td>0</td>\n",
       "      <td>0</td>\n",
       "      <td>0</td>\n",
       "      <td>0</td>\n",
       "      <td>...</td>\n",
       "      <td>0</td>\n",
       "      <td>0</td>\n",
       "      <td>0</td>\n",
       "      <td>0</td>\n",
       "      <td>0</td>\n",
       "      <td>0</td>\n",
       "      <td>0</td>\n",
       "      <td>Photo Devices</td>\n",
       "      <td>Point &amp; Shoot Cameras</td>\n",
       "      <td>Bridge Cameras</td>\n",
       "    </tr>\n",
       "    <tr>\n",
       "      <th>1</th>\n",
       "      <td>jessops-ff2be7ba459709194635812c728a17fd</td>\n",
       "      <td>GBP</td>\n",
       "      <td>539</td>\n",
       "      <td>Canon</td>\n",
       "      <td>0</td>\n",
       "      <td>0</td>\n",
       "      <td>0</td>\n",
       "      <td>0</td>\n",
       "      <td>0</td>\n",
       "      <td>0</td>\n",
       "      <td>...</td>\n",
       "      <td>0</td>\n",
       "      <td>0</td>\n",
       "      <td>0</td>\n",
       "      <td>0</td>\n",
       "      <td>0</td>\n",
       "      <td>0</td>\n",
       "      <td>0</td>\n",
       "      <td>Photo Devices</td>\n",
       "      <td>DSLR</td>\n",
       "      <td>DSLR</td>\n",
       "    </tr>\n",
       "    <tr>\n",
       "      <th>2</th>\n",
       "      <td>jessops-acfa4e6fdc0962be2da5bc1ed8d44357</td>\n",
       "      <td>GBP</td>\n",
       "      <td>3249</td>\n",
       "      <td>Canon</td>\n",
       "      <td>0</td>\n",
       "      <td>0</td>\n",
       "      <td>0</td>\n",
       "      <td>0</td>\n",
       "      <td>0</td>\n",
       "      <td>0</td>\n",
       "      <td>...</td>\n",
       "      <td>0</td>\n",
       "      <td>0</td>\n",
       "      <td>0</td>\n",
       "      <td>0</td>\n",
       "      <td>0</td>\n",
       "      <td>0</td>\n",
       "      <td>0</td>\n",
       "      <td>Photo Devices</td>\n",
       "      <td>DSLR</td>\n",
       "      <td>DSLR</td>\n",
       "    </tr>\n",
       "    <tr>\n",
       "      <th>3</th>\n",
       "      <td>jessops-cabb446087d8428bfa741078869439b8</td>\n",
       "      <td>GBP</td>\n",
       "      <td>1349</td>\n",
       "      <td>Canon</td>\n",
       "      <td>0</td>\n",
       "      <td>0</td>\n",
       "      <td>0</td>\n",
       "      <td>0</td>\n",
       "      <td>0</td>\n",
       "      <td>0</td>\n",
       "      <td>...</td>\n",
       "      <td>0</td>\n",
       "      <td>0</td>\n",
       "      <td>0</td>\n",
       "      <td>0</td>\n",
       "      <td>0</td>\n",
       "      <td>0</td>\n",
       "      <td>0</td>\n",
       "      <td>Photo Devices</td>\n",
       "      <td>DSLR</td>\n",
       "      <td>DSLR</td>\n",
       "    </tr>\n",
       "    <tr>\n",
       "      <th>4</th>\n",
       "      <td>jessops-8c6e0672aa9297ee8ff4d95fa5e2edc0</td>\n",
       "      <td>GBP</td>\n",
       "      <td>449</td>\n",
       "      <td>Sony</td>\n",
       "      <td>0</td>\n",
       "      <td>0</td>\n",
       "      <td>0</td>\n",
       "      <td>0</td>\n",
       "      <td>0</td>\n",
       "      <td>0</td>\n",
       "      <td>...</td>\n",
       "      <td>0</td>\n",
       "      <td>0</td>\n",
       "      <td>0</td>\n",
       "      <td>1</td>\n",
       "      <td>0</td>\n",
       "      <td>0</td>\n",
       "      <td>0</td>\n",
       "      <td>Photo Devices</td>\n",
       "      <td>Mirrorless Cameras</td>\n",
       "      <td>Full Frame Mirrorless Camera</td>\n",
       "    </tr>\n",
       "  </tbody>\n",
       "</table>\n",
       "<p>5 rows × 959 columns</p>\n",
       "</div>"
      ],
      "text/plain": [
       "                                         ID priceCurrency price  brand  \\\n",
       "0  jessops-f2dd233dd6100c900432fd2902df8cde           GBP   479  Nikon   \n",
       "1  jessops-ff2be7ba459709194635812c728a17fd           GBP   539  Canon   \n",
       "2  jessops-acfa4e6fdc0962be2da5bc1ed8d44357           GBP  3249  Canon   \n",
       "3  jessops-cabb446087d8428bfa741078869439b8           GBP  1349  Canon   \n",
       "4  jessops-8c6e0672aa9297ee8ff4d95fa5e2edc0           GBP   449   Sony   \n",
       "\n",
       "   360fly_x  6Ave  Air Hogs  AmazingForLess  Axess Products  Bell+Howell  \\\n",
       "0         0     0         0               0               0            0   \n",
       "1         0     0         0               0               0            0   \n",
       "2         0     0         0               0               0            0   \n",
       "3         0     0         0               0               0            0   \n",
       "4         0     0         0               0               0            0   \n",
       "\n",
       "               ...               eos  hx400  karma  fz43  deluxe  cpt  dvr  \\\n",
       "0              ...                 0      0      0     0       0    0    0   \n",
       "1              ...                 0      0      0     0       0    0    0   \n",
       "2              ...                 0      0      0     0       0    0    0   \n",
       "3              ...                 0      0      0     0       0    0    0   \n",
       "4              ...                 0      0      0     1       0    0    0   \n",
       "\n",
       "   Parent_node_1          Parent_node_2                     Leaf_Node  \n",
       "0  Photo Devices  Point & Shoot Cameras                Bridge Cameras  \n",
       "1  Photo Devices                   DSLR                          DSLR  \n",
       "2  Photo Devices                   DSLR                          DSLR  \n",
       "3  Photo Devices                   DSLR                          DSLR  \n",
       "4  Photo Devices     Mirrorless Cameras  Full Frame Mirrorless Camera  \n",
       "\n",
       "[5 rows x 959 columns]"
      ]
     },
     "execution_count": 140,
     "metadata": {},
     "output_type": "execute_result"
    }
   ],
   "source": [
    "model2.head()"
   ]
  },
  {
   "cell_type": "code",
   "execution_count": 141,
   "metadata": {
    "collapsed": true
   },
   "outputs": [],
   "source": [
    "model2=model2.drop(['priceCurrency','brand'],axis=1)"
   ]
  },
  {
   "cell_type": "code",
   "execution_count": 142,
   "metadata": {
    "collapsed": true
   },
   "outputs": [],
   "source": [
    "a=model2['price'].str.split(',', 1, expand=True)"
   ]
  },
  {
   "cell_type": "code",
   "execution_count": 137,
   "metadata": {},
   "outputs": [
    {
     "data": {
      "text/html": [
       "<div>\n",
       "<style>\n",
       "    .dataframe thead tr:only-child th {\n",
       "        text-align: right;\n",
       "    }\n",
       "\n",
       "    .dataframe thead th {\n",
       "        text-align: left;\n",
       "    }\n",
       "\n",
       "    .dataframe tbody tr th {\n",
       "        vertical-align: top;\n",
       "    }\n",
       "</style>\n",
       "<table border=\"1\" class=\"dataframe\">\n",
       "  <thead>\n",
       "    <tr style=\"text-align: right;\">\n",
       "      <th></th>\n",
       "      <th>0</th>\n",
       "      <th>1</th>\n",
       "    </tr>\n",
       "  </thead>\n",
       "  <tbody>\n",
       "    <tr>\n",
       "      <th>0</th>\n",
       "      <td>479</td>\n",
       "      <td>None</td>\n",
       "    </tr>\n",
       "    <tr>\n",
       "      <th>1</th>\n",
       "      <td>539</td>\n",
       "      <td>None</td>\n",
       "    </tr>\n",
       "    <tr>\n",
       "      <th>2</th>\n",
       "      <td>3249</td>\n",
       "      <td>None</td>\n",
       "    </tr>\n",
       "    <tr>\n",
       "      <th>3</th>\n",
       "      <td>1349</td>\n",
       "      <td>None</td>\n",
       "    </tr>\n",
       "    <tr>\n",
       "      <th>4</th>\n",
       "      <td>449</td>\n",
       "      <td>None</td>\n",
       "    </tr>\n",
       "  </tbody>\n",
       "</table>\n",
       "</div>"
      ],
      "text/plain": [
       "      0     1\n",
       "0   479  None\n",
       "1   539  None\n",
       "2  3249  None\n",
       "3  1349  None\n",
       "4   449  None"
      ]
     },
     "execution_count": 137,
     "metadata": {},
     "output_type": "execute_result"
    }
   ],
   "source": [
    "a.head()"
   ]
  },
  {
   "cell_type": "code",
   "execution_count": 138,
   "metadata": {
    "collapsed": true
   },
   "outputs": [],
   "source": [
    "a=a.drop([206])"
   ]
  },
  {
   "cell_type": "code",
   "execution_count": 139,
   "metadata": {
    "collapsed": true
   },
   "outputs": [],
   "source": [
    "a=a.astype(float)"
   ]
  },
  {
   "cell_type": "code",
   "execution_count": 140,
   "metadata": {
    "collapsed": true
   },
   "outputs": [],
   "source": [
    "model2['price']=a[0]"
   ]
  },
  {
   "cell_type": "code",
   "execution_count": 141,
   "metadata": {},
   "outputs": [
    {
     "data": {
      "text/plain": [
       "499.0"
      ]
     },
     "execution_count": 141,
     "metadata": {},
     "output_type": "execute_result"
    }
   ],
   "source": [
    "median(model2['price'].dropna())"
   ]
  },
  {
   "cell_type": "code",
   "execution_count": 142,
   "metadata": {
    "collapsed": true
   },
   "outputs": [],
   "source": [
    "# filling missing values with median\n",
    "model2['price']=model2['price'].fillna(499)"
   ]
  },
  {
   "cell_type": "code",
   "execution_count": 143,
   "metadata": {
    "collapsed": true
   },
   "outputs": [],
   "source": [
    "from sklearn.metrics import confusion_matrix\n",
    "from sklearn.utils.multiclass import unique_labels\n",
    "from sklearn.metrics import confusion_matrix\n",
    "from sklearn.metrics import classification_report\n",
    "from sklearn.metrics import accuracy_score\n",
    "from sklearn.metrics import log_loss\n",
    "from sklearn.metrics import roc_auc_score\n",
    "\n",
    "def confusion_matrix_report(y_true, y_pred):\n",
    "    cm, labels = confusion_matrix(y_true, y_pred), unique_labels(y_true, y_pred)\n",
    "    column_width = max([len(str(x)) for x in labels] + [5])  # 5 is value length\n",
    "    report = \" \" * column_width + \" \" + \"{:_^{}}\".format(\"Prediction\", column_width * len(labels))+ \"\\n\"\n",
    "    report += \" \" * column_width + \" \".join([\"{:>{}}\".format(label, column_width) for label in labels]) + \"\\n\"\n",
    "    for i, label1 in enumerate(labels):\n",
    "        report += \"{:>{}}\".format(label1, column_width) + \" \".join([\"{:{}d}\".format(cm[i, j], column_width) for j in range(len(labels))]) + \"\\n\"\n",
    "    return report\n",
    "    \n",
    "def analytics(y_true, y_pred):#target of the test data #predictions as 0,1 #model (knnclassifier) #data_test\n",
    "    print(\"Confusion Matrix:\")\n",
    "    print(confusion_matrix_report(y_true, y_pred))\n",
    "    print(\"Accuracy Score:\")\n",
    "    print(accuracy_score(y_true, y_pred))\n",
    "    print()\n",
    "    print(\"Classification Report:\")\n",
    "    print(classification_report(y_true, y_pred))\n",
    "    #print(\"AUC Score:\")\n",
    "    #print(AUC(target_test, model, data_test))"
   ]
  },
  {
   "cell_type": "markdown",
   "metadata": {},
   "source": [
    "### Level1"
   ]
  },
  {
   "cell_type": "code",
   "execution_count": 144,
   "metadata": {
    "collapsed": true
   },
   "outputs": [],
   "source": [
    "from sklearn.tree import DecisionTreeClassifier\n",
    "from sklearn.model_selection import GridSearchCV"
   ]
  },
  {
   "cell_type": "code",
   "execution_count": 145,
   "metadata": {
    "collapsed": true
   },
   "outputs": [],
   "source": [
    "X_level1=model2.drop(['ID','Parent_node_1','Parent_node_2','Leaf_Node'],axis=1)\n",
    "y_level1=model2['Parent_node_1']"
   ]
  },
  {
   "cell_type": "code",
   "execution_count": 146,
   "metadata": {},
   "outputs": [
    {
     "data": {
      "text/html": [
       "<div>\n",
       "<style>\n",
       "    .dataframe thead tr:only-child th {\n",
       "        text-align: right;\n",
       "    }\n",
       "\n",
       "    .dataframe thead th {\n",
       "        text-align: left;\n",
       "    }\n",
       "\n",
       "    .dataframe tbody tr th {\n",
       "        vertical-align: top;\n",
       "    }\n",
       "</style>\n",
       "<table border=\"1\" class=\"dataframe\">\n",
       "  <thead>\n",
       "    <tr style=\"text-align: right;\">\n",
       "      <th></th>\n",
       "      <th>price</th>\n",
       "      <th>360fly_x</th>\n",
       "      <th>6Ave</th>\n",
       "      <th>Air Hogs</th>\n",
       "      <th>AmazingForLess</th>\n",
       "      <th>Axess Products</th>\n",
       "      <th>Bell+Howell</th>\n",
       "      <th>BlackMagic</th>\n",
       "      <th>Blackmagic</th>\n",
       "      <th>Blackmagic Design</th>\n",
       "      <th>...</th>\n",
       "      <th>wifi</th>\n",
       "      <th>controller</th>\n",
       "      <th>x70</th>\n",
       "      <th>eos</th>\n",
       "      <th>hx400</th>\n",
       "      <th>karma</th>\n",
       "      <th>fz43</th>\n",
       "      <th>deluxe</th>\n",
       "      <th>cpt</th>\n",
       "      <th>dvr</th>\n",
       "    </tr>\n",
       "  </thead>\n",
       "  <tbody>\n",
       "    <tr>\n",
       "      <th>0</th>\n",
       "      <td>479.0</td>\n",
       "      <td>0</td>\n",
       "      <td>0</td>\n",
       "      <td>0</td>\n",
       "      <td>0</td>\n",
       "      <td>0</td>\n",
       "      <td>0</td>\n",
       "      <td>0</td>\n",
       "      <td>0</td>\n",
       "      <td>0</td>\n",
       "      <td>...</td>\n",
       "      <td>0</td>\n",
       "      <td>0</td>\n",
       "      <td>0</td>\n",
       "      <td>0</td>\n",
       "      <td>0</td>\n",
       "      <td>0</td>\n",
       "      <td>0</td>\n",
       "      <td>0</td>\n",
       "      <td>0</td>\n",
       "      <td>0</td>\n",
       "    </tr>\n",
       "    <tr>\n",
       "      <th>1</th>\n",
       "      <td>539.0</td>\n",
       "      <td>0</td>\n",
       "      <td>0</td>\n",
       "      <td>0</td>\n",
       "      <td>0</td>\n",
       "      <td>0</td>\n",
       "      <td>0</td>\n",
       "      <td>0</td>\n",
       "      <td>0</td>\n",
       "      <td>0</td>\n",
       "      <td>...</td>\n",
       "      <td>0</td>\n",
       "      <td>0</td>\n",
       "      <td>0</td>\n",
       "      <td>0</td>\n",
       "      <td>0</td>\n",
       "      <td>0</td>\n",
       "      <td>0</td>\n",
       "      <td>0</td>\n",
       "      <td>0</td>\n",
       "      <td>0</td>\n",
       "    </tr>\n",
       "    <tr>\n",
       "      <th>2</th>\n",
       "      <td>3249.0</td>\n",
       "      <td>0</td>\n",
       "      <td>0</td>\n",
       "      <td>0</td>\n",
       "      <td>0</td>\n",
       "      <td>0</td>\n",
       "      <td>0</td>\n",
       "      <td>0</td>\n",
       "      <td>0</td>\n",
       "      <td>0</td>\n",
       "      <td>...</td>\n",
       "      <td>0</td>\n",
       "      <td>0</td>\n",
       "      <td>0</td>\n",
       "      <td>0</td>\n",
       "      <td>0</td>\n",
       "      <td>0</td>\n",
       "      <td>0</td>\n",
       "      <td>0</td>\n",
       "      <td>0</td>\n",
       "      <td>0</td>\n",
       "    </tr>\n",
       "    <tr>\n",
       "      <th>3</th>\n",
       "      <td>1349.0</td>\n",
       "      <td>0</td>\n",
       "      <td>0</td>\n",
       "      <td>0</td>\n",
       "      <td>0</td>\n",
       "      <td>0</td>\n",
       "      <td>0</td>\n",
       "      <td>0</td>\n",
       "      <td>0</td>\n",
       "      <td>0</td>\n",
       "      <td>...</td>\n",
       "      <td>0</td>\n",
       "      <td>0</td>\n",
       "      <td>0</td>\n",
       "      <td>0</td>\n",
       "      <td>0</td>\n",
       "      <td>0</td>\n",
       "      <td>0</td>\n",
       "      <td>0</td>\n",
       "      <td>0</td>\n",
       "      <td>0</td>\n",
       "    </tr>\n",
       "    <tr>\n",
       "      <th>4</th>\n",
       "      <td>449.0</td>\n",
       "      <td>0</td>\n",
       "      <td>0</td>\n",
       "      <td>0</td>\n",
       "      <td>0</td>\n",
       "      <td>0</td>\n",
       "      <td>0</td>\n",
       "      <td>0</td>\n",
       "      <td>0</td>\n",
       "      <td>0</td>\n",
       "      <td>...</td>\n",
       "      <td>0</td>\n",
       "      <td>0</td>\n",
       "      <td>0</td>\n",
       "      <td>0</td>\n",
       "      <td>0</td>\n",
       "      <td>0</td>\n",
       "      <td>1</td>\n",
       "      <td>0</td>\n",
       "      <td>0</td>\n",
       "      <td>0</td>\n",
       "    </tr>\n",
       "  </tbody>\n",
       "</table>\n",
       "<p>5 rows × 953 columns</p>\n",
       "</div>"
      ],
      "text/plain": [
       "    price  360fly_x  6Ave  Air Hogs  AmazingForLess  Axess Products  \\\n",
       "0   479.0         0     0         0               0               0   \n",
       "1   539.0         0     0         0               0               0   \n",
       "2  3249.0         0     0         0               0               0   \n",
       "3  1349.0         0     0         0               0               0   \n",
       "4   449.0         0     0         0               0               0   \n",
       "\n",
       "   Bell+Howell  BlackMagic  Blackmagic  Blackmagic Design ...   wifi  \\\n",
       "0            0           0           0                  0 ...      0   \n",
       "1            0           0           0                  0 ...      0   \n",
       "2            0           0           0                  0 ...      0   \n",
       "3            0           0           0                  0 ...      0   \n",
       "4            0           0           0                  0 ...      0   \n",
       "\n",
       "   controller  x70  eos  hx400  karma  fz43  deluxe  cpt  dvr  \n",
       "0           0    0    0      0      0     0       0    0    0  \n",
       "1           0    0    0      0      0     0       0    0    0  \n",
       "2           0    0    0      0      0     0       0    0    0  \n",
       "3           0    0    0      0      0     0       0    0    0  \n",
       "4           0    0    0      0      0     1       0    0    0  \n",
       "\n",
       "[5 rows x 953 columns]"
      ]
     },
     "execution_count": 146,
     "metadata": {},
     "output_type": "execute_result"
    }
   ],
   "source": [
    "X_level1.head()"
   ]
  },
  {
   "cell_type": "code",
   "execution_count": 168,
   "metadata": {},
   "outputs": [
    {
     "name": "stdout",
     "output_type": "stream",
     "text": [
      "{'min_samples_split': 10, 'max_leaf_nodes': 20, 'criterion': 'gini', 'max_depth': 10, 'min_samples_leaf': 1}\n"
     ]
    }
   ],
   "source": [
    "parameters = [{\"criterion\": [\"gini\", \"entropy\"],\n",
    "              \"min_samples_split\": [2, 10, 20],\n",
    "              \"max_depth\": [None, 5, 10, 15],\n",
    "              \"min_samples_leaf\": [1, 5, 10],\n",
    "              \"max_leaf_nodes\": [None, 5, 10, 20],\n",
    "              }]\n",
    "clf = GridSearchCV(DecisionTreeClassifier(), parameters, cv=5)\n",
    "clf.fit(X_level1, y_level1)\n",
    "print(clf.best_params_)"
   ]
  },
  {
   "cell_type": "code",
   "execution_count": 147,
   "metadata": {
    "collapsed": true
   },
   "outputs": [],
   "source": [
    "from sklearn.model_selection import StratifiedKFold\n",
    "from sklearn.model_selection import cross_val_score\n",
    "from sklearn.model_selection import cross_val_predict\n",
    "\n",
    "desicion_tree=DecisionTreeClassifier(min_samples_split= 10, max_leaf_nodes=20, criterion='gini', max_depth= 10, min_samples_leaf= 1)\n",
    "cv = StratifiedKFold(n_splits=5, shuffle=True, random_state=42)\n",
    "\n",
    "target_prediction = cross_val_predict(desicion_tree, X_level1, y_level1, cv=cv)"
   ]
  },
  {
   "cell_type": "code",
   "execution_count": 148,
   "metadata": {},
   "outputs": [
    {
     "data": {
      "text/plain": [
       "array([u'Photo Devices', u'Photo Devices', u'Photo Devices',\n",
       "       u'Photo Devices'], dtype=object)"
      ]
     },
     "execution_count": 148,
     "metadata": {},
     "output_type": "execute_result"
    }
   ],
   "source": [
    "target_prediction[0:4]"
   ]
  },
  {
   "cell_type": "code",
   "execution_count": 149,
   "metadata": {},
   "outputs": [
    {
     "name": "stdout",
     "output_type": "stream",
     "text": [
      "Confusion Matrix:\n",
      "              ______________Prediction_______________\n",
      "               Cam Corders    Not Camera Photo Devices\n",
      "  Cam Corders           94             2            15\n",
      "   Not Camera            5             8             6\n",
      "Photo Devices            8             2           276\n",
      "\n",
      "Accuracy Score:\n",
      "0.908653846154\n",
      "()\n",
      "Classification Report:\n",
      "               precision    recall  f1-score   support\n",
      "\n",
      "  Cam Corders       0.88      0.85      0.86       111\n",
      "   Not Camera       0.67      0.42      0.52        19\n",
      "Photo Devices       0.93      0.97      0.95       286\n",
      "\n",
      "  avg / total       0.90      0.91      0.90       416\n",
      "\n"
     ]
    }
   ],
   "source": [
    "analytics(y_level1,target_prediction) #real value vs. predicted values"
   ]
  },
  {
   "cell_type": "code",
   "execution_count": 150,
   "metadata": {
    "collapsed": true
   },
   "outputs": [],
   "source": [
    "model2['prediction_level1']=target_prediction"
   ]
  },
  {
   "cell_type": "markdown",
   "metadata": {},
   "source": [
    "### Level 2"
   ]
  },
  {
   "cell_type": "code",
   "execution_count": 151,
   "metadata": {
    "collapsed": true
   },
   "outputs": [],
   "source": [
    "level2_train=model2[model2['Parent_node_1']=='Cam Corders'] #this includes wrongly assigned instances"
   ]
  },
  {
   "cell_type": "code",
   "execution_count": 152,
   "metadata": {},
   "outputs": [
    {
     "data": {
      "text/html": [
       "<div>\n",
       "<style>\n",
       "    .dataframe thead tr:only-child th {\n",
       "        text-align: right;\n",
       "    }\n",
       "\n",
       "    .dataframe thead th {\n",
       "        text-align: left;\n",
       "    }\n",
       "\n",
       "    .dataframe tbody tr th {\n",
       "        vertical-align: top;\n",
       "    }\n",
       "</style>\n",
       "<table border=\"1\" class=\"dataframe\">\n",
       "  <thead>\n",
       "    <tr style=\"text-align: right;\">\n",
       "      <th></th>\n",
       "      <th>ID</th>\n",
       "      <th>price</th>\n",
       "      <th>360fly_x</th>\n",
       "      <th>6Ave</th>\n",
       "      <th>Air Hogs</th>\n",
       "      <th>AmazingForLess</th>\n",
       "      <th>Axess Products</th>\n",
       "      <th>Bell+Howell</th>\n",
       "      <th>BlackMagic</th>\n",
       "      <th>Blackmagic</th>\n",
       "      <th>...</th>\n",
       "      <th>hx400</th>\n",
       "      <th>karma</th>\n",
       "      <th>fz43</th>\n",
       "      <th>deluxe</th>\n",
       "      <th>cpt</th>\n",
       "      <th>dvr</th>\n",
       "      <th>Parent_node_1</th>\n",
       "      <th>Parent_node_2</th>\n",
       "      <th>Leaf_Node</th>\n",
       "      <th>prediction_level1</th>\n",
       "    </tr>\n",
       "  </thead>\n",
       "  <tbody>\n",
       "    <tr>\n",
       "      <th>10</th>\n",
       "      <td>jessops-eef411a41cc22390e46da9fa5820aa2c</td>\n",
       "      <td>198.0</td>\n",
       "      <td>0</td>\n",
       "      <td>0</td>\n",
       "      <td>0</td>\n",
       "      <td>0</td>\n",
       "      <td>0</td>\n",
       "      <td>0</td>\n",
       "      <td>0</td>\n",
       "      <td>0</td>\n",
       "      <td>...</td>\n",
       "      <td>0</td>\n",
       "      <td>0</td>\n",
       "      <td>0</td>\n",
       "      <td>0</td>\n",
       "      <td>0</td>\n",
       "      <td>0</td>\n",
       "      <td>Cam Corders</td>\n",
       "      <td>Traditional Video Cameras</td>\n",
       "      <td>Common Use Video Cameras</td>\n",
       "      <td>Cam Corders</td>\n",
       "    </tr>\n",
       "    <tr>\n",
       "      <th>12</th>\n",
       "      <td>jessops-40e16c7a65ef1ce88c5b8e86c8b6be61</td>\n",
       "      <td>1199.0</td>\n",
       "      <td>0</td>\n",
       "      <td>0</td>\n",
       "      <td>0</td>\n",
       "      <td>0</td>\n",
       "      <td>0</td>\n",
       "      <td>0</td>\n",
       "      <td>0</td>\n",
       "      <td>0</td>\n",
       "      <td>...</td>\n",
       "      <td>0</td>\n",
       "      <td>0</td>\n",
       "      <td>0</td>\n",
       "      <td>0</td>\n",
       "      <td>0</td>\n",
       "      <td>0</td>\n",
       "      <td>Cam Corders</td>\n",
       "      <td>Traditional Video Cameras</td>\n",
       "      <td>Common Use Video Cameras</td>\n",
       "      <td>Cam Corders</td>\n",
       "    </tr>\n",
       "    <tr>\n",
       "      <th>13</th>\n",
       "      <td>jessops-3a1342c0cb28dc1d3bab507a1f016cc3</td>\n",
       "      <td>249.0</td>\n",
       "      <td>0</td>\n",
       "      <td>0</td>\n",
       "      <td>0</td>\n",
       "      <td>0</td>\n",
       "      <td>0</td>\n",
       "      <td>0</td>\n",
       "      <td>0</td>\n",
       "      <td>0</td>\n",
       "      <td>...</td>\n",
       "      <td>0</td>\n",
       "      <td>0</td>\n",
       "      <td>0</td>\n",
       "      <td>0</td>\n",
       "      <td>0</td>\n",
       "      <td>0</td>\n",
       "      <td>Cam Corders</td>\n",
       "      <td>Traditional Video Cameras</td>\n",
       "      <td>Common Use Video Cameras</td>\n",
       "      <td>Cam Corders</td>\n",
       "    </tr>\n",
       "    <tr>\n",
       "      <th>29</th>\n",
       "      <td>jessops-e459dfc3f0e983f1a5153c64cf6c9dd0</td>\n",
       "      <td>189.0</td>\n",
       "      <td>0</td>\n",
       "      <td>0</td>\n",
       "      <td>0</td>\n",
       "      <td>0</td>\n",
       "      <td>0</td>\n",
       "      <td>0</td>\n",
       "      <td>0</td>\n",
       "      <td>0</td>\n",
       "      <td>...</td>\n",
       "      <td>0</td>\n",
       "      <td>0</td>\n",
       "      <td>0</td>\n",
       "      <td>0</td>\n",
       "      <td>0</td>\n",
       "      <td>0</td>\n",
       "      <td>Cam Corders</td>\n",
       "      <td>Action Cameras</td>\n",
       "      <td>360 Degree Cameras</td>\n",
       "      <td>Cam Corders</td>\n",
       "    </tr>\n",
       "    <tr>\n",
       "      <th>30</th>\n",
       "      <td>jessops-1f205970ab6aa5842172a4a43fdbadba</td>\n",
       "      <td>189.0</td>\n",
       "      <td>0</td>\n",
       "      <td>0</td>\n",
       "      <td>0</td>\n",
       "      <td>0</td>\n",
       "      <td>0</td>\n",
       "      <td>0</td>\n",
       "      <td>0</td>\n",
       "      <td>0</td>\n",
       "      <td>...</td>\n",
       "      <td>0</td>\n",
       "      <td>0</td>\n",
       "      <td>0</td>\n",
       "      <td>0</td>\n",
       "      <td>0</td>\n",
       "      <td>0</td>\n",
       "      <td>Cam Corders</td>\n",
       "      <td>Action Cameras</td>\n",
       "      <td>360 Degree Cameras</td>\n",
       "      <td>Cam Corders</td>\n",
       "    </tr>\n",
       "  </tbody>\n",
       "</table>\n",
       "<p>5 rows × 958 columns</p>\n",
       "</div>"
      ],
      "text/plain": [
       "                                          ID   price  360fly_x  6Ave  \\\n",
       "10  jessops-eef411a41cc22390e46da9fa5820aa2c   198.0         0     0   \n",
       "12  jessops-40e16c7a65ef1ce88c5b8e86c8b6be61  1199.0         0     0   \n",
       "13  jessops-3a1342c0cb28dc1d3bab507a1f016cc3   249.0         0     0   \n",
       "29  jessops-e459dfc3f0e983f1a5153c64cf6c9dd0   189.0         0     0   \n",
       "30  jessops-1f205970ab6aa5842172a4a43fdbadba   189.0         0     0   \n",
       "\n",
       "    Air Hogs  AmazingForLess  Axess Products  Bell+Howell  BlackMagic  \\\n",
       "10         0               0               0            0           0   \n",
       "12         0               0               0            0           0   \n",
       "13         0               0               0            0           0   \n",
       "29         0               0               0            0           0   \n",
       "30         0               0               0            0           0   \n",
       "\n",
       "    Blackmagic        ...          hx400  karma  fz43  deluxe  cpt  dvr  \\\n",
       "10           0        ...              0      0     0       0    0    0   \n",
       "12           0        ...              0      0     0       0    0    0   \n",
       "13           0        ...              0      0     0       0    0    0   \n",
       "29           0        ...              0      0     0       0    0    0   \n",
       "30           0        ...              0      0     0       0    0    0   \n",
       "\n",
       "    Parent_node_1              Parent_node_2                 Leaf_Node  \\\n",
       "10    Cam Corders  Traditional Video Cameras  Common Use Video Cameras   \n",
       "12    Cam Corders  Traditional Video Cameras  Common Use Video Cameras   \n",
       "13    Cam Corders  Traditional Video Cameras  Common Use Video Cameras   \n",
       "29    Cam Corders             Action Cameras        360 Degree Cameras   \n",
       "30    Cam Corders             Action Cameras        360 Degree Cameras   \n",
       "\n",
       "    prediction_level1  \n",
       "10        Cam Corders  \n",
       "12        Cam Corders  \n",
       "13        Cam Corders  \n",
       "29        Cam Corders  \n",
       "30        Cam Corders  \n",
       "\n",
       "[5 rows x 958 columns]"
      ]
     },
     "execution_count": 152,
     "metadata": {},
     "output_type": "execute_result"
    }
   ],
   "source": [
    "level2_train.head()"
   ]
  },
  {
   "cell_type": "code",
   "execution_count": 153,
   "metadata": {
    "collapsed": true
   },
   "outputs": [],
   "source": [
    "X_level2=level2_train.drop(['ID','Parent_node_1','Parent_node_2','Leaf_Node','prediction_level1'],axis=1)\n",
    "y_level2=level2_train['Parent_node_2']"
   ]
  },
  {
   "cell_type": "code",
   "execution_count": 176,
   "metadata": {},
   "outputs": [
    {
     "name": "stdout",
     "output_type": "stream",
     "text": [
      "{'min_samples_split': 10, 'max_leaf_nodes': 10, 'criterion': 'gini', 'max_depth': None, 'min_samples_leaf': 5}\n"
     ]
    }
   ],
   "source": [
    "clf = GridSearchCV(DecisionTreeClassifier(), parameters, cv=5)\n",
    "clf.fit(X_level2, y_level2)\n",
    "print(clf.best_params_)"
   ]
  },
  {
   "cell_type": "code",
   "execution_count": 154,
   "metadata": {
    "collapsed": true
   },
   "outputs": [],
   "source": [
    "from sklearn.model_selection import StratifiedKFold\n",
    "from sklearn.model_selection import cross_val_score\n",
    "from sklearn.model_selection import cross_val_predict\n",
    "\n",
    "desicion_tree=DecisionTreeClassifier(min_samples_split= 10, max_leaf_nodes=10, criterion='gini', max_depth= None, min_samples_leaf= 5)\n",
    "cv = StratifiedKFold(n_splits=5, shuffle=True, random_state=42)\n",
    "\n",
    "target_prediction = cross_val_predict(desicion_tree, X_level2, y_level2, cv=cv)"
   ]
  },
  {
   "cell_type": "code",
   "execution_count": 155,
   "metadata": {},
   "outputs": [
    {
     "data": {
      "text/plain": [
       "111"
      ]
     },
     "execution_count": 155,
     "metadata": {},
     "output_type": "execute_result"
    }
   ],
   "source": [
    "len(target_prediction)"
   ]
  },
  {
   "cell_type": "code",
   "execution_count": 156,
   "metadata": {},
   "outputs": [
    {
     "name": "stdout",
     "output_type": "stream",
     "text": [
      "Confusion Matrix:\n",
      "                          ____________________Prediction____________________\n",
      "                                    Action Cameras Traditional Video Cameras\n",
      "           Action Cameras                       47                        11\n",
      "Traditional Video Cameras                        9                        44\n",
      "\n",
      "Accuracy Score:\n",
      "0.81981981982\n",
      "()\n",
      "Classification Report:\n",
      "                           precision    recall  f1-score   support\n",
      "\n",
      "           Action Cameras       0.84      0.81      0.82        58\n",
      "Traditional Video Cameras       0.80      0.83      0.81        53\n",
      "\n",
      "              avg / total       0.82      0.82      0.82       111\n",
      "\n"
     ]
    }
   ],
   "source": [
    "analytics(y_level2,target_prediction) #real value vs. predicted values"
   ]
  },
  {
   "cell_type": "code",
   "execution_count": 157,
   "metadata": {},
   "outputs": [
    {
     "name": "stderr",
     "output_type": "stream",
     "text": [
      "/Users/bengikoseoglu/anaconda2/lib/python2.7/site-packages/ipykernel_launcher.py:1: SettingWithCopyWarning:\n",
      "\n",
      "\n",
      "A value is trying to be set on a copy of a slice from a DataFrame.\n",
      "Try using .loc[row_indexer,col_indexer] = value instead\n",
      "\n",
      "See the caveats in the documentation: http://pandas.pydata.org/pandas-docs/stable/indexing.html#indexing-view-versus-copy\n",
      "\n"
     ]
    }
   ],
   "source": [
    "level2_train['prediction_level2']=target_prediction"
   ]
  },
  {
   "cell_type": "markdown",
   "metadata": {},
   "source": [
    "##### 1. Traditional Video Cameras"
   ]
  },
  {
   "cell_type": "code",
   "execution_count": 158,
   "metadata": {
    "collapsed": true
   },
   "outputs": [],
   "source": [
    "#prediction_level2_camcorders\n",
    "level3_train=level2_train[level2_train['Parent_node_2']=='Traditional Video Cameras']"
   ]
  },
  {
   "cell_type": "code",
   "execution_count": 159,
   "metadata": {},
   "outputs": [
    {
     "data": {
      "text/html": [
       "<div>\n",
       "<style>\n",
       "    .dataframe thead tr:only-child th {\n",
       "        text-align: right;\n",
       "    }\n",
       "\n",
       "    .dataframe thead th {\n",
       "        text-align: left;\n",
       "    }\n",
       "\n",
       "    .dataframe tbody tr th {\n",
       "        vertical-align: top;\n",
       "    }\n",
       "</style>\n",
       "<table border=\"1\" class=\"dataframe\">\n",
       "  <thead>\n",
       "    <tr style=\"text-align: right;\">\n",
       "      <th></th>\n",
       "      <th>ID</th>\n",
       "      <th>price</th>\n",
       "      <th>360fly_x</th>\n",
       "      <th>6Ave</th>\n",
       "      <th>Air Hogs</th>\n",
       "      <th>AmazingForLess</th>\n",
       "      <th>Axess Products</th>\n",
       "      <th>Bell+Howell</th>\n",
       "      <th>BlackMagic</th>\n",
       "      <th>Blackmagic</th>\n",
       "      <th>...</th>\n",
       "      <th>karma</th>\n",
       "      <th>fz43</th>\n",
       "      <th>deluxe</th>\n",
       "      <th>cpt</th>\n",
       "      <th>dvr</th>\n",
       "      <th>Parent_node_1</th>\n",
       "      <th>Parent_node_2</th>\n",
       "      <th>Leaf_Node</th>\n",
       "      <th>prediction_level1</th>\n",
       "      <th>prediction_level2</th>\n",
       "    </tr>\n",
       "  </thead>\n",
       "  <tbody>\n",
       "    <tr>\n",
       "      <th>10</th>\n",
       "      <td>jessops-eef411a41cc22390e46da9fa5820aa2c</td>\n",
       "      <td>198.0</td>\n",
       "      <td>0</td>\n",
       "      <td>0</td>\n",
       "      <td>0</td>\n",
       "      <td>0</td>\n",
       "      <td>0</td>\n",
       "      <td>0</td>\n",
       "      <td>0</td>\n",
       "      <td>0</td>\n",
       "      <td>...</td>\n",
       "      <td>0</td>\n",
       "      <td>0</td>\n",
       "      <td>0</td>\n",
       "      <td>0</td>\n",
       "      <td>0</td>\n",
       "      <td>Cam Corders</td>\n",
       "      <td>Traditional Video Cameras</td>\n",
       "      <td>Common Use Video Cameras</td>\n",
       "      <td>Cam Corders</td>\n",
       "      <td>Traditional Video Cameras</td>\n",
       "    </tr>\n",
       "    <tr>\n",
       "      <th>12</th>\n",
       "      <td>jessops-40e16c7a65ef1ce88c5b8e86c8b6be61</td>\n",
       "      <td>1199.0</td>\n",
       "      <td>0</td>\n",
       "      <td>0</td>\n",
       "      <td>0</td>\n",
       "      <td>0</td>\n",
       "      <td>0</td>\n",
       "      <td>0</td>\n",
       "      <td>0</td>\n",
       "      <td>0</td>\n",
       "      <td>...</td>\n",
       "      <td>0</td>\n",
       "      <td>0</td>\n",
       "      <td>0</td>\n",
       "      <td>0</td>\n",
       "      <td>0</td>\n",
       "      <td>Cam Corders</td>\n",
       "      <td>Traditional Video Cameras</td>\n",
       "      <td>Common Use Video Cameras</td>\n",
       "      <td>Cam Corders</td>\n",
       "      <td>Traditional Video Cameras</td>\n",
       "    </tr>\n",
       "    <tr>\n",
       "      <th>13</th>\n",
       "      <td>jessops-3a1342c0cb28dc1d3bab507a1f016cc3</td>\n",
       "      <td>249.0</td>\n",
       "      <td>0</td>\n",
       "      <td>0</td>\n",
       "      <td>0</td>\n",
       "      <td>0</td>\n",
       "      <td>0</td>\n",
       "      <td>0</td>\n",
       "      <td>0</td>\n",
       "      <td>0</td>\n",
       "      <td>...</td>\n",
       "      <td>0</td>\n",
       "      <td>0</td>\n",
       "      <td>0</td>\n",
       "      <td>0</td>\n",
       "      <td>0</td>\n",
       "      <td>Cam Corders</td>\n",
       "      <td>Traditional Video Cameras</td>\n",
       "      <td>Common Use Video Cameras</td>\n",
       "      <td>Cam Corders</td>\n",
       "      <td>Traditional Video Cameras</td>\n",
       "    </tr>\n",
       "    <tr>\n",
       "      <th>56</th>\n",
       "      <td>bestbuy-6fd7c4bd0710b4edd04bcbfe602f2355</td>\n",
       "      <td>1599.0</td>\n",
       "      <td>0</td>\n",
       "      <td>0</td>\n",
       "      <td>0</td>\n",
       "      <td>0</td>\n",
       "      <td>0</td>\n",
       "      <td>0</td>\n",
       "      <td>0</td>\n",
       "      <td>0</td>\n",
       "      <td>...</td>\n",
       "      <td>0</td>\n",
       "      <td>0</td>\n",
       "      <td>0</td>\n",
       "      <td>0</td>\n",
       "      <td>0</td>\n",
       "      <td>Cam Corders</td>\n",
       "      <td>Traditional Video Cameras</td>\n",
       "      <td>Professional Video Cameras</td>\n",
       "      <td>Cam Corders</td>\n",
       "      <td>Traditional Video Cameras</td>\n",
       "    </tr>\n",
       "    <tr>\n",
       "      <th>64</th>\n",
       "      <td>bestbuy-bb98b1e4360d9303df6c0a47eb209e11</td>\n",
       "      <td>1499.0</td>\n",
       "      <td>0</td>\n",
       "      <td>0</td>\n",
       "      <td>0</td>\n",
       "      <td>0</td>\n",
       "      <td>0</td>\n",
       "      <td>0</td>\n",
       "      <td>0</td>\n",
       "      <td>0</td>\n",
       "      <td>...</td>\n",
       "      <td>0</td>\n",
       "      <td>0</td>\n",
       "      <td>0</td>\n",
       "      <td>0</td>\n",
       "      <td>0</td>\n",
       "      <td>Cam Corders</td>\n",
       "      <td>Traditional Video Cameras</td>\n",
       "      <td>Common Use Video Cameras</td>\n",
       "      <td>Cam Corders</td>\n",
       "      <td>Traditional Video Cameras</td>\n",
       "    </tr>\n",
       "  </tbody>\n",
       "</table>\n",
       "<p>5 rows × 959 columns</p>\n",
       "</div>"
      ],
      "text/plain": [
       "                                          ID   price  360fly_x  6Ave  \\\n",
       "10  jessops-eef411a41cc22390e46da9fa5820aa2c   198.0         0     0   \n",
       "12  jessops-40e16c7a65ef1ce88c5b8e86c8b6be61  1199.0         0     0   \n",
       "13  jessops-3a1342c0cb28dc1d3bab507a1f016cc3   249.0         0     0   \n",
       "56  bestbuy-6fd7c4bd0710b4edd04bcbfe602f2355  1599.0         0     0   \n",
       "64  bestbuy-bb98b1e4360d9303df6c0a47eb209e11  1499.0         0     0   \n",
       "\n",
       "    Air Hogs  AmazingForLess  Axess Products  Bell+Howell  BlackMagic  \\\n",
       "10         0               0               0            0           0   \n",
       "12         0               0               0            0           0   \n",
       "13         0               0               0            0           0   \n",
       "56         0               0               0            0           0   \n",
       "64         0               0               0            0           0   \n",
       "\n",
       "    Blackmagic            ...              karma  fz43  deluxe  cpt  dvr  \\\n",
       "10           0            ...                  0     0       0    0    0   \n",
       "12           0            ...                  0     0       0    0    0   \n",
       "13           0            ...                  0     0       0    0    0   \n",
       "56           0            ...                  0     0       0    0    0   \n",
       "64           0            ...                  0     0       0    0    0   \n",
       "\n",
       "    Parent_node_1              Parent_node_2                   Leaf_Node  \\\n",
       "10    Cam Corders  Traditional Video Cameras    Common Use Video Cameras   \n",
       "12    Cam Corders  Traditional Video Cameras    Common Use Video Cameras   \n",
       "13    Cam Corders  Traditional Video Cameras    Common Use Video Cameras   \n",
       "56    Cam Corders  Traditional Video Cameras  Professional Video Cameras   \n",
       "64    Cam Corders  Traditional Video Cameras    Common Use Video Cameras   \n",
       "\n",
       "    prediction_level1          prediction_level2  \n",
       "10        Cam Corders  Traditional Video Cameras  \n",
       "12        Cam Corders  Traditional Video Cameras  \n",
       "13        Cam Corders  Traditional Video Cameras  \n",
       "56        Cam Corders  Traditional Video Cameras  \n",
       "64        Cam Corders  Traditional Video Cameras  \n",
       "\n",
       "[5 rows x 959 columns]"
      ]
     },
     "execution_count": 159,
     "metadata": {},
     "output_type": "execute_result"
    }
   ],
   "source": [
    "level3_train.head()"
   ]
  },
  {
   "cell_type": "code",
   "execution_count": 160,
   "metadata": {
    "collapsed": true
   },
   "outputs": [],
   "source": [
    "X_level3=level3_train.drop(['ID','Parent_node_1','Parent_node_2','Leaf_Node','prediction_level1','prediction_level2'],axis=1)\n",
    "y_level3=level3_train['Leaf_Node']"
   ]
  },
  {
   "cell_type": "code",
   "execution_count": 184,
   "metadata": {},
   "outputs": [
    {
     "name": "stdout",
     "output_type": "stream",
     "text": [
      "{'min_samples_split': 10, 'max_leaf_nodes': 5, 'criterion': 'gini', 'max_depth': None, 'min_samples_leaf': 1}\n"
     ]
    }
   ],
   "source": [
    "parameters = [{\"criterion\": [\"gini\", \"entropy\"],\n",
    "              \"min_samples_split\": [2, 10, 20],\n",
    "              \"max_depth\": [None, 5, 10, 15],\n",
    "              \"min_samples_leaf\": [1, 5, 10],\n",
    "              \"max_leaf_nodes\": [None, 5, 10, 20],\n",
    "              }]\n",
    "\n",
    "tree = GridSearchCV(DecisionTreeClassifier(), parameters, cv=5)\n",
    "tree.fit(X_level3, y_level3)\n",
    "print(tree.best_params_)"
   ]
  },
  {
   "cell_type": "code",
   "execution_count": 161,
   "metadata": {
    "collapsed": true
   },
   "outputs": [],
   "source": [
    "from sklearn.tree import DecisionTreeClassifier\n",
    "cv = StratifiedKFold(n_splits=5, shuffle=True, random_state=42)\n",
    "decision_tree = DecisionTreeClassifier(min_samples_split= 10, max_leaf_nodes=5, criterion='gini', max_depth= None, min_samples_leaf= 1)\n",
    "target_prediction = cross_val_predict(desicion_tree, X_level3, y_level3, cv=cv)"
   ]
  },
  {
   "cell_type": "code",
   "execution_count": 162,
   "metadata": {},
   "outputs": [
    {
     "name": "stdout",
     "output_type": "stream",
     "text": [
      "Confusion Matrix:\n",
      "                           _____________________Prediction_____________________\n",
      "                            Common Use Video Cameras Professional Video Cameras\n",
      "  Common Use Video Cameras                        16                          5\n",
      "Professional Video Cameras                         7                         25\n",
      "\n",
      "Accuracy Score:\n",
      "0.77358490566\n",
      "()\n",
      "Classification Report:\n",
      "                            precision    recall  f1-score   support\n",
      "\n",
      "  Common Use Video Cameras       0.70      0.76      0.73        21\n",
      "Professional Video Cameras       0.83      0.78      0.81        32\n",
      "\n",
      "               avg / total       0.78      0.77      0.78        53\n",
      "\n"
     ]
    }
   ],
   "source": [
    "analytics(y_level3,target_prediction)"
   ]
  },
  {
   "cell_type": "code",
   "execution_count": 163,
   "metadata": {},
   "outputs": [
    {
     "name": "stderr",
     "output_type": "stream",
     "text": [
      "/Users/bengikoseoglu/anaconda2/lib/python2.7/site-packages/ipykernel_launcher.py:1: SettingWithCopyWarning:\n",
      "\n",
      "\n",
      "A value is trying to be set on a copy of a slice from a DataFrame.\n",
      "Try using .loc[row_indexer,col_indexer] = value instead\n",
      "\n",
      "See the caveats in the documentation: http://pandas.pydata.org/pandas-docs/stable/indexing.html#indexing-view-versus-copy\n",
      "\n"
     ]
    }
   ],
   "source": [
    "level3_train['prediction_level3']=target_prediction"
   ]
  },
  {
   "cell_type": "markdown",
   "metadata": {},
   "source": [
    "##### 2. Action Video Cameras"
   ]
  },
  {
   "cell_type": "code",
   "execution_count": 164,
   "metadata": {},
   "outputs": [
    {
     "data": {
      "text/html": [
       "<div>\n",
       "<style>\n",
       "    .dataframe thead tr:only-child th {\n",
       "        text-align: right;\n",
       "    }\n",
       "\n",
       "    .dataframe thead th {\n",
       "        text-align: left;\n",
       "    }\n",
       "\n",
       "    .dataframe tbody tr th {\n",
       "        vertical-align: top;\n",
       "    }\n",
       "</style>\n",
       "<table border=\"1\" class=\"dataframe\">\n",
       "  <thead>\n",
       "    <tr style=\"text-align: right;\">\n",
       "      <th></th>\n",
       "      <th>ID</th>\n",
       "      <th>price</th>\n",
       "      <th>360fly_x</th>\n",
       "      <th>6Ave</th>\n",
       "      <th>Air Hogs</th>\n",
       "      <th>AmazingForLess</th>\n",
       "      <th>Axess Products</th>\n",
       "      <th>Bell+Howell</th>\n",
       "      <th>BlackMagic</th>\n",
       "      <th>Blackmagic</th>\n",
       "      <th>...</th>\n",
       "      <th>karma</th>\n",
       "      <th>fz43</th>\n",
       "      <th>deluxe</th>\n",
       "      <th>cpt</th>\n",
       "      <th>dvr</th>\n",
       "      <th>Parent_node_1</th>\n",
       "      <th>Parent_node_2</th>\n",
       "      <th>Leaf_Node</th>\n",
       "      <th>prediction_level1</th>\n",
       "      <th>prediction_level2</th>\n",
       "    </tr>\n",
       "  </thead>\n",
       "  <tbody>\n",
       "    <tr>\n",
       "      <th>10</th>\n",
       "      <td>jessops-eef411a41cc22390e46da9fa5820aa2c</td>\n",
       "      <td>198.0</td>\n",
       "      <td>0</td>\n",
       "      <td>0</td>\n",
       "      <td>0</td>\n",
       "      <td>0</td>\n",
       "      <td>0</td>\n",
       "      <td>0</td>\n",
       "      <td>0</td>\n",
       "      <td>0</td>\n",
       "      <td>...</td>\n",
       "      <td>0</td>\n",
       "      <td>0</td>\n",
       "      <td>0</td>\n",
       "      <td>0</td>\n",
       "      <td>0</td>\n",
       "      <td>Cam Corders</td>\n",
       "      <td>Traditional Video Cameras</td>\n",
       "      <td>Common Use Video Cameras</td>\n",
       "      <td>Cam Corders</td>\n",
       "      <td>Traditional Video Cameras</td>\n",
       "    </tr>\n",
       "    <tr>\n",
       "      <th>12</th>\n",
       "      <td>jessops-40e16c7a65ef1ce88c5b8e86c8b6be61</td>\n",
       "      <td>1199.0</td>\n",
       "      <td>0</td>\n",
       "      <td>0</td>\n",
       "      <td>0</td>\n",
       "      <td>0</td>\n",
       "      <td>0</td>\n",
       "      <td>0</td>\n",
       "      <td>0</td>\n",
       "      <td>0</td>\n",
       "      <td>...</td>\n",
       "      <td>0</td>\n",
       "      <td>0</td>\n",
       "      <td>0</td>\n",
       "      <td>0</td>\n",
       "      <td>0</td>\n",
       "      <td>Cam Corders</td>\n",
       "      <td>Traditional Video Cameras</td>\n",
       "      <td>Common Use Video Cameras</td>\n",
       "      <td>Cam Corders</td>\n",
       "      <td>Traditional Video Cameras</td>\n",
       "    </tr>\n",
       "    <tr>\n",
       "      <th>13</th>\n",
       "      <td>jessops-3a1342c0cb28dc1d3bab507a1f016cc3</td>\n",
       "      <td>249.0</td>\n",
       "      <td>0</td>\n",
       "      <td>0</td>\n",
       "      <td>0</td>\n",
       "      <td>0</td>\n",
       "      <td>0</td>\n",
       "      <td>0</td>\n",
       "      <td>0</td>\n",
       "      <td>0</td>\n",
       "      <td>...</td>\n",
       "      <td>0</td>\n",
       "      <td>0</td>\n",
       "      <td>0</td>\n",
       "      <td>0</td>\n",
       "      <td>0</td>\n",
       "      <td>Cam Corders</td>\n",
       "      <td>Traditional Video Cameras</td>\n",
       "      <td>Common Use Video Cameras</td>\n",
       "      <td>Cam Corders</td>\n",
       "      <td>Traditional Video Cameras</td>\n",
       "    </tr>\n",
       "    <tr>\n",
       "      <th>29</th>\n",
       "      <td>jessops-e459dfc3f0e983f1a5153c64cf6c9dd0</td>\n",
       "      <td>189.0</td>\n",
       "      <td>0</td>\n",
       "      <td>0</td>\n",
       "      <td>0</td>\n",
       "      <td>0</td>\n",
       "      <td>0</td>\n",
       "      <td>0</td>\n",
       "      <td>0</td>\n",
       "      <td>0</td>\n",
       "      <td>...</td>\n",
       "      <td>0</td>\n",
       "      <td>0</td>\n",
       "      <td>0</td>\n",
       "      <td>0</td>\n",
       "      <td>0</td>\n",
       "      <td>Cam Corders</td>\n",
       "      <td>Action Cameras</td>\n",
       "      <td>360 Degree Cameras</td>\n",
       "      <td>Cam Corders</td>\n",
       "      <td>Action Cameras</td>\n",
       "    </tr>\n",
       "    <tr>\n",
       "      <th>30</th>\n",
       "      <td>jessops-1f205970ab6aa5842172a4a43fdbadba</td>\n",
       "      <td>189.0</td>\n",
       "      <td>0</td>\n",
       "      <td>0</td>\n",
       "      <td>0</td>\n",
       "      <td>0</td>\n",
       "      <td>0</td>\n",
       "      <td>0</td>\n",
       "      <td>0</td>\n",
       "      <td>0</td>\n",
       "      <td>...</td>\n",
       "      <td>0</td>\n",
       "      <td>0</td>\n",
       "      <td>0</td>\n",
       "      <td>0</td>\n",
       "      <td>0</td>\n",
       "      <td>Cam Corders</td>\n",
       "      <td>Action Cameras</td>\n",
       "      <td>360 Degree Cameras</td>\n",
       "      <td>Cam Corders</td>\n",
       "      <td>Action Cameras</td>\n",
       "    </tr>\n",
       "  </tbody>\n",
       "</table>\n",
       "<p>5 rows × 959 columns</p>\n",
       "</div>"
      ],
      "text/plain": [
       "                                          ID   price  360fly_x  6Ave  \\\n",
       "10  jessops-eef411a41cc22390e46da9fa5820aa2c   198.0         0     0   \n",
       "12  jessops-40e16c7a65ef1ce88c5b8e86c8b6be61  1199.0         0     0   \n",
       "13  jessops-3a1342c0cb28dc1d3bab507a1f016cc3   249.0         0     0   \n",
       "29  jessops-e459dfc3f0e983f1a5153c64cf6c9dd0   189.0         0     0   \n",
       "30  jessops-1f205970ab6aa5842172a4a43fdbadba   189.0         0     0   \n",
       "\n",
       "    Air Hogs  AmazingForLess  Axess Products  Bell+Howell  BlackMagic  \\\n",
       "10         0               0               0            0           0   \n",
       "12         0               0               0            0           0   \n",
       "13         0               0               0            0           0   \n",
       "29         0               0               0            0           0   \n",
       "30         0               0               0            0           0   \n",
       "\n",
       "    Blackmagic            ...              karma  fz43  deluxe  cpt  dvr  \\\n",
       "10           0            ...                  0     0       0    0    0   \n",
       "12           0            ...                  0     0       0    0    0   \n",
       "13           0            ...                  0     0       0    0    0   \n",
       "29           0            ...                  0     0       0    0    0   \n",
       "30           0            ...                  0     0       0    0    0   \n",
       "\n",
       "    Parent_node_1              Parent_node_2                 Leaf_Node  \\\n",
       "10    Cam Corders  Traditional Video Cameras  Common Use Video Cameras   \n",
       "12    Cam Corders  Traditional Video Cameras  Common Use Video Cameras   \n",
       "13    Cam Corders  Traditional Video Cameras  Common Use Video Cameras   \n",
       "29    Cam Corders             Action Cameras        360 Degree Cameras   \n",
       "30    Cam Corders             Action Cameras        360 Degree Cameras   \n",
       "\n",
       "    prediction_level1          prediction_level2  \n",
       "10        Cam Corders  Traditional Video Cameras  \n",
       "12        Cam Corders  Traditional Video Cameras  \n",
       "13        Cam Corders  Traditional Video Cameras  \n",
       "29        Cam Corders             Action Cameras  \n",
       "30        Cam Corders             Action Cameras  \n",
       "\n",
       "[5 rows x 959 columns]"
      ]
     },
     "execution_count": 164,
     "metadata": {},
     "output_type": "execute_result"
    }
   ],
   "source": [
    "level2_train.head()"
   ]
  },
  {
   "cell_type": "code",
   "execution_count": 165,
   "metadata": {
    "collapsed": true
   },
   "outputs": [],
   "source": [
    "#prediction_level2_camcorders\n",
    "level3_train_actioncameras=level2_train[level2_train['Parent_node_2']=='Action Cameras']"
   ]
  },
  {
   "cell_type": "code",
   "execution_count": 166,
   "metadata": {
    "collapsed": true
   },
   "outputs": [],
   "source": [
    "X_level3_ac=level3_train_actioncameras.drop(['ID','Parent_node_1','Parent_node_2','Leaf_Node','prediction_level1','prediction_level2'],axis=1)\n",
    "y_level3_ac=level3_train_actioncameras['Leaf_Node']"
   ]
  },
  {
   "cell_type": "code",
   "execution_count": 191,
   "metadata": {},
   "outputs": [
    {
     "name": "stdout",
     "output_type": "stream",
     "text": [
      "{'min_samples_split': 10, 'max_leaf_nodes': 20, 'criterion': 'gini', 'max_depth': 5, 'min_samples_leaf': 1}\n"
     ]
    }
   ],
   "source": [
    "parameters = [{\"criterion\": [\"gini\", \"entropy\"],\n",
    "              \"min_samples_split\": [2, 10, 20],\n",
    "              \"max_depth\": [None, 5, 10, 15],\n",
    "              \"min_samples_leaf\": [1, 5, 10],\n",
    "              \"max_leaf_nodes\": [None, 5, 10, 20],\n",
    "              }]\n",
    "\n",
    "\n",
    "tree = GridSearchCV(DecisionTreeClassifier(), parameters, cv=5)\n",
    "tree.fit(X_level3_ac, y_level3_ac)\n",
    "print(tree.best_params_)"
   ]
  },
  {
   "cell_type": "code",
   "execution_count": 167,
   "metadata": {
    "collapsed": true
   },
   "outputs": [],
   "source": [
    "from sklearn.tree import DecisionTreeClassifier\n",
    "cv = StratifiedKFold(n_splits=5, shuffle=True, random_state=42)\n",
    "decision_tree = DecisionTreeClassifier(min_samples_split= 10, max_leaf_nodes=20, criterion='gini', max_depth= 5, min_samples_leaf= 1)\n",
    "target_prediction = cross_val_predict(desicion_tree, X_level3_ac, y_level3_ac, cv=cv)"
   ]
  },
  {
   "cell_type": "code",
   "execution_count": 168,
   "metadata": {},
   "outputs": [
    {
     "name": "stdout",
     "output_type": "stream",
     "text": [
      "Confusion Matrix:\n",
      "                       ____________________________Prediction____________________________\n",
      "                          360 Degree Cameras                  Drone Non 360 Degree Cameras\n",
      "    360 Degree Cameras                    13                      0                      8\n",
      "                 Drone                     3                     12                      0\n",
      "Non 360 Degree Cameras                    10                      0                     12\n",
      "\n",
      "Accuracy Score:\n",
      "0.637931034483\n",
      "()\n",
      "Classification Report:\n",
      "                        precision    recall  f1-score   support\n",
      "\n",
      "    360 Degree Cameras       0.50      0.62      0.55        21\n",
      "                 Drone       1.00      0.80      0.89        15\n",
      "Non 360 Degree Cameras       0.60      0.55      0.57        22\n",
      "\n",
      "           avg / total       0.67      0.64      0.65        58\n",
      "\n"
     ]
    }
   ],
   "source": [
    "analytics(y_level3_ac,target_prediction)"
   ]
  },
  {
   "cell_type": "code",
   "execution_count": 169,
   "metadata": {},
   "outputs": [
    {
     "name": "stderr",
     "output_type": "stream",
     "text": [
      "/Users/bengikoseoglu/anaconda2/lib/python2.7/site-packages/ipykernel_launcher.py:1: SettingWithCopyWarning:\n",
      "\n",
      "\n",
      "A value is trying to be set on a copy of a slice from a DataFrame.\n",
      "Try using .loc[row_indexer,col_indexer] = value instead\n",
      "\n",
      "See the caveats in the documentation: http://pandas.pydata.org/pandas-docs/stable/indexing.html#indexing-view-versus-copy\n",
      "\n"
     ]
    }
   ],
   "source": [
    "level3_train_actioncameras['prediction_level3']=target_prediction"
   ]
  },
  {
   "cell_type": "markdown",
   "metadata": {},
   "source": [
    "### Cameras"
   ]
  },
  {
   "cell_type": "code",
   "execution_count": 170,
   "metadata": {},
   "outputs": [
    {
     "data": {
      "text/html": [
       "<div>\n",
       "<style>\n",
       "    .dataframe thead tr:only-child th {\n",
       "        text-align: right;\n",
       "    }\n",
       "\n",
       "    .dataframe thead th {\n",
       "        text-align: left;\n",
       "    }\n",
       "\n",
       "    .dataframe tbody tr th {\n",
       "        vertical-align: top;\n",
       "    }\n",
       "</style>\n",
       "<table border=\"1\" class=\"dataframe\">\n",
       "  <thead>\n",
       "    <tr style=\"text-align: right;\">\n",
       "      <th></th>\n",
       "      <th>ID</th>\n",
       "      <th>price</th>\n",
       "      <th>360fly_x</th>\n",
       "      <th>6Ave</th>\n",
       "      <th>Air Hogs</th>\n",
       "      <th>AmazingForLess</th>\n",
       "      <th>Axess Products</th>\n",
       "      <th>Bell+Howell</th>\n",
       "      <th>BlackMagic</th>\n",
       "      <th>Blackmagic</th>\n",
       "      <th>...</th>\n",
       "      <th>hx400</th>\n",
       "      <th>karma</th>\n",
       "      <th>fz43</th>\n",
       "      <th>deluxe</th>\n",
       "      <th>cpt</th>\n",
       "      <th>dvr</th>\n",
       "      <th>Parent_node_1</th>\n",
       "      <th>Parent_node_2</th>\n",
       "      <th>Leaf_Node</th>\n",
       "      <th>prediction_level1</th>\n",
       "    </tr>\n",
       "  </thead>\n",
       "  <tbody>\n",
       "    <tr>\n",
       "      <th>0</th>\n",
       "      <td>jessops-f2dd233dd6100c900432fd2902df8cde</td>\n",
       "      <td>479.0</td>\n",
       "      <td>0</td>\n",
       "      <td>0</td>\n",
       "      <td>0</td>\n",
       "      <td>0</td>\n",
       "      <td>0</td>\n",
       "      <td>0</td>\n",
       "      <td>0</td>\n",
       "      <td>0</td>\n",
       "      <td>...</td>\n",
       "      <td>0</td>\n",
       "      <td>0</td>\n",
       "      <td>0</td>\n",
       "      <td>0</td>\n",
       "      <td>0</td>\n",
       "      <td>0</td>\n",
       "      <td>Photo Devices</td>\n",
       "      <td>Point &amp; Shoot Cameras</td>\n",
       "      <td>Bridge Cameras</td>\n",
       "      <td>Photo Devices</td>\n",
       "    </tr>\n",
       "    <tr>\n",
       "      <th>1</th>\n",
       "      <td>jessops-ff2be7ba459709194635812c728a17fd</td>\n",
       "      <td>539.0</td>\n",
       "      <td>0</td>\n",
       "      <td>0</td>\n",
       "      <td>0</td>\n",
       "      <td>0</td>\n",
       "      <td>0</td>\n",
       "      <td>0</td>\n",
       "      <td>0</td>\n",
       "      <td>0</td>\n",
       "      <td>...</td>\n",
       "      <td>0</td>\n",
       "      <td>0</td>\n",
       "      <td>0</td>\n",
       "      <td>0</td>\n",
       "      <td>0</td>\n",
       "      <td>0</td>\n",
       "      <td>Photo Devices</td>\n",
       "      <td>DSLR</td>\n",
       "      <td>DSLR</td>\n",
       "      <td>Photo Devices</td>\n",
       "    </tr>\n",
       "    <tr>\n",
       "      <th>2</th>\n",
       "      <td>jessops-acfa4e6fdc0962be2da5bc1ed8d44357</td>\n",
       "      <td>3249.0</td>\n",
       "      <td>0</td>\n",
       "      <td>0</td>\n",
       "      <td>0</td>\n",
       "      <td>0</td>\n",
       "      <td>0</td>\n",
       "      <td>0</td>\n",
       "      <td>0</td>\n",
       "      <td>0</td>\n",
       "      <td>...</td>\n",
       "      <td>0</td>\n",
       "      <td>0</td>\n",
       "      <td>0</td>\n",
       "      <td>0</td>\n",
       "      <td>0</td>\n",
       "      <td>0</td>\n",
       "      <td>Photo Devices</td>\n",
       "      <td>DSLR</td>\n",
       "      <td>DSLR</td>\n",
       "      <td>Photo Devices</td>\n",
       "    </tr>\n",
       "    <tr>\n",
       "      <th>3</th>\n",
       "      <td>jessops-cabb446087d8428bfa741078869439b8</td>\n",
       "      <td>1349.0</td>\n",
       "      <td>0</td>\n",
       "      <td>0</td>\n",
       "      <td>0</td>\n",
       "      <td>0</td>\n",
       "      <td>0</td>\n",
       "      <td>0</td>\n",
       "      <td>0</td>\n",
       "      <td>0</td>\n",
       "      <td>...</td>\n",
       "      <td>0</td>\n",
       "      <td>0</td>\n",
       "      <td>0</td>\n",
       "      <td>0</td>\n",
       "      <td>0</td>\n",
       "      <td>0</td>\n",
       "      <td>Photo Devices</td>\n",
       "      <td>DSLR</td>\n",
       "      <td>DSLR</td>\n",
       "      <td>Photo Devices</td>\n",
       "    </tr>\n",
       "    <tr>\n",
       "      <th>4</th>\n",
       "      <td>jessops-8c6e0672aa9297ee8ff4d95fa5e2edc0</td>\n",
       "      <td>449.0</td>\n",
       "      <td>0</td>\n",
       "      <td>0</td>\n",
       "      <td>0</td>\n",
       "      <td>0</td>\n",
       "      <td>0</td>\n",
       "      <td>0</td>\n",
       "      <td>0</td>\n",
       "      <td>0</td>\n",
       "      <td>...</td>\n",
       "      <td>0</td>\n",
       "      <td>0</td>\n",
       "      <td>1</td>\n",
       "      <td>0</td>\n",
       "      <td>0</td>\n",
       "      <td>0</td>\n",
       "      <td>Photo Devices</td>\n",
       "      <td>Mirrorless Cameras</td>\n",
       "      <td>Full Frame Mirrorless Camera</td>\n",
       "      <td>Photo Devices</td>\n",
       "    </tr>\n",
       "  </tbody>\n",
       "</table>\n",
       "<p>5 rows × 958 columns</p>\n",
       "</div>"
      ],
      "text/plain": [
       "                                         ID   price  360fly_x  6Ave  Air Hogs  \\\n",
       "0  jessops-f2dd233dd6100c900432fd2902df8cde   479.0         0     0         0   \n",
       "1  jessops-ff2be7ba459709194635812c728a17fd   539.0         0     0         0   \n",
       "2  jessops-acfa4e6fdc0962be2da5bc1ed8d44357  3249.0         0     0         0   \n",
       "3  jessops-cabb446087d8428bfa741078869439b8  1349.0         0     0         0   \n",
       "4  jessops-8c6e0672aa9297ee8ff4d95fa5e2edc0   449.0         0     0         0   \n",
       "\n",
       "   AmazingForLess  Axess Products  Bell+Howell  BlackMagic  Blackmagic  \\\n",
       "0               0               0            0           0           0   \n",
       "1               0               0            0           0           0   \n",
       "2               0               0            0           0           0   \n",
       "3               0               0            0           0           0   \n",
       "4               0               0            0           0           0   \n",
       "\n",
       "         ...          hx400  karma  fz43  deluxe  cpt  dvr  Parent_node_1  \\\n",
       "0        ...              0      0     0       0    0    0  Photo Devices   \n",
       "1        ...              0      0     0       0    0    0  Photo Devices   \n",
       "2        ...              0      0     0       0    0    0  Photo Devices   \n",
       "3        ...              0      0     0       0    0    0  Photo Devices   \n",
       "4        ...              0      0     1       0    0    0  Photo Devices   \n",
       "\n",
       "           Parent_node_2                     Leaf_Node  prediction_level1  \n",
       "0  Point & Shoot Cameras                Bridge Cameras      Photo Devices  \n",
       "1                   DSLR                          DSLR      Photo Devices  \n",
       "2                   DSLR                          DSLR      Photo Devices  \n",
       "3                   DSLR                          DSLR      Photo Devices  \n",
       "4     Mirrorless Cameras  Full Frame Mirrorless Camera      Photo Devices  \n",
       "\n",
       "[5 rows x 958 columns]"
      ]
     },
     "execution_count": 170,
     "metadata": {},
     "output_type": "execute_result"
    }
   ],
   "source": [
    "#level2_train=model2[model2['Parent_node_1']=='Cam Corders']\n",
    "model2.head()"
   ]
  },
  {
   "cell_type": "code",
   "execution_count": 171,
   "metadata": {
    "collapsed": true
   },
   "outputs": [],
   "source": [
    "level2_train_cam=model2[model2['Parent_node_1']=='Photo Devices']"
   ]
  },
  {
   "cell_type": "code",
   "execution_count": 196,
   "metadata": {},
   "outputs": [
    {
     "name": "stdout",
     "output_type": "stream",
     "text": [
      "{'min_samples_split': 10, 'max_leaf_nodes': 20, 'criterion': 'gini', 'max_depth': 5, 'min_samples_leaf': 1}\n"
     ]
    }
   ],
   "source": [
    "X_level2_cam=level2_train_cam.drop(['ID','Parent_node_1','Parent_node_2','Leaf_Node','prediction_level1'],axis=1)\n",
    "y_level2_cam=level2_train_cam['Parent_node_2']\n",
    "\n",
    "parameters = [{\"criterion\": [\"gini\", \"entropy\"],\n",
    "              \"min_samples_split\": [2, 10, 20],\n",
    "              \"max_depth\": [None, 5, 10, 15],\n",
    "              \"min_samples_leaf\": [1, 5, 10],\n",
    "              \"max_leaf_nodes\": [None, 5, 10, 20],\n",
    "              }]\n",
    "\n",
    "tree = GridSearchCV(DecisionTreeClassifier(), parameters, cv=5)\n",
    "tree.fit(X_level2_cam, y_level2_cam)\n",
    "print(tree.best_params_)"
   ]
  },
  {
   "cell_type": "code",
   "execution_count": 172,
   "metadata": {
    "collapsed": true
   },
   "outputs": [],
   "source": [
    "from sklearn.tree import DecisionTreeClassifier\n",
    "decision_tree = DecisionTreeClassifier(min_samples_split= 10, max_leaf_nodes=20, criterion='gini', max_depth= 5, min_samples_leaf= 1)\n",
    "cv = StratifiedKFold(n_splits=5, shuffle=True, random_state=42)\n",
    "target_prediction = cross_val_predict(desicion_tree, X_level2_cam, y_level2_cam, cv=cv)\n"
   ]
  },
  {
   "cell_type": "code",
   "execution_count": 173,
   "metadata": {},
   "outputs": [
    {
     "name": "stdout",
     "output_type": "stream",
     "text": [
      "Confusion Matrix:\n",
      "                      __________________________Prediction___________________________\n",
      "                                      DSLR    Mirrorless Cameras Point & Shoot Cameras\n",
      "                 DSLR                   51                    10                    11\n",
      "   Mirrorless Cameras                    8                    59                    14\n",
      "Point & Shoot Cameras                    1                     9                   123\n",
      "\n",
      "Accuracy Score:\n",
      "0.814685314685\n",
      "()\n",
      "Classification Report:\n",
      "                       precision    recall  f1-score   support\n",
      "\n",
      "                 DSLR       0.85      0.71      0.77        72\n",
      "   Mirrorless Cameras       0.76      0.73      0.74        81\n",
      "Point & Shoot Cameras       0.83      0.92      0.88       133\n",
      "\n",
      "          avg / total       0.81      0.81      0.81       286\n",
      "\n"
     ]
    }
   ],
   "source": [
    "analytics(y_level2_cam,target_prediction) #"
   ]
  },
  {
   "cell_type": "code",
   "execution_count": 174,
   "metadata": {},
   "outputs": [
    {
     "name": "stderr",
     "output_type": "stream",
     "text": [
      "/Users/bengikoseoglu/anaconda2/lib/python2.7/site-packages/ipykernel_launcher.py:1: SettingWithCopyWarning:\n",
      "\n",
      "\n",
      "A value is trying to be set on a copy of a slice from a DataFrame.\n",
      "Try using .loc[row_indexer,col_indexer] = value instead\n",
      "\n",
      "See the caveats in the documentation: http://pandas.pydata.org/pandas-docs/stable/indexing.html#indexing-view-versus-copy\n",
      "\n"
     ]
    }
   ],
   "source": [
    "level2_train_cam['prediction_level2']=target_prediction"
   ]
  },
  {
   "cell_type": "markdown",
   "metadata": {},
   "source": [
    "#### 1. Point & Shoot Cameras"
   ]
  },
  {
   "cell_type": "code",
   "execution_count": 175,
   "metadata": {},
   "outputs": [
    {
     "data": {
      "text/html": [
       "<div>\n",
       "<style>\n",
       "    .dataframe thead tr:only-child th {\n",
       "        text-align: right;\n",
       "    }\n",
       "\n",
       "    .dataframe thead th {\n",
       "        text-align: left;\n",
       "    }\n",
       "\n",
       "    .dataframe tbody tr th {\n",
       "        vertical-align: top;\n",
       "    }\n",
       "</style>\n",
       "<table border=\"1\" class=\"dataframe\">\n",
       "  <thead>\n",
       "    <tr style=\"text-align: right;\">\n",
       "      <th></th>\n",
       "      <th>ID</th>\n",
       "      <th>price</th>\n",
       "      <th>360fly_x</th>\n",
       "      <th>6Ave</th>\n",
       "      <th>Air Hogs</th>\n",
       "      <th>AmazingForLess</th>\n",
       "      <th>Axess Products</th>\n",
       "      <th>Bell+Howell</th>\n",
       "      <th>BlackMagic</th>\n",
       "      <th>Blackmagic</th>\n",
       "      <th>...</th>\n",
       "      <th>karma</th>\n",
       "      <th>fz43</th>\n",
       "      <th>deluxe</th>\n",
       "      <th>cpt</th>\n",
       "      <th>dvr</th>\n",
       "      <th>Parent_node_1</th>\n",
       "      <th>Parent_node_2</th>\n",
       "      <th>Leaf_Node</th>\n",
       "      <th>prediction_level1</th>\n",
       "      <th>prediction_level2</th>\n",
       "    </tr>\n",
       "  </thead>\n",
       "  <tbody>\n",
       "    <tr>\n",
       "      <th>0</th>\n",
       "      <td>jessops-f2dd233dd6100c900432fd2902df8cde</td>\n",
       "      <td>479.0</td>\n",
       "      <td>0</td>\n",
       "      <td>0</td>\n",
       "      <td>0</td>\n",
       "      <td>0</td>\n",
       "      <td>0</td>\n",
       "      <td>0</td>\n",
       "      <td>0</td>\n",
       "      <td>0</td>\n",
       "      <td>...</td>\n",
       "      <td>0</td>\n",
       "      <td>0</td>\n",
       "      <td>0</td>\n",
       "      <td>0</td>\n",
       "      <td>0</td>\n",
       "      <td>Photo Devices</td>\n",
       "      <td>Point &amp; Shoot Cameras</td>\n",
       "      <td>Bridge Cameras</td>\n",
       "      <td>Photo Devices</td>\n",
       "      <td>Point &amp; Shoot Cameras</td>\n",
       "    </tr>\n",
       "    <tr>\n",
       "      <th>1</th>\n",
       "      <td>jessops-ff2be7ba459709194635812c728a17fd</td>\n",
       "      <td>539.0</td>\n",
       "      <td>0</td>\n",
       "      <td>0</td>\n",
       "      <td>0</td>\n",
       "      <td>0</td>\n",
       "      <td>0</td>\n",
       "      <td>0</td>\n",
       "      <td>0</td>\n",
       "      <td>0</td>\n",
       "      <td>...</td>\n",
       "      <td>0</td>\n",
       "      <td>0</td>\n",
       "      <td>0</td>\n",
       "      <td>0</td>\n",
       "      <td>0</td>\n",
       "      <td>Photo Devices</td>\n",
       "      <td>DSLR</td>\n",
       "      <td>DSLR</td>\n",
       "      <td>Photo Devices</td>\n",
       "      <td>DSLR</td>\n",
       "    </tr>\n",
       "    <tr>\n",
       "      <th>2</th>\n",
       "      <td>jessops-acfa4e6fdc0962be2da5bc1ed8d44357</td>\n",
       "      <td>3249.0</td>\n",
       "      <td>0</td>\n",
       "      <td>0</td>\n",
       "      <td>0</td>\n",
       "      <td>0</td>\n",
       "      <td>0</td>\n",
       "      <td>0</td>\n",
       "      <td>0</td>\n",
       "      <td>0</td>\n",
       "      <td>...</td>\n",
       "      <td>0</td>\n",
       "      <td>0</td>\n",
       "      <td>0</td>\n",
       "      <td>0</td>\n",
       "      <td>0</td>\n",
       "      <td>Photo Devices</td>\n",
       "      <td>DSLR</td>\n",
       "      <td>DSLR</td>\n",
       "      <td>Photo Devices</td>\n",
       "      <td>DSLR</td>\n",
       "    </tr>\n",
       "    <tr>\n",
       "      <th>3</th>\n",
       "      <td>jessops-cabb446087d8428bfa741078869439b8</td>\n",
       "      <td>1349.0</td>\n",
       "      <td>0</td>\n",
       "      <td>0</td>\n",
       "      <td>0</td>\n",
       "      <td>0</td>\n",
       "      <td>0</td>\n",
       "      <td>0</td>\n",
       "      <td>0</td>\n",
       "      <td>0</td>\n",
       "      <td>...</td>\n",
       "      <td>0</td>\n",
       "      <td>0</td>\n",
       "      <td>0</td>\n",
       "      <td>0</td>\n",
       "      <td>0</td>\n",
       "      <td>Photo Devices</td>\n",
       "      <td>DSLR</td>\n",
       "      <td>DSLR</td>\n",
       "      <td>Photo Devices</td>\n",
       "      <td>DSLR</td>\n",
       "    </tr>\n",
       "    <tr>\n",
       "      <th>4</th>\n",
       "      <td>jessops-8c6e0672aa9297ee8ff4d95fa5e2edc0</td>\n",
       "      <td>449.0</td>\n",
       "      <td>0</td>\n",
       "      <td>0</td>\n",
       "      <td>0</td>\n",
       "      <td>0</td>\n",
       "      <td>0</td>\n",
       "      <td>0</td>\n",
       "      <td>0</td>\n",
       "      <td>0</td>\n",
       "      <td>...</td>\n",
       "      <td>0</td>\n",
       "      <td>1</td>\n",
       "      <td>0</td>\n",
       "      <td>0</td>\n",
       "      <td>0</td>\n",
       "      <td>Photo Devices</td>\n",
       "      <td>Mirrorless Cameras</td>\n",
       "      <td>Full Frame Mirrorless Camera</td>\n",
       "      <td>Photo Devices</td>\n",
       "      <td>Mirrorless Cameras</td>\n",
       "    </tr>\n",
       "  </tbody>\n",
       "</table>\n",
       "<p>5 rows × 959 columns</p>\n",
       "</div>"
      ],
      "text/plain": [
       "                                         ID   price  360fly_x  6Ave  Air Hogs  \\\n",
       "0  jessops-f2dd233dd6100c900432fd2902df8cde   479.0         0     0         0   \n",
       "1  jessops-ff2be7ba459709194635812c728a17fd   539.0         0     0         0   \n",
       "2  jessops-acfa4e6fdc0962be2da5bc1ed8d44357  3249.0         0     0         0   \n",
       "3  jessops-cabb446087d8428bfa741078869439b8  1349.0         0     0         0   \n",
       "4  jessops-8c6e0672aa9297ee8ff4d95fa5e2edc0   449.0         0     0         0   \n",
       "\n",
       "   AmazingForLess  Axess Products  Bell+Howell  BlackMagic  Blackmagic  \\\n",
       "0               0               0            0           0           0   \n",
       "1               0               0            0           0           0   \n",
       "2               0               0            0           0           0   \n",
       "3               0               0            0           0           0   \n",
       "4               0               0            0           0           0   \n",
       "\n",
       "           ...            karma  fz43  deluxe  cpt  dvr  Parent_node_1  \\\n",
       "0          ...                0     0       0    0    0  Photo Devices   \n",
       "1          ...                0     0       0    0    0  Photo Devices   \n",
       "2          ...                0     0       0    0    0  Photo Devices   \n",
       "3          ...                0     0       0    0    0  Photo Devices   \n",
       "4          ...                0     1       0    0    0  Photo Devices   \n",
       "\n",
       "           Parent_node_2                     Leaf_Node  prediction_level1  \\\n",
       "0  Point & Shoot Cameras                Bridge Cameras      Photo Devices   \n",
       "1                   DSLR                          DSLR      Photo Devices   \n",
       "2                   DSLR                          DSLR      Photo Devices   \n",
       "3                   DSLR                          DSLR      Photo Devices   \n",
       "4     Mirrorless Cameras  Full Frame Mirrorless Camera      Photo Devices   \n",
       "\n",
       "       prediction_level2  \n",
       "0  Point & Shoot Cameras  \n",
       "1                   DSLR  \n",
       "2                   DSLR  \n",
       "3                   DSLR  \n",
       "4     Mirrorless Cameras  \n",
       "\n",
       "[5 rows x 959 columns]"
      ]
     },
     "execution_count": 175,
     "metadata": {},
     "output_type": "execute_result"
    }
   ],
   "source": [
    "level2_train_cam.head()"
   ]
  },
  {
   "cell_type": "code",
   "execution_count": 176,
   "metadata": {
    "collapsed": true
   },
   "outputs": [],
   "source": [
    "#prediction_level2_camcorders\n",
    "level3_train_pocam=level2_train_cam[level2_train_cam['Parent_node_2']=='Point & Shoot Cameras']"
   ]
  },
  {
   "cell_type": "code",
   "execution_count": 177,
   "metadata": {},
   "outputs": [
    {
     "data": {
      "text/plain": [
       "(133, 959)"
      ]
     },
     "execution_count": 177,
     "metadata": {},
     "output_type": "execute_result"
    }
   ],
   "source": [
    "level3_train_pocam.shape"
   ]
  },
  {
   "cell_type": "code",
   "execution_count": 203,
   "metadata": {},
   "outputs": [
    {
     "name": "stdout",
     "output_type": "stream",
     "text": [
      "{'min_samples_split': 10, 'max_leaf_nodes': None, 'criterion': 'entropy', 'max_depth': 10, 'min_samples_leaf': 1}\n"
     ]
    }
   ],
   "source": [
    "X_level3_po=level3_train_pocam.drop(['ID','Parent_node_1','Parent_node_2','Leaf_Node','prediction_level1','prediction_level2'],axis=1)\n",
    "y_level3_po=level3_train_pocam['Leaf_Node']\n",
    "\n",
    "parameters = [{\"criterion\": [\"gini\", \"entropy\"],\n",
    "              \"min_samples_split\": [2, 10, 20],\n",
    "              \"max_depth\": [None, 5, 10, 15],\n",
    "              \"min_samples_leaf\": [1, 5, 10],\n",
    "              \"max_leaf_nodes\": [None, 5, 10, 20],\n",
    "              }]\n",
    "\n",
    "tree = GridSearchCV(DecisionTreeClassifier(), parameters, cv=5)\n",
    "tree.fit(X_level3_po, y_level3_po)\n",
    "print(tree.best_params_)"
   ]
  },
  {
   "cell_type": "code",
   "execution_count": 178,
   "metadata": {
    "collapsed": true
   },
   "outputs": [],
   "source": [
    "from sklearn.tree import DecisionTreeClassifier\n",
    "decision_tree = DecisionTreeClassifier(min_samples_split= 10, max_leaf_nodes=None, criterion='entropy', max_depth= 10, min_samples_leaf= 1)\n",
    "cv = StratifiedKFold(n_splits=5, shuffle=True, random_state=42)\n",
    "target_prediction = cross_val_predict(desicion_tree, X_level3_po, y_level3_po, cv=cv)"
   ]
  },
  {
   "cell_type": "code",
   "execution_count": 179,
   "metadata": {},
   "outputs": [
    {
     "name": "stdout",
     "output_type": "stream",
     "text": [
      "Confusion Matrix:\n",
      "                        _____________________________Prediction______________________________\n",
      "                                Bridge Cameras Digital Compact Cameras                 Instant\n",
      "         Bridge Cameras                     38                      18                       0\n",
      "Digital Compact Cameras                     21                      37                       0\n",
      "                Instant                      1                       6                      12\n",
      "\n",
      "Accuracy Score:\n",
      "0.654135338346\n",
      "()\n",
      "Classification Report:\n",
      "                         precision    recall  f1-score   support\n",
      "\n",
      "         Bridge Cameras       0.63      0.68      0.66        56\n",
      "Digital Compact Cameras       0.61      0.64      0.62        58\n",
      "                Instant       1.00      0.63      0.77        19\n",
      "\n",
      "            avg / total       0.67      0.65      0.66       133\n",
      "\n"
     ]
    }
   ],
   "source": [
    "analytics(y_level3_po,target_prediction)"
   ]
  },
  {
   "cell_type": "code",
   "execution_count": 180,
   "metadata": {},
   "outputs": [
    {
     "name": "stderr",
     "output_type": "stream",
     "text": [
      "/Users/bengikoseoglu/anaconda2/lib/python2.7/site-packages/ipykernel_launcher.py:1: SettingWithCopyWarning:\n",
      "\n",
      "\n",
      "A value is trying to be set on a copy of a slice from a DataFrame.\n",
      "Try using .loc[row_indexer,col_indexer] = value instead\n",
      "\n",
      "See the caveats in the documentation: http://pandas.pydata.org/pandas-docs/stable/indexing.html#indexing-view-versus-copy\n",
      "\n"
     ]
    }
   ],
   "source": [
    "level3_train_pocam['prediction_level3']=target_prediction"
   ]
  },
  {
   "cell_type": "markdown",
   "metadata": {},
   "source": [
    "#### 2. Mirrorless Cameras"
   ]
  },
  {
   "cell_type": "code",
   "execution_count": 181,
   "metadata": {
    "collapsed": true
   },
   "outputs": [],
   "source": [
    "#prediction_level2_camcorders\n",
    "level3_train_miror=level2_train_cam[level2_train_cam['Parent_node_2']=='Mirrorless Cameras']"
   ]
  },
  {
   "cell_type": "code",
   "execution_count": 182,
   "metadata": {},
   "outputs": [
    {
     "data": {
      "text/html": [
       "<div>\n",
       "<style>\n",
       "    .dataframe thead tr:only-child th {\n",
       "        text-align: right;\n",
       "    }\n",
       "\n",
       "    .dataframe thead th {\n",
       "        text-align: left;\n",
       "    }\n",
       "\n",
       "    .dataframe tbody tr th {\n",
       "        vertical-align: top;\n",
       "    }\n",
       "</style>\n",
       "<table border=\"1\" class=\"dataframe\">\n",
       "  <thead>\n",
       "    <tr style=\"text-align: right;\">\n",
       "      <th></th>\n",
       "      <th>ID</th>\n",
       "      <th>price</th>\n",
       "      <th>360fly_x</th>\n",
       "      <th>6Ave</th>\n",
       "      <th>Air Hogs</th>\n",
       "      <th>AmazingForLess</th>\n",
       "      <th>Axess Products</th>\n",
       "      <th>Bell+Howell</th>\n",
       "      <th>BlackMagic</th>\n",
       "      <th>Blackmagic</th>\n",
       "      <th>...</th>\n",
       "      <th>karma</th>\n",
       "      <th>fz43</th>\n",
       "      <th>deluxe</th>\n",
       "      <th>cpt</th>\n",
       "      <th>dvr</th>\n",
       "      <th>Parent_node_1</th>\n",
       "      <th>Parent_node_2</th>\n",
       "      <th>Leaf_Node</th>\n",
       "      <th>prediction_level1</th>\n",
       "      <th>prediction_level2</th>\n",
       "    </tr>\n",
       "  </thead>\n",
       "  <tbody>\n",
       "    <tr>\n",
       "      <th>4</th>\n",
       "      <td>jessops-8c6e0672aa9297ee8ff4d95fa5e2edc0</td>\n",
       "      <td>449.0</td>\n",
       "      <td>0</td>\n",
       "      <td>0</td>\n",
       "      <td>0</td>\n",
       "      <td>0</td>\n",
       "      <td>0</td>\n",
       "      <td>0</td>\n",
       "      <td>0</td>\n",
       "      <td>0</td>\n",
       "      <td>...</td>\n",
       "      <td>0</td>\n",
       "      <td>1</td>\n",
       "      <td>0</td>\n",
       "      <td>0</td>\n",
       "      <td>0</td>\n",
       "      <td>Photo Devices</td>\n",
       "      <td>Mirrorless Cameras</td>\n",
       "      <td>Full Frame Mirrorless Camera</td>\n",
       "      <td>Photo Devices</td>\n",
       "      <td>Mirrorless Cameras</td>\n",
       "    </tr>\n",
       "    <tr>\n",
       "      <th>5</th>\n",
       "      <td>jessops-6953ccaa96a32f9defa93c0d1dcc8279</td>\n",
       "      <td>1999.0</td>\n",
       "      <td>0</td>\n",
       "      <td>0</td>\n",
       "      <td>0</td>\n",
       "      <td>0</td>\n",
       "      <td>0</td>\n",
       "      <td>0</td>\n",
       "      <td>0</td>\n",
       "      <td>0</td>\n",
       "      <td>...</td>\n",
       "      <td>0</td>\n",
       "      <td>0</td>\n",
       "      <td>0</td>\n",
       "      <td>0</td>\n",
       "      <td>0</td>\n",
       "      <td>Photo Devices</td>\n",
       "      <td>Mirrorless Cameras</td>\n",
       "      <td>Full Frame Mirrorless Camera</td>\n",
       "      <td>Photo Devices</td>\n",
       "      <td>Mirrorless Cameras</td>\n",
       "    </tr>\n",
       "    <tr>\n",
       "      <th>7</th>\n",
       "      <td>jessops-63ef4531e53505d5bb85cd30e4b04758</td>\n",
       "      <td>599.0</td>\n",
       "      <td>0</td>\n",
       "      <td>0</td>\n",
       "      <td>0</td>\n",
       "      <td>0</td>\n",
       "      <td>0</td>\n",
       "      <td>0</td>\n",
       "      <td>0</td>\n",
       "      <td>0</td>\n",
       "      <td>...</td>\n",
       "      <td>0</td>\n",
       "      <td>0</td>\n",
       "      <td>0</td>\n",
       "      <td>0</td>\n",
       "      <td>0</td>\n",
       "      <td>Photo Devices</td>\n",
       "      <td>Mirrorless Cameras</td>\n",
       "      <td>NonFullFrameMirrorlessCamera</td>\n",
       "      <td>Photo Devices</td>\n",
       "      <td>Mirrorless Cameras</td>\n",
       "    </tr>\n",
       "    <tr>\n",
       "      <th>14</th>\n",
       "      <td>jessops-da3775099b2af5fa2d80032b691adba6</td>\n",
       "      <td>2019.0</td>\n",
       "      <td>0</td>\n",
       "      <td>0</td>\n",
       "      <td>0</td>\n",
       "      <td>0</td>\n",
       "      <td>0</td>\n",
       "      <td>0</td>\n",
       "      <td>0</td>\n",
       "      <td>0</td>\n",
       "      <td>...</td>\n",
       "      <td>0</td>\n",
       "      <td>0</td>\n",
       "      <td>0</td>\n",
       "      <td>0</td>\n",
       "      <td>0</td>\n",
       "      <td>Photo Devices</td>\n",
       "      <td>Mirrorless Cameras</td>\n",
       "      <td>NonFullFrameMirrorlessCamera</td>\n",
       "      <td>Photo Devices</td>\n",
       "      <td>Mirrorless Cameras</td>\n",
       "    </tr>\n",
       "    <tr>\n",
       "      <th>15</th>\n",
       "      <td>jessops-134e482ace5fbad97bee295198fc991b</td>\n",
       "      <td>1249.0</td>\n",
       "      <td>0</td>\n",
       "      <td>0</td>\n",
       "      <td>0</td>\n",
       "      <td>0</td>\n",
       "      <td>0</td>\n",
       "      <td>0</td>\n",
       "      <td>0</td>\n",
       "      <td>0</td>\n",
       "      <td>...</td>\n",
       "      <td>0</td>\n",
       "      <td>0</td>\n",
       "      <td>0</td>\n",
       "      <td>0</td>\n",
       "      <td>0</td>\n",
       "      <td>Photo Devices</td>\n",
       "      <td>Mirrorless Cameras</td>\n",
       "      <td>Full Frame Mirrorless Camera</td>\n",
       "      <td>Photo Devices</td>\n",
       "      <td>Mirrorless Cameras</td>\n",
       "    </tr>\n",
       "  </tbody>\n",
       "</table>\n",
       "<p>5 rows × 959 columns</p>\n",
       "</div>"
      ],
      "text/plain": [
       "                                          ID   price  360fly_x  6Ave  \\\n",
       "4   jessops-8c6e0672aa9297ee8ff4d95fa5e2edc0   449.0         0     0   \n",
       "5   jessops-6953ccaa96a32f9defa93c0d1dcc8279  1999.0         0     0   \n",
       "7   jessops-63ef4531e53505d5bb85cd30e4b04758   599.0         0     0   \n",
       "14  jessops-da3775099b2af5fa2d80032b691adba6  2019.0         0     0   \n",
       "15  jessops-134e482ace5fbad97bee295198fc991b  1249.0         0     0   \n",
       "\n",
       "    Air Hogs  AmazingForLess  Axess Products  Bell+Howell  BlackMagic  \\\n",
       "4          0               0               0            0           0   \n",
       "5          0               0               0            0           0   \n",
       "7          0               0               0            0           0   \n",
       "14         0               0               0            0           0   \n",
       "15         0               0               0            0           0   \n",
       "\n",
       "    Blackmagic         ...          karma  fz43  deluxe  cpt  dvr  \\\n",
       "4            0         ...              0     1       0    0    0   \n",
       "5            0         ...              0     0       0    0    0   \n",
       "7            0         ...              0     0       0    0    0   \n",
       "14           0         ...              0     0       0    0    0   \n",
       "15           0         ...              0     0       0    0    0   \n",
       "\n",
       "    Parent_node_1       Parent_node_2                     Leaf_Node  \\\n",
       "4   Photo Devices  Mirrorless Cameras  Full Frame Mirrorless Camera   \n",
       "5   Photo Devices  Mirrorless Cameras  Full Frame Mirrorless Camera   \n",
       "7   Photo Devices  Mirrorless Cameras  NonFullFrameMirrorlessCamera   \n",
       "14  Photo Devices  Mirrorless Cameras  NonFullFrameMirrorlessCamera   \n",
       "15  Photo Devices  Mirrorless Cameras  Full Frame Mirrorless Camera   \n",
       "\n",
       "    prediction_level1   prediction_level2  \n",
       "4       Photo Devices  Mirrorless Cameras  \n",
       "5       Photo Devices  Mirrorless Cameras  \n",
       "7       Photo Devices  Mirrorless Cameras  \n",
       "14      Photo Devices  Mirrorless Cameras  \n",
       "15      Photo Devices  Mirrorless Cameras  \n",
       "\n",
       "[5 rows x 959 columns]"
      ]
     },
     "execution_count": 182,
     "metadata": {},
     "output_type": "execute_result"
    }
   ],
   "source": [
    "level3_train_miror.head()"
   ]
  },
  {
   "cell_type": "code",
   "execution_count": 183,
   "metadata": {
    "collapsed": true
   },
   "outputs": [],
   "source": [
    "X_level3_mi=level3_train_miror.drop(['ID','Parent_node_1','Parent_node_2','Leaf_Node','prediction_level1','prediction_level2'],axis=1)\n",
    "y_level3_mi=level3_train_miror['Leaf_Node']"
   ]
  },
  {
   "cell_type": "code",
   "execution_count": 210,
   "metadata": {},
   "outputs": [
    {
     "name": "stdout",
     "output_type": "stream",
     "text": [
      "{'min_samples_split': 10, 'max_leaf_nodes': 10, 'criterion': 'gini', 'max_depth': None, 'min_samples_leaf': 1}\n"
     ]
    }
   ],
   "source": [
    "parameters = [{\"criterion\": [\"gini\", \"entropy\"],\n",
    "              \"min_samples_split\": [2, 10, 20],\n",
    "              \"max_depth\": [None, 5, 10, 15],\n",
    "              \"min_samples_leaf\": [1, 5, 10],\n",
    "              \"max_leaf_nodes\": [None, 5, 10, 20],\n",
    "              }]\n",
    "\n",
    "tree = GridSearchCV(DecisionTreeClassifier(), parameters, cv=5)\n",
    "tree.fit(X_level3_mi, y_level3_mi)\n",
    "print(tree.best_params_)"
   ]
  },
  {
   "cell_type": "code",
   "execution_count": 184,
   "metadata": {
    "collapsed": true
   },
   "outputs": [],
   "source": [
    "from sklearn.tree import DecisionTreeClassifier\n",
    "decision_tree = DecisionTreeClassifier(min_samples_split= 10, max_leaf_nodes=10, criterion='gini', max_depth= None, min_samples_leaf= 1)\n",
    "cv = StratifiedKFold(n_splits=5, shuffle=True, random_state=42)\n",
    "target_prediction = cross_val_predict(desicion_tree, X_level3_mi, y_level3_mi, cv=cv)"
   ]
  },
  {
   "cell_type": "code",
   "execution_count": 185,
   "metadata": {},
   "outputs": [
    {
     "name": "stdout",
     "output_type": "stream",
     "text": [
      "Confusion Matrix:\n",
      "                             _______________________Prediction_______________________\n",
      "                            Full Frame Mirrorless Camera NonFullFrameMirrorlessCamera\n",
      "Full Frame Mirrorless Camera                          15                           16\n",
      "NonFullFrameMirrorlessCamera                           6                           44\n",
      "\n",
      "Accuracy Score:\n",
      "0.728395061728\n",
      "()\n",
      "Classification Report:\n",
      "                              precision    recall  f1-score   support\n",
      "\n",
      "Full Frame Mirrorless Camera       0.71      0.48      0.58        31\n",
      "NonFullFrameMirrorlessCamera       0.73      0.88      0.80        50\n",
      "\n",
      "                 avg / total       0.73      0.73      0.71        81\n",
      "\n"
     ]
    }
   ],
   "source": [
    "analytics(y_level3_mi,target_prediction)"
   ]
  },
  {
   "cell_type": "code",
   "execution_count": 186,
   "metadata": {},
   "outputs": [
    {
     "name": "stderr",
     "output_type": "stream",
     "text": [
      "/Users/bengikoseoglu/anaconda2/lib/python2.7/site-packages/ipykernel_launcher.py:1: SettingWithCopyWarning:\n",
      "\n",
      "\n",
      "A value is trying to be set on a copy of a slice from a DataFrame.\n",
      "Try using .loc[row_indexer,col_indexer] = value instead\n",
      "\n",
      "See the caveats in the documentation: http://pandas.pydata.org/pandas-docs/stable/indexing.html#indexing-view-versus-copy\n",
      "\n"
     ]
    }
   ],
   "source": [
    "level3_train_miror['prediction_level3']=target_prediction"
   ]
  },
  {
   "cell_type": "markdown",
   "metadata": {},
   "source": [
    "### COMBINING ALL"
   ]
  },
  {
   "cell_type": "code",
   "execution_count": 187,
   "metadata": {},
   "outputs": [
    {
     "name": "stderr",
     "output_type": "stream",
     "text": [
      "/Users/bengikoseoglu/anaconda2/lib/python2.7/site-packages/ipykernel_launcher.py:2: SettingWithCopyWarning:\n",
      "\n",
      "\n",
      "A value is trying to be set on a copy of a slice from a DataFrame.\n",
      "Try using .loc[row_indexer,col_indexer] = value instead\n",
      "\n",
      "See the caveats in the documentation: http://pandas.pydata.org/pandas-docs/stable/indexing.html#indexing-view-versus-copy\n",
      "\n"
     ]
    }
   ],
   "source": [
    "level3_dslr=level2_train_cam[level2_train_cam['Parent_node_2']=='DSLR']\n",
    "level3_dslr['prediction_level3']=level3_dslr['prediction_level2']"
   ]
  },
  {
   "cell_type": "code",
   "execution_count": 188,
   "metadata": {},
   "outputs": [
    {
     "name": "stderr",
     "output_type": "stream",
     "text": [
      "/Users/bengikoseoglu/anaconda2/lib/python2.7/site-packages/ipykernel_launcher.py:2: SettingWithCopyWarning:\n",
      "\n",
      "\n",
      "A value is trying to be set on a copy of a slice from a DataFrame.\n",
      "Try using .loc[row_indexer,col_indexer] = value instead\n",
      "\n",
      "See the caveats in the documentation: http://pandas.pydata.org/pandas-docs/stable/indexing.html#indexing-view-versus-copy\n",
      "\n",
      "/Users/bengikoseoglu/anaconda2/lib/python2.7/site-packages/ipykernel_launcher.py:3: SettingWithCopyWarning:\n",
      "\n",
      "\n",
      "A value is trying to be set on a copy of a slice from a DataFrame.\n",
      "Try using .loc[row_indexer,col_indexer] = value instead\n",
      "\n",
      "See the caveats in the documentation: http://pandas.pydata.org/pandas-docs/stable/indexing.html#indexing-view-versus-copy\n",
      "\n"
     ]
    }
   ],
   "source": [
    "level3_nocamera=bags_words[bags_words['Parent_node_1']=='Not Camera']\n",
    "level3_nocamera['prediction_level2']=level3_nocamera['prediction_level1']\n",
    "level3_nocamera['prediction_level3']=level3_nocamera['prediction_level1']"
   ]
  },
  {
   "cell_type": "code",
   "execution_count": 189,
   "metadata": {
    "collapsed": true
   },
   "outputs": [],
   "source": [
    "all_concat=pd.concat([level3_dslr,level3_nocamera,level3_train_miror,level3_train_pocam,level3_train_actioncameras,level3_train])"
   ]
  },
  {
   "cell_type": "code",
   "execution_count": 190,
   "metadata": {},
   "outputs": [
    {
     "data": {
      "text/html": [
       "<div>\n",
       "<style>\n",
       "    .dataframe thead tr:only-child th {\n",
       "        text-align: right;\n",
       "    }\n",
       "\n",
       "    .dataframe thead th {\n",
       "        text-align: left;\n",
       "    }\n",
       "\n",
       "    .dataframe tbody tr th {\n",
       "        vertical-align: top;\n",
       "    }\n",
       "</style>\n",
       "<table border=\"1\" class=\"dataframe\">\n",
       "  <thead>\n",
       "    <tr style=\"text-align: right;\">\n",
       "      <th></th>\n",
       "      <th>007</th>\n",
       "      <th>012</th>\n",
       "      <th>018208021970</th>\n",
       "      <th>06581</th>\n",
       "      <th>10</th>\n",
       "      <th>100mm</th>\n",
       "      <th>101</th>\n",
       "      <th>102</th>\n",
       "      <th>105</th>\n",
       "      <th>105mm</th>\n",
       "      <th>...</th>\n",
       "      <th>yuneec</th>\n",
       "      <th>z150</th>\n",
       "      <th>z212</th>\n",
       "      <th>zeiss</th>\n",
       "      <th>zero</th>\n",
       "      <th>zink</th>\n",
       "      <th>zoom</th>\n",
       "      <th>zoomlens</th>\n",
       "      <th>zr10</th>\n",
       "      <th>zs100</th>\n",
       "    </tr>\n",
       "  </thead>\n",
       "  <tbody>\n",
       "    <tr>\n",
       "      <th>1</th>\n",
       "      <td>0</td>\n",
       "      <td>0</td>\n",
       "      <td>0</td>\n",
       "      <td>0</td>\n",
       "      <td>0</td>\n",
       "      <td>0</td>\n",
       "      <td>0</td>\n",
       "      <td>0</td>\n",
       "      <td>0</td>\n",
       "      <td>0</td>\n",
       "      <td>...</td>\n",
       "      <td>0</td>\n",
       "      <td>0</td>\n",
       "      <td>0</td>\n",
       "      <td>0</td>\n",
       "      <td>0</td>\n",
       "      <td>0</td>\n",
       "      <td>0</td>\n",
       "      <td>0</td>\n",
       "      <td>0</td>\n",
       "      <td>0</td>\n",
       "    </tr>\n",
       "    <tr>\n",
       "      <th>2</th>\n",
       "      <td>0</td>\n",
       "      <td>0</td>\n",
       "      <td>0</td>\n",
       "      <td>0</td>\n",
       "      <td>0</td>\n",
       "      <td>0</td>\n",
       "      <td>0</td>\n",
       "      <td>0</td>\n",
       "      <td>0</td>\n",
       "      <td>0</td>\n",
       "      <td>...</td>\n",
       "      <td>0</td>\n",
       "      <td>0</td>\n",
       "      <td>0</td>\n",
       "      <td>0</td>\n",
       "      <td>0</td>\n",
       "      <td>0</td>\n",
       "      <td>0</td>\n",
       "      <td>0</td>\n",
       "      <td>0</td>\n",
       "      <td>0</td>\n",
       "    </tr>\n",
       "    <tr>\n",
       "      <th>3</th>\n",
       "      <td>0</td>\n",
       "      <td>0</td>\n",
       "      <td>0</td>\n",
       "      <td>0</td>\n",
       "      <td>0</td>\n",
       "      <td>0</td>\n",
       "      <td>0</td>\n",
       "      <td>0</td>\n",
       "      <td>0</td>\n",
       "      <td>0</td>\n",
       "      <td>...</td>\n",
       "      <td>0</td>\n",
       "      <td>0</td>\n",
       "      <td>0</td>\n",
       "      <td>0</td>\n",
       "      <td>0</td>\n",
       "      <td>0</td>\n",
       "      <td>0</td>\n",
       "      <td>0</td>\n",
       "      <td>0</td>\n",
       "      <td>0</td>\n",
       "    </tr>\n",
       "    <tr>\n",
       "      <th>6</th>\n",
       "      <td>0</td>\n",
       "      <td>0</td>\n",
       "      <td>0</td>\n",
       "      <td>0</td>\n",
       "      <td>0</td>\n",
       "      <td>0</td>\n",
       "      <td>0</td>\n",
       "      <td>0</td>\n",
       "      <td>0</td>\n",
       "      <td>0</td>\n",
       "      <td>...</td>\n",
       "      <td>0</td>\n",
       "      <td>0</td>\n",
       "      <td>0</td>\n",
       "      <td>0</td>\n",
       "      <td>0</td>\n",
       "      <td>0</td>\n",
       "      <td>0</td>\n",
       "      <td>0</td>\n",
       "      <td>0</td>\n",
       "      <td>0</td>\n",
       "    </tr>\n",
       "    <tr>\n",
       "      <th>20</th>\n",
       "      <td>0</td>\n",
       "      <td>0</td>\n",
       "      <td>0</td>\n",
       "      <td>0</td>\n",
       "      <td>0</td>\n",
       "      <td>0</td>\n",
       "      <td>0</td>\n",
       "      <td>0</td>\n",
       "      <td>0</td>\n",
       "      <td>0</td>\n",
       "      <td>...</td>\n",
       "      <td>0</td>\n",
       "      <td>0</td>\n",
       "      <td>0</td>\n",
       "      <td>0</td>\n",
       "      <td>0</td>\n",
       "      <td>0</td>\n",
       "      <td>0</td>\n",
       "      <td>0</td>\n",
       "      <td>0</td>\n",
       "      <td>0</td>\n",
       "    </tr>\n",
       "  </tbody>\n",
       "</table>\n",
       "<p>5 rows × 961 columns</p>\n",
       "</div>"
      ],
      "text/plain": [
       "    007  012  018208021970  06581  10  100mm  101  102  105  105mm  ...    \\\n",
       "1     0    0             0      0   0      0    0    0    0      0  ...     \n",
       "2     0    0             0      0   0      0    0    0    0      0  ...     \n",
       "3     0    0             0      0   0      0    0    0    0      0  ...     \n",
       "6     0    0             0      0   0      0    0    0    0      0  ...     \n",
       "20    0    0             0      0   0      0    0    0    0      0  ...     \n",
       "\n",
       "    yuneec  z150  z212  zeiss  zero  zink  zoom  zoomlens  zr10  zs100  \n",
       "1        0     0     0      0     0     0     0         0     0      0  \n",
       "2        0     0     0      0     0     0     0         0     0      0  \n",
       "3        0     0     0      0     0     0     0         0     0      0  \n",
       "6        0     0     0      0     0     0     0         0     0      0  \n",
       "20       0     0     0      0     0     0     0         0     0      0  \n",
       "\n",
       "[5 rows x 961 columns]"
      ]
     },
     "execution_count": 190,
     "metadata": {},
     "output_type": "execute_result"
    }
   ],
   "source": [
    "all_concat.head()"
   ]
  },
  {
   "cell_type": "code",
   "execution_count": 191,
   "metadata": {},
   "outputs": [
    {
     "data": {
      "text/plain": [
       "(416, 961)"
      ]
     },
     "execution_count": 191,
     "metadata": {},
     "output_type": "execute_result"
    }
   ],
   "source": [
    "all_concat.shape"
   ]
  },
  {
   "cell_type": "code",
   "execution_count": 192,
   "metadata": {},
   "outputs": [
    {
     "data": {
      "text/plain": [
       "(416, 958)"
      ]
     },
     "execution_count": 192,
     "metadata": {},
     "output_type": "execute_result"
    }
   ],
   "source": [
    "model2.shape"
   ]
  },
  {
   "cell_type": "markdown",
   "metadata": {},
   "source": [
    "### For whole leaf nodes:"
   ]
  },
  {
   "cell_type": "code",
   "execution_count": 193,
   "metadata": {},
   "outputs": [
    {
     "name": "stdout",
     "output_type": "stream",
     "text": [
      "Confusion Matrix:\n",
      "              ______________Prediction_______________\n",
      "               Cam Corders    Not Camera Photo Devices\n",
      "  Cam Corders           94             2            15\n",
      "   Not Camera            5             8             6\n",
      "Photo Devices            8             2           276\n",
      "\n",
      "Accuracy Score:\n",
      "0.908653846154\n",
      "()\n",
      "Classification Report:\n",
      "               precision    recall  f1-score   support\n",
      "\n",
      "  Cam Corders       0.88      0.85      0.86       111\n",
      "   Not Camera       0.67      0.42      0.52        19\n",
      "Photo Devices       0.93      0.97      0.95       286\n",
      "\n",
      "  avg / total       0.90      0.91      0.90       416\n",
      "\n"
     ]
    }
   ],
   "source": [
    "analytics(all_concat['Parent_node_1'],all_concat['prediction_level1'])#y_level3_mi,target_prediction"
   ]
  },
  {
   "cell_type": "code",
   "execution_count": 194,
   "metadata": {},
   "outputs": [
    {
     "name": "stdout",
     "output_type": "stream",
     "text": [
      "Confusion Matrix:\n",
      "                          _______________________________________________________________________________________________Prediction_______________________________________________________________________________________________\n",
      "                                    Action Cameras               Cam Corders                      DSLR        Mirrorless Cameras                Not Camera             Photo Devices     Point & Shoot Cameras Traditional Video Cameras\n",
      "           Action Cameras                       47                         0                         0                         0                         0                         0                         0                        11\n",
      "              Cam Corders                        0                         0                         0                         0                         0                         0                         0                         0\n",
      "                     DSLR                        0                         0                        51                        10                         0                         0                        11                         0\n",
      "       Mirrorless Cameras                        0                         0                         8                        59                         0                         0                        14                         0\n",
      "               Not Camera                        0                         5                         0                         0                         8                         6                         0                         0\n",
      "            Photo Devices                        0                         0                         0                         0                         0                         0                         0                         0\n",
      "    Point & Shoot Cameras                        0                         0                         1                         9                         0                         0                       123                         0\n",
      "Traditional Video Cameras                        9                         0                         0                         0                         0                         0                         0                        44\n",
      "\n",
      "Accuracy Score:\n",
      "0.798076923077\n",
      "()\n",
      "Classification Report:\n",
      "                           precision    recall  f1-score   support\n",
      "\n",
      "           Action Cameras       0.84      0.81      0.82        58\n",
      "              Cam Corders       0.00      0.00      0.00         0\n",
      "                     DSLR       0.85      0.71      0.77        72\n",
      "       Mirrorless Cameras       0.76      0.73      0.74        81\n",
      "               Not Camera       1.00      0.42      0.59        19\n",
      "            Photo Devices       0.00      0.00      0.00         0\n",
      "    Point & Shoot Cameras       0.83      0.92      0.88       133\n",
      "Traditional Video Cameras       0.80      0.83      0.81        53\n",
      "\n",
      "              avg / total       0.82      0.80      0.80       416\n",
      "\n"
     ]
    }
   ],
   "source": [
    "analytics(all_concat['Parent_node_2'],all_concat['prediction_level2'])#y_level3_mi,target_prediction"
   ]
  },
  {
   "cell_type": "code",
   "execution_count": 196,
   "metadata": {},
   "outputs": [
    {
     "data": {
      "text/plain": [
       "array([u'DSLR', u'Not Camera', u'Full Frame Mirrorless Camera',\n",
       "       u'NonFullFrameMirrorlessCamera', u'Bridge Cameras',\n",
       "       u'Digital Compact Cameras', u'Instant', u'360 Degree Cameras',\n",
       "       u'Non 360 Degree Cameras', u'Drone', u'Common Use Video Cameras',\n",
       "       u'Professional Video Cameras'], dtype=object)"
      ]
     },
     "execution_count": 196,
     "metadata": {},
     "output_type": "execute_result"
    }
   ],
   "source": [
    "all_concat['Leaf_Node'].unique()"
   ]
  },
  {
   "cell_type": "code",
   "execution_count": 197,
   "metadata": {},
   "outputs": [
    {
     "name": "stdout",
     "output_type": "stream",
     "text": [
      "Confusion Matrix:\n",
      "                             ___________________________________________________________________________________________________________________________________________________________________________________________________________________________Prediction___________________________________________________________________________________________________________________________________________________________________________________________________________________________\n",
      "                                      360 Degree Cameras               Bridge Cameras                  Cam Corders     Common Use Video Cameras                         DSLR      Digital Compact Cameras                        Drone Full Frame Mirrorless Camera                      Instant           Mirrorless Cameras       Non 360 Degree Cameras NonFullFrameMirrorlessCamera                   Not Camera                Photo Devices        Point & Shoot Cameras   Professional Video Cameras\n",
      "          360 Degree Cameras                          13                            0                            0                            0                            0                            0                            0                            0                            0                            0                            8                            0                            0                            0                            0                            0\n",
      "              Bridge Cameras                           0                           38                            0                            0                            0                           18                            0                            0                            0                            0                            0                            0                            0                            0                            0                            0\n",
      "                 Cam Corders                           0                            0                            0                            0                            0                            0                            0                            0                            0                            0                            0                            0                            0                            0                            0                            0\n",
      "    Common Use Video Cameras                           0                            0                            0                           16                            0                            0                            0                            0                            0                            0                            0                            0                            0                            0                            0                            5\n",
      "                        DSLR                           0                            0                            0                            0                           51                            0                            0                            0                            0                           10                            0                            0                            0                            0                           11                            0\n",
      "     Digital Compact Cameras                           0                           21                            0                            0                            0                           37                            0                            0                            0                            0                            0                            0                            0                            0                            0                            0\n",
      "                       Drone                           3                            0                            0                            0                            0                            0                           12                            0                            0                            0                            0                            0                            0                            0                            0                            0\n",
      "Full Frame Mirrorless Camera                           0                            0                            0                            0                            0                            0                            0                           15                            0                            0                            0                           16                            0                            0                            0                            0\n",
      "                     Instant                           0                            1                            0                            0                            0                            6                            0                            0                           12                            0                            0                            0                            0                            0                            0                            0\n",
      "          Mirrorless Cameras                           0                            0                            0                            0                            0                            0                            0                            0                            0                            0                            0                            0                            0                            0                            0                            0\n",
      "      Non 360 Degree Cameras                          10                            0                            0                            0                            0                            0                            0                            0                            0                            0                           12                            0                            0                            0                            0                            0\n",
      "NonFullFrameMirrorlessCamera                           0                            0                            0                            0                            0                            0                            0                            6                            0                            0                            0                           44                            0                            0                            0                            0\n",
      "                  Not Camera                           0                            0                            5                            0                            0                            0                            0                            0                            0                            0                            0                            0                            8                            6                            0                            0\n",
      "               Photo Devices                           0                            0                            0                            0                            0                            0                            0                            0                            0                            0                            0                            0                            0                            0                            0                            0\n",
      "       Point & Shoot Cameras                           0                            0                            0                            0                            0                            0                            0                            0                            0                            0                            0                            0                            0                            0                            0                            0\n",
      "  Professional Video Cameras                           0                            0                            0                            7                            0                            0                            0                            0                            0                            0                            0                            0                            0                            0                            0                           25\n",
      "\n",
      "Accuracy Score:\n",
      "0.680288461538\n",
      "()\n",
      "Classification Report:\n",
      "                              precision    recall  f1-score   support\n",
      "\n",
      "          360 Degree Cameras       0.50      0.62      0.55        21\n",
      "              Bridge Cameras       0.63      0.68      0.66        56\n",
      "                 Cam Corders       0.00      0.00      0.00         0\n",
      "    Common Use Video Cameras       0.70      0.76      0.73        21\n",
      "                        DSLR       1.00      0.71      0.83        72\n",
      "     Digital Compact Cameras       0.61      0.64      0.62        58\n",
      "                       Drone       1.00      0.80      0.89        15\n",
      "Full Frame Mirrorless Camera       0.71      0.48      0.58        31\n",
      "                     Instant       1.00      0.63      0.77        19\n",
      "          Mirrorless Cameras       0.00      0.00      0.00         0\n",
      "      Non 360 Degree Cameras       0.60      0.55      0.57        22\n",
      "NonFullFrameMirrorlessCamera       0.73      0.88      0.80        50\n",
      "                  Not Camera       1.00      0.42      0.59        19\n",
      "               Photo Devices       0.00      0.00      0.00         0\n",
      "       Point & Shoot Cameras       0.00      0.00      0.00         0\n",
      "  Professional Video Cameras       0.83      0.78      0.81        32\n",
      "\n",
      "                 avg / total       0.77      0.68      0.71       416\n",
      "\n"
     ]
    }
   ],
   "source": [
    "analytics(all_concat['Leaf_Node'],all_concat['prediction_level3'])#y_level3_mi,target_prediction"
   ]
  },
  {
   "cell_type": "markdown",
   "metadata": {},
   "source": [
    "## 3. Modeling with Logistic Regression:"
   ]
  },
  {
   "cell_type": "code",
   "execution_count": 198,
   "metadata": {},
   "outputs": [
    {
     "data": {
      "text/html": [
       "<div>\n",
       "<style>\n",
       "    .dataframe thead tr:only-child th {\n",
       "        text-align: right;\n",
       "    }\n",
       "\n",
       "    .dataframe thead th {\n",
       "        text-align: left;\n",
       "    }\n",
       "\n",
       "    .dataframe tbody tr th {\n",
       "        vertical-align: top;\n",
       "    }\n",
       "</style>\n",
       "<table border=\"1\" class=\"dataframe\">\n",
       "  <thead>\n",
       "    <tr style=\"text-align: right;\">\n",
       "      <th></th>\n",
       "      <th>ID</th>\n",
       "      <th>price</th>\n",
       "      <th>360fly_x</th>\n",
       "      <th>6Ave</th>\n",
       "      <th>Air Hogs</th>\n",
       "      <th>AmazingForLess</th>\n",
       "      <th>Axess Products</th>\n",
       "      <th>Bell+Howell</th>\n",
       "      <th>BlackMagic</th>\n",
       "      <th>Blackmagic</th>\n",
       "      <th>...</th>\n",
       "      <th>hx400</th>\n",
       "      <th>karma</th>\n",
       "      <th>fz43</th>\n",
       "      <th>deluxe</th>\n",
       "      <th>cpt</th>\n",
       "      <th>dvr</th>\n",
       "      <th>Parent_node_1</th>\n",
       "      <th>Parent_node_2</th>\n",
       "      <th>Leaf_Node</th>\n",
       "      <th>prediction_level1</th>\n",
       "    </tr>\n",
       "  </thead>\n",
       "  <tbody>\n",
       "    <tr>\n",
       "      <th>0</th>\n",
       "      <td>jessops-f2dd233dd6100c900432fd2902df8cde</td>\n",
       "      <td>479.0</td>\n",
       "      <td>0</td>\n",
       "      <td>0</td>\n",
       "      <td>0</td>\n",
       "      <td>0</td>\n",
       "      <td>0</td>\n",
       "      <td>0</td>\n",
       "      <td>0</td>\n",
       "      <td>0</td>\n",
       "      <td>...</td>\n",
       "      <td>0</td>\n",
       "      <td>0</td>\n",
       "      <td>0</td>\n",
       "      <td>0</td>\n",
       "      <td>0</td>\n",
       "      <td>0</td>\n",
       "      <td>Photo Devices</td>\n",
       "      <td>Point &amp; Shoot Cameras</td>\n",
       "      <td>Bridge Cameras</td>\n",
       "      <td>Photo Devices</td>\n",
       "    </tr>\n",
       "    <tr>\n",
       "      <th>1</th>\n",
       "      <td>jessops-ff2be7ba459709194635812c728a17fd</td>\n",
       "      <td>539.0</td>\n",
       "      <td>0</td>\n",
       "      <td>0</td>\n",
       "      <td>0</td>\n",
       "      <td>0</td>\n",
       "      <td>0</td>\n",
       "      <td>0</td>\n",
       "      <td>0</td>\n",
       "      <td>0</td>\n",
       "      <td>...</td>\n",
       "      <td>0</td>\n",
       "      <td>0</td>\n",
       "      <td>0</td>\n",
       "      <td>0</td>\n",
       "      <td>0</td>\n",
       "      <td>0</td>\n",
       "      <td>Photo Devices</td>\n",
       "      <td>DSLR</td>\n",
       "      <td>DSLR</td>\n",
       "      <td>Photo Devices</td>\n",
       "    </tr>\n",
       "    <tr>\n",
       "      <th>2</th>\n",
       "      <td>jessops-acfa4e6fdc0962be2da5bc1ed8d44357</td>\n",
       "      <td>3249.0</td>\n",
       "      <td>0</td>\n",
       "      <td>0</td>\n",
       "      <td>0</td>\n",
       "      <td>0</td>\n",
       "      <td>0</td>\n",
       "      <td>0</td>\n",
       "      <td>0</td>\n",
       "      <td>0</td>\n",
       "      <td>...</td>\n",
       "      <td>0</td>\n",
       "      <td>0</td>\n",
       "      <td>0</td>\n",
       "      <td>0</td>\n",
       "      <td>0</td>\n",
       "      <td>0</td>\n",
       "      <td>Photo Devices</td>\n",
       "      <td>DSLR</td>\n",
       "      <td>DSLR</td>\n",
       "      <td>Photo Devices</td>\n",
       "    </tr>\n",
       "    <tr>\n",
       "      <th>3</th>\n",
       "      <td>jessops-cabb446087d8428bfa741078869439b8</td>\n",
       "      <td>1349.0</td>\n",
       "      <td>0</td>\n",
       "      <td>0</td>\n",
       "      <td>0</td>\n",
       "      <td>0</td>\n",
       "      <td>0</td>\n",
       "      <td>0</td>\n",
       "      <td>0</td>\n",
       "      <td>0</td>\n",
       "      <td>...</td>\n",
       "      <td>0</td>\n",
       "      <td>0</td>\n",
       "      <td>0</td>\n",
       "      <td>0</td>\n",
       "      <td>0</td>\n",
       "      <td>0</td>\n",
       "      <td>Photo Devices</td>\n",
       "      <td>DSLR</td>\n",
       "      <td>DSLR</td>\n",
       "      <td>Photo Devices</td>\n",
       "    </tr>\n",
       "    <tr>\n",
       "      <th>4</th>\n",
       "      <td>jessops-8c6e0672aa9297ee8ff4d95fa5e2edc0</td>\n",
       "      <td>449.0</td>\n",
       "      <td>0</td>\n",
       "      <td>0</td>\n",
       "      <td>0</td>\n",
       "      <td>0</td>\n",
       "      <td>0</td>\n",
       "      <td>0</td>\n",
       "      <td>0</td>\n",
       "      <td>0</td>\n",
       "      <td>...</td>\n",
       "      <td>0</td>\n",
       "      <td>0</td>\n",
       "      <td>1</td>\n",
       "      <td>0</td>\n",
       "      <td>0</td>\n",
       "      <td>0</td>\n",
       "      <td>Photo Devices</td>\n",
       "      <td>Mirrorless Cameras</td>\n",
       "      <td>Full Frame Mirrorless Camera</td>\n",
       "      <td>Photo Devices</td>\n",
       "    </tr>\n",
       "  </tbody>\n",
       "</table>\n",
       "<p>5 rows × 958 columns</p>\n",
       "</div>"
      ],
      "text/plain": [
       "                                         ID   price  360fly_x  6Ave  Air Hogs  \\\n",
       "0  jessops-f2dd233dd6100c900432fd2902df8cde   479.0         0     0         0   \n",
       "1  jessops-ff2be7ba459709194635812c728a17fd   539.0         0     0         0   \n",
       "2  jessops-acfa4e6fdc0962be2da5bc1ed8d44357  3249.0         0     0         0   \n",
       "3  jessops-cabb446087d8428bfa741078869439b8  1349.0         0     0         0   \n",
       "4  jessops-8c6e0672aa9297ee8ff4d95fa5e2edc0   449.0         0     0         0   \n",
       "\n",
       "   AmazingForLess  Axess Products  Bell+Howell  BlackMagic  Blackmagic  \\\n",
       "0               0               0            0           0           0   \n",
       "1               0               0            0           0           0   \n",
       "2               0               0            0           0           0   \n",
       "3               0               0            0           0           0   \n",
       "4               0               0            0           0           0   \n",
       "\n",
       "         ...          hx400  karma  fz43  deluxe  cpt  dvr  Parent_node_1  \\\n",
       "0        ...              0      0     0       0    0    0  Photo Devices   \n",
       "1        ...              0      0     0       0    0    0  Photo Devices   \n",
       "2        ...              0      0     0       0    0    0  Photo Devices   \n",
       "3        ...              0      0     0       0    0    0  Photo Devices   \n",
       "4        ...              0      0     1       0    0    0  Photo Devices   \n",
       "\n",
       "           Parent_node_2                     Leaf_Node  prediction_level1  \n",
       "0  Point & Shoot Cameras                Bridge Cameras      Photo Devices  \n",
       "1                   DSLR                          DSLR      Photo Devices  \n",
       "2                   DSLR                          DSLR      Photo Devices  \n",
       "3                   DSLR                          DSLR      Photo Devices  \n",
       "4     Mirrorless Cameras  Full Frame Mirrorless Camera      Photo Devices  \n",
       "\n",
       "[5 rows x 958 columns]"
      ]
     },
     "execution_count": 198,
     "metadata": {},
     "output_type": "execute_result"
    }
   ],
   "source": [
    "model2.head()"
   ]
  },
  {
   "cell_type": "code",
   "execution_count": 199,
   "metadata": {},
   "outputs": [
    {
     "data": {
      "text/plain": [
       "(416, 958)"
      ]
     },
     "execution_count": 199,
     "metadata": {},
     "output_type": "execute_result"
    }
   ],
   "source": [
    "model2.shape"
   ]
  },
  {
   "cell_type": "code",
   "execution_count": 200,
   "metadata": {},
   "outputs": [
    {
     "data": {
      "text/plain": [
       "(416, 21)"
      ]
     },
     "execution_count": 200,
     "metadata": {},
     "output_type": "execute_result"
    }
   ],
   "source": [
    "df.shape"
   ]
  },
  {
   "cell_type": "markdown",
   "metadata": {},
   "source": [
    "### Level 1"
   ]
  },
  {
   "cell_type": "code",
   "execution_count": 201,
   "metadata": {
    "collapsed": true
   },
   "outputs": [],
   "source": [
    "from sklearn import linear_model, datasets\n",
    "from sklearn.model_selection import GridSearchCV"
   ]
  },
  {
   "cell_type": "code",
   "execution_count": 202,
   "metadata": {
    "collapsed": true
   },
   "outputs": [],
   "source": [
    "X_level1=model2.drop(['ID','Parent_node_1','Parent_node_2','Leaf_Node','prediction_level1'],axis=1)\n",
    "y_level1=model2['Parent_node_1']"
   ]
  },
  {
   "cell_type": "code",
   "execution_count": 203,
   "metadata": {},
   "outputs": [
    {
     "data": {
      "text/html": [
       "<div>\n",
       "<style>\n",
       "    .dataframe thead tr:only-child th {\n",
       "        text-align: right;\n",
       "    }\n",
       "\n",
       "    .dataframe thead th {\n",
       "        text-align: left;\n",
       "    }\n",
       "\n",
       "    .dataframe tbody tr th {\n",
       "        vertical-align: top;\n",
       "    }\n",
       "</style>\n",
       "<table border=\"1\" class=\"dataframe\">\n",
       "  <thead>\n",
       "    <tr style=\"text-align: right;\">\n",
       "      <th></th>\n",
       "      <th>price</th>\n",
       "      <th>360fly_x</th>\n",
       "      <th>6Ave</th>\n",
       "      <th>Air Hogs</th>\n",
       "      <th>AmazingForLess</th>\n",
       "      <th>Axess Products</th>\n",
       "      <th>Bell+Howell</th>\n",
       "      <th>BlackMagic</th>\n",
       "      <th>Blackmagic</th>\n",
       "      <th>Blackmagic Design</th>\n",
       "      <th>...</th>\n",
       "      <th>wifi</th>\n",
       "      <th>controller</th>\n",
       "      <th>x70</th>\n",
       "      <th>eos</th>\n",
       "      <th>hx400</th>\n",
       "      <th>karma</th>\n",
       "      <th>fz43</th>\n",
       "      <th>deluxe</th>\n",
       "      <th>cpt</th>\n",
       "      <th>dvr</th>\n",
       "    </tr>\n",
       "  </thead>\n",
       "  <tbody>\n",
       "    <tr>\n",
       "      <th>0</th>\n",
       "      <td>479.0</td>\n",
       "      <td>0</td>\n",
       "      <td>0</td>\n",
       "      <td>0</td>\n",
       "      <td>0</td>\n",
       "      <td>0</td>\n",
       "      <td>0</td>\n",
       "      <td>0</td>\n",
       "      <td>0</td>\n",
       "      <td>0</td>\n",
       "      <td>...</td>\n",
       "      <td>0</td>\n",
       "      <td>0</td>\n",
       "      <td>0</td>\n",
       "      <td>0</td>\n",
       "      <td>0</td>\n",
       "      <td>0</td>\n",
       "      <td>0</td>\n",
       "      <td>0</td>\n",
       "      <td>0</td>\n",
       "      <td>0</td>\n",
       "    </tr>\n",
       "    <tr>\n",
       "      <th>1</th>\n",
       "      <td>539.0</td>\n",
       "      <td>0</td>\n",
       "      <td>0</td>\n",
       "      <td>0</td>\n",
       "      <td>0</td>\n",
       "      <td>0</td>\n",
       "      <td>0</td>\n",
       "      <td>0</td>\n",
       "      <td>0</td>\n",
       "      <td>0</td>\n",
       "      <td>...</td>\n",
       "      <td>0</td>\n",
       "      <td>0</td>\n",
       "      <td>0</td>\n",
       "      <td>0</td>\n",
       "      <td>0</td>\n",
       "      <td>0</td>\n",
       "      <td>0</td>\n",
       "      <td>0</td>\n",
       "      <td>0</td>\n",
       "      <td>0</td>\n",
       "    </tr>\n",
       "    <tr>\n",
       "      <th>2</th>\n",
       "      <td>3249.0</td>\n",
       "      <td>0</td>\n",
       "      <td>0</td>\n",
       "      <td>0</td>\n",
       "      <td>0</td>\n",
       "      <td>0</td>\n",
       "      <td>0</td>\n",
       "      <td>0</td>\n",
       "      <td>0</td>\n",
       "      <td>0</td>\n",
       "      <td>...</td>\n",
       "      <td>0</td>\n",
       "      <td>0</td>\n",
       "      <td>0</td>\n",
       "      <td>0</td>\n",
       "      <td>0</td>\n",
       "      <td>0</td>\n",
       "      <td>0</td>\n",
       "      <td>0</td>\n",
       "      <td>0</td>\n",
       "      <td>0</td>\n",
       "    </tr>\n",
       "    <tr>\n",
       "      <th>3</th>\n",
       "      <td>1349.0</td>\n",
       "      <td>0</td>\n",
       "      <td>0</td>\n",
       "      <td>0</td>\n",
       "      <td>0</td>\n",
       "      <td>0</td>\n",
       "      <td>0</td>\n",
       "      <td>0</td>\n",
       "      <td>0</td>\n",
       "      <td>0</td>\n",
       "      <td>...</td>\n",
       "      <td>0</td>\n",
       "      <td>0</td>\n",
       "      <td>0</td>\n",
       "      <td>0</td>\n",
       "      <td>0</td>\n",
       "      <td>0</td>\n",
       "      <td>0</td>\n",
       "      <td>0</td>\n",
       "      <td>0</td>\n",
       "      <td>0</td>\n",
       "    </tr>\n",
       "    <tr>\n",
       "      <th>4</th>\n",
       "      <td>449.0</td>\n",
       "      <td>0</td>\n",
       "      <td>0</td>\n",
       "      <td>0</td>\n",
       "      <td>0</td>\n",
       "      <td>0</td>\n",
       "      <td>0</td>\n",
       "      <td>0</td>\n",
       "      <td>0</td>\n",
       "      <td>0</td>\n",
       "      <td>...</td>\n",
       "      <td>0</td>\n",
       "      <td>0</td>\n",
       "      <td>0</td>\n",
       "      <td>0</td>\n",
       "      <td>0</td>\n",
       "      <td>0</td>\n",
       "      <td>1</td>\n",
       "      <td>0</td>\n",
       "      <td>0</td>\n",
       "      <td>0</td>\n",
       "    </tr>\n",
       "  </tbody>\n",
       "</table>\n",
       "<p>5 rows × 953 columns</p>\n",
       "</div>"
      ],
      "text/plain": [
       "    price  360fly_x  6Ave  Air Hogs  AmazingForLess  Axess Products  \\\n",
       "0   479.0         0     0         0               0               0   \n",
       "1   539.0         0     0         0               0               0   \n",
       "2  3249.0         0     0         0               0               0   \n",
       "3  1349.0         0     0         0               0               0   \n",
       "4   449.0         0     0         0               0               0   \n",
       "\n",
       "   Bell+Howell  BlackMagic  Blackmagic  Blackmagic Design ...   wifi  \\\n",
       "0            0           0           0                  0 ...      0   \n",
       "1            0           0           0                  0 ...      0   \n",
       "2            0           0           0                  0 ...      0   \n",
       "3            0           0           0                  0 ...      0   \n",
       "4            0           0           0                  0 ...      0   \n",
       "\n",
       "   controller  x70  eos  hx400  karma  fz43  deluxe  cpt  dvr  \n",
       "0           0    0    0      0      0     0       0    0    0  \n",
       "1           0    0    0      0      0     0       0    0    0  \n",
       "2           0    0    0      0      0     0       0    0    0  \n",
       "3           0    0    0      0      0     0       0    0    0  \n",
       "4           0    0    0      0      0     1       0    0    0  \n",
       "\n",
       "[5 rows x 953 columns]"
      ]
     },
     "execution_count": 203,
     "metadata": {},
     "output_type": "execute_result"
    }
   ],
   "source": [
    "X_level1.head()"
   ]
  },
  {
   "cell_type": "code",
   "execution_count": 204,
   "metadata": {},
   "outputs": [
    {
     "name": "stdout",
     "output_type": "stream",
     "text": [
      "{'penalty': 'l2', 'C': 1000}\n"
     ]
    }
   ],
   "source": [
    "#logreg = linear_model.LogisticRegression()\n",
    "param_grid = {'C': [0.001, 0.01, 0.1, 1, 10, 100, 1000],\n",
    "              \"penalty\": ['l2', 'l1']}\n",
    "clf = GridSearchCV(linear_model.LogisticRegression(), param_grid, cv=5)\n",
    "clf.fit(X_level1, y_level1)\n",
    "print(clf.best_params_)"
   ]
  },
  {
   "cell_type": "code",
   "execution_count": 205,
   "metadata": {
    "collapsed": true
   },
   "outputs": [],
   "source": [
    "cv = StratifiedKFold(n_splits=5, shuffle=True, random_state=42)\n",
    "logreg = linear_model.LogisticRegression(penalty= 'l2', C= 1000)\n",
    "target_prediction = cross_val_predict(logreg, X_level1, y_level1, cv=cv)"
   ]
  },
  {
   "cell_type": "code",
   "execution_count": 206,
   "metadata": {},
   "outputs": [
    {
     "name": "stdout",
     "output_type": "stream",
     "text": [
      "Confusion Matrix:\n",
      "              ______________Prediction_______________\n",
      "               Cam Corders    Not Camera Photo Devices\n",
      "  Cam Corders          102             0             9\n",
      "   Not Camera            7             6             6\n",
      "Photo Devices            5             1           280\n",
      "\n",
      "Accuracy Score:\n",
      "0.932692307692\n",
      "()\n",
      "Classification Report:\n",
      "               precision    recall  f1-score   support\n",
      "\n",
      "  Cam Corders       0.89      0.92      0.91       111\n",
      "   Not Camera       0.86      0.32      0.46        19\n",
      "Photo Devices       0.95      0.98      0.96       286\n",
      "\n",
      "  avg / total       0.93      0.93      0.93       416\n",
      "\n"
     ]
    }
   ],
   "source": [
    "analytics(y_level1,target_prediction)"
   ]
  },
  {
   "cell_type": "code",
   "execution_count": 207,
   "metadata": {
    "collapsed": true
   },
   "outputs": [],
   "source": [
    "model2['prediction_level1']=target_prediction"
   ]
  },
  {
   "cell_type": "markdown",
   "metadata": {},
   "source": [
    "### Level 2"
   ]
  },
  {
   "cell_type": "markdown",
   "metadata": {},
   "source": [
    "#### Camcorders"
   ]
  },
  {
   "cell_type": "code",
   "execution_count": 208,
   "metadata": {
    "collapsed": true
   },
   "outputs": [],
   "source": [
    "level2_train=model2[model2['Parent_node_1']=='Cam Corders'] #this includes wrongly assigned instances"
   ]
  },
  {
   "cell_type": "code",
   "execution_count": 209,
   "metadata": {},
   "outputs": [
    {
     "data": {
      "text/html": [
       "<div>\n",
       "<style>\n",
       "    .dataframe thead tr:only-child th {\n",
       "        text-align: right;\n",
       "    }\n",
       "\n",
       "    .dataframe thead th {\n",
       "        text-align: left;\n",
       "    }\n",
       "\n",
       "    .dataframe tbody tr th {\n",
       "        vertical-align: top;\n",
       "    }\n",
       "</style>\n",
       "<table border=\"1\" class=\"dataframe\">\n",
       "  <thead>\n",
       "    <tr style=\"text-align: right;\">\n",
       "      <th></th>\n",
       "      <th>ID</th>\n",
       "      <th>price</th>\n",
       "      <th>360fly_x</th>\n",
       "      <th>6Ave</th>\n",
       "      <th>Air Hogs</th>\n",
       "      <th>AmazingForLess</th>\n",
       "      <th>Axess Products</th>\n",
       "      <th>Bell+Howell</th>\n",
       "      <th>BlackMagic</th>\n",
       "      <th>Blackmagic</th>\n",
       "      <th>...</th>\n",
       "      <th>hx400</th>\n",
       "      <th>karma</th>\n",
       "      <th>fz43</th>\n",
       "      <th>deluxe</th>\n",
       "      <th>cpt</th>\n",
       "      <th>dvr</th>\n",
       "      <th>Parent_node_1</th>\n",
       "      <th>Parent_node_2</th>\n",
       "      <th>Leaf_Node</th>\n",
       "      <th>prediction_level1</th>\n",
       "    </tr>\n",
       "  </thead>\n",
       "  <tbody>\n",
       "    <tr>\n",
       "      <th>10</th>\n",
       "      <td>jessops-eef411a41cc22390e46da9fa5820aa2c</td>\n",
       "      <td>198.0</td>\n",
       "      <td>0</td>\n",
       "      <td>0</td>\n",
       "      <td>0</td>\n",
       "      <td>0</td>\n",
       "      <td>0</td>\n",
       "      <td>0</td>\n",
       "      <td>0</td>\n",
       "      <td>0</td>\n",
       "      <td>...</td>\n",
       "      <td>0</td>\n",
       "      <td>0</td>\n",
       "      <td>0</td>\n",
       "      <td>0</td>\n",
       "      <td>0</td>\n",
       "      <td>0</td>\n",
       "      <td>Cam Corders</td>\n",
       "      <td>Traditional Video Cameras</td>\n",
       "      <td>Common Use Video Cameras</td>\n",
       "      <td>Cam Corders</td>\n",
       "    </tr>\n",
       "    <tr>\n",
       "      <th>12</th>\n",
       "      <td>jessops-40e16c7a65ef1ce88c5b8e86c8b6be61</td>\n",
       "      <td>1199.0</td>\n",
       "      <td>0</td>\n",
       "      <td>0</td>\n",
       "      <td>0</td>\n",
       "      <td>0</td>\n",
       "      <td>0</td>\n",
       "      <td>0</td>\n",
       "      <td>0</td>\n",
       "      <td>0</td>\n",
       "      <td>...</td>\n",
       "      <td>0</td>\n",
       "      <td>0</td>\n",
       "      <td>0</td>\n",
       "      <td>0</td>\n",
       "      <td>0</td>\n",
       "      <td>0</td>\n",
       "      <td>Cam Corders</td>\n",
       "      <td>Traditional Video Cameras</td>\n",
       "      <td>Common Use Video Cameras</td>\n",
       "      <td>Cam Corders</td>\n",
       "    </tr>\n",
       "    <tr>\n",
       "      <th>13</th>\n",
       "      <td>jessops-3a1342c0cb28dc1d3bab507a1f016cc3</td>\n",
       "      <td>249.0</td>\n",
       "      <td>0</td>\n",
       "      <td>0</td>\n",
       "      <td>0</td>\n",
       "      <td>0</td>\n",
       "      <td>0</td>\n",
       "      <td>0</td>\n",
       "      <td>0</td>\n",
       "      <td>0</td>\n",
       "      <td>...</td>\n",
       "      <td>0</td>\n",
       "      <td>0</td>\n",
       "      <td>0</td>\n",
       "      <td>0</td>\n",
       "      <td>0</td>\n",
       "      <td>0</td>\n",
       "      <td>Cam Corders</td>\n",
       "      <td>Traditional Video Cameras</td>\n",
       "      <td>Common Use Video Cameras</td>\n",
       "      <td>Cam Corders</td>\n",
       "    </tr>\n",
       "    <tr>\n",
       "      <th>29</th>\n",
       "      <td>jessops-e459dfc3f0e983f1a5153c64cf6c9dd0</td>\n",
       "      <td>189.0</td>\n",
       "      <td>0</td>\n",
       "      <td>0</td>\n",
       "      <td>0</td>\n",
       "      <td>0</td>\n",
       "      <td>0</td>\n",
       "      <td>0</td>\n",
       "      <td>0</td>\n",
       "      <td>0</td>\n",
       "      <td>...</td>\n",
       "      <td>0</td>\n",
       "      <td>0</td>\n",
       "      <td>0</td>\n",
       "      <td>0</td>\n",
       "      <td>0</td>\n",
       "      <td>0</td>\n",
       "      <td>Cam Corders</td>\n",
       "      <td>Action Cameras</td>\n",
       "      <td>360 Degree Cameras</td>\n",
       "      <td>Cam Corders</td>\n",
       "    </tr>\n",
       "    <tr>\n",
       "      <th>30</th>\n",
       "      <td>jessops-1f205970ab6aa5842172a4a43fdbadba</td>\n",
       "      <td>189.0</td>\n",
       "      <td>0</td>\n",
       "      <td>0</td>\n",
       "      <td>0</td>\n",
       "      <td>0</td>\n",
       "      <td>0</td>\n",
       "      <td>0</td>\n",
       "      <td>0</td>\n",
       "      <td>0</td>\n",
       "      <td>...</td>\n",
       "      <td>0</td>\n",
       "      <td>0</td>\n",
       "      <td>0</td>\n",
       "      <td>0</td>\n",
       "      <td>0</td>\n",
       "      <td>0</td>\n",
       "      <td>Cam Corders</td>\n",
       "      <td>Action Cameras</td>\n",
       "      <td>360 Degree Cameras</td>\n",
       "      <td>Cam Corders</td>\n",
       "    </tr>\n",
       "  </tbody>\n",
       "</table>\n",
       "<p>5 rows × 958 columns</p>\n",
       "</div>"
      ],
      "text/plain": [
       "                                          ID   price  360fly_x  6Ave  \\\n",
       "10  jessops-eef411a41cc22390e46da9fa5820aa2c   198.0         0     0   \n",
       "12  jessops-40e16c7a65ef1ce88c5b8e86c8b6be61  1199.0         0     0   \n",
       "13  jessops-3a1342c0cb28dc1d3bab507a1f016cc3   249.0         0     0   \n",
       "29  jessops-e459dfc3f0e983f1a5153c64cf6c9dd0   189.0         0     0   \n",
       "30  jessops-1f205970ab6aa5842172a4a43fdbadba   189.0         0     0   \n",
       "\n",
       "    Air Hogs  AmazingForLess  Axess Products  Bell+Howell  BlackMagic  \\\n",
       "10         0               0               0            0           0   \n",
       "12         0               0               0            0           0   \n",
       "13         0               0               0            0           0   \n",
       "29         0               0               0            0           0   \n",
       "30         0               0               0            0           0   \n",
       "\n",
       "    Blackmagic        ...          hx400  karma  fz43  deluxe  cpt  dvr  \\\n",
       "10           0        ...              0      0     0       0    0    0   \n",
       "12           0        ...              0      0     0       0    0    0   \n",
       "13           0        ...              0      0     0       0    0    0   \n",
       "29           0        ...              0      0     0       0    0    0   \n",
       "30           0        ...              0      0     0       0    0    0   \n",
       "\n",
       "    Parent_node_1              Parent_node_2                 Leaf_Node  \\\n",
       "10    Cam Corders  Traditional Video Cameras  Common Use Video Cameras   \n",
       "12    Cam Corders  Traditional Video Cameras  Common Use Video Cameras   \n",
       "13    Cam Corders  Traditional Video Cameras  Common Use Video Cameras   \n",
       "29    Cam Corders             Action Cameras        360 Degree Cameras   \n",
       "30    Cam Corders             Action Cameras        360 Degree Cameras   \n",
       "\n",
       "    prediction_level1  \n",
       "10        Cam Corders  \n",
       "12        Cam Corders  \n",
       "13        Cam Corders  \n",
       "29        Cam Corders  \n",
       "30        Cam Corders  \n",
       "\n",
       "[5 rows x 958 columns]"
      ]
     },
     "execution_count": 209,
     "metadata": {},
     "output_type": "execute_result"
    }
   ],
   "source": [
    "level2_train.head()"
   ]
  },
  {
   "cell_type": "code",
   "execution_count": 210,
   "metadata": {},
   "outputs": [
    {
     "name": "stdout",
     "output_type": "stream",
     "text": [
      "{'penalty': 'l1', 'C': 1000}\n"
     ]
    }
   ],
   "source": [
    "X_level2=level2_train.drop(['ID','Parent_node_1','Parent_node_2','Leaf_Node','prediction_level1'],axis=1)\n",
    "y_level2=level2_train['Parent_node_2']\n",
    "\n",
    "param_grid = {'C': [0.001, 0.01, 0.1, 1, 10, 100, 1000],\n",
    "              \"penalty\": ['l2', 'l1']}\n",
    "clf = GridSearchCV(linear_model.LogisticRegression(), param_grid, cv=5)\n",
    "clf.fit(X_level2, y_level2)\n",
    "print(clf.best_params_)"
   ]
  },
  {
   "cell_type": "code",
   "execution_count": 211,
   "metadata": {
    "collapsed": true
   },
   "outputs": [],
   "source": [
    "cv = StratifiedKFold(n_splits=5, shuffle=True, random_state=42)\n",
    "logreg = linear_model.LogisticRegression(penalty= 'l1', C= 1000)\n",
    "target_prediction = cross_val_predict(logreg, X_level2, y_level2, cv=cv)"
   ]
  },
  {
   "cell_type": "code",
   "execution_count": 212,
   "metadata": {},
   "outputs": [
    {
     "name": "stdout",
     "output_type": "stream",
     "text": [
      "Confusion Matrix:\n",
      "                          ____________________Prediction____________________\n",
      "                                    Action Cameras Traditional Video Cameras\n",
      "           Action Cameras                       55                         3\n",
      "Traditional Video Cameras                        4                        49\n",
      "\n",
      "Accuracy Score:\n",
      "0.936936936937\n",
      "()\n",
      "Classification Report:\n",
      "                           precision    recall  f1-score   support\n",
      "\n",
      "           Action Cameras       0.93      0.95      0.94        58\n",
      "Traditional Video Cameras       0.94      0.92      0.93        53\n",
      "\n",
      "              avg / total       0.94      0.94      0.94       111\n",
      "\n"
     ]
    }
   ],
   "source": [
    "analytics(y_level2,target_prediction) #real value vs. predicted values"
   ]
  },
  {
   "cell_type": "code",
   "execution_count": 213,
   "metadata": {},
   "outputs": [
    {
     "name": "stderr",
     "output_type": "stream",
     "text": [
      "/Users/bengikoseoglu/anaconda2/lib/python2.7/site-packages/ipykernel_launcher.py:1: SettingWithCopyWarning:\n",
      "\n",
      "\n",
      "A value is trying to be set on a copy of a slice from a DataFrame.\n",
      "Try using .loc[row_indexer,col_indexer] = value instead\n",
      "\n",
      "See the caveats in the documentation: http://pandas.pydata.org/pandas-docs/stable/indexing.html#indexing-view-versus-copy\n",
      "\n"
     ]
    }
   ],
   "source": [
    "level2_train['prediction_level2']=target_prediction"
   ]
  },
  {
   "cell_type": "markdown",
   "metadata": {},
   "source": [
    "##### 1. Traditional Video Cameras"
   ]
  },
  {
   "cell_type": "code",
   "execution_count": 214,
   "metadata": {
    "collapsed": true
   },
   "outputs": [],
   "source": [
    "#prediction_level2_camcorders\n",
    "level3_train=level2_train[level2_train['Parent_node_2']=='Traditional Video Cameras']"
   ]
  },
  {
   "cell_type": "code",
   "execution_count": 215,
   "metadata": {},
   "outputs": [
    {
     "data": {
      "text/html": [
       "<div>\n",
       "<style>\n",
       "    .dataframe thead tr:only-child th {\n",
       "        text-align: right;\n",
       "    }\n",
       "\n",
       "    .dataframe thead th {\n",
       "        text-align: left;\n",
       "    }\n",
       "\n",
       "    .dataframe tbody tr th {\n",
       "        vertical-align: top;\n",
       "    }\n",
       "</style>\n",
       "<table border=\"1\" class=\"dataframe\">\n",
       "  <thead>\n",
       "    <tr style=\"text-align: right;\">\n",
       "      <th></th>\n",
       "      <th>ID</th>\n",
       "      <th>price</th>\n",
       "      <th>360fly_x</th>\n",
       "      <th>6Ave</th>\n",
       "      <th>Air Hogs</th>\n",
       "      <th>AmazingForLess</th>\n",
       "      <th>Axess Products</th>\n",
       "      <th>Bell+Howell</th>\n",
       "      <th>BlackMagic</th>\n",
       "      <th>Blackmagic</th>\n",
       "      <th>...</th>\n",
       "      <th>karma</th>\n",
       "      <th>fz43</th>\n",
       "      <th>deluxe</th>\n",
       "      <th>cpt</th>\n",
       "      <th>dvr</th>\n",
       "      <th>Parent_node_1</th>\n",
       "      <th>Parent_node_2</th>\n",
       "      <th>Leaf_Node</th>\n",
       "      <th>prediction_level1</th>\n",
       "      <th>prediction_level2</th>\n",
       "    </tr>\n",
       "  </thead>\n",
       "  <tbody>\n",
       "    <tr>\n",
       "      <th>10</th>\n",
       "      <td>jessops-eef411a41cc22390e46da9fa5820aa2c</td>\n",
       "      <td>198.0</td>\n",
       "      <td>0</td>\n",
       "      <td>0</td>\n",
       "      <td>0</td>\n",
       "      <td>0</td>\n",
       "      <td>0</td>\n",
       "      <td>0</td>\n",
       "      <td>0</td>\n",
       "      <td>0</td>\n",
       "      <td>...</td>\n",
       "      <td>0</td>\n",
       "      <td>0</td>\n",
       "      <td>0</td>\n",
       "      <td>0</td>\n",
       "      <td>0</td>\n",
       "      <td>Cam Corders</td>\n",
       "      <td>Traditional Video Cameras</td>\n",
       "      <td>Common Use Video Cameras</td>\n",
       "      <td>Cam Corders</td>\n",
       "      <td>Action Cameras</td>\n",
       "    </tr>\n",
       "    <tr>\n",
       "      <th>12</th>\n",
       "      <td>jessops-40e16c7a65ef1ce88c5b8e86c8b6be61</td>\n",
       "      <td>1199.0</td>\n",
       "      <td>0</td>\n",
       "      <td>0</td>\n",
       "      <td>0</td>\n",
       "      <td>0</td>\n",
       "      <td>0</td>\n",
       "      <td>0</td>\n",
       "      <td>0</td>\n",
       "      <td>0</td>\n",
       "      <td>...</td>\n",
       "      <td>0</td>\n",
       "      <td>0</td>\n",
       "      <td>0</td>\n",
       "      <td>0</td>\n",
       "      <td>0</td>\n",
       "      <td>Cam Corders</td>\n",
       "      <td>Traditional Video Cameras</td>\n",
       "      <td>Common Use Video Cameras</td>\n",
       "      <td>Cam Corders</td>\n",
       "      <td>Traditional Video Cameras</td>\n",
       "    </tr>\n",
       "    <tr>\n",
       "      <th>13</th>\n",
       "      <td>jessops-3a1342c0cb28dc1d3bab507a1f016cc3</td>\n",
       "      <td>249.0</td>\n",
       "      <td>0</td>\n",
       "      <td>0</td>\n",
       "      <td>0</td>\n",
       "      <td>0</td>\n",
       "      <td>0</td>\n",
       "      <td>0</td>\n",
       "      <td>0</td>\n",
       "      <td>0</td>\n",
       "      <td>...</td>\n",
       "      <td>0</td>\n",
       "      <td>0</td>\n",
       "      <td>0</td>\n",
       "      <td>0</td>\n",
       "      <td>0</td>\n",
       "      <td>Cam Corders</td>\n",
       "      <td>Traditional Video Cameras</td>\n",
       "      <td>Common Use Video Cameras</td>\n",
       "      <td>Cam Corders</td>\n",
       "      <td>Traditional Video Cameras</td>\n",
       "    </tr>\n",
       "    <tr>\n",
       "      <th>56</th>\n",
       "      <td>bestbuy-6fd7c4bd0710b4edd04bcbfe602f2355</td>\n",
       "      <td>1599.0</td>\n",
       "      <td>0</td>\n",
       "      <td>0</td>\n",
       "      <td>0</td>\n",
       "      <td>0</td>\n",
       "      <td>0</td>\n",
       "      <td>0</td>\n",
       "      <td>0</td>\n",
       "      <td>0</td>\n",
       "      <td>...</td>\n",
       "      <td>0</td>\n",
       "      <td>0</td>\n",
       "      <td>0</td>\n",
       "      <td>0</td>\n",
       "      <td>0</td>\n",
       "      <td>Cam Corders</td>\n",
       "      <td>Traditional Video Cameras</td>\n",
       "      <td>Professional Video Cameras</td>\n",
       "      <td>Cam Corders</td>\n",
       "      <td>Traditional Video Cameras</td>\n",
       "    </tr>\n",
       "    <tr>\n",
       "      <th>64</th>\n",
       "      <td>bestbuy-bb98b1e4360d9303df6c0a47eb209e11</td>\n",
       "      <td>1499.0</td>\n",
       "      <td>0</td>\n",
       "      <td>0</td>\n",
       "      <td>0</td>\n",
       "      <td>0</td>\n",
       "      <td>0</td>\n",
       "      <td>0</td>\n",
       "      <td>0</td>\n",
       "      <td>0</td>\n",
       "      <td>...</td>\n",
       "      <td>0</td>\n",
       "      <td>0</td>\n",
       "      <td>0</td>\n",
       "      <td>0</td>\n",
       "      <td>0</td>\n",
       "      <td>Cam Corders</td>\n",
       "      <td>Traditional Video Cameras</td>\n",
       "      <td>Common Use Video Cameras</td>\n",
       "      <td>Cam Corders</td>\n",
       "      <td>Traditional Video Cameras</td>\n",
       "    </tr>\n",
       "  </tbody>\n",
       "</table>\n",
       "<p>5 rows × 959 columns</p>\n",
       "</div>"
      ],
      "text/plain": [
       "                                          ID   price  360fly_x  6Ave  \\\n",
       "10  jessops-eef411a41cc22390e46da9fa5820aa2c   198.0         0     0   \n",
       "12  jessops-40e16c7a65ef1ce88c5b8e86c8b6be61  1199.0         0     0   \n",
       "13  jessops-3a1342c0cb28dc1d3bab507a1f016cc3   249.0         0     0   \n",
       "56  bestbuy-6fd7c4bd0710b4edd04bcbfe602f2355  1599.0         0     0   \n",
       "64  bestbuy-bb98b1e4360d9303df6c0a47eb209e11  1499.0         0     0   \n",
       "\n",
       "    Air Hogs  AmazingForLess  Axess Products  Bell+Howell  BlackMagic  \\\n",
       "10         0               0               0            0           0   \n",
       "12         0               0               0            0           0   \n",
       "13         0               0               0            0           0   \n",
       "56         0               0               0            0           0   \n",
       "64         0               0               0            0           0   \n",
       "\n",
       "    Blackmagic            ...              karma  fz43  deluxe  cpt  dvr  \\\n",
       "10           0            ...                  0     0       0    0    0   \n",
       "12           0            ...                  0     0       0    0    0   \n",
       "13           0            ...                  0     0       0    0    0   \n",
       "56           0            ...                  0     0       0    0    0   \n",
       "64           0            ...                  0     0       0    0    0   \n",
       "\n",
       "    Parent_node_1              Parent_node_2                   Leaf_Node  \\\n",
       "10    Cam Corders  Traditional Video Cameras    Common Use Video Cameras   \n",
       "12    Cam Corders  Traditional Video Cameras    Common Use Video Cameras   \n",
       "13    Cam Corders  Traditional Video Cameras    Common Use Video Cameras   \n",
       "56    Cam Corders  Traditional Video Cameras  Professional Video Cameras   \n",
       "64    Cam Corders  Traditional Video Cameras    Common Use Video Cameras   \n",
       "\n",
       "    prediction_level1          prediction_level2  \n",
       "10        Cam Corders             Action Cameras  \n",
       "12        Cam Corders  Traditional Video Cameras  \n",
       "13        Cam Corders  Traditional Video Cameras  \n",
       "56        Cam Corders  Traditional Video Cameras  \n",
       "64        Cam Corders  Traditional Video Cameras  \n",
       "\n",
       "[5 rows x 959 columns]"
      ]
     },
     "execution_count": 215,
     "metadata": {},
     "output_type": "execute_result"
    }
   ],
   "source": [
    "level3_train.head()"
   ]
  },
  {
   "cell_type": "code",
   "execution_count": 216,
   "metadata": {},
   "outputs": [
    {
     "name": "stdout",
     "output_type": "stream",
     "text": [
      "{'penalty': 'l1', 'C': 100}\n"
     ]
    }
   ],
   "source": [
    "X_level3=level3_train.drop(['ID','Parent_node_1','Parent_node_2','Leaf_Node','prediction_level1','prediction_level2'],axis=1)\n",
    "y_level3=level3_train['Leaf_Node']\n",
    "\n",
    "param_grid = {'C': [0.001, 0.01, 0.1, 1, 10, 100, 1000],\n",
    "              \"penalty\": ['l2', 'l1']}\n",
    "clf = GridSearchCV(linear_model.LogisticRegression(), param_grid, cv=5)\n",
    "clf.fit(X_level3, y_level3)\n",
    "print(clf.best_params_)"
   ]
  },
  {
   "cell_type": "code",
   "execution_count": 217,
   "metadata": {
    "collapsed": true
   },
   "outputs": [],
   "source": [
    "cv = StratifiedKFold(n_splits=5, shuffle=True, random_state=42)\n",
    "logreg = linear_model.LogisticRegression(penalty= 'l1', C= 100)\n",
    "target_prediction = cross_val_predict(logreg, X_level3, y_level3, cv=cv)"
   ]
  },
  {
   "cell_type": "code",
   "execution_count": 218,
   "metadata": {},
   "outputs": [
    {
     "name": "stdout",
     "output_type": "stream",
     "text": [
      "Confusion Matrix:\n",
      "                           _____________________Prediction_____________________\n",
      "                            Common Use Video Cameras Professional Video Cameras\n",
      "  Common Use Video Cameras                        16                          5\n",
      "Professional Video Cameras                         4                         28\n",
      "\n",
      "Accuracy Score:\n",
      "0.830188679245\n",
      "()\n",
      "Classification Report:\n",
      "                            precision    recall  f1-score   support\n",
      "\n",
      "  Common Use Video Cameras       0.80      0.76      0.78        21\n",
      "Professional Video Cameras       0.85      0.88      0.86        32\n",
      "\n",
      "               avg / total       0.83      0.83      0.83        53\n",
      "\n"
     ]
    }
   ],
   "source": [
    "analytics(y_level3,target_prediction) #analytics(y_level2,target_prediction) #real value vs. predicted values"
   ]
  },
  {
   "cell_type": "code",
   "execution_count": 219,
   "metadata": {},
   "outputs": [
    {
     "name": "stderr",
     "output_type": "stream",
     "text": [
      "/Users/bengikoseoglu/anaconda2/lib/python2.7/site-packages/ipykernel_launcher.py:1: SettingWithCopyWarning:\n",
      "\n",
      "\n",
      "A value is trying to be set on a copy of a slice from a DataFrame.\n",
      "Try using .loc[row_indexer,col_indexer] = value instead\n",
      "\n",
      "See the caveats in the documentation: http://pandas.pydata.org/pandas-docs/stable/indexing.html#indexing-view-versus-copy\n",
      "\n"
     ]
    }
   ],
   "source": [
    "level3_train['prediction_level3']=target_prediction"
   ]
  },
  {
   "cell_type": "markdown",
   "metadata": {},
   "source": [
    "##### 2. Action Video Cameras"
   ]
  },
  {
   "cell_type": "code",
   "execution_count": 220,
   "metadata": {
    "collapsed": true
   },
   "outputs": [],
   "source": [
    "#prediction_level2_camcorders\n",
    "level3_train_actioncameras=level2_train[level2_train['Parent_node_2']=='Action Cameras']"
   ]
  },
  {
   "cell_type": "code",
   "execution_count": 221,
   "metadata": {},
   "outputs": [
    {
     "data": {
      "text/html": [
       "<div>\n",
       "<style>\n",
       "    .dataframe thead tr:only-child th {\n",
       "        text-align: right;\n",
       "    }\n",
       "\n",
       "    .dataframe thead th {\n",
       "        text-align: left;\n",
       "    }\n",
       "\n",
       "    .dataframe tbody tr th {\n",
       "        vertical-align: top;\n",
       "    }\n",
       "</style>\n",
       "<table border=\"1\" class=\"dataframe\">\n",
       "  <thead>\n",
       "    <tr style=\"text-align: right;\">\n",
       "      <th></th>\n",
       "      <th>ID</th>\n",
       "      <th>price</th>\n",
       "      <th>360fly_x</th>\n",
       "      <th>6Ave</th>\n",
       "      <th>Air Hogs</th>\n",
       "      <th>AmazingForLess</th>\n",
       "      <th>Axess Products</th>\n",
       "      <th>Bell+Howell</th>\n",
       "      <th>BlackMagic</th>\n",
       "      <th>Blackmagic</th>\n",
       "      <th>...</th>\n",
       "      <th>karma</th>\n",
       "      <th>fz43</th>\n",
       "      <th>deluxe</th>\n",
       "      <th>cpt</th>\n",
       "      <th>dvr</th>\n",
       "      <th>Parent_node_1</th>\n",
       "      <th>Parent_node_2</th>\n",
       "      <th>Leaf_Node</th>\n",
       "      <th>prediction_level1</th>\n",
       "      <th>prediction_level2</th>\n",
       "    </tr>\n",
       "  </thead>\n",
       "  <tbody>\n",
       "    <tr>\n",
       "      <th>29</th>\n",
       "      <td>jessops-e459dfc3f0e983f1a5153c64cf6c9dd0</td>\n",
       "      <td>189.0</td>\n",
       "      <td>0</td>\n",
       "      <td>0</td>\n",
       "      <td>0</td>\n",
       "      <td>0</td>\n",
       "      <td>0</td>\n",
       "      <td>0</td>\n",
       "      <td>0</td>\n",
       "      <td>0</td>\n",
       "      <td>...</td>\n",
       "      <td>0</td>\n",
       "      <td>0</td>\n",
       "      <td>0</td>\n",
       "      <td>0</td>\n",
       "      <td>0</td>\n",
       "      <td>Cam Corders</td>\n",
       "      <td>Action Cameras</td>\n",
       "      <td>360 Degree Cameras</td>\n",
       "      <td>Cam Corders</td>\n",
       "      <td>Action Cameras</td>\n",
       "    </tr>\n",
       "    <tr>\n",
       "      <th>30</th>\n",
       "      <td>jessops-1f205970ab6aa5842172a4a43fdbadba</td>\n",
       "      <td>189.0</td>\n",
       "      <td>0</td>\n",
       "      <td>0</td>\n",
       "      <td>0</td>\n",
       "      <td>0</td>\n",
       "      <td>0</td>\n",
       "      <td>0</td>\n",
       "      <td>0</td>\n",
       "      <td>0</td>\n",
       "      <td>...</td>\n",
       "      <td>0</td>\n",
       "      <td>0</td>\n",
       "      <td>0</td>\n",
       "      <td>0</td>\n",
       "      <td>0</td>\n",
       "      <td>Cam Corders</td>\n",
       "      <td>Action Cameras</td>\n",
       "      <td>360 Degree Cameras</td>\n",
       "      <td>Cam Corders</td>\n",
       "      <td>Action Cameras</td>\n",
       "    </tr>\n",
       "    <tr>\n",
       "      <th>38</th>\n",
       "      <td>jessops-18694f9d01976d75579f280d13df4ff5</td>\n",
       "      <td>299.0</td>\n",
       "      <td>0</td>\n",
       "      <td>0</td>\n",
       "      <td>0</td>\n",
       "      <td>0</td>\n",
       "      <td>0</td>\n",
       "      <td>0</td>\n",
       "      <td>0</td>\n",
       "      <td>0</td>\n",
       "      <td>...</td>\n",
       "      <td>0</td>\n",
       "      <td>0</td>\n",
       "      <td>0</td>\n",
       "      <td>0</td>\n",
       "      <td>0</td>\n",
       "      <td>Cam Corders</td>\n",
       "      <td>Action Cameras</td>\n",
       "      <td>Non 360 Degree Cameras</td>\n",
       "      <td>Cam Corders</td>\n",
       "      <td>Action Cameras</td>\n",
       "    </tr>\n",
       "    <tr>\n",
       "      <th>39</th>\n",
       "      <td>jessops-e63dc708d96de0a702a08fc2fc931b1f</td>\n",
       "      <td>99.0</td>\n",
       "      <td>0</td>\n",
       "      <td>0</td>\n",
       "      <td>0</td>\n",
       "      <td>0</td>\n",
       "      <td>0</td>\n",
       "      <td>0</td>\n",
       "      <td>0</td>\n",
       "      <td>0</td>\n",
       "      <td>...</td>\n",
       "      <td>0</td>\n",
       "      <td>0</td>\n",
       "      <td>0</td>\n",
       "      <td>0</td>\n",
       "      <td>0</td>\n",
       "      <td>Cam Corders</td>\n",
       "      <td>Action Cameras</td>\n",
       "      <td>Non 360 Degree Cameras</td>\n",
       "      <td>Cam Corders</td>\n",
       "      <td>Action Cameras</td>\n",
       "    </tr>\n",
       "    <tr>\n",
       "      <th>40</th>\n",
       "      <td>jessops-1cc85958d3e31c96f4c3bb05794cd7b7</td>\n",
       "      <td>649.0</td>\n",
       "      <td>0</td>\n",
       "      <td>0</td>\n",
       "      <td>0</td>\n",
       "      <td>0</td>\n",
       "      <td>0</td>\n",
       "      <td>0</td>\n",
       "      <td>0</td>\n",
       "      <td>0</td>\n",
       "      <td>...</td>\n",
       "      <td>0</td>\n",
       "      <td>0</td>\n",
       "      <td>0</td>\n",
       "      <td>0</td>\n",
       "      <td>0</td>\n",
       "      <td>Cam Corders</td>\n",
       "      <td>Action Cameras</td>\n",
       "      <td>360 Degree Cameras</td>\n",
       "      <td>Cam Corders</td>\n",
       "      <td>Action Cameras</td>\n",
       "    </tr>\n",
       "  </tbody>\n",
       "</table>\n",
       "<p>5 rows × 959 columns</p>\n",
       "</div>"
      ],
      "text/plain": [
       "                                          ID  price  360fly_x  6Ave  Air Hogs  \\\n",
       "29  jessops-e459dfc3f0e983f1a5153c64cf6c9dd0  189.0         0     0         0   \n",
       "30  jessops-1f205970ab6aa5842172a4a43fdbadba  189.0         0     0         0   \n",
       "38  jessops-18694f9d01976d75579f280d13df4ff5  299.0         0     0         0   \n",
       "39  jessops-e63dc708d96de0a702a08fc2fc931b1f   99.0         0     0         0   \n",
       "40  jessops-1cc85958d3e31c96f4c3bb05794cd7b7  649.0         0     0         0   \n",
       "\n",
       "    AmazingForLess  Axess Products  Bell+Howell  BlackMagic  Blackmagic  \\\n",
       "29               0               0            0           0           0   \n",
       "30               0               0            0           0           0   \n",
       "38               0               0            0           0           0   \n",
       "39               0               0            0           0           0   \n",
       "40               0               0            0           0           0   \n",
       "\n",
       "          ...          karma  fz43  deluxe  cpt  dvr  Parent_node_1  \\\n",
       "29        ...              0     0       0    0    0    Cam Corders   \n",
       "30        ...              0     0       0    0    0    Cam Corders   \n",
       "38        ...              0     0       0    0    0    Cam Corders   \n",
       "39        ...              0     0       0    0    0    Cam Corders   \n",
       "40        ...              0     0       0    0    0    Cam Corders   \n",
       "\n",
       "     Parent_node_2               Leaf_Node  prediction_level1  \\\n",
       "29  Action Cameras      360 Degree Cameras        Cam Corders   \n",
       "30  Action Cameras      360 Degree Cameras        Cam Corders   \n",
       "38  Action Cameras  Non 360 Degree Cameras        Cam Corders   \n",
       "39  Action Cameras  Non 360 Degree Cameras        Cam Corders   \n",
       "40  Action Cameras      360 Degree Cameras        Cam Corders   \n",
       "\n",
       "    prediction_level2  \n",
       "29     Action Cameras  \n",
       "30     Action Cameras  \n",
       "38     Action Cameras  \n",
       "39     Action Cameras  \n",
       "40     Action Cameras  \n",
       "\n",
       "[5 rows x 959 columns]"
      ]
     },
     "execution_count": 221,
     "metadata": {},
     "output_type": "execute_result"
    }
   ],
   "source": [
    "level3_train_actioncameras.head()"
   ]
  },
  {
   "cell_type": "code",
   "execution_count": 222,
   "metadata": {
    "collapsed": true
   },
   "outputs": [],
   "source": [
    "X_level3_ac=level3_train_actioncameras.drop(['ID','Parent_node_1','Parent_node_2','Leaf_Node','prediction_level1','prediction_level2'],axis=1)\n",
    "y_level3_ac=level3_train_actioncameras['Leaf_Node']"
   ]
  },
  {
   "cell_type": "code",
   "execution_count": 223,
   "metadata": {},
   "outputs": [
    {
     "name": "stdout",
     "output_type": "stream",
     "text": [
      "{'penalty': 'l1', 'C': 1000}\n"
     ]
    }
   ],
   "source": [
    "param_grid = {'C': [0.001, 0.01, 0.1, 1, 10, 100, 1000],\n",
    "              \"penalty\": ['l2', 'l1']}\n",
    "clf = GridSearchCV(linear_model.LogisticRegression(), param_grid, cv=5)\n",
    "clf.fit(X_level3_ac, y_level3_ac)\n",
    "print(clf.best_params_)"
   ]
  },
  {
   "cell_type": "code",
   "execution_count": 224,
   "metadata": {
    "collapsed": true
   },
   "outputs": [],
   "source": [
    "cv = StratifiedKFold(n_splits=5, shuffle=True, random_state=42)\n",
    "logreg = linear_model.LogisticRegression(penalty= 'l1', C= 1000)\n",
    "target_prediction = cross_val_predict(logreg, X_level3_ac, y_level3_ac, cv=cv)"
   ]
  },
  {
   "cell_type": "code",
   "execution_count": 225,
   "metadata": {},
   "outputs": [
    {
     "name": "stdout",
     "output_type": "stream",
     "text": [
      "Confusion Matrix:\n",
      "                       ____________________________Prediction____________________________\n",
      "                          360 Degree Cameras                  Drone Non 360 Degree Cameras\n",
      "    360 Degree Cameras                    19                      0                      2\n",
      "                 Drone                     2                     12                      1\n",
      "Non 360 Degree Cameras                     1                      0                     21\n",
      "\n",
      "Accuracy Score:\n",
      "0.896551724138\n",
      "()\n",
      "Classification Report:\n",
      "                        precision    recall  f1-score   support\n",
      "\n",
      "    360 Degree Cameras       0.86      0.90      0.88        21\n",
      "                 Drone       1.00      0.80      0.89        15\n",
      "Non 360 Degree Cameras       0.88      0.95      0.91        22\n",
      "\n",
      "           avg / total       0.90      0.90      0.90        58\n",
      "\n"
     ]
    }
   ],
   "source": [
    "analytics(y_level3_ac,target_prediction)"
   ]
  },
  {
   "cell_type": "code",
   "execution_count": 226,
   "metadata": {},
   "outputs": [
    {
     "name": "stderr",
     "output_type": "stream",
     "text": [
      "/Users/bengikoseoglu/anaconda2/lib/python2.7/site-packages/ipykernel_launcher.py:1: SettingWithCopyWarning:\n",
      "\n",
      "\n",
      "A value is trying to be set on a copy of a slice from a DataFrame.\n",
      "Try using .loc[row_indexer,col_indexer] = value instead\n",
      "\n",
      "See the caveats in the documentation: http://pandas.pydata.org/pandas-docs/stable/indexing.html#indexing-view-versus-copy\n",
      "\n"
     ]
    }
   ],
   "source": [
    "level3_train_actioncameras['prediction_level3']=target_prediction"
   ]
  },
  {
   "cell_type": "markdown",
   "metadata": {},
   "source": [
    "### Cameras"
   ]
  },
  {
   "cell_type": "code",
   "execution_count": 227,
   "metadata": {
    "collapsed": true
   },
   "outputs": [],
   "source": [
    "level2_train_cam=model2[model2['Parent_node_1']=='Photo Devices']"
   ]
  },
  {
   "cell_type": "code",
   "execution_count": 228,
   "metadata": {},
   "outputs": [
    {
     "data": {
      "text/html": [
       "<div>\n",
       "<style>\n",
       "    .dataframe thead tr:only-child th {\n",
       "        text-align: right;\n",
       "    }\n",
       "\n",
       "    .dataframe thead th {\n",
       "        text-align: left;\n",
       "    }\n",
       "\n",
       "    .dataframe tbody tr th {\n",
       "        vertical-align: top;\n",
       "    }\n",
       "</style>\n",
       "<table border=\"1\" class=\"dataframe\">\n",
       "  <thead>\n",
       "    <tr style=\"text-align: right;\">\n",
       "      <th></th>\n",
       "      <th>ID</th>\n",
       "      <th>price</th>\n",
       "      <th>360fly_x</th>\n",
       "      <th>6Ave</th>\n",
       "      <th>Air Hogs</th>\n",
       "      <th>AmazingForLess</th>\n",
       "      <th>Axess Products</th>\n",
       "      <th>Bell+Howell</th>\n",
       "      <th>BlackMagic</th>\n",
       "      <th>Blackmagic</th>\n",
       "      <th>...</th>\n",
       "      <th>hx400</th>\n",
       "      <th>karma</th>\n",
       "      <th>fz43</th>\n",
       "      <th>deluxe</th>\n",
       "      <th>cpt</th>\n",
       "      <th>dvr</th>\n",
       "      <th>Parent_node_1</th>\n",
       "      <th>Parent_node_2</th>\n",
       "      <th>Leaf_Node</th>\n",
       "      <th>prediction_level1</th>\n",
       "    </tr>\n",
       "  </thead>\n",
       "  <tbody>\n",
       "    <tr>\n",
       "      <th>0</th>\n",
       "      <td>jessops-f2dd233dd6100c900432fd2902df8cde</td>\n",
       "      <td>479.0</td>\n",
       "      <td>0</td>\n",
       "      <td>0</td>\n",
       "      <td>0</td>\n",
       "      <td>0</td>\n",
       "      <td>0</td>\n",
       "      <td>0</td>\n",
       "      <td>0</td>\n",
       "      <td>0</td>\n",
       "      <td>...</td>\n",
       "      <td>0</td>\n",
       "      <td>0</td>\n",
       "      <td>0</td>\n",
       "      <td>0</td>\n",
       "      <td>0</td>\n",
       "      <td>0</td>\n",
       "      <td>Photo Devices</td>\n",
       "      <td>Point &amp; Shoot Cameras</td>\n",
       "      <td>Bridge Cameras</td>\n",
       "      <td>Photo Devices</td>\n",
       "    </tr>\n",
       "    <tr>\n",
       "      <th>1</th>\n",
       "      <td>jessops-ff2be7ba459709194635812c728a17fd</td>\n",
       "      <td>539.0</td>\n",
       "      <td>0</td>\n",
       "      <td>0</td>\n",
       "      <td>0</td>\n",
       "      <td>0</td>\n",
       "      <td>0</td>\n",
       "      <td>0</td>\n",
       "      <td>0</td>\n",
       "      <td>0</td>\n",
       "      <td>...</td>\n",
       "      <td>0</td>\n",
       "      <td>0</td>\n",
       "      <td>0</td>\n",
       "      <td>0</td>\n",
       "      <td>0</td>\n",
       "      <td>0</td>\n",
       "      <td>Photo Devices</td>\n",
       "      <td>DSLR</td>\n",
       "      <td>DSLR</td>\n",
       "      <td>Photo Devices</td>\n",
       "    </tr>\n",
       "    <tr>\n",
       "      <th>2</th>\n",
       "      <td>jessops-acfa4e6fdc0962be2da5bc1ed8d44357</td>\n",
       "      <td>3249.0</td>\n",
       "      <td>0</td>\n",
       "      <td>0</td>\n",
       "      <td>0</td>\n",
       "      <td>0</td>\n",
       "      <td>0</td>\n",
       "      <td>0</td>\n",
       "      <td>0</td>\n",
       "      <td>0</td>\n",
       "      <td>...</td>\n",
       "      <td>0</td>\n",
       "      <td>0</td>\n",
       "      <td>0</td>\n",
       "      <td>0</td>\n",
       "      <td>0</td>\n",
       "      <td>0</td>\n",
       "      <td>Photo Devices</td>\n",
       "      <td>DSLR</td>\n",
       "      <td>DSLR</td>\n",
       "      <td>Photo Devices</td>\n",
       "    </tr>\n",
       "    <tr>\n",
       "      <th>3</th>\n",
       "      <td>jessops-cabb446087d8428bfa741078869439b8</td>\n",
       "      <td>1349.0</td>\n",
       "      <td>0</td>\n",
       "      <td>0</td>\n",
       "      <td>0</td>\n",
       "      <td>0</td>\n",
       "      <td>0</td>\n",
       "      <td>0</td>\n",
       "      <td>0</td>\n",
       "      <td>0</td>\n",
       "      <td>...</td>\n",
       "      <td>0</td>\n",
       "      <td>0</td>\n",
       "      <td>0</td>\n",
       "      <td>0</td>\n",
       "      <td>0</td>\n",
       "      <td>0</td>\n",
       "      <td>Photo Devices</td>\n",
       "      <td>DSLR</td>\n",
       "      <td>DSLR</td>\n",
       "      <td>Photo Devices</td>\n",
       "    </tr>\n",
       "    <tr>\n",
       "      <th>4</th>\n",
       "      <td>jessops-8c6e0672aa9297ee8ff4d95fa5e2edc0</td>\n",
       "      <td>449.0</td>\n",
       "      <td>0</td>\n",
       "      <td>0</td>\n",
       "      <td>0</td>\n",
       "      <td>0</td>\n",
       "      <td>0</td>\n",
       "      <td>0</td>\n",
       "      <td>0</td>\n",
       "      <td>0</td>\n",
       "      <td>...</td>\n",
       "      <td>0</td>\n",
       "      <td>0</td>\n",
       "      <td>1</td>\n",
       "      <td>0</td>\n",
       "      <td>0</td>\n",
       "      <td>0</td>\n",
       "      <td>Photo Devices</td>\n",
       "      <td>Mirrorless Cameras</td>\n",
       "      <td>Full Frame Mirrorless Camera</td>\n",
       "      <td>Photo Devices</td>\n",
       "    </tr>\n",
       "  </tbody>\n",
       "</table>\n",
       "<p>5 rows × 958 columns</p>\n",
       "</div>"
      ],
      "text/plain": [
       "                                         ID   price  360fly_x  6Ave  Air Hogs  \\\n",
       "0  jessops-f2dd233dd6100c900432fd2902df8cde   479.0         0     0         0   \n",
       "1  jessops-ff2be7ba459709194635812c728a17fd   539.0         0     0         0   \n",
       "2  jessops-acfa4e6fdc0962be2da5bc1ed8d44357  3249.0         0     0         0   \n",
       "3  jessops-cabb446087d8428bfa741078869439b8  1349.0         0     0         0   \n",
       "4  jessops-8c6e0672aa9297ee8ff4d95fa5e2edc0   449.0         0     0         0   \n",
       "\n",
       "   AmazingForLess  Axess Products  Bell+Howell  BlackMagic  Blackmagic  \\\n",
       "0               0               0            0           0           0   \n",
       "1               0               0            0           0           0   \n",
       "2               0               0            0           0           0   \n",
       "3               0               0            0           0           0   \n",
       "4               0               0            0           0           0   \n",
       "\n",
       "         ...          hx400  karma  fz43  deluxe  cpt  dvr  Parent_node_1  \\\n",
       "0        ...              0      0     0       0    0    0  Photo Devices   \n",
       "1        ...              0      0     0       0    0    0  Photo Devices   \n",
       "2        ...              0      0     0       0    0    0  Photo Devices   \n",
       "3        ...              0      0     0       0    0    0  Photo Devices   \n",
       "4        ...              0      0     1       0    0    0  Photo Devices   \n",
       "\n",
       "           Parent_node_2                     Leaf_Node  prediction_level1  \n",
       "0  Point & Shoot Cameras                Bridge Cameras      Photo Devices  \n",
       "1                   DSLR                          DSLR      Photo Devices  \n",
       "2                   DSLR                          DSLR      Photo Devices  \n",
       "3                   DSLR                          DSLR      Photo Devices  \n",
       "4     Mirrorless Cameras  Full Frame Mirrorless Camera      Photo Devices  \n",
       "\n",
       "[5 rows x 958 columns]"
      ]
     },
     "execution_count": 228,
     "metadata": {},
     "output_type": "execute_result"
    }
   ],
   "source": [
    "level2_train_cam.head()"
   ]
  },
  {
   "cell_type": "code",
   "execution_count": 229,
   "metadata": {
    "collapsed": true
   },
   "outputs": [],
   "source": [
    "X_level2_cam=level2_train_cam.drop(['ID','Parent_node_1','Parent_node_2','Leaf_Node','prediction_level1'],axis=1)\n",
    "y_level2_cam=level2_train_cam['Parent_node_2']"
   ]
  },
  {
   "cell_type": "code",
   "execution_count": 230,
   "metadata": {},
   "outputs": [
    {
     "name": "stdout",
     "output_type": "stream",
     "text": [
      "{'penalty': 'l2', 'C': 1}\n"
     ]
    }
   ],
   "source": [
    "param_grid = {'C': [0.001, 0.01, 0.1, 1, 10, 100, 1000],\n",
    "              \"penalty\": ['l2', 'l1']}\n",
    "clf = GridSearchCV(linear_model.LogisticRegression(), param_grid, cv=5)\n",
    "clf.fit(X_level2_cam, y_level2_cam)\n",
    "print(clf.best_params_)"
   ]
  },
  {
   "cell_type": "code",
   "execution_count": 231,
   "metadata": {
    "collapsed": true
   },
   "outputs": [],
   "source": [
    "cv = StratifiedKFold(n_splits=5, shuffle=True, random_state=42)\n",
    "logreg = linear_model.LogisticRegression(penalty= 'l2', C= 1)\n",
    "target_prediction = cross_val_predict(logreg, X_level2_cam, y_level2_cam, cv=cv)"
   ]
  },
  {
   "cell_type": "code",
   "execution_count": 232,
   "metadata": {},
   "outputs": [
    {
     "name": "stdout",
     "output_type": "stream",
     "text": [
      "Confusion Matrix:\n",
      "                      __________________________Prediction___________________________\n",
      "                                      DSLR    Mirrorless Cameras Point & Shoot Cameras\n",
      "                 DSLR                   61                     7                     4\n",
      "   Mirrorless Cameras                    3                    65                    13\n",
      "Point & Shoot Cameras                    0                     2                   131\n",
      "\n",
      "Accuracy Score:\n",
      "0.898601398601\n",
      "()\n",
      "Classification Report:\n",
      "                       precision    recall  f1-score   support\n",
      "\n",
      "                 DSLR       0.95      0.85      0.90        72\n",
      "   Mirrorless Cameras       0.88      0.80      0.84        81\n",
      "Point & Shoot Cameras       0.89      0.98      0.93       133\n",
      "\n",
      "          avg / total       0.90      0.90      0.90       286\n",
      "\n"
     ]
    }
   ],
   "source": [
    "analytics(y_level2_cam,target_prediction) #"
   ]
  },
  {
   "cell_type": "code",
   "execution_count": 233,
   "metadata": {},
   "outputs": [
    {
     "name": "stderr",
     "output_type": "stream",
     "text": [
      "/Users/bengikoseoglu/anaconda2/lib/python2.7/site-packages/ipykernel_launcher.py:1: SettingWithCopyWarning:\n",
      "\n",
      "\n",
      "A value is trying to be set on a copy of a slice from a DataFrame.\n",
      "Try using .loc[row_indexer,col_indexer] = value instead\n",
      "\n",
      "See the caveats in the documentation: http://pandas.pydata.org/pandas-docs/stable/indexing.html#indexing-view-versus-copy\n",
      "\n"
     ]
    }
   ],
   "source": [
    "level2_train_cam['prediction_level2']=target_prediction"
   ]
  },
  {
   "cell_type": "markdown",
   "metadata": {},
   "source": [
    "#### 1. Point & Shoot Cameras"
   ]
  },
  {
   "cell_type": "code",
   "execution_count": 234,
   "metadata": {
    "collapsed": true
   },
   "outputs": [],
   "source": [
    "#prediction_level2_camcorders\n",
    "level3_train_pocam=level2_train_cam[level2_train_cam['Parent_node_2']=='Point & Shoot Cameras']"
   ]
  },
  {
   "cell_type": "code",
   "execution_count": 235,
   "metadata": {},
   "outputs": [
    {
     "name": "stdout",
     "output_type": "stream",
     "text": [
      "{'penalty': 'l1', 'C': 1}\n"
     ]
    }
   ],
   "source": [
    "X_level3_po=level3_train_pocam.drop(['ID','Parent_node_1','Parent_node_2','Leaf_Node','prediction_level1','prediction_level2'],axis=1)\n",
    "y_level3_po=level3_train_pocam['Leaf_Node']\n",
    "\n",
    "param_grid = {'C': [0.001, 0.01, 0.1, 1, 10, 100, 1000],\n",
    "              \"penalty\": ['l2', 'l1']}\n",
    "clf = GridSearchCV(linear_model.LogisticRegression(), param_grid, cv=5)\n",
    "clf.fit(X_level3_po, y_level3_po)\n",
    "print(clf.best_params_)"
   ]
  },
  {
   "cell_type": "code",
   "execution_count": 236,
   "metadata": {
    "collapsed": true
   },
   "outputs": [],
   "source": [
    "cv = StratifiedKFold(n_splits=5, shuffle=True, random_state=42)\n",
    "logreg = linear_model.LogisticRegression(penalty= 'l1', C= 1)\n",
    "target_prediction = cross_val_predict(logreg, X_level3_po, y_level3_po, cv=cv)"
   ]
  },
  {
   "cell_type": "code",
   "execution_count": 237,
   "metadata": {},
   "outputs": [
    {
     "name": "stdout",
     "output_type": "stream",
     "text": [
      "Confusion Matrix:\n",
      "                        _____________________________Prediction______________________________\n",
      "                                Bridge Cameras Digital Compact Cameras                 Instant\n",
      "         Bridge Cameras                     42                      14                       0\n",
      "Digital Compact Cameras                     10                      48                       0\n",
      "                Instant                      1                       2                      16\n",
      "\n",
      "Accuracy Score:\n",
      "0.796992481203\n",
      "()\n",
      "Classification Report:\n",
      "                         precision    recall  f1-score   support\n",
      "\n",
      "         Bridge Cameras       0.79      0.75      0.77        56\n",
      "Digital Compact Cameras       0.75      0.83      0.79        58\n",
      "                Instant       1.00      0.84      0.91        19\n",
      "\n",
      "            avg / total       0.80      0.80      0.80       133\n",
      "\n"
     ]
    }
   ],
   "source": [
    "analytics(y_level3_po,target_prediction)"
   ]
  },
  {
   "cell_type": "code",
   "execution_count": 238,
   "metadata": {},
   "outputs": [
    {
     "name": "stderr",
     "output_type": "stream",
     "text": [
      "/Users/bengikoseoglu/anaconda2/lib/python2.7/site-packages/ipykernel_launcher.py:1: SettingWithCopyWarning:\n",
      "\n",
      "\n",
      "A value is trying to be set on a copy of a slice from a DataFrame.\n",
      "Try using .loc[row_indexer,col_indexer] = value instead\n",
      "\n",
      "See the caveats in the documentation: http://pandas.pydata.org/pandas-docs/stable/indexing.html#indexing-view-versus-copy\n",
      "\n"
     ]
    }
   ],
   "source": [
    "level3_train_pocam['prediction_level3']=target_prediction"
   ]
  },
  {
   "cell_type": "markdown",
   "metadata": {},
   "source": [
    "#### 2. Mirrorless Cameras"
   ]
  },
  {
   "cell_type": "code",
   "execution_count": 239,
   "metadata": {
    "collapsed": true
   },
   "outputs": [],
   "source": [
    "#prediction_level2_camcorders\n",
    "level3_train_miror=level2_train_cam[level2_train_cam['Parent_node_2']=='Mirrorless Cameras']"
   ]
  },
  {
   "cell_type": "code",
   "execution_count": 240,
   "metadata": {},
   "outputs": [
    {
     "name": "stdout",
     "output_type": "stream",
     "text": [
      "{'penalty': 'l2', 'C': 1}\n"
     ]
    }
   ],
   "source": [
    "X_level3_mi=level3_train_miror.drop(['ID','Parent_node_1','Parent_node_2','Leaf_Node','prediction_level1','prediction_level2'],axis=1)\n",
    "y_level3_mi=level3_train_miror['Leaf_Node']\n",
    "\n",
    "param_grid = {'C': [0.001, 0.01, 0.1, 1, 10, 100, 1000],\n",
    "              \"penalty\": ['l2', 'l1']}\n",
    "clf = GridSearchCV(linear_model.LogisticRegression(), param_grid, cv=5)\n",
    "clf.fit(X_level3_mi, y_level3_mi)\n",
    "print(clf.best_params_)\n"
   ]
  },
  {
   "cell_type": "code",
   "execution_count": 241,
   "metadata": {
    "collapsed": true
   },
   "outputs": [],
   "source": [
    "cv = StratifiedKFold(n_splits=5, shuffle=True, random_state=42)\n",
    "logreg = linear_model.LogisticRegression(penalty= 'l2', C= 1)\n",
    "target_prediction = cross_val_predict(logreg, X_level3_mi, y_level3_mi, cv=cv)"
   ]
  },
  {
   "cell_type": "code",
   "execution_count": 242,
   "metadata": {},
   "outputs": [
    {
     "name": "stdout",
     "output_type": "stream",
     "text": [
      "Confusion Matrix:\n",
      "                             _______________________Prediction_______________________\n",
      "                            Full Frame Mirrorless Camera NonFullFrameMirrorlessCamera\n",
      "Full Frame Mirrorless Camera                          26                            5\n",
      "NonFullFrameMirrorlessCamera                           5                           45\n",
      "\n",
      "Accuracy Score:\n",
      "0.876543209877\n",
      "()\n",
      "Classification Report:\n",
      "                              precision    recall  f1-score   support\n",
      "\n",
      "Full Frame Mirrorless Camera       0.84      0.84      0.84        31\n",
      "NonFullFrameMirrorlessCamera       0.90      0.90      0.90        50\n",
      "\n",
      "                 avg / total       0.88      0.88      0.88        81\n",
      "\n"
     ]
    }
   ],
   "source": [
    "analytics(y_level3_mi,target_prediction)"
   ]
  },
  {
   "cell_type": "code",
   "execution_count": 243,
   "metadata": {},
   "outputs": [
    {
     "name": "stderr",
     "output_type": "stream",
     "text": [
      "/Users/bengikoseoglu/anaconda2/lib/python2.7/site-packages/ipykernel_launcher.py:1: SettingWithCopyWarning:\n",
      "\n",
      "\n",
      "A value is trying to be set on a copy of a slice from a DataFrame.\n",
      "Try using .loc[row_indexer,col_indexer] = value instead\n",
      "\n",
      "See the caveats in the documentation: http://pandas.pydata.org/pandas-docs/stable/indexing.html#indexing-view-versus-copy\n",
      "\n"
     ]
    }
   ],
   "source": [
    "level3_train_miror['prediction_level3']=target_prediction"
   ]
  },
  {
   "cell_type": "markdown",
   "metadata": {},
   "source": [
    "### COMBINING ALL"
   ]
  },
  {
   "cell_type": "code",
   "execution_count": 244,
   "metadata": {},
   "outputs": [
    {
     "name": "stderr",
     "output_type": "stream",
     "text": [
      "/Users/bengikoseoglu/anaconda2/lib/python2.7/site-packages/ipykernel_launcher.py:2: SettingWithCopyWarning:\n",
      "\n",
      "\n",
      "A value is trying to be set on a copy of a slice from a DataFrame.\n",
      "Try using .loc[row_indexer,col_indexer] = value instead\n",
      "\n",
      "See the caveats in the documentation: http://pandas.pydata.org/pandas-docs/stable/indexing.html#indexing-view-versus-copy\n",
      "\n"
     ]
    }
   ],
   "source": [
    "level3_dslr=level2_train_cam[level2_train_cam['Parent_node_2']=='DSLR']\n",
    "level3_dslr['prediction_level3']=level3_dslr['prediction_level2']"
   ]
  },
  {
   "cell_type": "code",
   "execution_count": 245,
   "metadata": {},
   "outputs": [
    {
     "name": "stderr",
     "output_type": "stream",
     "text": [
      "/Users/bengikoseoglu/anaconda2/lib/python2.7/site-packages/ipykernel_launcher.py:2: SettingWithCopyWarning:\n",
      "\n",
      "\n",
      "A value is trying to be set on a copy of a slice from a DataFrame.\n",
      "Try using .loc[row_indexer,col_indexer] = value instead\n",
      "\n",
      "See the caveats in the documentation: http://pandas.pydata.org/pandas-docs/stable/indexing.html#indexing-view-versus-copy\n",
      "\n",
      "/Users/bengikoseoglu/anaconda2/lib/python2.7/site-packages/ipykernel_launcher.py:3: SettingWithCopyWarning:\n",
      "\n",
      "\n",
      "A value is trying to be set on a copy of a slice from a DataFrame.\n",
      "Try using .loc[row_indexer,col_indexer] = value instead\n",
      "\n",
      "See the caveats in the documentation: http://pandas.pydata.org/pandas-docs/stable/indexing.html#indexing-view-versus-copy\n",
      "\n"
     ]
    }
   ],
   "source": [
    "level3_nocamera=bags_words[bags_words['Parent_node_1']=='Not Camera']\n",
    "level3_nocamera['prediction_level2']=level3_nocamera['prediction_level1']\n",
    "level3_nocamera['prediction_level3']=level3_nocamera['prediction_level1']"
   ]
  },
  {
   "cell_type": "code",
   "execution_count": 246,
   "metadata": {
    "collapsed": true
   },
   "outputs": [],
   "source": [
    "all_concat=pd.concat([level3_dslr,level3_nocamera,level3_train_miror,level3_train_pocam,level3_train_actioncameras,level3_train])"
   ]
  },
  {
   "cell_type": "code",
   "execution_count": 247,
   "metadata": {},
   "outputs": [
    {
     "data": {
      "text/plain": [
       "array([u'Photo Devices', u'Not Camera', u'Cam Corders'], dtype=object)"
      ]
     },
     "execution_count": 247,
     "metadata": {},
     "output_type": "execute_result"
    }
   ],
   "source": [
    "all_concat.Parent_node_1.unique()"
   ]
  },
  {
   "cell_type": "code",
   "execution_count": 248,
   "metadata": {},
   "outputs": [
    {
     "data": {
      "text/plain": [
       "array([u'DSLR', u'Not Camera', u'Mirrorless Cameras',\n",
       "       u'Point & Shoot Cameras', u'Action Cameras',\n",
       "       u'Traditional Video Cameras'], dtype=object)"
      ]
     },
     "execution_count": 248,
     "metadata": {},
     "output_type": "execute_result"
    }
   ],
   "source": [
    "all_concat.Parent_node_2.unique()"
   ]
  },
  {
   "cell_type": "code",
   "execution_count": 249,
   "metadata": {},
   "outputs": [
    {
     "data": {
      "text/plain": [
       "array([u'DSLR', u'Not Camera', u'Full Frame Mirrorless Camera',\n",
       "       u'NonFullFrameMirrorlessCamera', u'Bridge Cameras',\n",
       "       u'Digital Compact Cameras', u'Instant', u'360 Degree Cameras',\n",
       "       u'Non 360 Degree Cameras', u'Drone', u'Common Use Video Cameras',\n",
       "       u'Professional Video Cameras'], dtype=object)"
      ]
     },
     "execution_count": 249,
     "metadata": {},
     "output_type": "execute_result"
    }
   ],
   "source": [
    "all_concat.Leaf_Node.unique()"
   ]
  },
  {
   "cell_type": "code",
   "execution_count": 250,
   "metadata": {},
   "outputs": [
    {
     "data": {
      "text/plain": [
       "array([u'Photo Devices', u'Cam Corders', u'Not Camera'], dtype=object)"
      ]
     },
     "execution_count": 250,
     "metadata": {},
     "output_type": "execute_result"
    }
   ],
   "source": [
    "all_concat.prediction_level1.unique()"
   ]
  },
  {
   "cell_type": "code",
   "execution_count": 251,
   "metadata": {},
   "outputs": [
    {
     "data": {
      "text/plain": [
       "array([u'DSLR', u'Point & Shoot Cameras', u'Mirrorless Cameras',\n",
       "       u'Not Camera', u'Photo Devices', u'Cam Corders', u'Action Cameras',\n",
       "       u'Traditional Video Cameras'], dtype=object)"
      ]
     },
     "execution_count": 251,
     "metadata": {},
     "output_type": "execute_result"
    }
   ],
   "source": [
    "all_concat.prediction_level2.unique()"
   ]
  },
  {
   "cell_type": "code",
   "execution_count": 252,
   "metadata": {},
   "outputs": [
    {
     "data": {
      "text/plain": [
       "array([u'DSLR', u'Point & Shoot Cameras', u'Mirrorless Cameras',\n",
       "       u'Not Camera', u'Photo Devices', u'Cam Corders',\n",
       "       u'NonFullFrameMirrorlessCamera', u'Full Frame Mirrorless Camera',\n",
       "       u'Bridge Cameras', u'Digital Compact Cameras', u'Instant',\n",
       "       u'360 Degree Cameras', u'Non 360 Degree Cameras', u'Drone',\n",
       "       u'Common Use Video Cameras', u'Professional Video Cameras'], dtype=object)"
      ]
     },
     "execution_count": 252,
     "metadata": {},
     "output_type": "execute_result"
    }
   ],
   "source": [
    "all_concat.prediction_level3.unique()"
   ]
  },
  {
   "cell_type": "code",
   "execution_count": 253,
   "metadata": {},
   "outputs": [
    {
     "data": {
      "text/plain": [
       "(416, 961)"
      ]
     },
     "execution_count": 253,
     "metadata": {},
     "output_type": "execute_result"
    }
   ],
   "source": [
    "all_concat.shape"
   ]
  },
  {
   "cell_type": "markdown",
   "metadata": {},
   "source": [
    "### For whole leaf nodes:"
   ]
  },
  {
   "cell_type": "code",
   "execution_count": 254,
   "metadata": {},
   "outputs": [
    {
     "name": "stdout",
     "output_type": "stream",
     "text": [
      "Confusion Matrix:\n",
      "              ______________Prediction_______________\n",
      "               Cam Corders    Not Camera Photo Devices\n",
      "  Cam Corders          102             0             9\n",
      "   Not Camera            5             8             6\n",
      "Photo Devices            5             1           280\n",
      "\n",
      "Accuracy Score:\n",
      "0.9375\n",
      "()\n",
      "Classification Report:\n",
      "               precision    recall  f1-score   support\n",
      "\n",
      "  Cam Corders       0.91      0.92      0.91       111\n",
      "   Not Camera       0.89      0.42      0.57        19\n",
      "Photo Devices       0.95      0.98      0.96       286\n",
      "\n",
      "  avg / total       0.94      0.94      0.93       416\n",
      "\n"
     ]
    }
   ],
   "source": [
    "analytics(all_concat['Parent_node_1'],all_concat['prediction_level1'])#y_level3_mi,target_prediction"
   ]
  },
  {
   "cell_type": "code",
   "execution_count": 255,
   "metadata": {},
   "outputs": [
    {
     "name": "stdout",
     "output_type": "stream",
     "text": [
      "Confusion Matrix:\n",
      "                          _______________________________________________________________________________________________Prediction_______________________________________________________________________________________________\n",
      "                                    Action Cameras               Cam Corders                      DSLR        Mirrorless Cameras                Not Camera             Photo Devices     Point & Shoot Cameras Traditional Video Cameras\n",
      "           Action Cameras                       55                         0                         0                         0                         0                         0                         0                         3\n",
      "              Cam Corders                        0                         0                         0                         0                         0                         0                         0                         0\n",
      "                     DSLR                        0                         0                        61                         7                         0                         0                         4                         0\n",
      "       Mirrorless Cameras                        0                         0                         3                        65                         0                         0                        13                         0\n",
      "               Not Camera                        0                         5                         0                         0                         8                         6                         0                         0\n",
      "            Photo Devices                        0                         0                         0                         0                         0                         0                         0                         0\n",
      "    Point & Shoot Cameras                        0                         0                         0                         2                         0                         0                       131                         0\n",
      "Traditional Video Cameras                        4                         0                         0                         0                         0                         0                         0                        49\n",
      "\n",
      "Accuracy Score:\n",
      "0.887019230769\n",
      "()\n",
      "Classification Report:\n",
      "                           precision    recall  f1-score   support\n",
      "\n",
      "           Action Cameras       0.93      0.95      0.94        58\n",
      "              Cam Corders       0.00      0.00      0.00         0\n",
      "                     DSLR       0.95      0.85      0.90        72\n",
      "       Mirrorless Cameras       0.88      0.80      0.84        81\n",
      "               Not Camera       1.00      0.42      0.59        19\n",
      "            Photo Devices       0.00      0.00      0.00         0\n",
      "    Point & Shoot Cameras       0.89      0.98      0.93       133\n",
      "Traditional Video Cameras       0.94      0.92      0.93        53\n",
      "\n",
      "              avg / total       0.91      0.89      0.89       416\n",
      "\n"
     ]
    }
   ],
   "source": [
    "analytics(all_concat['Parent_node_2'],all_concat['prediction_level2'])#y_level3_mi,target_prediction"
   ]
  },
  {
   "cell_type": "code",
   "execution_count": 256,
   "metadata": {},
   "outputs": [
    {
     "data": {
      "text/plain": [
       "Leaf_Node                     prediction_level3           \n",
       "360 Degree Cameras            360 Degree Cameras              19\n",
       "                              Non 360 Degree Cameras           2\n",
       "Bridge Cameras                Bridge Cameras                  42\n",
       "                              Digital Compact Cameras         14\n",
       "Common Use Video Cameras      Common Use Video Cameras        16\n",
       "                              Professional Video Cameras       5\n",
       "DSLR                          DSLR                            61\n",
       "                              Mirrorless Cameras               7\n",
       "                              Point & Shoot Cameras            4\n",
       "Digital Compact Cameras       Bridge Cameras                  10\n",
       "                              Digital Compact Cameras         48\n",
       "Drone                         360 Degree Cameras               2\n",
       "                              Drone                           12\n",
       "                              Non 360 Degree Cameras           1\n",
       "Full Frame Mirrorless Camera  Full Frame Mirrorless Camera    26\n",
       "                              NonFullFrameMirrorlessCamera     5\n",
       "Instant                       Bridge Cameras                   1\n",
       "                              Digital Compact Cameras          2\n",
       "                              Instant                         16\n",
       "Non 360 Degree Cameras        360 Degree Cameras               1\n",
       "                              Non 360 Degree Cameras          21\n",
       "NonFullFrameMirrorlessCamera  Full Frame Mirrorless Camera     5\n",
       "                              NonFullFrameMirrorlessCamera    45\n",
       "Not Camera                    Cam Corders                      5\n",
       "                              Not Camera                       8\n",
       "                              Photo Devices                    6\n",
       "Professional Video Cameras    Common Use Video Cameras         4\n",
       "                              Professional Video Cameras      28\n",
       "Name: ID, dtype: int64"
      ]
     },
     "execution_count": 256,
     "metadata": {},
     "output_type": "execute_result"
    }
   ],
   "source": [
    "all_concat.groupby(['Leaf_Node', 'prediction_level3'])['ID'].count()\n"
   ]
  },
  {
   "cell_type": "code",
   "execution_count": 257,
   "metadata": {},
   "outputs": [
    {
     "name": "stdout",
     "output_type": "stream",
     "text": [
      "Confusion Matrix:\n",
      "                             ___________________________________________________________________________________________________________________________________________________________________________________________________________________________Prediction___________________________________________________________________________________________________________________________________________________________________________________________________________________________\n",
      "                                      360 Degree Cameras               Bridge Cameras                  Cam Corders     Common Use Video Cameras                         DSLR      Digital Compact Cameras                        Drone Full Frame Mirrorless Camera                      Instant           Mirrorless Cameras       Non 360 Degree Cameras NonFullFrameMirrorlessCamera                   Not Camera                Photo Devices        Point & Shoot Cameras   Professional Video Cameras\n",
      "          360 Degree Cameras                          19                            0                            0                            0                            0                            0                            0                            0                            0                            0                            2                            0                            0                            0                            0                            0\n",
      "              Bridge Cameras                           0                           42                            0                            0                            0                           14                            0                            0                            0                            0                            0                            0                            0                            0                            0                            0\n",
      "                 Cam Corders                           0                            0                            0                            0                            0                            0                            0                            0                            0                            0                            0                            0                            0                            0                            0                            0\n",
      "    Common Use Video Cameras                           0                            0                            0                           16                            0                            0                            0                            0                            0                            0                            0                            0                            0                            0                            0                            5\n",
      "                        DSLR                           0                            0                            0                            0                           61                            0                            0                            0                            0                            7                            0                            0                            0                            0                            4                            0\n",
      "     Digital Compact Cameras                           0                           10                            0                            0                            0                           48                            0                            0                            0                            0                            0                            0                            0                            0                            0                            0\n",
      "                       Drone                           2                            0                            0                            0                            0                            0                           12                            0                            0                            0                            1                            0                            0                            0                            0                            0\n",
      "Full Frame Mirrorless Camera                           0                            0                            0                            0                            0                            0                            0                           26                            0                            0                            0                            5                            0                            0                            0                            0\n",
      "                     Instant                           0                            1                            0                            0                            0                            2                            0                            0                           16                            0                            0                            0                            0                            0                            0                            0\n",
      "          Mirrorless Cameras                           0                            0                            0                            0                            0                            0                            0                            0                            0                            0                            0                            0                            0                            0                            0                            0\n",
      "      Non 360 Degree Cameras                           1                            0                            0                            0                            0                            0                            0                            0                            0                            0                           21                            0                            0                            0                            0                            0\n",
      "NonFullFrameMirrorlessCamera                           0                            0                            0                            0                            0                            0                            0                            5                            0                            0                            0                           45                            0                            0                            0                            0\n",
      "                  Not Camera                           0                            0                            5                            0                            0                            0                            0                            0                            0                            0                            0                            0                            8                            6                            0                            0\n",
      "               Photo Devices                           0                            0                            0                            0                            0                            0                            0                            0                            0                            0                            0                            0                            0                            0                            0                            0\n",
      "       Point & Shoot Cameras                           0                            0                            0                            0                            0                            0                            0                            0                            0                            0                            0                            0                            0                            0                            0                            0\n",
      "  Professional Video Cameras                           0                            0                            0                            4                            0                            0                            0                            0                            0                            0                            0                            0                            0                            0                            0                           28\n",
      "\n",
      "Accuracy Score:\n",
      "0.822115384615\n",
      "()\n",
      "Classification Report:\n",
      "                              precision    recall  f1-score   support\n",
      "\n",
      "          360 Degree Cameras       0.86      0.90      0.88        21\n",
      "              Bridge Cameras       0.79      0.75      0.77        56\n",
      "                 Cam Corders       0.00      0.00      0.00         0\n",
      "    Common Use Video Cameras       0.80      0.76      0.78        21\n",
      "                        DSLR       1.00      0.85      0.92        72\n",
      "     Digital Compact Cameras       0.75      0.83      0.79        58\n",
      "                       Drone       1.00      0.80      0.89        15\n",
      "Full Frame Mirrorless Camera       0.84      0.84      0.84        31\n",
      "                     Instant       1.00      0.84      0.91        19\n",
      "          Mirrorless Cameras       0.00      0.00      0.00         0\n",
      "      Non 360 Degree Cameras       0.88      0.95      0.91        22\n",
      "NonFullFrameMirrorlessCamera       0.90      0.90      0.90        50\n",
      "                  Not Camera       1.00      0.42      0.59        19\n",
      "               Photo Devices       0.00      0.00      0.00         0\n",
      "       Point & Shoot Cameras       0.00      0.00      0.00         0\n",
      "  Professional Video Cameras       0.85      0.88      0.86        32\n",
      "\n",
      "                 avg / total       0.88      0.82      0.84       416\n",
      "\n"
     ]
    }
   ],
   "source": [
    "analytics(all_concat['Leaf_Node'],all_concat['prediction_level3'])#y_level3_mi,target_prediction"
   ]
  },
  {
   "cell_type": "markdown",
   "metadata": {},
   "source": [
    "This is so far is our best model. So we are going to look at the positive and negative examples"
   ]
  },
  {
   "cell_type": "code",
   "execution_count": 258,
   "metadata": {
    "collapsed": true
   },
   "outputs": [],
   "source": [
    "Good_examples=df[df['Good Examples'].isnull()==False]"
   ]
  },
  {
   "cell_type": "code",
   "execution_count": 259,
   "metadata": {
    "collapsed": true
   },
   "outputs": [],
   "source": [
    "data_goodexamples=all_concat[['ID','Leaf_Node','Parent_node_1','Parent_node_2','prediction_level1','prediction_level2','prediction_level3']].merge(Good_examples[['ID','name']],on='ID',how='inner')"
   ]
  },
  {
   "cell_type": "code",
   "execution_count": 260,
   "metadata": {},
   "outputs": [
    {
     "data": {
      "text/html": [
       "<div>\n",
       "<style>\n",
       "    .dataframe thead tr:only-child th {\n",
       "        text-align: right;\n",
       "    }\n",
       "\n",
       "    .dataframe thead th {\n",
       "        text-align: left;\n",
       "    }\n",
       "\n",
       "    .dataframe tbody tr th {\n",
       "        vertical-align: top;\n",
       "    }\n",
       "</style>\n",
       "<table border=\"1\" class=\"dataframe\">\n",
       "  <thead>\n",
       "    <tr style=\"text-align: right;\">\n",
       "      <th></th>\n",
       "      <th>ID</th>\n",
       "      <th>Leaf_Node</th>\n",
       "      <th>Parent_node_1</th>\n",
       "      <th>Parent_node_2</th>\n",
       "      <th>prediction_level1</th>\n",
       "      <th>prediction_level2</th>\n",
       "      <th>prediction_level3</th>\n",
       "      <th>name</th>\n",
       "    </tr>\n",
       "  </thead>\n",
       "  <tbody>\n",
       "    <tr>\n",
       "      <th>0</th>\n",
       "      <td>uniquephoto-85c2020f9650504fc43f5a58a5b4b7cc</td>\n",
       "      <td>DSLR</td>\n",
       "      <td>Photo Devices</td>\n",
       "      <td>DSLR</td>\n",
       "      <td>Photo Devices</td>\n",
       "      <td>Mirrorless Cameras</td>\n",
       "      <td>Mirrorless Cameras</td>\n",
       "      <td>Sigma SD1 Merrill 46 MP CMOS Digital Camera (B...</td>\n",
       "    </tr>\n",
       "    <tr>\n",
       "      <th>1</th>\n",
       "      <td>cliftoncameras-7746bccf502f7b02bd8848c9ffc33358</td>\n",
       "      <td>DSLR</td>\n",
       "      <td>Photo Devices</td>\n",
       "      <td>DSLR</td>\n",
       "      <td>Photo Devices</td>\n",
       "      <td>DSLR</td>\n",
       "      <td>DSLR</td>\n",
       "      <td>Pentax 645Z Body Camera</td>\n",
       "    </tr>\n",
       "    <tr>\n",
       "      <th>2</th>\n",
       "      <td>park-0ee7097b16d6c11c4a3816ec3cb10d0d</td>\n",
       "      <td>DSLR</td>\n",
       "      <td>Photo Devices</td>\n",
       "      <td>DSLR</td>\n",
       "      <td>Photo Devices</td>\n",
       "      <td>DSLR</td>\n",
       "      <td>DSLR</td>\n",
       "      <td>Pentax 645Z + smc D-FA 645 55mm f/2.8</td>\n",
       "    </tr>\n",
       "    <tr>\n",
       "      <th>3</th>\n",
       "      <td>park-5f14cb6e3ae2570a735a14ca8b39f7ed</td>\n",
       "      <td>DSLR</td>\n",
       "      <td>Photo Devices</td>\n",
       "      <td>DSLR</td>\n",
       "      <td>Photo Devices</td>\n",
       "      <td>DSLR</td>\n",
       "      <td>DSLR</td>\n",
       "      <td>Sony Alpha a77 Mark II Digital SLR Camera- Body</td>\n",
       "    </tr>\n",
       "    <tr>\n",
       "      <th>4</th>\n",
       "      <td>park-760bab1030514154f9aa4f508d4fa6aa</td>\n",
       "      <td>DSLR</td>\n",
       "      <td>Photo Devices</td>\n",
       "      <td>DSLR</td>\n",
       "      <td>Photo Devices</td>\n",
       "      <td>DSLR</td>\n",
       "      <td>DSLR</td>\n",
       "      <td>Pentax 645Z Medium Format Camera - Body</td>\n",
       "    </tr>\n",
       "    <tr>\n",
       "      <th>5</th>\n",
       "      <td>park-be07b2b5aabaf28bbcaff1822ca22dce</td>\n",
       "      <td>DSLR</td>\n",
       "      <td>Photo Devices</td>\n",
       "      <td>DSLR</td>\n",
       "      <td>Photo Devices</td>\n",
       "      <td>Point &amp; Shoot Cameras</td>\n",
       "      <td>Point &amp; Shoot Cameras</td>\n",
       "      <td>Leica S (Typ 007)</td>\n",
       "    </tr>\n",
       "    <tr>\n",
       "      <th>6</th>\n",
       "      <td>robertscamera-0ea670a2897900c8fd545c80c7b25014</td>\n",
       "      <td>DSLR</td>\n",
       "      <td>Photo Devices</td>\n",
       "      <td>DSLR</td>\n",
       "      <td>Photo Devices</td>\n",
       "      <td>DSLR</td>\n",
       "      <td>DSLR</td>\n",
       "      <td>Pentax K-50 with 18-55mm and 50-200mm Lenses</td>\n",
       "    </tr>\n",
       "    <tr>\n",
       "      <th>7</th>\n",
       "      <td>robertscamera-21877c14fa4e328c3d898a325b791fae</td>\n",
       "      <td>DSLR</td>\n",
       "      <td>Photo Devices</td>\n",
       "      <td>DSLR</td>\n",
       "      <td>Cam Corders</td>\n",
       "      <td>Mirrorless Cameras</td>\n",
       "      <td>Mirrorless Cameras</td>\n",
       "      <td>Nikon D750 Filmmaker's Kit</td>\n",
       "    </tr>\n",
       "    <tr>\n",
       "      <th>8</th>\n",
       "      <td>newegg-74adc56efc327fc6ca540fbec894e36b</td>\n",
       "      <td>NonFullFrameMirrorlessCamera</td>\n",
       "      <td>Photo Devices</td>\n",
       "      <td>Mirrorless Cameras</td>\n",
       "      <td>Photo Devices</td>\n",
       "      <td>Point &amp; Shoot Cameras</td>\n",
       "      <td>NonFullFrameMirrorlessCamera</td>\n",
       "      <td>Panasonic LUMIX LX10 20.1MP Leica DC Optical Z...</td>\n",
       "    </tr>\n",
       "    <tr>\n",
       "      <th>9</th>\n",
       "      <td>park-5a96ded639e32dcb778cea3c568fbe4d</td>\n",
       "      <td>Full Frame Mirrorless Camera</td>\n",
       "      <td>Photo Devices</td>\n",
       "      <td>Mirrorless Cameras</td>\n",
       "      <td>Photo Devices</td>\n",
       "      <td>Mirrorless Cameras</td>\n",
       "      <td>Full Frame Mirrorless Camera</td>\n",
       "      <td>Hasselblad X1D-50c Medium Format Mirrorless Ca...</td>\n",
       "    </tr>\n",
       "    <tr>\n",
       "      <th>10</th>\n",
       "      <td>park-ba981adf9290549360a1d8f78e1da4ec</td>\n",
       "      <td>Full Frame Mirrorless Camera</td>\n",
       "      <td>Photo Devices</td>\n",
       "      <td>Mirrorless Cameras</td>\n",
       "      <td>Photo Devices</td>\n",
       "      <td>Point &amp; Shoot Cameras</td>\n",
       "      <td>Full Frame Mirrorless Camera</td>\n",
       "      <td>Leica M-A (Typ 127) Silver Chrome</td>\n",
       "    </tr>\n",
       "    <tr>\n",
       "      <th>11</th>\n",
       "      <td>park-c87743b33b20ffeba41b0cf0742a78b4</td>\n",
       "      <td>NonFullFrameMirrorlessCamera</td>\n",
       "      <td>Photo Devices</td>\n",
       "      <td>Mirrorless Cameras</td>\n",
       "      <td>Photo Devices</td>\n",
       "      <td>Point &amp; Shoot Cameras</td>\n",
       "      <td>NonFullFrameMirrorlessCamera</td>\n",
       "      <td>Panasonic GX7 + 14-42mm - Black</td>\n",
       "    </tr>\n",
       "    <tr>\n",
       "      <th>12</th>\n",
       "      <td>robertscamera-0c2735895bcff37d9721f730e4861ba0</td>\n",
       "      <td>NonFullFrameMirrorlessCamera</td>\n",
       "      <td>Photo Devices</td>\n",
       "      <td>Mirrorless Cameras</td>\n",
       "      <td>Photo Devices</td>\n",
       "      <td>Point &amp; Shoot Cameras</td>\n",
       "      <td>NonFullFrameMirrorlessCamera</td>\n",
       "      <td>Nikon 1 J5 with 10-30mm and 30-110mm</td>\n",
       "    </tr>\n",
       "    <tr>\n",
       "      <th>13</th>\n",
       "      <td>robertscamera-f2ba98c1c06550290bf4cb4717b67b32</td>\n",
       "      <td>NonFullFrameMirrorlessCamera</td>\n",
       "      <td>Photo Devices</td>\n",
       "      <td>Mirrorless Cameras</td>\n",
       "      <td>Photo Devices</td>\n",
       "      <td>DSLR</td>\n",
       "      <td>NonFullFrameMirrorlessCamera</td>\n",
       "      <td>Samsung NX30 with 18-55mm Lens</td>\n",
       "    </tr>\n",
       "    <tr>\n",
       "      <th>14</th>\n",
       "      <td>robertscamera-ede77a7805c17c236fbf71f4731a2200</td>\n",
       "      <td>NonFullFrameMirrorlessCamera</td>\n",
       "      <td>Photo Devices</td>\n",
       "      <td>Mirrorless Cameras</td>\n",
       "      <td>Photo Devices</td>\n",
       "      <td>Point &amp; Shoot Cameras</td>\n",
       "      <td>NonFullFrameMirrorlessCamera</td>\n",
       "      <td>Nikon 1 J5 with 10-30mm</td>\n",
       "    </tr>\n",
       "    <tr>\n",
       "      <th>15</th>\n",
       "      <td>cliftoncameras-39ac90617c2c2f80a42ba9e035e1cd83</td>\n",
       "      <td>Instant</td>\n",
       "      <td>Photo Devices</td>\n",
       "      <td>Point &amp; Shoot Cameras</td>\n",
       "      <td>Cam Corders</td>\n",
       "      <td>Point &amp; Shoot Cameras</td>\n",
       "      <td>Digital Compact Cameras</td>\n",
       "      <td>Insta 360 One</td>\n",
       "    </tr>\n",
       "    <tr>\n",
       "      <th>16</th>\n",
       "      <td>park-13d7870bf81303a59fdc69e87953527f</td>\n",
       "      <td>Bridge Cameras</td>\n",
       "      <td>Photo Devices</td>\n",
       "      <td>Point &amp; Shoot Cameras</td>\n",
       "      <td>Photo Devices</td>\n",
       "      <td>Point &amp; Shoot Cameras</td>\n",
       "      <td>Digital Compact Cameras</td>\n",
       "      <td>Sony DSC RX100 IV Compact Digital Camera</td>\n",
       "    </tr>\n",
       "    <tr>\n",
       "      <th>17</th>\n",
       "      <td>park-48fefe9f2e798387f1422e4895226460</td>\n",
       "      <td>Bridge Cameras</td>\n",
       "      <td>Photo Devices</td>\n",
       "      <td>Point &amp; Shoot Cameras</td>\n",
       "      <td>Photo Devices</td>\n",
       "      <td>Point &amp; Shoot Cameras</td>\n",
       "      <td>Bridge Cameras</td>\n",
       "      <td>Nikon Coolpix B700 Digital camera - Red</td>\n",
       "    </tr>\n",
       "    <tr>\n",
       "      <th>18</th>\n",
       "      <td>park-4e9ac528d704cc575b50ca649d58c51c</td>\n",
       "      <td>Bridge Cameras</td>\n",
       "      <td>Photo Devices</td>\n",
       "      <td>Point &amp; Shoot Cameras</td>\n",
       "      <td>Photo Devices</td>\n",
       "      <td>Point &amp; Shoot Cameras</td>\n",
       "      <td>Bridge Cameras</td>\n",
       "      <td>Sony DSC RX10 II - Refurbished</td>\n",
       "    </tr>\n",
       "    <tr>\n",
       "      <th>19</th>\n",
       "      <td>park-4f1f556faa7bb16ba3bc60bc2f1991b1</td>\n",
       "      <td>Bridge Cameras</td>\n",
       "      <td>Photo Devices</td>\n",
       "      <td>Point &amp; Shoot Cameras</td>\n",
       "      <td>Photo Devices</td>\n",
       "      <td>Point &amp; Shoot Cameras</td>\n",
       "      <td>Bridge Cameras</td>\n",
       "      <td>Leica V-LUX (Typ 114)</td>\n",
       "    </tr>\n",
       "    <tr>\n",
       "      <th>20</th>\n",
       "      <td>park-aaf9206b27fc66622e5cdd8928e51f6e</td>\n",
       "      <td>Bridge Cameras</td>\n",
       "      <td>Photo Devices</td>\n",
       "      <td>Point &amp; Shoot Cameras</td>\n",
       "      <td>Photo Devices</td>\n",
       "      <td>Point &amp; Shoot Cameras</td>\n",
       "      <td>Bridge Cameras</td>\n",
       "      <td>Nikon Coolpix B500 Plum</td>\n",
       "    </tr>\n",
       "    <tr>\n",
       "      <th>21</th>\n",
       "      <td>cliftoncameras-1ee963efcbb54d8fa1c016c84a0400a0</td>\n",
       "      <td>Drone</td>\n",
       "      <td>Cam Corders</td>\n",
       "      <td>Action Cameras</td>\n",
       "      <td>Cam Corders</td>\n",
       "      <td>Action Cameras</td>\n",
       "      <td>360 Degree Cameras</td>\n",
       "      <td>GoPro Karma Controller</td>\n",
       "    </tr>\n",
       "    <tr>\n",
       "      <th>22</th>\n",
       "      <td>uniquephoto-9e625578608c9434fc2557975b217f34</td>\n",
       "      <td>360 Degree Cameras</td>\n",
       "      <td>Cam Corders</td>\n",
       "      <td>Action Cameras</td>\n",
       "      <td>Cam Corders</td>\n",
       "      <td>Action Cameras</td>\n",
       "      <td>360 Degree Cameras</td>\n",
       "      <td>GoPro Fusion</td>\n",
       "    </tr>\n",
       "    <tr>\n",
       "      <th>23</th>\n",
       "      <td>walmart-71ce5c1c7fcfb85cd1f6d5c723c36a23</td>\n",
       "      <td>Drone</td>\n",
       "      <td>Cam Corders</td>\n",
       "      <td>Action Cameras</td>\n",
       "      <td>Photo Devices</td>\n",
       "      <td>Action Cameras</td>\n",
       "      <td>Non 360 Degree Cameras</td>\n",
       "      <td>Parrot Pf725005 Flypad</td>\n",
       "    </tr>\n",
       "    <tr>\n",
       "      <th>24</th>\n",
       "      <td>park-760c452da6bcae4d817c21acd165b763</td>\n",
       "      <td>360 Degree Cameras</td>\n",
       "      <td>Cam Corders</td>\n",
       "      <td>Action Cameras</td>\n",
       "      <td>Cam Corders</td>\n",
       "      <td>Action Cameras</td>\n",
       "      <td>360 Degree Cameras</td>\n",
       "      <td>360fly 4K 360 Degree Action Camera</td>\n",
       "    </tr>\n",
       "  </tbody>\n",
       "</table>\n",
       "</div>"
      ],
      "text/plain": [
       "                                                 ID  \\\n",
       "0      uniquephoto-85c2020f9650504fc43f5a58a5b4b7cc   \n",
       "1   cliftoncameras-7746bccf502f7b02bd8848c9ffc33358   \n",
       "2             park-0ee7097b16d6c11c4a3816ec3cb10d0d   \n",
       "3             park-5f14cb6e3ae2570a735a14ca8b39f7ed   \n",
       "4             park-760bab1030514154f9aa4f508d4fa6aa   \n",
       "5             park-be07b2b5aabaf28bbcaff1822ca22dce   \n",
       "6    robertscamera-0ea670a2897900c8fd545c80c7b25014   \n",
       "7    robertscamera-21877c14fa4e328c3d898a325b791fae   \n",
       "8           newegg-74adc56efc327fc6ca540fbec894e36b   \n",
       "9             park-5a96ded639e32dcb778cea3c568fbe4d   \n",
       "10            park-ba981adf9290549360a1d8f78e1da4ec   \n",
       "11            park-c87743b33b20ffeba41b0cf0742a78b4   \n",
       "12   robertscamera-0c2735895bcff37d9721f730e4861ba0   \n",
       "13   robertscamera-f2ba98c1c06550290bf4cb4717b67b32   \n",
       "14   robertscamera-ede77a7805c17c236fbf71f4731a2200   \n",
       "15  cliftoncameras-39ac90617c2c2f80a42ba9e035e1cd83   \n",
       "16            park-13d7870bf81303a59fdc69e87953527f   \n",
       "17            park-48fefe9f2e798387f1422e4895226460   \n",
       "18            park-4e9ac528d704cc575b50ca649d58c51c   \n",
       "19            park-4f1f556faa7bb16ba3bc60bc2f1991b1   \n",
       "20            park-aaf9206b27fc66622e5cdd8928e51f6e   \n",
       "21  cliftoncameras-1ee963efcbb54d8fa1c016c84a0400a0   \n",
       "22     uniquephoto-9e625578608c9434fc2557975b217f34   \n",
       "23         walmart-71ce5c1c7fcfb85cd1f6d5c723c36a23   \n",
       "24            park-760c452da6bcae4d817c21acd165b763   \n",
       "\n",
       "                       Leaf_Node  Parent_node_1          Parent_node_2  \\\n",
       "0                           DSLR  Photo Devices                   DSLR   \n",
       "1                           DSLR  Photo Devices                   DSLR   \n",
       "2                           DSLR  Photo Devices                   DSLR   \n",
       "3                           DSLR  Photo Devices                   DSLR   \n",
       "4                           DSLR  Photo Devices                   DSLR   \n",
       "5                           DSLR  Photo Devices                   DSLR   \n",
       "6                           DSLR  Photo Devices                   DSLR   \n",
       "7                           DSLR  Photo Devices                   DSLR   \n",
       "8   NonFullFrameMirrorlessCamera  Photo Devices     Mirrorless Cameras   \n",
       "9   Full Frame Mirrorless Camera  Photo Devices     Mirrorless Cameras   \n",
       "10  Full Frame Mirrorless Camera  Photo Devices     Mirrorless Cameras   \n",
       "11  NonFullFrameMirrorlessCamera  Photo Devices     Mirrorless Cameras   \n",
       "12  NonFullFrameMirrorlessCamera  Photo Devices     Mirrorless Cameras   \n",
       "13  NonFullFrameMirrorlessCamera  Photo Devices     Mirrorless Cameras   \n",
       "14  NonFullFrameMirrorlessCamera  Photo Devices     Mirrorless Cameras   \n",
       "15                       Instant  Photo Devices  Point & Shoot Cameras   \n",
       "16                Bridge Cameras  Photo Devices  Point & Shoot Cameras   \n",
       "17                Bridge Cameras  Photo Devices  Point & Shoot Cameras   \n",
       "18                Bridge Cameras  Photo Devices  Point & Shoot Cameras   \n",
       "19                Bridge Cameras  Photo Devices  Point & Shoot Cameras   \n",
       "20                Bridge Cameras  Photo Devices  Point & Shoot Cameras   \n",
       "21                         Drone    Cam Corders         Action Cameras   \n",
       "22            360 Degree Cameras    Cam Corders         Action Cameras   \n",
       "23                         Drone    Cam Corders         Action Cameras   \n",
       "24            360 Degree Cameras    Cam Corders         Action Cameras   \n",
       "\n",
       "   prediction_level1      prediction_level2             prediction_level3  \\\n",
       "0      Photo Devices     Mirrorless Cameras            Mirrorless Cameras   \n",
       "1      Photo Devices                   DSLR                          DSLR   \n",
       "2      Photo Devices                   DSLR                          DSLR   \n",
       "3      Photo Devices                   DSLR                          DSLR   \n",
       "4      Photo Devices                   DSLR                          DSLR   \n",
       "5      Photo Devices  Point & Shoot Cameras         Point & Shoot Cameras   \n",
       "6      Photo Devices                   DSLR                          DSLR   \n",
       "7        Cam Corders     Mirrorless Cameras            Mirrorless Cameras   \n",
       "8      Photo Devices  Point & Shoot Cameras  NonFullFrameMirrorlessCamera   \n",
       "9      Photo Devices     Mirrorless Cameras  Full Frame Mirrorless Camera   \n",
       "10     Photo Devices  Point & Shoot Cameras  Full Frame Mirrorless Camera   \n",
       "11     Photo Devices  Point & Shoot Cameras  NonFullFrameMirrorlessCamera   \n",
       "12     Photo Devices  Point & Shoot Cameras  NonFullFrameMirrorlessCamera   \n",
       "13     Photo Devices                   DSLR  NonFullFrameMirrorlessCamera   \n",
       "14     Photo Devices  Point & Shoot Cameras  NonFullFrameMirrorlessCamera   \n",
       "15       Cam Corders  Point & Shoot Cameras       Digital Compact Cameras   \n",
       "16     Photo Devices  Point & Shoot Cameras       Digital Compact Cameras   \n",
       "17     Photo Devices  Point & Shoot Cameras                Bridge Cameras   \n",
       "18     Photo Devices  Point & Shoot Cameras                Bridge Cameras   \n",
       "19     Photo Devices  Point & Shoot Cameras                Bridge Cameras   \n",
       "20     Photo Devices  Point & Shoot Cameras                Bridge Cameras   \n",
       "21       Cam Corders         Action Cameras            360 Degree Cameras   \n",
       "22       Cam Corders         Action Cameras            360 Degree Cameras   \n",
       "23     Photo Devices         Action Cameras        Non 360 Degree Cameras   \n",
       "24       Cam Corders         Action Cameras            360 Degree Cameras   \n",
       "\n",
       "                                                 name  \n",
       "0   Sigma SD1 Merrill 46 MP CMOS Digital Camera (B...  \n",
       "1                             Pentax 645Z Body Camera  \n",
       "2               Pentax 645Z + smc D-FA 645 55mm f/2.8  \n",
       "3     Sony Alpha a77 Mark II Digital SLR Camera- Body  \n",
       "4             Pentax 645Z Medium Format Camera - Body  \n",
       "5                                   Leica S (Typ 007)  \n",
       "6        Pentax K-50 with 18-55mm and 50-200mm Lenses  \n",
       "7                          Nikon D750 Filmmaker's Kit  \n",
       "8   Panasonic LUMIX LX10 20.1MP Leica DC Optical Z...  \n",
       "9   Hasselblad X1D-50c Medium Format Mirrorless Ca...  \n",
       "10                  Leica M-A (Typ 127) Silver Chrome  \n",
       "11                    Panasonic GX7 + 14-42mm - Black  \n",
       "12               Nikon 1 J5 with 10-30mm and 30-110mm  \n",
       "13                     Samsung NX30 with 18-55mm Lens  \n",
       "14                            Nikon 1 J5 with 10-30mm  \n",
       "15                                      Insta 360 One  \n",
       "16           Sony DSC RX100 IV Compact Digital Camera  \n",
       "17            Nikon Coolpix B700 Digital camera - Red  \n",
       "18                     Sony DSC RX10 II - Refurbished  \n",
       "19                              Leica V-LUX (Typ 114)  \n",
       "20                            Nikon Coolpix B500 Plum  \n",
       "21                             GoPro Karma Controller  \n",
       "22                                       GoPro Fusion  \n",
       "23                             Parrot Pf725005 Flypad  \n",
       "24                 360fly 4K 360 Degree Action Camera  "
      ]
     },
     "execution_count": 260,
     "metadata": {},
     "output_type": "execute_result"
    }
   ],
   "source": [
    "data_goodexamples"
   ]
  },
  {
   "cell_type": "markdown",
   "metadata": {},
   "source": [
    "#### Positive Examples:\n",
    "- cliftoncameras-7746bccf502f7b02bd8848c9ffc33358,park-0ee7097b16d6c11c4a3816ec3cb10d0d should be DSLR, even though in the name or the description there is no DSLR word, it still assigned DSLR\n",
    "- park-760bab1030514154f9aa4f508d4fa6aa has 'mediumformat' in the name but assigned as DSLR, which is the right assignment\n",
    "- park-5a96ded639e32dcb778cea3c568fbe4d has 'Mirrorless Cameras' in the name and it assigned as mirrorless cameras\n",
    "- park-5f14cb6e3ae2570a735a14ca8b39f7ed Sony Alpha a77 Mark II Digital SLR Camera- Body is DSLR and assigned DSLR"
   ]
  },
  {
   "cell_type": "markdown",
   "metadata": {},
   "source": [
    "#### Negative Examples:\n",
    "- uniquephoto-85c2020f9650504fc43f5a58a5b4b7cc should actually be a DSLR, but it is assigned 'Mirrorless Camera'\n",
    "- Nikon D750 Filmmaker's Kit should be assigned as Camcorders, but it assigned as 'Mirrorless'\n",
    "- Drones are assigned as 360 Degree Cameras (cliftoncameras-1ee963efcbb54d8fa1c016c84a0400a0). Probably in the description there is the '360' degree word."
   ]
  },
  {
   "cell_type": "markdown",
   "metadata": {},
   "source": [
    "# 4. Modeling including other variables(Nearest Centroid):"
   ]
  },
  {
   "cell_type": "markdown",
   "metadata": {},
   "source": [
    "### Level 1"
   ]
  },
  {
   "cell_type": "code",
   "execution_count": 261,
   "metadata": {
    "collapsed": true
   },
   "outputs": [],
   "source": [
    "from sklearn import linear_model, datasets\n",
    "from sklearn.model_selection import GridSearchCV"
   ]
  },
  {
   "cell_type": "code",
   "execution_count": 262,
   "metadata": {
    "collapsed": true
   },
   "outputs": [],
   "source": [
    "X_level1=model2.drop(['ID','Parent_node_1','Parent_node_2','Leaf_Node','prediction_level1'],axis=1)\n",
    "y_level1=model2['Parent_node_1']"
   ]
  },
  {
   "cell_type": "code",
   "execution_count": 263,
   "metadata": {},
   "outputs": [
    {
     "data": {
      "text/html": [
       "<div>\n",
       "<style>\n",
       "    .dataframe thead tr:only-child th {\n",
       "        text-align: right;\n",
       "    }\n",
       "\n",
       "    .dataframe thead th {\n",
       "        text-align: left;\n",
       "    }\n",
       "\n",
       "    .dataframe tbody tr th {\n",
       "        vertical-align: top;\n",
       "    }\n",
       "</style>\n",
       "<table border=\"1\" class=\"dataframe\">\n",
       "  <thead>\n",
       "    <tr style=\"text-align: right;\">\n",
       "      <th></th>\n",
       "      <th>price</th>\n",
       "      <th>360fly_x</th>\n",
       "      <th>6Ave</th>\n",
       "      <th>Air Hogs</th>\n",
       "      <th>AmazingForLess</th>\n",
       "      <th>Axess Products</th>\n",
       "      <th>Bell+Howell</th>\n",
       "      <th>BlackMagic</th>\n",
       "      <th>Blackmagic</th>\n",
       "      <th>Blackmagic Design</th>\n",
       "      <th>...</th>\n",
       "      <th>wifi</th>\n",
       "      <th>controller</th>\n",
       "      <th>x70</th>\n",
       "      <th>eos</th>\n",
       "      <th>hx400</th>\n",
       "      <th>karma</th>\n",
       "      <th>fz43</th>\n",
       "      <th>deluxe</th>\n",
       "      <th>cpt</th>\n",
       "      <th>dvr</th>\n",
       "    </tr>\n",
       "  </thead>\n",
       "  <tbody>\n",
       "    <tr>\n",
       "      <th>0</th>\n",
       "      <td>479.0</td>\n",
       "      <td>0</td>\n",
       "      <td>0</td>\n",
       "      <td>0</td>\n",
       "      <td>0</td>\n",
       "      <td>0</td>\n",
       "      <td>0</td>\n",
       "      <td>0</td>\n",
       "      <td>0</td>\n",
       "      <td>0</td>\n",
       "      <td>...</td>\n",
       "      <td>0</td>\n",
       "      <td>0</td>\n",
       "      <td>0</td>\n",
       "      <td>0</td>\n",
       "      <td>0</td>\n",
       "      <td>0</td>\n",
       "      <td>0</td>\n",
       "      <td>0</td>\n",
       "      <td>0</td>\n",
       "      <td>0</td>\n",
       "    </tr>\n",
       "    <tr>\n",
       "      <th>1</th>\n",
       "      <td>539.0</td>\n",
       "      <td>0</td>\n",
       "      <td>0</td>\n",
       "      <td>0</td>\n",
       "      <td>0</td>\n",
       "      <td>0</td>\n",
       "      <td>0</td>\n",
       "      <td>0</td>\n",
       "      <td>0</td>\n",
       "      <td>0</td>\n",
       "      <td>...</td>\n",
       "      <td>0</td>\n",
       "      <td>0</td>\n",
       "      <td>0</td>\n",
       "      <td>0</td>\n",
       "      <td>0</td>\n",
       "      <td>0</td>\n",
       "      <td>0</td>\n",
       "      <td>0</td>\n",
       "      <td>0</td>\n",
       "      <td>0</td>\n",
       "    </tr>\n",
       "    <tr>\n",
       "      <th>2</th>\n",
       "      <td>3249.0</td>\n",
       "      <td>0</td>\n",
       "      <td>0</td>\n",
       "      <td>0</td>\n",
       "      <td>0</td>\n",
       "      <td>0</td>\n",
       "      <td>0</td>\n",
       "      <td>0</td>\n",
       "      <td>0</td>\n",
       "      <td>0</td>\n",
       "      <td>...</td>\n",
       "      <td>0</td>\n",
       "      <td>0</td>\n",
       "      <td>0</td>\n",
       "      <td>0</td>\n",
       "      <td>0</td>\n",
       "      <td>0</td>\n",
       "      <td>0</td>\n",
       "      <td>0</td>\n",
       "      <td>0</td>\n",
       "      <td>0</td>\n",
       "    </tr>\n",
       "    <tr>\n",
       "      <th>3</th>\n",
       "      <td>1349.0</td>\n",
       "      <td>0</td>\n",
       "      <td>0</td>\n",
       "      <td>0</td>\n",
       "      <td>0</td>\n",
       "      <td>0</td>\n",
       "      <td>0</td>\n",
       "      <td>0</td>\n",
       "      <td>0</td>\n",
       "      <td>0</td>\n",
       "      <td>...</td>\n",
       "      <td>0</td>\n",
       "      <td>0</td>\n",
       "      <td>0</td>\n",
       "      <td>0</td>\n",
       "      <td>0</td>\n",
       "      <td>0</td>\n",
       "      <td>0</td>\n",
       "      <td>0</td>\n",
       "      <td>0</td>\n",
       "      <td>0</td>\n",
       "    </tr>\n",
       "    <tr>\n",
       "      <th>4</th>\n",
       "      <td>449.0</td>\n",
       "      <td>0</td>\n",
       "      <td>0</td>\n",
       "      <td>0</td>\n",
       "      <td>0</td>\n",
       "      <td>0</td>\n",
       "      <td>0</td>\n",
       "      <td>0</td>\n",
       "      <td>0</td>\n",
       "      <td>0</td>\n",
       "      <td>...</td>\n",
       "      <td>0</td>\n",
       "      <td>0</td>\n",
       "      <td>0</td>\n",
       "      <td>0</td>\n",
       "      <td>0</td>\n",
       "      <td>0</td>\n",
       "      <td>1</td>\n",
       "      <td>0</td>\n",
       "      <td>0</td>\n",
       "      <td>0</td>\n",
       "    </tr>\n",
       "  </tbody>\n",
       "</table>\n",
       "<p>5 rows × 953 columns</p>\n",
       "</div>"
      ],
      "text/plain": [
       "    price  360fly_x  6Ave  Air Hogs  AmazingForLess  Axess Products  \\\n",
       "0   479.0         0     0         0               0               0   \n",
       "1   539.0         0     0         0               0               0   \n",
       "2  3249.0         0     0         0               0               0   \n",
       "3  1349.0         0     0         0               0               0   \n",
       "4   449.0         0     0         0               0               0   \n",
       "\n",
       "   Bell+Howell  BlackMagic  Blackmagic  Blackmagic Design ...   wifi  \\\n",
       "0            0           0           0                  0 ...      0   \n",
       "1            0           0           0                  0 ...      0   \n",
       "2            0           0           0                  0 ...      0   \n",
       "3            0           0           0                  0 ...      0   \n",
       "4            0           0           0                  0 ...      0   \n",
       "\n",
       "   controller  x70  eos  hx400  karma  fz43  deluxe  cpt  dvr  \n",
       "0           0    0    0      0      0     0       0    0    0  \n",
       "1           0    0    0      0      0     0       0    0    0  \n",
       "2           0    0    0      0      0     0       0    0    0  \n",
       "3           0    0    0      0      0     0       0    0    0  \n",
       "4           0    0    0      0      0     1       0    0    0  \n",
       "\n",
       "[5 rows x 953 columns]"
      ]
     },
     "execution_count": 263,
     "metadata": {},
     "output_type": "execute_result"
    }
   ],
   "source": [
    "X_level1.head()"
   ]
  },
  {
   "cell_type": "code",
   "execution_count": 264,
   "metadata": {
    "collapsed": true
   },
   "outputs": [],
   "source": [
    "from sklearn.neighbors.nearest_centroid import NearestCentroid\n",
    "logreg = NearestCentroid()\n",
    "cv = StratifiedKFold(n_splits=5, shuffle=True, random_state=42)\n",
    "target_prediction = cross_val_predict(logreg, X_level1, y_level1, cv=cv)"
   ]
  },
  {
   "cell_type": "code",
   "execution_count": 265,
   "metadata": {},
   "outputs": [
    {
     "name": "stdout",
     "output_type": "stream",
     "text": [
      "Confusion Matrix:\n",
      "              ______________Prediction_______________\n",
      "               Cam Corders    Not Camera Photo Devices\n",
      "  Cam Corders           37            64            10\n",
      "   Not Camera            1            17             1\n",
      "Photo Devices           77           138            71\n",
      "\n",
      "Accuracy Score:\n",
      "0.300480769231\n",
      "()\n",
      "Classification Report:\n",
      "               precision    recall  f1-score   support\n",
      "\n",
      "  Cam Corders       0.32      0.33      0.33       111\n",
      "   Not Camera       0.08      0.89      0.14        19\n",
      "Photo Devices       0.87      0.25      0.39       286\n",
      "\n",
      "  avg / total       0.68      0.30      0.36       416\n",
      "\n"
     ]
    }
   ],
   "source": [
    "analytics(y_level1,target_prediction)"
   ]
  },
  {
   "cell_type": "code",
   "execution_count": 266,
   "metadata": {
    "collapsed": true
   },
   "outputs": [],
   "source": [
    "model2['prediction_level1']=target_prediction"
   ]
  },
  {
   "cell_type": "markdown",
   "metadata": {},
   "source": [
    "### Level 2"
   ]
  },
  {
   "cell_type": "markdown",
   "metadata": {},
   "source": [
    "#### Camcorders"
   ]
  },
  {
   "cell_type": "code",
   "execution_count": 267,
   "metadata": {
    "collapsed": true
   },
   "outputs": [],
   "source": [
    "level2_train=bags_words[bags_words['Parent_node_1']=='Cam Corders'] #this includes wrongly assigned instances"
   ]
  },
  {
   "cell_type": "code",
   "execution_count": 268,
   "metadata": {
    "collapsed": true
   },
   "outputs": [],
   "source": [
    "X_level2=level2_train.drop(['ID','Parent_node_1','Parent_node_2','Leaf_Node','prediction_level1'],axis=1)\n",
    "y_level2=level2_train['Parent_node_2']"
   ]
  },
  {
   "cell_type": "code",
   "execution_count": 269,
   "metadata": {
    "collapsed": true
   },
   "outputs": [],
   "source": [
    "from sklearn.neighbors.nearest_centroid import NearestCentroid\n",
    "logreg = NearestCentroid()\n",
    "cv = StratifiedKFold(n_splits=5, shuffle=True, random_state=42)\n",
    "target_prediction = cross_val_predict(logreg, X_level2, y_level2, cv=cv)"
   ]
  },
  {
   "cell_type": "code",
   "execution_count": 270,
   "metadata": {},
   "outputs": [
    {
     "name": "stdout",
     "output_type": "stream",
     "text": [
      "Confusion Matrix:\n",
      "                          ____________________Prediction____________________\n",
      "                                    Action Cameras Traditional Video Cameras\n",
      "           Action Cameras                       54                         4\n",
      "Traditional Video Cameras                        3                        50\n",
      "\n",
      "Accuracy Score:\n",
      "0.936936936937\n",
      "()\n",
      "Classification Report:\n",
      "                           precision    recall  f1-score   support\n",
      "\n",
      "           Action Cameras       0.95      0.93      0.94        58\n",
      "Traditional Video Cameras       0.93      0.94      0.93        53\n",
      "\n",
      "              avg / total       0.94      0.94      0.94       111\n",
      "\n"
     ]
    }
   ],
   "source": [
    "analytics(y_level2,target_prediction) #real value vs. predicted values"
   ]
  },
  {
   "cell_type": "code",
   "execution_count": 271,
   "metadata": {},
   "outputs": [
    {
     "name": "stderr",
     "output_type": "stream",
     "text": [
      "/Users/bengikoseoglu/anaconda2/lib/python2.7/site-packages/ipykernel_launcher.py:1: SettingWithCopyWarning:\n",
      "\n",
      "\n",
      "A value is trying to be set on a copy of a slice from a DataFrame.\n",
      "Try using .loc[row_indexer,col_indexer] = value instead\n",
      "\n",
      "See the caveats in the documentation: http://pandas.pydata.org/pandas-docs/stable/indexing.html#indexing-view-versus-copy\n",
      "\n"
     ]
    }
   ],
   "source": [
    "level2_train['prediction_level2']=target_prediction"
   ]
  },
  {
   "cell_type": "markdown",
   "metadata": {},
   "source": [
    "##### 1. Traditional Video Cameras"
   ]
  },
  {
   "cell_type": "code",
   "execution_count": 272,
   "metadata": {
    "collapsed": true
   },
   "outputs": [],
   "source": [
    "#prediction_level2_camcorders\n",
    "level3_train=level2_train[level2_train['Parent_node_2']=='Traditional Video Cameras']"
   ]
  },
  {
   "cell_type": "code",
   "execution_count": 273,
   "metadata": {
    "collapsed": true
   },
   "outputs": [],
   "source": [
    "X_level3=level3_train.drop(['ID','Parent_node_1','Parent_node_2','Leaf_Node','prediction_level1','prediction_level2'],axis=1)\n",
    "y_level3=level3_train['Leaf_Node']"
   ]
  },
  {
   "cell_type": "code",
   "execution_count": 274,
   "metadata": {
    "collapsed": true
   },
   "outputs": [],
   "source": [
    "from sklearn.neighbors.nearest_centroid import NearestCentroid\n",
    "logreg = NearestCentroid()\n",
    "cv = StratifiedKFold(n_splits=5, shuffle=True, random_state=42)\n",
    "target_prediction = cross_val_predict(logreg, X_level3, y_level3, cv=cv)"
   ]
  },
  {
   "cell_type": "code",
   "execution_count": 275,
   "metadata": {},
   "outputs": [
    {
     "name": "stdout",
     "output_type": "stream",
     "text": [
      "Confusion Matrix:\n",
      "                           _____________________Prediction_____________________\n",
      "                            Common Use Video Cameras Professional Video Cameras\n",
      "  Common Use Video Cameras                         8                         13\n",
      "Professional Video Cameras                         5                         27\n",
      "\n",
      "Accuracy Score:\n",
      "0.660377358491\n",
      "()\n",
      "Classification Report:\n",
      "                            precision    recall  f1-score   support\n",
      "\n",
      "  Common Use Video Cameras       0.62      0.38      0.47        21\n",
      "Professional Video Cameras       0.68      0.84      0.75        32\n",
      "\n",
      "               avg / total       0.65      0.66      0.64        53\n",
      "\n"
     ]
    }
   ],
   "source": [
    "analytics(y_level3,target_prediction) #analytics(y_level2,target_prediction) #real value vs. predicted values"
   ]
  },
  {
   "cell_type": "code",
   "execution_count": 276,
   "metadata": {},
   "outputs": [
    {
     "name": "stderr",
     "output_type": "stream",
     "text": [
      "/Users/bengikoseoglu/anaconda2/lib/python2.7/site-packages/ipykernel_launcher.py:1: SettingWithCopyWarning:\n",
      "\n",
      "\n",
      "A value is trying to be set on a copy of a slice from a DataFrame.\n",
      "Try using .loc[row_indexer,col_indexer] = value instead\n",
      "\n",
      "See the caveats in the documentation: http://pandas.pydata.org/pandas-docs/stable/indexing.html#indexing-view-versus-copy\n",
      "\n"
     ]
    }
   ],
   "source": [
    "level3_train['prediction_level3']=target_prediction"
   ]
  },
  {
   "cell_type": "markdown",
   "metadata": {},
   "source": [
    "##### 2. Action Video Cameras"
   ]
  },
  {
   "cell_type": "code",
   "execution_count": 277,
   "metadata": {
    "collapsed": true
   },
   "outputs": [],
   "source": [
    "#prediction_level2_camcorders\n",
    "level3_train_actioncameras=level2_train[level2_train['Parent_node_2']=='Action Cameras']"
   ]
  },
  {
   "cell_type": "code",
   "execution_count": 278,
   "metadata": {
    "collapsed": true
   },
   "outputs": [],
   "source": [
    "X_level3_ac=level3_train_actioncameras.drop(['ID','Parent_node_1','Parent_node_2','Leaf_Node','prediction_level1','prediction_level2'],axis=1)\n",
    "y_level3_ac=level3_train_actioncameras['Leaf_Node']"
   ]
  },
  {
   "cell_type": "code",
   "execution_count": 279,
   "metadata": {
    "collapsed": true
   },
   "outputs": [],
   "source": [
    "from sklearn.neighbors.nearest_centroid import NearestCentroid\n",
    "logreg = NearestCentroid()\n",
    "cv = StratifiedKFold(n_splits=5, shuffle=True, random_state=42)\n",
    "target_prediction = cross_val_predict(logreg, X_level3_ac, y_level3_ac, cv=cv)"
   ]
  },
  {
   "cell_type": "code",
   "execution_count": 280,
   "metadata": {},
   "outputs": [
    {
     "name": "stdout",
     "output_type": "stream",
     "text": [
      "Confusion Matrix:\n",
      "                       ____________________________Prediction____________________________\n",
      "                          360 Degree Cameras                  Drone Non 360 Degree Cameras\n",
      "    360 Degree Cameras                    20                      0                      1\n",
      "                 Drone                     1                     13                      1\n",
      "Non 360 Degree Cameras                     8                      1                     13\n",
      "\n",
      "Accuracy Score:\n",
      "0.793103448276\n",
      "()\n",
      "Classification Report:\n",
      "                        precision    recall  f1-score   support\n",
      "\n",
      "    360 Degree Cameras       0.69      0.95      0.80        21\n",
      "                 Drone       0.93      0.87      0.90        15\n",
      "Non 360 Degree Cameras       0.87      0.59      0.70        22\n",
      "\n",
      "           avg / total       0.82      0.79      0.79        58\n",
      "\n"
     ]
    }
   ],
   "source": [
    "analytics(y_level3_ac,target_prediction)"
   ]
  },
  {
   "cell_type": "code",
   "execution_count": 281,
   "metadata": {},
   "outputs": [
    {
     "name": "stderr",
     "output_type": "stream",
     "text": [
      "/Users/bengikoseoglu/anaconda2/lib/python2.7/site-packages/ipykernel_launcher.py:1: SettingWithCopyWarning:\n",
      "\n",
      "\n",
      "A value is trying to be set on a copy of a slice from a DataFrame.\n",
      "Try using .loc[row_indexer,col_indexer] = value instead\n",
      "\n",
      "See the caveats in the documentation: http://pandas.pydata.org/pandas-docs/stable/indexing.html#indexing-view-versus-copy\n",
      "\n"
     ]
    }
   ],
   "source": [
    "level3_train_actioncameras['prediction_level3']=target_prediction"
   ]
  },
  {
   "cell_type": "markdown",
   "metadata": {},
   "source": [
    "### Cameras"
   ]
  },
  {
   "cell_type": "code",
   "execution_count": 282,
   "metadata": {
    "collapsed": true
   },
   "outputs": [],
   "source": [
    "level2_train_cam=bags_words[bags_words['Parent_node_1']=='Photo Devices']"
   ]
  },
  {
   "cell_type": "code",
   "execution_count": 283,
   "metadata": {
    "collapsed": true
   },
   "outputs": [],
   "source": [
    "X_level2_cam=level2_train_cam.drop(['ID','Parent_node_1','Parent_node_2','Leaf_Node','prediction_level1'],axis=1)\n",
    "y_level2_cam=level2_train_cam['Parent_node_2']"
   ]
  },
  {
   "cell_type": "code",
   "execution_count": 284,
   "metadata": {
    "collapsed": true
   },
   "outputs": [],
   "source": [
    "from sklearn.neighbors.nearest_centroid import NearestCentroid\n",
    "logreg = NearestCentroid()\n",
    "cv = StratifiedKFold(n_splits=5, shuffle=True, random_state=42)\n",
    "target_prediction = cross_val_predict(logreg, X_level2_cam, y_level2_cam, cv=cv)"
   ]
  },
  {
   "cell_type": "code",
   "execution_count": 285,
   "metadata": {},
   "outputs": [
    {
     "name": "stdout",
     "output_type": "stream",
     "text": [
      "Confusion Matrix:\n",
      "                      __________________________Prediction___________________________\n",
      "                                      DSLR    Mirrorless Cameras Point & Shoot Cameras\n",
      "                 DSLR                   55                     5                    12\n",
      "   Mirrorless Cameras                    4                    58                    19\n",
      "Point & Shoot Cameras                    1                     4                   128\n",
      "\n",
      "Accuracy Score:\n",
      "0.842657342657\n",
      "()\n",
      "Classification Report:\n",
      "                       precision    recall  f1-score   support\n",
      "\n",
      "                 DSLR       0.92      0.76      0.83        72\n",
      "   Mirrorless Cameras       0.87      0.72      0.78        81\n",
      "Point & Shoot Cameras       0.81      0.96      0.88       133\n",
      "\n",
      "          avg / total       0.85      0.84      0.84       286\n",
      "\n"
     ]
    }
   ],
   "source": [
    "analytics(y_level2_cam,target_prediction) #"
   ]
  },
  {
   "cell_type": "code",
   "execution_count": 286,
   "metadata": {},
   "outputs": [
    {
     "name": "stderr",
     "output_type": "stream",
     "text": [
      "/Users/bengikoseoglu/anaconda2/lib/python2.7/site-packages/ipykernel_launcher.py:1: SettingWithCopyWarning:\n",
      "\n",
      "\n",
      "A value is trying to be set on a copy of a slice from a DataFrame.\n",
      "Try using .loc[row_indexer,col_indexer] = value instead\n",
      "\n",
      "See the caveats in the documentation: http://pandas.pydata.org/pandas-docs/stable/indexing.html#indexing-view-versus-copy\n",
      "\n"
     ]
    }
   ],
   "source": [
    "level2_train_cam['prediction_level2']=target_prediction"
   ]
  },
  {
   "cell_type": "markdown",
   "metadata": {},
   "source": [
    "#### 1. Point & Shoot Cameras"
   ]
  },
  {
   "cell_type": "code",
   "execution_count": 287,
   "metadata": {
    "collapsed": true
   },
   "outputs": [],
   "source": [
    "#prediction_level2_camcorders\n",
    "level3_train_pocam=level2_train_cam[level2_train_cam['Parent_node_2']=='Point & Shoot Cameras']"
   ]
  },
  {
   "cell_type": "code",
   "execution_count": 288,
   "metadata": {
    "collapsed": true
   },
   "outputs": [],
   "source": [
    "X_level3_po=level3_train_pocam.drop(['ID','Parent_node_1','Parent_node_2','Leaf_Node','prediction_level1','prediction_level2'],axis=1)\n",
    "y_level3_po=level3_train_pocam['Leaf_Node']"
   ]
  },
  {
   "cell_type": "code",
   "execution_count": 289,
   "metadata": {
    "collapsed": true
   },
   "outputs": [],
   "source": [
    "from sklearn.neighbors.nearest_centroid import NearestCentroid\n",
    "logreg = NearestCentroid()\n",
    "cv = StratifiedKFold(n_splits=5, shuffle=True, random_state=42)\n",
    "target_prediction = cross_val_predict(logreg, X_level3_po, y_level3_po, cv=cv)"
   ]
  },
  {
   "cell_type": "code",
   "execution_count": 290,
   "metadata": {},
   "outputs": [
    {
     "name": "stdout",
     "output_type": "stream",
     "text": [
      "Confusion Matrix:\n",
      "                        _____________________________Prediction______________________________\n",
      "                                Bridge Cameras Digital Compact Cameras                 Instant\n",
      "         Bridge Cameras                     41                      15                       0\n",
      "Digital Compact Cameras                     24                      33                       1\n",
      "                Instant                      2                       2                      15\n",
      "\n",
      "Accuracy Score:\n",
      "0.669172932331\n",
      "()\n",
      "Classification Report:\n",
      "                         precision    recall  f1-score   support\n",
      "\n",
      "         Bridge Cameras       0.61      0.73      0.67        56\n",
      "Digital Compact Cameras       0.66      0.57      0.61        58\n",
      "                Instant       0.94      0.79      0.86        19\n",
      "\n",
      "            avg / total       0.68      0.67      0.67       133\n",
      "\n"
     ]
    }
   ],
   "source": [
    "analytics(y_level3_po,target_prediction)"
   ]
  },
  {
   "cell_type": "code",
   "execution_count": 291,
   "metadata": {},
   "outputs": [
    {
     "name": "stderr",
     "output_type": "stream",
     "text": [
      "/Users/bengikoseoglu/anaconda2/lib/python2.7/site-packages/ipykernel_launcher.py:1: SettingWithCopyWarning:\n",
      "\n",
      "\n",
      "A value is trying to be set on a copy of a slice from a DataFrame.\n",
      "Try using .loc[row_indexer,col_indexer] = value instead\n",
      "\n",
      "See the caveats in the documentation: http://pandas.pydata.org/pandas-docs/stable/indexing.html#indexing-view-versus-copy\n",
      "\n"
     ]
    }
   ],
   "source": [
    "level3_train_pocam['prediction_level3']=target_prediction"
   ]
  },
  {
   "cell_type": "markdown",
   "metadata": {},
   "source": [
    "#### 2. Mirrorless Cameras"
   ]
  },
  {
   "cell_type": "code",
   "execution_count": 292,
   "metadata": {
    "collapsed": true
   },
   "outputs": [],
   "source": [
    "#prediction_level2_camcorders\n",
    "level3_train_miror=level2_train_cam[level2_train_cam['Parent_node_2']=='Mirrorless Cameras']\n",
    "X_level3_mi=level3_train_miror.drop(['ID','Parent_node_1','Parent_node_2','Leaf_Node','prediction_level1','prediction_level2'],axis=1)\n",
    "y_level3_mi=level3_train_miror['Leaf_Node']"
   ]
  },
  {
   "cell_type": "code",
   "execution_count": 293,
   "metadata": {
    "collapsed": true
   },
   "outputs": [],
   "source": [
    "from sklearn.neighbors.nearest_centroid import NearestCentroid\n",
    "logreg = NearestCentroid()\n",
    "cv = StratifiedKFold(n_splits=5, shuffle=True, random_state=42)\n",
    "target_prediction = cross_val_predict(logreg, X_level3_mi, y_level3_mi, cv=cv)"
   ]
  },
  {
   "cell_type": "code",
   "execution_count": 294,
   "metadata": {},
   "outputs": [
    {
     "name": "stdout",
     "output_type": "stream",
     "text": [
      "Confusion Matrix:\n",
      "                             _______________________Prediction_______________________\n",
      "                            Full Frame Mirrorless Camera NonFullFrameMirrorlessCamera\n",
      "Full Frame Mirrorless Camera                          23                            8\n",
      "NonFullFrameMirrorlessCamera                           6                           44\n",
      "\n",
      "Accuracy Score:\n",
      "0.827160493827\n",
      "()\n",
      "Classification Report:\n",
      "                              precision    recall  f1-score   support\n",
      "\n",
      "Full Frame Mirrorless Camera       0.79      0.74      0.77        31\n",
      "NonFullFrameMirrorlessCamera       0.85      0.88      0.86        50\n",
      "\n",
      "                 avg / total       0.83      0.83      0.83        81\n",
      "\n"
     ]
    }
   ],
   "source": [
    "analytics(y_level3_mi,target_prediction)"
   ]
  },
  {
   "cell_type": "code",
   "execution_count": 295,
   "metadata": {},
   "outputs": [
    {
     "name": "stderr",
     "output_type": "stream",
     "text": [
      "/Users/bengikoseoglu/anaconda2/lib/python2.7/site-packages/ipykernel_launcher.py:1: SettingWithCopyWarning:\n",
      "\n",
      "\n",
      "A value is trying to be set on a copy of a slice from a DataFrame.\n",
      "Try using .loc[row_indexer,col_indexer] = value instead\n",
      "\n",
      "See the caveats in the documentation: http://pandas.pydata.org/pandas-docs/stable/indexing.html#indexing-view-versus-copy\n",
      "\n"
     ]
    }
   ],
   "source": [
    "level3_train_miror['prediction_level3']=target_prediction"
   ]
  },
  {
   "cell_type": "markdown",
   "metadata": {},
   "source": [
    "### COMBINING ALL"
   ]
  },
  {
   "cell_type": "code",
   "execution_count": 296,
   "metadata": {},
   "outputs": [
    {
     "name": "stderr",
     "output_type": "stream",
     "text": [
      "/Users/bengikoseoglu/anaconda2/lib/python2.7/site-packages/ipykernel_launcher.py:2: SettingWithCopyWarning:\n",
      "\n",
      "\n",
      "A value is trying to be set on a copy of a slice from a DataFrame.\n",
      "Try using .loc[row_indexer,col_indexer] = value instead\n",
      "\n",
      "See the caveats in the documentation: http://pandas.pydata.org/pandas-docs/stable/indexing.html#indexing-view-versus-copy\n",
      "\n"
     ]
    }
   ],
   "source": [
    "level3_dslr=level2_train_cam[level2_train_cam['Parent_node_2']=='DSLR']\n",
    "level3_dslr['prediction_level3']=level3_dslr['prediction_level2']"
   ]
  },
  {
   "cell_type": "code",
   "execution_count": 298,
   "metadata": {},
   "outputs": [
    {
     "name": "stderr",
     "output_type": "stream",
     "text": [
      "/Users/bengikoseoglu/anaconda2/lib/python2.7/site-packages/ipykernel_launcher.py:2: SettingWithCopyWarning:\n",
      "\n",
      "\n",
      "A value is trying to be set on a copy of a slice from a DataFrame.\n",
      "Try using .loc[row_indexer,col_indexer] = value instead\n",
      "\n",
      "See the caveats in the documentation: http://pandas.pydata.org/pandas-docs/stable/indexing.html#indexing-view-versus-copy\n",
      "\n",
      "/Users/bengikoseoglu/anaconda2/lib/python2.7/site-packages/ipykernel_launcher.py:3: SettingWithCopyWarning:\n",
      "\n",
      "\n",
      "A value is trying to be set on a copy of a slice from a DataFrame.\n",
      "Try using .loc[row_indexer,col_indexer] = value instead\n",
      "\n",
      "See the caveats in the documentation: http://pandas.pydata.org/pandas-docs/stable/indexing.html#indexing-view-versus-copy\n",
      "\n"
     ]
    }
   ],
   "source": [
    "level3_nocamera=bags_words[bags_words['Parent_node_1']=='Not Camera']\n",
    "level3_nocamera['prediction_level2']=level3_nocamera['prediction_level1']\n",
    "level3_nocamera['prediction_level3']=level3_nocamera['prediction_level1']"
   ]
  },
  {
   "cell_type": "code",
   "execution_count": 299,
   "metadata": {
    "collapsed": true
   },
   "outputs": [],
   "source": [
    "all_concat=pd.concat([level3_dslr,level3_nocamera,level3_train_miror,level3_train_pocam,level3_train_actioncameras,level3_train])"
   ]
  },
  {
   "cell_type": "code",
   "execution_count": 300,
   "metadata": {},
   "outputs": [
    {
     "data": {
      "text/plain": [
       "(416, 882)"
      ]
     },
     "execution_count": 300,
     "metadata": {},
     "output_type": "execute_result"
    }
   ],
   "source": [
    "all_concat.shape"
   ]
  },
  {
   "cell_type": "markdown",
   "metadata": {},
   "source": [
    "### For whole leaf nodes:"
   ]
  },
  {
   "cell_type": "code",
   "execution_count": 301,
   "metadata": {},
   "outputs": [
    {
     "name": "stdout",
     "output_type": "stream",
     "text": [
      "Confusion Matrix:\n",
      "              ______________Prediction_______________\n",
      "               Cam Corders    Not Camera Photo Devices\n",
      "  Cam Corders           93             2            16\n",
      "   Not Camera            5             8             6\n",
      "Photo Devices            8             2           276\n",
      "\n",
      "Accuracy Score:\n",
      "0.90625\n",
      "()\n",
      "Classification Report:\n",
      "               precision    recall  f1-score   support\n",
      "\n",
      "  Cam Corders       0.88      0.84      0.86       111\n",
      "   Not Camera       0.67      0.42      0.52        19\n",
      "Photo Devices       0.93      0.97      0.95       286\n",
      "\n",
      "  avg / total       0.90      0.91      0.90       416\n",
      "\n"
     ]
    }
   ],
   "source": [
    "analytics(all_concat['Parent_node_1'],all_concat['prediction_level1'])#y_level3_mi,target_prediction"
   ]
  },
  {
   "cell_type": "code",
   "execution_count": 302,
   "metadata": {},
   "outputs": [
    {
     "name": "stdout",
     "output_type": "stream",
     "text": [
      "Confusion Matrix:\n",
      "                          _______________________________________________________________________________________________Prediction_______________________________________________________________________________________________\n",
      "                                    Action Cameras               Cam Corders                      DSLR        Mirrorless Cameras                Not Camera             Photo Devices     Point & Shoot Cameras Traditional Video Cameras\n",
      "           Action Cameras                       54                         0                         0                         0                         0                         0                         0                         4\n",
      "              Cam Corders                        0                         0                         0                         0                         0                         0                         0                         0\n",
      "                     DSLR                        0                         0                        55                         5                         0                         0                        12                         0\n",
      "       Mirrorless Cameras                        0                         0                         4                        58                         0                         0                        19                         0\n",
      "               Not Camera                        0                         5                         0                         0                         8                         6                         0                         0\n",
      "            Photo Devices                        0                         0                         0                         0                         0                         0                         0                         0\n",
      "    Point & Shoot Cameras                        0                         0                         1                         4                         0                         0                       128                         0\n",
      "Traditional Video Cameras                        3                         0                         0                         0                         0                         0                         0                        50\n",
      "\n",
      "Accuracy Score:\n",
      "0.848557692308\n",
      "()\n",
      "Classification Report:\n",
      "                           precision    recall  f1-score   support\n",
      "\n",
      "           Action Cameras       0.95      0.93      0.94        58\n",
      "              Cam Corders       0.00      0.00      0.00         0\n",
      "                     DSLR       0.92      0.76      0.83        72\n",
      "       Mirrorless Cameras       0.87      0.72      0.78        81\n",
      "               Not Camera       1.00      0.42      0.59        19\n",
      "            Photo Devices       0.00      0.00      0.00         0\n",
      "    Point & Shoot Cameras       0.81      0.96      0.88       133\n",
      "Traditional Video Cameras       0.93      0.94      0.93        53\n",
      "\n",
      "              avg / total       0.88      0.85      0.85       416\n",
      "\n"
     ]
    }
   ],
   "source": [
    "analytics(all_concat['Parent_node_2'],all_concat['prediction_level2'])#y_level3_mi,target_prediction"
   ]
  },
  {
   "cell_type": "code",
   "execution_count": 303,
   "metadata": {},
   "outputs": [
    {
     "name": "stdout",
     "output_type": "stream",
     "text": [
      "Confusion Matrix:\n",
      "                             ___________________________________________________________________________________________________________________________________________________________________________________________________________________________Prediction___________________________________________________________________________________________________________________________________________________________________________________________________________________________\n",
      "                                      360 Degree Cameras               Bridge Cameras                  Cam Corders     Common Use Video Cameras                         DSLR      Digital Compact Cameras                        Drone Full Frame Mirrorless Camera                      Instant           Mirrorless Cameras       Non 360 Degree Cameras NonFullFrameMirrorlessCamera                   Not Camera                Photo Devices        Point & Shoot Cameras   Professional Video Cameras\n",
      "          360 Degree Cameras                          20                            0                            0                            0                            0                            0                            0                            0                            0                            0                            1                            0                            0                            0                            0                            0\n",
      "              Bridge Cameras                           0                           41                            0                            0                            0                           15                            0                            0                            0                            0                            0                            0                            0                            0                            0                            0\n",
      "                 Cam Corders                           0                            0                            0                            0                            0                            0                            0                            0                            0                            0                            0                            0                            0                            0                            0                            0\n",
      "    Common Use Video Cameras                           0                            0                            0                            8                            0                            0                            0                            0                            0                            0                            0                            0                            0                            0                            0                           13\n",
      "                        DSLR                           0                            0                            0                            0                           55                            0                            0                            0                            0                            5                            0                            0                            0                            0                           12                            0\n",
      "     Digital Compact Cameras                           0                           24                            0                            0                            0                           33                            0                            0                            1                            0                            0                            0                            0                            0                            0                            0\n",
      "                       Drone                           1                            0                            0                            0                            0                            0                           13                            0                            0                            0                            1                            0                            0                            0                            0                            0\n",
      "Full Frame Mirrorless Camera                           0                            0                            0                            0                            0                            0                            0                           23                            0                            0                            0                            8                            0                            0                            0                            0\n",
      "                     Instant                           0                            2                            0                            0                            0                            2                            0                            0                           15                            0                            0                            0                            0                            0                            0                            0\n",
      "          Mirrorless Cameras                           0                            0                            0                            0                            0                            0                            0                            0                            0                            0                            0                            0                            0                            0                            0                            0\n",
      "      Non 360 Degree Cameras                           8                            0                            0                            0                            0                            0                            1                            0                            0                            0                           13                            0                            0                            0                            0                            0\n",
      "NonFullFrameMirrorlessCamera                           0                            0                            0                            0                            0                            0                            0                            6                            0                            0                            0                           44                            0                            0                            0                            0\n",
      "                  Not Camera                           0                            0                            5                            0                            0                            0                            0                            0                            0                            0                            0                            0                            8                            6                            0                            0\n",
      "               Photo Devices                           0                            0                            0                            0                            0                            0                            0                            0                            0                            0                            0                            0                            0                            0                            0                            0\n",
      "       Point & Shoot Cameras                           0                            0                            0                            0                            0                            0                            0                            0                            0                            0                            0                            0                            0                            0                            0                            0\n",
      "  Professional Video Cameras                           0                            0                            0                            5                            0                            0                            0                            0                            0                            0                            0                            0                            0                            0                            0                           27\n",
      "\n",
      "Accuracy Score:\n",
      "0.721153846154\n",
      "()\n",
      "Classification Report:\n",
      "                              precision    recall  f1-score   support\n",
      "\n",
      "          360 Degree Cameras       0.69      0.95      0.80        21\n",
      "              Bridge Cameras       0.61      0.73      0.67        56\n",
      "                 Cam Corders       0.00      0.00      0.00         0\n",
      "    Common Use Video Cameras       0.62      0.38      0.47        21\n",
      "                        DSLR       1.00      0.76      0.87        72\n",
      "     Digital Compact Cameras       0.66      0.57      0.61        58\n",
      "                       Drone       0.93      0.87      0.90        15\n",
      "Full Frame Mirrorless Camera       0.79      0.74      0.77        31\n",
      "                     Instant       0.94      0.79      0.86        19\n",
      "          Mirrorless Cameras       0.00      0.00      0.00         0\n",
      "      Non 360 Degree Cameras       0.87      0.59      0.70        22\n",
      "NonFullFrameMirrorlessCamera       0.85      0.88      0.86        50\n",
      "                  Not Camera       1.00      0.42      0.59        19\n",
      "               Photo Devices       0.00      0.00      0.00         0\n",
      "       Point & Shoot Cameras       0.00      0.00      0.00         0\n",
      "  Professional Video Cameras       0.68      0.84      0.75        32\n",
      "\n",
      "                 avg / total       0.79      0.72      0.74       416\n",
      "\n"
     ]
    }
   ],
   "source": [
    "analytics(all_concat['Leaf_Node'],all_concat['prediction_level3'])#y_level3_mi,target_prediction"
   ]
  },
  {
   "cell_type": "markdown",
   "metadata": {},
   "source": [
    "# 5. Modeling including other variables(Random Forest):"
   ]
  },
  {
   "cell_type": "markdown",
   "metadata": {},
   "source": [
    "### Level 1"
   ]
  },
  {
   "cell_type": "code",
   "execution_count": 304,
   "metadata": {
    "collapsed": true
   },
   "outputs": [],
   "source": [
    "X_level1=model2.drop(['ID','Parent_node_1','Parent_node_2','Leaf_Node','prediction_level1'],axis=1)\n",
    "y_level1=model2['Parent_node_1']"
   ]
  },
  {
   "cell_type": "code",
   "execution_count": 305,
   "metadata": {
    "collapsed": true
   },
   "outputs": [],
   "source": [
    "from sklearn.ensemble import RandomForestClassifier\n",
    "cv = StratifiedKFold(n_splits=5, shuffle=True, random_state=42)\n",
    "logreg = RandomForestClassifier(n_estimators=20)\n",
    "target_prediction = cross_val_predict(logreg, X_level1, y_level1, cv=cv)"
   ]
  },
  {
   "cell_type": "code",
   "execution_count": 306,
   "metadata": {},
   "outputs": [
    {
     "name": "stdout",
     "output_type": "stream",
     "text": [
      "Confusion Matrix:\n",
      "              ______________Prediction_______________\n",
      "               Cam Corders    Not Camera Photo Devices\n",
      "  Cam Corders           95             0            16\n",
      "   Not Camera            3             6            10\n",
      "Photo Devices            4             0           282\n",
      "\n",
      "Accuracy Score:\n",
      "0.920673076923\n",
      "()\n",
      "Classification Report:\n",
      "               precision    recall  f1-score   support\n",
      "\n",
      "  Cam Corders       0.93      0.86      0.89       111\n",
      "   Not Camera       1.00      0.32      0.48        19\n",
      "Photo Devices       0.92      0.99      0.95       286\n",
      "\n",
      "  avg / total       0.92      0.92      0.91       416\n",
      "\n"
     ]
    }
   ],
   "source": [
    "analytics(y_level1,target_prediction)"
   ]
  },
  {
   "cell_type": "code",
   "execution_count": 307,
   "metadata": {
    "collapsed": true
   },
   "outputs": [],
   "source": [
    "model2['prediction_level1']=target_prediction"
   ]
  },
  {
   "cell_type": "markdown",
   "metadata": {},
   "source": [
    "### Level 2"
   ]
  },
  {
   "cell_type": "markdown",
   "metadata": {},
   "source": [
    "#### Camcorders"
   ]
  },
  {
   "cell_type": "code",
   "execution_count": 308,
   "metadata": {
    "collapsed": true
   },
   "outputs": [],
   "source": [
    "level2_train=model2[model2['Parent_node_1']=='Cam Corders'] #this includes wrongly assigned instances"
   ]
  },
  {
   "cell_type": "code",
   "execution_count": 309,
   "metadata": {
    "collapsed": true
   },
   "outputs": [],
   "source": [
    "X_level2=level2_train.drop(['ID','Parent_node_1','Parent_node_2','Leaf_Node','prediction_level1'],axis=1)\n",
    "y_level2=level2_train['Parent_node_2']\n",
    "cv = StratifiedKFold(n_splits=5, shuffle=True, random_state=42)\n",
    "logreg = RandomForestClassifier(n_estimators=20)\n",
    "target_prediction = cross_val_predict(logreg, X_level2, y_level2, cv=cv)"
   ]
  },
  {
   "cell_type": "code",
   "execution_count": 310,
   "metadata": {},
   "outputs": [
    {
     "name": "stdout",
     "output_type": "stream",
     "text": [
      "Confusion Matrix:\n",
      "                          ____________________Prediction____________________\n",
      "                                    Action Cameras Traditional Video Cameras\n",
      "           Action Cameras                       56                         2\n",
      "Traditional Video Cameras                        2                        51\n",
      "\n",
      "Accuracy Score:\n",
      "0.963963963964\n",
      "()\n",
      "Classification Report:\n",
      "                           precision    recall  f1-score   support\n",
      "\n",
      "           Action Cameras       0.97      0.97      0.97        58\n",
      "Traditional Video Cameras       0.96      0.96      0.96        53\n",
      "\n",
      "              avg / total       0.96      0.96      0.96       111\n",
      "\n"
     ]
    }
   ],
   "source": [
    "analytics(y_level2,target_prediction) #real value vs. predicted values"
   ]
  },
  {
   "cell_type": "code",
   "execution_count": 311,
   "metadata": {},
   "outputs": [
    {
     "name": "stderr",
     "output_type": "stream",
     "text": [
      "/Users/bengikoseoglu/anaconda2/lib/python2.7/site-packages/ipykernel_launcher.py:1: SettingWithCopyWarning:\n",
      "\n",
      "\n",
      "A value is trying to be set on a copy of a slice from a DataFrame.\n",
      "Try using .loc[row_indexer,col_indexer] = value instead\n",
      "\n",
      "See the caveats in the documentation: http://pandas.pydata.org/pandas-docs/stable/indexing.html#indexing-view-versus-copy\n",
      "\n"
     ]
    }
   ],
   "source": [
    "level2_train['prediction_level2']=target_prediction"
   ]
  },
  {
   "cell_type": "markdown",
   "metadata": {},
   "source": [
    "##### 1. Traditional Video Cameras"
   ]
  },
  {
   "cell_type": "code",
   "execution_count": 312,
   "metadata": {
    "collapsed": true
   },
   "outputs": [],
   "source": [
    "#prediction_level2_camcorders\n",
    "level3_train=level2_train[level2_train['Parent_node_2']=='Traditional Video Cameras']"
   ]
  },
  {
   "cell_type": "code",
   "execution_count": 313,
   "metadata": {
    "collapsed": true
   },
   "outputs": [],
   "source": [
    "X_level3=level3_train.drop(['ID','Parent_node_1','Parent_node_2','Leaf_Node','prediction_level1','prediction_level2'],axis=1)\n",
    "y_level3=level3_train['Leaf_Node']\n",
    "\n",
    "cv = StratifiedKFold(n_splits=5, shuffle=True, random_state=42)\n",
    "logreg = RandomForestClassifier(n_estimators=20)\n",
    "target_prediction = cross_val_predict(logreg, X_level3, y_level3, cv=cv)"
   ]
  },
  {
   "cell_type": "code",
   "execution_count": 314,
   "metadata": {},
   "outputs": [
    {
     "name": "stdout",
     "output_type": "stream",
     "text": [
      "Confusion Matrix:\n",
      "                           _____________________Prediction_____________________\n",
      "                            Common Use Video Cameras Professional Video Cameras\n",
      "  Common Use Video Cameras                        11                         10\n",
      "Professional Video Cameras                         5                         27\n",
      "\n",
      "Accuracy Score:\n",
      "0.716981132075\n",
      "()\n",
      "Classification Report:\n",
      "                            precision    recall  f1-score   support\n",
      "\n",
      "  Common Use Video Cameras       0.69      0.52      0.59        21\n",
      "Professional Video Cameras       0.73      0.84      0.78        32\n",
      "\n",
      "               avg / total       0.71      0.72      0.71        53\n",
      "\n"
     ]
    }
   ],
   "source": [
    "analytics(y_level3,target_prediction) #analytics(y_level2,target_prediction) #real value vs. predicted values"
   ]
  },
  {
   "cell_type": "code",
   "execution_count": 315,
   "metadata": {},
   "outputs": [
    {
     "name": "stderr",
     "output_type": "stream",
     "text": [
      "/Users/bengikoseoglu/anaconda2/lib/python2.7/site-packages/ipykernel_launcher.py:1: SettingWithCopyWarning:\n",
      "\n",
      "\n",
      "A value is trying to be set on a copy of a slice from a DataFrame.\n",
      "Try using .loc[row_indexer,col_indexer] = value instead\n",
      "\n",
      "See the caveats in the documentation: http://pandas.pydata.org/pandas-docs/stable/indexing.html#indexing-view-versus-copy\n",
      "\n"
     ]
    }
   ],
   "source": [
    "level3_train['prediction_level3']=target_prediction"
   ]
  },
  {
   "cell_type": "markdown",
   "metadata": {},
   "source": [
    "##### 2. Action Video Cameras"
   ]
  },
  {
   "cell_type": "code",
   "execution_count": 316,
   "metadata": {
    "collapsed": true
   },
   "outputs": [],
   "source": [
    "#prediction_level2_camcorders\n",
    "level3_train_actioncameras=level2_train[level2_train['Parent_node_2']=='Action Cameras']"
   ]
  },
  {
   "cell_type": "code",
   "execution_count": 317,
   "metadata": {
    "collapsed": true
   },
   "outputs": [],
   "source": [
    "X_level3_ac=level3_train_actioncameras.drop(['ID','Parent_node_1','Parent_node_2','Leaf_Node','prediction_level1','prediction_level2'],axis=1)\n",
    "y_level3_ac=level3_train_actioncameras['Leaf_Node']"
   ]
  },
  {
   "cell_type": "code",
   "execution_count": 318,
   "metadata": {
    "collapsed": true
   },
   "outputs": [],
   "source": [
    "cv = StratifiedKFold(n_splits=5, shuffle=True, random_state=42)\n",
    "logreg = RandomForestClassifier(n_estimators=20)\n",
    "target_prediction = cross_val_predict(logreg, X_level3_ac, y_level3_ac, cv=cv)"
   ]
  },
  {
   "cell_type": "code",
   "execution_count": 319,
   "metadata": {},
   "outputs": [
    {
     "name": "stdout",
     "output_type": "stream",
     "text": [
      "Confusion Matrix:\n",
      "                       ____________________________Prediction____________________________\n",
      "                          360 Degree Cameras                  Drone Non 360 Degree Cameras\n",
      "    360 Degree Cameras                    18                      0                      3\n",
      "                 Drone                     1                     12                      2\n",
      "Non 360 Degree Cameras                    10                      0                     12\n",
      "\n",
      "Accuracy Score:\n",
      "0.724137931034\n",
      "()\n",
      "Classification Report:\n",
      "                        precision    recall  f1-score   support\n",
      "\n",
      "    360 Degree Cameras       0.62      0.86      0.72        21\n",
      "                 Drone       1.00      0.80      0.89        15\n",
      "Non 360 Degree Cameras       0.71      0.55      0.62        22\n",
      "\n",
      "           avg / total       0.75      0.72      0.72        58\n",
      "\n"
     ]
    }
   ],
   "source": [
    "analytics(y_level3_ac,target_prediction)"
   ]
  },
  {
   "cell_type": "code",
   "execution_count": 320,
   "metadata": {},
   "outputs": [
    {
     "name": "stderr",
     "output_type": "stream",
     "text": [
      "/Users/bengikoseoglu/anaconda2/lib/python2.7/site-packages/ipykernel_launcher.py:1: SettingWithCopyWarning:\n",
      "\n",
      "\n",
      "A value is trying to be set on a copy of a slice from a DataFrame.\n",
      "Try using .loc[row_indexer,col_indexer] = value instead\n",
      "\n",
      "See the caveats in the documentation: http://pandas.pydata.org/pandas-docs/stable/indexing.html#indexing-view-versus-copy\n",
      "\n"
     ]
    }
   ],
   "source": [
    "level3_train_actioncameras['prediction_level3']=target_prediction"
   ]
  },
  {
   "cell_type": "markdown",
   "metadata": {},
   "source": [
    "### Cameras"
   ]
  },
  {
   "cell_type": "code",
   "execution_count": 321,
   "metadata": {
    "collapsed": true
   },
   "outputs": [],
   "source": [
    "level2_train_cam=model2[model2['Parent_node_1']=='Photo Devices']"
   ]
  },
  {
   "cell_type": "code",
   "execution_count": 322,
   "metadata": {
    "collapsed": true
   },
   "outputs": [],
   "source": [
    "X_level2_cam=level2_train_cam.drop(['ID','Parent_node_1','Parent_node_2','Leaf_Node','prediction_level1'],axis=1)\n",
    "y_level2_cam=level2_train_cam['Parent_node_2']"
   ]
  },
  {
   "cell_type": "code",
   "execution_count": 323,
   "metadata": {
    "collapsed": true
   },
   "outputs": [],
   "source": [
    "cv = StratifiedKFold(n_splits=5, shuffle=True, random_state=42)\n",
    "logreg = RandomForestClassifier(n_estimators=20)\n",
    "target_prediction = cross_val_predict(logreg, X_level2_cam, y_level2_cam, cv=cv)"
   ]
  },
  {
   "cell_type": "code",
   "execution_count": 324,
   "metadata": {},
   "outputs": [
    {
     "name": "stdout",
     "output_type": "stream",
     "text": [
      "Confusion Matrix:\n",
      "                      __________________________Prediction___________________________\n",
      "                                      DSLR    Mirrorless Cameras Point & Shoot Cameras\n",
      "                 DSLR                   62                     6                     4\n",
      "   Mirrorless Cameras                    4                    67                    10\n",
      "Point & Shoot Cameras                    0                     4                   129\n",
      "\n",
      "Accuracy Score:\n",
      "0.902097902098\n",
      "()\n",
      "Classification Report:\n",
      "                       precision    recall  f1-score   support\n",
      "\n",
      "                 DSLR       0.94      0.86      0.90        72\n",
      "   Mirrorless Cameras       0.87      0.83      0.85        81\n",
      "Point & Shoot Cameras       0.90      0.97      0.93       133\n",
      "\n",
      "          avg / total       0.90      0.90      0.90       286\n",
      "\n"
     ]
    }
   ],
   "source": [
    "analytics(y_level2_cam,target_prediction) #"
   ]
  },
  {
   "cell_type": "code",
   "execution_count": 325,
   "metadata": {},
   "outputs": [
    {
     "name": "stderr",
     "output_type": "stream",
     "text": [
      "/Users/bengikoseoglu/anaconda2/lib/python2.7/site-packages/ipykernel_launcher.py:1: SettingWithCopyWarning:\n",
      "\n",
      "\n",
      "A value is trying to be set on a copy of a slice from a DataFrame.\n",
      "Try using .loc[row_indexer,col_indexer] = value instead\n",
      "\n",
      "See the caveats in the documentation: http://pandas.pydata.org/pandas-docs/stable/indexing.html#indexing-view-versus-copy\n",
      "\n"
     ]
    }
   ],
   "source": [
    "level2_train_cam['prediction_level2']=target_prediction"
   ]
  },
  {
   "cell_type": "markdown",
   "metadata": {},
   "source": [
    "#### 1. Point & Shoot Cameras"
   ]
  },
  {
   "cell_type": "code",
   "execution_count": 326,
   "metadata": {
    "collapsed": true
   },
   "outputs": [],
   "source": [
    "#prediction_level2_camcorders\n",
    "level3_train_pocam=level2_train_cam[level2_train_cam['Parent_node_2']=='Point & Shoot Cameras']"
   ]
  },
  {
   "cell_type": "code",
   "execution_count": 327,
   "metadata": {
    "collapsed": true
   },
   "outputs": [],
   "source": [
    "X_level3_po=level3_train_pocam.drop(['ID','Parent_node_1','Parent_node_2','Leaf_Node','prediction_level1','prediction_level2'],axis=1)\n",
    "y_level3_po=level3_train_pocam['Leaf_Node']"
   ]
  },
  {
   "cell_type": "code",
   "execution_count": 328,
   "metadata": {
    "collapsed": true
   },
   "outputs": [],
   "source": [
    "cv = StratifiedKFold(n_splits=5, shuffle=True, random_state=42)\n",
    "logreg = RandomForestClassifier(n_estimators=20)\n",
    "target_prediction = cross_val_predict(logreg, X_level3_po, y_level3_po, cv=cv)"
   ]
  },
  {
   "cell_type": "code",
   "execution_count": 329,
   "metadata": {},
   "outputs": [
    {
     "name": "stdout",
     "output_type": "stream",
     "text": [
      "Confusion Matrix:\n",
      "                        _____________________________Prediction______________________________\n",
      "                                Bridge Cameras Digital Compact Cameras                 Instant\n",
      "         Bridge Cameras                     45                      11                       0\n",
      "Digital Compact Cameras                     18                      40                       0\n",
      "                Instant                      1                       3                      15\n",
      "\n",
      "Accuracy Score:\n",
      "0.751879699248\n",
      "()\n",
      "Classification Report:\n",
      "                         precision    recall  f1-score   support\n",
      "\n",
      "         Bridge Cameras       0.70      0.80      0.75        56\n",
      "Digital Compact Cameras       0.74      0.69      0.71        58\n",
      "                Instant       1.00      0.79      0.88        19\n",
      "\n",
      "            avg / total       0.76      0.75      0.75       133\n",
      "\n"
     ]
    }
   ],
   "source": [
    "analytics(y_level3_po,target_prediction)"
   ]
  },
  {
   "cell_type": "code",
   "execution_count": 330,
   "metadata": {},
   "outputs": [
    {
     "name": "stderr",
     "output_type": "stream",
     "text": [
      "/Users/bengikoseoglu/anaconda2/lib/python2.7/site-packages/ipykernel_launcher.py:1: SettingWithCopyWarning:\n",
      "\n",
      "\n",
      "A value is trying to be set on a copy of a slice from a DataFrame.\n",
      "Try using .loc[row_indexer,col_indexer] = value instead\n",
      "\n",
      "See the caveats in the documentation: http://pandas.pydata.org/pandas-docs/stable/indexing.html#indexing-view-versus-copy\n",
      "\n"
     ]
    }
   ],
   "source": [
    "level3_train_pocam['prediction_level3']=target_prediction"
   ]
  },
  {
   "cell_type": "markdown",
   "metadata": {},
   "source": [
    "#### 2. Mirrorless Cameras"
   ]
  },
  {
   "cell_type": "code",
   "execution_count": 331,
   "metadata": {
    "collapsed": true
   },
   "outputs": [],
   "source": [
    "#prediction_level2_camcorders\n",
    "level3_train_miror=level2_train_cam[level2_train_cam['Parent_node_2']=='Mirrorless Cameras']"
   ]
  },
  {
   "cell_type": "code",
   "execution_count": 332,
   "metadata": {
    "collapsed": true
   },
   "outputs": [],
   "source": [
    "X_level3_mi=level3_train_miror.drop(['ID','Parent_node_1','Parent_node_2','Leaf_Node','prediction_level1','prediction_level2'],axis=1)\n",
    "y_level3_mi=level3_train_miror['Leaf_Node']"
   ]
  },
  {
   "cell_type": "code",
   "execution_count": 333,
   "metadata": {
    "collapsed": true
   },
   "outputs": [],
   "source": [
    "cv = StratifiedKFold(n_splits=5, shuffle=True, random_state=42)\n",
    "logreg = RandomForestClassifier(n_estimators=20)\n",
    "target_prediction = cross_val_predict(logreg, X_level3_mi, y_level3_mi, cv=cv)"
   ]
  },
  {
   "cell_type": "code",
   "execution_count": 334,
   "metadata": {},
   "outputs": [
    {
     "name": "stdout",
     "output_type": "stream",
     "text": [
      "Confusion Matrix:\n",
      "                             _______________________Prediction_______________________\n",
      "                            Full Frame Mirrorless Camera NonFullFrameMirrorlessCamera\n",
      "Full Frame Mirrorless Camera                          24                            7\n",
      "NonFullFrameMirrorlessCamera                           5                           45\n",
      "\n",
      "Accuracy Score:\n",
      "0.851851851852\n",
      "()\n",
      "Classification Report:\n",
      "                              precision    recall  f1-score   support\n",
      "\n",
      "Full Frame Mirrorless Camera       0.83      0.77      0.80        31\n",
      "NonFullFrameMirrorlessCamera       0.87      0.90      0.88        50\n",
      "\n",
      "                 avg / total       0.85      0.85      0.85        81\n",
      "\n"
     ]
    }
   ],
   "source": [
    "analytics(y_level3_mi,target_prediction)"
   ]
  },
  {
   "cell_type": "code",
   "execution_count": 335,
   "metadata": {},
   "outputs": [
    {
     "name": "stderr",
     "output_type": "stream",
     "text": [
      "/Users/bengikoseoglu/anaconda2/lib/python2.7/site-packages/ipykernel_launcher.py:1: SettingWithCopyWarning:\n",
      "\n",
      "\n",
      "A value is trying to be set on a copy of a slice from a DataFrame.\n",
      "Try using .loc[row_indexer,col_indexer] = value instead\n",
      "\n",
      "See the caveats in the documentation: http://pandas.pydata.org/pandas-docs/stable/indexing.html#indexing-view-versus-copy\n",
      "\n"
     ]
    }
   ],
   "source": [
    "level3_train_miror['prediction_level3']=target_prediction"
   ]
  },
  {
   "cell_type": "markdown",
   "metadata": {},
   "source": [
    "### COMBINING ALL"
   ]
  },
  {
   "cell_type": "code",
   "execution_count": 336,
   "metadata": {},
   "outputs": [
    {
     "name": "stderr",
     "output_type": "stream",
     "text": [
      "/Users/bengikoseoglu/anaconda2/lib/python2.7/site-packages/ipykernel_launcher.py:2: SettingWithCopyWarning:\n",
      "\n",
      "\n",
      "A value is trying to be set on a copy of a slice from a DataFrame.\n",
      "Try using .loc[row_indexer,col_indexer] = value instead\n",
      "\n",
      "See the caveats in the documentation: http://pandas.pydata.org/pandas-docs/stable/indexing.html#indexing-view-versus-copy\n",
      "\n"
     ]
    }
   ],
   "source": [
    "level3_dslr=level2_train_cam[level2_train_cam['Parent_node_2']=='DSLR']\n",
    "level3_dslr['prediction_level3']=level3_dslr['prediction_level2']"
   ]
  },
  {
   "cell_type": "code",
   "execution_count": 337,
   "metadata": {
    "collapsed": true
   },
   "outputs": [],
   "source": [
    "all_concat=pd.concat([level3_dslr,level3_train_miror,level3_train_pocam,level3_train_actioncameras,level3_train])"
   ]
  },
  {
   "cell_type": "code",
   "execution_count": 338,
   "metadata": {},
   "outputs": [
    {
     "data": {
      "text/plain": [
       "(397, 960)"
      ]
     },
     "execution_count": 338,
     "metadata": {},
     "output_type": "execute_result"
    }
   ],
   "source": [
    "all_concat.shape"
   ]
  },
  {
   "cell_type": "markdown",
   "metadata": {},
   "source": [
    "### For whole leaf nodes:"
   ]
  },
  {
   "cell_type": "code",
   "execution_count": 339,
   "metadata": {},
   "outputs": [
    {
     "data": {
      "text/html": [
       "<div>\n",
       "<style>\n",
       "    .dataframe thead tr:only-child th {\n",
       "        text-align: right;\n",
       "    }\n",
       "\n",
       "    .dataframe thead th {\n",
       "        text-align: left;\n",
       "    }\n",
       "\n",
       "    .dataframe tbody tr th {\n",
       "        vertical-align: top;\n",
       "    }\n",
       "</style>\n",
       "<table border=\"1\" class=\"dataframe\">\n",
       "  <thead>\n",
       "    <tr style=\"text-align: right;\">\n",
       "      <th></th>\n",
       "      <th>ID</th>\n",
       "      <th>price</th>\n",
       "      <th>360fly_x</th>\n",
       "      <th>6Ave</th>\n",
       "      <th>Air Hogs</th>\n",
       "      <th>AmazingForLess</th>\n",
       "      <th>Axess Products</th>\n",
       "      <th>Bell+Howell</th>\n",
       "      <th>BlackMagic</th>\n",
       "      <th>Blackmagic</th>\n",
       "      <th>...</th>\n",
       "      <th>fz43</th>\n",
       "      <th>deluxe</th>\n",
       "      <th>cpt</th>\n",
       "      <th>dvr</th>\n",
       "      <th>Parent_node_1</th>\n",
       "      <th>Parent_node_2</th>\n",
       "      <th>Leaf_Node</th>\n",
       "      <th>prediction_level1</th>\n",
       "      <th>prediction_level2</th>\n",
       "      <th>prediction_level3</th>\n",
       "    </tr>\n",
       "  </thead>\n",
       "  <tbody>\n",
       "    <tr>\n",
       "      <th>0</th>\n",
       "      <td>jessops-f2dd233dd6100c900432fd2902df8cde</td>\n",
       "      <td>479.0</td>\n",
       "      <td>0</td>\n",
       "      <td>0</td>\n",
       "      <td>0</td>\n",
       "      <td>0</td>\n",
       "      <td>0</td>\n",
       "      <td>0</td>\n",
       "      <td>0</td>\n",
       "      <td>0</td>\n",
       "      <td>...</td>\n",
       "      <td>0</td>\n",
       "      <td>0</td>\n",
       "      <td>0</td>\n",
       "      <td>0</td>\n",
       "      <td>Photo Devices</td>\n",
       "      <td>Point &amp; Shoot Cameras</td>\n",
       "      <td>Bridge Cameras</td>\n",
       "      <td>Photo Devices</td>\n",
       "      <td>Point &amp; Shoot Cameras</td>\n",
       "      <td>Bridge Cameras</td>\n",
       "    </tr>\n",
       "    <tr>\n",
       "      <th>8</th>\n",
       "      <td>jessops-f878d99e72c12c0ffc9184a4376cac78</td>\n",
       "      <td>449.0</td>\n",
       "      <td>0</td>\n",
       "      <td>0</td>\n",
       "      <td>0</td>\n",
       "      <td>0</td>\n",
       "      <td>0</td>\n",
       "      <td>0</td>\n",
       "      <td>0</td>\n",
       "      <td>0</td>\n",
       "      <td>...</td>\n",
       "      <td>0</td>\n",
       "      <td>0</td>\n",
       "      <td>0</td>\n",
       "      <td>0</td>\n",
       "      <td>Photo Devices</td>\n",
       "      <td>Point &amp; Shoot Cameras</td>\n",
       "      <td>Bridge Cameras</td>\n",
       "      <td>Photo Devices</td>\n",
       "      <td>Point &amp; Shoot Cameras</td>\n",
       "      <td>Bridge Cameras</td>\n",
       "    </tr>\n",
       "    <tr>\n",
       "      <th>9</th>\n",
       "      <td>jessops-87b405e744f1ff5d6594ef41c18b8111</td>\n",
       "      <td>249.0</td>\n",
       "      <td>0</td>\n",
       "      <td>0</td>\n",
       "      <td>0</td>\n",
       "      <td>0</td>\n",
       "      <td>0</td>\n",
       "      <td>0</td>\n",
       "      <td>0</td>\n",
       "      <td>0</td>\n",
       "      <td>...</td>\n",
       "      <td>0</td>\n",
       "      <td>0</td>\n",
       "      <td>0</td>\n",
       "      <td>0</td>\n",
       "      <td>Photo Devices</td>\n",
       "      <td>Point &amp; Shoot Cameras</td>\n",
       "      <td>Digital Compact Cameras</td>\n",
       "      <td>Photo Devices</td>\n",
       "      <td>Point &amp; Shoot Cameras</td>\n",
       "      <td>Bridge Cameras</td>\n",
       "    </tr>\n",
       "    <tr>\n",
       "      <th>11</th>\n",
       "      <td>jessops-1fa4b20f6930618aa81001b0c68d5e21</td>\n",
       "      <td>319.0</td>\n",
       "      <td>0</td>\n",
       "      <td>0</td>\n",
       "      <td>0</td>\n",
       "      <td>0</td>\n",
       "      <td>0</td>\n",
       "      <td>0</td>\n",
       "      <td>0</td>\n",
       "      <td>0</td>\n",
       "      <td>...</td>\n",
       "      <td>0</td>\n",
       "      <td>0</td>\n",
       "      <td>0</td>\n",
       "      <td>0</td>\n",
       "      <td>Photo Devices</td>\n",
       "      <td>Point &amp; Shoot Cameras</td>\n",
       "      <td>Digital Compact Cameras</td>\n",
       "      <td>Photo Devices</td>\n",
       "      <td>Point &amp; Shoot Cameras</td>\n",
       "      <td>Digital Compact Cameras</td>\n",
       "    </tr>\n",
       "    <tr>\n",
       "      <th>16</th>\n",
       "      <td>jessops-36876506797a620a214f049ca19f70e5</td>\n",
       "      <td>568.0</td>\n",
       "      <td>0</td>\n",
       "      <td>0</td>\n",
       "      <td>0</td>\n",
       "      <td>0</td>\n",
       "      <td>0</td>\n",
       "      <td>0</td>\n",
       "      <td>0</td>\n",
       "      <td>0</td>\n",
       "      <td>...</td>\n",
       "      <td>0</td>\n",
       "      <td>0</td>\n",
       "      <td>0</td>\n",
       "      <td>0</td>\n",
       "      <td>Photo Devices</td>\n",
       "      <td>Point &amp; Shoot Cameras</td>\n",
       "      <td>Bridge Cameras</td>\n",
       "      <td>Photo Devices</td>\n",
       "      <td>Point &amp; Shoot Cameras</td>\n",
       "      <td>Bridge Cameras</td>\n",
       "    </tr>\n",
       "  </tbody>\n",
       "</table>\n",
       "<p>5 rows × 960 columns</p>\n",
       "</div>"
      ],
      "text/plain": [
       "                                          ID  price  360fly_x  6Ave  Air Hogs  \\\n",
       "0   jessops-f2dd233dd6100c900432fd2902df8cde  479.0         0     0         0   \n",
       "8   jessops-f878d99e72c12c0ffc9184a4376cac78  449.0         0     0         0   \n",
       "9   jessops-87b405e744f1ff5d6594ef41c18b8111  249.0         0     0         0   \n",
       "11  jessops-1fa4b20f6930618aa81001b0c68d5e21  319.0         0     0         0   \n",
       "16  jessops-36876506797a620a214f049ca19f70e5  568.0         0     0         0   \n",
       "\n",
       "    AmazingForLess  Axess Products  Bell+Howell  BlackMagic  Blackmagic  \\\n",
       "0                0               0            0           0           0   \n",
       "8                0               0            0           0           0   \n",
       "9                0               0            0           0           0   \n",
       "11               0               0            0           0           0   \n",
       "16               0               0            0           0           0   \n",
       "\n",
       "             ...             fz43  deluxe  cpt  dvr  Parent_node_1  \\\n",
       "0            ...                0       0    0    0  Photo Devices   \n",
       "8            ...                0       0    0    0  Photo Devices   \n",
       "9            ...                0       0    0    0  Photo Devices   \n",
       "11           ...                0       0    0    0  Photo Devices   \n",
       "16           ...                0       0    0    0  Photo Devices   \n",
       "\n",
       "            Parent_node_2                Leaf_Node  prediction_level1  \\\n",
       "0   Point & Shoot Cameras           Bridge Cameras      Photo Devices   \n",
       "8   Point & Shoot Cameras           Bridge Cameras      Photo Devices   \n",
       "9   Point & Shoot Cameras  Digital Compact Cameras      Photo Devices   \n",
       "11  Point & Shoot Cameras  Digital Compact Cameras      Photo Devices   \n",
       "16  Point & Shoot Cameras           Bridge Cameras      Photo Devices   \n",
       "\n",
       "        prediction_level2        prediction_level3  \n",
       "0   Point & Shoot Cameras           Bridge Cameras  \n",
       "8   Point & Shoot Cameras           Bridge Cameras  \n",
       "9   Point & Shoot Cameras           Bridge Cameras  \n",
       "11  Point & Shoot Cameras  Digital Compact Cameras  \n",
       "16  Point & Shoot Cameras           Bridge Cameras  \n",
       "\n",
       "[5 rows x 960 columns]"
      ]
     },
     "execution_count": 339,
     "metadata": {},
     "output_type": "execute_result"
    }
   ],
   "source": [
    "level3_train_pocam.head()"
   ]
  },
  {
   "cell_type": "code",
   "execution_count": 340,
   "metadata": {},
   "outputs": [
    {
     "name": "stdout",
     "output_type": "stream",
     "text": [
      "Confusion Matrix:\n",
      "              ________Prediction________\n",
      "               Cam Corders Photo Devices\n",
      "  Cam Corders           95            16\n",
      "Photo Devices            4           282\n",
      "\n",
      "Accuracy Score:\n",
      "0.949622166247\n",
      "()\n",
      "Classification Report:\n",
      "               precision    recall  f1-score   support\n",
      "\n",
      "  Cam Corders       0.96      0.86      0.90       111\n",
      "Photo Devices       0.95      0.99      0.97       286\n",
      "\n",
      "  avg / total       0.95      0.95      0.95       397\n",
      "\n"
     ]
    }
   ],
   "source": [
    "analytics(all_concat['Parent_node_1'],all_concat['prediction_level1'])#y_level3_mi,target_prediction"
   ]
  },
  {
   "cell_type": "code",
   "execution_count": 341,
   "metadata": {},
   "outputs": [
    {
     "name": "stdout",
     "output_type": "stream",
     "text": [
      "Confusion Matrix:\n",
      "                          _________________________________________________________Prediction__________________________________________________________\n",
      "                                    Action Cameras                      DSLR        Mirrorless Cameras     Point & Shoot Cameras Traditional Video Cameras\n",
      "           Action Cameras                       56                         0                         0                         0                         2\n",
      "                     DSLR                        0                        62                         6                         4                         0\n",
      "       Mirrorless Cameras                        0                         4                        67                        10                         0\n",
      "    Point & Shoot Cameras                        0                         0                         4                       129                         0\n",
      "Traditional Video Cameras                        2                         0                         0                         0                        51\n",
      "\n",
      "Accuracy Score:\n",
      "0.919395465995\n",
      "()\n",
      "Classification Report:\n",
      "                           precision    recall  f1-score   support\n",
      "\n",
      "           Action Cameras       0.97      0.97      0.97        58\n",
      "                     DSLR       0.94      0.86      0.90        72\n",
      "       Mirrorless Cameras       0.87      0.83      0.85        81\n",
      "    Point & Shoot Cameras       0.90      0.97      0.93       133\n",
      "Traditional Video Cameras       0.96      0.96      0.96        53\n",
      "\n",
      "              avg / total       0.92      0.92      0.92       397\n",
      "\n"
     ]
    }
   ],
   "source": [
    "analytics(all_concat['Parent_node_2'],all_concat['prediction_level2'])#y_level3_mi,target_prediction"
   ]
  },
  {
   "cell_type": "code",
   "execution_count": 342,
   "metadata": {},
   "outputs": [
    {
     "name": "stdout",
     "output_type": "stream",
     "text": [
      "Confusion Matrix:\n",
      "                             _________________________________________________________________________________________________________________________________________________________________________________Prediction_________________________________________________________________________________________________________________________________________________________________________________\n",
      "                                      360 Degree Cameras               Bridge Cameras     Common Use Video Cameras                         DSLR      Digital Compact Cameras                        Drone Full Frame Mirrorless Camera                      Instant           Mirrorless Cameras       Non 360 Degree Cameras NonFullFrameMirrorlessCamera        Point & Shoot Cameras   Professional Video Cameras\n",
      "          360 Degree Cameras                          18                            0                            0                            0                            0                            0                            0                            0                            0                            3                            0                            0                            0\n",
      "              Bridge Cameras                           0                           45                            0                            0                           11                            0                            0                            0                            0                            0                            0                            0                            0\n",
      "    Common Use Video Cameras                           0                            0                           11                            0                            0                            0                            0                            0                            0                            0                            0                            0                           10\n",
      "                        DSLR                           0                            0                            0                           62                            0                            0                            0                            0                            6                            0                            0                            4                            0\n",
      "     Digital Compact Cameras                           0                           18                            0                            0                           40                            0                            0                            0                            0                            0                            0                            0                            0\n",
      "                       Drone                           1                            0                            0                            0                            0                           12                            0                            0                            0                            2                            0                            0                            0\n",
      "Full Frame Mirrorless Camera                           0                            0                            0                            0                            0                            0                           24                            0                            0                            0                            7                            0                            0\n",
      "                     Instant                           0                            1                            0                            0                            3                            0                            0                           15                            0                            0                            0                            0                            0\n",
      "          Mirrorless Cameras                           0                            0                            0                            0                            0                            0                            0                            0                            0                            0                            0                            0                            0\n",
      "      Non 360 Degree Cameras                          10                            0                            0                            0                            0                            0                            0                            0                            0                           12                            0                            0                            0\n",
      "NonFullFrameMirrorlessCamera                           0                            0                            0                            0                            0                            0                            5                            0                            0                            0                           45                            0                            0\n",
      "       Point & Shoot Cameras                           0                            0                            0                            0                            0                            0                            0                            0                            0                            0                            0                            0                            0\n",
      "  Professional Video Cameras                           0                            0                            5                            0                            0                            0                            0                            0                            0                            0                            0                            0                           27\n",
      "\n",
      "Accuracy Score:\n",
      "0.783375314861\n",
      "()\n",
      "Classification Report:\n",
      "                              precision    recall  f1-score   support\n",
      "\n",
      "          360 Degree Cameras       0.62      0.86      0.72        21\n",
      "              Bridge Cameras       0.70      0.80      0.75        56\n",
      "    Common Use Video Cameras       0.69      0.52      0.59        21\n",
      "                        DSLR       1.00      0.86      0.93        72\n",
      "     Digital Compact Cameras       0.74      0.69      0.71        58\n",
      "                       Drone       1.00      0.80      0.89        15\n",
      "Full Frame Mirrorless Camera       0.83      0.77      0.80        31\n",
      "                     Instant       1.00      0.79      0.88        19\n",
      "          Mirrorless Cameras       0.00      0.00      0.00         0\n",
      "      Non 360 Degree Cameras       0.71      0.55      0.62        22\n",
      "NonFullFrameMirrorlessCamera       0.87      0.90      0.88        50\n",
      "       Point & Shoot Cameras       0.00      0.00      0.00         0\n",
      "  Professional Video Cameras       0.73      0.84      0.78        32\n",
      "\n",
      "                 avg / total       0.82      0.78      0.79       397\n",
      "\n"
     ]
    }
   ],
   "source": [
    "analytics(all_concat['Leaf_Node'],all_concat['prediction_level3'])#y_level3_mi,target_prediction"
   ]
  }
 ],
 "metadata": {
  "kernelspec": {
   "display_name": "Python 2",
   "language": "python",
   "name": "python2"
  },
  "language_info": {
   "codemirror_mode": {
    "name": "ipython",
    "version": 2
   },
   "file_extension": ".py",
   "mimetype": "text/x-python",
   "name": "python",
   "nbconvert_exporter": "python",
   "pygments_lexer": "ipython2",
   "version": "2.7.14"
  }
 },
 "nbformat": 4,
 "nbformat_minor": 2
}
