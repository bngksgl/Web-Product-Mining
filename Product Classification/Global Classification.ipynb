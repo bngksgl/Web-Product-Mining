{
 "cells": [
  {
   "cell_type": "code",
   "execution_count": 1,
   "metadata": {
    "collapsed": true
   },
   "outputs": [],
   "source": [
    "#https://link.springer.com/content/pdf/10.1007%2F11766247.pdf"
   ]
  },
  {
   "cell_type": "code",
   "execution_count": 2,
   "metadata": {
    "collapsed": true
   },
   "outputs": [],
   "source": [
    "import pandas as pd\n",
    "import numpy as np"
   ]
  },
  {
   "cell_type": "code",
   "execution_count": 3,
   "metadata": {},
   "outputs": [
    {
     "data": {
      "text/plain": [
       "['',\n",
       " '/Users/bengikoseoglu/anaconda2/lib/python27.zip',\n",
       " '/Users/bengikoseoglu/anaconda2/lib/python2.7',\n",
       " '/Users/bengikoseoglu/anaconda2/lib/python2.7/plat-darwin',\n",
       " '/Users/bengikoseoglu/anaconda2/lib/python2.7/plat-mac',\n",
       " '/Users/bengikoseoglu/anaconda2/lib/python2.7/plat-mac/lib-scriptpackages',\n",
       " '/Users/bengikoseoglu/anaconda2/lib/python2.7/lib-tk',\n",
       " '/Users/bengikoseoglu/anaconda2/lib/python2.7/lib-old',\n",
       " '/Users/bengikoseoglu/anaconda2/lib/python2.7/lib-dynload',\n",
       " '/Users/bengikoseoglu/anaconda2/lib/python2.7/site-packages',\n",
       " '/Users/bengikoseoglu/anaconda2/lib/python2.7/site-packages/aeosa',\n",
       " '/Users/bengikoseoglu/anaconda2/lib/python2.7/site-packages/IPython/extensions',\n",
       " '/Users/bengikoseoglu/.ipython',\n",
       " '/Users/bengikoseoglu/anaconda2/pkgs',\n",
       " '/Users/bengikoseoglu/anaconda2/pckgs',\n",
       " '/Users/bengikoseoglu',\n",
       " '/Library/Python/2.7/site-packages (0.0.5)',\n",
       " '/Library/Python/2.7/site-packages']"
      ]
     },
     "execution_count": 3,
     "metadata": {},
     "output_type": "execute_result"
    }
   ],
   "source": [
    "import sys\n",
    "sys.path.append('/Users/bengikoseoglu/anaconda2/pkgs')\n",
    "sys.path.append('/Users/bengikoseoglu/anaconda2/pckgs')\n",
    "sys.path.append('/Users/bengikoseoglu')\n",
    "sys.path.append('/Library/Python/2.7/site-packages (0.0.5)')\n",
    "sys.path.append('/Library/Python/2.7/site-packages')\n",
    "sys.path"
   ]
  },
  {
   "cell_type": "code",
   "execution_count": 4,
   "metadata": {
    "collapsed": true
   },
   "outputs": [],
   "source": [
    "import pandas as pd\n",
    "import numpy as np\n",
    "import datetime\n",
    "import matplotlib as mpl\n",
    "import matplotlib.pyplot as plt\n",
    "import seaborn as sns\n",
    "from pylab import *\n",
    "import plotly.plotly as py\n",
    "import plotly\n",
    "import plotly.graph_objs as go\n",
    "from pandasql import sqldf\n",
    "pysqldf = lambda q: sqldf(q, globals())"
   ]
  },
  {
   "cell_type": "code",
   "execution_count": 5,
   "metadata": {
    "collapsed": true
   },
   "outputs": [],
   "source": [
    "df=pd.read_excel('cameras_400_3_nocamera.xlsx')"
   ]
  },
  {
   "cell_type": "code",
   "execution_count": 6,
   "metadata": {
    "collapsed": true
   },
   "outputs": [],
   "source": [
    "df=df.rename(columns={'Leaf Node':'Leaf_Node'})"
   ]
  },
  {
   "cell_type": "code",
   "execution_count": 7,
   "metadata": {},
   "outputs": [
    {
     "data": {
      "text/html": [
       "<div>\n",
       "<style>\n",
       "    .dataframe thead tr:only-child th {\n",
       "        text-align: right;\n",
       "    }\n",
       "\n",
       "    .dataframe thead th {\n",
       "        text-align: left;\n",
       "    }\n",
       "\n",
       "    .dataframe tbody tr th {\n",
       "        vertical-align: top;\n",
       "    }\n",
       "</style>\n",
       "<table border=\"1\" class=\"dataframe\">\n",
       "  <thead>\n",
       "    <tr style=\"text-align: right;\">\n",
       "      <th></th>\n",
       "      <th>ID</th>\n",
       "      <th>name</th>\n",
       "      <th>Leaf_Node</th>\n",
       "      <th>priceCurrency</th>\n",
       "      <th>price</th>\n",
       "      <th>brand</th>\n",
       "      <th>itemCondition</th>\n",
       "      <th>availability</th>\n",
       "      <th>Description</th>\n",
       "      <th>image</th>\n",
       "      <th>gtin12</th>\n",
       "      <th>gtin13</th>\n",
       "      <th>gtin14</th>\n",
       "      <th>gtin8</th>\n",
       "      <th>ratingValue</th>\n",
       "      <th>bestRating</th>\n",
       "      <th>reviewCount</th>\n",
       "      <th>Unnamed: 17</th>\n",
       "      <th>Good Examples</th>\n",
       "    </tr>\n",
       "  </thead>\n",
       "  <tbody>\n",
       "    <tr>\n",
       "      <th>0</th>\n",
       "      <td>jessops-f2dd233dd6100c900432fd2902df8cde</td>\n",
       "      <td>Nikon Coolpix P900 Digital Camera</td>\n",
       "      <td>Bridge Cameras</td>\n",
       "      <td>GBP</td>\n",
       "      <td>479</td>\n",
       "      <td>Nikon</td>\n",
       "      <td>NaN</td>\n",
       "      <td>True</td>\n",
       "      <td>NaN</td>\n",
       "      <td>https://i.jessops.com/images/home/homepage/100...</td>\n",
       "      <td>NaN</td>\n",
       "      <td>NaN</td>\n",
       "      <td>NaN</td>\n",
       "      <td>2018-09-08</td>\n",
       "      <td>10</td>\n",
       "      <td>162.0</td>\n",
       "      <td>NaN</td>\n",
       "      <td>NaN</td>\n",
       "      <td>NaN</td>\n",
       "    </tr>\n",
       "    <tr>\n",
       "      <th>1</th>\n",
       "      <td>jessops-ff2be7ba459709194635812c728a17fd</td>\n",
       "      <td>Canon EOS 750D Digital SLR with 18-55mm IS STM...</td>\n",
       "      <td>DSLR</td>\n",
       "      <td>GBP</td>\n",
       "      <td>539</td>\n",
       "      <td>Canon</td>\n",
       "      <td>NaN</td>\n",
       "      <td>True</td>\n",
       "      <td>NaN</td>\n",
       "      <td>https://i.jessops.com/images/home/homepage/100...</td>\n",
       "      <td>NaN</td>\n",
       "      <td>NaN</td>\n",
       "      <td>NaN</td>\n",
       "      <td>2018-02-09</td>\n",
       "      <td>10</td>\n",
       "      <td>361.0</td>\n",
       "      <td>NaN</td>\n",
       "      <td>NaN</td>\n",
       "      <td>NaN</td>\n",
       "    </tr>\n",
       "    <tr>\n",
       "      <th>2</th>\n",
       "      <td>jessops-acfa4e6fdc0962be2da5bc1ed8d44357</td>\n",
       "      <td>Canon EOS 5D Mark IV Digital SLR Body</td>\n",
       "      <td>DSLR</td>\n",
       "      <td>GBP</td>\n",
       "      <td>3249</td>\n",
       "      <td>Canon</td>\n",
       "      <td>NaN</td>\n",
       "      <td>True</td>\n",
       "      <td>NaN</td>\n",
       "      <td>https://i.jessops.com/images/home/homepage/100...</td>\n",
       "      <td>NaN</td>\n",
       "      <td>NaN</td>\n",
       "      <td>NaN</td>\n",
       "      <td>NaT</td>\n",
       "      <td>2018-07-09 00:00:00</td>\n",
       "      <td>10.0</td>\n",
       "      <td>25.0</td>\n",
       "      <td>NaN</td>\n",
       "      <td>NaN</td>\n",
       "    </tr>\n",
       "    <tr>\n",
       "      <th>3</th>\n",
       "      <td>jessops-cabb446087d8428bfa741078869439b8</td>\n",
       "      <td>Canon EOS 7D Mark II Digital SLR Body</td>\n",
       "      <td>DSLR</td>\n",
       "      <td>GBP</td>\n",
       "      <td>1349</td>\n",
       "      <td>Canon</td>\n",
       "      <td>NaN</td>\n",
       "      <td>True</td>\n",
       "      <td>NaN</td>\n",
       "      <td>https://i.jessops.com/images/home/homepage/100...</td>\n",
       "      <td>NaN</td>\n",
       "      <td>NaN</td>\n",
       "      <td>NaN</td>\n",
       "      <td>NaT</td>\n",
       "      <td>2018-04-09 00:00:00</td>\n",
       "      <td>10.0</td>\n",
       "      <td>268.0</td>\n",
       "      <td>NaN</td>\n",
       "      <td>NaN</td>\n",
       "    </tr>\n",
       "    <tr>\n",
       "      <th>4</th>\n",
       "      <td>jessops-8c6e0672aa9297ee8ff4d95fa5e2edc0</td>\n",
       "      <td>Sony A6000 Mirrorless Camera in Black with 16-...</td>\n",
       "      <td>Full Frame Mirrorless Camera</td>\n",
       "      <td>GBP</td>\n",
       "      <td>449</td>\n",
       "      <td>Sony</td>\n",
       "      <td>NaN</td>\n",
       "      <td>True</td>\n",
       "      <td>NaN</td>\n",
       "      <td>https://i.jessops.com/images/home/homepage/100...</td>\n",
       "      <td>NaN</td>\n",
       "      <td>NaN</td>\n",
       "      <td>NaN</td>\n",
       "      <td>NaT</td>\n",
       "      <td>9.0</td>\n",
       "      <td>10.0</td>\n",
       "      <td>107.0</td>\n",
       "      <td>NaN</td>\n",
       "      <td>NaN</td>\n",
       "    </tr>\n",
       "  </tbody>\n",
       "</table>\n",
       "</div>"
      ],
      "text/plain": [
       "                                         ID  \\\n",
       "0  jessops-f2dd233dd6100c900432fd2902df8cde   \n",
       "1  jessops-ff2be7ba459709194635812c728a17fd   \n",
       "2  jessops-acfa4e6fdc0962be2da5bc1ed8d44357   \n",
       "3  jessops-cabb446087d8428bfa741078869439b8   \n",
       "4  jessops-8c6e0672aa9297ee8ff4d95fa5e2edc0   \n",
       "\n",
       "                                                name  \\\n",
       "0                  Nikon Coolpix P900 Digital Camera   \n",
       "1  Canon EOS 750D Digital SLR with 18-55mm IS STM...   \n",
       "2              Canon EOS 5D Mark IV Digital SLR Body   \n",
       "3              Canon EOS 7D Mark II Digital SLR Body   \n",
       "4  Sony A6000 Mirrorless Camera in Black with 16-...   \n",
       "\n",
       "                      Leaf_Node priceCurrency price  brand itemCondition  \\\n",
       "0                Bridge Cameras           GBP   479  Nikon           NaN   \n",
       "1                          DSLR           GBP   539  Canon           NaN   \n",
       "2                          DSLR           GBP  3249  Canon           NaN   \n",
       "3                          DSLR           GBP  1349  Canon           NaN   \n",
       "4  Full Frame Mirrorless Camera           GBP   449   Sony           NaN   \n",
       "\n",
       "  availability Description                                              image  \\\n",
       "0         True         NaN  https://i.jessops.com/images/home/homepage/100...   \n",
       "1         True         NaN  https://i.jessops.com/images/home/homepage/100...   \n",
       "2         True         NaN  https://i.jessops.com/images/home/homepage/100...   \n",
       "3         True         NaN  https://i.jessops.com/images/home/homepage/100...   \n",
       "4         True         NaN  https://i.jessops.com/images/home/homepage/100...   \n",
       "\n",
       "  gtin12  gtin13  gtin14      gtin8          ratingValue  bestRating  \\\n",
       "0    NaN     NaN     NaN 2018-09-08                   10       162.0   \n",
       "1    NaN     NaN     NaN 2018-02-09                   10       361.0   \n",
       "2    NaN     NaN     NaN        NaT  2018-07-09 00:00:00        10.0   \n",
       "3    NaN     NaN     NaN        NaT  2018-04-09 00:00:00        10.0   \n",
       "4    NaN     NaN     NaN        NaT                  9.0        10.0   \n",
       "\n",
       "   reviewCount  Unnamed: 17 Good Examples  \n",
       "0          NaN          NaN           NaN  \n",
       "1          NaN          NaN           NaN  \n",
       "2         25.0          NaN           NaN  \n",
       "3        268.0          NaN           NaN  \n",
       "4        107.0          NaN           NaN  "
      ]
     },
     "execution_count": 7,
     "metadata": {},
     "output_type": "execute_result"
    }
   ],
   "source": [
    "df.head()"
   ]
  },
  {
   "cell_type": "code",
   "execution_count": 8,
   "metadata": {
    "collapsed": true
   },
   "outputs": [],
   "source": [
    "#IN (1, 3, 99)\n",
    "\n",
    "\n",
    "q = \"\"\"\n",
    "SELECT DISTINCT *, (CASE WHEN Leaf_Node IN ('360 Degree Cameras','Common Use Video Cameras','Non 360 Degree Cameras',\n",
    "'Professional Video Cameras','Drone') THEN 'Cam Corders' WHEN Leaf_Node IN ('Not Camera') THEN 'Not Camera' ELSE 'Photo Devices' END) AS parent_node_1, \n",
    "(CASE WHEN Leaf_Node IN ('360 Degree Cameras','Non 360 Degree Cameras','Drone') THEN 'Action Cameras' \n",
    "WHEN Leaf_Node IN ('Bridge Cameras','Digital Compact Cameras','Instant') THEN 'Point & Shoot Cameras' \n",
    "WHEN Leaf_Node IN ('Common Use Video Cameras','Professional Video Cameras') THEN 'Traditional Video Cameras' \n",
    "WHEN Leaf_Node IN ('DSLR') THEN 'DSLR' \n",
    "WHEN Leaf_Node IN ('Not Camera') THEN 'Not Camera'\n",
    "WHEN Leaf_Node IN ('Full Frame Mirrorless Camera','NonFullFrameMirrorlessCamera') THEN 'Mirrorless Cameras' \n",
    "ELSE 'NO CATEGORY'\n",
    "END) AS parent_node_2\n",
    "FROM df\n",
    "\"\"\"\n",
    "df = pysqldf(q)"
   ]
  },
  {
   "cell_type": "code",
   "execution_count": 9,
   "metadata": {},
   "outputs": [
    {
     "data": {
      "text/html": [
       "<div>\n",
       "<style>\n",
       "    .dataframe thead tr:only-child th {\n",
       "        text-align: right;\n",
       "    }\n",
       "\n",
       "    .dataframe thead th {\n",
       "        text-align: left;\n",
       "    }\n",
       "\n",
       "    .dataframe tbody tr th {\n",
       "        vertical-align: top;\n",
       "    }\n",
       "</style>\n",
       "<table border=\"1\" class=\"dataframe\">\n",
       "  <thead>\n",
       "    <tr style=\"text-align: right;\">\n",
       "      <th></th>\n",
       "      <th>ID</th>\n",
       "      <th>name</th>\n",
       "      <th>Leaf_Node</th>\n",
       "      <th>priceCurrency</th>\n",
       "      <th>price</th>\n",
       "      <th>brand</th>\n",
       "      <th>itemCondition</th>\n",
       "      <th>availability</th>\n",
       "      <th>Description</th>\n",
       "      <th>image</th>\n",
       "      <th>...</th>\n",
       "      <th>gtin13</th>\n",
       "      <th>gtin14</th>\n",
       "      <th>gtin8</th>\n",
       "      <th>ratingValue</th>\n",
       "      <th>bestRating</th>\n",
       "      <th>reviewCount</th>\n",
       "      <th>Unnamed: 17</th>\n",
       "      <th>Good Examples</th>\n",
       "      <th>parent_node_1</th>\n",
       "      <th>parent_node_2</th>\n",
       "    </tr>\n",
       "  </thead>\n",
       "  <tbody>\n",
       "    <tr>\n",
       "      <th>0</th>\n",
       "      <td>jessops-f2dd233dd6100c900432fd2902df8cde</td>\n",
       "      <td>Nikon Coolpix P900 Digital Camera</td>\n",
       "      <td>Bridge Cameras</td>\n",
       "      <td>GBP</td>\n",
       "      <td>479</td>\n",
       "      <td>Nikon</td>\n",
       "      <td>None</td>\n",
       "      <td>True</td>\n",
       "      <td>None</td>\n",
       "      <td>https://i.jessops.com/images/home/homepage/100...</td>\n",
       "      <td>...</td>\n",
       "      <td>NaN</td>\n",
       "      <td>None</td>\n",
       "      <td>2018-09-08 00:00:00.000000</td>\n",
       "      <td>10</td>\n",
       "      <td>162.0</td>\n",
       "      <td>NaN</td>\n",
       "      <td>None</td>\n",
       "      <td>None</td>\n",
       "      <td>Photo Devices</td>\n",
       "      <td>Point &amp; Shoot Cameras</td>\n",
       "    </tr>\n",
       "    <tr>\n",
       "      <th>1</th>\n",
       "      <td>jessops-ff2be7ba459709194635812c728a17fd</td>\n",
       "      <td>Canon EOS 750D Digital SLR with 18-55mm IS STM...</td>\n",
       "      <td>DSLR</td>\n",
       "      <td>GBP</td>\n",
       "      <td>539</td>\n",
       "      <td>Canon</td>\n",
       "      <td>None</td>\n",
       "      <td>True</td>\n",
       "      <td>None</td>\n",
       "      <td>https://i.jessops.com/images/home/homepage/100...</td>\n",
       "      <td>...</td>\n",
       "      <td>NaN</td>\n",
       "      <td>None</td>\n",
       "      <td>2018-02-09 00:00:00.000000</td>\n",
       "      <td>10</td>\n",
       "      <td>361.0</td>\n",
       "      <td>NaN</td>\n",
       "      <td>None</td>\n",
       "      <td>None</td>\n",
       "      <td>Photo Devices</td>\n",
       "      <td>DSLR</td>\n",
       "    </tr>\n",
       "    <tr>\n",
       "      <th>2</th>\n",
       "      <td>jessops-acfa4e6fdc0962be2da5bc1ed8d44357</td>\n",
       "      <td>Canon EOS 5D Mark IV Digital SLR Body</td>\n",
       "      <td>DSLR</td>\n",
       "      <td>GBP</td>\n",
       "      <td>3249</td>\n",
       "      <td>Canon</td>\n",
       "      <td>None</td>\n",
       "      <td>True</td>\n",
       "      <td>None</td>\n",
       "      <td>https://i.jessops.com/images/home/homepage/100...</td>\n",
       "      <td>...</td>\n",
       "      <td>NaN</td>\n",
       "      <td>None</td>\n",
       "      <td>None</td>\n",
       "      <td>2018-07-09 00:00:00</td>\n",
       "      <td>10.0</td>\n",
       "      <td>25.0</td>\n",
       "      <td>None</td>\n",
       "      <td>None</td>\n",
       "      <td>Photo Devices</td>\n",
       "      <td>DSLR</td>\n",
       "    </tr>\n",
       "    <tr>\n",
       "      <th>3</th>\n",
       "      <td>jessops-cabb446087d8428bfa741078869439b8</td>\n",
       "      <td>Canon EOS 7D Mark II Digital SLR Body</td>\n",
       "      <td>DSLR</td>\n",
       "      <td>GBP</td>\n",
       "      <td>1349</td>\n",
       "      <td>Canon</td>\n",
       "      <td>None</td>\n",
       "      <td>True</td>\n",
       "      <td>None</td>\n",
       "      <td>https://i.jessops.com/images/home/homepage/100...</td>\n",
       "      <td>...</td>\n",
       "      <td>NaN</td>\n",
       "      <td>None</td>\n",
       "      <td>None</td>\n",
       "      <td>2018-04-09 00:00:00</td>\n",
       "      <td>10.0</td>\n",
       "      <td>268.0</td>\n",
       "      <td>None</td>\n",
       "      <td>None</td>\n",
       "      <td>Photo Devices</td>\n",
       "      <td>DSLR</td>\n",
       "    </tr>\n",
       "    <tr>\n",
       "      <th>4</th>\n",
       "      <td>jessops-8c6e0672aa9297ee8ff4d95fa5e2edc0</td>\n",
       "      <td>Sony A6000 Mirrorless Camera in Black with 16-...</td>\n",
       "      <td>Full Frame Mirrorless Camera</td>\n",
       "      <td>GBP</td>\n",
       "      <td>449</td>\n",
       "      <td>Sony</td>\n",
       "      <td>None</td>\n",
       "      <td>True</td>\n",
       "      <td>None</td>\n",
       "      <td>https://i.jessops.com/images/home/homepage/100...</td>\n",
       "      <td>...</td>\n",
       "      <td>NaN</td>\n",
       "      <td>None</td>\n",
       "      <td>None</td>\n",
       "      <td>9.0</td>\n",
       "      <td>10.0</td>\n",
       "      <td>107.0</td>\n",
       "      <td>None</td>\n",
       "      <td>None</td>\n",
       "      <td>Photo Devices</td>\n",
       "      <td>Mirrorless Cameras</td>\n",
       "    </tr>\n",
       "  </tbody>\n",
       "</table>\n",
       "<p>5 rows × 21 columns</p>\n",
       "</div>"
      ],
      "text/plain": [
       "                                         ID  \\\n",
       "0  jessops-f2dd233dd6100c900432fd2902df8cde   \n",
       "1  jessops-ff2be7ba459709194635812c728a17fd   \n",
       "2  jessops-acfa4e6fdc0962be2da5bc1ed8d44357   \n",
       "3  jessops-cabb446087d8428bfa741078869439b8   \n",
       "4  jessops-8c6e0672aa9297ee8ff4d95fa5e2edc0   \n",
       "\n",
       "                                                name  \\\n",
       "0                  Nikon Coolpix P900 Digital Camera   \n",
       "1  Canon EOS 750D Digital SLR with 18-55mm IS STM...   \n",
       "2              Canon EOS 5D Mark IV Digital SLR Body   \n",
       "3              Canon EOS 7D Mark II Digital SLR Body   \n",
       "4  Sony A6000 Mirrorless Camera in Black with 16-...   \n",
       "\n",
       "                      Leaf_Node priceCurrency price  brand itemCondition  \\\n",
       "0                Bridge Cameras           GBP   479  Nikon          None   \n",
       "1                          DSLR           GBP   539  Canon          None   \n",
       "2                          DSLR           GBP  3249  Canon          None   \n",
       "3                          DSLR           GBP  1349  Canon          None   \n",
       "4  Full Frame Mirrorless Camera           GBP   449   Sony          None   \n",
       "\n",
       "  availability Description                                              image  \\\n",
       "0         True        None  https://i.jessops.com/images/home/homepage/100...   \n",
       "1         True        None  https://i.jessops.com/images/home/homepage/100...   \n",
       "2         True        None  https://i.jessops.com/images/home/homepage/100...   \n",
       "3         True        None  https://i.jessops.com/images/home/homepage/100...   \n",
       "4         True        None  https://i.jessops.com/images/home/homepage/100...   \n",
       "\n",
       "           ...           gtin13  gtin14                       gtin8  \\\n",
       "0          ...              NaN    None  2018-09-08 00:00:00.000000   \n",
       "1          ...              NaN    None  2018-02-09 00:00:00.000000   \n",
       "2          ...              NaN    None                        None   \n",
       "3          ...              NaN    None                        None   \n",
       "4          ...              NaN    None                        None   \n",
       "\n",
       "           ratingValue bestRating  reviewCount  Unnamed: 17 Good Examples  \\\n",
       "0                   10      162.0          NaN         None          None   \n",
       "1                   10      361.0          NaN         None          None   \n",
       "2  2018-07-09 00:00:00       10.0         25.0         None          None   \n",
       "3  2018-04-09 00:00:00       10.0        268.0         None          None   \n",
       "4                  9.0       10.0        107.0         None          None   \n",
       "\n",
       "   parent_node_1          parent_node_2  \n",
       "0  Photo Devices  Point & Shoot Cameras  \n",
       "1  Photo Devices                   DSLR  \n",
       "2  Photo Devices                   DSLR  \n",
       "3  Photo Devices                   DSLR  \n",
       "4  Photo Devices     Mirrorless Cameras  \n",
       "\n",
       "[5 rows x 21 columns]"
      ]
     },
     "execution_count": 9,
     "metadata": {},
     "output_type": "execute_result"
    }
   ],
   "source": [
    "df.head()"
   ]
  },
  {
   "cell_type": "code",
   "execution_count": 10,
   "metadata": {},
   "outputs": [
    {
     "data": {
      "text/html": [
       "<div>\n",
       "<style>\n",
       "    .dataframe thead tr:only-child th {\n",
       "        text-align: right;\n",
       "    }\n",
       "\n",
       "    .dataframe thead th {\n",
       "        text-align: left;\n",
       "    }\n",
       "\n",
       "    .dataframe tbody tr th {\n",
       "        vertical-align: top;\n",
       "    }\n",
       "</style>\n",
       "<table border=\"1\" class=\"dataframe\">\n",
       "  <thead>\n",
       "    <tr style=\"text-align: right;\">\n",
       "      <th></th>\n",
       "      <th>parent_node_1</th>\n",
       "      <th>parent_node_2</th>\n",
       "      <th>Leaf_Node</th>\n",
       "    </tr>\n",
       "  </thead>\n",
       "  <tbody>\n",
       "    <tr>\n",
       "      <th>0</th>\n",
       "      <td>Photo Devices</td>\n",
       "      <td>Point &amp; Shoot Cameras</td>\n",
       "      <td>Bridge Cameras</td>\n",
       "    </tr>\n",
       "    <tr>\n",
       "      <th>1</th>\n",
       "      <td>Photo Devices</td>\n",
       "      <td>DSLR</td>\n",
       "      <td>DSLR</td>\n",
       "    </tr>\n",
       "    <tr>\n",
       "      <th>2</th>\n",
       "      <td>Photo Devices</td>\n",
       "      <td>Mirrorless Cameras</td>\n",
       "      <td>Full Frame Mirrorless Camera</td>\n",
       "    </tr>\n",
       "    <tr>\n",
       "      <th>3</th>\n",
       "      <td>Photo Devices</td>\n",
       "      <td>Mirrorless Cameras</td>\n",
       "      <td>NonFullFrameMirrorlessCamera</td>\n",
       "    </tr>\n",
       "    <tr>\n",
       "      <th>4</th>\n",
       "      <td>Photo Devices</td>\n",
       "      <td>Point &amp; Shoot Cameras</td>\n",
       "      <td>Digital Compact Cameras</td>\n",
       "    </tr>\n",
       "    <tr>\n",
       "      <th>5</th>\n",
       "      <td>Cam Corders</td>\n",
       "      <td>Traditional Video Cameras</td>\n",
       "      <td>Common Use Video Cameras</td>\n",
       "    </tr>\n",
       "    <tr>\n",
       "      <th>6</th>\n",
       "      <td>Photo Devices</td>\n",
       "      <td>Point &amp; Shoot Cameras</td>\n",
       "      <td>Instant</td>\n",
       "    </tr>\n",
       "    <tr>\n",
       "      <th>7</th>\n",
       "      <td>Cam Corders</td>\n",
       "      <td>Action Cameras</td>\n",
       "      <td>360 Degree Cameras</td>\n",
       "    </tr>\n",
       "    <tr>\n",
       "      <th>8</th>\n",
       "      <td>Cam Corders</td>\n",
       "      <td>Action Cameras</td>\n",
       "      <td>Non 360 Degree Cameras</td>\n",
       "    </tr>\n",
       "    <tr>\n",
       "      <th>9</th>\n",
       "      <td>Cam Corders</td>\n",
       "      <td>Traditional Video Cameras</td>\n",
       "      <td>Professional Video Cameras</td>\n",
       "    </tr>\n",
       "    <tr>\n",
       "      <th>10</th>\n",
       "      <td>Cam Corders</td>\n",
       "      <td>Action Cameras</td>\n",
       "      <td>Drone</td>\n",
       "    </tr>\n",
       "    <tr>\n",
       "      <th>11</th>\n",
       "      <td>Not Camera</td>\n",
       "      <td>Not Camera</td>\n",
       "      <td>Not Camera</td>\n",
       "    </tr>\n",
       "  </tbody>\n",
       "</table>\n",
       "</div>"
      ],
      "text/plain": [
       "    parent_node_1              parent_node_2                     Leaf_Node\n",
       "0   Photo Devices      Point & Shoot Cameras                Bridge Cameras\n",
       "1   Photo Devices                       DSLR                          DSLR\n",
       "2   Photo Devices         Mirrorless Cameras  Full Frame Mirrorless Camera\n",
       "3   Photo Devices         Mirrorless Cameras  NonFullFrameMirrorlessCamera\n",
       "4   Photo Devices      Point & Shoot Cameras       Digital Compact Cameras\n",
       "5     Cam Corders  Traditional Video Cameras      Common Use Video Cameras\n",
       "6   Photo Devices      Point & Shoot Cameras                       Instant\n",
       "7     Cam Corders             Action Cameras            360 Degree Cameras\n",
       "8     Cam Corders             Action Cameras        Non 360 Degree Cameras\n",
       "9     Cam Corders  Traditional Video Cameras    Professional Video Cameras\n",
       "10    Cam Corders             Action Cameras                         Drone\n",
       "11     Not Camera                 Not Camera                    Not Camera"
      ]
     },
     "execution_count": 10,
     "metadata": {},
     "output_type": "execute_result"
    }
   ],
   "source": [
    "#Hiearchy\n",
    "q = \"\"\"\n",
    "SELECT DISTINCT parent_node_1,parent_node_2,Leaf_Node\n",
    "FROM df\n",
    "\"\"\"\n",
    "a = pysqldf(q)\n",
    "a"
   ]
  },
  {
   "cell_type": "code",
   "execution_count": 11,
   "metadata": {
    "collapsed": true
   },
   "outputs": [],
   "source": [
    "from sklearn.feature_extraction.text import CountVectorizer"
   ]
  },
  {
   "cell_type": "code",
   "execution_count": 12,
   "metadata": {},
   "outputs": [
    {
     "data": {
      "text/html": [
       "<div>\n",
       "<style>\n",
       "    .dataframe thead tr:only-child th {\n",
       "        text-align: right;\n",
       "    }\n",
       "\n",
       "    .dataframe thead th {\n",
       "        text-align: left;\n",
       "    }\n",
       "\n",
       "    .dataframe tbody tr th {\n",
       "        vertical-align: top;\n",
       "    }\n",
       "</style>\n",
       "<table border=\"1\" class=\"dataframe\">\n",
       "  <thead>\n",
       "    <tr style=\"text-align: right;\">\n",
       "      <th></th>\n",
       "      <th>ID</th>\n",
       "      <th>name</th>\n",
       "      <th>Leaf_Node</th>\n",
       "      <th>priceCurrency</th>\n",
       "      <th>price</th>\n",
       "      <th>brand</th>\n",
       "      <th>itemCondition</th>\n",
       "      <th>availability</th>\n",
       "      <th>Description</th>\n",
       "      <th>image</th>\n",
       "      <th>...</th>\n",
       "      <th>gtin13</th>\n",
       "      <th>gtin14</th>\n",
       "      <th>gtin8</th>\n",
       "      <th>ratingValue</th>\n",
       "      <th>bestRating</th>\n",
       "      <th>reviewCount</th>\n",
       "      <th>Unnamed: 17</th>\n",
       "      <th>Good Examples</th>\n",
       "      <th>parent_node_1</th>\n",
       "      <th>parent_node_2</th>\n",
       "    </tr>\n",
       "  </thead>\n",
       "  <tbody>\n",
       "    <tr>\n",
       "      <th>0</th>\n",
       "      <td>jessops-f2dd233dd6100c900432fd2902df8cde</td>\n",
       "      <td>Nikon Coolpix P900 Digital Camera</td>\n",
       "      <td>Bridge Cameras</td>\n",
       "      <td>GBP</td>\n",
       "      <td>479</td>\n",
       "      <td>Nikon</td>\n",
       "      <td>None</td>\n",
       "      <td>True</td>\n",
       "      <td>None</td>\n",
       "      <td>https://i.jessops.com/images/home/homepage/100...</td>\n",
       "      <td>...</td>\n",
       "      <td>NaN</td>\n",
       "      <td>None</td>\n",
       "      <td>2018-09-08 00:00:00.000000</td>\n",
       "      <td>10</td>\n",
       "      <td>162.0</td>\n",
       "      <td>NaN</td>\n",
       "      <td>None</td>\n",
       "      <td>None</td>\n",
       "      <td>Photo Devices</td>\n",
       "      <td>Point &amp; Shoot Cameras</td>\n",
       "    </tr>\n",
       "    <tr>\n",
       "      <th>1</th>\n",
       "      <td>jessops-ff2be7ba459709194635812c728a17fd</td>\n",
       "      <td>Canon EOS 750D Digital SLR with 18-55mm IS STM...</td>\n",
       "      <td>DSLR</td>\n",
       "      <td>GBP</td>\n",
       "      <td>539</td>\n",
       "      <td>Canon</td>\n",
       "      <td>None</td>\n",
       "      <td>True</td>\n",
       "      <td>None</td>\n",
       "      <td>https://i.jessops.com/images/home/homepage/100...</td>\n",
       "      <td>...</td>\n",
       "      <td>NaN</td>\n",
       "      <td>None</td>\n",
       "      <td>2018-02-09 00:00:00.000000</td>\n",
       "      <td>10</td>\n",
       "      <td>361.0</td>\n",
       "      <td>NaN</td>\n",
       "      <td>None</td>\n",
       "      <td>None</td>\n",
       "      <td>Photo Devices</td>\n",
       "      <td>DSLR</td>\n",
       "    </tr>\n",
       "    <tr>\n",
       "      <th>2</th>\n",
       "      <td>jessops-acfa4e6fdc0962be2da5bc1ed8d44357</td>\n",
       "      <td>Canon EOS 5D Mark IV Digital SLR Body</td>\n",
       "      <td>DSLR</td>\n",
       "      <td>GBP</td>\n",
       "      <td>3249</td>\n",
       "      <td>Canon</td>\n",
       "      <td>None</td>\n",
       "      <td>True</td>\n",
       "      <td>None</td>\n",
       "      <td>https://i.jessops.com/images/home/homepage/100...</td>\n",
       "      <td>...</td>\n",
       "      <td>NaN</td>\n",
       "      <td>None</td>\n",
       "      <td>None</td>\n",
       "      <td>2018-07-09 00:00:00</td>\n",
       "      <td>10.0</td>\n",
       "      <td>25.0</td>\n",
       "      <td>None</td>\n",
       "      <td>None</td>\n",
       "      <td>Photo Devices</td>\n",
       "      <td>DSLR</td>\n",
       "    </tr>\n",
       "    <tr>\n",
       "      <th>3</th>\n",
       "      <td>jessops-cabb446087d8428bfa741078869439b8</td>\n",
       "      <td>Canon EOS 7D Mark II Digital SLR Body</td>\n",
       "      <td>DSLR</td>\n",
       "      <td>GBP</td>\n",
       "      <td>1349</td>\n",
       "      <td>Canon</td>\n",
       "      <td>None</td>\n",
       "      <td>True</td>\n",
       "      <td>None</td>\n",
       "      <td>https://i.jessops.com/images/home/homepage/100...</td>\n",
       "      <td>...</td>\n",
       "      <td>NaN</td>\n",
       "      <td>None</td>\n",
       "      <td>None</td>\n",
       "      <td>2018-04-09 00:00:00</td>\n",
       "      <td>10.0</td>\n",
       "      <td>268.0</td>\n",
       "      <td>None</td>\n",
       "      <td>None</td>\n",
       "      <td>Photo Devices</td>\n",
       "      <td>DSLR</td>\n",
       "    </tr>\n",
       "    <tr>\n",
       "      <th>4</th>\n",
       "      <td>jessops-8c6e0672aa9297ee8ff4d95fa5e2edc0</td>\n",
       "      <td>Sony A6000 Mirrorless Camera in Black with 16-...</td>\n",
       "      <td>Full Frame Mirrorless Camera</td>\n",
       "      <td>GBP</td>\n",
       "      <td>449</td>\n",
       "      <td>Sony</td>\n",
       "      <td>None</td>\n",
       "      <td>True</td>\n",
       "      <td>None</td>\n",
       "      <td>https://i.jessops.com/images/home/homepage/100...</td>\n",
       "      <td>...</td>\n",
       "      <td>NaN</td>\n",
       "      <td>None</td>\n",
       "      <td>None</td>\n",
       "      <td>9.0</td>\n",
       "      <td>10.0</td>\n",
       "      <td>107.0</td>\n",
       "      <td>None</td>\n",
       "      <td>None</td>\n",
       "      <td>Photo Devices</td>\n",
       "      <td>Mirrorless Cameras</td>\n",
       "    </tr>\n",
       "  </tbody>\n",
       "</table>\n",
       "<p>5 rows × 21 columns</p>\n",
       "</div>"
      ],
      "text/plain": [
       "                                         ID  \\\n",
       "0  jessops-f2dd233dd6100c900432fd2902df8cde   \n",
       "1  jessops-ff2be7ba459709194635812c728a17fd   \n",
       "2  jessops-acfa4e6fdc0962be2da5bc1ed8d44357   \n",
       "3  jessops-cabb446087d8428bfa741078869439b8   \n",
       "4  jessops-8c6e0672aa9297ee8ff4d95fa5e2edc0   \n",
       "\n",
       "                                                name  \\\n",
       "0                  Nikon Coolpix P900 Digital Camera   \n",
       "1  Canon EOS 750D Digital SLR with 18-55mm IS STM...   \n",
       "2              Canon EOS 5D Mark IV Digital SLR Body   \n",
       "3              Canon EOS 7D Mark II Digital SLR Body   \n",
       "4  Sony A6000 Mirrorless Camera in Black with 16-...   \n",
       "\n",
       "                      Leaf_Node priceCurrency price  brand itemCondition  \\\n",
       "0                Bridge Cameras           GBP   479  Nikon          None   \n",
       "1                          DSLR           GBP   539  Canon          None   \n",
       "2                          DSLR           GBP  3249  Canon          None   \n",
       "3                          DSLR           GBP  1349  Canon          None   \n",
       "4  Full Frame Mirrorless Camera           GBP   449   Sony          None   \n",
       "\n",
       "  availability Description                                              image  \\\n",
       "0         True        None  https://i.jessops.com/images/home/homepage/100...   \n",
       "1         True        None  https://i.jessops.com/images/home/homepage/100...   \n",
       "2         True        None  https://i.jessops.com/images/home/homepage/100...   \n",
       "3         True        None  https://i.jessops.com/images/home/homepage/100...   \n",
       "4         True        None  https://i.jessops.com/images/home/homepage/100...   \n",
       "\n",
       "           ...           gtin13  gtin14                       gtin8  \\\n",
       "0          ...              NaN    None  2018-09-08 00:00:00.000000   \n",
       "1          ...              NaN    None  2018-02-09 00:00:00.000000   \n",
       "2          ...              NaN    None                        None   \n",
       "3          ...              NaN    None                        None   \n",
       "4          ...              NaN    None                        None   \n",
       "\n",
       "           ratingValue bestRating  reviewCount  Unnamed: 17 Good Examples  \\\n",
       "0                   10      162.0          NaN         None          None   \n",
       "1                   10      361.0          NaN         None          None   \n",
       "2  2018-07-09 00:00:00       10.0         25.0         None          None   \n",
       "3  2018-04-09 00:00:00       10.0        268.0         None          None   \n",
       "4                  9.0       10.0        107.0         None          None   \n",
       "\n",
       "   parent_node_1          parent_node_2  \n",
       "0  Photo Devices  Point & Shoot Cameras  \n",
       "1  Photo Devices                   DSLR  \n",
       "2  Photo Devices                   DSLR  \n",
       "3  Photo Devices                   DSLR  \n",
       "4  Photo Devices     Mirrorless Cameras  \n",
       "\n",
       "[5 rows x 21 columns]"
      ]
     },
     "execution_count": 12,
     "metadata": {},
     "output_type": "execute_result"
    }
   ],
   "source": [
    "df.head()"
   ]
  },
  {
   "cell_type": "code",
   "execution_count": 13,
   "metadata": {
    "collapsed": true
   },
   "outputs": [],
   "source": [
    "corpus=df['name']\n",
    "vectorizer = CountVectorizer()\n",
    "matrix=vectorizer.fit_transform(corpus).todense()\n",
    "vocab=vectorizer.vocabulary_ \n",
    "bags_words=pd.DataFrame(matrix, columns=vocab)\n",
    "bags_words['ID']=df['ID']\n",
    "bags_words['Parent_node_1']=df['parent_node_1']\n",
    "bags_words['Parent_node_2']=df['parent_node_2']\n",
    "bags_words['Leaf_Node']=df['Leaf_Node']"
   ]
  },
  {
   "cell_type": "code",
   "execution_count": 14,
   "metadata": {},
   "outputs": [
    {
     "data": {
      "text/html": [
       "<div>\n",
       "<style>\n",
       "    .dataframe thead tr:only-child th {\n",
       "        text-align: right;\n",
       "    }\n",
       "\n",
       "    .dataframe thead th {\n",
       "        text-align: left;\n",
       "    }\n",
       "\n",
       "    .dataframe tbody tr th {\n",
       "        vertical-align: top;\n",
       "    }\n",
       "</style>\n",
       "<table border=\"1\" class=\"dataframe\">\n",
       "  <thead>\n",
       "    <tr style=\"text-align: right;\">\n",
       "      <th></th>\n",
       "      <th>cameras</th>\n",
       "      <th>oss</th>\n",
       "      <th>yashica</th>\n",
       "      <th>gz</th>\n",
       "      <th>yellow</th>\n",
       "      <th>32mm</th>\n",
       "      <th>012</th>\n",
       "      <th>gb</th>\n",
       "      <th>go</th>\n",
       "      <th>z212</th>\n",
       "      <th>...</th>\n",
       "      <th>hx400</th>\n",
       "      <th>karma</th>\n",
       "      <th>fz43</th>\n",
       "      <th>deluxe</th>\n",
       "      <th>cpt</th>\n",
       "      <th>dvr</th>\n",
       "      <th>ID</th>\n",
       "      <th>Parent_node_1</th>\n",
       "      <th>Parent_node_2</th>\n",
       "      <th>Leaf_Node</th>\n",
       "    </tr>\n",
       "  </thead>\n",
       "  <tbody>\n",
       "    <tr>\n",
       "      <th>0</th>\n",
       "      <td>0</td>\n",
       "      <td>0</td>\n",
       "      <td>0</td>\n",
       "      <td>0</td>\n",
       "      <td>0</td>\n",
       "      <td>0</td>\n",
       "      <td>0</td>\n",
       "      <td>0</td>\n",
       "      <td>0</td>\n",
       "      <td>0</td>\n",
       "      <td>...</td>\n",
       "      <td>0</td>\n",
       "      <td>0</td>\n",
       "      <td>0</td>\n",
       "      <td>0</td>\n",
       "      <td>0</td>\n",
       "      <td>0</td>\n",
       "      <td>jessops-f2dd233dd6100c900432fd2902df8cde</td>\n",
       "      <td>Photo Devices</td>\n",
       "      <td>Point &amp; Shoot Cameras</td>\n",
       "      <td>Bridge Cameras</td>\n",
       "    </tr>\n",
       "    <tr>\n",
       "      <th>1</th>\n",
       "      <td>0</td>\n",
       "      <td>0</td>\n",
       "      <td>0</td>\n",
       "      <td>0</td>\n",
       "      <td>0</td>\n",
       "      <td>0</td>\n",
       "      <td>0</td>\n",
       "      <td>0</td>\n",
       "      <td>0</td>\n",
       "      <td>0</td>\n",
       "      <td>...</td>\n",
       "      <td>0</td>\n",
       "      <td>0</td>\n",
       "      <td>0</td>\n",
       "      <td>0</td>\n",
       "      <td>0</td>\n",
       "      <td>0</td>\n",
       "      <td>jessops-ff2be7ba459709194635812c728a17fd</td>\n",
       "      <td>Photo Devices</td>\n",
       "      <td>DSLR</td>\n",
       "      <td>DSLR</td>\n",
       "    </tr>\n",
       "    <tr>\n",
       "      <th>2</th>\n",
       "      <td>0</td>\n",
       "      <td>0</td>\n",
       "      <td>0</td>\n",
       "      <td>0</td>\n",
       "      <td>0</td>\n",
       "      <td>0</td>\n",
       "      <td>0</td>\n",
       "      <td>0</td>\n",
       "      <td>0</td>\n",
       "      <td>0</td>\n",
       "      <td>...</td>\n",
       "      <td>0</td>\n",
       "      <td>0</td>\n",
       "      <td>0</td>\n",
       "      <td>0</td>\n",
       "      <td>0</td>\n",
       "      <td>0</td>\n",
       "      <td>jessops-acfa4e6fdc0962be2da5bc1ed8d44357</td>\n",
       "      <td>Photo Devices</td>\n",
       "      <td>DSLR</td>\n",
       "      <td>DSLR</td>\n",
       "    </tr>\n",
       "    <tr>\n",
       "      <th>3</th>\n",
       "      <td>0</td>\n",
       "      <td>0</td>\n",
       "      <td>0</td>\n",
       "      <td>0</td>\n",
       "      <td>0</td>\n",
       "      <td>0</td>\n",
       "      <td>0</td>\n",
       "      <td>0</td>\n",
       "      <td>0</td>\n",
       "      <td>0</td>\n",
       "      <td>...</td>\n",
       "      <td>0</td>\n",
       "      <td>0</td>\n",
       "      <td>0</td>\n",
       "      <td>0</td>\n",
       "      <td>0</td>\n",
       "      <td>0</td>\n",
       "      <td>jessops-cabb446087d8428bfa741078869439b8</td>\n",
       "      <td>Photo Devices</td>\n",
       "      <td>DSLR</td>\n",
       "      <td>DSLR</td>\n",
       "    </tr>\n",
       "    <tr>\n",
       "      <th>4</th>\n",
       "      <td>0</td>\n",
       "      <td>0</td>\n",
       "      <td>0</td>\n",
       "      <td>0</td>\n",
       "      <td>0</td>\n",
       "      <td>0</td>\n",
       "      <td>0</td>\n",
       "      <td>0</td>\n",
       "      <td>0</td>\n",
       "      <td>0</td>\n",
       "      <td>...</td>\n",
       "      <td>0</td>\n",
       "      <td>0</td>\n",
       "      <td>1</td>\n",
       "      <td>0</td>\n",
       "      <td>0</td>\n",
       "      <td>0</td>\n",
       "      <td>jessops-8c6e0672aa9297ee8ff4d95fa5e2edc0</td>\n",
       "      <td>Photo Devices</td>\n",
       "      <td>Mirrorless Cameras</td>\n",
       "      <td>Full Frame Mirrorless Camera</td>\n",
       "    </tr>\n",
       "  </tbody>\n",
       "</table>\n",
       "<p>5 rows × 879 columns</p>\n",
       "</div>"
      ],
      "text/plain": [
       "   cameras  oss  yashica  gz  yellow  32mm  012  gb  go  z212  \\\n",
       "0        0    0        0   0       0     0    0   0   0     0   \n",
       "1        0    0        0   0       0     0    0   0   0     0   \n",
       "2        0    0        0   0       0     0    0   0   0     0   \n",
       "3        0    0        0   0       0     0    0   0   0     0   \n",
       "4        0    0        0   0       0     0    0   0   0     0   \n",
       "\n",
       "               ...               hx400  karma  fz43  deluxe  cpt  dvr  \\\n",
       "0              ...                   0      0     0       0    0    0   \n",
       "1              ...                   0      0     0       0    0    0   \n",
       "2              ...                   0      0     0       0    0    0   \n",
       "3              ...                   0      0     0       0    0    0   \n",
       "4              ...                   0      0     1       0    0    0   \n",
       "\n",
       "                                         ID  Parent_node_1  \\\n",
       "0  jessops-f2dd233dd6100c900432fd2902df8cde  Photo Devices   \n",
       "1  jessops-ff2be7ba459709194635812c728a17fd  Photo Devices   \n",
       "2  jessops-acfa4e6fdc0962be2da5bc1ed8d44357  Photo Devices   \n",
       "3  jessops-cabb446087d8428bfa741078869439b8  Photo Devices   \n",
       "4  jessops-8c6e0672aa9297ee8ff4d95fa5e2edc0  Photo Devices   \n",
       "\n",
       "           Parent_node_2                     Leaf_Node  \n",
       "0  Point & Shoot Cameras                Bridge Cameras  \n",
       "1                   DSLR                          DSLR  \n",
       "2                   DSLR                          DSLR  \n",
       "3                   DSLR                          DSLR  \n",
       "4     Mirrorless Cameras  Full Frame Mirrorless Camera  \n",
       "\n",
       "[5 rows x 879 columns]"
      ]
     },
     "execution_count": 14,
     "metadata": {},
     "output_type": "execute_result"
    }
   ],
   "source": [
    "bags_words.head()"
   ]
  },
  {
   "cell_type": "code",
   "execution_count": 15,
   "metadata": {
    "collapsed": true
   },
   "outputs": [],
   "source": [
    "from sklearn.tree import DecisionTreeClassifier\n",
    "from sklearn.model_selection import GridSearchCV\n",
    "from sklearn.preprocessing import OneHotEncoder"
   ]
  },
  {
   "cell_type": "code",
   "execution_count": 16,
   "metadata": {
    "collapsed": true
   },
   "outputs": [],
   "source": [
    "import numpy as np\n",
    "import scipy.sparse as sp"
   ]
  },
  {
   "cell_type": "code",
   "execution_count": 17,
   "metadata": {
    "collapsed": true
   },
   "outputs": [],
   "source": [
    "from sklearn.model_selection import train_test_split"
   ]
  },
  {
   "cell_type": "code",
   "execution_count": 18,
   "metadata": {
    "collapsed": true
   },
   "outputs": [],
   "source": [
    "X=bags_words.drop(['ID','Parent_node_1','Parent_node_2','Leaf_Node'],axis=1) #independent variables\n",
    "y_all=bags_words[['Parent_node_1','Parent_node_2','Leaf_Node']]"
   ]
  },
  {
   "cell_type": "code",
   "execution_count": 19,
   "metadata": {
    "collapsed": true
   },
   "outputs": [],
   "source": [
    "y_all=pd.get_dummies(y_all)"
   ]
  },
  {
   "cell_type": "code",
   "execution_count": 20,
   "metadata": {},
   "outputs": [
    {
     "data": {
      "text/html": [
       "<div>\n",
       "<style>\n",
       "    .dataframe thead tr:only-child th {\n",
       "        text-align: right;\n",
       "    }\n",
       "\n",
       "    .dataframe thead th {\n",
       "        text-align: left;\n",
       "    }\n",
       "\n",
       "    .dataframe tbody tr th {\n",
       "        vertical-align: top;\n",
       "    }\n",
       "</style>\n",
       "<table border=\"1\" class=\"dataframe\">\n",
       "  <thead>\n",
       "    <tr style=\"text-align: right;\">\n",
       "      <th></th>\n",
       "      <th>Parent_node_1_Cam Corders</th>\n",
       "      <th>Parent_node_1_Not Camera</th>\n",
       "      <th>Parent_node_1_Photo Devices</th>\n",
       "      <th>Parent_node_2_Action Cameras</th>\n",
       "      <th>Parent_node_2_DSLR</th>\n",
       "      <th>Parent_node_2_Mirrorless Cameras</th>\n",
       "      <th>Parent_node_2_Not Camera</th>\n",
       "      <th>Parent_node_2_Point &amp; Shoot Cameras</th>\n",
       "      <th>Parent_node_2_Traditional Video Cameras</th>\n",
       "      <th>Leaf_Node_360 Degree Cameras</th>\n",
       "      <th>...</th>\n",
       "      <th>Leaf_Node_Common Use Video Cameras</th>\n",
       "      <th>Leaf_Node_DSLR</th>\n",
       "      <th>Leaf_Node_Digital Compact Cameras</th>\n",
       "      <th>Leaf_Node_Drone</th>\n",
       "      <th>Leaf_Node_Full Frame Mirrorless Camera</th>\n",
       "      <th>Leaf_Node_Instant</th>\n",
       "      <th>Leaf_Node_Non 360 Degree Cameras</th>\n",
       "      <th>Leaf_Node_NonFullFrameMirrorlessCamera</th>\n",
       "      <th>Leaf_Node_Not Camera</th>\n",
       "      <th>Leaf_Node_Professional Video Cameras</th>\n",
       "    </tr>\n",
       "  </thead>\n",
       "  <tbody>\n",
       "    <tr>\n",
       "      <th>0</th>\n",
       "      <td>0</td>\n",
       "      <td>0</td>\n",
       "      <td>1</td>\n",
       "      <td>0</td>\n",
       "      <td>0</td>\n",
       "      <td>0</td>\n",
       "      <td>0</td>\n",
       "      <td>1</td>\n",
       "      <td>0</td>\n",
       "      <td>0</td>\n",
       "      <td>...</td>\n",
       "      <td>0</td>\n",
       "      <td>0</td>\n",
       "      <td>0</td>\n",
       "      <td>0</td>\n",
       "      <td>0</td>\n",
       "      <td>0</td>\n",
       "      <td>0</td>\n",
       "      <td>0</td>\n",
       "      <td>0</td>\n",
       "      <td>0</td>\n",
       "    </tr>\n",
       "    <tr>\n",
       "      <th>1</th>\n",
       "      <td>0</td>\n",
       "      <td>0</td>\n",
       "      <td>1</td>\n",
       "      <td>0</td>\n",
       "      <td>1</td>\n",
       "      <td>0</td>\n",
       "      <td>0</td>\n",
       "      <td>0</td>\n",
       "      <td>0</td>\n",
       "      <td>0</td>\n",
       "      <td>...</td>\n",
       "      <td>0</td>\n",
       "      <td>1</td>\n",
       "      <td>0</td>\n",
       "      <td>0</td>\n",
       "      <td>0</td>\n",
       "      <td>0</td>\n",
       "      <td>0</td>\n",
       "      <td>0</td>\n",
       "      <td>0</td>\n",
       "      <td>0</td>\n",
       "    </tr>\n",
       "    <tr>\n",
       "      <th>2</th>\n",
       "      <td>0</td>\n",
       "      <td>0</td>\n",
       "      <td>1</td>\n",
       "      <td>0</td>\n",
       "      <td>1</td>\n",
       "      <td>0</td>\n",
       "      <td>0</td>\n",
       "      <td>0</td>\n",
       "      <td>0</td>\n",
       "      <td>0</td>\n",
       "      <td>...</td>\n",
       "      <td>0</td>\n",
       "      <td>1</td>\n",
       "      <td>0</td>\n",
       "      <td>0</td>\n",
       "      <td>0</td>\n",
       "      <td>0</td>\n",
       "      <td>0</td>\n",
       "      <td>0</td>\n",
       "      <td>0</td>\n",
       "      <td>0</td>\n",
       "    </tr>\n",
       "    <tr>\n",
       "      <th>3</th>\n",
       "      <td>0</td>\n",
       "      <td>0</td>\n",
       "      <td>1</td>\n",
       "      <td>0</td>\n",
       "      <td>1</td>\n",
       "      <td>0</td>\n",
       "      <td>0</td>\n",
       "      <td>0</td>\n",
       "      <td>0</td>\n",
       "      <td>0</td>\n",
       "      <td>...</td>\n",
       "      <td>0</td>\n",
       "      <td>1</td>\n",
       "      <td>0</td>\n",
       "      <td>0</td>\n",
       "      <td>0</td>\n",
       "      <td>0</td>\n",
       "      <td>0</td>\n",
       "      <td>0</td>\n",
       "      <td>0</td>\n",
       "      <td>0</td>\n",
       "    </tr>\n",
       "    <tr>\n",
       "      <th>4</th>\n",
       "      <td>0</td>\n",
       "      <td>0</td>\n",
       "      <td>1</td>\n",
       "      <td>0</td>\n",
       "      <td>0</td>\n",
       "      <td>1</td>\n",
       "      <td>0</td>\n",
       "      <td>0</td>\n",
       "      <td>0</td>\n",
       "      <td>0</td>\n",
       "      <td>...</td>\n",
       "      <td>0</td>\n",
       "      <td>0</td>\n",
       "      <td>0</td>\n",
       "      <td>0</td>\n",
       "      <td>1</td>\n",
       "      <td>0</td>\n",
       "      <td>0</td>\n",
       "      <td>0</td>\n",
       "      <td>0</td>\n",
       "      <td>0</td>\n",
       "    </tr>\n",
       "  </tbody>\n",
       "</table>\n",
       "<p>5 rows × 21 columns</p>\n",
       "</div>"
      ],
      "text/plain": [
       "   Parent_node_1_Cam Corders  Parent_node_1_Not Camera  \\\n",
       "0                          0                         0   \n",
       "1                          0                         0   \n",
       "2                          0                         0   \n",
       "3                          0                         0   \n",
       "4                          0                         0   \n",
       "\n",
       "   Parent_node_1_Photo Devices  Parent_node_2_Action Cameras  \\\n",
       "0                            1                             0   \n",
       "1                            1                             0   \n",
       "2                            1                             0   \n",
       "3                            1                             0   \n",
       "4                            1                             0   \n",
       "\n",
       "   Parent_node_2_DSLR  Parent_node_2_Mirrorless Cameras  \\\n",
       "0                   0                                 0   \n",
       "1                   1                                 0   \n",
       "2                   1                                 0   \n",
       "3                   1                                 0   \n",
       "4                   0                                 1   \n",
       "\n",
       "   Parent_node_2_Not Camera  Parent_node_2_Point & Shoot Cameras  \\\n",
       "0                         0                                    1   \n",
       "1                         0                                    0   \n",
       "2                         0                                    0   \n",
       "3                         0                                    0   \n",
       "4                         0                                    0   \n",
       "\n",
       "   Parent_node_2_Traditional Video Cameras  Leaf_Node_360 Degree Cameras  \\\n",
       "0                                        0                             0   \n",
       "1                                        0                             0   \n",
       "2                                        0                             0   \n",
       "3                                        0                             0   \n",
       "4                                        0                             0   \n",
       "\n",
       "                   ...                   Leaf_Node_Common Use Video Cameras  \\\n",
       "0                  ...                                                    0   \n",
       "1                  ...                                                    0   \n",
       "2                  ...                                                    0   \n",
       "3                  ...                                                    0   \n",
       "4                  ...                                                    0   \n",
       "\n",
       "   Leaf_Node_DSLR  Leaf_Node_Digital Compact Cameras  Leaf_Node_Drone  \\\n",
       "0               0                                  0                0   \n",
       "1               1                                  0                0   \n",
       "2               1                                  0                0   \n",
       "3               1                                  0                0   \n",
       "4               0                                  0                0   \n",
       "\n",
       "   Leaf_Node_Full Frame Mirrorless Camera  Leaf_Node_Instant  \\\n",
       "0                                       0                  0   \n",
       "1                                       0                  0   \n",
       "2                                       0                  0   \n",
       "3                                       0                  0   \n",
       "4                                       1                  0   \n",
       "\n",
       "   Leaf_Node_Non 360 Degree Cameras  Leaf_Node_NonFullFrameMirrorlessCamera  \\\n",
       "0                                 0                                       0   \n",
       "1                                 0                                       0   \n",
       "2                                 0                                       0   \n",
       "3                                 0                                       0   \n",
       "4                                 0                                       0   \n",
       "\n",
       "   Leaf_Node_Not Camera  Leaf_Node_Professional Video Cameras  \n",
       "0                     0                                     0  \n",
       "1                     0                                     0  \n",
       "2                     0                                     0  \n",
       "3                     0                                     0  \n",
       "4                     0                                     0  \n",
       "\n",
       "[5 rows x 21 columns]"
      ]
     },
     "execution_count": 20,
     "metadata": {},
     "output_type": "execute_result"
    }
   ],
   "source": [
    "y_all.head() #y values"
   ]
  },
  {
   "cell_type": "code",
   "execution_count": 21,
   "metadata": {},
   "outputs": [
    {
     "data": {
      "text/plain": [
       "(416, 21)"
      ]
     },
     "execution_count": 21,
     "metadata": {},
     "output_type": "execute_result"
    }
   ],
   "source": [
    "y_all.shape"
   ]
  },
  {
   "cell_type": "code",
   "execution_count": 22,
   "metadata": {},
   "outputs": [
    {
     "data": {
      "text/plain": [
       "(416, 875)"
      ]
     },
     "execution_count": 22,
     "metadata": {},
     "output_type": "execute_result"
    }
   ],
   "source": [
    "X.shape"
   ]
  },
  {
   "cell_type": "code",
   "execution_count": 23,
   "metadata": {},
   "outputs": [
    {
     "data": {
      "text/plain": [
       "(416, 21)"
      ]
     },
     "execution_count": 23,
     "metadata": {},
     "output_type": "execute_result"
    }
   ],
   "source": [
    "y_all.shape"
   ]
  },
  {
   "cell_type": "code",
   "execution_count": 24,
   "metadata": {
    "collapsed": true
   },
   "outputs": [],
   "source": [
    "X_train, X_test, y_train, y_test = train_test_split(X, y_all, test_size=0.30, random_state=42)"
   ]
  },
  {
   "cell_type": "code",
   "execution_count": 25,
   "metadata": {},
   "outputs": [
    {
     "data": {
      "text/plain": [
       "(291, 21)"
      ]
     },
     "execution_count": 25,
     "metadata": {},
     "output_type": "execute_result"
    }
   ],
   "source": [
    "y_train.shape"
   ]
  },
  {
   "cell_type": "code",
   "execution_count": 26,
   "metadata": {},
   "outputs": [
    {
     "data": {
      "text/html": [
       "<div>\n",
       "<style>\n",
       "    .dataframe thead tr:only-child th {\n",
       "        text-align: right;\n",
       "    }\n",
       "\n",
       "    .dataframe thead th {\n",
       "        text-align: left;\n",
       "    }\n",
       "\n",
       "    .dataframe tbody tr th {\n",
       "        vertical-align: top;\n",
       "    }\n",
       "</style>\n",
       "<table border=\"1\" class=\"dataframe\">\n",
       "  <thead>\n",
       "    <tr style=\"text-align: right;\">\n",
       "      <th></th>\n",
       "      <th>Parent_node_1_Cam Corders</th>\n",
       "      <th>Parent_node_1_Not Camera</th>\n",
       "      <th>Parent_node_1_Photo Devices</th>\n",
       "      <th>Parent_node_2_Action Cameras</th>\n",
       "      <th>Parent_node_2_DSLR</th>\n",
       "      <th>Parent_node_2_Mirrorless Cameras</th>\n",
       "      <th>Parent_node_2_Not Camera</th>\n",
       "      <th>Parent_node_2_Point &amp; Shoot Cameras</th>\n",
       "      <th>Parent_node_2_Traditional Video Cameras</th>\n",
       "      <th>Leaf_Node_360 Degree Cameras</th>\n",
       "      <th>...</th>\n",
       "      <th>Leaf_Node_Common Use Video Cameras</th>\n",
       "      <th>Leaf_Node_DSLR</th>\n",
       "      <th>Leaf_Node_Digital Compact Cameras</th>\n",
       "      <th>Leaf_Node_Drone</th>\n",
       "      <th>Leaf_Node_Full Frame Mirrorless Camera</th>\n",
       "      <th>Leaf_Node_Instant</th>\n",
       "      <th>Leaf_Node_Non 360 Degree Cameras</th>\n",
       "      <th>Leaf_Node_NonFullFrameMirrorlessCamera</th>\n",
       "      <th>Leaf_Node_Not Camera</th>\n",
       "      <th>Leaf_Node_Professional Video Cameras</th>\n",
       "    </tr>\n",
       "  </thead>\n",
       "  <tbody>\n",
       "    <tr>\n",
       "      <th>238</th>\n",
       "      <td>1</td>\n",
       "      <td>0</td>\n",
       "      <td>0</td>\n",
       "      <td>1</td>\n",
       "      <td>0</td>\n",
       "      <td>0</td>\n",
       "      <td>0</td>\n",
       "      <td>0</td>\n",
       "      <td>0</td>\n",
       "      <td>0</td>\n",
       "      <td>...</td>\n",
       "      <td>0</td>\n",
       "      <td>0</td>\n",
       "      <td>0</td>\n",
       "      <td>0</td>\n",
       "      <td>0</td>\n",
       "      <td>0</td>\n",
       "      <td>1</td>\n",
       "      <td>0</td>\n",
       "      <td>0</td>\n",
       "      <td>0</td>\n",
       "    </tr>\n",
       "    <tr>\n",
       "      <th>75</th>\n",
       "      <td>0</td>\n",
       "      <td>0</td>\n",
       "      <td>1</td>\n",
       "      <td>0</td>\n",
       "      <td>1</td>\n",
       "      <td>0</td>\n",
       "      <td>0</td>\n",
       "      <td>0</td>\n",
       "      <td>0</td>\n",
       "      <td>0</td>\n",
       "      <td>...</td>\n",
       "      <td>0</td>\n",
       "      <td>1</td>\n",
       "      <td>0</td>\n",
       "      <td>0</td>\n",
       "      <td>0</td>\n",
       "      <td>0</td>\n",
       "      <td>0</td>\n",
       "      <td>0</td>\n",
       "      <td>0</td>\n",
       "      <td>0</td>\n",
       "    </tr>\n",
       "    <tr>\n",
       "      <th>131</th>\n",
       "      <td>1</td>\n",
       "      <td>0</td>\n",
       "      <td>0</td>\n",
       "      <td>1</td>\n",
       "      <td>0</td>\n",
       "      <td>0</td>\n",
       "      <td>0</td>\n",
       "      <td>0</td>\n",
       "      <td>0</td>\n",
       "      <td>0</td>\n",
       "      <td>...</td>\n",
       "      <td>0</td>\n",
       "      <td>0</td>\n",
       "      <td>0</td>\n",
       "      <td>0</td>\n",
       "      <td>0</td>\n",
       "      <td>0</td>\n",
       "      <td>1</td>\n",
       "      <td>0</td>\n",
       "      <td>0</td>\n",
       "      <td>0</td>\n",
       "    </tr>\n",
       "    <tr>\n",
       "      <th>361</th>\n",
       "      <td>0</td>\n",
       "      <td>0</td>\n",
       "      <td>1</td>\n",
       "      <td>0</td>\n",
       "      <td>1</td>\n",
       "      <td>0</td>\n",
       "      <td>0</td>\n",
       "      <td>0</td>\n",
       "      <td>0</td>\n",
       "      <td>0</td>\n",
       "      <td>...</td>\n",
       "      <td>0</td>\n",
       "      <td>1</td>\n",
       "      <td>0</td>\n",
       "      <td>0</td>\n",
       "      <td>0</td>\n",
       "      <td>0</td>\n",
       "      <td>0</td>\n",
       "      <td>0</td>\n",
       "      <td>0</td>\n",
       "      <td>0</td>\n",
       "    </tr>\n",
       "    <tr>\n",
       "      <th>307</th>\n",
       "      <td>1</td>\n",
       "      <td>0</td>\n",
       "      <td>0</td>\n",
       "      <td>1</td>\n",
       "      <td>0</td>\n",
       "      <td>0</td>\n",
       "      <td>0</td>\n",
       "      <td>0</td>\n",
       "      <td>0</td>\n",
       "      <td>0</td>\n",
       "      <td>...</td>\n",
       "      <td>0</td>\n",
       "      <td>0</td>\n",
       "      <td>0</td>\n",
       "      <td>1</td>\n",
       "      <td>0</td>\n",
       "      <td>0</td>\n",
       "      <td>0</td>\n",
       "      <td>0</td>\n",
       "      <td>0</td>\n",
       "      <td>0</td>\n",
       "    </tr>\n",
       "  </tbody>\n",
       "</table>\n",
       "<p>5 rows × 21 columns</p>\n",
       "</div>"
      ],
      "text/plain": [
       "     Parent_node_1_Cam Corders  Parent_node_1_Not Camera  \\\n",
       "238                          1                         0   \n",
       "75                           0                         0   \n",
       "131                          1                         0   \n",
       "361                          0                         0   \n",
       "307                          1                         0   \n",
       "\n",
       "     Parent_node_1_Photo Devices  Parent_node_2_Action Cameras  \\\n",
       "238                            0                             1   \n",
       "75                             1                             0   \n",
       "131                            0                             1   \n",
       "361                            1                             0   \n",
       "307                            0                             1   \n",
       "\n",
       "     Parent_node_2_DSLR  Parent_node_2_Mirrorless Cameras  \\\n",
       "238                   0                                 0   \n",
       "75                    1                                 0   \n",
       "131                   0                                 0   \n",
       "361                   1                                 0   \n",
       "307                   0                                 0   \n",
       "\n",
       "     Parent_node_2_Not Camera  Parent_node_2_Point & Shoot Cameras  \\\n",
       "238                         0                                    0   \n",
       "75                          0                                    0   \n",
       "131                         0                                    0   \n",
       "361                         0                                    0   \n",
       "307                         0                                    0   \n",
       "\n",
       "     Parent_node_2_Traditional Video Cameras  Leaf_Node_360 Degree Cameras  \\\n",
       "238                                        0                             0   \n",
       "75                                         0                             0   \n",
       "131                                        0                             0   \n",
       "361                                        0                             0   \n",
       "307                                        0                             0   \n",
       "\n",
       "                     ...                   Leaf_Node_Common Use Video Cameras  \\\n",
       "238                  ...                                                    0   \n",
       "75                   ...                                                    0   \n",
       "131                  ...                                                    0   \n",
       "361                  ...                                                    0   \n",
       "307                  ...                                                    0   \n",
       "\n",
       "     Leaf_Node_DSLR  Leaf_Node_Digital Compact Cameras  Leaf_Node_Drone  \\\n",
       "238               0                                  0                0   \n",
       "75                1                                  0                0   \n",
       "131               0                                  0                0   \n",
       "361               1                                  0                0   \n",
       "307               0                                  0                1   \n",
       "\n",
       "     Leaf_Node_Full Frame Mirrorless Camera  Leaf_Node_Instant  \\\n",
       "238                                       0                  0   \n",
       "75                                        0                  0   \n",
       "131                                       0                  0   \n",
       "361                                       0                  0   \n",
       "307                                       0                  0   \n",
       "\n",
       "     Leaf_Node_Non 360 Degree Cameras  Leaf_Node_NonFullFrameMirrorlessCamera  \\\n",
       "238                                 1                                       0   \n",
       "75                                  0                                       0   \n",
       "131                                 1                                       0   \n",
       "361                                 0                                       0   \n",
       "307                                 0                                       0   \n",
       "\n",
       "     Leaf_Node_Not Camera  Leaf_Node_Professional Video Cameras  \n",
       "238                     0                                     0  \n",
       "75                      0                                     0  \n",
       "131                     0                                     0  \n",
       "361                     0                                     0  \n",
       "307                     0                                     0  \n",
       "\n",
       "[5 rows x 21 columns]"
      ]
     },
     "execution_count": 26,
     "metadata": {},
     "output_type": "execute_result"
    }
   ],
   "source": [
    "y_train.head()"
   ]
  },
  {
   "cell_type": "code",
   "execution_count": 27,
   "metadata": {
    "collapsed": true
   },
   "outputs": [],
   "source": [
    "index_values=y_test.index.values"
   ]
  },
  {
   "cell_type": "code",
   "execution_count": 28,
   "metadata": {
    "collapsed": true
   },
   "outputs": [],
   "source": [
    "bags_words2=bags_words.reset_index()\n",
    "bags_words2=bags_words2[['ID','index']]\n",
    "idds=pd.DataFrame(bags_words2[bags_words2['index'].isin(index_values)]['ID']).reset_index().drop('index',axis=1).values"
   ]
  },
  {
   "cell_type": "code",
   "execution_count": 29,
   "metadata": {
    "collapsed": true
   },
   "outputs": [],
   "source": [
    "y_new_train=y_train.as_matrix()\n",
    "y_new_train=sp.csr_matrix(y_new_train)"
   ]
  },
  {
   "cell_type": "code",
   "execution_count": 30,
   "metadata": {},
   "outputs": [
    {
     "data": {
      "text/plain": [
       "array([[1, 0, 0, ..., 0, 0, 0],\n",
       "       [0, 0, 1, ..., 0, 0, 0],\n",
       "       [1, 0, 0, ..., 0, 0, 0],\n",
       "       ..., \n",
       "       [1, 0, 0, ..., 0, 0, 0],\n",
       "       [0, 0, 1, ..., 0, 0, 0],\n",
       "       [1, 0, 0, ..., 0, 0, 1]], dtype=uint8)"
      ]
     },
     "execution_count": 30,
     "metadata": {},
     "output_type": "execute_result"
    }
   ],
   "source": [
    "y_new_train.toarray() #make them this way"
   ]
  },
  {
   "cell_type": "code",
   "execution_count": 31,
   "metadata": {
    "collapsed": true
   },
   "outputs": [],
   "source": [
    "y_new_test=pd.get_dummies(y_test)"
   ]
  },
  {
   "cell_type": "code",
   "execution_count": 32,
   "metadata": {},
   "outputs": [
    {
     "data": {
      "text/html": [
       "<div>\n",
       "<style>\n",
       "    .dataframe thead tr:only-child th {\n",
       "        text-align: right;\n",
       "    }\n",
       "\n",
       "    .dataframe thead th {\n",
       "        text-align: left;\n",
       "    }\n",
       "\n",
       "    .dataframe tbody tr th {\n",
       "        vertical-align: top;\n",
       "    }\n",
       "</style>\n",
       "<table border=\"1\" class=\"dataframe\">\n",
       "  <thead>\n",
       "    <tr style=\"text-align: right;\">\n",
       "      <th></th>\n",
       "      <th>Parent_node_1_Cam Corders</th>\n",
       "      <th>Parent_node_1_Not Camera</th>\n",
       "      <th>Parent_node_1_Photo Devices</th>\n",
       "      <th>Parent_node_2_Action Cameras</th>\n",
       "      <th>Parent_node_2_DSLR</th>\n",
       "      <th>Parent_node_2_Mirrorless Cameras</th>\n",
       "      <th>Parent_node_2_Not Camera</th>\n",
       "      <th>Parent_node_2_Point &amp; Shoot Cameras</th>\n",
       "      <th>Parent_node_2_Traditional Video Cameras</th>\n",
       "      <th>Leaf_Node_360 Degree Cameras</th>\n",
       "      <th>...</th>\n",
       "      <th>Leaf_Node_Common Use Video Cameras</th>\n",
       "      <th>Leaf_Node_DSLR</th>\n",
       "      <th>Leaf_Node_Digital Compact Cameras</th>\n",
       "      <th>Leaf_Node_Drone</th>\n",
       "      <th>Leaf_Node_Full Frame Mirrorless Camera</th>\n",
       "      <th>Leaf_Node_Instant</th>\n",
       "      <th>Leaf_Node_Non 360 Degree Cameras</th>\n",
       "      <th>Leaf_Node_NonFullFrameMirrorlessCamera</th>\n",
       "      <th>Leaf_Node_Not Camera</th>\n",
       "      <th>Leaf_Node_Professional Video Cameras</th>\n",
       "    </tr>\n",
       "  </thead>\n",
       "  <tbody>\n",
       "    <tr>\n",
       "      <th>152</th>\n",
       "      <td>0</td>\n",
       "      <td>0</td>\n",
       "      <td>1</td>\n",
       "      <td>0</td>\n",
       "      <td>1</td>\n",
       "      <td>0</td>\n",
       "      <td>0</td>\n",
       "      <td>0</td>\n",
       "      <td>0</td>\n",
       "      <td>0</td>\n",
       "      <td>...</td>\n",
       "      <td>0</td>\n",
       "      <td>1</td>\n",
       "      <td>0</td>\n",
       "      <td>0</td>\n",
       "      <td>0</td>\n",
       "      <td>0</td>\n",
       "      <td>0</td>\n",
       "      <td>0</td>\n",
       "      <td>0</td>\n",
       "      <td>0</td>\n",
       "    </tr>\n",
       "    <tr>\n",
       "      <th>294</th>\n",
       "      <td>0</td>\n",
       "      <td>0</td>\n",
       "      <td>1</td>\n",
       "      <td>0</td>\n",
       "      <td>0</td>\n",
       "      <td>0</td>\n",
       "      <td>0</td>\n",
       "      <td>1</td>\n",
       "      <td>0</td>\n",
       "      <td>0</td>\n",
       "      <td>...</td>\n",
       "      <td>0</td>\n",
       "      <td>0</td>\n",
       "      <td>0</td>\n",
       "      <td>0</td>\n",
       "      <td>0</td>\n",
       "      <td>0</td>\n",
       "      <td>0</td>\n",
       "      <td>0</td>\n",
       "      <td>0</td>\n",
       "      <td>0</td>\n",
       "    </tr>\n",
       "    <tr>\n",
       "      <th>410</th>\n",
       "      <td>0</td>\n",
       "      <td>1</td>\n",
       "      <td>0</td>\n",
       "      <td>0</td>\n",
       "      <td>0</td>\n",
       "      <td>0</td>\n",
       "      <td>1</td>\n",
       "      <td>0</td>\n",
       "      <td>0</td>\n",
       "      <td>0</td>\n",
       "      <td>...</td>\n",
       "      <td>0</td>\n",
       "      <td>0</td>\n",
       "      <td>0</td>\n",
       "      <td>0</td>\n",
       "      <td>0</td>\n",
       "      <td>0</td>\n",
       "      <td>0</td>\n",
       "      <td>0</td>\n",
       "      <td>1</td>\n",
       "      <td>0</td>\n",
       "    </tr>\n",
       "    <tr>\n",
       "      <th>94</th>\n",
       "      <td>0</td>\n",
       "      <td>0</td>\n",
       "      <td>1</td>\n",
       "      <td>0</td>\n",
       "      <td>1</td>\n",
       "      <td>0</td>\n",
       "      <td>0</td>\n",
       "      <td>0</td>\n",
       "      <td>0</td>\n",
       "      <td>0</td>\n",
       "      <td>...</td>\n",
       "      <td>0</td>\n",
       "      <td>1</td>\n",
       "      <td>0</td>\n",
       "      <td>0</td>\n",
       "      <td>0</td>\n",
       "      <td>0</td>\n",
       "      <td>0</td>\n",
       "      <td>0</td>\n",
       "      <td>0</td>\n",
       "      <td>0</td>\n",
       "    </tr>\n",
       "    <tr>\n",
       "      <th>70</th>\n",
       "      <td>0</td>\n",
       "      <td>0</td>\n",
       "      <td>1</td>\n",
       "      <td>0</td>\n",
       "      <td>1</td>\n",
       "      <td>0</td>\n",
       "      <td>0</td>\n",
       "      <td>0</td>\n",
       "      <td>0</td>\n",
       "      <td>0</td>\n",
       "      <td>...</td>\n",
       "      <td>0</td>\n",
       "      <td>1</td>\n",
       "      <td>0</td>\n",
       "      <td>0</td>\n",
       "      <td>0</td>\n",
       "      <td>0</td>\n",
       "      <td>0</td>\n",
       "      <td>0</td>\n",
       "      <td>0</td>\n",
       "      <td>0</td>\n",
       "    </tr>\n",
       "  </tbody>\n",
       "</table>\n",
       "<p>5 rows × 21 columns</p>\n",
       "</div>"
      ],
      "text/plain": [
       "     Parent_node_1_Cam Corders  Parent_node_1_Not Camera  \\\n",
       "152                          0                         0   \n",
       "294                          0                         0   \n",
       "410                          0                         1   \n",
       "94                           0                         0   \n",
       "70                           0                         0   \n",
       "\n",
       "     Parent_node_1_Photo Devices  Parent_node_2_Action Cameras  \\\n",
       "152                            1                             0   \n",
       "294                            1                             0   \n",
       "410                            0                             0   \n",
       "94                             1                             0   \n",
       "70                             1                             0   \n",
       "\n",
       "     Parent_node_2_DSLR  Parent_node_2_Mirrorless Cameras  \\\n",
       "152                   1                                 0   \n",
       "294                   0                                 0   \n",
       "410                   0                                 0   \n",
       "94                    1                                 0   \n",
       "70                    1                                 0   \n",
       "\n",
       "     Parent_node_2_Not Camera  Parent_node_2_Point & Shoot Cameras  \\\n",
       "152                         0                                    0   \n",
       "294                         0                                    1   \n",
       "410                         1                                    0   \n",
       "94                          0                                    0   \n",
       "70                          0                                    0   \n",
       "\n",
       "     Parent_node_2_Traditional Video Cameras  Leaf_Node_360 Degree Cameras  \\\n",
       "152                                        0                             0   \n",
       "294                                        0                             0   \n",
       "410                                        0                             0   \n",
       "94                                         0                             0   \n",
       "70                                         0                             0   \n",
       "\n",
       "                     ...                   Leaf_Node_Common Use Video Cameras  \\\n",
       "152                  ...                                                    0   \n",
       "294                  ...                                                    0   \n",
       "410                  ...                                                    0   \n",
       "94                   ...                                                    0   \n",
       "70                   ...                                                    0   \n",
       "\n",
       "     Leaf_Node_DSLR  Leaf_Node_Digital Compact Cameras  Leaf_Node_Drone  \\\n",
       "152               1                                  0                0   \n",
       "294               0                                  0                0   \n",
       "410               0                                  0                0   \n",
       "94                1                                  0                0   \n",
       "70                1                                  0                0   \n",
       "\n",
       "     Leaf_Node_Full Frame Mirrorless Camera  Leaf_Node_Instant  \\\n",
       "152                                       0                  0   \n",
       "294                                       0                  0   \n",
       "410                                       0                  0   \n",
       "94                                        0                  0   \n",
       "70                                        0                  0   \n",
       "\n",
       "     Leaf_Node_Non 360 Degree Cameras  Leaf_Node_NonFullFrameMirrorlessCamera  \\\n",
       "152                                 0                                       0   \n",
       "294                                 0                                       0   \n",
       "410                                 0                                       0   \n",
       "94                                  0                                       0   \n",
       "70                                  0                                       0   \n",
       "\n",
       "     Leaf_Node_Not Camera  Leaf_Node_Professional Video Cameras  \n",
       "152                     0                                     0  \n",
       "294                     0                                     0  \n",
       "410                     1                                     0  \n",
       "94                      0                                     0  \n",
       "70                      0                                     0  \n",
       "\n",
       "[5 rows x 21 columns]"
      ]
     },
     "execution_count": 32,
     "metadata": {},
     "output_type": "execute_result"
    }
   ],
   "source": [
    "y_new_test.head()"
   ]
  },
  {
   "cell_type": "code",
   "execution_count": 33,
   "metadata": {},
   "outputs": [
    {
     "data": {
      "text/plain": [
       "(291, 875)"
      ]
     },
     "execution_count": 33,
     "metadata": {},
     "output_type": "execute_result"
    }
   ],
   "source": [
    "X_train.shape"
   ]
  },
  {
   "cell_type": "code",
   "execution_count": 34,
   "metadata": {},
   "outputs": [
    {
     "data": {
      "text/plain": [
       "(291, 21)"
      ]
     },
     "execution_count": 34,
     "metadata": {},
     "output_type": "execute_result"
    }
   ],
   "source": [
    "y_new_train.shape"
   ]
  },
  {
   "cell_type": "markdown",
   "metadata": {},
   "source": [
    "np.matrix(X) # yields a dense matrix\n",
    "sp.csr_matrix(X) # yields a row-oriented sparse matrix"
   ]
  },
  {
   "cell_type": "markdown",
   "metadata": {},
   "source": [
    "## 1. SVC & OneVsRestClassifier"
   ]
  },
  {
   "cell_type": "markdown",
   "metadata": {},
   "source": [
    "http://scikit.ml/api/api/skmultilearn.adapt.html"
   ]
  },
  {
   "cell_type": "markdown",
   "metadata": {},
   "source": [
    "http://citeseerx.ist.psu.edu/viewdoc/download?doi=10.1.1.130.4074&rep=rep1&type=pdf"
   ]
  },
  {
   "cell_type": "code",
   "execution_count": 35,
   "metadata": {
    "collapsed": true
   },
   "outputs": [],
   "source": [
    "from skmultilearn.adapt import MLkNN\n",
    "from sklearn.multiclass import OneVsRestClassifier\n",
    "from sklearn.svm import SVC"
   ]
  },
  {
   "cell_type": "code",
   "execution_count": 36,
   "metadata": {},
   "outputs": [
    {
     "data": {
      "text/plain": [
       "OneVsRestClassifier(estimator=SVC(C=1.0, cache_size=200, class_weight=None, coef0=0.0,\n",
       "  decision_function_shape='ovr', degree=3, gamma='auto', kernel='linear',\n",
       "  max_iter=-1, probability=True, random_state=None, shrinking=True,\n",
       "  tol=0.001, verbose=False),\n",
       "          n_jobs=1)"
      ]
     },
     "execution_count": 36,
     "metadata": {},
     "output_type": "execute_result"
    }
   ],
   "source": [
    "classif = OneVsRestClassifier(estimator=SVC(kernel='linear',probability=True))\n",
    "classif.fit(X_train, y_new_train)"
   ]
  },
  {
   "cell_type": "code",
   "execution_count": 37,
   "metadata": {
    "collapsed": true
   },
   "outputs": [],
   "source": [
    "predictions = classif.predict(X_test)"
   ]
  },
  {
   "cell_type": "code",
   "execution_count": 38,
   "metadata": {
    "collapsed": true
   },
   "outputs": [],
   "source": [
    "pred_proba=classif.predict_proba(X_test)"
   ]
  },
  {
   "cell_type": "code",
   "execution_count": 39,
   "metadata": {
    "collapsed": true
   },
   "outputs": [],
   "source": [
    "predictions_dense=predictions.todense() #1 or 0 assigned respectively"
   ]
  },
  {
   "cell_type": "code",
   "execution_count": 40,
   "metadata": {},
   "outputs": [
    {
     "data": {
      "text/plain": [
       "matrix([[0, 0, 1, ..., 0, 0, 0],\n",
       "        [0, 0, 1, ..., 0, 0, 0],\n",
       "        [1, 0, 0, ..., 0, 0, 0],\n",
       "        ..., \n",
       "        [0, 0, 1, ..., 0, 0, 0],\n",
       "        [0, 0, 1, ..., 0, 0, 0],\n",
       "        [0, 0, 1, ..., 0, 0, 0]])"
      ]
     },
     "execution_count": 40,
     "metadata": {},
     "output_type": "execute_result"
    }
   ],
   "source": [
    "predictions_dense"
   ]
  },
  {
   "cell_type": "code",
   "execution_count": 41,
   "metadata": {
    "collapsed": true
   },
   "outputs": [],
   "source": [
    "pred_dataframe=pd.DataFrame(predictions_dense)\n",
    "pred_proba_dataframe=pd.DataFrame(pred_proba)"
   ]
  },
  {
   "cell_type": "code",
   "execution_count": 42,
   "metadata": {},
   "outputs": [
    {
     "data": {
      "text/html": [
       "<div>\n",
       "<style>\n",
       "    .dataframe thead tr:only-child th {\n",
       "        text-align: right;\n",
       "    }\n",
       "\n",
       "    .dataframe thead th {\n",
       "        text-align: left;\n",
       "    }\n",
       "\n",
       "    .dataframe tbody tr th {\n",
       "        vertical-align: top;\n",
       "    }\n",
       "</style>\n",
       "<table border=\"1\" class=\"dataframe\">\n",
       "  <thead>\n",
       "    <tr style=\"text-align: right;\">\n",
       "      <th></th>\n",
       "      <th>0</th>\n",
       "      <th>1</th>\n",
       "      <th>2</th>\n",
       "      <th>3</th>\n",
       "      <th>4</th>\n",
       "      <th>5</th>\n",
       "      <th>6</th>\n",
       "      <th>7</th>\n",
       "      <th>8</th>\n",
       "      <th>9</th>\n",
       "      <th>...</th>\n",
       "      <th>11</th>\n",
       "      <th>12</th>\n",
       "      <th>13</th>\n",
       "      <th>14</th>\n",
       "      <th>15</th>\n",
       "      <th>16</th>\n",
       "      <th>17</th>\n",
       "      <th>18</th>\n",
       "      <th>19</th>\n",
       "      <th>20</th>\n",
       "    </tr>\n",
       "  </thead>\n",
       "  <tbody>\n",
       "    <tr>\n",
       "      <th>0</th>\n",
       "      <td>0</td>\n",
       "      <td>0</td>\n",
       "      <td>1</td>\n",
       "      <td>0</td>\n",
       "      <td>1</td>\n",
       "      <td>0</td>\n",
       "      <td>0</td>\n",
       "      <td>0</td>\n",
       "      <td>0</td>\n",
       "      <td>0</td>\n",
       "      <td>...</td>\n",
       "      <td>0</td>\n",
       "      <td>1</td>\n",
       "      <td>0</td>\n",
       "      <td>0</td>\n",
       "      <td>0</td>\n",
       "      <td>0</td>\n",
       "      <td>0</td>\n",
       "      <td>0</td>\n",
       "      <td>0</td>\n",
       "      <td>0</td>\n",
       "    </tr>\n",
       "    <tr>\n",
       "      <th>1</th>\n",
       "      <td>0</td>\n",
       "      <td>0</td>\n",
       "      <td>1</td>\n",
       "      <td>0</td>\n",
       "      <td>0</td>\n",
       "      <td>0</td>\n",
       "      <td>0</td>\n",
       "      <td>1</td>\n",
       "      <td>0</td>\n",
       "      <td>0</td>\n",
       "      <td>...</td>\n",
       "      <td>0</td>\n",
       "      <td>0</td>\n",
       "      <td>0</td>\n",
       "      <td>0</td>\n",
       "      <td>0</td>\n",
       "      <td>0</td>\n",
       "      <td>0</td>\n",
       "      <td>0</td>\n",
       "      <td>0</td>\n",
       "      <td>0</td>\n",
       "    </tr>\n",
       "    <tr>\n",
       "      <th>2</th>\n",
       "      <td>1</td>\n",
       "      <td>0</td>\n",
       "      <td>0</td>\n",
       "      <td>1</td>\n",
       "      <td>0</td>\n",
       "      <td>0</td>\n",
       "      <td>0</td>\n",
       "      <td>0</td>\n",
       "      <td>0</td>\n",
       "      <td>0</td>\n",
       "      <td>...</td>\n",
       "      <td>0</td>\n",
       "      <td>0</td>\n",
       "      <td>0</td>\n",
       "      <td>1</td>\n",
       "      <td>0</td>\n",
       "      <td>0</td>\n",
       "      <td>0</td>\n",
       "      <td>0</td>\n",
       "      <td>0</td>\n",
       "      <td>0</td>\n",
       "    </tr>\n",
       "    <tr>\n",
       "      <th>3</th>\n",
       "      <td>0</td>\n",
       "      <td>0</td>\n",
       "      <td>1</td>\n",
       "      <td>0</td>\n",
       "      <td>1</td>\n",
       "      <td>0</td>\n",
       "      <td>0</td>\n",
       "      <td>0</td>\n",
       "      <td>0</td>\n",
       "      <td>0</td>\n",
       "      <td>...</td>\n",
       "      <td>0</td>\n",
       "      <td>1</td>\n",
       "      <td>0</td>\n",
       "      <td>0</td>\n",
       "      <td>0</td>\n",
       "      <td>0</td>\n",
       "      <td>0</td>\n",
       "      <td>0</td>\n",
       "      <td>0</td>\n",
       "      <td>0</td>\n",
       "    </tr>\n",
       "    <tr>\n",
       "      <th>4</th>\n",
       "      <td>0</td>\n",
       "      <td>0</td>\n",
       "      <td>1</td>\n",
       "      <td>0</td>\n",
       "      <td>1</td>\n",
       "      <td>0</td>\n",
       "      <td>0</td>\n",
       "      <td>0</td>\n",
       "      <td>0</td>\n",
       "      <td>0</td>\n",
       "      <td>...</td>\n",
       "      <td>0</td>\n",
       "      <td>1</td>\n",
       "      <td>0</td>\n",
       "      <td>0</td>\n",
       "      <td>0</td>\n",
       "      <td>0</td>\n",
       "      <td>0</td>\n",
       "      <td>0</td>\n",
       "      <td>0</td>\n",
       "      <td>0</td>\n",
       "    </tr>\n",
       "  </tbody>\n",
       "</table>\n",
       "<p>5 rows × 21 columns</p>\n",
       "</div>"
      ],
      "text/plain": [
       "   0   1   2   3   4   5   6   7   8   9  ...  11  12  13  14  15  16  17  18  \\\n",
       "0   0   0   1   0   1   0   0   0   0   0 ...   0   1   0   0   0   0   0   0   \n",
       "1   0   0   1   0   0   0   0   1   0   0 ...   0   0   0   0   0   0   0   0   \n",
       "2   1   0   0   1   0   0   0   0   0   0 ...   0   0   0   1   0   0   0   0   \n",
       "3   0   0   1   0   1   0   0   0   0   0 ...   0   1   0   0   0   0   0   0   \n",
       "4   0   0   1   0   1   0   0   0   0   0 ...   0   1   0   0   0   0   0   0   \n",
       "\n",
       "   19  20  \n",
       "0   0   0  \n",
       "1   0   0  \n",
       "2   0   0  \n",
       "3   0   0  \n",
       "4   0   0  \n",
       "\n",
       "[5 rows x 21 columns]"
      ]
     },
     "execution_count": 42,
     "metadata": {},
     "output_type": "execute_result"
    }
   ],
   "source": [
    "pred_dataframe.head()"
   ]
  },
  {
   "cell_type": "code",
   "execution_count": 43,
   "metadata": {},
   "outputs": [
    {
     "data": {
      "text/html": [
       "<div>\n",
       "<style>\n",
       "    .dataframe thead tr:only-child th {\n",
       "        text-align: right;\n",
       "    }\n",
       "\n",
       "    .dataframe thead th {\n",
       "        text-align: left;\n",
       "    }\n",
       "\n",
       "    .dataframe tbody tr th {\n",
       "        vertical-align: top;\n",
       "    }\n",
       "</style>\n",
       "<table border=\"1\" class=\"dataframe\">\n",
       "  <thead>\n",
       "    <tr style=\"text-align: right;\">\n",
       "      <th></th>\n",
       "      <th>0</th>\n",
       "      <th>1</th>\n",
       "      <th>2</th>\n",
       "      <th>3</th>\n",
       "      <th>4</th>\n",
       "      <th>5</th>\n",
       "      <th>6</th>\n",
       "      <th>7</th>\n",
       "      <th>8</th>\n",
       "      <th>9</th>\n",
       "      <th>...</th>\n",
       "      <th>11</th>\n",
       "      <th>12</th>\n",
       "      <th>13</th>\n",
       "      <th>14</th>\n",
       "      <th>15</th>\n",
       "      <th>16</th>\n",
       "      <th>17</th>\n",
       "      <th>18</th>\n",
       "      <th>19</th>\n",
       "      <th>20</th>\n",
       "    </tr>\n",
       "  </thead>\n",
       "  <tbody>\n",
       "    <tr>\n",
       "      <th>0</th>\n",
       "      <td>0.003354</td>\n",
       "      <td>0.021234</td>\n",
       "      <td>0.996621</td>\n",
       "      <td>0.002064</td>\n",
       "      <td>0.972923</td>\n",
       "      <td>0.022800</td>\n",
       "      <td>0.021603</td>\n",
       "      <td>0.005267</td>\n",
       "      <td>0.005608</td>\n",
       "      <td>0.009159</td>\n",
       "      <td>...</td>\n",
       "      <td>0.008216</td>\n",
       "      <td>0.954725</td>\n",
       "      <td>0.024303</td>\n",
       "      <td>0.004722</td>\n",
       "      <td>0.005526</td>\n",
       "      <td>0.004999</td>\n",
       "      <td>0.010182</td>\n",
       "      <td>0.036049</td>\n",
       "      <td>0.037446</td>\n",
       "      <td>0.023738</td>\n",
       "    </tr>\n",
       "    <tr>\n",
       "      <th>1</th>\n",
       "      <td>0.014665</td>\n",
       "      <td>0.008790</td>\n",
       "      <td>0.996043</td>\n",
       "      <td>0.004381</td>\n",
       "      <td>0.045077</td>\n",
       "      <td>0.017334</td>\n",
       "      <td>0.009693</td>\n",
       "      <td>0.981477</td>\n",
       "      <td>0.026256</td>\n",
       "      <td>0.008241</td>\n",
       "      <td>...</td>\n",
       "      <td>0.037908</td>\n",
       "      <td>0.047956</td>\n",
       "      <td>0.077985</td>\n",
       "      <td>0.010567</td>\n",
       "      <td>0.063249</td>\n",
       "      <td>0.001830</td>\n",
       "      <td>0.013912</td>\n",
       "      <td>0.007783</td>\n",
       "      <td>0.025916</td>\n",
       "      <td>0.018280</td>\n",
       "    </tr>\n",
       "    <tr>\n",
       "      <th>2</th>\n",
       "      <td>0.987832</td>\n",
       "      <td>0.012101</td>\n",
       "      <td>0.016217</td>\n",
       "      <td>0.991647</td>\n",
       "      <td>0.024535</td>\n",
       "      <td>0.060379</td>\n",
       "      <td>0.012961</td>\n",
       "      <td>0.062105</td>\n",
       "      <td>0.020272</td>\n",
       "      <td>0.005221</td>\n",
       "      <td>...</td>\n",
       "      <td>0.056711</td>\n",
       "      <td>0.027590</td>\n",
       "      <td>0.060497</td>\n",
       "      <td>0.951832</td>\n",
       "      <td>0.016897</td>\n",
       "      <td>0.015281</td>\n",
       "      <td>0.014564</td>\n",
       "      <td>0.142572</td>\n",
       "      <td>0.029619</td>\n",
       "      <td>0.029214</td>\n",
       "    </tr>\n",
       "    <tr>\n",
       "      <th>3</th>\n",
       "      <td>0.012351</td>\n",
       "      <td>0.010606</td>\n",
       "      <td>0.996035</td>\n",
       "      <td>0.008163</td>\n",
       "      <td>0.985899</td>\n",
       "      <td>0.048176</td>\n",
       "      <td>0.011497</td>\n",
       "      <td>0.001962</td>\n",
       "      <td>0.003302</td>\n",
       "      <td>0.010971</td>\n",
       "      <td>...</td>\n",
       "      <td>0.018975</td>\n",
       "      <td>0.974778</td>\n",
       "      <td>0.023392</td>\n",
       "      <td>0.012217</td>\n",
       "      <td>0.041652</td>\n",
       "      <td>0.004236</td>\n",
       "      <td>0.019391</td>\n",
       "      <td>0.022124</td>\n",
       "      <td>0.028032</td>\n",
       "      <td>0.016448</td>\n",
       "    </tr>\n",
       "    <tr>\n",
       "      <th>4</th>\n",
       "      <td>0.001121</td>\n",
       "      <td>0.021646</td>\n",
       "      <td>0.999998</td>\n",
       "      <td>0.002769</td>\n",
       "      <td>0.991148</td>\n",
       "      <td>0.014154</td>\n",
       "      <td>0.021983</td>\n",
       "      <td>0.035951</td>\n",
       "      <td>0.000396</td>\n",
       "      <td>0.018771</td>\n",
       "      <td>...</td>\n",
       "      <td>0.013209</td>\n",
       "      <td>0.983426</td>\n",
       "      <td>0.031952</td>\n",
       "      <td>0.005212</td>\n",
       "      <td>0.021075</td>\n",
       "      <td>0.021915</td>\n",
       "      <td>0.006076</td>\n",
       "      <td>0.020231</td>\n",
       "      <td>0.037747</td>\n",
       "      <td>0.005285</td>\n",
       "    </tr>\n",
       "  </tbody>\n",
       "</table>\n",
       "<p>5 rows × 21 columns</p>\n",
       "</div>"
      ],
      "text/plain": [
       "         0         1         2         3         4         5         6   \\\n",
       "0  0.003354  0.021234  0.996621  0.002064  0.972923  0.022800  0.021603   \n",
       "1  0.014665  0.008790  0.996043  0.004381  0.045077  0.017334  0.009693   \n",
       "2  0.987832  0.012101  0.016217  0.991647  0.024535  0.060379  0.012961   \n",
       "3  0.012351  0.010606  0.996035  0.008163  0.985899  0.048176  0.011497   \n",
       "4  0.001121  0.021646  0.999998  0.002769  0.991148  0.014154  0.021983   \n",
       "\n",
       "         7         8         9     ...           11        12        13  \\\n",
       "0  0.005267  0.005608  0.009159    ...     0.008216  0.954725  0.024303   \n",
       "1  0.981477  0.026256  0.008241    ...     0.037908  0.047956  0.077985   \n",
       "2  0.062105  0.020272  0.005221    ...     0.056711  0.027590  0.060497   \n",
       "3  0.001962  0.003302  0.010971    ...     0.018975  0.974778  0.023392   \n",
       "4  0.035951  0.000396  0.018771    ...     0.013209  0.983426  0.031952   \n",
       "\n",
       "         14        15        16        17        18        19        20  \n",
       "0  0.004722  0.005526  0.004999  0.010182  0.036049  0.037446  0.023738  \n",
       "1  0.010567  0.063249  0.001830  0.013912  0.007783  0.025916  0.018280  \n",
       "2  0.951832  0.016897  0.015281  0.014564  0.142572  0.029619  0.029214  \n",
       "3  0.012217  0.041652  0.004236  0.019391  0.022124  0.028032  0.016448  \n",
       "4  0.005212  0.021075  0.021915  0.006076  0.020231  0.037747  0.005285  \n",
       "\n",
       "[5 rows x 21 columns]"
      ]
     },
     "execution_count": 43,
     "metadata": {},
     "output_type": "execute_result"
    }
   ],
   "source": [
    "pred_proba_dataframe.head()"
   ]
  },
  {
   "cell_type": "code",
   "execution_count": 44,
   "metadata": {},
   "outputs": [
    {
     "data": {
      "text/plain": [
       "Index([u'Parent_node_1_Cam Corders', u'Parent_node_1_Not Camera',\n",
       "       u'Parent_node_1_Photo Devices', u'Parent_node_2_Action Cameras',\n",
       "       u'Parent_node_2_DSLR', u'Parent_node_2_Mirrorless Cameras',\n",
       "       u'Parent_node_2_Not Camera', u'Parent_node_2_Point & Shoot Cameras',\n",
       "       u'Parent_node_2_Traditional Video Cameras',\n",
       "       u'Leaf_Node_360 Degree Cameras', u'Leaf_Node_Bridge Cameras',\n",
       "       u'Leaf_Node_Common Use Video Cameras', u'Leaf_Node_DSLR',\n",
       "       u'Leaf_Node_Digital Compact Cameras', u'Leaf_Node_Drone',\n",
       "       u'Leaf_Node_Full Frame Mirrorless Camera', u'Leaf_Node_Instant',\n",
       "       u'Leaf_Node_Non 360 Degree Cameras',\n",
       "       u'Leaf_Node_NonFullFrameMirrorlessCamera', u'Leaf_Node_Not Camera',\n",
       "       u'Leaf_Node_Professional Video Cameras'],\n",
       "      dtype='object')"
      ]
     },
     "execution_count": 44,
     "metadata": {},
     "output_type": "execute_result"
    }
   ],
   "source": [
    "y_train.columns"
   ]
  },
  {
   "cell_type": "code",
   "execution_count": 45,
   "metadata": {
    "collapsed": true
   },
   "outputs": [],
   "source": [
    "pred_dataframe.columns=y_train.columns\n",
    "pred_proba_dataframe.columns=y_train.columns"
   ]
  },
  {
   "cell_type": "code",
   "execution_count": 46,
   "metadata": {
    "collapsed": true
   },
   "outputs": [],
   "source": [
    "pred_dataframe['ID']=idds\n",
    "pred_proba_dataframe['ID']=idds"
   ]
  },
  {
   "cell_type": "code",
   "execution_count": 47,
   "metadata": {},
   "outputs": [
    {
     "data": {
      "text/html": [
       "<div>\n",
       "<style>\n",
       "    .dataframe thead tr:only-child th {\n",
       "        text-align: right;\n",
       "    }\n",
       "\n",
       "    .dataframe thead th {\n",
       "        text-align: left;\n",
       "    }\n",
       "\n",
       "    .dataframe tbody tr th {\n",
       "        vertical-align: top;\n",
       "    }\n",
       "</style>\n",
       "<table border=\"1\" class=\"dataframe\">\n",
       "  <thead>\n",
       "    <tr style=\"text-align: right;\">\n",
       "      <th></th>\n",
       "      <th>Parent_node_1_Cam Corders</th>\n",
       "      <th>Parent_node_1_Not Camera</th>\n",
       "      <th>Parent_node_1_Photo Devices</th>\n",
       "      <th>Parent_node_2_Action Cameras</th>\n",
       "      <th>Parent_node_2_DSLR</th>\n",
       "      <th>Parent_node_2_Mirrorless Cameras</th>\n",
       "      <th>Parent_node_2_Not Camera</th>\n",
       "      <th>Parent_node_2_Point &amp; Shoot Cameras</th>\n",
       "      <th>Parent_node_2_Traditional Video Cameras</th>\n",
       "      <th>Leaf_Node_360 Degree Cameras</th>\n",
       "      <th>...</th>\n",
       "      <th>Leaf_Node_DSLR</th>\n",
       "      <th>Leaf_Node_Digital Compact Cameras</th>\n",
       "      <th>Leaf_Node_Drone</th>\n",
       "      <th>Leaf_Node_Full Frame Mirrorless Camera</th>\n",
       "      <th>Leaf_Node_Instant</th>\n",
       "      <th>Leaf_Node_Non 360 Degree Cameras</th>\n",
       "      <th>Leaf_Node_NonFullFrameMirrorlessCamera</th>\n",
       "      <th>Leaf_Node_Not Camera</th>\n",
       "      <th>Leaf_Node_Professional Video Cameras</th>\n",
       "      <th>ID</th>\n",
       "    </tr>\n",
       "  </thead>\n",
       "  <tbody>\n",
       "    <tr>\n",
       "      <th>0</th>\n",
       "      <td>0.003354</td>\n",
       "      <td>0.021234</td>\n",
       "      <td>0.996621</td>\n",
       "      <td>0.002064</td>\n",
       "      <td>0.972923</td>\n",
       "      <td>0.022800</td>\n",
       "      <td>0.021603</td>\n",
       "      <td>0.005267</td>\n",
       "      <td>0.005608</td>\n",
       "      <td>0.009159</td>\n",
       "      <td>...</td>\n",
       "      <td>0.954725</td>\n",
       "      <td>0.024303</td>\n",
       "      <td>0.004722</td>\n",
       "      <td>0.005526</td>\n",
       "      <td>0.004999</td>\n",
       "      <td>0.010182</td>\n",
       "      <td>0.036049</td>\n",
       "      <td>0.037446</td>\n",
       "      <td>0.023738</td>\n",
       "      <td>jessops-f2dd233dd6100c900432fd2902df8cde</td>\n",
       "    </tr>\n",
       "    <tr>\n",
       "      <th>1</th>\n",
       "      <td>0.014665</td>\n",
       "      <td>0.008790</td>\n",
       "      <td>0.996043</td>\n",
       "      <td>0.004381</td>\n",
       "      <td>0.045077</td>\n",
       "      <td>0.017334</td>\n",
       "      <td>0.009693</td>\n",
       "      <td>0.981477</td>\n",
       "      <td>0.026256</td>\n",
       "      <td>0.008241</td>\n",
       "      <td>...</td>\n",
       "      <td>0.047956</td>\n",
       "      <td>0.077985</td>\n",
       "      <td>0.010567</td>\n",
       "      <td>0.063249</td>\n",
       "      <td>0.001830</td>\n",
       "      <td>0.013912</td>\n",
       "      <td>0.007783</td>\n",
       "      <td>0.025916</td>\n",
       "      <td>0.018280</td>\n",
       "      <td>jessops-cabb446087d8428bfa741078869439b8</td>\n",
       "    </tr>\n",
       "    <tr>\n",
       "      <th>2</th>\n",
       "      <td>0.987832</td>\n",
       "      <td>0.012101</td>\n",
       "      <td>0.016217</td>\n",
       "      <td>0.991647</td>\n",
       "      <td>0.024535</td>\n",
       "      <td>0.060379</td>\n",
       "      <td>0.012961</td>\n",
       "      <td>0.062105</td>\n",
       "      <td>0.020272</td>\n",
       "      <td>0.005221</td>\n",
       "      <td>...</td>\n",
       "      <td>0.027590</td>\n",
       "      <td>0.060497</td>\n",
       "      <td>0.951832</td>\n",
       "      <td>0.016897</td>\n",
       "      <td>0.015281</td>\n",
       "      <td>0.014564</td>\n",
       "      <td>0.142572</td>\n",
       "      <td>0.029619</td>\n",
       "      <td>0.029214</td>\n",
       "      <td>jessops-6953ccaa96a32f9defa93c0d1dcc8279</td>\n",
       "    </tr>\n",
       "    <tr>\n",
       "      <th>3</th>\n",
       "      <td>0.012351</td>\n",
       "      <td>0.010606</td>\n",
       "      <td>0.996035</td>\n",
       "      <td>0.008163</td>\n",
       "      <td>0.985899</td>\n",
       "      <td>0.048176</td>\n",
       "      <td>0.011497</td>\n",
       "      <td>0.001962</td>\n",
       "      <td>0.003302</td>\n",
       "      <td>0.010971</td>\n",
       "      <td>...</td>\n",
       "      <td>0.974778</td>\n",
       "      <td>0.023392</td>\n",
       "      <td>0.012217</td>\n",
       "      <td>0.041652</td>\n",
       "      <td>0.004236</td>\n",
       "      <td>0.019391</td>\n",
       "      <td>0.022124</td>\n",
       "      <td>0.028032</td>\n",
       "      <td>0.016448</td>\n",
       "      <td>jessops-63ef4531e53505d5bb85cd30e4b04758</td>\n",
       "    </tr>\n",
       "    <tr>\n",
       "      <th>4</th>\n",
       "      <td>0.001121</td>\n",
       "      <td>0.021646</td>\n",
       "      <td>0.999998</td>\n",
       "      <td>0.002769</td>\n",
       "      <td>0.991148</td>\n",
       "      <td>0.014154</td>\n",
       "      <td>0.021983</td>\n",
       "      <td>0.035951</td>\n",
       "      <td>0.000396</td>\n",
       "      <td>0.018771</td>\n",
       "      <td>...</td>\n",
       "      <td>0.983426</td>\n",
       "      <td>0.031952</td>\n",
       "      <td>0.005212</td>\n",
       "      <td>0.021075</td>\n",
       "      <td>0.021915</td>\n",
       "      <td>0.006076</td>\n",
       "      <td>0.020231</td>\n",
       "      <td>0.037747</td>\n",
       "      <td>0.005285</td>\n",
       "      <td>jessops-87b405e744f1ff5d6594ef41c18b8111</td>\n",
       "    </tr>\n",
       "  </tbody>\n",
       "</table>\n",
       "<p>5 rows × 22 columns</p>\n",
       "</div>"
      ],
      "text/plain": [
       "   Parent_node_1_Cam Corders  Parent_node_1_Not Camera  \\\n",
       "0                   0.003354                  0.021234   \n",
       "1                   0.014665                  0.008790   \n",
       "2                   0.987832                  0.012101   \n",
       "3                   0.012351                  0.010606   \n",
       "4                   0.001121                  0.021646   \n",
       "\n",
       "   Parent_node_1_Photo Devices  Parent_node_2_Action Cameras  \\\n",
       "0                     0.996621                      0.002064   \n",
       "1                     0.996043                      0.004381   \n",
       "2                     0.016217                      0.991647   \n",
       "3                     0.996035                      0.008163   \n",
       "4                     0.999998                      0.002769   \n",
       "\n",
       "   Parent_node_2_DSLR  Parent_node_2_Mirrorless Cameras  \\\n",
       "0            0.972923                          0.022800   \n",
       "1            0.045077                          0.017334   \n",
       "2            0.024535                          0.060379   \n",
       "3            0.985899                          0.048176   \n",
       "4            0.991148                          0.014154   \n",
       "\n",
       "   Parent_node_2_Not Camera  Parent_node_2_Point & Shoot Cameras  \\\n",
       "0                  0.021603                             0.005267   \n",
       "1                  0.009693                             0.981477   \n",
       "2                  0.012961                             0.062105   \n",
       "3                  0.011497                             0.001962   \n",
       "4                  0.021983                             0.035951   \n",
       "\n",
       "   Parent_node_2_Traditional Video Cameras  Leaf_Node_360 Degree Cameras  \\\n",
       "0                                 0.005608                      0.009159   \n",
       "1                                 0.026256                      0.008241   \n",
       "2                                 0.020272                      0.005221   \n",
       "3                                 0.003302                      0.010971   \n",
       "4                                 0.000396                      0.018771   \n",
       "\n",
       "                     ...                     Leaf_Node_DSLR  \\\n",
       "0                    ...                           0.954725   \n",
       "1                    ...                           0.047956   \n",
       "2                    ...                           0.027590   \n",
       "3                    ...                           0.974778   \n",
       "4                    ...                           0.983426   \n",
       "\n",
       "   Leaf_Node_Digital Compact Cameras  Leaf_Node_Drone  \\\n",
       "0                           0.024303         0.004722   \n",
       "1                           0.077985         0.010567   \n",
       "2                           0.060497         0.951832   \n",
       "3                           0.023392         0.012217   \n",
       "4                           0.031952         0.005212   \n",
       "\n",
       "   Leaf_Node_Full Frame Mirrorless Camera  Leaf_Node_Instant  \\\n",
       "0                                0.005526           0.004999   \n",
       "1                                0.063249           0.001830   \n",
       "2                                0.016897           0.015281   \n",
       "3                                0.041652           0.004236   \n",
       "4                                0.021075           0.021915   \n",
       "\n",
       "   Leaf_Node_Non 360 Degree Cameras  Leaf_Node_NonFullFrameMirrorlessCamera  \\\n",
       "0                          0.010182                                0.036049   \n",
       "1                          0.013912                                0.007783   \n",
       "2                          0.014564                                0.142572   \n",
       "3                          0.019391                                0.022124   \n",
       "4                          0.006076                                0.020231   \n",
       "\n",
       "   Leaf_Node_Not Camera  Leaf_Node_Professional Video Cameras  \\\n",
       "0              0.037446                              0.023738   \n",
       "1              0.025916                              0.018280   \n",
       "2              0.029619                              0.029214   \n",
       "3              0.028032                              0.016448   \n",
       "4              0.037747                              0.005285   \n",
       "\n",
       "                                         ID  \n",
       "0  jessops-f2dd233dd6100c900432fd2902df8cde  \n",
       "1  jessops-cabb446087d8428bfa741078869439b8  \n",
       "2  jessops-6953ccaa96a32f9defa93c0d1dcc8279  \n",
       "3  jessops-63ef4531e53505d5bb85cd30e4b04758  \n",
       "4  jessops-87b405e744f1ff5d6594ef41c18b8111  \n",
       "\n",
       "[5 rows x 22 columns]"
      ]
     },
     "execution_count": 47,
     "metadata": {},
     "output_type": "execute_result"
    }
   ],
   "source": [
    "pred_proba_dataframe.head()"
   ]
  },
  {
   "cell_type": "code",
   "execution_count": 48,
   "metadata": {},
   "outputs": [
    {
     "data": {
      "text/html": [
       "<div>\n",
       "<style>\n",
       "    .dataframe thead tr:only-child th {\n",
       "        text-align: right;\n",
       "    }\n",
       "\n",
       "    .dataframe thead th {\n",
       "        text-align: left;\n",
       "    }\n",
       "\n",
       "    .dataframe tbody tr th {\n",
       "        vertical-align: top;\n",
       "    }\n",
       "</style>\n",
       "<table border=\"1\" class=\"dataframe\">\n",
       "  <thead>\n",
       "    <tr style=\"text-align: right;\">\n",
       "      <th></th>\n",
       "      <th>Parent_node_1_Cam Corders</th>\n",
       "      <th>Parent_node_1_Not Camera</th>\n",
       "      <th>Parent_node_1_Photo Devices</th>\n",
       "      <th>Parent_node_2_Action Cameras</th>\n",
       "      <th>Parent_node_2_DSLR</th>\n",
       "      <th>Parent_node_2_Mirrorless Cameras</th>\n",
       "      <th>Parent_node_2_Not Camera</th>\n",
       "      <th>Parent_node_2_Point &amp; Shoot Cameras</th>\n",
       "      <th>Parent_node_2_Traditional Video Cameras</th>\n",
       "      <th>Leaf_Node_360 Degree Cameras</th>\n",
       "      <th>...</th>\n",
       "      <th>Leaf_Node_DSLR</th>\n",
       "      <th>Leaf_Node_Digital Compact Cameras</th>\n",
       "      <th>Leaf_Node_Drone</th>\n",
       "      <th>Leaf_Node_Full Frame Mirrorless Camera</th>\n",
       "      <th>Leaf_Node_Instant</th>\n",
       "      <th>Leaf_Node_Non 360 Degree Cameras</th>\n",
       "      <th>Leaf_Node_NonFullFrameMirrorlessCamera</th>\n",
       "      <th>Leaf_Node_Not Camera</th>\n",
       "      <th>Leaf_Node_Professional Video Cameras</th>\n",
       "      <th>ID</th>\n",
       "    </tr>\n",
       "  </thead>\n",
       "  <tbody>\n",
       "    <tr>\n",
       "      <th>0</th>\n",
       "      <td>0</td>\n",
       "      <td>0</td>\n",
       "      <td>1</td>\n",
       "      <td>0</td>\n",
       "      <td>1</td>\n",
       "      <td>0</td>\n",
       "      <td>0</td>\n",
       "      <td>0</td>\n",
       "      <td>0</td>\n",
       "      <td>0</td>\n",
       "      <td>...</td>\n",
       "      <td>1</td>\n",
       "      <td>0</td>\n",
       "      <td>0</td>\n",
       "      <td>0</td>\n",
       "      <td>0</td>\n",
       "      <td>0</td>\n",
       "      <td>0</td>\n",
       "      <td>0</td>\n",
       "      <td>0</td>\n",
       "      <td>jessops-f2dd233dd6100c900432fd2902df8cde</td>\n",
       "    </tr>\n",
       "    <tr>\n",
       "      <th>1</th>\n",
       "      <td>0</td>\n",
       "      <td>0</td>\n",
       "      <td>1</td>\n",
       "      <td>0</td>\n",
       "      <td>0</td>\n",
       "      <td>0</td>\n",
       "      <td>0</td>\n",
       "      <td>1</td>\n",
       "      <td>0</td>\n",
       "      <td>0</td>\n",
       "      <td>...</td>\n",
       "      <td>0</td>\n",
       "      <td>0</td>\n",
       "      <td>0</td>\n",
       "      <td>0</td>\n",
       "      <td>0</td>\n",
       "      <td>0</td>\n",
       "      <td>0</td>\n",
       "      <td>0</td>\n",
       "      <td>0</td>\n",
       "      <td>jessops-cabb446087d8428bfa741078869439b8</td>\n",
       "    </tr>\n",
       "    <tr>\n",
       "      <th>2</th>\n",
       "      <td>1</td>\n",
       "      <td>0</td>\n",
       "      <td>0</td>\n",
       "      <td>1</td>\n",
       "      <td>0</td>\n",
       "      <td>0</td>\n",
       "      <td>0</td>\n",
       "      <td>0</td>\n",
       "      <td>0</td>\n",
       "      <td>0</td>\n",
       "      <td>...</td>\n",
       "      <td>0</td>\n",
       "      <td>0</td>\n",
       "      <td>1</td>\n",
       "      <td>0</td>\n",
       "      <td>0</td>\n",
       "      <td>0</td>\n",
       "      <td>0</td>\n",
       "      <td>0</td>\n",
       "      <td>0</td>\n",
       "      <td>jessops-6953ccaa96a32f9defa93c0d1dcc8279</td>\n",
       "    </tr>\n",
       "    <tr>\n",
       "      <th>3</th>\n",
       "      <td>0</td>\n",
       "      <td>0</td>\n",
       "      <td>1</td>\n",
       "      <td>0</td>\n",
       "      <td>1</td>\n",
       "      <td>0</td>\n",
       "      <td>0</td>\n",
       "      <td>0</td>\n",
       "      <td>0</td>\n",
       "      <td>0</td>\n",
       "      <td>...</td>\n",
       "      <td>1</td>\n",
       "      <td>0</td>\n",
       "      <td>0</td>\n",
       "      <td>0</td>\n",
       "      <td>0</td>\n",
       "      <td>0</td>\n",
       "      <td>0</td>\n",
       "      <td>0</td>\n",
       "      <td>0</td>\n",
       "      <td>jessops-63ef4531e53505d5bb85cd30e4b04758</td>\n",
       "    </tr>\n",
       "    <tr>\n",
       "      <th>4</th>\n",
       "      <td>0</td>\n",
       "      <td>0</td>\n",
       "      <td>1</td>\n",
       "      <td>0</td>\n",
       "      <td>1</td>\n",
       "      <td>0</td>\n",
       "      <td>0</td>\n",
       "      <td>0</td>\n",
       "      <td>0</td>\n",
       "      <td>0</td>\n",
       "      <td>...</td>\n",
       "      <td>1</td>\n",
       "      <td>0</td>\n",
       "      <td>0</td>\n",
       "      <td>0</td>\n",
       "      <td>0</td>\n",
       "      <td>0</td>\n",
       "      <td>0</td>\n",
       "      <td>0</td>\n",
       "      <td>0</td>\n",
       "      <td>jessops-87b405e744f1ff5d6594ef41c18b8111</td>\n",
       "    </tr>\n",
       "  </tbody>\n",
       "</table>\n",
       "<p>5 rows × 22 columns</p>\n",
       "</div>"
      ],
      "text/plain": [
       "   Parent_node_1_Cam Corders  Parent_node_1_Not Camera  \\\n",
       "0                          0                         0   \n",
       "1                          0                         0   \n",
       "2                          1                         0   \n",
       "3                          0                         0   \n",
       "4                          0                         0   \n",
       "\n",
       "   Parent_node_1_Photo Devices  Parent_node_2_Action Cameras  \\\n",
       "0                            1                             0   \n",
       "1                            1                             0   \n",
       "2                            0                             1   \n",
       "3                            1                             0   \n",
       "4                            1                             0   \n",
       "\n",
       "   Parent_node_2_DSLR  Parent_node_2_Mirrorless Cameras  \\\n",
       "0                   1                                 0   \n",
       "1                   0                                 0   \n",
       "2                   0                                 0   \n",
       "3                   1                                 0   \n",
       "4                   1                                 0   \n",
       "\n",
       "   Parent_node_2_Not Camera  Parent_node_2_Point & Shoot Cameras  \\\n",
       "0                         0                                    0   \n",
       "1                         0                                    1   \n",
       "2                         0                                    0   \n",
       "3                         0                                    0   \n",
       "4                         0                                    0   \n",
       "\n",
       "   Parent_node_2_Traditional Video Cameras  Leaf_Node_360 Degree Cameras  \\\n",
       "0                                        0                             0   \n",
       "1                                        0                             0   \n",
       "2                                        0                             0   \n",
       "3                                        0                             0   \n",
       "4                                        0                             0   \n",
       "\n",
       "                     ...                     Leaf_Node_DSLR  \\\n",
       "0                    ...                                  1   \n",
       "1                    ...                                  0   \n",
       "2                    ...                                  0   \n",
       "3                    ...                                  1   \n",
       "4                    ...                                  1   \n",
       "\n",
       "   Leaf_Node_Digital Compact Cameras  Leaf_Node_Drone  \\\n",
       "0                                  0                0   \n",
       "1                                  0                0   \n",
       "2                                  0                1   \n",
       "3                                  0                0   \n",
       "4                                  0                0   \n",
       "\n",
       "   Leaf_Node_Full Frame Mirrorless Camera  Leaf_Node_Instant  \\\n",
       "0                                       0                  0   \n",
       "1                                       0                  0   \n",
       "2                                       0                  0   \n",
       "3                                       0                  0   \n",
       "4                                       0                  0   \n",
       "\n",
       "   Leaf_Node_Non 360 Degree Cameras  Leaf_Node_NonFullFrameMirrorlessCamera  \\\n",
       "0                                 0                                       0   \n",
       "1                                 0                                       0   \n",
       "2                                 0                                       0   \n",
       "3                                 0                                       0   \n",
       "4                                 0                                       0   \n",
       "\n",
       "   Leaf_Node_Not Camera  Leaf_Node_Professional Video Cameras  \\\n",
       "0                     0                                     0   \n",
       "1                     0                                     0   \n",
       "2                     0                                     0   \n",
       "3                     0                                     0   \n",
       "4                     0                                     0   \n",
       "\n",
       "                                         ID  \n",
       "0  jessops-f2dd233dd6100c900432fd2902df8cde  \n",
       "1  jessops-cabb446087d8428bfa741078869439b8  \n",
       "2  jessops-6953ccaa96a32f9defa93c0d1dcc8279  \n",
       "3  jessops-63ef4531e53505d5bb85cd30e4b04758  \n",
       "4  jessops-87b405e744f1ff5d6594ef41c18b8111  \n",
       "\n",
       "[5 rows x 22 columns]"
      ]
     },
     "execution_count": 48,
     "metadata": {},
     "output_type": "execute_result"
    }
   ],
   "source": [
    "pred_dataframe.head() #predictions"
   ]
  },
  {
   "cell_type": "code",
   "execution_count": 49,
   "metadata": {},
   "outputs": [
    {
     "data": {
      "text/plain": [
       "(125, 22)"
      ]
     },
     "execution_count": 49,
     "metadata": {},
     "output_type": "execute_result"
    }
   ],
   "source": [
    "pred_dataframe.shape"
   ]
  },
  {
   "cell_type": "code",
   "execution_count": 50,
   "metadata": {
    "collapsed": true
   },
   "outputs": [],
   "source": [
    "y_new_test=y_new_test.reset_index()\n",
    "y_new_test=y_new_test.drop(['index'],axis=1)\n",
    "y_new_test['ID']=idds"
   ]
  },
  {
   "cell_type": "code",
   "execution_count": 51,
   "metadata": {},
   "outputs": [
    {
     "data": {
      "text/html": [
       "<div>\n",
       "<style>\n",
       "    .dataframe thead tr:only-child th {\n",
       "        text-align: right;\n",
       "    }\n",
       "\n",
       "    .dataframe thead th {\n",
       "        text-align: left;\n",
       "    }\n",
       "\n",
       "    .dataframe tbody tr th {\n",
       "        vertical-align: top;\n",
       "    }\n",
       "</style>\n",
       "<table border=\"1\" class=\"dataframe\">\n",
       "  <thead>\n",
       "    <tr style=\"text-align: right;\">\n",
       "      <th></th>\n",
       "      <th>Parent_node_1_Cam Corders</th>\n",
       "      <th>Parent_node_1_Not Camera</th>\n",
       "      <th>Parent_node_1_Photo Devices</th>\n",
       "      <th>Parent_node_2_Action Cameras</th>\n",
       "      <th>Parent_node_2_DSLR</th>\n",
       "      <th>Parent_node_2_Mirrorless Cameras</th>\n",
       "      <th>Parent_node_2_Not Camera</th>\n",
       "      <th>Parent_node_2_Point &amp; Shoot Cameras</th>\n",
       "      <th>Parent_node_2_Traditional Video Cameras</th>\n",
       "      <th>Leaf_Node_360 Degree Cameras</th>\n",
       "      <th>...</th>\n",
       "      <th>Leaf_Node_DSLR</th>\n",
       "      <th>Leaf_Node_Digital Compact Cameras</th>\n",
       "      <th>Leaf_Node_Drone</th>\n",
       "      <th>Leaf_Node_Full Frame Mirrorless Camera</th>\n",
       "      <th>Leaf_Node_Instant</th>\n",
       "      <th>Leaf_Node_Non 360 Degree Cameras</th>\n",
       "      <th>Leaf_Node_NonFullFrameMirrorlessCamera</th>\n",
       "      <th>Leaf_Node_Not Camera</th>\n",
       "      <th>Leaf_Node_Professional Video Cameras</th>\n",
       "      <th>ID</th>\n",
       "    </tr>\n",
       "  </thead>\n",
       "  <tbody>\n",
       "    <tr>\n",
       "      <th>0</th>\n",
       "      <td>0</td>\n",
       "      <td>0</td>\n",
       "      <td>1</td>\n",
       "      <td>0</td>\n",
       "      <td>1</td>\n",
       "      <td>0</td>\n",
       "      <td>0</td>\n",
       "      <td>0</td>\n",
       "      <td>0</td>\n",
       "      <td>0</td>\n",
       "      <td>...</td>\n",
       "      <td>1</td>\n",
       "      <td>0</td>\n",
       "      <td>0</td>\n",
       "      <td>0</td>\n",
       "      <td>0</td>\n",
       "      <td>0</td>\n",
       "      <td>0</td>\n",
       "      <td>0</td>\n",
       "      <td>0</td>\n",
       "      <td>jessops-f2dd233dd6100c900432fd2902df8cde</td>\n",
       "    </tr>\n",
       "    <tr>\n",
       "      <th>1</th>\n",
       "      <td>0</td>\n",
       "      <td>0</td>\n",
       "      <td>1</td>\n",
       "      <td>0</td>\n",
       "      <td>0</td>\n",
       "      <td>0</td>\n",
       "      <td>0</td>\n",
       "      <td>1</td>\n",
       "      <td>0</td>\n",
       "      <td>0</td>\n",
       "      <td>...</td>\n",
       "      <td>0</td>\n",
       "      <td>0</td>\n",
       "      <td>0</td>\n",
       "      <td>0</td>\n",
       "      <td>0</td>\n",
       "      <td>0</td>\n",
       "      <td>0</td>\n",
       "      <td>0</td>\n",
       "      <td>0</td>\n",
       "      <td>jessops-cabb446087d8428bfa741078869439b8</td>\n",
       "    </tr>\n",
       "    <tr>\n",
       "      <th>2</th>\n",
       "      <td>0</td>\n",
       "      <td>1</td>\n",
       "      <td>0</td>\n",
       "      <td>0</td>\n",
       "      <td>0</td>\n",
       "      <td>0</td>\n",
       "      <td>1</td>\n",
       "      <td>0</td>\n",
       "      <td>0</td>\n",
       "      <td>0</td>\n",
       "      <td>...</td>\n",
       "      <td>0</td>\n",
       "      <td>0</td>\n",
       "      <td>0</td>\n",
       "      <td>0</td>\n",
       "      <td>0</td>\n",
       "      <td>0</td>\n",
       "      <td>0</td>\n",
       "      <td>1</td>\n",
       "      <td>0</td>\n",
       "      <td>jessops-6953ccaa96a32f9defa93c0d1dcc8279</td>\n",
       "    </tr>\n",
       "    <tr>\n",
       "      <th>3</th>\n",
       "      <td>0</td>\n",
       "      <td>0</td>\n",
       "      <td>1</td>\n",
       "      <td>0</td>\n",
       "      <td>1</td>\n",
       "      <td>0</td>\n",
       "      <td>0</td>\n",
       "      <td>0</td>\n",
       "      <td>0</td>\n",
       "      <td>0</td>\n",
       "      <td>...</td>\n",
       "      <td>1</td>\n",
       "      <td>0</td>\n",
       "      <td>0</td>\n",
       "      <td>0</td>\n",
       "      <td>0</td>\n",
       "      <td>0</td>\n",
       "      <td>0</td>\n",
       "      <td>0</td>\n",
       "      <td>0</td>\n",
       "      <td>jessops-63ef4531e53505d5bb85cd30e4b04758</td>\n",
       "    </tr>\n",
       "    <tr>\n",
       "      <th>4</th>\n",
       "      <td>0</td>\n",
       "      <td>0</td>\n",
       "      <td>1</td>\n",
       "      <td>0</td>\n",
       "      <td>1</td>\n",
       "      <td>0</td>\n",
       "      <td>0</td>\n",
       "      <td>0</td>\n",
       "      <td>0</td>\n",
       "      <td>0</td>\n",
       "      <td>...</td>\n",
       "      <td>1</td>\n",
       "      <td>0</td>\n",
       "      <td>0</td>\n",
       "      <td>0</td>\n",
       "      <td>0</td>\n",
       "      <td>0</td>\n",
       "      <td>0</td>\n",
       "      <td>0</td>\n",
       "      <td>0</td>\n",
       "      <td>jessops-87b405e744f1ff5d6594ef41c18b8111</td>\n",
       "    </tr>\n",
       "  </tbody>\n",
       "</table>\n",
       "<p>5 rows × 22 columns</p>\n",
       "</div>"
      ],
      "text/plain": [
       "   Parent_node_1_Cam Corders  Parent_node_1_Not Camera  \\\n",
       "0                          0                         0   \n",
       "1                          0                         0   \n",
       "2                          0                         1   \n",
       "3                          0                         0   \n",
       "4                          0                         0   \n",
       "\n",
       "   Parent_node_1_Photo Devices  Parent_node_2_Action Cameras  \\\n",
       "0                            1                             0   \n",
       "1                            1                             0   \n",
       "2                            0                             0   \n",
       "3                            1                             0   \n",
       "4                            1                             0   \n",
       "\n",
       "   Parent_node_2_DSLR  Parent_node_2_Mirrorless Cameras  \\\n",
       "0                   1                                 0   \n",
       "1                   0                                 0   \n",
       "2                   0                                 0   \n",
       "3                   1                                 0   \n",
       "4                   1                                 0   \n",
       "\n",
       "   Parent_node_2_Not Camera  Parent_node_2_Point & Shoot Cameras  \\\n",
       "0                         0                                    0   \n",
       "1                         0                                    1   \n",
       "2                         1                                    0   \n",
       "3                         0                                    0   \n",
       "4                         0                                    0   \n",
       "\n",
       "   Parent_node_2_Traditional Video Cameras  Leaf_Node_360 Degree Cameras  \\\n",
       "0                                        0                             0   \n",
       "1                                        0                             0   \n",
       "2                                        0                             0   \n",
       "3                                        0                             0   \n",
       "4                                        0                             0   \n",
       "\n",
       "                     ...                     Leaf_Node_DSLR  \\\n",
       "0                    ...                                  1   \n",
       "1                    ...                                  0   \n",
       "2                    ...                                  0   \n",
       "3                    ...                                  1   \n",
       "4                    ...                                  1   \n",
       "\n",
       "   Leaf_Node_Digital Compact Cameras  Leaf_Node_Drone  \\\n",
       "0                                  0                0   \n",
       "1                                  0                0   \n",
       "2                                  0                0   \n",
       "3                                  0                0   \n",
       "4                                  0                0   \n",
       "\n",
       "   Leaf_Node_Full Frame Mirrorless Camera  Leaf_Node_Instant  \\\n",
       "0                                       0                  0   \n",
       "1                                       0                  0   \n",
       "2                                       0                  0   \n",
       "3                                       0                  0   \n",
       "4                                       0                  0   \n",
       "\n",
       "   Leaf_Node_Non 360 Degree Cameras  Leaf_Node_NonFullFrameMirrorlessCamera  \\\n",
       "0                                 0                                       0   \n",
       "1                                 0                                       0   \n",
       "2                                 0                                       0   \n",
       "3                                 0                                       0   \n",
       "4                                 0                                       0   \n",
       "\n",
       "   Leaf_Node_Not Camera  Leaf_Node_Professional Video Cameras  \\\n",
       "0                     0                                     0   \n",
       "1                     0                                     0   \n",
       "2                     1                                     0   \n",
       "3                     0                                     0   \n",
       "4                     0                                     0   \n",
       "\n",
       "                                         ID  \n",
       "0  jessops-f2dd233dd6100c900432fd2902df8cde  \n",
       "1  jessops-cabb446087d8428bfa741078869439b8  \n",
       "2  jessops-6953ccaa96a32f9defa93c0d1dcc8279  \n",
       "3  jessops-63ef4531e53505d5bb85cd30e4b04758  \n",
       "4  jessops-87b405e744f1ff5d6594ef41c18b8111  \n",
       "\n",
       "[5 rows x 22 columns]"
      ]
     },
     "execution_count": 51,
     "metadata": {},
     "output_type": "execute_result"
    }
   ],
   "source": [
    "y_new_test.head() #real "
   ]
  },
  {
   "cell_type": "code",
   "execution_count": 52,
   "metadata": {},
   "outputs": [
    {
     "data": {
      "text/plain": [
       "Index([              u'Parent_node_1_Cam Corders',\n",
       "                      u'Parent_node_1_Not Camera',\n",
       "                   u'Parent_node_1_Photo Devices',\n",
       "                  u'Parent_node_2_Action Cameras',\n",
       "                            u'Parent_node_2_DSLR',\n",
       "              u'Parent_node_2_Mirrorless Cameras',\n",
       "                      u'Parent_node_2_Not Camera',\n",
       "           u'Parent_node_2_Point & Shoot Cameras',\n",
       "       u'Parent_node_2_Traditional Video Cameras',\n",
       "                  u'Leaf_Node_360 Degree Cameras',\n",
       "                      u'Leaf_Node_Bridge Cameras',\n",
       "            u'Leaf_Node_Common Use Video Cameras',\n",
       "                                u'Leaf_Node_DSLR',\n",
       "             u'Leaf_Node_Digital Compact Cameras',\n",
       "                               u'Leaf_Node_Drone',\n",
       "        u'Leaf_Node_Full Frame Mirrorless Camera',\n",
       "                             u'Leaf_Node_Instant',\n",
       "              u'Leaf_Node_Non 360 Degree Cameras',\n",
       "        u'Leaf_Node_NonFullFrameMirrorlessCamera',\n",
       "                          u'Leaf_Node_Not Camera',\n",
       "          u'Leaf_Node_Professional Video Cameras',\n",
       "                                            u'ID'],\n",
       "      dtype='object')"
      ]
     },
     "execution_count": 52,
     "metadata": {},
     "output_type": "execute_result"
    }
   ],
   "source": [
    "y_new_test.columns"
   ]
  },
  {
   "cell_type": "markdown",
   "metadata": {},
   "source": [
    "- Accuracy score parent node:"
   ]
  },
  {
   "cell_type": "code",
   "execution_count": 53,
   "metadata": {},
   "outputs": [
    {
     "name": "stdout",
     "output_type": "stream",
     "text": [
      "Empty DataFrame\n",
      "Columns: [0]\n",
      "Index: []\n",
      "     0\n",
      "15   0\n",
      "108  0\n"
     ]
    }
   ],
   "source": [
    "#checking whether multiple assigned in the parent node\n",
    "summ=pd.DataFrame(pred_dataframe[['Parent_node_1_Cam Corders','Parent_node_1_Photo Devices','Parent_node_1_Not Camera']].sum(axis=1))\n",
    "print(summ[summ[0]>1])#zero, so no multiple assignment at the top level\n",
    "print(summ[summ[0]==0])#zero, so at least one thing has been assigned"
   ]
  },
  {
   "cell_type": "code",
   "execution_count": 54,
   "metadata": {},
   "outputs": [
    {
     "data": {
      "text/plain": [
       "(125, 22)"
      ]
     },
     "execution_count": 54,
     "metadata": {},
     "output_type": "execute_result"
    }
   ],
   "source": [
    "pred_dataframe.shape"
   ]
  },
  {
   "cell_type": "code",
   "execution_count": 55,
   "metadata": {
    "collapsed": true
   },
   "outputs": [],
   "source": [
    "#Look at the confidences and assign the highest confidence one.\n",
    "a=summ[summ[0]==0]\n",
    "indexx=list(a.index)"
   ]
  },
  {
   "cell_type": "code",
   "execution_count": 56,
   "metadata": {},
   "outputs": [
    {
     "data": {
      "text/html": [
       "<div>\n",
       "<style>\n",
       "    .dataframe thead tr:only-child th {\n",
       "        text-align: right;\n",
       "    }\n",
       "\n",
       "    .dataframe thead th {\n",
       "        text-align: left;\n",
       "    }\n",
       "\n",
       "    .dataframe tbody tr th {\n",
       "        vertical-align: top;\n",
       "    }\n",
       "</style>\n",
       "<table border=\"1\" class=\"dataframe\">\n",
       "  <thead>\n",
       "    <tr style=\"text-align: right;\">\n",
       "      <th></th>\n",
       "      <th>Parent_node_1_Cam Corders</th>\n",
       "      <th>Parent_node_1_Not Camera</th>\n",
       "      <th>Parent_node_1_Photo Devices</th>\n",
       "      <th>Parent_node_2_Action Cameras</th>\n",
       "      <th>Parent_node_2_DSLR</th>\n",
       "      <th>Parent_node_2_Mirrorless Cameras</th>\n",
       "      <th>Parent_node_2_Not Camera</th>\n",
       "      <th>Parent_node_2_Point &amp; Shoot Cameras</th>\n",
       "      <th>Parent_node_2_Traditional Video Cameras</th>\n",
       "      <th>Leaf_Node_360 Degree Cameras</th>\n",
       "      <th>...</th>\n",
       "      <th>Leaf_Node_DSLR</th>\n",
       "      <th>Leaf_Node_Digital Compact Cameras</th>\n",
       "      <th>Leaf_Node_Drone</th>\n",
       "      <th>Leaf_Node_Full Frame Mirrorless Camera</th>\n",
       "      <th>Leaf_Node_Instant</th>\n",
       "      <th>Leaf_Node_Non 360 Degree Cameras</th>\n",
       "      <th>Leaf_Node_NonFullFrameMirrorlessCamera</th>\n",
       "      <th>Leaf_Node_Not Camera</th>\n",
       "      <th>Leaf_Node_Professional Video Cameras</th>\n",
       "      <th>ID</th>\n",
       "    </tr>\n",
       "  </thead>\n",
       "  <tbody>\n",
       "    <tr>\n",
       "      <th>0</th>\n",
       "      <td>0.003354</td>\n",
       "      <td>0.021234</td>\n",
       "      <td>0.996621</td>\n",
       "      <td>0.002064</td>\n",
       "      <td>0.972923</td>\n",
       "      <td>0.022800</td>\n",
       "      <td>0.021603</td>\n",
       "      <td>0.005267</td>\n",
       "      <td>0.005608</td>\n",
       "      <td>0.009159</td>\n",
       "      <td>...</td>\n",
       "      <td>0.954725</td>\n",
       "      <td>0.024303</td>\n",
       "      <td>0.004722</td>\n",
       "      <td>0.005526</td>\n",
       "      <td>0.004999</td>\n",
       "      <td>0.010182</td>\n",
       "      <td>0.036049</td>\n",
       "      <td>0.037446</td>\n",
       "      <td>0.023738</td>\n",
       "      <td>jessops-f2dd233dd6100c900432fd2902df8cde</td>\n",
       "    </tr>\n",
       "    <tr>\n",
       "      <th>1</th>\n",
       "      <td>0.014665</td>\n",
       "      <td>0.008790</td>\n",
       "      <td>0.996043</td>\n",
       "      <td>0.004381</td>\n",
       "      <td>0.045077</td>\n",
       "      <td>0.017334</td>\n",
       "      <td>0.009693</td>\n",
       "      <td>0.981477</td>\n",
       "      <td>0.026256</td>\n",
       "      <td>0.008241</td>\n",
       "      <td>...</td>\n",
       "      <td>0.047956</td>\n",
       "      <td>0.077985</td>\n",
       "      <td>0.010567</td>\n",
       "      <td>0.063249</td>\n",
       "      <td>0.001830</td>\n",
       "      <td>0.013912</td>\n",
       "      <td>0.007783</td>\n",
       "      <td>0.025916</td>\n",
       "      <td>0.018280</td>\n",
       "      <td>jessops-cabb446087d8428bfa741078869439b8</td>\n",
       "    </tr>\n",
       "    <tr>\n",
       "      <th>2</th>\n",
       "      <td>0.987832</td>\n",
       "      <td>0.012101</td>\n",
       "      <td>0.016217</td>\n",
       "      <td>0.991647</td>\n",
       "      <td>0.024535</td>\n",
       "      <td>0.060379</td>\n",
       "      <td>0.012961</td>\n",
       "      <td>0.062105</td>\n",
       "      <td>0.020272</td>\n",
       "      <td>0.005221</td>\n",
       "      <td>...</td>\n",
       "      <td>0.027590</td>\n",
       "      <td>0.060497</td>\n",
       "      <td>0.951832</td>\n",
       "      <td>0.016897</td>\n",
       "      <td>0.015281</td>\n",
       "      <td>0.014564</td>\n",
       "      <td>0.142572</td>\n",
       "      <td>0.029619</td>\n",
       "      <td>0.029214</td>\n",
       "      <td>jessops-6953ccaa96a32f9defa93c0d1dcc8279</td>\n",
       "    </tr>\n",
       "    <tr>\n",
       "      <th>3</th>\n",
       "      <td>0.012351</td>\n",
       "      <td>0.010606</td>\n",
       "      <td>0.996035</td>\n",
       "      <td>0.008163</td>\n",
       "      <td>0.985899</td>\n",
       "      <td>0.048176</td>\n",
       "      <td>0.011497</td>\n",
       "      <td>0.001962</td>\n",
       "      <td>0.003302</td>\n",
       "      <td>0.010971</td>\n",
       "      <td>...</td>\n",
       "      <td>0.974778</td>\n",
       "      <td>0.023392</td>\n",
       "      <td>0.012217</td>\n",
       "      <td>0.041652</td>\n",
       "      <td>0.004236</td>\n",
       "      <td>0.019391</td>\n",
       "      <td>0.022124</td>\n",
       "      <td>0.028032</td>\n",
       "      <td>0.016448</td>\n",
       "      <td>jessops-63ef4531e53505d5bb85cd30e4b04758</td>\n",
       "    </tr>\n",
       "    <tr>\n",
       "      <th>4</th>\n",
       "      <td>0.001121</td>\n",
       "      <td>0.021646</td>\n",
       "      <td>0.999998</td>\n",
       "      <td>0.002769</td>\n",
       "      <td>0.991148</td>\n",
       "      <td>0.014154</td>\n",
       "      <td>0.021983</td>\n",
       "      <td>0.035951</td>\n",
       "      <td>0.000396</td>\n",
       "      <td>0.018771</td>\n",
       "      <td>...</td>\n",
       "      <td>0.983426</td>\n",
       "      <td>0.031952</td>\n",
       "      <td>0.005212</td>\n",
       "      <td>0.021075</td>\n",
       "      <td>0.021915</td>\n",
       "      <td>0.006076</td>\n",
       "      <td>0.020231</td>\n",
       "      <td>0.037747</td>\n",
       "      <td>0.005285</td>\n",
       "      <td>jessops-87b405e744f1ff5d6594ef41c18b8111</td>\n",
       "    </tr>\n",
       "  </tbody>\n",
       "</table>\n",
       "<p>5 rows × 22 columns</p>\n",
       "</div>"
      ],
      "text/plain": [
       "   Parent_node_1_Cam Corders  Parent_node_1_Not Camera  \\\n",
       "0                   0.003354                  0.021234   \n",
       "1                   0.014665                  0.008790   \n",
       "2                   0.987832                  0.012101   \n",
       "3                   0.012351                  0.010606   \n",
       "4                   0.001121                  0.021646   \n",
       "\n",
       "   Parent_node_1_Photo Devices  Parent_node_2_Action Cameras  \\\n",
       "0                     0.996621                      0.002064   \n",
       "1                     0.996043                      0.004381   \n",
       "2                     0.016217                      0.991647   \n",
       "3                     0.996035                      0.008163   \n",
       "4                     0.999998                      0.002769   \n",
       "\n",
       "   Parent_node_2_DSLR  Parent_node_2_Mirrorless Cameras  \\\n",
       "0            0.972923                          0.022800   \n",
       "1            0.045077                          0.017334   \n",
       "2            0.024535                          0.060379   \n",
       "3            0.985899                          0.048176   \n",
       "4            0.991148                          0.014154   \n",
       "\n",
       "   Parent_node_2_Not Camera  Parent_node_2_Point & Shoot Cameras  \\\n",
       "0                  0.021603                             0.005267   \n",
       "1                  0.009693                             0.981477   \n",
       "2                  0.012961                             0.062105   \n",
       "3                  0.011497                             0.001962   \n",
       "4                  0.021983                             0.035951   \n",
       "\n",
       "   Parent_node_2_Traditional Video Cameras  Leaf_Node_360 Degree Cameras  \\\n",
       "0                                 0.005608                      0.009159   \n",
       "1                                 0.026256                      0.008241   \n",
       "2                                 0.020272                      0.005221   \n",
       "3                                 0.003302                      0.010971   \n",
       "4                                 0.000396                      0.018771   \n",
       "\n",
       "                     ...                     Leaf_Node_DSLR  \\\n",
       "0                    ...                           0.954725   \n",
       "1                    ...                           0.047956   \n",
       "2                    ...                           0.027590   \n",
       "3                    ...                           0.974778   \n",
       "4                    ...                           0.983426   \n",
       "\n",
       "   Leaf_Node_Digital Compact Cameras  Leaf_Node_Drone  \\\n",
       "0                           0.024303         0.004722   \n",
       "1                           0.077985         0.010567   \n",
       "2                           0.060497         0.951832   \n",
       "3                           0.023392         0.012217   \n",
       "4                           0.031952         0.005212   \n",
       "\n",
       "   Leaf_Node_Full Frame Mirrorless Camera  Leaf_Node_Instant  \\\n",
       "0                                0.005526           0.004999   \n",
       "1                                0.063249           0.001830   \n",
       "2                                0.016897           0.015281   \n",
       "3                                0.041652           0.004236   \n",
       "4                                0.021075           0.021915   \n",
       "\n",
       "   Leaf_Node_Non 360 Degree Cameras  Leaf_Node_NonFullFrameMirrorlessCamera  \\\n",
       "0                          0.010182                                0.036049   \n",
       "1                          0.013912                                0.007783   \n",
       "2                          0.014564                                0.142572   \n",
       "3                          0.019391                                0.022124   \n",
       "4                          0.006076                                0.020231   \n",
       "\n",
       "   Leaf_Node_Not Camera  Leaf_Node_Professional Video Cameras  \\\n",
       "0              0.037446                              0.023738   \n",
       "1              0.025916                              0.018280   \n",
       "2              0.029619                              0.029214   \n",
       "3              0.028032                              0.016448   \n",
       "4              0.037747                              0.005285   \n",
       "\n",
       "                                         ID  \n",
       "0  jessops-f2dd233dd6100c900432fd2902df8cde  \n",
       "1  jessops-cabb446087d8428bfa741078869439b8  \n",
       "2  jessops-6953ccaa96a32f9defa93c0d1dcc8279  \n",
       "3  jessops-63ef4531e53505d5bb85cd30e4b04758  \n",
       "4  jessops-87b405e744f1ff5d6594ef41c18b8111  \n",
       "\n",
       "[5 rows x 22 columns]"
      ]
     },
     "execution_count": 56,
     "metadata": {},
     "output_type": "execute_result"
    }
   ],
   "source": [
    "pred_proba_dataframe.head()"
   ]
  },
  {
   "cell_type": "code",
   "execution_count": 57,
   "metadata": {
    "collapsed": true
   },
   "outputs": [],
   "source": [
    "parentnode1_level=pred_proba_dataframe[['Parent_node_1_Cam Corders','Parent_node_1_Not Camera','Parent_node_1_Photo Devices']]"
   ]
  },
  {
   "cell_type": "code",
   "execution_count": 58,
   "metadata": {
    "collapsed": true
   },
   "outputs": [],
   "source": [
    "zeros=parentnode1_level[parentnode1_level.index.isin(indexx)]\n",
    "zeros=zeros.reset_index()"
   ]
  },
  {
   "cell_type": "code",
   "execution_count": 59,
   "metadata": {},
   "outputs": [
    {
     "data": {
      "text/html": [
       "<div>\n",
       "<style>\n",
       "    .dataframe thead tr:only-child th {\n",
       "        text-align: right;\n",
       "    }\n",
       "\n",
       "    .dataframe thead th {\n",
       "        text-align: left;\n",
       "    }\n",
       "\n",
       "    .dataframe tbody tr th {\n",
       "        vertical-align: top;\n",
       "    }\n",
       "</style>\n",
       "<table border=\"1\" class=\"dataframe\">\n",
       "  <thead>\n",
       "    <tr style=\"text-align: right;\">\n",
       "      <th></th>\n",
       "      <th>index</th>\n",
       "      <th>Parent_node_1_Cam Corders</th>\n",
       "      <th>Parent_node_1_Not Camera</th>\n",
       "      <th>Parent_node_1_Photo Devices</th>\n",
       "    </tr>\n",
       "  </thead>\n",
       "  <tbody>\n",
       "    <tr>\n",
       "      <th>0</th>\n",
       "      <td>15</td>\n",
       "      <td>0.484939</td>\n",
       "      <td>0.020423</td>\n",
       "      <td>0.366512</td>\n",
       "    </tr>\n",
       "    <tr>\n",
       "      <th>1</th>\n",
       "      <td>108</td>\n",
       "      <td>0.500000</td>\n",
       "      <td>0.102643</td>\n",
       "      <td>0.236605</td>\n",
       "    </tr>\n",
       "  </tbody>\n",
       "</table>\n",
       "</div>"
      ],
      "text/plain": [
       "   index  Parent_node_1_Cam Corders  Parent_node_1_Not Camera  \\\n",
       "0     15                   0.484939                  0.020423   \n",
       "1    108                   0.500000                  0.102643   \n",
       "\n",
       "   Parent_node_1_Photo Devices  \n",
       "0                     0.366512  \n",
       "1                     0.236605  "
      ]
     },
     "execution_count": 59,
     "metadata": {},
     "output_type": "execute_result"
    }
   ],
   "source": [
    "zeros"
   ]
  },
  {
   "cell_type": "code",
   "execution_count": 60,
   "metadata": {
    "collapsed": true
   },
   "outputs": [],
   "source": [
    "i=0\n",
    "n=zeros.shape[0]\n",
    "n1=zeros.shape[1]\n",
    "zero_max={}\n",
    "while(i<n):\n",
    "    data=zeros.loc[[i]]\n",
    "    maxx=data.drop('index',axis=1).max(axis=1).values[0]\n",
    "    idd=data[['index']].values[0][0]\n",
    "    k=0\n",
    "    while(k<n1):\n",
    "        if(data['Parent_node_1_Cam Corders'].values[0]==maxx):\n",
    "            col='Parent_node_1_Cam Corders'\n",
    "        if(data['Parent_node_1_Photo Devices'].values[0]==maxx):\n",
    "            col='Parent_node_1_Photo Devices'\n",
    "        else:\n",
    "            col='Parent_node_1_Not Camera'\n",
    "        k=k+1\n",
    "    zero_max[idd] = col\n",
    "    i=i+1"
   ]
  },
  {
   "cell_type": "code",
   "execution_count": 61,
   "metadata": {},
   "outputs": [
    {
     "data": {
      "text/plain": [
       "{15: 'Parent_node_1_Not Camera', 108: 'Parent_node_1_Not Camera'}"
      ]
     },
     "execution_count": 61,
     "metadata": {},
     "output_type": "execute_result"
    }
   ],
   "source": [
    "zero_max"
   ]
  },
  {
   "cell_type": "code",
   "execution_count": 62,
   "metadata": {
    "collapsed": true
   },
   "outputs": [],
   "source": [
    "#asssigning:\n",
    "i=0\n",
    "n=zeros.shape[0]\n",
    "while(i<n):\n",
    "    gett=indexx[i]\n",
    "    value=zero_max.get(gett)\n",
    "    pred_dataframe.at[gett, value]=1\n",
    "    i=i+1"
   ]
  },
  {
   "cell_type": "code",
   "execution_count": 63,
   "metadata": {
    "collapsed": true
   },
   "outputs": [],
   "source": [
    "parentnodes_pred=pred_dataframe[['Parent_node_1_Cam Corders','Parent_node_1_Photo Devices','Parent_node_1_Not Camera']]\n",
    "parentnodes_act=y_new_test[['Parent_node_1_Cam Corders','Parent_node_1_Photo Devices','Parent_node_1_Not Camera']]\n",
    "parentnodes_act=parentnodes_act.reset_index().drop('index',axis=1)"
   ]
  },
  {
   "cell_type": "code",
   "execution_count": 64,
   "metadata": {},
   "outputs": [
    {
     "data": {
      "text/plain": [
       "(125, 3)"
      ]
     },
     "execution_count": 64,
     "metadata": {},
     "output_type": "execute_result"
    }
   ],
   "source": [
    "parentnodes_pred.shape"
   ]
  },
  {
   "cell_type": "code",
   "execution_count": 65,
   "metadata": {},
   "outputs": [
    {
     "data": {
      "text/html": [
       "<div>\n",
       "<style>\n",
       "    .dataframe thead tr:only-child th {\n",
       "        text-align: right;\n",
       "    }\n",
       "\n",
       "    .dataframe thead th {\n",
       "        text-align: left;\n",
       "    }\n",
       "\n",
       "    .dataframe tbody tr th {\n",
       "        vertical-align: top;\n",
       "    }\n",
       "</style>\n",
       "<table border=\"1\" class=\"dataframe\">\n",
       "  <thead>\n",
       "    <tr style=\"text-align: right;\">\n",
       "      <th></th>\n",
       "      <th>Parent_node_1_Cam Corders</th>\n",
       "      <th>Parent_node_1_Photo Devices</th>\n",
       "      <th>Parent_node_1_Not Camera</th>\n",
       "    </tr>\n",
       "  </thead>\n",
       "  <tbody>\n",
       "    <tr>\n",
       "      <th>0</th>\n",
       "      <td>0</td>\n",
       "      <td>1</td>\n",
       "      <td>0</td>\n",
       "    </tr>\n",
       "    <tr>\n",
       "      <th>1</th>\n",
       "      <td>0</td>\n",
       "      <td>1</td>\n",
       "      <td>0</td>\n",
       "    </tr>\n",
       "    <tr>\n",
       "      <th>2</th>\n",
       "      <td>1</td>\n",
       "      <td>0</td>\n",
       "      <td>0</td>\n",
       "    </tr>\n",
       "    <tr>\n",
       "      <th>3</th>\n",
       "      <td>0</td>\n",
       "      <td>1</td>\n",
       "      <td>0</td>\n",
       "    </tr>\n",
       "    <tr>\n",
       "      <th>4</th>\n",
       "      <td>0</td>\n",
       "      <td>1</td>\n",
       "      <td>0</td>\n",
       "    </tr>\n",
       "  </tbody>\n",
       "</table>\n",
       "</div>"
      ],
      "text/plain": [
       "   Parent_node_1_Cam Corders  Parent_node_1_Photo Devices  \\\n",
       "0                          0                            1   \n",
       "1                          0                            1   \n",
       "2                          1                            0   \n",
       "3                          0                            1   \n",
       "4                          0                            1   \n",
       "\n",
       "   Parent_node_1_Not Camera  \n",
       "0                         0  \n",
       "1                         0  \n",
       "2                         0  \n",
       "3                         0  \n",
       "4                         0  "
      ]
     },
     "execution_count": 65,
     "metadata": {},
     "output_type": "execute_result"
    }
   ],
   "source": [
    "parentnodes_pred.head()"
   ]
  },
  {
   "cell_type": "code",
   "execution_count": 66,
   "metadata": {},
   "outputs": [
    {
     "data": {
      "text/plain": [
       "(125, 22)"
      ]
     },
     "execution_count": 66,
     "metadata": {},
     "output_type": "execute_result"
    }
   ],
   "source": [
    "pred_dataframe.shape"
   ]
  },
  {
   "cell_type": "code",
   "execution_count": 67,
   "metadata": {},
   "outputs": [
    {
     "data": {
      "text/plain": [
       "False"
      ]
     },
     "execution_count": 67,
     "metadata": {},
     "output_type": "execute_result"
    }
   ],
   "source": [
    "parentnodes_pred.loc[0]['Parent_node_1_Cam Corders']==1"
   ]
  },
  {
   "cell_type": "code",
   "execution_count": 68,
   "metadata": {
    "collapsed": true
   },
   "outputs": [],
   "source": [
    "i=0\n",
    "n=parentnodes_pred.shape[0]\n",
    "parent_pred=[]\n",
    "while(i<n):\n",
    "    if(parentnodes_pred.loc[i]['Parent_node_1_Cam Corders']==1):\n",
    "        parent_pred.append('Cam_Corders')\n",
    "    if(parentnodes_pred.loc[i]['Parent_node_1_Photo Devices']==1):\n",
    "        parent_pred.append('Photo_Devices')\n",
    "    if(parentnodes_pred.loc[i]['Parent_node_1_Not Camera']==1):\n",
    "        parent_pred.append('Not_Camera')\n",
    "    i=i+1"
   ]
  },
  {
   "cell_type": "code",
   "execution_count": 69,
   "metadata": {},
   "outputs": [
    {
     "data": {
      "text/plain": [
       "125"
      ]
     },
     "execution_count": 69,
     "metadata": {},
     "output_type": "execute_result"
    }
   ],
   "source": [
    "len(parent_pred)"
   ]
  },
  {
   "cell_type": "code",
   "execution_count": 70,
   "metadata": {
    "collapsed": true
   },
   "outputs": [],
   "source": [
    "i=0\n",
    "n=parentnodes_act.shape[0]\n",
    "parent_act=[]\n",
    "while(i<n):\n",
    "    if(parentnodes_act.loc[i]['Parent_node_1_Cam Corders']==1):\n",
    "        parent_act.append('Cam_Corders')\n",
    "    if(parentnodes_act.loc[i]['Parent_node_1_Photo Devices']==1):\n",
    "        parent_act.append('Photo_Devices')\n",
    "    if(parentnodes_act.loc[i]['Parent_node_1_Not Camera']==1):\n",
    "        parent_act.append('Not_Camera')\n",
    "    i=i+1"
   ]
  },
  {
   "cell_type": "code",
   "execution_count": 71,
   "metadata": {
    "collapsed": true
   },
   "outputs": [],
   "source": [
    "from sklearn.metrics import confusion_matrix\n",
    "from sklearn.utils.multiclass import unique_labels\n",
    "from sklearn.metrics import confusion_matrix\n",
    "from sklearn.metrics import classification_report\n",
    "from sklearn.metrics import accuracy_score\n",
    "from sklearn.metrics import log_loss\n",
    "from sklearn.metrics import roc_auc_score\n",
    "\n",
    "def confusion_matrix_report(y_true, y_pred):\n",
    "    cm, labels = confusion_matrix(y_true, y_pred), unique_labels(y_true, y_pred)\n",
    "    column_width = max([len(str(x)) for x in labels] + [5])  # 5 is value length\n",
    "    report = \" \" * column_width + \" \" + \"{:_^{}}\".format(\"Prediction\", column_width * len(labels))+ \"\\n\"\n",
    "    report += \" \" * column_width + \" \".join([\"{:>{}}\".format(label, column_width) for label in labels]) + \"\\n\"\n",
    "    for i, label1 in enumerate(labels):\n",
    "        report += \"{:>{}}\".format(label1, column_width) + \" \".join([\"{:{}d}\".format(cm[i, j], column_width) for j in range(len(labels))]) + \"\\n\"\n",
    "    return report\n",
    "    \n",
    "def analytics(y_true, y_pred):#target of the test data #predictions as 0,1 #model (knnclassifier) #data_test\n",
    "    print(\"Confusion Matrix:\")\n",
    "    print(confusion_matrix_report(y_true, y_pred))\n",
    "    print(\"Accuracy Score:\")\n",
    "    print(accuracy_score(y_true, y_pred))\n",
    "    print()\n",
    "    print(\"Classification Report:\")\n",
    "    print(classification_report(y_true, y_pred))\n",
    "    #print(\"AUC Score:\")\n",
    "    #print(AUC(target_test, model, data_test))"
   ]
  },
  {
   "cell_type": "code",
   "execution_count": 72,
   "metadata": {},
   "outputs": [
    {
     "name": "stdout",
     "output_type": "stream",
     "text": [
      "Confusion Matrix:\n",
      "              ______________Prediction_______________\n",
      "               Cam_Corders    Not_Camera Photo_Devices\n",
      "  Cam_Corders           24             1             2\n",
      "   Not_Camera            3             2             4\n",
      "Photo_Devices            2             0            87\n",
      "\n",
      "Accuracy Score:\n",
      "0.904\n",
      "()\n",
      "Classification Report:\n",
      "               precision    recall  f1-score   support\n",
      "\n",
      "  Cam_Corders       0.83      0.89      0.86        27\n",
      "   Not_Camera       0.67      0.22      0.33         9\n",
      "Photo_Devices       0.94      0.98      0.96        89\n",
      "\n",
      "  avg / total       0.89      0.90      0.89       125\n",
      "\n"
     ]
    }
   ],
   "source": [
    "analytics(parent_act,parent_pred)"
   ]
  },
  {
   "cell_type": "markdown",
   "metadata": {},
   "source": [
    "- Accuracy score parent node level2:"
   ]
  },
  {
   "cell_type": "code",
   "execution_count": 73,
   "metadata": {},
   "outputs": [
    {
     "data": {
      "text/html": [
       "<div>\n",
       "<style>\n",
       "    .dataframe thead tr:only-child th {\n",
       "        text-align: right;\n",
       "    }\n",
       "\n",
       "    .dataframe thead th {\n",
       "        text-align: left;\n",
       "    }\n",
       "\n",
       "    .dataframe tbody tr th {\n",
       "        vertical-align: top;\n",
       "    }\n",
       "</style>\n",
       "<table border=\"1\" class=\"dataframe\">\n",
       "  <thead>\n",
       "    <tr style=\"text-align: right;\">\n",
       "      <th></th>\n",
       "      <th>Parent_node_1_Cam Corders</th>\n",
       "      <th>Parent_node_1_Not Camera</th>\n",
       "      <th>Parent_node_1_Photo Devices</th>\n",
       "      <th>Parent_node_2_Action Cameras</th>\n",
       "      <th>Parent_node_2_DSLR</th>\n",
       "      <th>Parent_node_2_Mirrorless Cameras</th>\n",
       "      <th>Parent_node_2_Not Camera</th>\n",
       "      <th>Parent_node_2_Point &amp; Shoot Cameras</th>\n",
       "      <th>Parent_node_2_Traditional Video Cameras</th>\n",
       "      <th>Leaf_Node_360 Degree Cameras</th>\n",
       "      <th>...</th>\n",
       "      <th>Leaf_Node_DSLR</th>\n",
       "      <th>Leaf_Node_Digital Compact Cameras</th>\n",
       "      <th>Leaf_Node_Drone</th>\n",
       "      <th>Leaf_Node_Full Frame Mirrorless Camera</th>\n",
       "      <th>Leaf_Node_Instant</th>\n",
       "      <th>Leaf_Node_Non 360 Degree Cameras</th>\n",
       "      <th>Leaf_Node_NonFullFrameMirrorlessCamera</th>\n",
       "      <th>Leaf_Node_Not Camera</th>\n",
       "      <th>Leaf_Node_Professional Video Cameras</th>\n",
       "      <th>ID</th>\n",
       "    </tr>\n",
       "  </thead>\n",
       "  <tbody>\n",
       "    <tr>\n",
       "      <th>0</th>\n",
       "      <td>0</td>\n",
       "      <td>0</td>\n",
       "      <td>1</td>\n",
       "      <td>0</td>\n",
       "      <td>1</td>\n",
       "      <td>0</td>\n",
       "      <td>0</td>\n",
       "      <td>0</td>\n",
       "      <td>0</td>\n",
       "      <td>0</td>\n",
       "      <td>...</td>\n",
       "      <td>1</td>\n",
       "      <td>0</td>\n",
       "      <td>0</td>\n",
       "      <td>0</td>\n",
       "      <td>0</td>\n",
       "      <td>0</td>\n",
       "      <td>0</td>\n",
       "      <td>0</td>\n",
       "      <td>0</td>\n",
       "      <td>jessops-f2dd233dd6100c900432fd2902df8cde</td>\n",
       "    </tr>\n",
       "    <tr>\n",
       "      <th>1</th>\n",
       "      <td>0</td>\n",
       "      <td>0</td>\n",
       "      <td>1</td>\n",
       "      <td>0</td>\n",
       "      <td>0</td>\n",
       "      <td>0</td>\n",
       "      <td>0</td>\n",
       "      <td>1</td>\n",
       "      <td>0</td>\n",
       "      <td>0</td>\n",
       "      <td>...</td>\n",
       "      <td>0</td>\n",
       "      <td>0</td>\n",
       "      <td>0</td>\n",
       "      <td>0</td>\n",
       "      <td>0</td>\n",
       "      <td>0</td>\n",
       "      <td>0</td>\n",
       "      <td>0</td>\n",
       "      <td>0</td>\n",
       "      <td>jessops-cabb446087d8428bfa741078869439b8</td>\n",
       "    </tr>\n",
       "    <tr>\n",
       "      <th>2</th>\n",
       "      <td>1</td>\n",
       "      <td>0</td>\n",
       "      <td>0</td>\n",
       "      <td>1</td>\n",
       "      <td>0</td>\n",
       "      <td>0</td>\n",
       "      <td>0</td>\n",
       "      <td>0</td>\n",
       "      <td>0</td>\n",
       "      <td>0</td>\n",
       "      <td>...</td>\n",
       "      <td>0</td>\n",
       "      <td>0</td>\n",
       "      <td>1</td>\n",
       "      <td>0</td>\n",
       "      <td>0</td>\n",
       "      <td>0</td>\n",
       "      <td>0</td>\n",
       "      <td>0</td>\n",
       "      <td>0</td>\n",
       "      <td>jessops-6953ccaa96a32f9defa93c0d1dcc8279</td>\n",
       "    </tr>\n",
       "    <tr>\n",
       "      <th>3</th>\n",
       "      <td>0</td>\n",
       "      <td>0</td>\n",
       "      <td>1</td>\n",
       "      <td>0</td>\n",
       "      <td>1</td>\n",
       "      <td>0</td>\n",
       "      <td>0</td>\n",
       "      <td>0</td>\n",
       "      <td>0</td>\n",
       "      <td>0</td>\n",
       "      <td>...</td>\n",
       "      <td>1</td>\n",
       "      <td>0</td>\n",
       "      <td>0</td>\n",
       "      <td>0</td>\n",
       "      <td>0</td>\n",
       "      <td>0</td>\n",
       "      <td>0</td>\n",
       "      <td>0</td>\n",
       "      <td>0</td>\n",
       "      <td>jessops-63ef4531e53505d5bb85cd30e4b04758</td>\n",
       "    </tr>\n",
       "    <tr>\n",
       "      <th>4</th>\n",
       "      <td>0</td>\n",
       "      <td>0</td>\n",
       "      <td>1</td>\n",
       "      <td>0</td>\n",
       "      <td>1</td>\n",
       "      <td>0</td>\n",
       "      <td>0</td>\n",
       "      <td>0</td>\n",
       "      <td>0</td>\n",
       "      <td>0</td>\n",
       "      <td>...</td>\n",
       "      <td>1</td>\n",
       "      <td>0</td>\n",
       "      <td>0</td>\n",
       "      <td>0</td>\n",
       "      <td>0</td>\n",
       "      <td>0</td>\n",
       "      <td>0</td>\n",
       "      <td>0</td>\n",
       "      <td>0</td>\n",
       "      <td>jessops-87b405e744f1ff5d6594ef41c18b8111</td>\n",
       "    </tr>\n",
       "  </tbody>\n",
       "</table>\n",
       "<p>5 rows × 22 columns</p>\n",
       "</div>"
      ],
      "text/plain": [
       "   Parent_node_1_Cam Corders  Parent_node_1_Not Camera  \\\n",
       "0                          0                         0   \n",
       "1                          0                         0   \n",
       "2                          1                         0   \n",
       "3                          0                         0   \n",
       "4                          0                         0   \n",
       "\n",
       "   Parent_node_1_Photo Devices  Parent_node_2_Action Cameras  \\\n",
       "0                            1                             0   \n",
       "1                            1                             0   \n",
       "2                            0                             1   \n",
       "3                            1                             0   \n",
       "4                            1                             0   \n",
       "\n",
       "   Parent_node_2_DSLR  Parent_node_2_Mirrorless Cameras  \\\n",
       "0                   1                                 0   \n",
       "1                   0                                 0   \n",
       "2                   0                                 0   \n",
       "3                   1                                 0   \n",
       "4                   1                                 0   \n",
       "\n",
       "   Parent_node_2_Not Camera  Parent_node_2_Point & Shoot Cameras  \\\n",
       "0                         0                                    0   \n",
       "1                         0                                    1   \n",
       "2                         0                                    0   \n",
       "3                         0                                    0   \n",
       "4                         0                                    0   \n",
       "\n",
       "   Parent_node_2_Traditional Video Cameras  Leaf_Node_360 Degree Cameras  \\\n",
       "0                                        0                             0   \n",
       "1                                        0                             0   \n",
       "2                                        0                             0   \n",
       "3                                        0                             0   \n",
       "4                                        0                             0   \n",
       "\n",
       "                     ...                     Leaf_Node_DSLR  \\\n",
       "0                    ...                                  1   \n",
       "1                    ...                                  0   \n",
       "2                    ...                                  0   \n",
       "3                    ...                                  1   \n",
       "4                    ...                                  1   \n",
       "\n",
       "   Leaf_Node_Digital Compact Cameras  Leaf_Node_Drone  \\\n",
       "0                                  0                0   \n",
       "1                                  0                0   \n",
       "2                                  0                1   \n",
       "3                                  0                0   \n",
       "4                                  0                0   \n",
       "\n",
       "   Leaf_Node_Full Frame Mirrorless Camera  Leaf_Node_Instant  \\\n",
       "0                                       0                  0   \n",
       "1                                       0                  0   \n",
       "2                                       0                  0   \n",
       "3                                       0                  0   \n",
       "4                                       0                  0   \n",
       "\n",
       "   Leaf_Node_Non 360 Degree Cameras  Leaf_Node_NonFullFrameMirrorlessCamera  \\\n",
       "0                                 0                                       0   \n",
       "1                                 0                                       0   \n",
       "2                                 0                                       0   \n",
       "3                                 0                                       0   \n",
       "4                                 0                                       0   \n",
       "\n",
       "   Leaf_Node_Not Camera  Leaf_Node_Professional Video Cameras  \\\n",
       "0                     0                                     0   \n",
       "1                     0                                     0   \n",
       "2                     0                                     0   \n",
       "3                     0                                     0   \n",
       "4                     0                                     0   \n",
       "\n",
       "                                         ID  \n",
       "0  jessops-f2dd233dd6100c900432fd2902df8cde  \n",
       "1  jessops-cabb446087d8428bfa741078869439b8  \n",
       "2  jessops-6953ccaa96a32f9defa93c0d1dcc8279  \n",
       "3  jessops-63ef4531e53505d5bb85cd30e4b04758  \n",
       "4  jessops-87b405e744f1ff5d6594ef41c18b8111  \n",
       "\n",
       "[5 rows x 22 columns]"
      ]
     },
     "execution_count": 73,
     "metadata": {},
     "output_type": "execute_result"
    }
   ],
   "source": [
    "pred_dataframe.head()"
   ]
  },
  {
   "cell_type": "code",
   "execution_count": 74,
   "metadata": {},
   "outputs": [
    {
     "name": "stdout",
     "output_type": "stream",
     "text": [
      "     0\n",
      "113  2\n"
     ]
    }
   ],
   "source": [
    "#checking whether multiple assigned in the parent node\n",
    "summ=pd.DataFrame(pred_dataframe[['Parent_node_2_Action Cameras',\n",
    "                             'Parent_node_2_DSLR','Parent_node_2_Mirrorless Cameras','Parent_node_2_Point & Shoot Cameras'\n",
    "                             ,'Parent_node_2_Traditional Video Cameras','Parent_node_2_Not Camera']].sum(axis=1))\n",
    "print(summ[summ[0]>1])#zero, so some multiple assignment at the top level"
   ]
  },
  {
   "cell_type": "code",
   "execution_count": 75,
   "metadata": {},
   "outputs": [
    {
     "name": "stdout",
     "output_type": "stream",
     "text": [
      "     0\n",
      "5    0\n",
      "11   0\n",
      "15   0\n",
      "30   0\n",
      "34   0\n",
      "58   0\n",
      "67   0\n",
      "69   0\n",
      "71   0\n",
      "73   0\n",
      "84   0\n",
      "89   0\n",
      "93   0\n",
      "108  0\n",
      "109  0\n",
      "123  0\n"
     ]
    }
   ],
   "source": [
    "print(summ[summ[0]==0])#there are some nodes that are not assigned"
   ]
  },
  {
   "cell_type": "markdown",
   "metadata": {},
   "source": [
    "Fixing the zero ones:"
   ]
  },
  {
   "cell_type": "code",
   "execution_count": 76,
   "metadata": {
    "collapsed": true
   },
   "outputs": [],
   "source": [
    "#Look at the confidences and assign the highest confidence one.\n",
    "a=summ[summ[0].isin(['0','2','3','4','5','6','7'])]\n",
    "indexx=list(a.index)"
   ]
  },
  {
   "cell_type": "code",
   "execution_count": 77,
   "metadata": {},
   "outputs": [
    {
     "data": {
      "text/plain": [
       "[5, 11, 15, 30, 34, 58, 67, 69, 71, 73, 84, 89, 93, 108, 109, 113, 123]"
      ]
     },
     "execution_count": 77,
     "metadata": {},
     "output_type": "execute_result"
    }
   ],
   "source": [
    "indexx"
   ]
  },
  {
   "cell_type": "code",
   "execution_count": 78,
   "metadata": {
    "collapsed": true
   },
   "outputs": [],
   "source": [
    "parentnode2_level=pred_proba_dataframe[['Parent_node_2_Action Cameras',\n",
    "                             'Parent_node_2_DSLR','Parent_node_2_Mirrorless Cameras','Parent_node_2_Point & Shoot Cameras'\n",
    "                             ,'Parent_node_2_Traditional Video Cameras','Parent_node_2_Not Camera']]"
   ]
  },
  {
   "cell_type": "code",
   "execution_count": 79,
   "metadata": {},
   "outputs": [
    {
     "data": {
      "text/html": [
       "<div>\n",
       "<style>\n",
       "    .dataframe thead tr:only-child th {\n",
       "        text-align: right;\n",
       "    }\n",
       "\n",
       "    .dataframe thead th {\n",
       "        text-align: left;\n",
       "    }\n",
       "\n",
       "    .dataframe tbody tr th {\n",
       "        vertical-align: top;\n",
       "    }\n",
       "</style>\n",
       "<table border=\"1\" class=\"dataframe\">\n",
       "  <thead>\n",
       "    <tr style=\"text-align: right;\">\n",
       "      <th></th>\n",
       "      <th>Parent_node_2_Action Cameras</th>\n",
       "      <th>Parent_node_2_DSLR</th>\n",
       "      <th>Parent_node_2_Mirrorless Cameras</th>\n",
       "      <th>Parent_node_2_Point &amp; Shoot Cameras</th>\n",
       "      <th>Parent_node_2_Traditional Video Cameras</th>\n",
       "      <th>Parent_node_2_Not Camera</th>\n",
       "    </tr>\n",
       "  </thead>\n",
       "  <tbody>\n",
       "    <tr>\n",
       "      <th>0</th>\n",
       "      <td>0.002064</td>\n",
       "      <td>0.972923</td>\n",
       "      <td>0.022800</td>\n",
       "      <td>0.005267</td>\n",
       "      <td>0.005608</td>\n",
       "      <td>0.021603</td>\n",
       "    </tr>\n",
       "    <tr>\n",
       "      <th>1</th>\n",
       "      <td>0.004381</td>\n",
       "      <td>0.045077</td>\n",
       "      <td>0.017334</td>\n",
       "      <td>0.981477</td>\n",
       "      <td>0.026256</td>\n",
       "      <td>0.009693</td>\n",
       "    </tr>\n",
       "    <tr>\n",
       "      <th>2</th>\n",
       "      <td>0.991647</td>\n",
       "      <td>0.024535</td>\n",
       "      <td>0.060379</td>\n",
       "      <td>0.062105</td>\n",
       "      <td>0.020272</td>\n",
       "      <td>0.012961</td>\n",
       "    </tr>\n",
       "    <tr>\n",
       "      <th>3</th>\n",
       "      <td>0.008163</td>\n",
       "      <td>0.985899</td>\n",
       "      <td>0.048176</td>\n",
       "      <td>0.001962</td>\n",
       "      <td>0.003302</td>\n",
       "      <td>0.011497</td>\n",
       "    </tr>\n",
       "    <tr>\n",
       "      <th>4</th>\n",
       "      <td>0.002769</td>\n",
       "      <td>0.991148</td>\n",
       "      <td>0.014154</td>\n",
       "      <td>0.035951</td>\n",
       "      <td>0.000396</td>\n",
       "      <td>0.021983</td>\n",
       "    </tr>\n",
       "  </tbody>\n",
       "</table>\n",
       "</div>"
      ],
      "text/plain": [
       "   Parent_node_2_Action Cameras  Parent_node_2_DSLR  \\\n",
       "0                      0.002064            0.972923   \n",
       "1                      0.004381            0.045077   \n",
       "2                      0.991647            0.024535   \n",
       "3                      0.008163            0.985899   \n",
       "4                      0.002769            0.991148   \n",
       "\n",
       "   Parent_node_2_Mirrorless Cameras  Parent_node_2_Point & Shoot Cameras  \\\n",
       "0                          0.022800                             0.005267   \n",
       "1                          0.017334                             0.981477   \n",
       "2                          0.060379                             0.062105   \n",
       "3                          0.048176                             0.001962   \n",
       "4                          0.014154                             0.035951   \n",
       "\n",
       "   Parent_node_2_Traditional Video Cameras  Parent_node_2_Not Camera  \n",
       "0                                 0.005608                  0.021603  \n",
       "1                                 0.026256                  0.009693  \n",
       "2                                 0.020272                  0.012961  \n",
       "3                                 0.003302                  0.011497  \n",
       "4                                 0.000396                  0.021983  "
      ]
     },
     "execution_count": 79,
     "metadata": {},
     "output_type": "execute_result"
    }
   ],
   "source": [
    "parentnode2_level.head()"
   ]
  },
  {
   "cell_type": "code",
   "execution_count": 80,
   "metadata": {
    "collapsed": true
   },
   "outputs": [],
   "source": [
    "zeros=parentnode2_level[parentnode2_level.index.isin(indexx)]\n",
    "zeros=zeros.reset_index()"
   ]
  },
  {
   "cell_type": "code",
   "execution_count": 81,
   "metadata": {},
   "outputs": [
    {
     "data": {
      "text/plain": [
       "0.37637404012837211"
      ]
     },
     "execution_count": 81,
     "metadata": {},
     "output_type": "execute_result"
    }
   ],
   "source": [
    "i=0\n",
    "n=zeros.shape[0]\n",
    "n1=zeros.shape[1]\n",
    "zero_max={}\n",
    "data=zeros.loc[[0]]\n",
    "maxx=data.drop('index',axis=1).max(axis=1).values[0]\n",
    "idd=data[['index']].values[0][0]\n",
    "idd\n",
    "maxx"
   ]
  },
  {
   "cell_type": "code",
   "execution_count": 82,
   "metadata": {
    "collapsed": true
   },
   "outputs": [],
   "source": [
    "i=0\n",
    "n=zeros.shape[0]\n",
    "n1=zeros.shape[1]\n",
    "zero_max={}\n",
    "while(i<n):\n",
    "    data=zeros.loc[[i]]\n",
    "    maxx=data.drop('index',axis=1).max(axis=1).values[0]\n",
    "    idd=data[['index']].values[0][0]\n",
    "    k=0\n",
    "    while(k<n1):\n",
    "        if(data['Parent_node_2_Action Cameras'].values[0]==maxx):\n",
    "            col='Parent_node_2_Action Cameras'\n",
    "        if(data['Parent_node_2_DSLR'].values[0]==maxx):\n",
    "            col='Parent_node_2_DSLR'\n",
    "        if(data['Parent_node_2_Mirrorless Cameras'].values[0]==maxx):\n",
    "            col='Parent_node_2_Mirrorless Cameras'\n",
    "        if(data['Parent_node_2_Point & Shoot Cameras'].values[0]==maxx):\n",
    "            col='Parent_node_2_Point & Shoot Cameras'\n",
    "        if(data['Parent_node_2_Not Camera'].values[0]==maxx):\n",
    "            col='Parent_node_2_Not Camera'\n",
    "        if(data['Parent_node_2_Traditional Video Cameras'].values[0]==maxx):\n",
    "            col='Parent_node_2_Traditional Video Cameras'\n",
    "        k=k+1\n",
    "    zero_max[idd] = col\n",
    "    i=i+1"
   ]
  },
  {
   "cell_type": "code",
   "execution_count": 83,
   "metadata": {},
   "outputs": [
    {
     "data": {
      "text/plain": [
       "{5: 'Parent_node_2_DSLR',\n",
       " 11: 'Parent_node_2_DSLR',\n",
       " 15: 'Parent_node_2_Traditional Video Cameras',\n",
       " 30: 'Parent_node_2_DSLR',\n",
       " 34: 'Parent_node_2_Point & Shoot Cameras',\n",
       " 58: 'Parent_node_2_Action Cameras',\n",
       " 67: 'Parent_node_2_Point & Shoot Cameras',\n",
       " 69: 'Parent_node_2_Point & Shoot Cameras',\n",
       " 71: 'Parent_node_2_Mirrorless Cameras',\n",
       " 73: 'Parent_node_2_Action Cameras',\n",
       " 84: 'Parent_node_2_Action Cameras',\n",
       " 89: 'Parent_node_2_Point & Shoot Cameras',\n",
       " 93: 'Parent_node_2_DSLR',\n",
       " 108: 'Parent_node_2_Action Cameras',\n",
       " 109: 'Parent_node_2_Point & Shoot Cameras',\n",
       " 113: 'Parent_node_2_Mirrorless Cameras',\n",
       " 123: 'Parent_node_2_Point & Shoot Cameras'}"
      ]
     },
     "execution_count": 83,
     "metadata": {},
     "output_type": "execute_result"
    }
   ],
   "source": [
    "zero_max"
   ]
  },
  {
   "cell_type": "code",
   "execution_count": 84,
   "metadata": {
    "collapsed": true
   },
   "outputs": [],
   "source": [
    "i=0\n",
    "n=zeros.shape[0]\n",
    "while(i<n):\n",
    "    gett=indexx[i]\n",
    "    value=zero_max.get(gett)\n",
    "    pred_dataframe.at[gett, value]=1\n",
    "    leafs=list(parentnode2_level.columns)\n",
    "    leafs.remove(value)\n",
    "    n1=len(leafs)\n",
    "    k=0\n",
    "    while(k<n1):\n",
    "        pred_dataframe.at[gett, leafs[k]]=0\n",
    "        k=k+1  \n",
    "    i=i+1"
   ]
  },
  {
   "cell_type": "code",
   "execution_count": 85,
   "metadata": {},
   "outputs": [
    {
     "data": {
      "text/plain": [
       "0    125\n",
       "dtype: int64"
      ]
     },
     "execution_count": 85,
     "metadata": {},
     "output_type": "execute_result"
    }
   ],
   "source": [
    "summ=pd.DataFrame(pred_dataframe[['Parent_node_2_Action Cameras',\n",
    "                             'Parent_node_2_DSLR','Parent_node_2_Mirrorless Cameras','Parent_node_2_Point & Shoot Cameras'\n",
    "                             ,'Parent_node_2_Traditional Video Cameras','Parent_node_2_Not Camera']].sum(axis=1))\n",
    "summ.sum()"
   ]
  },
  {
   "cell_type": "markdown",
   "metadata": {},
   "source": [
    "Calculate Accuracy"
   ]
  },
  {
   "cell_type": "code",
   "execution_count": 86,
   "metadata": {
    "collapsed": true
   },
   "outputs": [],
   "source": [
    "parentnodes_pred=pred_dataframe[['Parent_node_2_Action Cameras',\n",
    "                             'Parent_node_2_DSLR','Parent_node_2_Mirrorless Cameras','Parent_node_2_Point & Shoot Cameras'\n",
    "                             ,'Parent_node_2_Traditional Video Cameras','Parent_node_2_Not Camera']]\n",
    "parentnodes_act=y_new_test[['Parent_node_2_Action Cameras',\n",
    "                             'Parent_node_2_DSLR','Parent_node_2_Mirrorless Cameras','Parent_node_2_Point & Shoot Cameras'\n",
    "                             ,'Parent_node_2_Traditional Video Cameras','Parent_node_2_Not Camera']]\n",
    "parentnodes_act=parentnodes_act.reset_index().drop('index',axis=1)"
   ]
  },
  {
   "cell_type": "code",
   "execution_count": 87,
   "metadata": {},
   "outputs": [
    {
     "data": {
      "text/html": [
       "<div>\n",
       "<style>\n",
       "    .dataframe thead tr:only-child th {\n",
       "        text-align: right;\n",
       "    }\n",
       "\n",
       "    .dataframe thead th {\n",
       "        text-align: left;\n",
       "    }\n",
       "\n",
       "    .dataframe tbody tr th {\n",
       "        vertical-align: top;\n",
       "    }\n",
       "</style>\n",
       "<table border=\"1\" class=\"dataframe\">\n",
       "  <thead>\n",
       "    <tr style=\"text-align: right;\">\n",
       "      <th></th>\n",
       "      <th>Parent_node_2_Action Cameras</th>\n",
       "      <th>Parent_node_2_DSLR</th>\n",
       "      <th>Parent_node_2_Mirrorless Cameras</th>\n",
       "      <th>Parent_node_2_Point &amp; Shoot Cameras</th>\n",
       "      <th>Parent_node_2_Traditional Video Cameras</th>\n",
       "      <th>Parent_node_2_Not Camera</th>\n",
       "    </tr>\n",
       "  </thead>\n",
       "  <tbody>\n",
       "    <tr>\n",
       "      <th>0</th>\n",
       "      <td>0</td>\n",
       "      <td>1</td>\n",
       "      <td>0</td>\n",
       "      <td>0</td>\n",
       "      <td>0</td>\n",
       "      <td>0</td>\n",
       "    </tr>\n",
       "    <tr>\n",
       "      <th>1</th>\n",
       "      <td>0</td>\n",
       "      <td>0</td>\n",
       "      <td>0</td>\n",
       "      <td>1</td>\n",
       "      <td>0</td>\n",
       "      <td>0</td>\n",
       "    </tr>\n",
       "    <tr>\n",
       "      <th>2</th>\n",
       "      <td>1</td>\n",
       "      <td>0</td>\n",
       "      <td>0</td>\n",
       "      <td>0</td>\n",
       "      <td>0</td>\n",
       "      <td>0</td>\n",
       "    </tr>\n",
       "    <tr>\n",
       "      <th>3</th>\n",
       "      <td>0</td>\n",
       "      <td>1</td>\n",
       "      <td>0</td>\n",
       "      <td>0</td>\n",
       "      <td>0</td>\n",
       "      <td>0</td>\n",
       "    </tr>\n",
       "    <tr>\n",
       "      <th>4</th>\n",
       "      <td>0</td>\n",
       "      <td>1</td>\n",
       "      <td>0</td>\n",
       "      <td>0</td>\n",
       "      <td>0</td>\n",
       "      <td>0</td>\n",
       "    </tr>\n",
       "  </tbody>\n",
       "</table>\n",
       "</div>"
      ],
      "text/plain": [
       "   Parent_node_2_Action Cameras  Parent_node_2_DSLR  \\\n",
       "0                             0                   1   \n",
       "1                             0                   0   \n",
       "2                             1                   0   \n",
       "3                             0                   1   \n",
       "4                             0                   1   \n",
       "\n",
       "   Parent_node_2_Mirrorless Cameras  Parent_node_2_Point & Shoot Cameras  \\\n",
       "0                                 0                                    0   \n",
       "1                                 0                                    1   \n",
       "2                                 0                                    0   \n",
       "3                                 0                                    0   \n",
       "4                                 0                                    0   \n",
       "\n",
       "   Parent_node_2_Traditional Video Cameras  Parent_node_2_Not Camera  \n",
       "0                                        0                         0  \n",
       "1                                        0                         0  \n",
       "2                                        0                         0  \n",
       "3                                        0                         0  \n",
       "4                                        0                         0  "
      ]
     },
     "execution_count": 87,
     "metadata": {},
     "output_type": "execute_result"
    }
   ],
   "source": [
    "parentnodes_pred.head()"
   ]
  },
  {
   "cell_type": "code",
   "execution_count": 88,
   "metadata": {},
   "outputs": [
    {
     "data": {
      "text/html": [
       "<div>\n",
       "<style>\n",
       "    .dataframe thead tr:only-child th {\n",
       "        text-align: right;\n",
       "    }\n",
       "\n",
       "    .dataframe thead th {\n",
       "        text-align: left;\n",
       "    }\n",
       "\n",
       "    .dataframe tbody tr th {\n",
       "        vertical-align: top;\n",
       "    }\n",
       "</style>\n",
       "<table border=\"1\" class=\"dataframe\">\n",
       "  <thead>\n",
       "    <tr style=\"text-align: right;\">\n",
       "      <th></th>\n",
       "      <th>Parent_node_2_Action Cameras</th>\n",
       "      <th>Parent_node_2_DSLR</th>\n",
       "      <th>Parent_node_2_Mirrorless Cameras</th>\n",
       "      <th>Parent_node_2_Point &amp; Shoot Cameras</th>\n",
       "      <th>Parent_node_2_Traditional Video Cameras</th>\n",
       "      <th>Parent_node_2_Not Camera</th>\n",
       "    </tr>\n",
       "  </thead>\n",
       "  <tbody>\n",
       "    <tr>\n",
       "      <th>0</th>\n",
       "      <td>0</td>\n",
       "      <td>1</td>\n",
       "      <td>0</td>\n",
       "      <td>0</td>\n",
       "      <td>0</td>\n",
       "      <td>0</td>\n",
       "    </tr>\n",
       "    <tr>\n",
       "      <th>1</th>\n",
       "      <td>0</td>\n",
       "      <td>0</td>\n",
       "      <td>0</td>\n",
       "      <td>1</td>\n",
       "      <td>0</td>\n",
       "      <td>0</td>\n",
       "    </tr>\n",
       "    <tr>\n",
       "      <th>2</th>\n",
       "      <td>0</td>\n",
       "      <td>0</td>\n",
       "      <td>0</td>\n",
       "      <td>0</td>\n",
       "      <td>0</td>\n",
       "      <td>1</td>\n",
       "    </tr>\n",
       "    <tr>\n",
       "      <th>3</th>\n",
       "      <td>0</td>\n",
       "      <td>1</td>\n",
       "      <td>0</td>\n",
       "      <td>0</td>\n",
       "      <td>0</td>\n",
       "      <td>0</td>\n",
       "    </tr>\n",
       "    <tr>\n",
       "      <th>4</th>\n",
       "      <td>0</td>\n",
       "      <td>1</td>\n",
       "      <td>0</td>\n",
       "      <td>0</td>\n",
       "      <td>0</td>\n",
       "      <td>0</td>\n",
       "    </tr>\n",
       "  </tbody>\n",
       "</table>\n",
       "</div>"
      ],
      "text/plain": [
       "   Parent_node_2_Action Cameras  Parent_node_2_DSLR  \\\n",
       "0                             0                   1   \n",
       "1                             0                   0   \n",
       "2                             0                   0   \n",
       "3                             0                   1   \n",
       "4                             0                   1   \n",
       "\n",
       "   Parent_node_2_Mirrorless Cameras  Parent_node_2_Point & Shoot Cameras  \\\n",
       "0                                 0                                    0   \n",
       "1                                 0                                    1   \n",
       "2                                 0                                    0   \n",
       "3                                 0                                    0   \n",
       "4                                 0                                    0   \n",
       "\n",
       "   Parent_node_2_Traditional Video Cameras  Parent_node_2_Not Camera  \n",
       "0                                        0                         0  \n",
       "1                                        0                         0  \n",
       "2                                        0                         1  \n",
       "3                                        0                         0  \n",
       "4                                        0                         0  "
      ]
     },
     "execution_count": 88,
     "metadata": {},
     "output_type": "execute_result"
    }
   ],
   "source": [
    "parentnodes_act.head()"
   ]
  },
  {
   "cell_type": "code",
   "execution_count": 89,
   "metadata": {},
   "outputs": [
    {
     "data": {
      "text/plain": [
       "(125, 6)"
      ]
     },
     "execution_count": 89,
     "metadata": {},
     "output_type": "execute_result"
    }
   ],
   "source": [
    "parentnodes_pred.shape"
   ]
  },
  {
   "cell_type": "code",
   "execution_count": 90,
   "metadata": {},
   "outputs": [
    {
     "data": {
      "text/plain": [
       "(125, 6)"
      ]
     },
     "execution_count": 90,
     "metadata": {},
     "output_type": "execute_result"
    }
   ],
   "source": [
    "parentnodes_act.shape"
   ]
  },
  {
   "cell_type": "code",
   "execution_count": 91,
   "metadata": {},
   "outputs": [
    {
     "data": {
      "text/plain": [
       "Parent_node_2_Action Cameras               19\n",
       "Parent_node_2_DSLR                         18\n",
       "Parent_node_2_Mirrorless Cameras           23\n",
       "Parent_node_2_Point & Shoot Cameras        53\n",
       "Parent_node_2_Traditional Video Cameras    11\n",
       "Parent_node_2_Not Camera                    1\n",
       "dtype: int64"
      ]
     },
     "execution_count": 91,
     "metadata": {},
     "output_type": "execute_result"
    }
   ],
   "source": [
    "parentnodes_pred.sum(axis=0)"
   ]
  },
  {
   "cell_type": "code",
   "execution_count": 92,
   "metadata": {
    "collapsed": true
   },
   "outputs": [],
   "source": [
    "i=0\n",
    "n=parentnodes_pred.shape[0]\n",
    "parent_pred=[]\n",
    "while(i<n):\n",
    "    if(parentnodes_pred.loc[i]['Parent_node_2_Action Cameras']==1):\n",
    "        app='Parent_node_2_Action Cameras'\n",
    "    if(parentnodes_pred.loc[i]['Parent_node_2_DSLR']==1):\n",
    "        app='DSLR_Cameras'\n",
    "    if(parentnodes_pred.loc[i]['Parent_node_2_Mirrorless Cameras']==1):\n",
    "        app='Mirrorless_Cameras'\n",
    "    if(parentnodes_pred.loc[i]['Parent_node_2_Point & Shoot Cameras']==1):\n",
    "        app='point_and_shoot_Cameras'\n",
    "    if(parentnodes_pred.loc[i]['Parent_node_2_Not Camera']==1):\n",
    "        app='not_camera'\n",
    "    if(parentnodes_pred.loc[i]['Parent_node_2_Traditional Video Cameras']==1):\n",
    "        app='tradition_video'\n",
    "    parent_pred.append(app)\n",
    "    i=i+1"
   ]
  },
  {
   "cell_type": "code",
   "execution_count": 93,
   "metadata": {},
   "outputs": [
    {
     "data": {
      "text/plain": [
       "125"
      ]
     },
     "execution_count": 93,
     "metadata": {},
     "output_type": "execute_result"
    }
   ],
   "source": [
    "len(parent_pred)"
   ]
  },
  {
   "cell_type": "code",
   "execution_count": 94,
   "metadata": {
    "collapsed": true
   },
   "outputs": [],
   "source": [
    "i=0\n",
    "n=parentnodes_act.shape[0]\n",
    "parent_act=[]\n",
    "while(i<n):\n",
    "    if(parentnodes_act.loc[i]['Parent_node_2_Action Cameras']==1):\n",
    "        app='Action_Cameras'\n",
    "    if(parentnodes_act.loc[i]['Parent_node_2_DSLR']==1):\n",
    "        app='DSLR_Cameras'\n",
    "    if(parentnodes_act.loc[i]['Parent_node_2_Mirrorless Cameras']==1):\n",
    "        app='Mirrorless_Cameras'\n",
    "    if(parentnodes_act.loc[i]['Parent_node_2_Point & Shoot Cameras']==1):\n",
    "        app='point_and_shoot_Cameras'\n",
    "    if(parentnodes_act.loc[i]['Parent_node_2_Not Camera']==1):\n",
    "        app='not_camera'\n",
    "    if(parentnodes_act.loc[i]['Parent_node_2_Traditional Video Cameras']==1):\n",
    "        app='tradition_video'\n",
    "    parent_act.append(app)\n",
    "    i=i+1"
   ]
  },
  {
   "cell_type": "code",
   "execution_count": 95,
   "metadata": {},
   "outputs": [
    {
     "name": "stdout",
     "output_type": "stream",
     "text": [
      "Confusion Matrix:\n",
      "                             _____________________________________________________________________________________________Prediction_____________________________________________________________________________________________\n",
      "                                          Action_Cameras                 DSLR_Cameras           Mirrorless_Cameras Parent_node_2_Action Cameras                   not_camera      point_and_shoot_Cameras              tradition_video\n",
      "              Action_Cameras                           0                            0                            0                           14                            0                            1                            0\n",
      "                DSLR_Cameras                           0                           13                            2                            0                            0                            0                            1\n",
      "          Mirrorless_Cameras                           0                            1                           19                            0                            0                            5                            0\n",
      "Parent_node_2_Action Cameras                           0                            0                            0                            0                            0                            0                            0\n",
      "                  not_camera                           0                            3                            0                            3                            1                            2                            0\n",
      "     point_and_shoot_Cameras                           0                            0                            2                            1                            0                           45                            0\n",
      "             tradition_video                           0                            1                            0                            1                            0                            0                           10\n",
      "\n",
      "Accuracy Score:\n",
      "0.704\n",
      "()\n",
      "Classification Report:\n",
      "                              precision    recall  f1-score   support\n",
      "\n",
      "              Action_Cameras       0.00      0.00      0.00        15\n",
      "                DSLR_Cameras       0.72      0.81      0.76        16\n",
      "          Mirrorless_Cameras       0.83      0.76      0.79        25\n",
      "Parent_node_2_Action Cameras       0.00      0.00      0.00         0\n",
      "                  not_camera       1.00      0.11      0.20         9\n",
      "     point_and_shoot_Cameras       0.85      0.94      0.89        48\n",
      "             tradition_video       0.91      0.83      0.87        12\n",
      "\n",
      "                 avg / total       0.74      0.70      0.70       125\n",
      "\n"
     ]
    },
    {
     "name": "stderr",
     "output_type": "stream",
     "text": [
      "/Users/bengikoseoglu/anaconda2/lib/python2.7/site-packages/sklearn/metrics/classification.py:1135: UndefinedMetricWarning:\n",
      "\n",
      "Precision and F-score are ill-defined and being set to 0.0 in labels with no predicted samples.\n",
      "\n",
      "/Users/bengikoseoglu/anaconda2/lib/python2.7/site-packages/sklearn/metrics/classification.py:1137: UndefinedMetricWarning:\n",
      "\n",
      "Recall and F-score are ill-defined and being set to 0.0 in labels with no true samples.\n",
      "\n"
     ]
    }
   ],
   "source": [
    "analytics(parent_act,parent_pred)"
   ]
  },
  {
   "cell_type": "markdown",
   "metadata": {},
   "source": [
    "- Accuracy score parent node level3:"
   ]
  },
  {
   "cell_type": "code",
   "execution_count": 96,
   "metadata": {},
   "outputs": [
    {
     "data": {
      "text/html": [
       "<div>\n",
       "<style>\n",
       "    .dataframe thead tr:only-child th {\n",
       "        text-align: right;\n",
       "    }\n",
       "\n",
       "    .dataframe thead th {\n",
       "        text-align: left;\n",
       "    }\n",
       "\n",
       "    .dataframe tbody tr th {\n",
       "        vertical-align: top;\n",
       "    }\n",
       "</style>\n",
       "<table border=\"1\" class=\"dataframe\">\n",
       "  <thead>\n",
       "    <tr style=\"text-align: right;\">\n",
       "      <th></th>\n",
       "      <th>Parent_node_1_Cam Corders</th>\n",
       "      <th>Parent_node_1_Not Camera</th>\n",
       "      <th>Parent_node_1_Photo Devices</th>\n",
       "      <th>Parent_node_2_Action Cameras</th>\n",
       "      <th>Parent_node_2_DSLR</th>\n",
       "      <th>Parent_node_2_Mirrorless Cameras</th>\n",
       "      <th>Parent_node_2_Not Camera</th>\n",
       "      <th>Parent_node_2_Point &amp; Shoot Cameras</th>\n",
       "      <th>Parent_node_2_Traditional Video Cameras</th>\n",
       "      <th>Leaf_Node_360 Degree Cameras</th>\n",
       "      <th>...</th>\n",
       "      <th>Leaf_Node_DSLR</th>\n",
       "      <th>Leaf_Node_Digital Compact Cameras</th>\n",
       "      <th>Leaf_Node_Drone</th>\n",
       "      <th>Leaf_Node_Full Frame Mirrorless Camera</th>\n",
       "      <th>Leaf_Node_Instant</th>\n",
       "      <th>Leaf_Node_Non 360 Degree Cameras</th>\n",
       "      <th>Leaf_Node_NonFullFrameMirrorlessCamera</th>\n",
       "      <th>Leaf_Node_Not Camera</th>\n",
       "      <th>Leaf_Node_Professional Video Cameras</th>\n",
       "      <th>ID</th>\n",
       "    </tr>\n",
       "  </thead>\n",
       "  <tbody>\n",
       "    <tr>\n",
       "      <th>0</th>\n",
       "      <td>0</td>\n",
       "      <td>0</td>\n",
       "      <td>1</td>\n",
       "      <td>0</td>\n",
       "      <td>1</td>\n",
       "      <td>0</td>\n",
       "      <td>0</td>\n",
       "      <td>0</td>\n",
       "      <td>0</td>\n",
       "      <td>0</td>\n",
       "      <td>...</td>\n",
       "      <td>1</td>\n",
       "      <td>0</td>\n",
       "      <td>0</td>\n",
       "      <td>0</td>\n",
       "      <td>0</td>\n",
       "      <td>0</td>\n",
       "      <td>0</td>\n",
       "      <td>0</td>\n",
       "      <td>0</td>\n",
       "      <td>jessops-f2dd233dd6100c900432fd2902df8cde</td>\n",
       "    </tr>\n",
       "    <tr>\n",
       "      <th>1</th>\n",
       "      <td>0</td>\n",
       "      <td>0</td>\n",
       "      <td>1</td>\n",
       "      <td>0</td>\n",
       "      <td>0</td>\n",
       "      <td>0</td>\n",
       "      <td>0</td>\n",
       "      <td>1</td>\n",
       "      <td>0</td>\n",
       "      <td>0</td>\n",
       "      <td>...</td>\n",
       "      <td>0</td>\n",
       "      <td>0</td>\n",
       "      <td>0</td>\n",
       "      <td>0</td>\n",
       "      <td>0</td>\n",
       "      <td>0</td>\n",
       "      <td>0</td>\n",
       "      <td>0</td>\n",
       "      <td>0</td>\n",
       "      <td>jessops-cabb446087d8428bfa741078869439b8</td>\n",
       "    </tr>\n",
       "    <tr>\n",
       "      <th>2</th>\n",
       "      <td>1</td>\n",
       "      <td>0</td>\n",
       "      <td>0</td>\n",
       "      <td>1</td>\n",
       "      <td>0</td>\n",
       "      <td>0</td>\n",
       "      <td>0</td>\n",
       "      <td>0</td>\n",
       "      <td>0</td>\n",
       "      <td>0</td>\n",
       "      <td>...</td>\n",
       "      <td>0</td>\n",
       "      <td>0</td>\n",
       "      <td>1</td>\n",
       "      <td>0</td>\n",
       "      <td>0</td>\n",
       "      <td>0</td>\n",
       "      <td>0</td>\n",
       "      <td>0</td>\n",
       "      <td>0</td>\n",
       "      <td>jessops-6953ccaa96a32f9defa93c0d1dcc8279</td>\n",
       "    </tr>\n",
       "    <tr>\n",
       "      <th>3</th>\n",
       "      <td>0</td>\n",
       "      <td>0</td>\n",
       "      <td>1</td>\n",
       "      <td>0</td>\n",
       "      <td>1</td>\n",
       "      <td>0</td>\n",
       "      <td>0</td>\n",
       "      <td>0</td>\n",
       "      <td>0</td>\n",
       "      <td>0</td>\n",
       "      <td>...</td>\n",
       "      <td>1</td>\n",
       "      <td>0</td>\n",
       "      <td>0</td>\n",
       "      <td>0</td>\n",
       "      <td>0</td>\n",
       "      <td>0</td>\n",
       "      <td>0</td>\n",
       "      <td>0</td>\n",
       "      <td>0</td>\n",
       "      <td>jessops-63ef4531e53505d5bb85cd30e4b04758</td>\n",
       "    </tr>\n",
       "    <tr>\n",
       "      <th>4</th>\n",
       "      <td>0</td>\n",
       "      <td>0</td>\n",
       "      <td>1</td>\n",
       "      <td>0</td>\n",
       "      <td>1</td>\n",
       "      <td>0</td>\n",
       "      <td>0</td>\n",
       "      <td>0</td>\n",
       "      <td>0</td>\n",
       "      <td>0</td>\n",
       "      <td>...</td>\n",
       "      <td>1</td>\n",
       "      <td>0</td>\n",
       "      <td>0</td>\n",
       "      <td>0</td>\n",
       "      <td>0</td>\n",
       "      <td>0</td>\n",
       "      <td>0</td>\n",
       "      <td>0</td>\n",
       "      <td>0</td>\n",
       "      <td>jessops-87b405e744f1ff5d6594ef41c18b8111</td>\n",
       "    </tr>\n",
       "  </tbody>\n",
       "</table>\n",
       "<p>5 rows × 22 columns</p>\n",
       "</div>"
      ],
      "text/plain": [
       "   Parent_node_1_Cam Corders  Parent_node_1_Not Camera  \\\n",
       "0                          0                         0   \n",
       "1                          0                         0   \n",
       "2                          1                         0   \n",
       "3                          0                         0   \n",
       "4                          0                         0   \n",
       "\n",
       "   Parent_node_1_Photo Devices  Parent_node_2_Action Cameras  \\\n",
       "0                            1                             0   \n",
       "1                            1                             0   \n",
       "2                            0                             1   \n",
       "3                            1                             0   \n",
       "4                            1                             0   \n",
       "\n",
       "   Parent_node_2_DSLR  Parent_node_2_Mirrorless Cameras  \\\n",
       "0                   1                                 0   \n",
       "1                   0                                 0   \n",
       "2                   0                                 0   \n",
       "3                   1                                 0   \n",
       "4                   1                                 0   \n",
       "\n",
       "   Parent_node_2_Not Camera  Parent_node_2_Point & Shoot Cameras  \\\n",
       "0                         0                                    0   \n",
       "1                         0                                    1   \n",
       "2                         0                                    0   \n",
       "3                         0                                    0   \n",
       "4                         0                                    0   \n",
       "\n",
       "   Parent_node_2_Traditional Video Cameras  Leaf_Node_360 Degree Cameras  \\\n",
       "0                                        0                             0   \n",
       "1                                        0                             0   \n",
       "2                                        0                             0   \n",
       "3                                        0                             0   \n",
       "4                                        0                             0   \n",
       "\n",
       "                     ...                     Leaf_Node_DSLR  \\\n",
       "0                    ...                                  1   \n",
       "1                    ...                                  0   \n",
       "2                    ...                                  0   \n",
       "3                    ...                                  1   \n",
       "4                    ...                                  1   \n",
       "\n",
       "   Leaf_Node_Digital Compact Cameras  Leaf_Node_Drone  \\\n",
       "0                                  0                0   \n",
       "1                                  0                0   \n",
       "2                                  0                1   \n",
       "3                                  0                0   \n",
       "4                                  0                0   \n",
       "\n",
       "   Leaf_Node_Full Frame Mirrorless Camera  Leaf_Node_Instant  \\\n",
       "0                                       0                  0   \n",
       "1                                       0                  0   \n",
       "2                                       0                  0   \n",
       "3                                       0                  0   \n",
       "4                                       0                  0   \n",
       "\n",
       "   Leaf_Node_Non 360 Degree Cameras  Leaf_Node_NonFullFrameMirrorlessCamera  \\\n",
       "0                                 0                                       0   \n",
       "1                                 0                                       0   \n",
       "2                                 0                                       0   \n",
       "3                                 0                                       0   \n",
       "4                                 0                                       0   \n",
       "\n",
       "   Leaf_Node_Not Camera  Leaf_Node_Professional Video Cameras  \\\n",
       "0                     0                                     0   \n",
       "1                     0                                     0   \n",
       "2                     0                                     0   \n",
       "3                     0                                     0   \n",
       "4                     0                                     0   \n",
       "\n",
       "                                         ID  \n",
       "0  jessops-f2dd233dd6100c900432fd2902df8cde  \n",
       "1  jessops-cabb446087d8428bfa741078869439b8  \n",
       "2  jessops-6953ccaa96a32f9defa93c0d1dcc8279  \n",
       "3  jessops-63ef4531e53505d5bb85cd30e4b04758  \n",
       "4  jessops-87b405e744f1ff5d6594ef41c18b8111  \n",
       "\n",
       "[5 rows x 22 columns]"
      ]
     },
     "execution_count": 96,
     "metadata": {},
     "output_type": "execute_result"
    }
   ],
   "source": [
    "pred_dataframe.head()"
   ]
  },
  {
   "cell_type": "code",
   "execution_count": 97,
   "metadata": {},
   "outputs": [
    {
     "data": {
      "text/plain": [
       "125"
      ]
     },
     "execution_count": 97,
     "metadata": {},
     "output_type": "execute_result"
    }
   ],
   "source": [
    "pred_dataframe[['Parent_node_1_Cam Corders','Parent_node_1_Not Camera','Parent_node_1_Photo Devices']].sum().sum()"
   ]
  },
  {
   "cell_type": "code",
   "execution_count": 98,
   "metadata": {},
   "outputs": [
    {
     "data": {
      "text/plain": [
       "125"
      ]
     },
     "execution_count": 98,
     "metadata": {},
     "output_type": "execute_result"
    }
   ],
   "source": [
    "pred_dataframe[['Parent_node_2_Action Cameras','Parent_node_2_DSLR','Parent_node_2_Mirrorless Cameras','Parent_node_2_Point & Shoot Cameras','Parent_node_2_Traditional Video Cameras','Parent_node_2_Not Camera']].sum().sum()"
   ]
  },
  {
   "cell_type": "code",
   "execution_count": 99,
   "metadata": {
    "collapsed": true
   },
   "outputs": [],
   "source": [
    "summ=pd.DataFrame(pred_dataframe.drop(['Parent_node_1_Cam Corders','Parent_node_1_Not Camera','Parent_node_1_Photo Devices','Parent_node_2_Action Cameras','Parent_node_2_DSLR','Parent_node_2_Mirrorless Cameras','Parent_node_2_Point & Shoot Cameras','Parent_node_2_Traditional Video Cameras','Parent_node_2_Not Camera','ID'],axis=1).sum(axis=1))"
   ]
  },
  {
   "cell_type": "code",
   "execution_count": 100,
   "metadata": {},
   "outputs": [
    {
     "data": {
      "text/plain": [
       "0    97\n",
       "dtype: int64"
      ]
     },
     "execution_count": 100,
     "metadata": {},
     "output_type": "execute_result"
    }
   ],
   "source": [
    "summ.sum()"
   ]
  },
  {
   "cell_type": "code",
   "execution_count": 101,
   "metadata": {},
   "outputs": [
    {
     "data": {
      "text/plain": [
       "(125, 22)"
      ]
     },
     "execution_count": 101,
     "metadata": {},
     "output_type": "execute_result"
    }
   ],
   "source": [
    "pred_dataframe.shape"
   ]
  },
  {
   "cell_type": "code",
   "execution_count": 102,
   "metadata": {},
   "outputs": [
    {
     "name": "stdout",
     "output_type": "stream",
     "text": [
      "     0\n",
      "122  2\n"
     ]
    }
   ],
   "source": [
    "print(summ[summ[0]>1]) #there are multiple assignments"
   ]
  },
  {
   "cell_type": "code",
   "execution_count": 103,
   "metadata": {},
   "outputs": [
    {
     "name": "stdout",
     "output_type": "stream",
     "text": [
      "     0\n",
      "5    0\n",
      "8    0\n",
      "11   0\n",
      "15   0\n",
      "20   0\n",
      "25   0\n",
      "30   0\n",
      "34   0\n",
      "35   0\n",
      "40   0\n",
      "43   0\n",
      "49   0\n",
      "56   0\n",
      "67   0\n",
      "69   0\n",
      "70   0\n",
      "71   0\n",
      "75   0\n",
      "76   0\n",
      "84   0\n",
      "89   0\n",
      "93   0\n",
      "97   0\n",
      "108  0\n",
      "109  0\n",
      "110  0\n",
      "113  0\n",
      "118  0\n",
      "123  0\n"
     ]
    }
   ],
   "source": [
    "print(summ[summ[0]==0])#there are no nodes with zero assignment"
   ]
  },
  {
   "cell_type": "markdown",
   "metadata": {},
   "source": [
    "Fixing the zero and multiple ones ones:"
   ]
  },
  {
   "cell_type": "code",
   "execution_count": 104,
   "metadata": {
    "collapsed": true
   },
   "outputs": [],
   "source": [
    "a=summ[summ[0].isin(['0','2','3','4','5','6','7'])]\n",
    "indexx=list(a.index)"
   ]
  },
  {
   "cell_type": "code",
   "execution_count": 105,
   "metadata": {},
   "outputs": [
    {
     "data": {
      "text/plain": [
       "30"
      ]
     },
     "execution_count": 105,
     "metadata": {},
     "output_type": "execute_result"
    }
   ],
   "source": [
    "len(indexx)"
   ]
  },
  {
   "cell_type": "code",
   "execution_count": 106,
   "metadata": {
    "collapsed": true
   },
   "outputs": [],
   "source": [
    "parentnode3_level=pred_proba_dataframe.drop(['Parent_node_1_Cam Corders','Parent_node_1_Not Camera','Parent_node_1_Photo Devices','Parent_node_2_Action Cameras','Parent_node_2_DSLR','Parent_node_2_Mirrorless Cameras','Parent_node_2_Point & Shoot Cameras','Parent_node_2_Traditional Video Cameras','Parent_node_2_Not Camera','ID'],axis=1)\n",
    "\n",
    "\n"
   ]
  },
  {
   "cell_type": "code",
   "execution_count": 107,
   "metadata": {},
   "outputs": [
    {
     "data": {
      "text/plain": [
       "Index([u'Leaf_Node_360 Degree Cameras', u'Leaf_Node_Bridge Cameras',\n",
       "       u'Leaf_Node_Common Use Video Cameras', u'Leaf_Node_DSLR',\n",
       "       u'Leaf_Node_Digital Compact Cameras', u'Leaf_Node_Drone',\n",
       "       u'Leaf_Node_Full Frame Mirrorless Camera', u'Leaf_Node_Instant',\n",
       "       u'Leaf_Node_Non 360 Degree Cameras',\n",
       "       u'Leaf_Node_NonFullFrameMirrorlessCamera', u'Leaf_Node_Not Camera',\n",
       "       u'Leaf_Node_Professional Video Cameras'],\n",
       "      dtype='object')"
      ]
     },
     "execution_count": 107,
     "metadata": {},
     "output_type": "execute_result"
    }
   ],
   "source": [
    "parentnode3_level.columns"
   ]
  },
  {
   "cell_type": "code",
   "execution_count": 108,
   "metadata": {
    "collapsed": true
   },
   "outputs": [],
   "source": [
    "zeros=parentnode3_level[parentnode3_level.index.isin(indexx)]\n",
    "zeros=zeros.reset_index()"
   ]
  },
  {
   "cell_type": "code",
   "execution_count": 109,
   "metadata": {
    "collapsed": true
   },
   "outputs": [],
   "source": [
    "i=0\n",
    "n=zeros.shape[0]\n",
    "n1=zeros.shape[1]\n",
    "zero_max={}\n",
    "while(i<n):\n",
    "    data=zeros.loc[[i]]\n",
    "    maxx=data.drop('index',axis=1).max(axis=1).values[0]\n",
    "    idd=data[['index']].values[0][0]\n",
    "    k=0\n",
    "    while(k<n1):\n",
    "        if(data['Leaf_Node_360 Degree Cameras'].values[0]==maxx):\n",
    "            col='Leaf_Node_360 Degree Cameras'\n",
    "        if(data['Leaf_Node_Bridge Cameras'].values[0]==maxx):\n",
    "            col='Leaf_Node_Bridge Cameras'\n",
    "        if(data['Leaf_Node_Common Use Video Cameras'].values[0]==maxx):\n",
    "            col='Leaf_Node_Common Use Video Cameras'\n",
    "        if(data['Leaf_Node_DSLR'].values[0]==maxx):\n",
    "            col='Leaf_Node_DSLR'\n",
    "        if(data['Leaf_Node_Digital Compact Cameras'].values[0]==maxx):\n",
    "            col='Leaf_Node_Digital Compact Cameras'\n",
    "        if(data['Leaf_Node_Drone'].values[0]==maxx):\n",
    "            col='Leaf_Node_Drone'\n",
    "        if(data['Leaf_Node_Full Frame Mirrorless Camera'].values[0]==maxx):\n",
    "            col='Leaf_Node_Full Frame Mirrorless Camera'\n",
    "        if(data['Leaf_Node_Instant'].values[0]==maxx):\n",
    "            col='Leaf_Node_Instant'\n",
    "        if(data['Leaf_Node_Non 360 Degree Cameras'].values[0]==maxx):\n",
    "            col='Leaf_Node_Non 360 Degree Cameras'\n",
    "        if(data['Leaf_Node_NonFullFrameMirrorlessCamera'].values[0]==maxx):\n",
    "            col='Leaf_Node_NonFullFrameMirrorlessCamera'\n",
    "        if(data['Leaf_Node_Not Camera'].values[0]==maxx):\n",
    "            col='Leaf_Node_Not Camera'\n",
    "        if(data['Leaf_Node_Professional Video Cameras'].values[0]==maxx):\n",
    "            col='Leaf_Node_Professional Video Cameras'\n",
    "        k=k+1\n",
    "    zero_max[idd] = col\n",
    "    i=i+1"
   ]
  },
  {
   "cell_type": "code",
   "execution_count": 110,
   "metadata": {},
   "outputs": [
    {
     "data": {
      "text/plain": [
       "30"
      ]
     },
     "execution_count": 110,
     "metadata": {},
     "output_type": "execute_result"
    }
   ],
   "source": [
    "len(zero_max)"
   ]
  },
  {
   "cell_type": "code",
   "execution_count": 111,
   "metadata": {
    "collapsed": true
   },
   "outputs": [],
   "source": [
    "#asssigning:\n",
    "i=0\n",
    "n=zeros.shape[0]\n",
    "while(i<n):\n",
    "    gett=indexx[i]\n",
    "    value=zero_max.get(gett)\n",
    "    pred_dataframe.at[gett, value]=1\n",
    "    leafs=list(parentnode3_level.columns)\n",
    "    leafs.remove(value)\n",
    "    n1=len(leafs)\n",
    "    k=0\n",
    "    while(k<n1):\n",
    "        pred_dataframe.at[gett, leafs[k]]=0\n",
    "        k=k+1  \n",
    "    i=i+1"
   ]
  },
  {
   "cell_type": "markdown",
   "metadata": {},
   "source": [
    "Calculate Accuracy"
   ]
  },
  {
   "cell_type": "code",
   "execution_count": 112,
   "metadata": {
    "collapsed": true
   },
   "outputs": [],
   "source": [
    "parentnodes_pred=pred_dataframe.drop(['Parent_node_2_Action Cameras',\n",
    "                             'Parent_node_2_DSLR','Parent_node_2_Mirrorless Cameras','Parent_node_2_Point & Shoot Cameras'\n",
    "                             ,'Parent_node_2_Traditional Video Cameras','Parent_node_1_Cam Corders','Parent_node_1_Photo Devices','ID','Parent_node_1_Not Camera','Parent_node_2_Not Camera'],axis=1)\n",
    "parentnodes_act=y_new_test.drop(['Parent_node_2_Action Cameras',\n",
    "                             'Parent_node_2_DSLR','Parent_node_2_Mirrorless Cameras','Parent_node_2_Point & Shoot Cameras'\n",
    "                             ,'Parent_node_2_Traditional Video Cameras','Parent_node_1_Cam Corders','Parent_node_1_Photo Devices','ID','Parent_node_1_Not Camera','Parent_node_2_Not Camera'],axis=1)\n",
    "parentnodes_act=parentnodes_act.reset_index().drop('index',axis=1)"
   ]
  },
  {
   "cell_type": "code",
   "execution_count": 113,
   "metadata": {},
   "outputs": [
    {
     "data": {
      "text/plain": [
       "125"
      ]
     },
     "execution_count": 113,
     "metadata": {},
     "output_type": "execute_result"
    }
   ],
   "source": [
    "parentnodes_pred.sum(axis=0).sum()"
   ]
  },
  {
   "cell_type": "code",
   "execution_count": 114,
   "metadata": {
    "collapsed": true
   },
   "outputs": [],
   "source": [
    "i=0\n",
    "n=parentnodes_pred.shape[0]\n",
    "parent_pred=[]\n",
    "while(i<n):\n",
    "    if(parentnodes_pred.loc[i]['Leaf_Node_360 Degree Cameras']==1):\n",
    "        app='Leaf_Node_360 Degree Cameras'\n",
    "    if(parentnodes_pred.loc[i]['Leaf_Node_Bridge Cameras']==1):\n",
    "        app='Leaf_Node_Bridge Cameras'\n",
    "    if(parentnodes_pred.loc[i]['Leaf_Node_Common Use Video Cameras']==1):\n",
    "        app='Leaf_Node_Common Use Video Cameras'\n",
    "    if(parentnodes_pred.loc[i]['Leaf_Node_DSLR']==1):\n",
    "        app='Leaf_Node_DSLR'\n",
    "    if(parentnodes_pred.loc[i]['Leaf_Node_Digital Compact Cameras']==1):\n",
    "        app='Leaf_Node_Digital Compact Cameras'\n",
    "    if(parentnodes_pred.loc[i]['Leaf_Node_Drone']==1):\n",
    "        app='Leaf_Node_Drone'\n",
    "    if(parentnodes_pred.loc[i]['Leaf_Node_Full Frame Mirrorless Camera']==1):\n",
    "        app='Leaf_Node_Full Frame Mirrorless Camera'\n",
    "    if(parentnodes_pred.loc[i]['Leaf_Node_Instant']==1):\n",
    "        app='Leaf_Node_Instant'\n",
    "    if(parentnodes_pred.loc[i]['Leaf_Node_Non 360 Degree Cameras']==1):\n",
    "        app='Leaf_Node_Non 360 Degree Cameras'\n",
    "    if(parentnodes_pred.loc[i]['Leaf_Node_NonFullFrameMirrorlessCamera']==1):\n",
    "        app='Leaf_Node_NonFullFrameMirrorlessCamera'\n",
    "    if(parentnodes_pred.loc[i]['Leaf_Node_Not Camera']==1):\n",
    "        app='Leaf_Node_Not Camera'\n",
    "    if(parentnodes_pred.loc[i]['Leaf_Node_Professional Video Cameras']==1):\n",
    "        app='Leaf_Node_Professional Video Cameras'\n",
    "    parent_pred.append(app)\n",
    "    i=i+1"
   ]
  },
  {
   "cell_type": "code",
   "execution_count": 115,
   "metadata": {
    "collapsed": true
   },
   "outputs": [],
   "source": [
    "i=0\n",
    "n=parentnodes_act.shape[0]\n",
    "parent_act=[]\n",
    "while(i<n):\n",
    "    if(parentnodes_act.loc[i]['Leaf_Node_360 Degree Cameras']==1):\n",
    "        app='Leaf_Node_360 Degree Cameras'\n",
    "    if(parentnodes_act.loc[i]['Leaf_Node_Bridge Cameras']==1):\n",
    "        app='Leaf_Node_Bridge Cameras'\n",
    "    if(parentnodes_act.loc[i]['Leaf_Node_Common Use Video Cameras']==1):\n",
    "        app='Leaf_Node_Common Use Video Cameras'\n",
    "    if(parentnodes_act.loc[i]['Leaf_Node_DSLR']==1):\n",
    "        app='Leaf_Node_DSLR'\n",
    "    if(parentnodes_act.loc[i]['Leaf_Node_Digital Compact Cameras']==1):\n",
    "        app='Leaf_Node_Digital Compact Cameras'\n",
    "    if(parentnodes_act.loc[i]['Leaf_Node_Drone']==1):\n",
    "        app='Leaf_Node_Drone'\n",
    "    if(parentnodes_act.loc[i]['Leaf_Node_Full Frame Mirrorless Camera']==1):\n",
    "        app='Leaf_Node_Full Frame Mirrorless Camera'\n",
    "    if(parentnodes_act.loc[i]['Leaf_Node_Instant']==1):\n",
    "        app='Leaf_Node_Instant'\n",
    "    if(parentnodes_act.loc[i]['Leaf_Node_Non 360 Degree Cameras']==1):\n",
    "        app='Leaf_Node_Non 360 Degree Cameras'\n",
    "    if(parentnodes_act.loc[i]['Leaf_Node_NonFullFrameMirrorlessCamera']==1):\n",
    "        app='Leaf_Node_NonFullFrameMirrorlessCamera'\n",
    "    if(parentnodes_act.loc[i]['Leaf_Node_Not Camera']==1):\n",
    "        app='Not_Camera'\n",
    "    if(parentnodes_act.loc[i]['Leaf_Node_Professional Video Cameras']==1):\n",
    "        app='Leaf_Node_Professional Video Cameras'    \n",
    "    parent_act.append(app)\n",
    "    i=i+1"
   ]
  },
  {
   "cell_type": "code",
   "execution_count": 116,
   "metadata": {},
   "outputs": [
    {
     "name": "stdout",
     "output_type": "stream",
     "text": [
      "Confusion Matrix:\n",
      "                                       __________________________________________________________________________________________________________________________________________________________________________________________________________________________________________________Prediction__________________________________________________________________________________________________________________________________________________________________________________________________________________________________________________\n",
      "                                                Leaf_Node_360 Degree Cameras               Leaf_Node_Bridge Cameras     Leaf_Node_Common Use Video Cameras                         Leaf_Node_DSLR      Leaf_Node_Digital Compact Cameras                        Leaf_Node_Drone Leaf_Node_Full Frame Mirrorless Camera                      Leaf_Node_Instant       Leaf_Node_Non 360 Degree Cameras Leaf_Node_NonFullFrameMirrorlessCamera                   Leaf_Node_Not Camera   Leaf_Node_Professional Video Cameras                             Not_Camera\n",
      "          Leaf_Node_360 Degree Cameras                                     6                                      0                                      0                                      0                                      0                                      0                                      0                                      0                                      0                                      0                                      0                                      0                                      0\n",
      "              Leaf_Node_Bridge Cameras                                     0                                     16                                      0                                      0                                      1                                      0                                      0                                      0                                      0                                      1                                      0                                      0                                      0\n",
      "    Leaf_Node_Common Use Video Cameras                                     0                                      0                                      2                                      0                                      0                                      0                                      0                                      0                                      0                                      0                                      0                                      1                                      0\n",
      "                        Leaf_Node_DSLR                                     0                                      0                                      1                                     13                                      0                                      0                                      2                                      0                                      0                                      0                                      0                                      0                                      0\n",
      "     Leaf_Node_Digital Compact Cameras                                     0                                     12                                      0                                      0                                     12                                      0                                      0                                      0                                      0                                      0                                      0                                      0                                      0\n",
      "                       Leaf_Node_Drone                                     0                                      0                                      0                                      0                                      0                                      3                                      0                                      0                                      0                                      0                                      0                                      0                                      0\n",
      "Leaf_Node_Full Frame Mirrorless Camera                                     0                                      0                                      0                                      1                                      0                                      0                                      5                                      0                                      0                                      2                                      0                                      0                                      0\n",
      "                     Leaf_Node_Instant                                     1                                      0                                      0                                      0                                      0                                      0                                      0                                      5                                      0                                      0                                      0                                      0                                      0\n",
      "      Leaf_Node_Non 360 Degree Cameras                                     2                                      0                                      0                                      0                                      2                                      0                                      0                                      0                                      2                                      0                                      0                                      0                                      0\n",
      "Leaf_Node_NonFullFrameMirrorlessCamera                                     0                                      1                                      0                                      0                                      4                                      0                                      2                                      0                                      0                                     10                                      0                                      0                                      0\n",
      "                  Leaf_Node_Not Camera                                     0                                      0                                      0                                      0                                      0                                      0                                      0                                      0                                      0                                      0                                      0                                      0                                      0\n",
      "  Leaf_Node_Professional Video Cameras                                     1                                      0                                      1                                      1                                      0                                      0                                      0                                      0                                      0                                      0                                      0                                      6                                      0\n",
      "                            Not_Camera                                     0                                      0                                      1                                      3                                      2                                      1                                      0                                      1                                      0                                      0                                      1                                      0                                      0\n",
      "\n",
      "Accuracy Score:\n",
      "0.64\n",
      "()\n",
      "Classification Report:\n",
      "                                        precision    recall  f1-score   support\n",
      "\n",
      "          Leaf_Node_360 Degree Cameras       0.60      1.00      0.75         6\n",
      "              Leaf_Node_Bridge Cameras       0.55      0.89      0.68        18\n",
      "    Leaf_Node_Common Use Video Cameras       0.40      0.67      0.50         3\n",
      "                        Leaf_Node_DSLR       0.72      0.81      0.76        16\n",
      "     Leaf_Node_Digital Compact Cameras       0.57      0.50      0.53        24\n",
      "                       Leaf_Node_Drone       0.75      1.00      0.86         3\n",
      "Leaf_Node_Full Frame Mirrorless Camera       0.56      0.62      0.59         8\n",
      "                     Leaf_Node_Instant       0.83      0.83      0.83         6\n",
      "      Leaf_Node_Non 360 Degree Cameras       1.00      0.33      0.50         6\n",
      "Leaf_Node_NonFullFrameMirrorlessCamera       0.77      0.59      0.67        17\n",
      "                  Leaf_Node_Not Camera       0.00      0.00      0.00         0\n",
      "  Leaf_Node_Professional Video Cameras       0.86      0.67      0.75         9\n",
      "                            Not_Camera       0.00      0.00      0.00         9\n",
      "\n",
      "                           avg / total       0.63      0.64      0.61       125\n",
      "\n"
     ]
    }
   ],
   "source": [
    "analytics(parent_act,parent_pred)"
   ]
  },
  {
   "cell_type": "markdown",
   "metadata": {},
   "source": [
    "## 2. AdaBoost & OneVsRestClassifier"
   ]
  },
  {
   "cell_type": "code",
   "execution_count": 117,
   "metadata": {
    "collapsed": true
   },
   "outputs": [],
   "source": [
    "from sklearn import tree\n",
    "from sklearn.ensemble import AdaBoostClassifier\n",
    "clf = AdaBoostClassifier()"
   ]
  },
  {
   "cell_type": "code",
   "execution_count": 118,
   "metadata": {},
   "outputs": [
    {
     "data": {
      "text/plain": [
       "OneVsRestClassifier(estimator=AdaBoostClassifier(algorithm='SAMME.R', base_estimator=None,\n",
       "          learning_rate=1.0, n_estimators=50, random_state=None),\n",
       "          n_jobs=1)"
      ]
     },
     "execution_count": 118,
     "metadata": {},
     "output_type": "execute_result"
    }
   ],
   "source": [
    "classif = OneVsRestClassifier(estimator=clf)\n",
    "classif.fit(X_train, y_new_train)"
   ]
  },
  {
   "cell_type": "code",
   "execution_count": 119,
   "metadata": {
    "collapsed": true
   },
   "outputs": [],
   "source": [
    "predictions = classif.predict(X_test)"
   ]
  },
  {
   "cell_type": "code",
   "execution_count": 120,
   "metadata": {
    "collapsed": true
   },
   "outputs": [],
   "source": [
    "pred_proba=classif.predict_proba(X_test)"
   ]
  },
  {
   "cell_type": "code",
   "execution_count": 121,
   "metadata": {
    "collapsed": true
   },
   "outputs": [],
   "source": [
    "predictions_dense=predictions.todense() #1 or 0 assigned respectively"
   ]
  },
  {
   "cell_type": "code",
   "execution_count": 122,
   "metadata": {},
   "outputs": [
    {
     "data": {
      "text/plain": [
       "matrix([[0, 0, 1, ..., 0, 0, 0],\n",
       "        [0, 0, 1, ..., 0, 0, 0],\n",
       "        [1, 0, 1, ..., 0, 0, 0],\n",
       "        ..., \n",
       "        [0, 0, 1, ..., 0, 0, 0],\n",
       "        [0, 0, 1, ..., 0, 0, 0],\n",
       "        [0, 0, 1, ..., 0, 0, 0]])"
      ]
     },
     "execution_count": 122,
     "metadata": {},
     "output_type": "execute_result"
    }
   ],
   "source": [
    "predictions_dense"
   ]
  },
  {
   "cell_type": "code",
   "execution_count": 123,
   "metadata": {
    "collapsed": true
   },
   "outputs": [],
   "source": [
    "pred_dataframe=pd.DataFrame(predictions_dense)\n",
    "pred_proba_dataframe=pd.DataFrame(pred_proba)"
   ]
  },
  {
   "cell_type": "code",
   "execution_count": 124,
   "metadata": {},
   "outputs": [
    {
     "data": {
      "text/html": [
       "<div>\n",
       "<style>\n",
       "    .dataframe thead tr:only-child th {\n",
       "        text-align: right;\n",
       "    }\n",
       "\n",
       "    .dataframe thead th {\n",
       "        text-align: left;\n",
       "    }\n",
       "\n",
       "    .dataframe tbody tr th {\n",
       "        vertical-align: top;\n",
       "    }\n",
       "</style>\n",
       "<table border=\"1\" class=\"dataframe\">\n",
       "  <thead>\n",
       "    <tr style=\"text-align: right;\">\n",
       "      <th></th>\n",
       "      <th>0</th>\n",
       "      <th>1</th>\n",
       "      <th>2</th>\n",
       "      <th>3</th>\n",
       "      <th>4</th>\n",
       "      <th>5</th>\n",
       "      <th>6</th>\n",
       "      <th>7</th>\n",
       "      <th>8</th>\n",
       "      <th>9</th>\n",
       "      <th>...</th>\n",
       "      <th>11</th>\n",
       "      <th>12</th>\n",
       "      <th>13</th>\n",
       "      <th>14</th>\n",
       "      <th>15</th>\n",
       "      <th>16</th>\n",
       "      <th>17</th>\n",
       "      <th>18</th>\n",
       "      <th>19</th>\n",
       "      <th>20</th>\n",
       "    </tr>\n",
       "  </thead>\n",
       "  <tbody>\n",
       "    <tr>\n",
       "      <th>0</th>\n",
       "      <td>0</td>\n",
       "      <td>0</td>\n",
       "      <td>1</td>\n",
       "      <td>0</td>\n",
       "      <td>1</td>\n",
       "      <td>0</td>\n",
       "      <td>0</td>\n",
       "      <td>0</td>\n",
       "      <td>0</td>\n",
       "      <td>0</td>\n",
       "      <td>...</td>\n",
       "      <td>0</td>\n",
       "      <td>1</td>\n",
       "      <td>0</td>\n",
       "      <td>0</td>\n",
       "      <td>0</td>\n",
       "      <td>0</td>\n",
       "      <td>0</td>\n",
       "      <td>0</td>\n",
       "      <td>0</td>\n",
       "      <td>0</td>\n",
       "    </tr>\n",
       "    <tr>\n",
       "      <th>1</th>\n",
       "      <td>0</td>\n",
       "      <td>0</td>\n",
       "      <td>1</td>\n",
       "      <td>0</td>\n",
       "      <td>0</td>\n",
       "      <td>0</td>\n",
       "      <td>0</td>\n",
       "      <td>1</td>\n",
       "      <td>0</td>\n",
       "      <td>0</td>\n",
       "      <td>...</td>\n",
       "      <td>0</td>\n",
       "      <td>0</td>\n",
       "      <td>0</td>\n",
       "      <td>0</td>\n",
       "      <td>0</td>\n",
       "      <td>0</td>\n",
       "      <td>0</td>\n",
       "      <td>0</td>\n",
       "      <td>0</td>\n",
       "      <td>0</td>\n",
       "    </tr>\n",
       "    <tr>\n",
       "      <th>2</th>\n",
       "      <td>1</td>\n",
       "      <td>0</td>\n",
       "      <td>1</td>\n",
       "      <td>0</td>\n",
       "      <td>0</td>\n",
       "      <td>0</td>\n",
       "      <td>0</td>\n",
       "      <td>0</td>\n",
       "      <td>0</td>\n",
       "      <td>0</td>\n",
       "      <td>...</td>\n",
       "      <td>0</td>\n",
       "      <td>0</td>\n",
       "      <td>0</td>\n",
       "      <td>1</td>\n",
       "      <td>0</td>\n",
       "      <td>0</td>\n",
       "      <td>0</td>\n",
       "      <td>0</td>\n",
       "      <td>0</td>\n",
       "      <td>0</td>\n",
       "    </tr>\n",
       "    <tr>\n",
       "      <th>3</th>\n",
       "      <td>0</td>\n",
       "      <td>0</td>\n",
       "      <td>1</td>\n",
       "      <td>0</td>\n",
       "      <td>1</td>\n",
       "      <td>0</td>\n",
       "      <td>0</td>\n",
       "      <td>0</td>\n",
       "      <td>0</td>\n",
       "      <td>0</td>\n",
       "      <td>...</td>\n",
       "      <td>0</td>\n",
       "      <td>1</td>\n",
       "      <td>0</td>\n",
       "      <td>0</td>\n",
       "      <td>0</td>\n",
       "      <td>0</td>\n",
       "      <td>0</td>\n",
       "      <td>0</td>\n",
       "      <td>0</td>\n",
       "      <td>0</td>\n",
       "    </tr>\n",
       "    <tr>\n",
       "      <th>4</th>\n",
       "      <td>0</td>\n",
       "      <td>0</td>\n",
       "      <td>1</td>\n",
       "      <td>0</td>\n",
       "      <td>1</td>\n",
       "      <td>0</td>\n",
       "      <td>0</td>\n",
       "      <td>0</td>\n",
       "      <td>0</td>\n",
       "      <td>0</td>\n",
       "      <td>...</td>\n",
       "      <td>0</td>\n",
       "      <td>1</td>\n",
       "      <td>0</td>\n",
       "      <td>0</td>\n",
       "      <td>0</td>\n",
       "      <td>0</td>\n",
       "      <td>0</td>\n",
       "      <td>0</td>\n",
       "      <td>0</td>\n",
       "      <td>0</td>\n",
       "    </tr>\n",
       "  </tbody>\n",
       "</table>\n",
       "<p>5 rows × 21 columns</p>\n",
       "</div>"
      ],
      "text/plain": [
       "   0   1   2   3   4   5   6   7   8   9  ...  11  12  13  14  15  16  17  18  \\\n",
       "0   0   0   1   0   1   0   0   0   0   0 ...   0   1   0   0   0   0   0   0   \n",
       "1   0   0   1   0   0   0   0   1   0   0 ...   0   0   0   0   0   0   0   0   \n",
       "2   1   0   1   0   0   0   0   0   0   0 ...   0   0   0   1   0   0   0   0   \n",
       "3   0   0   1   0   1   0   0   0   0   0 ...   0   1   0   0   0   0   0   0   \n",
       "4   0   0   1   0   1   0   0   0   0   0 ...   0   1   0   0   0   0   0   0   \n",
       "\n",
       "   19  20  \n",
       "0   0   0  \n",
       "1   0   0  \n",
       "2   0   0  \n",
       "3   0   0  \n",
       "4   0   0  \n",
       "\n",
       "[5 rows x 21 columns]"
      ]
     },
     "execution_count": 124,
     "metadata": {},
     "output_type": "execute_result"
    }
   ],
   "source": [
    "pred_dataframe.head()"
   ]
  },
  {
   "cell_type": "code",
   "execution_count": 125,
   "metadata": {},
   "outputs": [
    {
     "data": {
      "text/html": [
       "<div>\n",
       "<style>\n",
       "    .dataframe thead tr:only-child th {\n",
       "        text-align: right;\n",
       "    }\n",
       "\n",
       "    .dataframe thead th {\n",
       "        text-align: left;\n",
       "    }\n",
       "\n",
       "    .dataframe tbody tr th {\n",
       "        vertical-align: top;\n",
       "    }\n",
       "</style>\n",
       "<table border=\"1\" class=\"dataframe\">\n",
       "  <thead>\n",
       "    <tr style=\"text-align: right;\">\n",
       "      <th></th>\n",
       "      <th>0</th>\n",
       "      <th>1</th>\n",
       "      <th>2</th>\n",
       "      <th>3</th>\n",
       "      <th>4</th>\n",
       "      <th>5</th>\n",
       "      <th>6</th>\n",
       "      <th>7</th>\n",
       "      <th>8</th>\n",
       "      <th>9</th>\n",
       "      <th>...</th>\n",
       "      <th>11</th>\n",
       "      <th>12</th>\n",
       "      <th>13</th>\n",
       "      <th>14</th>\n",
       "      <th>15</th>\n",
       "      <th>16</th>\n",
       "      <th>17</th>\n",
       "      <th>18</th>\n",
       "      <th>19</th>\n",
       "      <th>20</th>\n",
       "    </tr>\n",
       "  </thead>\n",
       "  <tbody>\n",
       "    <tr>\n",
       "      <th>0</th>\n",
       "      <td>0.372130</td>\n",
       "      <td>0.122203</td>\n",
       "      <td>0.753331</td>\n",
       "      <td>0.169280</td>\n",
       "      <td>0.737711</td>\n",
       "      <td>0.247983</td>\n",
       "      <td>0.308268</td>\n",
       "      <td>0.362545</td>\n",
       "      <td>0.276528</td>\n",
       "      <td>0.085339</td>\n",
       "      <td>...</td>\n",
       "      <td>0.314738</td>\n",
       "      <td>0.737711</td>\n",
       "      <td>0.287976</td>\n",
       "      <td>0.042156</td>\n",
       "      <td>0.259515</td>\n",
       "      <td>0.000788</td>\n",
       "      <td>0.116445</td>\n",
       "      <td>0.316728</td>\n",
       "      <td>0.306540</td>\n",
       "      <td>0.358192</td>\n",
       "    </tr>\n",
       "    <tr>\n",
       "      <th>1</th>\n",
       "      <td>0.392999</td>\n",
       "      <td>0.127840</td>\n",
       "      <td>0.605633</td>\n",
       "      <td>0.230722</td>\n",
       "      <td>0.401987</td>\n",
       "      <td>0.396210</td>\n",
       "      <td>0.092166</td>\n",
       "      <td>0.640425</td>\n",
       "      <td>0.285697</td>\n",
       "      <td>0.085339</td>\n",
       "      <td>...</td>\n",
       "      <td>0.314738</td>\n",
       "      <td>0.401987</td>\n",
       "      <td>0.455762</td>\n",
       "      <td>0.084558</td>\n",
       "      <td>0.429803</td>\n",
       "      <td>0.000788</td>\n",
       "      <td>0.214442</td>\n",
       "      <td>0.391666</td>\n",
       "      <td>0.092166</td>\n",
       "      <td>0.358192</td>\n",
       "    </tr>\n",
       "    <tr>\n",
       "      <th>2</th>\n",
       "      <td>0.528038</td>\n",
       "      <td>0.239412</td>\n",
       "      <td>0.569958</td>\n",
       "      <td>0.473161</td>\n",
       "      <td>0.382120</td>\n",
       "      <td>0.421208</td>\n",
       "      <td>0.123616</td>\n",
       "      <td>0.431145</td>\n",
       "      <td>0.285000</td>\n",
       "      <td>0.085339</td>\n",
       "      <td>...</td>\n",
       "      <td>0.354544</td>\n",
       "      <td>0.382120</td>\n",
       "      <td>0.396082</td>\n",
       "      <td>0.771509</td>\n",
       "      <td>0.436729</td>\n",
       "      <td>0.000788</td>\n",
       "      <td>0.226730</td>\n",
       "      <td>0.412796</td>\n",
       "      <td>0.123616</td>\n",
       "      <td>0.366413</td>\n",
       "    </tr>\n",
       "    <tr>\n",
       "      <th>3</th>\n",
       "      <td>0.401068</td>\n",
       "      <td>0.087700</td>\n",
       "      <td>0.774491</td>\n",
       "      <td>0.261352</td>\n",
       "      <td>0.846368</td>\n",
       "      <td>0.265141</td>\n",
       "      <td>0.092166</td>\n",
       "      <td>0.342682</td>\n",
       "      <td>0.262960</td>\n",
       "      <td>0.085339</td>\n",
       "      <td>...</td>\n",
       "      <td>0.335347</td>\n",
       "      <td>0.846368</td>\n",
       "      <td>0.249888</td>\n",
       "      <td>0.161928</td>\n",
       "      <td>0.273121</td>\n",
       "      <td>0.000788</td>\n",
       "      <td>0.121576</td>\n",
       "      <td>0.286868</td>\n",
       "      <td>0.092166</td>\n",
       "      <td>0.218114</td>\n",
       "    </tr>\n",
       "    <tr>\n",
       "      <th>4</th>\n",
       "      <td>0.358599</td>\n",
       "      <td>0.048241</td>\n",
       "      <td>0.695406</td>\n",
       "      <td>0.261352</td>\n",
       "      <td>0.785425</td>\n",
       "      <td>0.272200</td>\n",
       "      <td>0.051612</td>\n",
       "      <td>0.441291</td>\n",
       "      <td>0.147009</td>\n",
       "      <td>0.085339</td>\n",
       "      <td>...</td>\n",
       "      <td>0.347362</td>\n",
       "      <td>0.785425</td>\n",
       "      <td>0.237557</td>\n",
       "      <td>0.100240</td>\n",
       "      <td>0.355405</td>\n",
       "      <td>0.000788</td>\n",
       "      <td>0.121576</td>\n",
       "      <td>0.275467</td>\n",
       "      <td>0.051612</td>\n",
       "      <td>0.218114</td>\n",
       "    </tr>\n",
       "  </tbody>\n",
       "</table>\n",
       "<p>5 rows × 21 columns</p>\n",
       "</div>"
      ],
      "text/plain": [
       "         0         1         2         3         4         5         6   \\\n",
       "0  0.372130  0.122203  0.753331  0.169280  0.737711  0.247983  0.308268   \n",
       "1  0.392999  0.127840  0.605633  0.230722  0.401987  0.396210  0.092166   \n",
       "2  0.528038  0.239412  0.569958  0.473161  0.382120  0.421208  0.123616   \n",
       "3  0.401068  0.087700  0.774491  0.261352  0.846368  0.265141  0.092166   \n",
       "4  0.358599  0.048241  0.695406  0.261352  0.785425  0.272200  0.051612   \n",
       "\n",
       "         7         8         9     ...           11        12        13  \\\n",
       "0  0.362545  0.276528  0.085339    ...     0.314738  0.737711  0.287976   \n",
       "1  0.640425  0.285697  0.085339    ...     0.314738  0.401987  0.455762   \n",
       "2  0.431145  0.285000  0.085339    ...     0.354544  0.382120  0.396082   \n",
       "3  0.342682  0.262960  0.085339    ...     0.335347  0.846368  0.249888   \n",
       "4  0.441291  0.147009  0.085339    ...     0.347362  0.785425  0.237557   \n",
       "\n",
       "         14        15        16        17        18        19        20  \n",
       "0  0.042156  0.259515  0.000788  0.116445  0.316728  0.306540  0.358192  \n",
       "1  0.084558  0.429803  0.000788  0.214442  0.391666  0.092166  0.358192  \n",
       "2  0.771509  0.436729  0.000788  0.226730  0.412796  0.123616  0.366413  \n",
       "3  0.161928  0.273121  0.000788  0.121576  0.286868  0.092166  0.218114  \n",
       "4  0.100240  0.355405  0.000788  0.121576  0.275467  0.051612  0.218114  \n",
       "\n",
       "[5 rows x 21 columns]"
      ]
     },
     "execution_count": 125,
     "metadata": {},
     "output_type": "execute_result"
    }
   ],
   "source": [
    "pred_proba_dataframe.head()"
   ]
  },
  {
   "cell_type": "code",
   "execution_count": 126,
   "metadata": {
    "collapsed": true
   },
   "outputs": [],
   "source": [
    "pred_dataframe.columns=y_train.columns\n",
    "pred_proba_dataframe.columns=y_train.columns"
   ]
  },
  {
   "cell_type": "code",
   "execution_count": 127,
   "metadata": {
    "collapsed": true
   },
   "outputs": [],
   "source": [
    "pred_dataframe['ID']=idds\n",
    "pred_proba_dataframe['ID']=idds"
   ]
  },
  {
   "cell_type": "code",
   "execution_count": 128,
   "metadata": {},
   "outputs": [
    {
     "data": {
      "text/html": [
       "<div>\n",
       "<style>\n",
       "    .dataframe thead tr:only-child th {\n",
       "        text-align: right;\n",
       "    }\n",
       "\n",
       "    .dataframe thead th {\n",
       "        text-align: left;\n",
       "    }\n",
       "\n",
       "    .dataframe tbody tr th {\n",
       "        vertical-align: top;\n",
       "    }\n",
       "</style>\n",
       "<table border=\"1\" class=\"dataframe\">\n",
       "  <thead>\n",
       "    <tr style=\"text-align: right;\">\n",
       "      <th></th>\n",
       "      <th>Parent_node_1_Cam Corders</th>\n",
       "      <th>Parent_node_1_Not Camera</th>\n",
       "      <th>Parent_node_1_Photo Devices</th>\n",
       "      <th>Parent_node_2_Action Cameras</th>\n",
       "      <th>Parent_node_2_DSLR</th>\n",
       "      <th>Parent_node_2_Mirrorless Cameras</th>\n",
       "      <th>Parent_node_2_Not Camera</th>\n",
       "      <th>Parent_node_2_Point &amp; Shoot Cameras</th>\n",
       "      <th>Parent_node_2_Traditional Video Cameras</th>\n",
       "      <th>Leaf_Node_360 Degree Cameras</th>\n",
       "      <th>...</th>\n",
       "      <th>Leaf_Node_DSLR</th>\n",
       "      <th>Leaf_Node_Digital Compact Cameras</th>\n",
       "      <th>Leaf_Node_Drone</th>\n",
       "      <th>Leaf_Node_Full Frame Mirrorless Camera</th>\n",
       "      <th>Leaf_Node_Instant</th>\n",
       "      <th>Leaf_Node_Non 360 Degree Cameras</th>\n",
       "      <th>Leaf_Node_NonFullFrameMirrorlessCamera</th>\n",
       "      <th>Leaf_Node_Not Camera</th>\n",
       "      <th>Leaf_Node_Professional Video Cameras</th>\n",
       "      <th>ID</th>\n",
       "    </tr>\n",
       "  </thead>\n",
       "  <tbody>\n",
       "    <tr>\n",
       "      <th>0</th>\n",
       "      <td>0.372130</td>\n",
       "      <td>0.122203</td>\n",
       "      <td>0.753331</td>\n",
       "      <td>0.169280</td>\n",
       "      <td>0.737711</td>\n",
       "      <td>0.247983</td>\n",
       "      <td>0.308268</td>\n",
       "      <td>0.362545</td>\n",
       "      <td>0.276528</td>\n",
       "      <td>0.085339</td>\n",
       "      <td>...</td>\n",
       "      <td>0.737711</td>\n",
       "      <td>0.287976</td>\n",
       "      <td>0.042156</td>\n",
       "      <td>0.259515</td>\n",
       "      <td>0.000788</td>\n",
       "      <td>0.116445</td>\n",
       "      <td>0.316728</td>\n",
       "      <td>0.306540</td>\n",
       "      <td>0.358192</td>\n",
       "      <td>jessops-f2dd233dd6100c900432fd2902df8cde</td>\n",
       "    </tr>\n",
       "    <tr>\n",
       "      <th>1</th>\n",
       "      <td>0.392999</td>\n",
       "      <td>0.127840</td>\n",
       "      <td>0.605633</td>\n",
       "      <td>0.230722</td>\n",
       "      <td>0.401987</td>\n",
       "      <td>0.396210</td>\n",
       "      <td>0.092166</td>\n",
       "      <td>0.640425</td>\n",
       "      <td>0.285697</td>\n",
       "      <td>0.085339</td>\n",
       "      <td>...</td>\n",
       "      <td>0.401987</td>\n",
       "      <td>0.455762</td>\n",
       "      <td>0.084558</td>\n",
       "      <td>0.429803</td>\n",
       "      <td>0.000788</td>\n",
       "      <td>0.214442</td>\n",
       "      <td>0.391666</td>\n",
       "      <td>0.092166</td>\n",
       "      <td>0.358192</td>\n",
       "      <td>jessops-cabb446087d8428bfa741078869439b8</td>\n",
       "    </tr>\n",
       "    <tr>\n",
       "      <th>2</th>\n",
       "      <td>0.528038</td>\n",
       "      <td>0.239412</td>\n",
       "      <td>0.569958</td>\n",
       "      <td>0.473161</td>\n",
       "      <td>0.382120</td>\n",
       "      <td>0.421208</td>\n",
       "      <td>0.123616</td>\n",
       "      <td>0.431145</td>\n",
       "      <td>0.285000</td>\n",
       "      <td>0.085339</td>\n",
       "      <td>...</td>\n",
       "      <td>0.382120</td>\n",
       "      <td>0.396082</td>\n",
       "      <td>0.771509</td>\n",
       "      <td>0.436729</td>\n",
       "      <td>0.000788</td>\n",
       "      <td>0.226730</td>\n",
       "      <td>0.412796</td>\n",
       "      <td>0.123616</td>\n",
       "      <td>0.366413</td>\n",
       "      <td>jessops-6953ccaa96a32f9defa93c0d1dcc8279</td>\n",
       "    </tr>\n",
       "    <tr>\n",
       "      <th>3</th>\n",
       "      <td>0.401068</td>\n",
       "      <td>0.087700</td>\n",
       "      <td>0.774491</td>\n",
       "      <td>0.261352</td>\n",
       "      <td>0.846368</td>\n",
       "      <td>0.265141</td>\n",
       "      <td>0.092166</td>\n",
       "      <td>0.342682</td>\n",
       "      <td>0.262960</td>\n",
       "      <td>0.085339</td>\n",
       "      <td>...</td>\n",
       "      <td>0.846368</td>\n",
       "      <td>0.249888</td>\n",
       "      <td>0.161928</td>\n",
       "      <td>0.273121</td>\n",
       "      <td>0.000788</td>\n",
       "      <td>0.121576</td>\n",
       "      <td>0.286868</td>\n",
       "      <td>0.092166</td>\n",
       "      <td>0.218114</td>\n",
       "      <td>jessops-63ef4531e53505d5bb85cd30e4b04758</td>\n",
       "    </tr>\n",
       "    <tr>\n",
       "      <th>4</th>\n",
       "      <td>0.358599</td>\n",
       "      <td>0.048241</td>\n",
       "      <td>0.695406</td>\n",
       "      <td>0.261352</td>\n",
       "      <td>0.785425</td>\n",
       "      <td>0.272200</td>\n",
       "      <td>0.051612</td>\n",
       "      <td>0.441291</td>\n",
       "      <td>0.147009</td>\n",
       "      <td>0.085339</td>\n",
       "      <td>...</td>\n",
       "      <td>0.785425</td>\n",
       "      <td>0.237557</td>\n",
       "      <td>0.100240</td>\n",
       "      <td>0.355405</td>\n",
       "      <td>0.000788</td>\n",
       "      <td>0.121576</td>\n",
       "      <td>0.275467</td>\n",
       "      <td>0.051612</td>\n",
       "      <td>0.218114</td>\n",
       "      <td>jessops-87b405e744f1ff5d6594ef41c18b8111</td>\n",
       "    </tr>\n",
       "  </tbody>\n",
       "</table>\n",
       "<p>5 rows × 22 columns</p>\n",
       "</div>"
      ],
      "text/plain": [
       "   Parent_node_1_Cam Corders  Parent_node_1_Not Camera  \\\n",
       "0                   0.372130                  0.122203   \n",
       "1                   0.392999                  0.127840   \n",
       "2                   0.528038                  0.239412   \n",
       "3                   0.401068                  0.087700   \n",
       "4                   0.358599                  0.048241   \n",
       "\n",
       "   Parent_node_1_Photo Devices  Parent_node_2_Action Cameras  \\\n",
       "0                     0.753331                      0.169280   \n",
       "1                     0.605633                      0.230722   \n",
       "2                     0.569958                      0.473161   \n",
       "3                     0.774491                      0.261352   \n",
       "4                     0.695406                      0.261352   \n",
       "\n",
       "   Parent_node_2_DSLR  Parent_node_2_Mirrorless Cameras  \\\n",
       "0            0.737711                          0.247983   \n",
       "1            0.401987                          0.396210   \n",
       "2            0.382120                          0.421208   \n",
       "3            0.846368                          0.265141   \n",
       "4            0.785425                          0.272200   \n",
       "\n",
       "   Parent_node_2_Not Camera  Parent_node_2_Point & Shoot Cameras  \\\n",
       "0                  0.308268                             0.362545   \n",
       "1                  0.092166                             0.640425   \n",
       "2                  0.123616                             0.431145   \n",
       "3                  0.092166                             0.342682   \n",
       "4                  0.051612                             0.441291   \n",
       "\n",
       "   Parent_node_2_Traditional Video Cameras  Leaf_Node_360 Degree Cameras  \\\n",
       "0                                 0.276528                      0.085339   \n",
       "1                                 0.285697                      0.085339   \n",
       "2                                 0.285000                      0.085339   \n",
       "3                                 0.262960                      0.085339   \n",
       "4                                 0.147009                      0.085339   \n",
       "\n",
       "                     ...                     Leaf_Node_DSLR  \\\n",
       "0                    ...                           0.737711   \n",
       "1                    ...                           0.401987   \n",
       "2                    ...                           0.382120   \n",
       "3                    ...                           0.846368   \n",
       "4                    ...                           0.785425   \n",
       "\n",
       "   Leaf_Node_Digital Compact Cameras  Leaf_Node_Drone  \\\n",
       "0                           0.287976         0.042156   \n",
       "1                           0.455762         0.084558   \n",
       "2                           0.396082         0.771509   \n",
       "3                           0.249888         0.161928   \n",
       "4                           0.237557         0.100240   \n",
       "\n",
       "   Leaf_Node_Full Frame Mirrorless Camera  Leaf_Node_Instant  \\\n",
       "0                                0.259515           0.000788   \n",
       "1                                0.429803           0.000788   \n",
       "2                                0.436729           0.000788   \n",
       "3                                0.273121           0.000788   \n",
       "4                                0.355405           0.000788   \n",
       "\n",
       "   Leaf_Node_Non 360 Degree Cameras  Leaf_Node_NonFullFrameMirrorlessCamera  \\\n",
       "0                          0.116445                                0.316728   \n",
       "1                          0.214442                                0.391666   \n",
       "2                          0.226730                                0.412796   \n",
       "3                          0.121576                                0.286868   \n",
       "4                          0.121576                                0.275467   \n",
       "\n",
       "   Leaf_Node_Not Camera  Leaf_Node_Professional Video Cameras  \\\n",
       "0              0.306540                              0.358192   \n",
       "1              0.092166                              0.358192   \n",
       "2              0.123616                              0.366413   \n",
       "3              0.092166                              0.218114   \n",
       "4              0.051612                              0.218114   \n",
       "\n",
       "                                         ID  \n",
       "0  jessops-f2dd233dd6100c900432fd2902df8cde  \n",
       "1  jessops-cabb446087d8428bfa741078869439b8  \n",
       "2  jessops-6953ccaa96a32f9defa93c0d1dcc8279  \n",
       "3  jessops-63ef4531e53505d5bb85cd30e4b04758  \n",
       "4  jessops-87b405e744f1ff5d6594ef41c18b8111  \n",
       "\n",
       "[5 rows x 22 columns]"
      ]
     },
     "execution_count": 128,
     "metadata": {},
     "output_type": "execute_result"
    }
   ],
   "source": [
    "pred_proba_dataframe.head()"
   ]
  },
  {
   "cell_type": "code",
   "execution_count": 129,
   "metadata": {},
   "outputs": [
    {
     "data": {
      "text/html": [
       "<div>\n",
       "<style>\n",
       "    .dataframe thead tr:only-child th {\n",
       "        text-align: right;\n",
       "    }\n",
       "\n",
       "    .dataframe thead th {\n",
       "        text-align: left;\n",
       "    }\n",
       "\n",
       "    .dataframe tbody tr th {\n",
       "        vertical-align: top;\n",
       "    }\n",
       "</style>\n",
       "<table border=\"1\" class=\"dataframe\">\n",
       "  <thead>\n",
       "    <tr style=\"text-align: right;\">\n",
       "      <th></th>\n",
       "      <th>Parent_node_1_Cam Corders</th>\n",
       "      <th>Parent_node_1_Not Camera</th>\n",
       "      <th>Parent_node_1_Photo Devices</th>\n",
       "      <th>Parent_node_2_Action Cameras</th>\n",
       "      <th>Parent_node_2_DSLR</th>\n",
       "      <th>Parent_node_2_Mirrorless Cameras</th>\n",
       "      <th>Parent_node_2_Not Camera</th>\n",
       "      <th>Parent_node_2_Point &amp; Shoot Cameras</th>\n",
       "      <th>Parent_node_2_Traditional Video Cameras</th>\n",
       "      <th>Leaf_Node_360 Degree Cameras</th>\n",
       "      <th>...</th>\n",
       "      <th>Leaf_Node_DSLR</th>\n",
       "      <th>Leaf_Node_Digital Compact Cameras</th>\n",
       "      <th>Leaf_Node_Drone</th>\n",
       "      <th>Leaf_Node_Full Frame Mirrorless Camera</th>\n",
       "      <th>Leaf_Node_Instant</th>\n",
       "      <th>Leaf_Node_Non 360 Degree Cameras</th>\n",
       "      <th>Leaf_Node_NonFullFrameMirrorlessCamera</th>\n",
       "      <th>Leaf_Node_Not Camera</th>\n",
       "      <th>Leaf_Node_Professional Video Cameras</th>\n",
       "      <th>ID</th>\n",
       "    </tr>\n",
       "  </thead>\n",
       "  <tbody>\n",
       "    <tr>\n",
       "      <th>0</th>\n",
       "      <td>0</td>\n",
       "      <td>0</td>\n",
       "      <td>1</td>\n",
       "      <td>0</td>\n",
       "      <td>1</td>\n",
       "      <td>0</td>\n",
       "      <td>0</td>\n",
       "      <td>0</td>\n",
       "      <td>0</td>\n",
       "      <td>0</td>\n",
       "      <td>...</td>\n",
       "      <td>1</td>\n",
       "      <td>0</td>\n",
       "      <td>0</td>\n",
       "      <td>0</td>\n",
       "      <td>0</td>\n",
       "      <td>0</td>\n",
       "      <td>0</td>\n",
       "      <td>0</td>\n",
       "      <td>0</td>\n",
       "      <td>jessops-f2dd233dd6100c900432fd2902df8cde</td>\n",
       "    </tr>\n",
       "    <tr>\n",
       "      <th>1</th>\n",
       "      <td>0</td>\n",
       "      <td>0</td>\n",
       "      <td>1</td>\n",
       "      <td>0</td>\n",
       "      <td>0</td>\n",
       "      <td>0</td>\n",
       "      <td>0</td>\n",
       "      <td>1</td>\n",
       "      <td>0</td>\n",
       "      <td>0</td>\n",
       "      <td>...</td>\n",
       "      <td>0</td>\n",
       "      <td>0</td>\n",
       "      <td>0</td>\n",
       "      <td>0</td>\n",
       "      <td>0</td>\n",
       "      <td>0</td>\n",
       "      <td>0</td>\n",
       "      <td>0</td>\n",
       "      <td>0</td>\n",
       "      <td>jessops-cabb446087d8428bfa741078869439b8</td>\n",
       "    </tr>\n",
       "    <tr>\n",
       "      <th>2</th>\n",
       "      <td>1</td>\n",
       "      <td>0</td>\n",
       "      <td>1</td>\n",
       "      <td>0</td>\n",
       "      <td>0</td>\n",
       "      <td>0</td>\n",
       "      <td>0</td>\n",
       "      <td>0</td>\n",
       "      <td>0</td>\n",
       "      <td>0</td>\n",
       "      <td>...</td>\n",
       "      <td>0</td>\n",
       "      <td>0</td>\n",
       "      <td>1</td>\n",
       "      <td>0</td>\n",
       "      <td>0</td>\n",
       "      <td>0</td>\n",
       "      <td>0</td>\n",
       "      <td>0</td>\n",
       "      <td>0</td>\n",
       "      <td>jessops-6953ccaa96a32f9defa93c0d1dcc8279</td>\n",
       "    </tr>\n",
       "    <tr>\n",
       "      <th>3</th>\n",
       "      <td>0</td>\n",
       "      <td>0</td>\n",
       "      <td>1</td>\n",
       "      <td>0</td>\n",
       "      <td>1</td>\n",
       "      <td>0</td>\n",
       "      <td>0</td>\n",
       "      <td>0</td>\n",
       "      <td>0</td>\n",
       "      <td>0</td>\n",
       "      <td>...</td>\n",
       "      <td>1</td>\n",
       "      <td>0</td>\n",
       "      <td>0</td>\n",
       "      <td>0</td>\n",
       "      <td>0</td>\n",
       "      <td>0</td>\n",
       "      <td>0</td>\n",
       "      <td>0</td>\n",
       "      <td>0</td>\n",
       "      <td>jessops-63ef4531e53505d5bb85cd30e4b04758</td>\n",
       "    </tr>\n",
       "    <tr>\n",
       "      <th>4</th>\n",
       "      <td>0</td>\n",
       "      <td>0</td>\n",
       "      <td>1</td>\n",
       "      <td>0</td>\n",
       "      <td>1</td>\n",
       "      <td>0</td>\n",
       "      <td>0</td>\n",
       "      <td>0</td>\n",
       "      <td>0</td>\n",
       "      <td>0</td>\n",
       "      <td>...</td>\n",
       "      <td>1</td>\n",
       "      <td>0</td>\n",
       "      <td>0</td>\n",
       "      <td>0</td>\n",
       "      <td>0</td>\n",
       "      <td>0</td>\n",
       "      <td>0</td>\n",
       "      <td>0</td>\n",
       "      <td>0</td>\n",
       "      <td>jessops-87b405e744f1ff5d6594ef41c18b8111</td>\n",
       "    </tr>\n",
       "  </tbody>\n",
       "</table>\n",
       "<p>5 rows × 22 columns</p>\n",
       "</div>"
      ],
      "text/plain": [
       "   Parent_node_1_Cam Corders  Parent_node_1_Not Camera  \\\n",
       "0                          0                         0   \n",
       "1                          0                         0   \n",
       "2                          1                         0   \n",
       "3                          0                         0   \n",
       "4                          0                         0   \n",
       "\n",
       "   Parent_node_1_Photo Devices  Parent_node_2_Action Cameras  \\\n",
       "0                            1                             0   \n",
       "1                            1                             0   \n",
       "2                            1                             0   \n",
       "3                            1                             0   \n",
       "4                            1                             0   \n",
       "\n",
       "   Parent_node_2_DSLR  Parent_node_2_Mirrorless Cameras  \\\n",
       "0                   1                                 0   \n",
       "1                   0                                 0   \n",
       "2                   0                                 0   \n",
       "3                   1                                 0   \n",
       "4                   1                                 0   \n",
       "\n",
       "   Parent_node_2_Not Camera  Parent_node_2_Point & Shoot Cameras  \\\n",
       "0                         0                                    0   \n",
       "1                         0                                    1   \n",
       "2                         0                                    0   \n",
       "3                         0                                    0   \n",
       "4                         0                                    0   \n",
       "\n",
       "   Parent_node_2_Traditional Video Cameras  Leaf_Node_360 Degree Cameras  \\\n",
       "0                                        0                             0   \n",
       "1                                        0                             0   \n",
       "2                                        0                             0   \n",
       "3                                        0                             0   \n",
       "4                                        0                             0   \n",
       "\n",
       "                     ...                     Leaf_Node_DSLR  \\\n",
       "0                    ...                                  1   \n",
       "1                    ...                                  0   \n",
       "2                    ...                                  0   \n",
       "3                    ...                                  1   \n",
       "4                    ...                                  1   \n",
       "\n",
       "   Leaf_Node_Digital Compact Cameras  Leaf_Node_Drone  \\\n",
       "0                                  0                0   \n",
       "1                                  0                0   \n",
       "2                                  0                1   \n",
       "3                                  0                0   \n",
       "4                                  0                0   \n",
       "\n",
       "   Leaf_Node_Full Frame Mirrorless Camera  Leaf_Node_Instant  \\\n",
       "0                                       0                  0   \n",
       "1                                       0                  0   \n",
       "2                                       0                  0   \n",
       "3                                       0                  0   \n",
       "4                                       0                  0   \n",
       "\n",
       "   Leaf_Node_Non 360 Degree Cameras  Leaf_Node_NonFullFrameMirrorlessCamera  \\\n",
       "0                                 0                                       0   \n",
       "1                                 0                                       0   \n",
       "2                                 0                                       0   \n",
       "3                                 0                                       0   \n",
       "4                                 0                                       0   \n",
       "\n",
       "   Leaf_Node_Not Camera  Leaf_Node_Professional Video Cameras  \\\n",
       "0                     0                                     0   \n",
       "1                     0                                     0   \n",
       "2                     0                                     0   \n",
       "3                     0                                     0   \n",
       "4                     0                                     0   \n",
       "\n",
       "                                         ID  \n",
       "0  jessops-f2dd233dd6100c900432fd2902df8cde  \n",
       "1  jessops-cabb446087d8428bfa741078869439b8  \n",
       "2  jessops-6953ccaa96a32f9defa93c0d1dcc8279  \n",
       "3  jessops-63ef4531e53505d5bb85cd30e4b04758  \n",
       "4  jessops-87b405e744f1ff5d6594ef41c18b8111  \n",
       "\n",
       "[5 rows x 22 columns]"
      ]
     },
     "execution_count": 129,
     "metadata": {},
     "output_type": "execute_result"
    }
   ],
   "source": [
    "pred_dataframe.head() #predictions"
   ]
  },
  {
   "cell_type": "code",
   "execution_count": 130,
   "metadata": {
    "collapsed": true
   },
   "outputs": [],
   "source": [
    "y_new_test=y_new_test.reset_index()\n",
    "y_new_test=y_new_test.drop(['index'],axis=1)\n",
    "y_new_test['ID']=idds"
   ]
  },
  {
   "cell_type": "markdown",
   "metadata": {},
   "source": [
    "- Accuracy score parent node:"
   ]
  },
  {
   "cell_type": "code",
   "execution_count": 131,
   "metadata": {},
   "outputs": [
    {
     "name": "stdout",
     "output_type": "stream",
     "text": [
      "    0\n",
      "2   2\n",
      "15  2\n",
      "69  2\n",
      "89  2\n",
      "     0\n",
      "11   0\n",
      "52   0\n",
      "110  0\n"
     ]
    }
   ],
   "source": [
    "#checking whether multiple assigned in the parent node\n",
    "summ=pd.DataFrame(pred_dataframe[['Parent_node_1_Cam Corders','Parent_node_1_Photo Devices','Parent_node_1_Not Camera']].sum(axis=1))\n",
    "print(summ[summ[0]>1])#zero, so no multiple assignment at the top level\n",
    "print(summ[summ[0]==0])#zero, so at least one thing has been assigned"
   ]
  },
  {
   "cell_type": "code",
   "execution_count": 132,
   "metadata": {
    "collapsed": true
   },
   "outputs": [],
   "source": [
    "a=summ[summ[0].isin(['0','2','3','4','5','6','7'])]\n",
    "indexx=list(a.index)"
   ]
  },
  {
   "cell_type": "code",
   "execution_count": 133,
   "metadata": {
    "collapsed": true
   },
   "outputs": [],
   "source": [
    "parentnode1_level=pred_proba_dataframe[['Parent_node_1_Cam Corders','Parent_node_1_Not Camera','Parent_node_1_Photo Devices']]"
   ]
  },
  {
   "cell_type": "code",
   "execution_count": 134,
   "metadata": {
    "collapsed": true
   },
   "outputs": [],
   "source": [
    "zeros=parentnode1_level[parentnode1_level.index.isin(indexx)]\n",
    "zeros=zeros.reset_index()"
   ]
  },
  {
   "cell_type": "code",
   "execution_count": 135,
   "metadata": {
    "collapsed": true
   },
   "outputs": [],
   "source": [
    "i=0\n",
    "n=zeros.shape[0]\n",
    "n1=zeros.shape[1]\n",
    "zero_max={}\n",
    "while(i<n):\n",
    "    data=zeros.loc[[i]]\n",
    "    maxx=data.drop('index',axis=1).max(axis=1).values[0]\n",
    "    idd=data[['index']].values[0][0]\n",
    "    k=0\n",
    "    while(k<n1):\n",
    "        if(data['Parent_node_1_Cam Corders'].values[0]==maxx):\n",
    "            col='Parent_node_1_Cam Corders'\n",
    "        if(data['Parent_node_1_Photo Devices'].values[0]==maxx):\n",
    "            col='Parent_node_1_Photo Devices'\n",
    "        else:\n",
    "            col='Parent_node_1_Not Camera'\n",
    "        k=k+1\n",
    "    zero_max[idd] = col\n",
    "    i=i+1"
   ]
  },
  {
   "cell_type": "code",
   "execution_count": 136,
   "metadata": {
    "collapsed": true
   },
   "outputs": [],
   "source": [
    "#assigning\n",
    "i=0\n",
    "n=zeros.shape[0]\n",
    "while(i<n):\n",
    "    gett=indexx[i]\n",
    "    value=zero_max.get(gett)\n",
    "    pred_dataframe.at[gett, value]=1\n",
    "    leafs=list(parentnode1_level.columns)\n",
    "    leafs.remove(value)\n",
    "    n1=len(leafs)\n",
    "    k=0\n",
    "    while(k<n1):\n",
    "        pred_dataframe.at[gett, leafs[k]]=0\n",
    "        k=k+1  \n",
    "    i=i+1"
   ]
  },
  {
   "cell_type": "code",
   "execution_count": 137,
   "metadata": {
    "collapsed": true
   },
   "outputs": [],
   "source": [
    "parentnodes_pred=pred_dataframe[['Parent_node_1_Cam Corders','Parent_node_1_Photo Devices','Parent_node_1_Not Camera']]\n",
    "parentnodes_act=y_new_test[['Parent_node_1_Cam Corders','Parent_node_1_Photo Devices','Parent_node_1_Not Camera']]\n",
    "parentnodes_act=parentnodes_act.reset_index().drop('index',axis=1)"
   ]
  },
  {
   "cell_type": "code",
   "execution_count": 138,
   "metadata": {
    "collapsed": true
   },
   "outputs": [],
   "source": [
    "i=0\n",
    "n=parentnodes_pred.shape[0]\n",
    "parent_pred=[]\n",
    "while(i<n):\n",
    "    if(parentnodes_pred.loc[i]['Parent_node_1_Cam Corders']==1):\n",
    "        parent_pred.append('Cam_Corders')\n",
    "    if(parentnodes_pred.loc[i]['Parent_node_1_Photo Devices']==1):\n",
    "        parent_pred.append('Photo_Devices')\n",
    "    if(parentnodes_pred.loc[i]['Parent_node_1_Not Camera']==1):\n",
    "        parent_pred.append('Not_Camera')\n",
    "    i=i+1"
   ]
  },
  {
   "cell_type": "code",
   "execution_count": 139,
   "metadata": {
    "collapsed": true
   },
   "outputs": [],
   "source": [
    "i=0\n",
    "n=parentnodes_act.shape[0]\n",
    "parent_act=[]\n",
    "while(i<n):\n",
    "    if(parentnodes_act.loc[i]['Parent_node_1_Cam Corders']==1):\n",
    "        parent_act.append('Cam_Corders')\n",
    "    if(parentnodes_act.loc[i]['Parent_node_1_Photo Devices']==1):\n",
    "        parent_act.append('Photo_Devices')\n",
    "    if(parentnodes_act.loc[i]['Parent_node_1_Not Camera']==1):\n",
    "        parent_act.append('Not_Camera')\n",
    "    i=i+1"
   ]
  },
  {
   "cell_type": "code",
   "execution_count": 140,
   "metadata": {},
   "outputs": [
    {
     "name": "stdout",
     "output_type": "stream",
     "text": [
      "Confusion Matrix:\n",
      "              ______________Prediction_______________\n",
      "               Cam_Corders    Not_Camera Photo_Devices\n",
      "  Cam_Corders           22             2             3\n",
      "   Not_Camera            1             1             7\n",
      "Photo_Devices            2             1            86\n",
      "\n",
      "Accuracy Score:\n",
      "0.872\n",
      "()\n",
      "Classification Report:\n",
      "               precision    recall  f1-score   support\n",
      "\n",
      "  Cam_Corders       0.88      0.81      0.85        27\n",
      "   Not_Camera       0.25      0.11      0.15         9\n",
      "Photo_Devices       0.90      0.97      0.93        89\n",
      "\n",
      "  avg / total       0.85      0.87      0.86       125\n",
      "\n"
     ]
    }
   ],
   "source": [
    "analytics(parent_act,parent_pred)"
   ]
  },
  {
   "cell_type": "markdown",
   "metadata": {},
   "source": [
    "- Accuracy score parent node level2:"
   ]
  },
  {
   "cell_type": "code",
   "execution_count": 141,
   "metadata": {},
   "outputs": [
    {
     "name": "stdout",
     "output_type": "stream",
     "text": [
      "     0\n",
      "11   2\n",
      "20   2\n",
      "39   2\n",
      "113  2\n"
     ]
    }
   ],
   "source": [
    "#checking whether multiple assigned in the parent node\n",
    "summ=pd.DataFrame(pred_dataframe[['Parent_node_2_Action Cameras',\n",
    "                             'Parent_node_2_DSLR','Parent_node_2_Mirrorless Cameras','Parent_node_2_Point & Shoot Cameras'\n",
    "                             ,'Parent_node_2_Traditional Video Cameras','Parent_node_2_Not Camera']].sum(axis=1))\n",
    "print(summ[summ[0]>1])#three,multiple assignments at the top level"
   ]
  },
  {
   "cell_type": "code",
   "execution_count": 142,
   "metadata": {},
   "outputs": [
    {
     "name": "stdout",
     "output_type": "stream",
     "text": [
      "     0\n",
      "2    0\n",
      "22   0\n",
      "30   0\n",
      "34   0\n",
      "52   0\n",
      "63   0\n",
      "67   0\n",
      "70   0\n",
      "71   0\n",
      "79   0\n",
      "89   0\n",
      "93   0\n",
      "108  0\n",
      "110  0\n",
      "116  0\n",
      "123  0\n"
     ]
    }
   ],
   "source": [
    "print(summ[summ[0]==0])#there are some nodes that are not assigned"
   ]
  },
  {
   "cell_type": "markdown",
   "metadata": {},
   "source": [
    "Fixing the zero & multiple ones"
   ]
  },
  {
   "cell_type": "code",
   "execution_count": 143,
   "metadata": {
    "collapsed": true
   },
   "outputs": [],
   "source": [
    "a=summ[summ[0].isin(['0','2','3','4','5','6','7'])]\n",
    "indexx=list(a.index)"
   ]
  },
  {
   "cell_type": "code",
   "execution_count": 144,
   "metadata": {},
   "outputs": [
    {
     "data": {
      "text/plain": [
       "20"
      ]
     },
     "execution_count": 144,
     "metadata": {},
     "output_type": "execute_result"
    }
   ],
   "source": [
    "len(indexx)"
   ]
  },
  {
   "cell_type": "code",
   "execution_count": 145,
   "metadata": {
    "collapsed": true
   },
   "outputs": [],
   "source": [
    "parentnode2_level=pred_proba_dataframe[['Parent_node_2_Action Cameras',\n",
    "                             'Parent_node_2_DSLR','Parent_node_2_Mirrorless Cameras','Parent_node_2_Point & Shoot Cameras'\n",
    "                             ,'Parent_node_2_Traditional Video Cameras','Parent_node_2_Not Camera']]"
   ]
  },
  {
   "cell_type": "code",
   "execution_count": 146,
   "metadata": {
    "collapsed": true
   },
   "outputs": [],
   "source": [
    "zeros=parentnode2_level[parentnode2_level.index.isin(indexx)]\n",
    "zeros=zeros.reset_index()"
   ]
  },
  {
   "cell_type": "code",
   "execution_count": 147,
   "metadata": {
    "collapsed": true
   },
   "outputs": [],
   "source": [
    "i=0\n",
    "n=zeros.shape[0]\n",
    "n1=zeros.shape[1]\n",
    "zero_max={}\n",
    "while(i<n):\n",
    "    data=zeros.loc[[i]]\n",
    "    maxx=data.drop('index',axis=1).max(axis=1).values[0]\n",
    "    idd=data[['index']].values[0][0]\n",
    "    k=0\n",
    "    while(k<n1):\n",
    "        if(data['Parent_node_2_Action Cameras'].values[0]==maxx):\n",
    "            col='Parent_node_2_Action Cameras'\n",
    "        if(data['Parent_node_2_DSLR'].values[0]==maxx):\n",
    "            col='Parent_node_2_DSLR'\n",
    "        if(data['Parent_node_2_Mirrorless Cameras'].values[0]==maxx):\n",
    "            col='Parent_node_2_Mirrorless Cameras'\n",
    "        if(data['Parent_node_2_Point & Shoot Cameras'].values[0]==maxx):\n",
    "            col='Parent_node_2_Point & Shoot Cameras'\n",
    "        if(data['Parent_node_2_Not Camera'].values[0]==maxx):\n",
    "            col='Parent_node_2_Not Camera'\n",
    "        if(data['Parent_node_2_Traditional Video Cameras'].values[0]==maxx):\n",
    "            col='Parent_node_2_Traditional Video Cameras'\n",
    "        k=k+1\n",
    "    zero_max[idd] = col\n",
    "    i=i+1"
   ]
  },
  {
   "cell_type": "code",
   "execution_count": 148,
   "metadata": {},
   "outputs": [
    {
     "data": {
      "text/plain": [
       "{2: 'Parent_node_2_Action Cameras',\n",
       " 11: 'Parent_node_2_DSLR',\n",
       " 20: 'Parent_node_2_Action Cameras',\n",
       " 22: 'Parent_node_2_DSLR',\n",
       " 30: 'Parent_node_2_Mirrorless Cameras',\n",
       " 34: 'Parent_node_2_Point & Shoot Cameras',\n",
       " 39: 'Parent_node_2_Not Camera',\n",
       " 52: 'Parent_node_2_Point & Shoot Cameras',\n",
       " 63: 'Parent_node_2_Point & Shoot Cameras',\n",
       " 67: 'Parent_node_2_Point & Shoot Cameras',\n",
       " 70: 'Parent_node_2_Point & Shoot Cameras',\n",
       " 71: 'Parent_node_2_Mirrorless Cameras',\n",
       " 79: 'Parent_node_2_Point & Shoot Cameras',\n",
       " 89: 'Parent_node_2_Point & Shoot Cameras',\n",
       " 93: 'Parent_node_2_DSLR',\n",
       " 108: 'Parent_node_2_Point & Shoot Cameras',\n",
       " 110: 'Parent_node_2_Point & Shoot Cameras',\n",
       " 113: 'Parent_node_2_Mirrorless Cameras',\n",
       " 116: 'Parent_node_2_Point & Shoot Cameras',\n",
       " 123: 'Parent_node_2_Mirrorless Cameras'}"
      ]
     },
     "execution_count": 148,
     "metadata": {},
     "output_type": "execute_result"
    }
   ],
   "source": [
    "zero_max"
   ]
  },
  {
   "cell_type": "code",
   "execution_count": 149,
   "metadata": {
    "collapsed": true
   },
   "outputs": [],
   "source": [
    "i=0\n",
    "n=zeros.shape[0]\n",
    "while(i<n):\n",
    "    gett=indexx[i]\n",
    "    value=zero_max.get(gett)\n",
    "    pred_dataframe.at[gett, value]=1\n",
    "    leafs=list(parentnode2_level.columns)\n",
    "    leafs.remove(value)\n",
    "    n1=len(leafs)\n",
    "    k=0\n",
    "    while(k<n1):\n",
    "        pred_dataframe.at[gett, leafs[k]]=0\n",
    "        k=k+1  \n",
    "    i=i+1"
   ]
  },
  {
   "cell_type": "markdown",
   "metadata": {},
   "source": [
    "Calculate Accuracy"
   ]
  },
  {
   "cell_type": "code",
   "execution_count": 150,
   "metadata": {
    "collapsed": true
   },
   "outputs": [],
   "source": [
    "parentnodes_pred=pred_dataframe[['Parent_node_2_Action Cameras',\n",
    "                             'Parent_node_2_DSLR','Parent_node_2_Mirrorless Cameras','Parent_node_2_Point & Shoot Cameras'\n",
    "                             ,'Parent_node_2_Traditional Video Cameras','Parent_node_2_Not Camera']]\n",
    "parentnodes_act=y_new_test[['Parent_node_2_Action Cameras',\n",
    "                             'Parent_node_2_DSLR','Parent_node_2_Mirrorless Cameras','Parent_node_2_Point & Shoot Cameras'\n",
    "                             ,'Parent_node_2_Traditional Video Cameras','Parent_node_2_Not Camera']]\n",
    "parentnodes_act=parentnodes_act.reset_index().drop('index',axis=1)"
   ]
  },
  {
   "cell_type": "code",
   "execution_count": 151,
   "metadata": {},
   "outputs": [
    {
     "data": {
      "text/plain": [
       "(125, 6)"
      ]
     },
     "execution_count": 151,
     "metadata": {},
     "output_type": "execute_result"
    }
   ],
   "source": [
    "parentnodes_pred.shape"
   ]
  },
  {
   "cell_type": "code",
   "execution_count": 152,
   "metadata": {},
   "outputs": [
    {
     "data": {
      "text/plain": [
       "(125, 6)"
      ]
     },
     "execution_count": 152,
     "metadata": {},
     "output_type": "execute_result"
    }
   ],
   "source": [
    "parentnodes_act.shape"
   ]
  },
  {
   "cell_type": "code",
   "execution_count": 153,
   "metadata": {
    "collapsed": true
   },
   "outputs": [],
   "source": [
    "i=0\n",
    "n=parentnodes_pred.shape[0]\n",
    "parent_pred=[]\n",
    "while(i<n):\n",
    "    if(parentnodes_pred.loc[i]['Parent_node_2_Action Cameras']==1):\n",
    "        app='Parent_node_2_Action Cameras'\n",
    "    if(parentnodes_pred.loc[i]['Parent_node_2_DSLR']==1):\n",
    "        app='DSLR_Cameras'\n",
    "    if(parentnodes_pred.loc[i]['Parent_node_2_Mirrorless Cameras']==1):\n",
    "        app='Mirrorless_Cameras'\n",
    "    if(parentnodes_pred.loc[i]['Parent_node_2_Point & Shoot Cameras']==1):\n",
    "        app='point_and_shoot_Cameras'\n",
    "    if(parentnodes_pred.loc[i]['Parent_node_2_Not Camera']==1):\n",
    "        app='not_camera'\n",
    "    if(parentnodes_pred.loc[i]['Parent_node_2_Traditional Video Cameras']==1):\n",
    "        app='tradition_video'\n",
    "    parent_pred.append(app)\n",
    "    i=i+1"
   ]
  },
  {
   "cell_type": "code",
   "execution_count": 154,
   "metadata": {
    "collapsed": true
   },
   "outputs": [],
   "source": [
    "i=0\n",
    "n=parentnodes_act.shape[0]\n",
    "parent_act=[]\n",
    "while(i<n):\n",
    "    if(parentnodes_act.loc[i]['Parent_node_2_Action Cameras']==1):\n",
    "        app='Action_Cameras'\n",
    "    if(parentnodes_act.loc[i]['Parent_node_2_DSLR']==1):\n",
    "        app='DSLR_Cameras'\n",
    "    if(parentnodes_act.loc[i]['Parent_node_2_Mirrorless Cameras']==1):\n",
    "        app='Mirrorless_Cameras'\n",
    "    if(parentnodes_act.loc[i]['Parent_node_2_Point & Shoot Cameras']==1):\n",
    "        app='point_and_shoot_Cameras'\n",
    "    if(parentnodes_act.loc[i]['Parent_node_2_Not Camera']==1):\n",
    "        app='not_camera'\n",
    "    if(parentnodes_act.loc[i]['Parent_node_2_Traditional Video Cameras']==1):\n",
    "        app='tradition_video'\n",
    "    parent_act.append(app)\n",
    "    i=i+1"
   ]
  },
  {
   "cell_type": "code",
   "execution_count": 155,
   "metadata": {},
   "outputs": [
    {
     "name": "stdout",
     "output_type": "stream",
     "text": [
      "Confusion Matrix:\n",
      "                             _____________________________________________________________________________________________Prediction_____________________________________________________________________________________________\n",
      "                                          Action_Cameras                 DSLR_Cameras           Mirrorless_Cameras Parent_node_2_Action Cameras                   not_camera      point_and_shoot_Cameras              tradition_video\n",
      "              Action_Cameras                           0                            0                            0                           14                            0                            1                            0\n",
      "                DSLR_Cameras                           0                           13                            2                            0                            0                            0                            1\n",
      "          Mirrorless_Cameras                           0                            1                           21                            0                            0                            3                            0\n",
      "Parent_node_2_Action Cameras                           0                            0                            0                            0                            0                            0                            0\n",
      "                  not_camera                           0                            1                            0                            2                            3                            3                            0\n",
      "     point_and_shoot_Cameras                           0                            0                            2                            3                            0                           43                            0\n",
      "             tradition_video                           0                            2                            0                            1                            0                            2                            7\n",
      "\n",
      "Accuracy Score:\n",
      "0.696\n",
      "()\n",
      "Classification Report:\n",
      "                              precision    recall  f1-score   support\n",
      "\n",
      "              Action_Cameras       0.00      0.00      0.00        15\n",
      "                DSLR_Cameras       0.76      0.81      0.79        16\n",
      "          Mirrorless_Cameras       0.84      0.84      0.84        25\n",
      "Parent_node_2_Action Cameras       0.00      0.00      0.00         0\n",
      "                  not_camera       1.00      0.33      0.50         9\n",
      "     point_and_shoot_Cameras       0.83      0.90      0.86        48\n",
      "             tradition_video       0.88      0.58      0.70        12\n",
      "\n",
      "                 avg / total       0.74      0.70      0.70       125\n",
      "\n"
     ]
    }
   ],
   "source": [
    "analytics(parent_act,parent_pred)"
   ]
  },
  {
   "cell_type": "markdown",
   "metadata": {},
   "source": [
    "- Accuracy score parent node level3:"
   ]
  },
  {
   "cell_type": "code",
   "execution_count": 156,
   "metadata": {
    "collapsed": true
   },
   "outputs": [],
   "source": [
    "summ=pd.DataFrame(pred_dataframe.drop(['Parent_node_1_Cam Corders','Parent_node_1_Not Camera','Parent_node_1_Photo Devices','Parent_node_2_Action Cameras','Parent_node_2_DSLR','Parent_node_2_Mirrorless Cameras','Parent_node_2_Point & Shoot Cameras','Parent_node_2_Traditional Video Cameras','Parent_node_2_Not Camera','ID'],axis=1).sum(axis=1))"
   ]
  },
  {
   "cell_type": "code",
   "execution_count": 157,
   "metadata": {},
   "outputs": [
    {
     "name": "stdout",
     "output_type": "stream",
     "text": [
      "     0\n",
      "7    2\n",
      "11   2\n",
      "16   2\n",
      "31   2\n",
      "77   2\n",
      "92   2\n",
      "101  2\n",
      "106  2\n",
      "112  2\n",
      "117  2\n"
     ]
    }
   ],
   "source": [
    "print(summ[summ[0]>1]) #there are multiple assignments"
   ]
  },
  {
   "cell_type": "code",
   "execution_count": 158,
   "metadata": {},
   "outputs": [
    {
     "name": "stdout",
     "output_type": "stream",
     "text": [
      "     0\n",
      "6    0\n",
      "18   0\n",
      "21   0\n",
      "25   0\n",
      "30   0\n",
      "34   0\n",
      "35   0\n",
      "47   0\n",
      "51   0\n",
      "52   0\n",
      "67   0\n",
      "70   0\n",
      "71   0\n",
      "75   0\n",
      "76   0\n",
      "79   0\n",
      "81   0\n",
      "83   0\n",
      "84   0\n",
      "85   0\n",
      "89   0\n",
      "91   0\n",
      "93   0\n",
      "97   0\n",
      "100  0\n",
      "107  0\n",
      "108  0\n",
      "110  0\n",
      "113  0\n",
      "118  0\n",
      "123  0\n"
     ]
    }
   ],
   "source": [
    "print(summ[summ[0]==0])#there are no nodes with zero assignment"
   ]
  },
  {
   "cell_type": "code",
   "execution_count": 159,
   "metadata": {
    "collapsed": true
   },
   "outputs": [],
   "source": [
    "a=summ[summ[0].isin(['0','2','3','4','5','6','7'])]\n",
    "indexx=list(a.index)"
   ]
  },
  {
   "cell_type": "code",
   "execution_count": 160,
   "metadata": {},
   "outputs": [
    {
     "data": {
      "text/plain": [
       "41"
      ]
     },
     "execution_count": 160,
     "metadata": {},
     "output_type": "execute_result"
    }
   ],
   "source": [
    "len(indexx)"
   ]
  },
  {
   "cell_type": "code",
   "execution_count": 161,
   "metadata": {
    "collapsed": true
   },
   "outputs": [],
   "source": [
    "parentnode3_level=pred_proba_dataframe.drop(['Parent_node_1_Cam Corders','Parent_node_1_Not Camera','Parent_node_1_Photo Devices','Parent_node_2_Action Cameras','Parent_node_2_DSLR','Parent_node_2_Mirrorless Cameras','Parent_node_2_Point & Shoot Cameras','Parent_node_2_Traditional Video Cameras','Parent_node_2_Not Camera','ID'],axis=1)\n",
    "\n",
    "\n"
   ]
  },
  {
   "cell_type": "code",
   "execution_count": 162,
   "metadata": {
    "collapsed": true
   },
   "outputs": [],
   "source": [
    "zeros=parentnode3_level[parentnode3_level.index.isin(indexx)]\n",
    "zeros=zeros.reset_index()"
   ]
  },
  {
   "cell_type": "code",
   "execution_count": 163,
   "metadata": {
    "collapsed": true
   },
   "outputs": [],
   "source": [
    "i=0\n",
    "n=zeros.shape[0]\n",
    "n1=zeros.shape[1]\n",
    "zero_max={}\n",
    "while(i<n):\n",
    "    data=zeros.loc[[i]]\n",
    "    maxx=data.drop('index',axis=1).max(axis=1).values[0]\n",
    "    idd=data[['index']].values[0][0]\n",
    "    k=0\n",
    "    while(k<n1):\n",
    "        if(data['Leaf_Node_360 Degree Cameras'].values[0]==maxx):\n",
    "            col='Leaf_Node_360 Degree Cameras'\n",
    "        if(data['Leaf_Node_Bridge Cameras'].values[0]==maxx):\n",
    "            col='Leaf_Node_Bridge Cameras'\n",
    "        if(data['Leaf_Node_Common Use Video Cameras'].values[0]==maxx):\n",
    "            col='Leaf_Node_Common Use Video Cameras'\n",
    "        if(data['Leaf_Node_DSLR'].values[0]==maxx):\n",
    "            col='Leaf_Node_DSLR'\n",
    "        if(data['Leaf_Node_Digital Compact Cameras'].values[0]==maxx):\n",
    "            col='Leaf_Node_Digital Compact Cameras'\n",
    "        if(data['Leaf_Node_Drone'].values[0]==maxx):\n",
    "            col='Leaf_Node_Drone'\n",
    "        if(data['Leaf_Node_Full Frame Mirrorless Camera'].values[0]==maxx):\n",
    "            col='Leaf_Node_Full Frame Mirrorless Camera'\n",
    "        if(data['Leaf_Node_Instant'].values[0]==maxx):\n",
    "            col='Leaf_Node_Instant'\n",
    "        if(data['Leaf_Node_Non 360 Degree Cameras'].values[0]==maxx):\n",
    "            col='Leaf_Node_Non 360 Degree Cameras'\n",
    "        if(data['Leaf_Node_NonFullFrameMirrorlessCamera'].values[0]==maxx):\n",
    "            col='Leaf_Node_NonFullFrameMirrorlessCamera'\n",
    "        if(data['Leaf_Node_Not Camera'].values[0]==maxx):\n",
    "            col='Leaf_Node_Not Camera'\n",
    "        if(data['Leaf_Node_Professional Video Cameras'].values[0]==maxx):\n",
    "            col='Leaf_Node_Professional Video Cameras'\n",
    "        k=k+1\n",
    "    zero_max[idd] = col\n",
    "    i=i+1"
   ]
  },
  {
   "cell_type": "code",
   "execution_count": 164,
   "metadata": {},
   "outputs": [
    {
     "data": {
      "text/plain": [
       "41"
      ]
     },
     "execution_count": 164,
     "metadata": {},
     "output_type": "execute_result"
    }
   ],
   "source": [
    "len(zero_max)"
   ]
  },
  {
   "cell_type": "code",
   "execution_count": 165,
   "metadata": {
    "collapsed": true
   },
   "outputs": [],
   "source": [
    "#asssigning:\n",
    "i=0\n",
    "n=zeros.shape[0]\n",
    "while(i<n):\n",
    "    gett=indexx[i]\n",
    "    value=zero_max.get(gett)\n",
    "    pred_dataframe.at[gett, value]=1\n",
    "    leafs=list(parentnode3_level.columns)\n",
    "    leafs.remove(value)\n",
    "    n1=len(leafs)\n",
    "    k=0\n",
    "    while(k<n1):\n",
    "        pred_dataframe.at[gett, leafs[k]]=0\n",
    "        k=k+1  \n",
    "    i=i+1"
   ]
  },
  {
   "cell_type": "markdown",
   "metadata": {},
   "source": [
    "Calculating the accuracy"
   ]
  },
  {
   "cell_type": "code",
   "execution_count": 166,
   "metadata": {
    "collapsed": true
   },
   "outputs": [],
   "source": [
    "parentnodes_pred=pred_dataframe.drop(['Parent_node_2_Action Cameras',\n",
    "                             'Parent_node_2_DSLR','Parent_node_2_Mirrorless Cameras','Parent_node_2_Point & Shoot Cameras'\n",
    "                             ,'Parent_node_2_Traditional Video Cameras','Parent_node_1_Cam Corders','Parent_node_1_Photo Devices','ID','Parent_node_1_Not Camera','Parent_node_2_Not Camera'],axis=1)\n",
    "parentnodes_act=y_new_test.drop(['Parent_node_2_Action Cameras',\n",
    "                             'Parent_node_2_DSLR','Parent_node_2_Mirrorless Cameras','Parent_node_2_Point & Shoot Cameras'\n",
    "                             ,'Parent_node_2_Traditional Video Cameras','Parent_node_1_Cam Corders','Parent_node_1_Photo Devices','ID','Parent_node_1_Not Camera','Parent_node_2_Not Camera'],axis=1)\n",
    "parentnodes_act=parentnodes_act.reset_index().drop('index',axis=1)"
   ]
  },
  {
   "cell_type": "code",
   "execution_count": 167,
   "metadata": {},
   "outputs": [
    {
     "data": {
      "text/plain": [
       "125"
      ]
     },
     "execution_count": 167,
     "metadata": {},
     "output_type": "execute_result"
    }
   ],
   "source": [
    "parentnodes_pred.sum(axis=0).sum()"
   ]
  },
  {
   "cell_type": "code",
   "execution_count": 168,
   "metadata": {
    "collapsed": true
   },
   "outputs": [],
   "source": [
    "i=0\n",
    "n=parentnodes_pred.shape[0]\n",
    "parent_pred=[]\n",
    "while(i<n):\n",
    "    if(parentnodes_pred.loc[i]['Leaf_Node_360 Degree Cameras']==1):\n",
    "        app='Leaf_Node_360 Degree Cameras'\n",
    "    if(parentnodes_pred.loc[i]['Leaf_Node_Bridge Cameras']==1):\n",
    "        app='Leaf_Node_Bridge Cameras'\n",
    "    if(parentnodes_pred.loc[i]['Leaf_Node_Common Use Video Cameras']==1):\n",
    "        app='Leaf_Node_Common Use Video Cameras'\n",
    "    if(parentnodes_pred.loc[i]['Leaf_Node_DSLR']==1):\n",
    "        app='Leaf_Node_DSLR'\n",
    "    if(parentnodes_pred.loc[i]['Leaf_Node_Digital Compact Cameras']==1):\n",
    "        app='Leaf_Node_Digital Compact Cameras'\n",
    "    if(parentnodes_pred.loc[i]['Leaf_Node_Drone']==1):\n",
    "        app='Leaf_Node_Drone'\n",
    "    if(parentnodes_pred.loc[i]['Leaf_Node_Full Frame Mirrorless Camera']==1):\n",
    "        app='Leaf_Node_Full Frame Mirrorless Camera'\n",
    "    if(parentnodes_pred.loc[i]['Leaf_Node_Instant']==1):\n",
    "        app='Leaf_Node_Instant'\n",
    "    if(parentnodes_pred.loc[i]['Leaf_Node_Non 360 Degree Cameras']==1):\n",
    "        app='Leaf_Node_Non 360 Degree Cameras'\n",
    "    if(parentnodes_pred.loc[i]['Leaf_Node_NonFullFrameMirrorlessCamera']==1):\n",
    "        app='Leaf_Node_NonFullFrameMirrorlessCamera'\n",
    "    if(parentnodes_pred.loc[i]['Leaf_Node_Not Camera']==1):\n",
    "        app='Leaf_Node_Not Camera'\n",
    "    if(parentnodes_pred.loc[i]['Leaf_Node_Professional Video Cameras']==1):\n",
    "        app='Leaf_Node_Professional Video Cameras'\n",
    "    parent_pred.append(app)\n",
    "    i=i+1"
   ]
  },
  {
   "cell_type": "code",
   "execution_count": 169,
   "metadata": {
    "collapsed": true
   },
   "outputs": [],
   "source": [
    "i=0\n",
    "n=parentnodes_act.shape[0]\n",
    "parent_act=[]\n",
    "while(i<n):\n",
    "    if(parentnodes_act.loc[i]['Leaf_Node_360 Degree Cameras']==1):\n",
    "        app='Leaf_Node_360 Degree Cameras'\n",
    "    if(parentnodes_act.loc[i]['Leaf_Node_Bridge Cameras']==1):\n",
    "        app='Leaf_Node_Bridge Cameras'\n",
    "    if(parentnodes_act.loc[i]['Leaf_Node_Common Use Video Cameras']==1):\n",
    "        app='Leaf_Node_Common Use Video Cameras'\n",
    "    if(parentnodes_act.loc[i]['Leaf_Node_DSLR']==1):\n",
    "        app='Leaf_Node_DSLR'\n",
    "    if(parentnodes_act.loc[i]['Leaf_Node_Digital Compact Cameras']==1):\n",
    "        app='Leaf_Node_Digital Compact Cameras'\n",
    "    if(parentnodes_act.loc[i]['Leaf_Node_Drone']==1):\n",
    "        app='Leaf_Node_Drone'\n",
    "    if(parentnodes_act.loc[i]['Leaf_Node_Full Frame Mirrorless Camera']==1):\n",
    "        app='Leaf_Node_Full Frame Mirrorless Camera'\n",
    "    if(parentnodes_act.loc[i]['Leaf_Node_Instant']==1):\n",
    "        app='Leaf_Node_Instant'\n",
    "    if(parentnodes_act.loc[i]['Leaf_Node_Non 360 Degree Cameras']==1):\n",
    "        app='Leaf_Node_Non 360 Degree Cameras'\n",
    "    if(parentnodes_act.loc[i]['Leaf_Node_NonFullFrameMirrorlessCamera']==1):\n",
    "        app='Leaf_Node_NonFullFrameMirrorlessCamera'\n",
    "    if(parentnodes_act.loc[i]['Leaf_Node_Not Camera']==1):\n",
    "        app='Not_Camera'\n",
    "    if(parentnodes_act.loc[i]['Leaf_Node_Professional Video Cameras']==1):\n",
    "        app='Leaf_Node_Professional Video Cameras'    \n",
    "    parent_act.append(app)\n",
    "    i=i+1"
   ]
  },
  {
   "cell_type": "code",
   "execution_count": 170,
   "metadata": {},
   "outputs": [
    {
     "name": "stdout",
     "output_type": "stream",
     "text": [
      "Confusion Matrix:\n",
      "                                       __________________________________________________________________________________________________________________________________________________________________________________________________________________________________________________Prediction__________________________________________________________________________________________________________________________________________________________________________________________________________________________________________________\n",
      "                                                Leaf_Node_360 Degree Cameras               Leaf_Node_Bridge Cameras     Leaf_Node_Common Use Video Cameras                         Leaf_Node_DSLR      Leaf_Node_Digital Compact Cameras                        Leaf_Node_Drone Leaf_Node_Full Frame Mirrorless Camera                      Leaf_Node_Instant       Leaf_Node_Non 360 Degree Cameras Leaf_Node_NonFullFrameMirrorlessCamera                   Leaf_Node_Not Camera   Leaf_Node_Professional Video Cameras                             Not_Camera\n",
      "          Leaf_Node_360 Degree Cameras                                     4                                      0                                      0                                      0                                      0                                      0                                      0                                      0                                      2                                      0                                      0                                      0                                      0\n",
      "              Leaf_Node_Bridge Cameras                                     0                                     15                                      0                                      0                                      2                                      0                                      0                                      0                                      0                                      1                                      0                                      0                                      0\n",
      "    Leaf_Node_Common Use Video Cameras                                     0                                      0                                      1                                      0                                      0                                      0                                      1                                      0                                      0                                      1                                      0                                      0                                      0\n",
      "                        Leaf_Node_DSLR                                     0                                      0                                      1                                     13                                      0                                      0                                      2                                      0                                      0                                      0                                      0                                      0                                      0\n",
      "     Leaf_Node_Digital Compact Cameras                                     0                                     13                                      0                                      0                                      9                                      0                                      2                                      0                                      0                                      0                                      0                                      0                                      0\n",
      "                       Leaf_Node_Drone                                     0                                      0                                      0                                      0                                      0                                      3                                      0                                      0                                      0                                      0                                      0                                      0                                      0\n",
      "Leaf_Node_Full Frame Mirrorless Camera                                     0                                      0                                      0                                      0                                      1                                      0                                      7                                      0                                      0                                      0                                      0                                      0                                      0\n",
      "                     Leaf_Node_Instant                                     1                                      0                                      0                                      0                                      0                                      0                                      0                                      5                                      0                                      0                                      0                                      0                                      0\n",
      "      Leaf_Node_Non 360 Degree Cameras                                     0                                      1                                      0                                      0                                      0                                      0                                      0                                      1                                      4                                      0                                      0                                      0                                      0\n",
      "Leaf_Node_NonFullFrameMirrorlessCamera                                     0                                      1                                      0                                      1                                      2                                      0                                      3                                      0                                      0                                     10                                      0                                      0                                      0\n",
      "                  Leaf_Node_Not Camera                                     0                                      0                                      0                                      0                                      0                                      0                                      0                                      0                                      0                                      0                                      0                                      0                                      0\n",
      "  Leaf_Node_Professional Video Cameras                                     1                                      0                                      0                                      1                                      1                                      0                                      1                                      0                                      0                                      1                                      0                                      4                                      0\n",
      "                            Not_Camera                                     0                                      2                                      1                                      2                                      0                                      1                                      0                                      1                                      0                                      0                                      2                                      0                                      0\n",
      "\n",
      "Accuracy Score:\n",
      "0.6\n",
      "()\n",
      "Classification Report:\n",
      "                                        precision    recall  f1-score   support\n",
      "\n",
      "          Leaf_Node_360 Degree Cameras       0.67      0.67      0.67         6\n",
      "              Leaf_Node_Bridge Cameras       0.47      0.83      0.60        18\n",
      "    Leaf_Node_Common Use Video Cameras       0.33      0.33      0.33         3\n",
      "                        Leaf_Node_DSLR       0.76      0.81      0.79        16\n",
      "     Leaf_Node_Digital Compact Cameras       0.60      0.38      0.46        24\n",
      "                       Leaf_Node_Drone       0.75      1.00      0.86         3\n",
      "Leaf_Node_Full Frame Mirrorless Camera       0.44      0.88      0.58         8\n",
      "                     Leaf_Node_Instant       0.71      0.83      0.77         6\n",
      "      Leaf_Node_Non 360 Degree Cameras       0.67      0.67      0.67         6\n",
      "Leaf_Node_NonFullFrameMirrorlessCamera       0.77      0.59      0.67        17\n",
      "                  Leaf_Node_Not Camera       0.00      0.00      0.00         0\n",
      "  Leaf_Node_Professional Video Cameras       1.00      0.44      0.62         9\n",
      "                            Not_Camera       0.00      0.00      0.00         9\n",
      "\n",
      "                           avg / total       0.61      0.60      0.58       125\n",
      "\n"
     ]
    }
   ],
   "source": [
    "analytics(parent_act,parent_pred)"
   ]
  },
  {
   "cell_type": "markdown",
   "metadata": {},
   "source": [
    "## 3. Logistic Regression & OneVsRestClassifier"
   ]
  },
  {
   "cell_type": "code",
   "execution_count": 171,
   "metadata": {
    "collapsed": true
   },
   "outputs": [],
   "source": [
    "from sklearn.linear_model import LogisticRegression"
   ]
  },
  {
   "cell_type": "code",
   "execution_count": 172,
   "metadata": {
    "collapsed": true
   },
   "outputs": [],
   "source": [
    "clf = LogisticRegression()"
   ]
  },
  {
   "cell_type": "code",
   "execution_count": 173,
   "metadata": {},
   "outputs": [
    {
     "data": {
      "text/plain": [
       "OneVsRestClassifier(estimator=LogisticRegression(C=1.0, class_weight=None, dual=False, fit_intercept=True,\n",
       "          intercept_scaling=1, max_iter=100, multi_class='ovr', n_jobs=1,\n",
       "          penalty='l2', random_state=None, solver='liblinear', tol=0.0001,\n",
       "          verbose=0, warm_start=False),\n",
       "          n_jobs=1)"
      ]
     },
     "execution_count": 173,
     "metadata": {},
     "output_type": "execute_result"
    }
   ],
   "source": [
    "classif = OneVsRestClassifier(estimator=clf)\n",
    "classif.fit(X_train, y_new_train)"
   ]
  },
  {
   "cell_type": "code",
   "execution_count": 174,
   "metadata": {
    "collapsed": true
   },
   "outputs": [],
   "source": [
    "predictions = classif.predict(X_test)"
   ]
  },
  {
   "cell_type": "code",
   "execution_count": 175,
   "metadata": {
    "collapsed": true
   },
   "outputs": [],
   "source": [
    "pred_proba=classif.predict_proba(X_test)"
   ]
  },
  {
   "cell_type": "code",
   "execution_count": 176,
   "metadata": {
    "collapsed": true
   },
   "outputs": [],
   "source": [
    "predictions_dense=predictions.todense() #1 or 0 assigned respectively"
   ]
  },
  {
   "cell_type": "code",
   "execution_count": 177,
   "metadata": {
    "collapsed": true
   },
   "outputs": [],
   "source": [
    "pred_dataframe=pd.DataFrame(predictions_dense)\n",
    "pred_proba_dataframe=pd.DataFrame(pred_proba)"
   ]
  },
  {
   "cell_type": "code",
   "execution_count": 178,
   "metadata": {
    "collapsed": true
   },
   "outputs": [],
   "source": [
    "pred_dataframe.columns=y_train.columns\n",
    "pred_proba_dataframe.columns=y_train.columns"
   ]
  },
  {
   "cell_type": "code",
   "execution_count": 179,
   "metadata": {
    "collapsed": true
   },
   "outputs": [],
   "source": [
    "pred_dataframe['ID']=idds\n",
    "pred_proba_dataframe['ID']=idds"
   ]
  },
  {
   "cell_type": "code",
   "execution_count": 180,
   "metadata": {},
   "outputs": [
    {
     "data": {
      "text/html": [
       "<div>\n",
       "<style>\n",
       "    .dataframe thead tr:only-child th {\n",
       "        text-align: right;\n",
       "    }\n",
       "\n",
       "    .dataframe thead th {\n",
       "        text-align: left;\n",
       "    }\n",
       "\n",
       "    .dataframe tbody tr th {\n",
       "        vertical-align: top;\n",
       "    }\n",
       "</style>\n",
       "<table border=\"1\" class=\"dataframe\">\n",
       "  <thead>\n",
       "    <tr style=\"text-align: right;\">\n",
       "      <th></th>\n",
       "      <th>Parent_node_1_Cam Corders</th>\n",
       "      <th>Parent_node_1_Not Camera</th>\n",
       "      <th>Parent_node_1_Photo Devices</th>\n",
       "      <th>Parent_node_2_Action Cameras</th>\n",
       "      <th>Parent_node_2_DSLR</th>\n",
       "      <th>Parent_node_2_Mirrorless Cameras</th>\n",
       "      <th>Parent_node_2_Not Camera</th>\n",
       "      <th>Parent_node_2_Point &amp; Shoot Cameras</th>\n",
       "      <th>Parent_node_2_Traditional Video Cameras</th>\n",
       "      <th>Leaf_Node_360 Degree Cameras</th>\n",
       "      <th>...</th>\n",
       "      <th>Leaf_Node_DSLR</th>\n",
       "      <th>Leaf_Node_Digital Compact Cameras</th>\n",
       "      <th>Leaf_Node_Drone</th>\n",
       "      <th>Leaf_Node_Full Frame Mirrorless Camera</th>\n",
       "      <th>Leaf_Node_Instant</th>\n",
       "      <th>Leaf_Node_Non 360 Degree Cameras</th>\n",
       "      <th>Leaf_Node_NonFullFrameMirrorlessCamera</th>\n",
       "      <th>Leaf_Node_Not Camera</th>\n",
       "      <th>Leaf_Node_Professional Video Cameras</th>\n",
       "      <th>ID</th>\n",
       "    </tr>\n",
       "  </thead>\n",
       "  <tbody>\n",
       "    <tr>\n",
       "      <th>0</th>\n",
       "      <td>0.007693</td>\n",
       "      <td>0.008286</td>\n",
       "      <td>0.988212</td>\n",
       "      <td>0.007288</td>\n",
       "      <td>0.928489</td>\n",
       "      <td>0.018042</td>\n",
       "      <td>0.008286</td>\n",
       "      <td>0.041628</td>\n",
       "      <td>0.007085</td>\n",
       "      <td>0.007446</td>\n",
       "      <td>...</td>\n",
       "      <td>0.928489</td>\n",
       "      <td>0.015224</td>\n",
       "      <td>0.003150</td>\n",
       "      <td>0.006229</td>\n",
       "      <td>0.016313</td>\n",
       "      <td>0.008198</td>\n",
       "      <td>0.024431</td>\n",
       "      <td>0.008286</td>\n",
       "      <td>0.008814</td>\n",
       "      <td>jessops-f2dd233dd6100c900432fd2902df8cde</td>\n",
       "    </tr>\n",
       "    <tr>\n",
       "      <th>1</th>\n",
       "      <td>0.039401</td>\n",
       "      <td>0.009844</td>\n",
       "      <td>0.958785</td>\n",
       "      <td>0.014845</td>\n",
       "      <td>0.041456</td>\n",
       "      <td>0.021635</td>\n",
       "      <td>0.009844</td>\n",
       "      <td>0.916403</td>\n",
       "      <td>0.038248</td>\n",
       "      <td>0.010496</td>\n",
       "      <td>...</td>\n",
       "      <td>0.041456</td>\n",
       "      <td>0.122212</td>\n",
       "      <td>0.006983</td>\n",
       "      <td>0.050019</td>\n",
       "      <td>0.021226</td>\n",
       "      <td>0.014573</td>\n",
       "      <td>0.006687</td>\n",
       "      <td>0.009844</td>\n",
       "      <td>0.021017</td>\n",
       "      <td>jessops-cabb446087d8428bfa741078869439b8</td>\n",
       "    </tr>\n",
       "    <tr>\n",
       "      <th>2</th>\n",
       "      <td>0.681048</td>\n",
       "      <td>0.117403</td>\n",
       "      <td>0.183615</td>\n",
       "      <td>0.524166</td>\n",
       "      <td>0.060650</td>\n",
       "      <td>0.064199</td>\n",
       "      <td>0.117403</td>\n",
       "      <td>0.119249</td>\n",
       "      <td>0.092722</td>\n",
       "      <td>0.049739</td>\n",
       "      <td>...</td>\n",
       "      <td>0.060650</td>\n",
       "      <td>0.052712</td>\n",
       "      <td>0.488955</td>\n",
       "      <td>0.042965</td>\n",
       "      <td>0.059707</td>\n",
       "      <td>0.042806</td>\n",
       "      <td>0.065940</td>\n",
       "      <td>0.117403</td>\n",
       "      <td>0.069560</td>\n",
       "      <td>jessops-6953ccaa96a32f9defa93c0d1dcc8279</td>\n",
       "    </tr>\n",
       "    <tr>\n",
       "      <th>3</th>\n",
       "      <td>0.020961</td>\n",
       "      <td>0.008976</td>\n",
       "      <td>0.979720</td>\n",
       "      <td>0.021311</td>\n",
       "      <td>0.955422</td>\n",
       "      <td>0.077628</td>\n",
       "      <td>0.008976</td>\n",
       "      <td>0.010047</td>\n",
       "      <td>0.007900</td>\n",
       "      <td>0.011664</td>\n",
       "      <td>...</td>\n",
       "      <td>0.955422</td>\n",
       "      <td>0.006309</td>\n",
       "      <td>0.007532</td>\n",
       "      <td>0.037412</td>\n",
       "      <td>0.011599</td>\n",
       "      <td>0.015366</td>\n",
       "      <td>0.040502</td>\n",
       "      <td>0.008976</td>\n",
       "      <td>0.009284</td>\n",
       "      <td>jessops-63ef4531e53505d5bb85cd30e4b04758</td>\n",
       "    </tr>\n",
       "    <tr>\n",
       "      <th>4</th>\n",
       "      <td>0.008650</td>\n",
       "      <td>0.009483</td>\n",
       "      <td>0.979796</td>\n",
       "      <td>0.015762</td>\n",
       "      <td>0.921238</td>\n",
       "      <td>0.024458</td>\n",
       "      <td>0.009483</td>\n",
       "      <td>0.021744</td>\n",
       "      <td>0.001946</td>\n",
       "      <td>0.014873</td>\n",
       "      <td>...</td>\n",
       "      <td>0.921238</td>\n",
       "      <td>0.006061</td>\n",
       "      <td>0.004072</td>\n",
       "      <td>0.008585</td>\n",
       "      <td>0.006521</td>\n",
       "      <td>0.004406</td>\n",
       "      <td>0.021268</td>\n",
       "      <td>0.009483</td>\n",
       "      <td>0.001902</td>\n",
       "      <td>jessops-87b405e744f1ff5d6594ef41c18b8111</td>\n",
       "    </tr>\n",
       "  </tbody>\n",
       "</table>\n",
       "<p>5 rows × 22 columns</p>\n",
       "</div>"
      ],
      "text/plain": [
       "   Parent_node_1_Cam Corders  Parent_node_1_Not Camera  \\\n",
       "0                   0.007693                  0.008286   \n",
       "1                   0.039401                  0.009844   \n",
       "2                   0.681048                  0.117403   \n",
       "3                   0.020961                  0.008976   \n",
       "4                   0.008650                  0.009483   \n",
       "\n",
       "   Parent_node_1_Photo Devices  Parent_node_2_Action Cameras  \\\n",
       "0                     0.988212                      0.007288   \n",
       "1                     0.958785                      0.014845   \n",
       "2                     0.183615                      0.524166   \n",
       "3                     0.979720                      0.021311   \n",
       "4                     0.979796                      0.015762   \n",
       "\n",
       "   Parent_node_2_DSLR  Parent_node_2_Mirrorless Cameras  \\\n",
       "0            0.928489                          0.018042   \n",
       "1            0.041456                          0.021635   \n",
       "2            0.060650                          0.064199   \n",
       "3            0.955422                          0.077628   \n",
       "4            0.921238                          0.024458   \n",
       "\n",
       "   Parent_node_2_Not Camera  Parent_node_2_Point & Shoot Cameras  \\\n",
       "0                  0.008286                             0.041628   \n",
       "1                  0.009844                             0.916403   \n",
       "2                  0.117403                             0.119249   \n",
       "3                  0.008976                             0.010047   \n",
       "4                  0.009483                             0.021744   \n",
       "\n",
       "   Parent_node_2_Traditional Video Cameras  Leaf_Node_360 Degree Cameras  \\\n",
       "0                                 0.007085                      0.007446   \n",
       "1                                 0.038248                      0.010496   \n",
       "2                                 0.092722                      0.049739   \n",
       "3                                 0.007900                      0.011664   \n",
       "4                                 0.001946                      0.014873   \n",
       "\n",
       "                     ...                     Leaf_Node_DSLR  \\\n",
       "0                    ...                           0.928489   \n",
       "1                    ...                           0.041456   \n",
       "2                    ...                           0.060650   \n",
       "3                    ...                           0.955422   \n",
       "4                    ...                           0.921238   \n",
       "\n",
       "   Leaf_Node_Digital Compact Cameras  Leaf_Node_Drone  \\\n",
       "0                           0.015224         0.003150   \n",
       "1                           0.122212         0.006983   \n",
       "2                           0.052712         0.488955   \n",
       "3                           0.006309         0.007532   \n",
       "4                           0.006061         0.004072   \n",
       "\n",
       "   Leaf_Node_Full Frame Mirrorless Camera  Leaf_Node_Instant  \\\n",
       "0                                0.006229           0.016313   \n",
       "1                                0.050019           0.021226   \n",
       "2                                0.042965           0.059707   \n",
       "3                                0.037412           0.011599   \n",
       "4                                0.008585           0.006521   \n",
       "\n",
       "   Leaf_Node_Non 360 Degree Cameras  Leaf_Node_NonFullFrameMirrorlessCamera  \\\n",
       "0                          0.008198                                0.024431   \n",
       "1                          0.014573                                0.006687   \n",
       "2                          0.042806                                0.065940   \n",
       "3                          0.015366                                0.040502   \n",
       "4                          0.004406                                0.021268   \n",
       "\n",
       "   Leaf_Node_Not Camera  Leaf_Node_Professional Video Cameras  \\\n",
       "0              0.008286                              0.008814   \n",
       "1              0.009844                              0.021017   \n",
       "2              0.117403                              0.069560   \n",
       "3              0.008976                              0.009284   \n",
       "4              0.009483                              0.001902   \n",
       "\n",
       "                                         ID  \n",
       "0  jessops-f2dd233dd6100c900432fd2902df8cde  \n",
       "1  jessops-cabb446087d8428bfa741078869439b8  \n",
       "2  jessops-6953ccaa96a32f9defa93c0d1dcc8279  \n",
       "3  jessops-63ef4531e53505d5bb85cd30e4b04758  \n",
       "4  jessops-87b405e744f1ff5d6594ef41c18b8111  \n",
       "\n",
       "[5 rows x 22 columns]"
      ]
     },
     "execution_count": 180,
     "metadata": {},
     "output_type": "execute_result"
    }
   ],
   "source": [
    "pred_proba_dataframe.head()"
   ]
  },
  {
   "cell_type": "code",
   "execution_count": 181,
   "metadata": {},
   "outputs": [
    {
     "data": {
      "text/html": [
       "<div>\n",
       "<style>\n",
       "    .dataframe thead tr:only-child th {\n",
       "        text-align: right;\n",
       "    }\n",
       "\n",
       "    .dataframe thead th {\n",
       "        text-align: left;\n",
       "    }\n",
       "\n",
       "    .dataframe tbody tr th {\n",
       "        vertical-align: top;\n",
       "    }\n",
       "</style>\n",
       "<table border=\"1\" class=\"dataframe\">\n",
       "  <thead>\n",
       "    <tr style=\"text-align: right;\">\n",
       "      <th></th>\n",
       "      <th>Parent_node_1_Cam Corders</th>\n",
       "      <th>Parent_node_1_Not Camera</th>\n",
       "      <th>Parent_node_1_Photo Devices</th>\n",
       "      <th>Parent_node_2_Action Cameras</th>\n",
       "      <th>Parent_node_2_DSLR</th>\n",
       "      <th>Parent_node_2_Mirrorless Cameras</th>\n",
       "      <th>Parent_node_2_Not Camera</th>\n",
       "      <th>Parent_node_2_Point &amp; Shoot Cameras</th>\n",
       "      <th>Parent_node_2_Traditional Video Cameras</th>\n",
       "      <th>Leaf_Node_360 Degree Cameras</th>\n",
       "      <th>...</th>\n",
       "      <th>Leaf_Node_DSLR</th>\n",
       "      <th>Leaf_Node_Digital Compact Cameras</th>\n",
       "      <th>Leaf_Node_Drone</th>\n",
       "      <th>Leaf_Node_Full Frame Mirrorless Camera</th>\n",
       "      <th>Leaf_Node_Instant</th>\n",
       "      <th>Leaf_Node_Non 360 Degree Cameras</th>\n",
       "      <th>Leaf_Node_NonFullFrameMirrorlessCamera</th>\n",
       "      <th>Leaf_Node_Not Camera</th>\n",
       "      <th>Leaf_Node_Professional Video Cameras</th>\n",
       "      <th>ID</th>\n",
       "    </tr>\n",
       "  </thead>\n",
       "  <tbody>\n",
       "    <tr>\n",
       "      <th>0</th>\n",
       "      <td>0</td>\n",
       "      <td>0</td>\n",
       "      <td>1</td>\n",
       "      <td>0</td>\n",
       "      <td>1</td>\n",
       "      <td>0</td>\n",
       "      <td>0</td>\n",
       "      <td>0</td>\n",
       "      <td>0</td>\n",
       "      <td>0</td>\n",
       "      <td>...</td>\n",
       "      <td>1</td>\n",
       "      <td>0</td>\n",
       "      <td>0</td>\n",
       "      <td>0</td>\n",
       "      <td>0</td>\n",
       "      <td>0</td>\n",
       "      <td>0</td>\n",
       "      <td>0</td>\n",
       "      <td>0</td>\n",
       "      <td>jessops-f2dd233dd6100c900432fd2902df8cde</td>\n",
       "    </tr>\n",
       "    <tr>\n",
       "      <th>1</th>\n",
       "      <td>0</td>\n",
       "      <td>0</td>\n",
       "      <td>1</td>\n",
       "      <td>0</td>\n",
       "      <td>0</td>\n",
       "      <td>0</td>\n",
       "      <td>0</td>\n",
       "      <td>1</td>\n",
       "      <td>0</td>\n",
       "      <td>0</td>\n",
       "      <td>...</td>\n",
       "      <td>0</td>\n",
       "      <td>0</td>\n",
       "      <td>0</td>\n",
       "      <td>0</td>\n",
       "      <td>0</td>\n",
       "      <td>0</td>\n",
       "      <td>0</td>\n",
       "      <td>0</td>\n",
       "      <td>0</td>\n",
       "      <td>jessops-cabb446087d8428bfa741078869439b8</td>\n",
       "    </tr>\n",
       "    <tr>\n",
       "      <th>2</th>\n",
       "      <td>1</td>\n",
       "      <td>0</td>\n",
       "      <td>0</td>\n",
       "      <td>1</td>\n",
       "      <td>0</td>\n",
       "      <td>0</td>\n",
       "      <td>0</td>\n",
       "      <td>0</td>\n",
       "      <td>0</td>\n",
       "      <td>0</td>\n",
       "      <td>...</td>\n",
       "      <td>0</td>\n",
       "      <td>0</td>\n",
       "      <td>0</td>\n",
       "      <td>0</td>\n",
       "      <td>0</td>\n",
       "      <td>0</td>\n",
       "      <td>0</td>\n",
       "      <td>0</td>\n",
       "      <td>0</td>\n",
       "      <td>jessops-6953ccaa96a32f9defa93c0d1dcc8279</td>\n",
       "    </tr>\n",
       "    <tr>\n",
       "      <th>3</th>\n",
       "      <td>0</td>\n",
       "      <td>0</td>\n",
       "      <td>1</td>\n",
       "      <td>0</td>\n",
       "      <td>1</td>\n",
       "      <td>0</td>\n",
       "      <td>0</td>\n",
       "      <td>0</td>\n",
       "      <td>0</td>\n",
       "      <td>0</td>\n",
       "      <td>...</td>\n",
       "      <td>1</td>\n",
       "      <td>0</td>\n",
       "      <td>0</td>\n",
       "      <td>0</td>\n",
       "      <td>0</td>\n",
       "      <td>0</td>\n",
       "      <td>0</td>\n",
       "      <td>0</td>\n",
       "      <td>0</td>\n",
       "      <td>jessops-63ef4531e53505d5bb85cd30e4b04758</td>\n",
       "    </tr>\n",
       "    <tr>\n",
       "      <th>4</th>\n",
       "      <td>0</td>\n",
       "      <td>0</td>\n",
       "      <td>1</td>\n",
       "      <td>0</td>\n",
       "      <td>1</td>\n",
       "      <td>0</td>\n",
       "      <td>0</td>\n",
       "      <td>0</td>\n",
       "      <td>0</td>\n",
       "      <td>0</td>\n",
       "      <td>...</td>\n",
       "      <td>1</td>\n",
       "      <td>0</td>\n",
       "      <td>0</td>\n",
       "      <td>0</td>\n",
       "      <td>0</td>\n",
       "      <td>0</td>\n",
       "      <td>0</td>\n",
       "      <td>0</td>\n",
       "      <td>0</td>\n",
       "      <td>jessops-87b405e744f1ff5d6594ef41c18b8111</td>\n",
       "    </tr>\n",
       "  </tbody>\n",
       "</table>\n",
       "<p>5 rows × 22 columns</p>\n",
       "</div>"
      ],
      "text/plain": [
       "   Parent_node_1_Cam Corders  Parent_node_1_Not Camera  \\\n",
       "0                          0                         0   \n",
       "1                          0                         0   \n",
       "2                          1                         0   \n",
       "3                          0                         0   \n",
       "4                          0                         0   \n",
       "\n",
       "   Parent_node_1_Photo Devices  Parent_node_2_Action Cameras  \\\n",
       "0                            1                             0   \n",
       "1                            1                             0   \n",
       "2                            0                             1   \n",
       "3                            1                             0   \n",
       "4                            1                             0   \n",
       "\n",
       "   Parent_node_2_DSLR  Parent_node_2_Mirrorless Cameras  \\\n",
       "0                   1                                 0   \n",
       "1                   0                                 0   \n",
       "2                   0                                 0   \n",
       "3                   1                                 0   \n",
       "4                   1                                 0   \n",
       "\n",
       "   Parent_node_2_Not Camera  Parent_node_2_Point & Shoot Cameras  \\\n",
       "0                         0                                    0   \n",
       "1                         0                                    1   \n",
       "2                         0                                    0   \n",
       "3                         0                                    0   \n",
       "4                         0                                    0   \n",
       "\n",
       "   Parent_node_2_Traditional Video Cameras  Leaf_Node_360 Degree Cameras  \\\n",
       "0                                        0                             0   \n",
       "1                                        0                             0   \n",
       "2                                        0                             0   \n",
       "3                                        0                             0   \n",
       "4                                        0                             0   \n",
       "\n",
       "                     ...                     Leaf_Node_DSLR  \\\n",
       "0                    ...                                  1   \n",
       "1                    ...                                  0   \n",
       "2                    ...                                  0   \n",
       "3                    ...                                  1   \n",
       "4                    ...                                  1   \n",
       "\n",
       "   Leaf_Node_Digital Compact Cameras  Leaf_Node_Drone  \\\n",
       "0                                  0                0   \n",
       "1                                  0                0   \n",
       "2                                  0                0   \n",
       "3                                  0                0   \n",
       "4                                  0                0   \n",
       "\n",
       "   Leaf_Node_Full Frame Mirrorless Camera  Leaf_Node_Instant  \\\n",
       "0                                       0                  0   \n",
       "1                                       0                  0   \n",
       "2                                       0                  0   \n",
       "3                                       0                  0   \n",
       "4                                       0                  0   \n",
       "\n",
       "   Leaf_Node_Non 360 Degree Cameras  Leaf_Node_NonFullFrameMirrorlessCamera  \\\n",
       "0                                 0                                       0   \n",
       "1                                 0                                       0   \n",
       "2                                 0                                       0   \n",
       "3                                 0                                       0   \n",
       "4                                 0                                       0   \n",
       "\n",
       "   Leaf_Node_Not Camera  Leaf_Node_Professional Video Cameras  \\\n",
       "0                     0                                     0   \n",
       "1                     0                                     0   \n",
       "2                     0                                     0   \n",
       "3                     0                                     0   \n",
       "4                     0                                     0   \n",
       "\n",
       "                                         ID  \n",
       "0  jessops-f2dd233dd6100c900432fd2902df8cde  \n",
       "1  jessops-cabb446087d8428bfa741078869439b8  \n",
       "2  jessops-6953ccaa96a32f9defa93c0d1dcc8279  \n",
       "3  jessops-63ef4531e53505d5bb85cd30e4b04758  \n",
       "4  jessops-87b405e744f1ff5d6594ef41c18b8111  \n",
       "\n",
       "[5 rows x 22 columns]"
      ]
     },
     "execution_count": 181,
     "metadata": {},
     "output_type": "execute_result"
    }
   ],
   "source": [
    "pred_dataframe.head() #predictions"
   ]
  },
  {
   "cell_type": "code",
   "execution_count": 182,
   "metadata": {
    "collapsed": true
   },
   "outputs": [],
   "source": [
    "y_new_test=y_new_test.reset_index()\n",
    "y_new_test=y_new_test.drop(['index'],axis=1)\n",
    "y_new_test['ID']=idds"
   ]
  },
  {
   "cell_type": "markdown",
   "metadata": {},
   "source": [
    "- Accuracy score parent node:"
   ]
  },
  {
   "cell_type": "code",
   "execution_count": 183,
   "metadata": {},
   "outputs": [
    {
     "name": "stdout",
     "output_type": "stream",
     "text": [
      "Empty DataFrame\n",
      "Columns: [0]\n",
      "Index: []\n",
      "    0\n",
      "84  0\n"
     ]
    }
   ],
   "source": [
    "#checking whether multiple assigned in the parent node\n",
    "summ=pd.DataFrame(pred_dataframe[['Parent_node_1_Cam Corders','Parent_node_1_Photo Devices','Parent_node_1_Not Camera']].sum(axis=1))\n",
    "print(summ[summ[0]>1])#zero, so no multiple assignment at the top level\n",
    "print(summ[summ[0]==0])#zero, so at least one thing has been assigned"
   ]
  },
  {
   "cell_type": "code",
   "execution_count": 184,
   "metadata": {
    "collapsed": true
   },
   "outputs": [],
   "source": [
    "a=summ[summ[0]==0]\n",
    "indexx=list(a.index)"
   ]
  },
  {
   "cell_type": "code",
   "execution_count": 185,
   "metadata": {},
   "outputs": [
    {
     "data": {
      "text/plain": [
       "124"
      ]
     },
     "execution_count": 185,
     "metadata": {},
     "output_type": "execute_result"
    }
   ],
   "source": [
    "pred_dataframe[['Parent_node_1_Cam Corders','Parent_node_1_Photo Devices','Parent_node_1_Not Camera']].sum(axis=1).sum()"
   ]
  },
  {
   "cell_type": "code",
   "execution_count": 186,
   "metadata": {
    "collapsed": true
   },
   "outputs": [],
   "source": [
    "parentnode1_level=pred_proba_dataframe[['Parent_node_1_Cam Corders','Parent_node_1_Not Camera','Parent_node_1_Photo Devices']]"
   ]
  },
  {
   "cell_type": "code",
   "execution_count": 187,
   "metadata": {
    "collapsed": true
   },
   "outputs": [],
   "source": [
    "zeros=parentnode1_level[parentnode1_level.index.isin(indexx)]\n",
    "zeros=zeros.reset_index()"
   ]
  },
  {
   "cell_type": "code",
   "execution_count": 188,
   "metadata": {},
   "outputs": [
    {
     "data": {
      "text/html": [
       "<div>\n",
       "<style>\n",
       "    .dataframe thead tr:only-child th {\n",
       "        text-align: right;\n",
       "    }\n",
       "\n",
       "    .dataframe thead th {\n",
       "        text-align: left;\n",
       "    }\n",
       "\n",
       "    .dataframe tbody tr th {\n",
       "        vertical-align: top;\n",
       "    }\n",
       "</style>\n",
       "<table border=\"1\" class=\"dataframe\">\n",
       "  <thead>\n",
       "    <tr style=\"text-align: right;\">\n",
       "      <th></th>\n",
       "      <th>index</th>\n",
       "      <th>Parent_node_1_Cam Corders</th>\n",
       "      <th>Parent_node_1_Not Camera</th>\n",
       "      <th>Parent_node_1_Photo Devices</th>\n",
       "    </tr>\n",
       "  </thead>\n",
       "  <tbody>\n",
       "    <tr>\n",
       "      <th>0</th>\n",
       "      <td>84</td>\n",
       "      <td>0.486444</td>\n",
       "      <td>0.061366</td>\n",
       "      <td>0.405317</td>\n",
       "    </tr>\n",
       "  </tbody>\n",
       "</table>\n",
       "</div>"
      ],
      "text/plain": [
       "   index  Parent_node_1_Cam Corders  Parent_node_1_Not Camera  \\\n",
       "0     84                   0.486444                  0.061366   \n",
       "\n",
       "   Parent_node_1_Photo Devices  \n",
       "0                     0.405317  "
      ]
     },
     "execution_count": 188,
     "metadata": {},
     "output_type": "execute_result"
    }
   ],
   "source": [
    "zeros"
   ]
  },
  {
   "cell_type": "code",
   "execution_count": 189,
   "metadata": {
    "collapsed": true
   },
   "outputs": [],
   "source": [
    "i=0\n",
    "n=zeros.shape[0]\n",
    "n1=zeros.shape[1]\n",
    "zero_max={}\n",
    "while(i<n):\n",
    "    data=zeros.loc[[i]]\n",
    "    maxx=data.drop('index',axis=1).max(axis=1).values[0]\n",
    "    idd=data[['index']].values[0][0]\n",
    "    k=0\n",
    "    while(k<n1):\n",
    "        if(data['Parent_node_1_Cam Corders'].values[0]==maxx):\n",
    "            col='Parent_node_1_Cam Corders'\n",
    "        if(data['Parent_node_1_Photo Devices'].values[0]==maxx):\n",
    "            col='Parent_node_1_Photo Devices'\n",
    "        if(data['Parent_node_1_Not Camera'].values[0]==maxx):\n",
    "            col='Parent_node_1_Not Camera'\n",
    "        k=k+1\n",
    "    zero_max[idd] = col\n",
    "    i=i+1"
   ]
  },
  {
   "cell_type": "code",
   "execution_count": 190,
   "metadata": {},
   "outputs": [
    {
     "data": {
      "text/plain": [
       "{84: 'Parent_node_1_Cam Corders'}"
      ]
     },
     "execution_count": 190,
     "metadata": {},
     "output_type": "execute_result"
    }
   ],
   "source": [
    "zero_max"
   ]
  },
  {
   "cell_type": "code",
   "execution_count": 191,
   "metadata": {
    "collapsed": true
   },
   "outputs": [],
   "source": [
    "#asssigning:\n",
    "i=0\n",
    "n=zeros.shape[0]\n",
    "while(i<n):\n",
    "    gett=indexx[i]\n",
    "    value=zero_max.get(gett)\n",
    "    pred_dataframe.at[gett, value]=1\n",
    "    i=i+1"
   ]
  },
  {
   "cell_type": "code",
   "execution_count": 192,
   "metadata": {},
   "outputs": [
    {
     "data": {
      "text/plain": [
       "125"
      ]
     },
     "execution_count": 192,
     "metadata": {},
     "output_type": "execute_result"
    }
   ],
   "source": [
    "pred_dataframe[['Parent_node_1_Cam Corders','Parent_node_1_Photo Devices','Parent_node_1_Not Camera']].sum().sum()"
   ]
  },
  {
   "cell_type": "code",
   "execution_count": 193,
   "metadata": {
    "collapsed": true
   },
   "outputs": [],
   "source": [
    "parentnodes_pred=pred_dataframe[['Parent_node_1_Cam Corders','Parent_node_1_Photo Devices','Parent_node_1_Not Camera']]\n",
    "parentnodes_act=y_new_test[['Parent_node_1_Cam Corders','Parent_node_1_Photo Devices','Parent_node_1_Not Camera']]\n",
    "parentnodes_act=parentnodes_act.reset_index().drop('index',axis=1)"
   ]
  },
  {
   "cell_type": "code",
   "execution_count": 194,
   "metadata": {
    "collapsed": true
   },
   "outputs": [],
   "source": [
    "i=0\n",
    "n=parentnodes_pred.shape[0]\n",
    "parent_pred=[]\n",
    "while(i<n):\n",
    "    if(parentnodes_pred.loc[i]['Parent_node_1_Cam Corders']==1):\n",
    "        parent_pred.append('Cam_Corders')\n",
    "    if(parentnodes_pred.loc[i]['Parent_node_1_Photo Devices']==1):\n",
    "        parent_pred.append('Photo_Devices')\n",
    "    if(parentnodes_pred.loc[i]['Parent_node_1_Not Camera']==1):\n",
    "        parent_pred.append('Not_Camera')\n",
    "    i=i+1"
   ]
  },
  {
   "cell_type": "code",
   "execution_count": 195,
   "metadata": {
    "collapsed": true
   },
   "outputs": [],
   "source": [
    "i=0\n",
    "n=parentnodes_act.shape[0]\n",
    "parent_act=[]\n",
    "while(i<n):\n",
    "    if(parentnodes_act.loc[i]['Parent_node_1_Cam Corders']==1):\n",
    "        parent_act.append('Cam_Corders')\n",
    "    if(parentnodes_act.loc[i]['Parent_node_1_Photo Devices']==1):\n",
    "        parent_act.append('Photo_Devices')\n",
    "    if(parentnodes_act.loc[i]['Parent_node_1_Not Camera']==1):\n",
    "        parent_act.append('Not_Camera')\n",
    "    i=i+1"
   ]
  },
  {
   "cell_type": "code",
   "execution_count": 196,
   "metadata": {},
   "outputs": [
    {
     "name": "stdout",
     "output_type": "stream",
     "text": [
      "Confusion Matrix:\n",
      "              ______________Prediction_______________\n",
      "               Cam_Corders    Not_Camera Photo_Devices\n",
      "  Cam_Corders           23             0             4\n",
      "   Not_Camera            4             1             4\n",
      "Photo_Devices            2             0            87\n",
      "\n",
      "Accuracy Score:\n",
      "0.888\n",
      "()\n",
      "Classification Report:\n",
      "               precision    recall  f1-score   support\n",
      "\n",
      "  Cam_Corders       0.79      0.85      0.82        27\n",
      "   Not_Camera       1.00      0.11      0.20         9\n",
      "Photo_Devices       0.92      0.98      0.95        89\n",
      "\n",
      "  avg / total       0.90      0.89      0.87       125\n",
      "\n"
     ]
    }
   ],
   "source": [
    "from sklearn.metrics import accuracy_score\n",
    "analytics(parent_act,parent_pred)"
   ]
  },
  {
   "cell_type": "markdown",
   "metadata": {},
   "source": [
    "- Accuracy score parent node level2:"
   ]
  },
  {
   "cell_type": "code",
   "execution_count": 197,
   "metadata": {},
   "outputs": [
    {
     "name": "stdout",
     "output_type": "stream",
     "text": [
      "Empty DataFrame\n",
      "Columns: [0]\n",
      "Index: []\n"
     ]
    }
   ],
   "source": [
    "#checking whether multiple assigned in the parent node\n",
    "summ=pd.DataFrame(pred_dataframe[['Parent_node_2_Action Cameras',\n",
    "                             'Parent_node_2_DSLR','Parent_node_2_Mirrorless Cameras','Parent_node_2_Point & Shoot Cameras'\n",
    "                             ,'Parent_node_2_Traditional Video Cameras','Parent_node_2_Not Camera']].sum(axis=1))\n",
    "print(summ[summ[0]>1])#zero, so some multiple assignment at the top level"
   ]
  },
  {
   "cell_type": "code",
   "execution_count": 198,
   "metadata": {},
   "outputs": [
    {
     "name": "stdout",
     "output_type": "stream",
     "text": [
      "     0\n",
      "5    0\n",
      "11   0\n",
      "15   0\n",
      "22   0\n",
      "34   0\n",
      "45   0\n",
      "49   0\n",
      "52   0\n",
      "58   0\n",
      "67   0\n",
      "71   0\n",
      "73   0\n",
      "75   0\n",
      "84   0\n",
      "86   0\n",
      "88   0\n",
      "89   0\n",
      "93   0\n",
      "103  0\n",
      "108  0\n",
      "109  0\n",
      "110  0\n",
      "123  0\n"
     ]
    }
   ],
   "source": [
    "print(summ[summ[0]==0])#there are some nodes that are not assigned"
   ]
  },
  {
   "cell_type": "markdown",
   "metadata": {},
   "source": [
    "Fixing the zero & multiple ones"
   ]
  },
  {
   "cell_type": "code",
   "execution_count": 199,
   "metadata": {
    "collapsed": true
   },
   "outputs": [],
   "source": [
    "a=summ[summ[0].isin(['0','2','3','4','5','6','7'])]\n",
    "indexx=list(a.index)"
   ]
  },
  {
   "cell_type": "code",
   "execution_count": 200,
   "metadata": {},
   "outputs": [
    {
     "data": {
      "text/plain": [
       "23"
      ]
     },
     "execution_count": 200,
     "metadata": {},
     "output_type": "execute_result"
    }
   ],
   "source": [
    "len(indexx)"
   ]
  },
  {
   "cell_type": "code",
   "execution_count": 201,
   "metadata": {
    "collapsed": true
   },
   "outputs": [],
   "source": [
    "parentnode2_level=pred_proba_dataframe[['Parent_node_2_Action Cameras',\n",
    "                             'Parent_node_2_DSLR','Parent_node_2_Mirrorless Cameras','Parent_node_2_Point & Shoot Cameras'\n",
    "                             ,'Parent_node_2_Traditional Video Cameras','Parent_node_2_Not Camera']]"
   ]
  },
  {
   "cell_type": "code",
   "execution_count": 202,
   "metadata": {
    "collapsed": true
   },
   "outputs": [],
   "source": [
    "zeros=parentnode2_level[parentnode2_level.index.isin(indexx)]\n",
    "zeros=zeros.reset_index()"
   ]
  },
  {
   "cell_type": "code",
   "execution_count": 203,
   "metadata": {
    "collapsed": true
   },
   "outputs": [],
   "source": [
    "i=0\n",
    "n=zeros.shape[0]\n",
    "n1=zeros.shape[1]\n",
    "zero_max={}\n",
    "while(i<n):\n",
    "    data=zeros.loc[[i]]\n",
    "    maxx=data.drop('index',axis=1).max(axis=1).values[0]\n",
    "    idd=data[['index']].values[0][0]\n",
    "    k=0\n",
    "    while(k<n1):\n",
    "        if(data['Parent_node_2_Action Cameras'].values[0]==maxx):\n",
    "            col='Parent_node_2_Action Cameras'\n",
    "        if(data['Parent_node_2_DSLR'].values[0]==maxx):\n",
    "            col='Parent_node_2_DSLR'\n",
    "        if(data['Parent_node_2_Mirrorless Cameras'].values[0]==maxx):\n",
    "            col='Parent_node_2_Mirrorless Cameras'\n",
    "        if(data['Parent_node_2_Point & Shoot Cameras'].values[0]==maxx):\n",
    "            col='Parent_node_2_Point & Shoot Cameras'\n",
    "        if(data['Parent_node_2_Not Camera'].values[0]==maxx):\n",
    "            col='Parent_node_2_Not Camera'\n",
    "        if(data['Parent_node_2_Traditional Video Cameras'].values[0]==maxx):\n",
    "            col='Parent_node_2_Traditional Video Cameras'\n",
    "        k=k+1\n",
    "    zero_max[idd] = col\n",
    "    i=i+1"
   ]
  },
  {
   "cell_type": "code",
   "execution_count": 204,
   "metadata": {},
   "outputs": [
    {
     "data": {
      "text/plain": [
       "{5: 'Parent_node_2_DSLR',\n",
       " 11: 'Parent_node_2_DSLR',\n",
       " 15: 'Parent_node_2_DSLR',\n",
       " 22: 'Parent_node_2_Mirrorless Cameras',\n",
       " 34: 'Parent_node_2_Point & Shoot Cameras',\n",
       " 45: 'Parent_node_2_Action Cameras',\n",
       " 49: 'Parent_node_2_Mirrorless Cameras',\n",
       " 52: 'Parent_node_2_Traditional Video Cameras',\n",
       " 58: 'Parent_node_2_Action Cameras',\n",
       " 67: 'Parent_node_2_Point & Shoot Cameras',\n",
       " 71: 'Parent_node_2_Mirrorless Cameras',\n",
       " 73: 'Parent_node_2_Action Cameras',\n",
       " 75: 'Parent_node_2_Action Cameras',\n",
       " 84: 'Parent_node_2_Action Cameras',\n",
       " 86: 'Parent_node_2_Mirrorless Cameras',\n",
       " 88: 'Parent_node_2_Mirrorless Cameras',\n",
       " 89: 'Parent_node_2_Action Cameras',\n",
       " 93: 'Parent_node_2_DSLR',\n",
       " 103: 'Parent_node_2_Action Cameras',\n",
       " 108: 'Parent_node_2_Action Cameras',\n",
       " 109: 'Parent_node_2_Point & Shoot Cameras',\n",
       " 110: 'Parent_node_2_Traditional Video Cameras',\n",
       " 123: 'Parent_node_2_Point & Shoot Cameras'}"
      ]
     },
     "execution_count": 204,
     "metadata": {},
     "output_type": "execute_result"
    }
   ],
   "source": [
    "zero_max"
   ]
  },
  {
   "cell_type": "code",
   "execution_count": 205,
   "metadata": {
    "collapsed": true
   },
   "outputs": [],
   "source": [
    "#asssigning:\n",
    "i=0\n",
    "n=zeros.shape[0]\n",
    "while(i<n):\n",
    "    gett=indexx[i]\n",
    "    value=zero_max.get(gett)\n",
    "    pred_dataframe.at[gett, value]=1\n",
    "    leafs=list(parentnode2_level.columns)\n",
    "    leafs.remove(value)\n",
    "    n1=len(leafs)\n",
    "    k=0\n",
    "    while(k<n1):\n",
    "        pred_dataframe.at[gett, leafs[k]]=0\n",
    "        k=k+1  \n",
    "    i=i+1"
   ]
  },
  {
   "cell_type": "markdown",
   "metadata": {},
   "source": [
    "Calculate Accuracy"
   ]
  },
  {
   "cell_type": "code",
   "execution_count": 206,
   "metadata": {
    "collapsed": true
   },
   "outputs": [],
   "source": [
    "parentnodes_pred=pred_dataframe[['Parent_node_2_Action Cameras',\n",
    "                             'Parent_node_2_DSLR','Parent_node_2_Mirrorless Cameras','Parent_node_2_Point & Shoot Cameras'\n",
    "                             ,'Parent_node_2_Traditional Video Cameras','Parent_node_2_Not Camera']]\n",
    "parentnodes_act=y_new_test[['Parent_node_2_Action Cameras',\n",
    "                             'Parent_node_2_DSLR','Parent_node_2_Mirrorless Cameras','Parent_node_2_Point & Shoot Cameras'\n",
    "                             ,'Parent_node_2_Traditional Video Cameras','Parent_node_2_Not Camera']]\n",
    "parentnodes_act=parentnodes_act.reset_index().drop('index',axis=1)"
   ]
  },
  {
   "cell_type": "code",
   "execution_count": 207,
   "metadata": {},
   "outputs": [
    {
     "data": {
      "text/plain": [
       "(125, 6)"
      ]
     },
     "execution_count": 207,
     "metadata": {},
     "output_type": "execute_result"
    }
   ],
   "source": [
    "parentnodes_pred.shape"
   ]
  },
  {
   "cell_type": "code",
   "execution_count": 208,
   "metadata": {},
   "outputs": [
    {
     "data": {
      "text/plain": [
       "(125, 6)"
      ]
     },
     "execution_count": 208,
     "metadata": {},
     "output_type": "execute_result"
    }
   ],
   "source": [
    "parentnodes_act.shape"
   ]
  },
  {
   "cell_type": "code",
   "execution_count": 209,
   "metadata": {
    "collapsed": true
   },
   "outputs": [],
   "source": [
    "i=0\n",
    "n=parentnodes_pred.shape[0]\n",
    "parent_pred=[]\n",
    "while(i<n):\n",
    "    if(parentnodes_pred.loc[i]['Parent_node_2_Action Cameras']==1):\n",
    "        app='Parent_node_2_Action Cameras'\n",
    "    if(parentnodes_pred.loc[i]['Parent_node_2_DSLR']==1):\n",
    "        app='DSLR_Cameras'\n",
    "    if(parentnodes_pred.loc[i]['Parent_node_2_Mirrorless Cameras']==1):\n",
    "        app='Mirrorless_Cameras'\n",
    "    if(parentnodes_pred.loc[i]['Parent_node_2_Point & Shoot Cameras']==1):\n",
    "        app='point_and_shoot_Cameras'\n",
    "    if(parentnodes_pred.loc[i]['Parent_node_2_Not Camera']==1):\n",
    "        app='not_camera'\n",
    "    if(parentnodes_pred.loc[i]['Parent_node_2_Traditional Video Cameras']==1):\n",
    "        app='tradition_video'\n",
    "    parent_pred.append(app)\n",
    "    i=i+1"
   ]
  },
  {
   "cell_type": "code",
   "execution_count": 210,
   "metadata": {
    "collapsed": true
   },
   "outputs": [],
   "source": [
    "i=0\n",
    "n=parentnodes_act.shape[0]\n",
    "parent_act=[]\n",
    "while(i<n):\n",
    "    if(parentnodes_act.loc[i]['Parent_node_2_Action Cameras']==1):\n",
    "        app='Action_Cameras'\n",
    "    if(parentnodes_act.loc[i]['Parent_node_2_DSLR']==1):\n",
    "        app='DSLR_Cameras'\n",
    "    if(parentnodes_act.loc[i]['Parent_node_2_Mirrorless Cameras']==1):\n",
    "        app='Mirrorless_Cameras'\n",
    "    if(parentnodes_act.loc[i]['Parent_node_2_Point & Shoot Cameras']==1):\n",
    "        app='point_and_shoot_Cameras'\n",
    "    if(parentnodes_act.loc[i]['Parent_node_2_Not Camera']==1):\n",
    "        app='not_camera'\n",
    "    if(parentnodes_act.loc[i]['Parent_node_2_Traditional Video Cameras']==1):\n",
    "        app='tradition_video'\n",
    "    parent_act.append(app)\n",
    "    i=i+1"
   ]
  },
  {
   "cell_type": "code",
   "execution_count": 211,
   "metadata": {},
   "outputs": [
    {
     "name": "stdout",
     "output_type": "stream",
     "text": [
      "Confusion Matrix:\n",
      "                             _____________________________________________________________________________________________Prediction_____________________________________________________________________________________________\n",
      "                                          Action_Cameras                 DSLR_Cameras           Mirrorless_Cameras Parent_node_2_Action Cameras                   not_camera      point_and_shoot_Cameras              tradition_video\n",
      "              Action_Cameras                           0                            0                            0                           14                            0                            1                            0\n",
      "                DSLR_Cameras                           0                           13                            2                            0                            0                            0                            1\n",
      "          Mirrorless_Cameras                           0                            0                           20                            0                            0                            5                            0\n",
      "Parent_node_2_Action Cameras                           0                            0                            0                            0                            0                            0                            0\n",
      "                  not_camera                           0                            3                            0                            3                            1                            2                            0\n",
      "     point_and_shoot_Cameras                           0                            0                            2                            2                            0                           44                            0\n",
      "             tradition_video                           0                            2                            0                            1                            0                            0                            9\n",
      "\n",
      "Accuracy Score:\n",
      "0.696\n",
      "()\n",
      "Classification Report:\n",
      "                              precision    recall  f1-score   support\n",
      "\n",
      "              Action_Cameras       0.00      0.00      0.00        15\n",
      "                DSLR_Cameras       0.72      0.81      0.76        16\n",
      "          Mirrorless_Cameras       0.83      0.80      0.82        25\n",
      "Parent_node_2_Action Cameras       0.00      0.00      0.00         0\n",
      "                  not_camera       1.00      0.11      0.20         9\n",
      "     point_and_shoot_Cameras       0.85      0.92      0.88        48\n",
      "             tradition_video       0.90      0.75      0.82        12\n",
      "\n",
      "                 avg / total       0.74      0.70      0.69       125\n",
      "\n"
     ]
    }
   ],
   "source": [
    "analytics(parent_act,parent_pred)"
   ]
  },
  {
   "cell_type": "markdown",
   "metadata": {},
   "source": [
    "- Accuracy score parent node level3:"
   ]
  },
  {
   "cell_type": "code",
   "execution_count": 212,
   "metadata": {
    "collapsed": true
   },
   "outputs": [],
   "source": [
    "summ=pd.DataFrame(pred_dataframe.drop(['Parent_node_1_Cam Corders','Parent_node_1_Not Camera','Parent_node_1_Photo Devices','Parent_node_2_Action Cameras','Parent_node_2_DSLR','Parent_node_2_Mirrorless Cameras','Parent_node_2_Point & Shoot Cameras','Parent_node_2_Traditional Video Cameras','Parent_node_2_Not Camera','ID'],axis=1).sum(axis=1))"
   ]
  },
  {
   "cell_type": "code",
   "execution_count": 213,
   "metadata": {},
   "outputs": [
    {
     "data": {
      "text/plain": [
       "(125, 22)"
      ]
     },
     "execution_count": 213,
     "metadata": {},
     "output_type": "execute_result"
    }
   ],
   "source": [
    "pred_dataframe.shape"
   ]
  },
  {
   "cell_type": "code",
   "execution_count": 214,
   "metadata": {},
   "outputs": [
    {
     "name": "stdout",
     "output_type": "stream",
     "text": [
      "Empty DataFrame\n",
      "Columns: [0]\n",
      "Index: []\n"
     ]
    }
   ],
   "source": [
    "print(summ[summ[0]>1]) #there are multiple assignments"
   ]
  },
  {
   "cell_type": "code",
   "execution_count": 215,
   "metadata": {},
   "outputs": [
    {
     "name": "stdout",
     "output_type": "stream",
     "text": [
      "     0\n",
      "2    0\n",
      "5    0\n",
      "8    0\n",
      "11   0\n",
      "12   0\n",
      "15   0\n",
      "18   0\n",
      "20   0\n",
      "21   0\n",
      "23   0\n",
      "25   0\n",
      "30   0\n",
      "34   0\n",
      "35   0\n",
      "37   0\n",
      "40   0\n",
      "41   0\n",
      "43   0\n",
      "45   0\n",
      "46   0\n",
      "49   0\n",
      "52   0\n",
      "55   0\n",
      "56   0\n",
      "58   0\n",
      "64   0\n",
      "67   0\n",
      "69   0\n",
      "70   0\n",
      "71   0\n",
      "73   0\n",
      "74   0\n",
      "75   0\n",
      "76   0\n",
      "78   0\n",
      "79   0\n",
      "83   0\n",
      "84   0\n",
      "85   0\n",
      "86   0\n",
      "89   0\n",
      "91   0\n",
      "93   0\n",
      "97   0\n",
      "103  0\n",
      "105  0\n",
      "107  0\n",
      "108  0\n",
      "109  0\n",
      "110  0\n",
      "112  0\n",
      "116  0\n",
      "118  0\n",
      "123  0\n",
      "124  0\n"
     ]
    }
   ],
   "source": [
    "print(summ[summ[0]==0])#there are a lot of nodes with zero assignment"
   ]
  },
  {
   "cell_type": "code",
   "execution_count": 216,
   "metadata": {
    "collapsed": true
   },
   "outputs": [],
   "source": [
    "a=summ[summ[0].isin(['0','2','3','4','5','6','7'])]\n",
    "indexx=list(a.index)"
   ]
  },
  {
   "cell_type": "code",
   "execution_count": 217,
   "metadata": {},
   "outputs": [
    {
     "data": {
      "text/plain": [
       "55"
      ]
     },
     "execution_count": 217,
     "metadata": {},
     "output_type": "execute_result"
    }
   ],
   "source": [
    "len(indexx)"
   ]
  },
  {
   "cell_type": "code",
   "execution_count": 218,
   "metadata": {
    "collapsed": true
   },
   "outputs": [],
   "source": [
    "parentnode3_level=pred_proba_dataframe.drop(['Parent_node_1_Cam Corders','Parent_node_1_Not Camera','Parent_node_1_Photo Devices','Parent_node_2_Action Cameras','Parent_node_2_DSLR','Parent_node_2_Mirrorless Cameras','Parent_node_2_Point & Shoot Cameras','Parent_node_2_Traditional Video Cameras','Parent_node_2_Not Camera','ID'],axis=1)\n",
    "\n",
    "\n"
   ]
  },
  {
   "cell_type": "code",
   "execution_count": 219,
   "metadata": {
    "collapsed": true
   },
   "outputs": [],
   "source": [
    "zeros=parentnode3_level[parentnode3_level.index.isin(indexx)]\n",
    "zeros=zeros.reset_index()"
   ]
  },
  {
   "cell_type": "code",
   "execution_count": 220,
   "metadata": {
    "collapsed": true
   },
   "outputs": [],
   "source": [
    "i=0\n",
    "n=zeros.shape[0]\n",
    "n1=zeros.shape[1]\n",
    "zero_max={}\n",
    "while(i<n):\n",
    "    data=zeros.loc[[i]]\n",
    "    maxx=data.drop('index',axis=1).max(axis=1).values[0]\n",
    "    idd=data[['index']].values[0][0]\n",
    "    k=0\n",
    "    while(k<n1):\n",
    "        if(data['Leaf_Node_360 Degree Cameras'].values[0]==maxx):\n",
    "            col='Leaf_Node_360 Degree Cameras'\n",
    "        if(data['Leaf_Node_Bridge Cameras'].values[0]==maxx):\n",
    "            col='Leaf_Node_Bridge Cameras'\n",
    "        if(data['Leaf_Node_Common Use Video Cameras'].values[0]==maxx):\n",
    "            col='Leaf_Node_Common Use Video Cameras'\n",
    "        if(data['Leaf_Node_DSLR'].values[0]==maxx):\n",
    "            col='Leaf_Node_DSLR'\n",
    "        if(data['Leaf_Node_Digital Compact Cameras'].values[0]==maxx):\n",
    "            col='Leaf_Node_Digital Compact Cameras'\n",
    "        if(data['Leaf_Node_Drone'].values[0]==maxx):\n",
    "            col='Leaf_Node_Drone'\n",
    "        if(data['Leaf_Node_Full Frame Mirrorless Camera'].values[0]==maxx):\n",
    "            col='Leaf_Node_Full Frame Mirrorless Camera'\n",
    "        if(data['Leaf_Node_Instant'].values[0]==maxx):\n",
    "            col='Leaf_Node_Instant'\n",
    "        if(data['Leaf_Node_Non 360 Degree Cameras'].values[0]==maxx):\n",
    "            col='Leaf_Node_Non 360 Degree Cameras'\n",
    "        if(data['Leaf_Node_NonFullFrameMirrorlessCamera'].values[0]==maxx):\n",
    "            col='Leaf_Node_NonFullFrameMirrorlessCamera'\n",
    "        if(data['Leaf_Node_Not Camera'].values[0]==maxx):\n",
    "            col='Leaf_Node_Not Camera'\n",
    "        if(data['Leaf_Node_Professional Video Cameras'].values[0]==maxx):\n",
    "            col='Leaf_Node_Professional Video Cameras'\n",
    "        k=k+1\n",
    "    zero_max[idd] = col\n",
    "    i=i+1"
   ]
  },
  {
   "cell_type": "code",
   "execution_count": 221,
   "metadata": {},
   "outputs": [
    {
     "data": {
      "text/plain": [
       "55"
      ]
     },
     "execution_count": 221,
     "metadata": {},
     "output_type": "execute_result"
    }
   ],
   "source": [
    "len(zero_max)"
   ]
  },
  {
   "cell_type": "code",
   "execution_count": 222,
   "metadata": {
    "collapsed": true
   },
   "outputs": [],
   "source": [
    "#asssigning:\n",
    "i=0\n",
    "n=zeros.shape[0]\n",
    "while(i<n):\n",
    "    gett=indexx[i]\n",
    "    value=zero_max.get(gett)\n",
    "    pred_dataframe.at[gett, value]=1\n",
    "    leafs=list(parentnode3_level.columns)\n",
    "    leafs.remove(value)\n",
    "    n1=len(leafs)\n",
    "    k=0\n",
    "    while(k<n1):\n",
    "        pred_dataframe.at[gett, leafs[k]]=0\n",
    "        k=k+1  \n",
    "    i=i+1"
   ]
  },
  {
   "cell_type": "markdown",
   "metadata": {},
   "source": [
    "Calculating the accuracy"
   ]
  },
  {
   "cell_type": "code",
   "execution_count": 223,
   "metadata": {
    "collapsed": true
   },
   "outputs": [],
   "source": [
    "parentnodes_pred=pred_dataframe.drop(['Parent_node_2_Action Cameras',\n",
    "                             'Parent_node_2_DSLR','Parent_node_2_Mirrorless Cameras','Parent_node_2_Point & Shoot Cameras'\n",
    "                             ,'Parent_node_2_Traditional Video Cameras','Parent_node_1_Cam Corders','Parent_node_1_Photo Devices','ID','Parent_node_1_Not Camera','Parent_node_2_Not Camera'],axis=1)\n",
    "parentnodes_act=y_new_test.drop(['Parent_node_2_Action Cameras',\n",
    "                             'Parent_node_2_DSLR','Parent_node_2_Mirrorless Cameras','Parent_node_2_Point & Shoot Cameras'\n",
    "                             ,'Parent_node_2_Traditional Video Cameras','Parent_node_1_Cam Corders','Parent_node_1_Photo Devices','ID','Parent_node_1_Not Camera','Parent_node_2_Not Camera'],axis=1)\n",
    "parentnodes_act=parentnodes_act.reset_index().drop('index',axis=1)"
   ]
  },
  {
   "cell_type": "code",
   "execution_count": 224,
   "metadata": {},
   "outputs": [
    {
     "data": {
      "text/plain": [
       "125"
      ]
     },
     "execution_count": 224,
     "metadata": {},
     "output_type": "execute_result"
    }
   ],
   "source": [
    "parentnodes_pred.sum(axis=0).sum()"
   ]
  },
  {
   "cell_type": "code",
   "execution_count": 225,
   "metadata": {
    "collapsed": true
   },
   "outputs": [],
   "source": [
    "i=0\n",
    "n=parentnodes_pred.shape[0]\n",
    "parent_pred=[]\n",
    "while(i<n):\n",
    "    if(parentnodes_pred.loc[i]['Leaf_Node_360 Degree Cameras']==1):\n",
    "        app='Leaf_Node_360 Degree Cameras'\n",
    "    if(parentnodes_pred.loc[i]['Leaf_Node_Bridge Cameras']==1):\n",
    "        app='Leaf_Node_Bridge Cameras'\n",
    "    if(parentnodes_pred.loc[i]['Leaf_Node_Common Use Video Cameras']==1):\n",
    "        app='Leaf_Node_Common Use Video Cameras'\n",
    "    if(parentnodes_pred.loc[i]['Leaf_Node_DSLR']==1):\n",
    "        app='Leaf_Node_DSLR'\n",
    "    if(parentnodes_pred.loc[i]['Leaf_Node_Digital Compact Cameras']==1):\n",
    "        app='Leaf_Node_Digital Compact Cameras'\n",
    "    if(parentnodes_pred.loc[i]['Leaf_Node_Drone']==1):\n",
    "        app='Leaf_Node_Drone'\n",
    "    if(parentnodes_pred.loc[i]['Leaf_Node_Full Frame Mirrorless Camera']==1):\n",
    "        app='Leaf_Node_Full Frame Mirrorless Camera'\n",
    "    if(parentnodes_pred.loc[i]['Leaf_Node_Instant']==1):\n",
    "        app='Leaf_Node_Instant'\n",
    "    if(parentnodes_pred.loc[i]['Leaf_Node_Non 360 Degree Cameras']==1):\n",
    "        app='Leaf_Node_Non 360 Degree Cameras'\n",
    "    if(parentnodes_pred.loc[i]['Leaf_Node_NonFullFrameMirrorlessCamera']==1):\n",
    "        app='Leaf_Node_NonFullFrameMirrorlessCamera'\n",
    "    if(parentnodes_pred.loc[i]['Leaf_Node_Not Camera']==1):\n",
    "        app='Leaf_Node_Not Camera'\n",
    "    if(parentnodes_pred.loc[i]['Leaf_Node_Professional Video Cameras']==1):\n",
    "        app='Leaf_Node_Professional Video Cameras'\n",
    "    parent_pred.append(app)\n",
    "    i=i+1"
   ]
  },
  {
   "cell_type": "code",
   "execution_count": 226,
   "metadata": {
    "collapsed": true
   },
   "outputs": [],
   "source": [
    "i=0\n",
    "n=parentnodes_act.shape[0]\n",
    "parent_act=[]\n",
    "while(i<n):\n",
    "    if(parentnodes_act.loc[i]['Leaf_Node_360 Degree Cameras']==1):\n",
    "        app='Leaf_Node_360 Degree Cameras'\n",
    "    if(parentnodes_act.loc[i]['Leaf_Node_Bridge Cameras']==1):\n",
    "        app='Leaf_Node_Bridge Cameras'\n",
    "    if(parentnodes_act.loc[i]['Leaf_Node_Common Use Video Cameras']==1):\n",
    "        app='Leaf_Node_Common Use Video Cameras'\n",
    "    if(parentnodes_act.loc[i]['Leaf_Node_DSLR']==1):\n",
    "        app='Leaf_Node_DSLR'\n",
    "    if(parentnodes_act.loc[i]['Leaf_Node_Digital Compact Cameras']==1):\n",
    "        app='Leaf_Node_Digital Compact Cameras'\n",
    "    if(parentnodes_act.loc[i]['Leaf_Node_Drone']==1):\n",
    "        app='Leaf_Node_Drone'\n",
    "    if(parentnodes_act.loc[i]['Leaf_Node_Full Frame Mirrorless Camera']==1):\n",
    "        app='Leaf_Node_Full Frame Mirrorless Camera'\n",
    "    if(parentnodes_act.loc[i]['Leaf_Node_Instant']==1):\n",
    "        app='Leaf_Node_Instant'\n",
    "    if(parentnodes_act.loc[i]['Leaf_Node_Non 360 Degree Cameras']==1):\n",
    "        app='Leaf_Node_Non 360 Degree Cameras'\n",
    "    if(parentnodes_act.loc[i]['Leaf_Node_NonFullFrameMirrorlessCamera']==1):\n",
    "        app='Leaf_Node_NonFullFrameMirrorlessCamera'\n",
    "    if(parentnodes_act.loc[i]['Leaf_Node_Not Camera']==1):\n",
    "        app='Not_Camera'\n",
    "    if(parentnodes_act.loc[i]['Leaf_Node_Professional Video Cameras']==1):\n",
    "        app='Leaf_Node_Professional Video Cameras'    \n",
    "    parent_act.append(app)\n",
    "    i=i+1"
   ]
  },
  {
   "cell_type": "code",
   "execution_count": 227,
   "metadata": {},
   "outputs": [
    {
     "name": "stdout",
     "output_type": "stream",
     "text": [
      "Confusion Matrix:\n",
      "                                       __________________________________________________________________________________________________________________________________________________________________________________________________________________________________________________Prediction__________________________________________________________________________________________________________________________________________________________________________________________________________________________________________________\n",
      "                                                Leaf_Node_360 Degree Cameras               Leaf_Node_Bridge Cameras     Leaf_Node_Common Use Video Cameras                         Leaf_Node_DSLR      Leaf_Node_Digital Compact Cameras                        Leaf_Node_Drone Leaf_Node_Full Frame Mirrorless Camera                      Leaf_Node_Instant       Leaf_Node_Non 360 Degree Cameras Leaf_Node_NonFullFrameMirrorlessCamera                   Leaf_Node_Not Camera   Leaf_Node_Professional Video Cameras                             Not_Camera\n",
      "          Leaf_Node_360 Degree Cameras                                     6                                      0                                      0                                      0                                      0                                      0                                      0                                      0                                      0                                      0                                      0                                      0                                      0\n",
      "              Leaf_Node_Bridge Cameras                                     0                                     16                                      0                                      0                                      1                                      0                                      0                                      0                                      0                                      1                                      0                                      0                                      0\n",
      "    Leaf_Node_Common Use Video Cameras                                     0                                      0                                      2                                      0                                      0                                      0                                      0                                      0                                      0                                      0                                      0                                      1                                      0\n",
      "                        Leaf_Node_DSLR                                     0                                      0                                      1                                     13                                      0                                      0                                      2                                      0                                      0                                      0                                      0                                      0                                      0\n",
      "     Leaf_Node_Digital Compact Cameras                                     0                                     15                                      0                                      0                                      8                                      0                                      0                                      0                                      1                                      0                                      0                                      0                                      0\n",
      "                       Leaf_Node_Drone                                     0                                      0                                      0                                      0                                      0                                      3                                      0                                      0                                      0                                      0                                      0                                      0                                      0\n",
      "Leaf_Node_Full Frame Mirrorless Camera                                     0                                      1                                      0                                      0                                      0                                      0                                      7                                      0                                      0                                      0                                      0                                      0                                      0\n",
      "                     Leaf_Node_Instant                                     1                                      0                                      0                                      0                                      0                                      0                                      0                                      5                                      0                                      0                                      0                                      0                                      0\n",
      "      Leaf_Node_Non 360 Degree Cameras                                     1                                      0                                      0                                      0                                      1                                      1                                      0                                      0                                      3                                      0                                      0                                      0                                      0\n",
      "Leaf_Node_NonFullFrameMirrorlessCamera                                     0                                      1                                      0                                      1                                      1                                      0                                      2                                      0                                      0                                     12                                      0                                      0                                      0\n",
      "                  Leaf_Node_Not Camera                                     0                                      0                                      0                                      0                                      0                                      0                                      0                                      0                                      0                                      0                                      0                                      0                                      0\n",
      "  Leaf_Node_Professional Video Cameras                                     1                                      0                                      1                                      2                                      0                                      0                                      0                                      0                                      0                                      0                                      0                                      5                                      0\n",
      "                            Not_Camera                                     0                                      0                                      1                                      3                                      1                                      2                                      0                                      1                                      0                                      0                                      1                                      0                                      0\n",
      "\n",
      "Accuracy Score:\n",
      "0.64\n",
      "()\n",
      "Classification Report:\n",
      "                                        precision    recall  f1-score   support\n",
      "\n",
      "          Leaf_Node_360 Degree Cameras       0.67      1.00      0.80         6\n",
      "              Leaf_Node_Bridge Cameras       0.48      0.89      0.63        18\n",
      "    Leaf_Node_Common Use Video Cameras       0.40      0.67      0.50         3\n",
      "                        Leaf_Node_DSLR       0.68      0.81      0.74        16\n",
      "     Leaf_Node_Digital Compact Cameras       0.67      0.33      0.44        24\n",
      "                       Leaf_Node_Drone       0.50      1.00      0.67         3\n",
      "Leaf_Node_Full Frame Mirrorless Camera       0.64      0.88      0.74         8\n",
      "                     Leaf_Node_Instant       0.83      0.83      0.83         6\n",
      "      Leaf_Node_Non 360 Degree Cameras       0.75      0.50      0.60         6\n",
      "Leaf_Node_NonFullFrameMirrorlessCamera       0.92      0.71      0.80        17\n",
      "                  Leaf_Node_Not Camera       0.00      0.00      0.00         0\n",
      "  Leaf_Node_Professional Video Cameras       0.83      0.56      0.67         9\n",
      "                            Not_Camera       0.00      0.00      0.00         9\n",
      "\n",
      "                           avg / total       0.64      0.64      0.61       125\n",
      "\n"
     ]
    }
   ],
   "source": [
    "analytics(parent_act,parent_pred)"
   ]
  }
 ],
 "metadata": {
  "kernelspec": {
   "display_name": "Python 2",
   "language": "python",
   "name": "python2"
  },
  "language_info": {
   "codemirror_mode": {
    "name": "ipython",
    "version": 2
   },
   "file_extension": ".py",
   "mimetype": "text/x-python",
   "name": "python",
   "nbconvert_exporter": "python",
   "pygments_lexer": "ipython2",
   "version": "2.7.14"
  }
 },
 "nbformat": 4,
 "nbformat_minor": 2
}
