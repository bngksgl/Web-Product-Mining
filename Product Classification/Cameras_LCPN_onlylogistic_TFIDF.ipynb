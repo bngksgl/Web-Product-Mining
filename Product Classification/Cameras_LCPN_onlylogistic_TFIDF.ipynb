{
 "cells": [
  {
   "cell_type": "code",
   "execution_count": 1,
   "metadata": {
    "collapsed": true
   },
   "outputs": [],
   "source": [
    "import pandas as pd\n",
    "import numpy as np"
   ]
  },
  {
   "cell_type": "code",
   "execution_count": 2,
   "metadata": {},
   "outputs": [
    {
     "data": {
      "text/plain": [
       "['',\n",
       " '/Users/bengikoseoglu/anaconda2/lib/python27.zip',\n",
       " '/Users/bengikoseoglu/anaconda2/lib/python2.7',\n",
       " '/Users/bengikoseoglu/anaconda2/lib/python2.7/plat-darwin',\n",
       " '/Users/bengikoseoglu/anaconda2/lib/python2.7/plat-mac',\n",
       " '/Users/bengikoseoglu/anaconda2/lib/python2.7/plat-mac/lib-scriptpackages',\n",
       " '/Users/bengikoseoglu/anaconda2/lib/python2.7/lib-tk',\n",
       " '/Users/bengikoseoglu/anaconda2/lib/python2.7/lib-old',\n",
       " '/Users/bengikoseoglu/anaconda2/lib/python2.7/lib-dynload',\n",
       " '/Users/bengikoseoglu/anaconda2/lib/python2.7/site-packages',\n",
       " '/Users/bengikoseoglu/anaconda2/lib/python2.7/site-packages/aeosa',\n",
       " '/Users/bengikoseoglu/anaconda2/lib/python2.7/site-packages/IPython/extensions',\n",
       " '/Users/bengikoseoglu/.ipython',\n",
       " '/Users/bengikoseoglu/anaconda2/pkgs',\n",
       " '/Users/bengikoseoglu/anaconda2/pckgs',\n",
       " '/Users/bengikoseoglu',\n",
       " '/Library/Python/2.7/site-packages/']"
      ]
     },
     "execution_count": 2,
     "metadata": {},
     "output_type": "execute_result"
    }
   ],
   "source": [
    "import sys\n",
    "sys.path.append('/Users/bengikoseoglu/anaconda2/pkgs')\n",
    "sys.path.append('/Users/bengikoseoglu/anaconda2/pckgs')\n",
    "sys.path.append('/Users/bengikoseoglu')\n",
    "sys.path.append('/Library/Python/2.7/site-packages/')\n",
    "sys.path"
   ]
  },
  {
   "cell_type": "code",
   "execution_count": 3,
   "metadata": {
    "collapsed": true
   },
   "outputs": [],
   "source": [
    "import pandas as pd\n",
    "import numpy as np\n",
    "import datetime\n",
    "import matplotlib as mpl\n",
    "import matplotlib.pyplot as plt\n",
    "import seaborn as sns\n",
    "from pylab import *\n",
    "import plotly.plotly as py\n",
    "import plotly\n",
    "import plotly.graph_objs as go\n",
    "from pandasql import sqldf\n",
    "pysqldf = lambda q: sqldf(q, globals())"
   ]
  },
  {
   "cell_type": "code",
   "execution_count": 4,
   "metadata": {
    "collapsed": true
   },
   "outputs": [],
   "source": [
    "df=pd.read_excel('cameras_400_3_nocamera.xlsx')"
   ]
  },
  {
   "cell_type": "code",
   "execution_count": 5,
   "metadata": {},
   "outputs": [
    {
     "data": {
      "text/plain": [
       "(418, 19)"
      ]
     },
     "execution_count": 5,
     "metadata": {},
     "output_type": "execute_result"
    }
   ],
   "source": [
    "df.shape"
   ]
  },
  {
   "cell_type": "code",
   "execution_count": 6,
   "metadata": {
    "collapsed": true
   },
   "outputs": [],
   "source": [
    "df=df.rename(columns={'Leaf Node':'Leaf_Node'})"
   ]
  },
  {
   "cell_type": "code",
   "execution_count": 7,
   "metadata": {},
   "outputs": [
    {
     "data": {
      "text/html": [
       "<div>\n",
       "<style>\n",
       "    .dataframe thead tr:only-child th {\n",
       "        text-align: right;\n",
       "    }\n",
       "\n",
       "    .dataframe thead th {\n",
       "        text-align: left;\n",
       "    }\n",
       "\n",
       "    .dataframe tbody tr th {\n",
       "        vertical-align: top;\n",
       "    }\n",
       "</style>\n",
       "<table border=\"1\" class=\"dataframe\">\n",
       "  <thead>\n",
       "    <tr style=\"text-align: right;\">\n",
       "      <th></th>\n",
       "      <th>ID</th>\n",
       "      <th>name</th>\n",
       "      <th>Leaf_Node</th>\n",
       "      <th>priceCurrency</th>\n",
       "      <th>price</th>\n",
       "      <th>brand</th>\n",
       "      <th>itemCondition</th>\n",
       "      <th>availability</th>\n",
       "      <th>Description</th>\n",
       "      <th>image</th>\n",
       "      <th>gtin12</th>\n",
       "      <th>gtin13</th>\n",
       "      <th>gtin14</th>\n",
       "      <th>gtin8</th>\n",
       "      <th>ratingValue</th>\n",
       "      <th>bestRating</th>\n",
       "      <th>reviewCount</th>\n",
       "      <th>Unnamed: 17</th>\n",
       "      <th>Good Examples</th>\n",
       "    </tr>\n",
       "  </thead>\n",
       "  <tbody>\n",
       "    <tr>\n",
       "      <th>0</th>\n",
       "      <td>jessops-f2dd233dd6100c900432fd2902df8cde</td>\n",
       "      <td>Nikon Coolpix P900 Digital Camera</td>\n",
       "      <td>Bridge Cameras</td>\n",
       "      <td>GBP</td>\n",
       "      <td>479</td>\n",
       "      <td>Nikon</td>\n",
       "      <td>NaN</td>\n",
       "      <td>True</td>\n",
       "      <td>NaN</td>\n",
       "      <td>https://i.jessops.com/images/home/homepage/100...</td>\n",
       "      <td>NaN</td>\n",
       "      <td>NaN</td>\n",
       "      <td>NaN</td>\n",
       "      <td>2018-09-08</td>\n",
       "      <td>10</td>\n",
       "      <td>162.0</td>\n",
       "      <td>NaN</td>\n",
       "      <td>NaN</td>\n",
       "      <td>NaN</td>\n",
       "    </tr>\n",
       "    <tr>\n",
       "      <th>1</th>\n",
       "      <td>jessops-ff2be7ba459709194635812c728a17fd</td>\n",
       "      <td>Canon EOS 750D Digital SLR with 18-55mm IS STM...</td>\n",
       "      <td>DSLR</td>\n",
       "      <td>GBP</td>\n",
       "      <td>539</td>\n",
       "      <td>Canon</td>\n",
       "      <td>NaN</td>\n",
       "      <td>True</td>\n",
       "      <td>NaN</td>\n",
       "      <td>https://i.jessops.com/images/home/homepage/100...</td>\n",
       "      <td>NaN</td>\n",
       "      <td>NaN</td>\n",
       "      <td>NaN</td>\n",
       "      <td>2018-02-09</td>\n",
       "      <td>10</td>\n",
       "      <td>361.0</td>\n",
       "      <td>NaN</td>\n",
       "      <td>NaN</td>\n",
       "      <td>NaN</td>\n",
       "    </tr>\n",
       "    <tr>\n",
       "      <th>2</th>\n",
       "      <td>jessops-acfa4e6fdc0962be2da5bc1ed8d44357</td>\n",
       "      <td>Canon EOS 5D Mark IV Digital SLR Body</td>\n",
       "      <td>DSLR</td>\n",
       "      <td>GBP</td>\n",
       "      <td>3249</td>\n",
       "      <td>Canon</td>\n",
       "      <td>NaN</td>\n",
       "      <td>True</td>\n",
       "      <td>NaN</td>\n",
       "      <td>https://i.jessops.com/images/home/homepage/100...</td>\n",
       "      <td>NaN</td>\n",
       "      <td>NaN</td>\n",
       "      <td>NaN</td>\n",
       "      <td>NaT</td>\n",
       "      <td>2018-07-09 00:00:00</td>\n",
       "      <td>10.0</td>\n",
       "      <td>25.0</td>\n",
       "      <td>NaN</td>\n",
       "      <td>NaN</td>\n",
       "    </tr>\n",
       "    <tr>\n",
       "      <th>3</th>\n",
       "      <td>jessops-cabb446087d8428bfa741078869439b8</td>\n",
       "      <td>Canon EOS 7D Mark II Digital SLR Body</td>\n",
       "      <td>DSLR</td>\n",
       "      <td>GBP</td>\n",
       "      <td>1349</td>\n",
       "      <td>Canon</td>\n",
       "      <td>NaN</td>\n",
       "      <td>True</td>\n",
       "      <td>NaN</td>\n",
       "      <td>https://i.jessops.com/images/home/homepage/100...</td>\n",
       "      <td>NaN</td>\n",
       "      <td>NaN</td>\n",
       "      <td>NaN</td>\n",
       "      <td>NaT</td>\n",
       "      <td>2018-04-09 00:00:00</td>\n",
       "      <td>10.0</td>\n",
       "      <td>268.0</td>\n",
       "      <td>NaN</td>\n",
       "      <td>NaN</td>\n",
       "    </tr>\n",
       "    <tr>\n",
       "      <th>4</th>\n",
       "      <td>jessops-8c6e0672aa9297ee8ff4d95fa5e2edc0</td>\n",
       "      <td>Sony A6000 Mirrorless Camera in Black with 16-...</td>\n",
       "      <td>Full Frame Mirrorless Camera</td>\n",
       "      <td>GBP</td>\n",
       "      <td>449</td>\n",
       "      <td>Sony</td>\n",
       "      <td>NaN</td>\n",
       "      <td>True</td>\n",
       "      <td>NaN</td>\n",
       "      <td>https://i.jessops.com/images/home/homepage/100...</td>\n",
       "      <td>NaN</td>\n",
       "      <td>NaN</td>\n",
       "      <td>NaN</td>\n",
       "      <td>NaT</td>\n",
       "      <td>9.0</td>\n",
       "      <td>10.0</td>\n",
       "      <td>107.0</td>\n",
       "      <td>NaN</td>\n",
       "      <td>NaN</td>\n",
       "    </tr>\n",
       "  </tbody>\n",
       "</table>\n",
       "</div>"
      ],
      "text/plain": [
       "                                         ID  \\\n",
       "0  jessops-f2dd233dd6100c900432fd2902df8cde   \n",
       "1  jessops-ff2be7ba459709194635812c728a17fd   \n",
       "2  jessops-acfa4e6fdc0962be2da5bc1ed8d44357   \n",
       "3  jessops-cabb446087d8428bfa741078869439b8   \n",
       "4  jessops-8c6e0672aa9297ee8ff4d95fa5e2edc0   \n",
       "\n",
       "                                                name  \\\n",
       "0                  Nikon Coolpix P900 Digital Camera   \n",
       "1  Canon EOS 750D Digital SLR with 18-55mm IS STM...   \n",
       "2              Canon EOS 5D Mark IV Digital SLR Body   \n",
       "3              Canon EOS 7D Mark II Digital SLR Body   \n",
       "4  Sony A6000 Mirrorless Camera in Black with 16-...   \n",
       "\n",
       "                      Leaf_Node priceCurrency price  brand itemCondition  \\\n",
       "0                Bridge Cameras           GBP   479  Nikon           NaN   \n",
       "1                          DSLR           GBP   539  Canon           NaN   \n",
       "2                          DSLR           GBP  3249  Canon           NaN   \n",
       "3                          DSLR           GBP  1349  Canon           NaN   \n",
       "4  Full Frame Mirrorless Camera           GBP   449   Sony           NaN   \n",
       "\n",
       "  availability Description                                              image  \\\n",
       "0         True         NaN  https://i.jessops.com/images/home/homepage/100...   \n",
       "1         True         NaN  https://i.jessops.com/images/home/homepage/100...   \n",
       "2         True         NaN  https://i.jessops.com/images/home/homepage/100...   \n",
       "3         True         NaN  https://i.jessops.com/images/home/homepage/100...   \n",
       "4         True         NaN  https://i.jessops.com/images/home/homepage/100...   \n",
       "\n",
       "  gtin12  gtin13  gtin14      gtin8          ratingValue  bestRating  \\\n",
       "0    NaN     NaN     NaN 2018-09-08                   10       162.0   \n",
       "1    NaN     NaN     NaN 2018-02-09                   10       361.0   \n",
       "2    NaN     NaN     NaN        NaT  2018-07-09 00:00:00        10.0   \n",
       "3    NaN     NaN     NaN        NaT  2018-04-09 00:00:00        10.0   \n",
       "4    NaN     NaN     NaN        NaT                  9.0        10.0   \n",
       "\n",
       "   reviewCount  Unnamed: 17 Good Examples  \n",
       "0          NaN          NaN           NaN  \n",
       "1          NaN          NaN           NaN  \n",
       "2         25.0          NaN           NaN  \n",
       "3        268.0          NaN           NaN  \n",
       "4        107.0          NaN           NaN  "
      ]
     },
     "execution_count": 7,
     "metadata": {},
     "output_type": "execute_result"
    }
   ],
   "source": [
    "df.head()"
   ]
  },
  {
   "cell_type": "code",
   "execution_count": null,
   "metadata": {},
   "outputs": [
    {
     "data": {
      "text/plain": [
       "(418, 19)"
      ]
     },
     "execution_count": 8,
     "metadata": {},
     "output_type": "execute_result"
    }
   ],
   "source": [
    "df.shape"
   ]
  },
  {
   "cell_type": "code",
   "execution_count": null,
   "metadata": {},
   "outputs": [],
   "source": [
    "df.ID.nunique()"
   ]
  },
  {
   "cell_type": "code",
   "execution_count": null,
   "metadata": {
    "collapsed": true
   },
   "outputs": [],
   "source": [
    "#IN (1, 3, 99)\n",
    "\n",
    "\n",
    "q = \"\"\"\n",
    "SELECT DISTINCT *, (CASE WHEN Leaf_Node IN ('360 Degree Cameras','Common Use Video Cameras','Non 360 Degree Cameras',\n",
    "'Professional Video Cameras','Drone') THEN 'Cam Corders' WHEN Leaf_Node IN ('Not Camera') THEN 'Not Camera' ELSE 'Photo Devices' END) AS parent_node_1, \n",
    "(CASE WHEN Leaf_Node IN ('360 Degree Cameras','Non 360 Degree Cameras','Drone') THEN 'Action Cameras' \n",
    "WHEN Leaf_Node IN ('Bridge Cameras','Digital Compact Cameras','Instant') THEN 'Point & Shoot Cameras' \n",
    "WHEN Leaf_Node IN ('Common Use Video Cameras','Professional Video Cameras') THEN 'Traditional Video Cameras' \n",
    "WHEN Leaf_Node IN ('DSLR') THEN 'DSLR' \n",
    "WHEN Leaf_Node IN ('Not Camera') THEN 'Not Camera'\n",
    "WHEN Leaf_Node IN ('Full Frame Mirrorless Camera','NonFullFrameMirrorlessCamera') THEN 'Mirrorless Cameras' \n",
    "ELSE 'NO CATEGORY'\n",
    "END) AS parent_node_2\n",
    "FROM df\n",
    "\"\"\"\n",
    "df = pysqldf(q)"
   ]
  },
  {
   "cell_type": "code",
   "execution_count": null,
   "metadata": {},
   "outputs": [],
   "source": [
    "df.shape"
   ]
  },
  {
   "cell_type": "code",
   "execution_count": null,
   "metadata": {},
   "outputs": [],
   "source": [
    "df.Leaf_Node.unique()"
   ]
  },
  {
   "cell_type": "code",
   "execution_count": null,
   "metadata": {},
   "outputs": [],
   "source": [
    "df.head()"
   ]
  },
  {
   "cell_type": "code",
   "execution_count": null,
   "metadata": {},
   "outputs": [],
   "source": [
    "#IN (1, 3, 99)\n",
    "\n",
    "\n",
    "q = \"\"\"\n",
    "SELECT DISTINCT parent_node_1,parent_node_2,Leaf_Node, COUNT(ID)\n",
    "FROM df\n",
    "GROUP BY parent_node_1,parent_node_2,Leaf_Node\n",
    "\"\"\"\n",
    "a = pysqldf(q)\n",
    "a"
   ]
  },
  {
   "cell_type": "code",
   "execution_count": null,
   "metadata": {},
   "outputs": [],
   "source": [
    "df.shape"
   ]
  },
  {
   "cell_type": "code",
   "execution_count": null,
   "metadata": {
    "collapsed": true
   },
   "outputs": [],
   "source": [
    "from sklearn.feature_extraction.text import CountVectorizer"
   ]
  },
  {
   "cell_type": "code",
   "execution_count": null,
   "metadata": {
    "collapsed": true
   },
   "outputs": [],
   "source": [
    "corpus=df['name']"
   ]
  },
  {
   "cell_type": "code",
   "execution_count": null,
   "metadata": {},
   "outputs": [],
   "source": [
    "corpus.head()"
   ]
  },
  {
   "cell_type": "code",
   "execution_count": null,
   "metadata": {
    "collapsed": true
   },
   "outputs": [],
   "source": [
    "vectorizer = CountVectorizer()"
   ]
  },
  {
   "cell_type": "code",
   "execution_count": null,
   "metadata": {},
   "outputs": [],
   "source": [
    "vectorizer"
   ]
  },
  {
   "cell_type": "code",
   "execution_count": null,
   "metadata": {
    "collapsed": true
   },
   "outputs": [],
   "source": [
    "matrix=vectorizer.fit_transform(corpus).todense()"
   ]
  },
  {
   "cell_type": "code",
   "execution_count": null,
   "metadata": {},
   "outputs": [],
   "source": [
    "matrix.shape #291 columns, 121 rows"
   ]
  },
  {
   "cell_type": "code",
   "execution_count": null,
   "metadata": {
    "collapsed": true
   },
   "outputs": [],
   "source": [
    "vocab=vectorizer.vocabulary_ "
   ]
  },
  {
   "cell_type": "code",
   "execution_count": null,
   "metadata": {},
   "outputs": [],
   "source": [
    "len(vocab)"
   ]
  },
  {
   "cell_type": "code",
   "execution_count": null,
   "metadata": {
    "collapsed": true
   },
   "outputs": [],
   "source": [
    "bags_words=pd.DataFrame(matrix, columns=vocab)"
   ]
  },
  {
   "cell_type": "code",
   "execution_count": null,
   "metadata": {
    "collapsed": true
   },
   "outputs": [],
   "source": [
    "bags_words['ID']=df['ID']\n",
    "bags_words['Parent_node_1']=df['parent_node_1']\n",
    "bags_words['Parent_node_2']=df['parent_node_2']\n",
    "bags_words['Leaf_Node']=df['Leaf_Node']"
   ]
  },
  {
   "cell_type": "code",
   "execution_count": null,
   "metadata": {},
   "outputs": [],
   "source": [
    "bags_words.head()"
   ]
  },
  {
   "cell_type": "code",
   "execution_count": null,
   "metadata": {},
   "outputs": [],
   "source": [
    "bags_words.shape"
   ]
  },
  {
   "cell_type": "code",
   "execution_count": null,
   "metadata": {},
   "outputs": [],
   "source": [
    "bags_words.Parent_node_1.unique()"
   ]
  },
  {
   "cell_type": "code",
   "execution_count": null,
   "metadata": {},
   "outputs": [],
   "source": [
    "bags_words.Parent_node_2.unique()"
   ]
  },
  {
   "cell_type": "code",
   "execution_count": null,
   "metadata": {},
   "outputs": [],
   "source": [
    "bags_words.shape"
   ]
  },
  {
   "cell_type": "markdown",
   "metadata": {},
   "source": [
    "# Modeling"
   ]
  },
  {
   "cell_type": "code",
   "execution_count": null,
   "metadata": {
    "collapsed": true
   },
   "outputs": [],
   "source": [
    "from sklearn.metrics import confusion_matrix\n",
    "from sklearn.utils.multiclass import unique_labels\n",
    "from sklearn.metrics import confusion_matrix\n",
    "from sklearn.metrics import classification_report\n",
    "from sklearn.metrics import accuracy_score\n",
    "from sklearn.metrics import log_loss\n",
    "from sklearn.metrics import roc_auc_score\n",
    "\n",
    "def confusion_matrix_report(y_true, y_pred):\n",
    "    cm, labels = confusion_matrix(y_true, y_pred), unique_labels(y_true, y_pred)\n",
    "    column_width = max([len(str(x)) for x in labels] + [5])  # 5 is value length\n",
    "    report = \" \" * column_width + \" \" + \"{:_^{}}\".format(\"Prediction\", column_width * len(labels))+ \"\\n\"\n",
    "    report += \" \" * column_width + \" \".join([\"{:>{}}\".format(label, column_width) for label in labels]) + \"\\n\"\n",
    "    for i, label1 in enumerate(labels):\n",
    "        report += \"{:>{}}\".format(label1, column_width) + \" \".join([\"{:{}d}\".format(cm[i, j], column_width) for j in range(len(labels))]) + \"\\n\"\n",
    "    return report\n",
    "    \n",
    "def analytics(y_true, y_pred):#target of the test data #predictions as 0,1 #model (knnclassifier) #data_test\n",
    "    print(\"Confusion Matrix:\")\n",
    "    print(confusion_matrix_report(y_true, y_pred))\n",
    "    print(\"Accuracy Score:\")\n",
    "    print(accuracy_score(y_true, y_pred))\n",
    "    print()\n",
    "    print(\"Classification Report:\")\n",
    "    print(classification_report(y_true, y_pred))\n",
    "    #print(\"AUC Score:\")\n",
    "    #print(AUC(target_test, model, data_test))"
   ]
  },
  {
   "cell_type": "markdown",
   "metadata": {},
   "source": [
    "## 1. Modeling with only Bags of Words:"
   ]
  },
  {
   "cell_type": "markdown",
   "metadata": {},
   "source": [
    "# Modeling with Logistic Regression with F Classification"
   ]
  },
  {
   "cell_type": "markdown",
   "metadata": {},
   "source": [
    "### Level 1"
   ]
  },
  {
   "cell_type": "code",
   "execution_count": null,
   "metadata": {
    "collapsed": true
   },
   "outputs": [],
   "source": [
    "df_model=df[['ID','priceCurrency','price','brand']]\n",
    "brand_dummies=pd.get_dummies(df_model['brand'])\n",
    "pricecur_dummies=pd.get_dummies(df_model['priceCurrency'])\n",
    "df_model=pd.concat([df_model,brand_dummies,pricecur_dummies],axis=1) #pd.concat([df1, df4], axis=1\n",
    "bags=bags_words.copy()\n",
    "model2=df_model.merge(bags,on='ID',how='inner')\n",
    "model2=model2.drop(['priceCurrency','brand'],axis=1)\n",
    "a=model2['price'].str.split(',', 1, expand=True)\n",
    "a=a.drop([206])\n",
    "a=a.astype(float)\n",
    "model2['price']=a[0]\n",
    "median(model2['price'].dropna())\n",
    "# filling missing values with median\n",
    "model2['price']=model2['price'].fillna(548)"
   ]
  },
  {
   "cell_type": "code",
   "execution_count": null,
   "metadata": {},
   "outputs": [],
   "source": [
    "df2_all_n=model2.drop(['ID','Parent_node_1','Parent_node_2','Leaf_Node','price'],axis=1)\n",
    "from sklearn.feature_extraction.text import TfidfTransformer\n",
    "tfidf_transformer = TfidfTransformer()\n",
    "X_train_tfidf2 = tfidf_transformer.fit_transform(df2_all_n)\n",
    "X_train_tfidf2.shape"
   ]
  },
  {
   "cell_type": "code",
   "execution_count": null,
   "metadata": {
    "collapsed": true
   },
   "outputs": [],
   "source": [
    "matrix_tf1=X_train_tfidf2.toarray()\n",
    "c=list(df2_all_n.columns)\n",
    "merged_last = pd.DataFrame(matrix_tf1,columns=c)\n",
    "merged_last['ID']=model2['ID']\n",
    "merged_last['Parent_node_1']=model2['Parent_node_1']\n",
    "merged_last['Parent_node_2']=model2['Parent_node_2']\n",
    "merged_last['Leaf_Node']=model2['Leaf_Node']\n",
    "merged_last['price']=model2['price']"
   ]
  },
  {
   "cell_type": "code",
   "execution_count": null,
   "metadata": {
    "collapsed": true
   },
   "outputs": [],
   "source": [
    "from sklearn.metrics import confusion_matrix\n",
    "from sklearn.utils.multiclass import unique_labels\n",
    "from sklearn.metrics import confusion_matrix\n",
    "from sklearn.metrics import classification_report\n",
    "from sklearn.metrics import accuracy_score\n",
    "from sklearn.metrics import log_loss\n",
    "from sklearn.metrics import roc_auc_score\n",
    "\n",
    "def confusion_matrix_report(y_true, y_pred):\n",
    "    cm, labels = confusion_matrix(y_true, y_pred), unique_labels(y_true, y_pred)\n",
    "    column_width = max([len(str(x)) for x in labels] + [5])  # 5 is value length\n",
    "    report = \" \" * column_width + \" \" + \"{:_^{}}\".format(\"Prediction\", column_width * len(labels))+ \"\\n\"\n",
    "    report += \" \" * column_width + \" \".join([\"{:>{}}\".format(label, column_width) for label in labels]) + \"\\n\"\n",
    "    for i, label1 in enumerate(labels):\n",
    "        report += \"{:>{}}\".format(label1, column_width) + \" \".join([\"{:{}d}\".format(cm[i, j], column_width) for j in range(len(labels))]) + \"\\n\"\n",
    "    return report\n",
    "    \n",
    "def analytics(y_true, y_pred):#target of the test data #predictions as 0,1 #model (knnclassifier) #data_test\n",
    "    print(\"Confusion Matrix:\")\n",
    "    print(confusion_matrix_report(y_true, y_pred))\n",
    "    print(\"Accuracy Score:\")\n",
    "    print(accuracy_score(y_true, y_pred))\n",
    "    print()\n",
    "    print(\"Classification Report:\")\n",
    "    print(classification_report(y_true, y_pred))\n",
    "    #print(\"AUC Score:\")\n",
    "    #print(AUC(target_test, model, data_test))"
   ]
  },
  {
   "cell_type": "markdown",
   "metadata": {},
   "source": [
    "### Level 1"
   ]
  },
  {
   "cell_type": "code",
   "execution_count": null,
   "metadata": {
    "collapsed": true
   },
   "outputs": [],
   "source": [
    "from sklearn import linear_model, datasets\n",
    "from sklearn.model_selection import GridSearchCV"
   ]
  },
  {
   "cell_type": "code",
   "execution_count": null,
   "metadata": {
    "collapsed": true
   },
   "outputs": [],
   "source": [
    "X_level1=merged_last.drop(['ID','Parent_node_1','Parent_node_2','Leaf_Node'],axis=1)\n",
    "y_level1=merged_last['Parent_node_1']"
   ]
  },
  {
   "cell_type": "code",
   "execution_count": null,
   "metadata": {},
   "outputs": [],
   "source": [
    "X_level1.head()"
   ]
  },
  {
   "cell_type": "code",
   "execution_count": null,
   "metadata": {},
   "outputs": [],
   "source": [
    "X_level1.shape"
   ]
  },
  {
   "cell_type": "code",
   "execution_count": null,
   "metadata": {
    "collapsed": true
   },
   "outputs": [],
   "source": [
    "import pandas as pd\n",
    "from sklearn.preprocessing import StandardScaler\n",
    "from sklearn.preprocessing import RobustScaler\n",
    "from sklearn.decomposition import PCA\n",
    "from sklearn.model_selection import train_test_split\n",
    "from sklearn.feature_selection import SelectKBest\n",
    "from sklearn.feature_selection import chi2, f_classif, mutual_info_classif\n",
    "import numpy as np # linear algebra\n",
    "import matplotlib.pyplot as plt\n",
    "import seaborn as sbn\n",
    "import math"
   ]
  },
  {
   "cell_type": "code",
   "execution_count": null,
   "metadata": {},
   "outputs": [],
   "source": [
    "from sklearn import linear_model, datasets\n",
    "from sklearn.model_selection import GridSearchCV\n",
    "param_grid = {'C': [0.001, 0.01, 0.1, 1, 10, 100, 1000],\n",
    "              \"penalty\": ['l2', 'l1']}\n",
    "clf = GridSearchCV(linear_model.LogisticRegression(), param_grid, cv=5)\n",
    "clf.fit(X_level1, y_level1)\n",
    "print(clf.best_params_)"
   ]
  },
  {
   "cell_type": "code",
   "execution_count": null,
   "metadata": {
    "collapsed": true
   },
   "outputs": [],
   "source": [
    "from sklearn.model_selection import StratifiedKFold\n",
    "from sklearn.model_selection import cross_val_score\n",
    "from sklearn.model_selection import cross_val_predict\n",
    "\n",
    "cv = StratifiedKFold(n_splits=5, shuffle=True, random_state=42)\n",
    "logreg = linear_model.LogisticRegression(penalty= 'l2', C= 100)\n",
    "target_prediction = cross_val_predict(logreg, X_level1, y_level1, cv=cv)"
   ]
  },
  {
   "cell_type": "code",
   "execution_count": null,
   "metadata": {},
   "outputs": [],
   "source": [
    "analytics(y_level1,target_prediction) #real value vs. predicted values"
   ]
  },
  {
   "cell_type": "code",
   "execution_count": null,
   "metadata": {
    "collapsed": true
   },
   "outputs": [],
   "source": [
    "merged_last['prediction_level1']=target_prediction"
   ]
  },
  {
   "cell_type": "markdown",
   "metadata": {},
   "source": [
    "### Level 2"
   ]
  },
  {
   "cell_type": "markdown",
   "metadata": {},
   "source": [
    "#### Camcorders"
   ]
  },
  {
   "cell_type": "code",
   "execution_count": null,
   "metadata": {
    "collapsed": true
   },
   "outputs": [],
   "source": [
    "level2_train=merged_last[merged_last['Parent_node_1']=='Cam Corders'] #this includes wrongly assigned instances"
   ]
  },
  {
   "cell_type": "code",
   "execution_count": null,
   "metadata": {
    "collapsed": true
   },
   "outputs": [],
   "source": [
    "X_level2=level2_train.drop(['ID','Parent_node_1','Parent_node_2','Leaf_Node','prediction_level1'],axis=1)\n",
    "y_level2=level2_train['Parent_node_2']"
   ]
  },
  {
   "cell_type": "code",
   "execution_count": null,
   "metadata": {},
   "outputs": [],
   "source": [
    "param_grid = {'C': [0.001, 0.01, 0.1, 1, 10, 100, 1000],\n",
    "              \"penalty\": ['l2', 'l1']}\n",
    "clf = GridSearchCV(linear_model.LogisticRegression(), param_grid, cv=5)\n",
    "clf.fit(X_level2, y_level2)\n",
    "print(clf.best_params_)"
   ]
  },
  {
   "cell_type": "code",
   "execution_count": null,
   "metadata": {
    "collapsed": true
   },
   "outputs": [],
   "source": [
    "cv = StratifiedKFold(n_splits=5, shuffle=True, random_state=42)\n",
    "logreg = linear_model.LogisticRegression(penalty= 'l1', C= 1000)\n",
    "target_prediction = cross_val_predict(logreg, X_level2, y_level2, cv=cv)"
   ]
  },
  {
   "cell_type": "code",
   "execution_count": null,
   "metadata": {},
   "outputs": [],
   "source": [
    "analytics(y_level2,target_prediction) #real value vs. predicted values"
   ]
  },
  {
   "cell_type": "code",
   "execution_count": null,
   "metadata": {},
   "outputs": [],
   "source": [
    "level2_train['prediction_level2']=target_prediction"
   ]
  },
  {
   "cell_type": "markdown",
   "metadata": {},
   "source": [
    "##### 1. Traditional Video Cameras"
   ]
  },
  {
   "cell_type": "code",
   "execution_count": null,
   "metadata": {
    "collapsed": true
   },
   "outputs": [],
   "source": [
    "#prediction_level2_camcorders\n",
    "level3_train=level2_train[level2_train['Parent_node_2']=='Traditional Video Cameras']"
   ]
  },
  {
   "cell_type": "code",
   "execution_count": null,
   "metadata": {
    "collapsed": true
   },
   "outputs": [],
   "source": [
    "X_level3=level3_train.drop(['ID','Parent_node_1','Parent_node_2','Leaf_Node','prediction_level1','prediction_level2'],axis=1)\n",
    "y_level3=level3_train['Leaf_Node']"
   ]
  },
  {
   "cell_type": "code",
   "execution_count": null,
   "metadata": {},
   "outputs": [],
   "source": [
    "param_grid = {'C': [0.001, 0.01, 0.1, 1, 10, 100, 1000],\n",
    "              \"penalty\": ['l2', 'l1']}\n",
    "clf = GridSearchCV(linear_model.LogisticRegression(), param_grid, cv=5)\n",
    "clf.fit(X_level3, y_level3)\n",
    "print(clf.best_params_)"
   ]
  },
  {
   "cell_type": "code",
   "execution_count": null,
   "metadata": {
    "collapsed": true
   },
   "outputs": [],
   "source": [
    "cv = StratifiedKFold(n_splits=5, shuffle=True, random_state=42)\n",
    "logreg = linear_model.LogisticRegression(penalty= 'l1', C= 1000)\n",
    "target_prediction = cross_val_predict(logreg, X_level3, y_level3, cv=cv)"
   ]
  },
  {
   "cell_type": "code",
   "execution_count": null,
   "metadata": {},
   "outputs": [],
   "source": [
    "analytics(y_level3,target_prediction) #analytics(y_level2,target_prediction) #real value vs. predicted values"
   ]
  },
  {
   "cell_type": "code",
   "execution_count": null,
   "metadata": {},
   "outputs": [],
   "source": [
    "level3_train['prediction_level3']=target_prediction"
   ]
  },
  {
   "cell_type": "markdown",
   "metadata": {},
   "source": [
    "##### 2. Action Video Cameras"
   ]
  },
  {
   "cell_type": "code",
   "execution_count": null,
   "metadata": {
    "collapsed": true
   },
   "outputs": [],
   "source": [
    "#prediction_level2_camcorders\n",
    "level3_train_actioncameras=level2_train[level2_train['Parent_node_2']=='Action Cameras']"
   ]
  },
  {
   "cell_type": "code",
   "execution_count": null,
   "metadata": {},
   "outputs": [],
   "source": [
    "level3_train_actioncameras.head()"
   ]
  },
  {
   "cell_type": "code",
   "execution_count": null,
   "metadata": {
    "collapsed": true
   },
   "outputs": [],
   "source": [
    "X_level3_ac=level3_train_actioncameras.drop(['ID','Parent_node_1','Parent_node_2','Leaf_Node','prediction_level1','prediction_level2'],axis=1)\n",
    "y_level3_ac=level3_train_actioncameras['Leaf_Node']"
   ]
  },
  {
   "cell_type": "code",
   "execution_count": null,
   "metadata": {},
   "outputs": [],
   "source": [
    "param_grid = {'C': [0.001, 0.01, 0.1, 1, 10, 100, 1000],\n",
    "              \"penalty\": ['l2', 'l1']}\n",
    "clf = GridSearchCV(linear_model.LogisticRegression(), param_grid, cv=5)\n",
    "clf.fit(X_level3_ac, y_level3_ac)\n",
    "print(clf.best_params_)"
   ]
  },
  {
   "cell_type": "code",
   "execution_count": null,
   "metadata": {
    "collapsed": true
   },
   "outputs": [],
   "source": [
    "cv = StratifiedKFold(n_splits=5, shuffle=True, random_state=42)\n",
    "logreg = linear_model.LogisticRegression(penalty= 'l1', C= 10)\n",
    "target_prediction = cross_val_predict(logreg, X_level3_ac, y_level3_ac, cv=cv)"
   ]
  },
  {
   "cell_type": "code",
   "execution_count": null,
   "metadata": {},
   "outputs": [],
   "source": [
    "analytics(y_level3_ac,target_prediction)"
   ]
  },
  {
   "cell_type": "code",
   "execution_count": null,
   "metadata": {},
   "outputs": [],
   "source": [
    "level3_train_actioncameras['prediction_level3']=target_prediction"
   ]
  },
  {
   "cell_type": "markdown",
   "metadata": {},
   "source": [
    "### Cameras"
   ]
  },
  {
   "cell_type": "code",
   "execution_count": null,
   "metadata": {
    "collapsed": true
   },
   "outputs": [],
   "source": [
    "level2_train_cam=merged_last[merged_last['Parent_node_1']=='Photo Devices']"
   ]
  },
  {
   "cell_type": "code",
   "execution_count": null,
   "metadata": {},
   "outputs": [],
   "source": [
    "level2_train_cam.head()"
   ]
  },
  {
   "cell_type": "code",
   "execution_count": null,
   "metadata": {
    "collapsed": true
   },
   "outputs": [],
   "source": [
    "X_level2_cam=level2_train_cam.drop(['ID','Parent_node_1','Parent_node_2','Leaf_Node','prediction_level1'],axis=1)\n",
    "y_level2_cam=level2_train_cam['Parent_node_2']"
   ]
  },
  {
   "cell_type": "code",
   "execution_count": null,
   "metadata": {},
   "outputs": [],
   "source": [
    "param_grid = {'C': [0.001, 0.01, 0.1, 1, 10, 100, 1000],\n",
    "              \"penalty\": ['l2', 'l1']}\n",
    "clf = GridSearchCV(linear_model.LogisticRegression(), param_grid, cv=5)\n",
    "clf.fit(X_level2_cam, y_level2_cam)\n",
    "print(clf.best_params_)"
   ]
  },
  {
   "cell_type": "code",
   "execution_count": null,
   "metadata": {
    "collapsed": true
   },
   "outputs": [],
   "source": [
    "cv = StratifiedKFold(n_splits=5, shuffle=True, random_state=42)\n",
    "logreg = linear_model.LogisticRegression(penalty= 'l2', C= 100)\n",
    "target_prediction = cross_val_predict(logreg, X_level2_cam, y_level2_cam, cv=cv)"
   ]
  },
  {
   "cell_type": "code",
   "execution_count": null,
   "metadata": {},
   "outputs": [],
   "source": [
    "analytics(y_level2_cam,target_prediction)"
   ]
  },
  {
   "cell_type": "code",
   "execution_count": null,
   "metadata": {},
   "outputs": [],
   "source": [
    "level2_train_cam['prediction_level2']=target_prediction"
   ]
  },
  {
   "cell_type": "markdown",
   "metadata": {},
   "source": [
    "#### 1. Point & Shoot Cameras"
   ]
  },
  {
   "cell_type": "code",
   "execution_count": null,
   "metadata": {
    "collapsed": true
   },
   "outputs": [],
   "source": [
    "#prediction_level2_camcorders\n",
    "level3_train_pocam=level2_train_cam[level2_train_cam['Parent_node_2']=='Point & Shoot Cameras']"
   ]
  },
  {
   "cell_type": "code",
   "execution_count": null,
   "metadata": {
    "collapsed": true
   },
   "outputs": [],
   "source": [
    "X_level3_po=level3_train_pocam.drop(['ID','Parent_node_1','Parent_node_2','Leaf_Node','prediction_level1','prediction_level2'],axis=1)\n",
    "y_level3_po=level3_train_pocam['Leaf_Node']"
   ]
  },
  {
   "cell_type": "code",
   "execution_count": null,
   "metadata": {},
   "outputs": [],
   "source": [
    "param_grid = {'C': [0.001, 0.01, 0.1, 1, 10, 100, 1000],\n",
    "              \"penalty\": ['l2', 'l1']}\n",
    "clf = GridSearchCV(linear_model.LogisticRegression(), param_grid, cv=5)\n",
    "clf.fit(X_level3_po, y_level3_po)\n",
    "print(clf.best_params_)"
   ]
  },
  {
   "cell_type": "code",
   "execution_count": null,
   "metadata": {
    "collapsed": true
   },
   "outputs": [],
   "source": [
    "cv = StratifiedKFold(n_splits=5, shuffle=True, random_state=42)\n",
    "logreg = linear_model.LogisticRegression(penalty= 'l1', C= 1)\n",
    "target_prediction = cross_val_predict(logreg, X_level3_po, y_level3_po, cv=cv)"
   ]
  },
  {
   "cell_type": "code",
   "execution_count": null,
   "metadata": {},
   "outputs": [],
   "source": [
    "analytics(y_level3_po,target_prediction)"
   ]
  },
  {
   "cell_type": "code",
   "execution_count": null,
   "metadata": {},
   "outputs": [],
   "source": [
    "level3_train_pocam['prediction_level3']=target_prediction"
   ]
  },
  {
   "cell_type": "markdown",
   "metadata": {},
   "source": [
    "#### 2. Mirrorless Cameras"
   ]
  },
  {
   "cell_type": "code",
   "execution_count": null,
   "metadata": {
    "collapsed": true
   },
   "outputs": [],
   "source": [
    "#prediction_level2_camcorders\n",
    "level3_train_miror=level2_train_cam[level2_train_cam['Parent_node_2']=='Mirrorless Cameras']"
   ]
  },
  {
   "cell_type": "code",
   "execution_count": null,
   "metadata": {
    "collapsed": true
   },
   "outputs": [],
   "source": [
    "X_level3_mi=level3_train_miror.drop(['ID','Parent_node_1','Parent_node_2','Leaf_Node','prediction_level1','prediction_level2'],axis=1)\n",
    "y_level3_mi=level3_train_miror['Leaf_Node']"
   ]
  },
  {
   "cell_type": "code",
   "execution_count": null,
   "metadata": {},
   "outputs": [],
   "source": [
    "param_grid = {'C': [0.001, 0.01, 0.1, 1, 10, 100, 1000],\n",
    "              \"penalty\": ['l2', 'l1']}\n",
    "clf = GridSearchCV(linear_model.LogisticRegression(), param_grid, cv=5)\n",
    "clf.fit(X_level3_mi, y_level3_mi)\n",
    "print(clf.best_params_)"
   ]
  },
  {
   "cell_type": "code",
   "execution_count": null,
   "metadata": {
    "collapsed": true
   },
   "outputs": [],
   "source": [
    "cv = StratifiedKFold(n_splits=5, shuffle=True, random_state=42)\n",
    "logreg = linear_model.LogisticRegression(penalty= 'l2', C= 10)\n",
    "target_prediction = cross_val_predict(logreg, X_level3_mi, y_level3_mi, cv=cv)"
   ]
  },
  {
   "cell_type": "code",
   "execution_count": null,
   "metadata": {},
   "outputs": [],
   "source": [
    "analytics(y_level3_mi,target_prediction)"
   ]
  },
  {
   "cell_type": "code",
   "execution_count": null,
   "metadata": {},
   "outputs": [],
   "source": [
    "level3_train_miror['prediction_level3']=target_prediction"
   ]
  },
  {
   "cell_type": "markdown",
   "metadata": {},
   "source": [
    "### COMBINING ALL"
   ]
  },
  {
   "cell_type": "code",
   "execution_count": null,
   "metadata": {},
   "outputs": [],
   "source": [
    "level3_dslr=level2_train_cam[level2_train_cam['Parent_node_2']=='DSLR']\n",
    "level3_dslr['prediction_level3']=level3_dslr['prediction_level2']"
   ]
  },
  {
   "cell_type": "code",
   "execution_count": null,
   "metadata": {},
   "outputs": [],
   "source": [
    "level3_nocamera=merged_last[merged_last['Parent_node_1']=='Not Camera']\n",
    "level3_nocamera['prediction_level2']=level3_nocamera['prediction_level1']\n",
    "level3_nocamera['prediction_level3']=level3_nocamera['prediction_level1']"
   ]
  },
  {
   "cell_type": "code",
   "execution_count": null,
   "metadata": {
    "collapsed": true
   },
   "outputs": [],
   "source": [
    "all_concat=pd.concat([level3_dslr,level3_nocamera,level3_train_miror,level3_train_pocam,level3_train_actioncameras,level3_train])"
   ]
  },
  {
   "cell_type": "code",
   "execution_count": null,
   "metadata": {},
   "outputs": [],
   "source": [
    "all_concat.Parent_node_1.unique()"
   ]
  },
  {
   "cell_type": "code",
   "execution_count": null,
   "metadata": {},
   "outputs": [],
   "source": [
    "all_concat.Parent_node_2.unique()"
   ]
  },
  {
   "cell_type": "code",
   "execution_count": null,
   "metadata": {},
   "outputs": [],
   "source": [
    "all_concat.Leaf_Node.unique()"
   ]
  },
  {
   "cell_type": "code",
   "execution_count": null,
   "metadata": {},
   "outputs": [],
   "source": [
    "all_concat.prediction_level1.unique()"
   ]
  },
  {
   "cell_type": "code",
   "execution_count": null,
   "metadata": {},
   "outputs": [],
   "source": [
    "all_concat.prediction_level2.unique()"
   ]
  },
  {
   "cell_type": "code",
   "execution_count": null,
   "metadata": {},
   "outputs": [],
   "source": [
    "all_concat.prediction_level3.unique()"
   ]
  },
  {
   "cell_type": "code",
   "execution_count": null,
   "metadata": {},
   "outputs": [],
   "source": [
    "all_concat.shape"
   ]
  },
  {
   "cell_type": "markdown",
   "metadata": {},
   "source": [
    "### For whole leaf nodes:"
   ]
  },
  {
   "cell_type": "code",
   "execution_count": null,
   "metadata": {},
   "outputs": [],
   "source": [
    "analytics(all_concat['Parent_node_1'],all_concat['prediction_level1'])#y_level3_mi,target_prediction"
   ]
  },
  {
   "cell_type": "code",
   "execution_count": null,
   "metadata": {},
   "outputs": [],
   "source": [
    "analytics(all_concat['Parent_node_2'],all_concat['prediction_level2'])#y_level3_mi,target_prediction"
   ]
  },
  {
   "cell_type": "code",
   "execution_count": null,
   "metadata": {},
   "outputs": [],
   "source": [
    "all_concat.groupby(['Leaf_Node', 'prediction_level3'])['ID'].count()\n"
   ]
  },
  {
   "cell_type": "code",
   "execution_count": null,
   "metadata": {},
   "outputs": [],
   "source": [
    "analytics(all_concat['Leaf_Node'],all_concat['prediction_level3'])#y_level3_mi,target_prediction"
   ]
  }
 ],
 "metadata": {
  "kernelspec": {
   "display_name": "Python 2",
   "language": "python",
   "name": "python2"
  },
  "language_info": {
   "codemirror_mode": {
    "name": "ipython",
    "version": 2
   },
   "file_extension": ".py",
   "mimetype": "text/x-python",
   "name": "python",
   "nbconvert_exporter": "python",
   "pygments_lexer": "ipython2",
   "version": "2.7.14"
  }
 },
 "nbformat": 4,
 "nbformat_minor": 2
}
